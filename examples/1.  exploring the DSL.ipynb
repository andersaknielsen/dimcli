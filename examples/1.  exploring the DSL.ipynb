{
 "cells": [
  {
   "cell_type": "markdown",
   "metadata": {
    "slideshow": {
     "slide_type": "slide"
    }
   },
   "source": [
    "# Exploring The Dimensions  API\n",
    "\n",
    "This Notebook takes you through the basics of using the Dimensions API with Jupyter Notebooks. Complete documentation on the API can be found here:\n",
    "\n",
    "https://docs.dimensions.ai/dsl\n",
    "\n",
    "This example uses a simple python module that handles querying, authentication and rate limiting to the Dimensions API. You can download the module and include it in your notebook directory from here: ...\n"
   ]
  },
  {
   "cell_type": "code",
   "execution_count": 20,
   "metadata": {},
   "outputs": [],
   "source": [
    "import dimcli\n",
    "dsl = dimcli.Dsl(show_results=False)"
   ]
  },
  {
   "cell_type": "markdown",
   "metadata": {},
   "source": [
    "Note: show_results=False is needed cause otherwise jupyter lab prints out the rich snippet for json twice. The default version of jupyter doesn't do that. \n",
    "Worth considering adding a flaf where the user can specify which env is being used, including iPython .."
   ]
  },
  {
   "cell_type": "markdown",
   "metadata": {
    "slideshow": {
     "slide_type": "slide"
    }
   },
   "source": [
    "## The Basics\n",
    "\n",
    "The dslquery function works in just the same way as the dimensions API inteface works in the application. \n",
    "* submit your query\n",
    "* get back json results"
   ]
  },
  {
   "cell_type": "code",
   "execution_count": 6,
   "metadata": {
    "scrolled": true,
    "slideshow": {
     "slide_type": "slide"
    }
   },
   "outputs": [
    {
     "data": {
      "application/json": {
       "_stats": {
        "limit": 1,
        "offset": 0,
        "total_count": 1
       },
       "publications": [
        {
         "FOR": [
          {
           "id": "2921",
           "name": "0912 Materials Engineering"
          }
         ],
         "FOR_first": [
          {
           "id": "2209",
           "name": "09 Engineering"
          }
         ],
         "altmetric": 26,
         "author_affiliations": [
          [
           {
            "affiliations": [
             {
              "city": "Madrid",
              "city_id": 3117735,
              "country": "Spain",
              "country_code": "ES",
              "id": "grid.482876.7",
              "name": "IMDEA Nanoscience",
              "state": null,
              "state_code": null
             }
            ],
            "current_organization_id": "grid.452504.2",
            "first_name": "Ester M.",
            "last_name": "Palmero",
            "orcid": "['0000-0001-8223-3200']",
            "researcher_id": "ur.013741637062.76"
           },
           {
            "affiliations": [
             {
              "city": "Madrid",
              "city_id": 3117735,
              "country": "Spain",
              "country_code": "ES",
              "id": "grid.482876.7",
              "name": "IMDEA Nanoscience",
              "state": null,
              "state_code": null
             }
            ],
            "current_organization_id": "grid.482876.7",
            "first_name": "Javier",
            "last_name": "Rial",
            "orcid": "",
            "researcher_id": "ur.07414614063.30"
           },
           {
            "affiliations": [
             {
              "city": "Madrid",
              "city_id": 3117735,
              "country": "Spain",
              "country_code": "ES",
              "id": "grid.482876.7",
              "name": "IMDEA Nanoscience",
              "state": null,
              "state_code": null
             }
            ],
            "current_organization_id": "grid.482876.7",
            "first_name": "Javier",
            "last_name": "de Vicente",
            "orcid": "",
            "researcher_id": "ur.013235051422.01"
           },
           {
            "affiliations": [
             {
              "city": "Madrid",
              "city_id": 3117735,
              "country": "Spain",
              "country_code": "ES",
              "id": "grid.482876.7",
              "name": "IMDEA Nanoscience",
              "state": null,
              "state_code": null
             }
            ],
            "current_organization_id": "grid.5515.4",
            "first_name": "Julio",
            "last_name": "Camarero",
            "orcid": "['0000-0003-0078-7280']",
            "researcher_id": "ur.01027655236.11"
           },
           {
            "affiliations": [
             {
              "city": "Höganäs",
              "city_id": 2706003,
              "country": "Sweden",
              "country_code": "SE",
              "id": "grid.424709.c",
              "name": "Höganäs (Sweden)",
              "state": null,
              "state_code": null
             }
            ],
            "current_organization_id": "grid.424709.c",
            "first_name": "Björn",
            "last_name": "Skårman",
            "orcid": "",
            "researcher_id": "ur.014623751315.63"
           },
           {
            "affiliations": [
             {
              "city": "Höganäs",
              "city_id": 2706003,
              "country": "Sweden",
              "country_code": "SE",
              "id": "grid.424709.c",
              "name": "Höganäs (Sweden)",
              "state": null,
              "state_code": null
             }
            ],
            "current_organization_id": "grid.424709.c",
            "first_name": "Hilmar",
            "last_name": "Vidarsson",
            "orcid": "",
            "researcher_id": "ur.01156222124.78"
           },
           {
            "affiliations": [
             {
              "city": "Höganäs",
              "city_id": 2706003,
              "country": "Sweden",
              "country_code": "SE",
              "id": "grid.424709.c",
              "name": "Höganäs (Sweden)",
              "state": null,
              "state_code": null
             }
            ],
            "current_organization_id": "grid.8148.5",
            "first_name": "Per-Olof",
            "last_name": "Larsson",
            "orcid": "",
            "researcher_id": "ur.071444746.01"
           },
           {
            "affiliations": [
             {
              "city": "Madrid",
              "city_id": 3117735,
              "country": "Spain",
              "country_code": "ES",
              "id": "grid.482876.7",
              "name": "IMDEA Nanoscience",
              "state": null,
              "state_code": null
             }
            ],
            "current_organization_id": "grid.482876.7",
            "first_name": "Alberto",
            "last_name": "Bollero",
            "orcid": "['0000-0002-3282-0981']",
            "researcher_id": "ur.0763542206.68"
           }
          ]
         ],
         "date": "2018-12-31",
         "date_inserted": "2018-06-01",
         "doi": "10.1080/14686996.2018.1471321",
         "funder_countries": [
          {
           "id": "ES",
           "name": "Spain"
          }
         ],
         "funders": [
          {
           "acronym": "MINECO",
           "country_name": "Spain",
           "id": "grid.451322.3",
           "name": "Ministry of Economy, Industry and Competitiveness"
          },
          {
           "country_name": "Spain",
           "id": "grid.418921.7",
           "name": "Comunidad de Madrid"
          }
         ],
         "id": "pub.1104296509",
         "issn": [
          "1468-6996",
          "1878-5514"
         ],
         "issue": "1",
         "journal": {
          "id": "jour.1048844",
          "title": "Science and Technology of Advanced Materials"
         },
         "journal_lists": [
          "ERA 2015",
          "DOAJ",
          "Norwegian register level 1",
          "PubMed"
         ],
         "linkout": "https://doi.org/10.1080/14686996.2018.1471321",
         "open_access": [
          "Open Access - all",
          "Open Access - publisher",
          "Open Access - published"
         ],
         "open_access_categories": [
          {
           "description": "Article is freely available",
           "id": "oa_all",
           "name": "All OA"
          },
          {
           "description": "Version Of Record (VOR) is free under an open licence from a full OA journal",
           "id": "gold_pure",
           "name": "Pure Gold"
          }
         ],
         "pages": "465-473",
         "pmcid": "PMC5990948",
         "pmid": "29887921",
         "publisher": "Taylor & Francis",
         "recent_citations": 2,
         "references": [
          "pub.1008571100",
          "pub.1053233274",
          "pub.1058365449",
          "pub.1085396124",
          "pub.1084527494",
          "pub.1044100206",
          "pub.1071988007",
          "pub.1030962280",
          "pub.1021120712",
          "pub.1091298697",
          "pub.1038537710",
          "pub.1006536023",
          "pub.1052978629",
          "pub.1059133440",
          "pub.1061291865",
          "pub.1029799271",
          "pub.1046970790",
          "pub.1006096355",
          "pub.1044820020",
          "pub.1003008311",
          "pub.1011594972",
          "pub.1027964092",
          "pub.1016356469",
          "pub.1036044049",
          "pub.1016707234",
          "pub.1084130443",
          "pub.1057938439"
         ],
         "research_org_cities": [
          {
           "id": 2706003,
           "name": "Höganäs"
          },
          {
           "id": 3117735,
           "name": "Madrid"
          }
         ],
         "research_org_countries": [
          {
           "id": "SE",
           "name": "Sweden"
          },
          {
           "id": "ES",
           "name": "Spain"
          }
         ],
         "research_org_country_names": [
          "Spain",
          "Sweden"
         ],
         "research_orgs": [
          {
           "country_name": "Sweden",
           "id": "grid.424709.c",
           "name": "Höganäs (Sweden)"
          },
          {
           "country_name": "Spain",
           "id": "grid.482876.7",
           "name": "IMDEA Nanoscience"
          }
         ],
         "researchers": [
          {
           "first_name": "Ester Maria",
           "id": "ur.013741637062.76",
           "last_name": "Palmero",
           "orcid_id": [
            "0000-0001-8223-3200"
           ],
           "research_orgs": [
            "grid.452504.2",
            "grid.5718.b",
            "grid.4711.3",
            "grid.482876.7"
           ]
          },
          {
           "first_name": "Javier",
           "id": "ur.07414614063.30",
           "last_name": "Rial",
           "research_orgs": [
            "grid.5515.4",
            "grid.482876.7",
            "grid.429045.e"
           ]
          },
          {
           "first_name": "Javier",
           "id": "ur.013235051422.01",
           "last_name": "De Vicente",
           "research_orgs": [
            "grid.482876.7"
           ]
          },
          {
           "first_name": "Julio",
           "id": "ur.01027655236.11",
           "last_name": "Camarero",
           "orcid_id": [
            "0000-0003-0078-7280"
           ],
           "research_orgs": [
            "grid.4444.0",
            "grid.482876.7",
            "grid.5515.4",
            "grid.9621.c",
            "grid.429045.e"
           ]
          },
          {
           "first_name": "Björn",
           "id": "ur.014623751315.63",
           "last_name": "Skårman",
           "research_orgs": [
            "grid.424709.c"
           ]
          },
          {
           "first_name": "Hilmar",
           "id": "ur.01156222124.78",
           "last_name": "Vidarsson",
           "research_orgs": [
            "grid.427935.e",
            "grid.424709.c",
            "grid.8761.8"
           ]
          },
          {
           "first_name": "Per-Olof",
           "id": "ur.071444746.01",
           "last_name": "Larsson",
           "research_orgs": [
            "grid.4514.4",
            "grid.424709.c",
            "grid.8148.5",
            "grid.28803.31"
           ]
          },
          {
           "first_name": "Alberto",
           "id": "ur.0763542206.68",
           "last_name": "Bollero",
           "orcid_id": [
            "0000-0002-3282-0981"
           ],
           "research_orgs": [
            "grid.429045.e",
            "grid.4795.f",
            "grid.5515.4",
            "grid.482876.7",
            "grid.14841.38",
            "grid.464100.7",
            "grid.420019.e",
            "grid.9647.c",
            "grid.457348.9"
           ]
          }
         ],
         "terms": [
          "property",
          "energy",
          "printing",
          "device",
          "transport application",
          "aerospace sector",
          "continuous length",
          "component",
          "related technology",
          "micro electromechanical system",
          "design",
          "scalable",
          "flexible filament",
          "extrusion",
          "ga",
          "route",
          "work",
          "polyethylene",
          "material",
          "precursor",
          "polymer",
          "synthesis",
          "magnetic measurement",
          "fabrication",
          "casting",
          "final device",
          "manufacturing restriction",
          "efficiency",
          "permanent magnet component",
          "magnet",
          "application",
          "compacted magnet",
          "content",
          "homogeneous composite",
          "magnet component",
          "magnet composite",
          "processing technique",
          "manufacturing",
          "electromechanical system",
          "pe material",
          "composite",
          "deterioration",
          "particle",
          "filament extrusion",
          "phase",
          "solution casting",
          "product",
          "composite material",
          "traditional manufacturing",
          "maximum",
          "structure",
          "technological application",
          "functional structure",
          "measurement",
          "spherical particle",
          "matrix",
          "technique",
          "present design",
          "scalable design",
          "technology",
          "length",
          "composite synthesis",
          "shape",
          "different processing technique",
          "system",
          "particle content"
         ],
         "times_cited": 2,
         "title": "Development of permanent magnet MnAlC/polymer composites and flexible filament for bonding and 3D-printing technologies",
         "type": "article",
         "volume": "19",
         "year": 2018
        }
       ]
      },
      "text/plain": [
       "<dimcli.dimensions.Result object>"
      ]
     },
     "execution_count": 6,
     "metadata": {
      "application/json": {
       "expanded": false,
       "root": "root"
      }
     },
     "output_type": "execute_result"
    }
   ],
   "source": [
    "#A Basic Query  \n",
    "\n",
    "dsl.query(\"\"\"\n",
    "     search publications\n",
    "       where id = \"pub.1104296509\"\n",
    "     return publications[all]\n",
    "     limit 1\n",
    "\"\"\")\n"
   ]
  },
  {
   "cell_type": "markdown",
   "metadata": {
    "slideshow": {
     "slide_type": "slide"
    }
   },
   "source": [
    "## The Basics- control the fields you return"
   ]
  },
  {
   "cell_type": "code",
   "execution_count": 7,
   "metadata": {
    "scrolled": true,
    "slideshow": {
     "slide_type": "subslide"
    }
   },
   "outputs": [
    {
     "data": {
      "application/json": {
       "_stats": {
        "limit": 5,
        "offset": 0,
        "total_count": 99628707
       },
       "publications": [
        {
         "id": "pub.1107885938",
         "title": "13 Bioethics as Biopolitics: A Foucauldian Perspective",
         "year": 2019
        },
        {
         "id": "pub.1107885939",
         "title": "14 How Should One Die? Nietzsche’s Contribution to the Issue of Suicide in Medical Ethics",
         "year": 2019
        },
        {
         "id": "pub.1109756029",
         "title": "Contemporary Debates in Bioethics: European Perspectives",
         "year": 2019
        },
        {
         "id": "pub.1110879826",
         "title": "Reflections on a Comparative Perspective Within the United States",
         "year": 2019
        },
        {
         "id": "pub.1110879844",
         "title": "Economic Segregation of Schools Is Key to Discouraging Integration",
         "year": 2019
        }
       ]
      },
      "text/plain": [
       "<dimcli.dimensions.Result object>"
      ]
     },
     "execution_count": 7,
     "metadata": {
      "application/json": {
       "expanded": false,
       "root": "root"
      }
     },
     "output_type": "execute_result"
    }
   ],
   "source": [
    "#A Basic Query - control the fields you return\n",
    "\n",
    "dsl.query(\"\"\"\n",
    "     search publications\n",
    "     return publications[id+title+year]\n",
    "     limit 5\n",
    "\"\"\")"
   ]
  },
  {
   "cell_type": "markdown",
   "metadata": {
    "slideshow": {
     "slide_type": "slide"
    }
   },
   "source": [
    "## The Basics- make a mistake, and the DSL will tell you what fields that you could have used"
   ]
  },
  {
   "cell_type": "code",
   "execution_count": 9,
   "metadata": {
    "scrolled": true,
    "slideshow": {
     "slide_type": "subslide"
    }
   },
   "outputs": [
    {
     "data": {
      "application/json": {
       "errors": {
        "query": {
         "details": [
          "Semantic errors found:\n\tField / Fieldset 'dois' is not present in Source 'publications'. Available fields: FOR,FOR_first,HRCS_HC,HRCS_RAC,RCDC,abstract,altmetric,author_affiliations,book_doi,book_series_title,book_title,date,date_inserted,doi,field_citation_ratio,funder_countries,funders,id,issn,issue,journal,journal_lists,linkout,mesh_terms,open_access,open_access_categories,pages,pmcid,pmid,proceedings_title,publisher,recent_citations,references,relative_citation_ratio,research_org_cities,research_org_countries,research_org_country_names,research_org_state_codes,research_org_state_names,research_orgs,researchers,supporting_grant_ids,terms,times_cited,title,type,volume,year and available fieldsets: all,basics,book,extras"
         ],
         "header": "Semantic Error",
         "query": "\n     search publications \n     return publications[dois]\n     limit 100\n"
        }
       }
      },
      "text/plain": [
       "<dimcli.dimensions.Result object>"
      ]
     },
     "execution_count": 9,
     "metadata": {
      "application/json": {
       "expanded": false,
       "root": "root"
      }
     },
     "output_type": "execute_result"
    }
   ],
   "source": [
    "#Make a mistake, and the DSL will tell you what fields are available\n",
    "\n",
    "dsl.query(\"\"\"\n",
    "     search publications \n",
    "     return publications[dois]\n",
    "     limit 100\n",
    "\"\"\")\n"
   ]
  },
  {
   "cell_type": "code",
   "execution_count": 10,
   "metadata": {
    "scrolled": true,
    "slideshow": {
     "slide_type": "slide"
    }
   },
   "outputs": [
    {
     "data": {
      "application/json": {
       "_stats": {
        "limit": 1,
        "offset": 0,
        "total_count": 99628707
       },
       "publications": [
        {
         "author_affiliations": [
          [
           {
            "affiliations": [],
            "current_organization_id": "grid.5100.4",
            "first_name": "Cristian",
            "last_name": "Iftode",
            "orcid": "['0000-0003-3768-9879']",
            "researcher_id": "ur.011045667027.22"
           }
          ]
         ],
         "book_doi": "10.2478/9783110571219",
         "book_title": "Contemporary Debates in Bioethics: European Perspectives",
         "date": "2019-12-31",
         "date_inserted": "2018-10-29",
         "doi": "10.2478/9783110571219-014",
         "id": "pub.1107885938",
         "open_access_categories": [
          {
           "description": "No freely available copy has been identified",
           "id": "closed",
           "name": "Closed"
          }
         ],
         "pages": "145-159",
         "publisher": "De Gruyter",
         "recent_citations": 0,
         "researchers": [
          {
           "first_name": "Cristian",
           "id": "ur.011045667027.22",
           "last_name": "Iftode",
           "orcid_id": [
            "0000-0003-3768-9879"
           ],
           "research_orgs": [
            "grid.5100.4"
           ]
          }
         ],
         "times_cited": 0,
         "title": "13 Bioethics as Biopolitics: A Foucauldian Perspective",
         "type": "chapter",
         "year": 2019
        }
       ]
      },
      "text/plain": [
       "<dimcli.dimensions.Result object>"
      ]
     },
     "execution_count": 10,
     "metadata": {
      "application/json": {
       "expanded": false,
       "root": "root"
      }
     },
     "output_type": "execute_result"
    }
   ],
   "source": [
    "#A Basic Query - get all fields\n",
    "\n",
    "dsl.query(\"\"\"\n",
    "     search publications \n",
    "     return publications[all]\n",
    "     limit 1\n",
    "\"\"\")"
   ]
  },
  {
   "cell_type": "markdown",
   "metadata": {
    "slideshow": {
     "slide_type": "slide"
    }
   },
   "source": [
    "## The Basics: you can search for full text in the full text or in abstracts"
   ]
  },
  {
   "cell_type": "code",
   "execution_count": 11,
   "metadata": {
    "scrolled": true,
    "slideshow": {
     "slide_type": "subslide"
    }
   },
   "outputs": [
    {
     "data": {
      "application/json": {
       "_stats": {
        "limit": 1,
        "offset": 0,
        "total_count": 833902
       },
       "publications": [
        {
         "author_affiliations": [
          [
           {
            "affiliations": [],
            "current_organization_id": "",
            "first_name": "Dieter",
            "last_name": "Ernst",
            "orcid": "",
            "researcher_id": ""
           }
          ]
         ],
         "id": "pub.1111668878",
         "pages": "161-187",
         "title": "7. Searching for a New Role in East Asian Regionalization: Japanese Production Networks in the Electronics Industry",
         "type": "chapter",
         "year": 2019
        }
       ]
      },
      "text/plain": [
       "<dimcli.dimensions.Result object>"
      ]
     },
     "execution_count": 11,
     "metadata": {
      "application/json": {
       "expanded": false,
       "root": "root"
      }
     },
     "output_type": "execute_result"
    }
   ],
   "source": [
    "dsl.query(\"\"\"\n",
    "     search publications for \"nanotechnology\"\n",
    "       \n",
    "     return publications\n",
    "     limit 1\n",
    "\"\"\")"
   ]
  },
  {
   "cell_type": "code",
   "execution_count": 12,
   "metadata": {
    "scrolled": true,
    "slideshow": {
     "slide_type": "subslide"
    }
   },
   "outputs": [
    {
     "data": {
      "application/json": {
       "_stats": {
        "limit": 1,
        "offset": 0,
        "total_count": 38627
       },
       "publications": [
        {
         "author_affiliations": [
          [
           {
            "affiliations": [
             {
              "city": "Béjaïa",
              "city_id": 2505329,
              "country": "Algeria",
              "country_code": "DZ",
              "id": "grid.442401.7",
              "name": "University of Béjaïa",
              "state": null,
              "state_code": null
             },
             {
              "name": "Centre des Matériaux des Mines d’Alès (C2MA), IMT Mines d’Alès, 6 avenue de Clavières, 30319 Alès cedex, Alès, France"
             }
            ],
            "current_organization_id": "grid.442401.7",
            "first_name": "Mohamed",
            "last_name": "Sahnoune",
            "orcid": "",
            "researcher_id": "ur.01277040041.25"
           },
           {
            "affiliations": [
             {
              "city": "Béjaïa",
              "city_id": 2505329,
              "country": "Algeria",
              "country_code": "DZ",
              "id": "grid.442401.7",
              "name": "University of Béjaïa",
              "state": null,
              "state_code": null
             }
            ],
            "current_organization_id": "grid.442401.7",
            "first_name": "Mustapha",
            "last_name": "Kaci",
            "orcid": "['0000-0002-4283-9803']",
            "researcher_id": "ur.010416267040.38"
           },
           {
            "affiliations": [
             {
              "name": "Centre des Matériaux des Mines d’Alès (C2MA), IMT Mines d’Alès, 6 avenue de Clavières, 30319 Alès cedex, France"
             }
            ],
            "current_organization_id": "grid.424464.4",
            "first_name": "Aurélie",
            "last_name": "Taguet",
            "orcid": "",
            "researcher_id": "ur.01330775654.17"
           },
           {
            "affiliations": [
             {
              "city": "Tarbes",
              "city_id": 2973385,
              "country": "France",
              "country_code": "FR",
              "id": "grid.463985.5",
              "name": "Laboratoire Génie de Production",
              "state": null,
              "state_code": null
             }
            ],
            "current_organization_id": "grid.463985.5",
            "first_name": "Karl",
            "last_name": "Delbé",
            "orcid": "['0000-0002-8503-2671']",
            "researcher_id": "ur.010570461313.20"
           },
           {
            "affiliations": [
             {
              "city": "Algiers",
              "city_id": 2507480,
              "country": "Algeria",
              "country_code": "DZ",
              "id": "grid.420190.e",
              "name": "University of Sciences and Technology Houari Boumediene",
              "state": null,
              "state_code": null
             }
            ],
            "current_organization_id": "grid.420190.e",
            "first_name": "Samir",
            "last_name": "Mouffok",
            "orcid": "",
            "researcher_id": "ur.013425543435.48"
           },
           {
            "affiliations": [
             {
              "city": "Algiers",
              "city_id": 2507480,
              "country": "Algeria",
              "country_code": "DZ",
              "id": "grid.420190.e",
              "name": "University of Sciences and Technology Houari Boumediene",
              "state": null,
              "state_code": null
             }
            ],
            "current_organization_id": "grid.420190.e",
            "first_name": "Said",
            "last_name": "Abdi",
            "orcid": "",
            "researcher_id": "ur.010263645307.98"
           },
           {
            "affiliations": [
             {
              "name": "Centre des Matériaux des Mines d’Alès (C2MA), IMT Mines d’Alès, 6 avenue de Clavières, 30319 Alès cedex, France"
             }
            ],
            "current_organization_id": "grid.424464.4",
            "first_name": "José-Marie",
            "last_name": "Lopez-Cuesta",
            "orcid": "",
            "researcher_id": "ur.0760656430.41"
           },
           {
            "affiliations": [
             {
              "city": "Pretoria",
              "city_id": 964137,
              "country": "South Africa",
              "country_code": "ZA",
              "id": "grid.49697.35",
              "name": "University of Pretoria",
              "state": null,
              "state_code": null
             }
            ],
            "current_organization_id": "grid.49697.35",
            "first_name": "Walter W.",
            "last_name": "Focke",
            "orcid": "",
            "researcher_id": "ur.011135305565.16"
           }
          ]
         ],
         "id": "pub.1106347454",
         "issue": "1",
         "journal": {
          "id": "jour.1138209",
          "title": "Journal of Polymer Engineering"
         },
         "pages": "25-34",
         "title": "Tribological and mechanical properties of polyamide-11/halloysite nanotube nanocomposites",
         "type": "article",
         "volume": "39",
         "year": 2019
        }
       ]
      },
      "text/plain": [
       "<dimcli.dimensions.Result object>"
      ]
     },
     "execution_count": 12,
     "metadata": {
      "application/json": {
       "expanded": false,
       "root": "root"
      }
     },
     "output_type": "execute_result"
    }
   ],
   "source": [
    "dsl.query(\"\"\"\n",
    "     search publications in title_abstract_only for \"nanotechnology\" \n",
    "     return publications\n",
    "     limit 1\n",
    "\"\"\")"
   ]
  },
  {
   "cell_type": "markdown",
   "metadata": {
    "slideshow": {
     "slide_type": "slide"
    }
   },
   "source": [
    "## The Basics - a simple author search\n"
   ]
  },
  {
   "cell_type": "code",
   "execution_count": 13,
   "metadata": {
    "scrolled": true,
    "slideshow": {
     "slide_type": "subslide"
    }
   },
   "outputs": [
    {
     "data": {
      "application/json": {
       "_stats": {
        "limit": 10,
        "offset": 0,
        "total_count": 48
       },
       "publications": [
        {
         "author_affiliations": [
          [
           {
            "affiliations": [
             {
              "name": "Washington University in St. LouisUSA"
             }
            ],
            "current_organization_id": "grid.4367.6",
            "first_name": "Carl M",
            "last_name": "Bender",
            "orcid": "['0000-0002-3840-1155']",
            "researcher_id": "ur.01310552610.52"
           },
           {
            "affiliations": [],
            "current_organization_id": "grid.8250.f",
            "first_name": "Patrick E",
            "last_name": "Dorey",
            "orcid": "",
            "researcher_id": "ur.013031721717.97"
           },
           {
            "affiliations": [],
            "current_organization_id": "",
            "first_name": "Clare",
            "last_name": "Dunning",
            "orcid": "",
            "researcher_id": "ur.016256640576.27"
           },
           {
            "affiliations": [],
            "current_organization_id": "",
            "first_name": "Andreas",
            "last_name": "Fring",
            "orcid": "",
            "researcher_id": ""
           },
           {
            "affiliations": [],
            "current_organization_id": "",
            "first_name": "Daniel W",
            "last_name": "Hook",
            "orcid": "",
            "researcher_id": ""
           },
           {
            "affiliations": [],
            "current_organization_id": "",
            "first_name": "Hugh F",
            "last_name": "Jones",
            "orcid": "",
            "researcher_id": ""
           },
           {
            "affiliations": [],
            "current_organization_id": "",
            "first_name": "Sergii",
            "last_name": "Kuzhel",
            "orcid": "",
            "researcher_id": ""
           },
           {
            "affiliations": [],
            "current_organization_id": "",
            "first_name": "Géza",
            "last_name": "Lévai",
            "orcid": "",
            "researcher_id": ""
           },
           {
            "affiliations": [],
            "current_organization_id": "grid.7605.4",
            "first_name": "Roberto",
            "last_name": "Tateo",
            "orcid": "['0000-0002-9549-5450']",
            "researcher_id": "ur.011444520764.30"
           }
          ]
         ],
         "id": "pub.1108567148",
         "title": "PT Symmetry",
         "type": "monograph",
         "year": 2019
        },
        {
         "author_affiliations": [
          [
           {
            "affiliations": [
             {
              "city": "Edinburgh",
              "city_id": 2650225,
              "country": "United Kingdom",
              "country_code": "GB",
              "id": "grid.20409.3f",
              "name": "Edinburgh Napier University",
              "state": null,
              "state_code": null
             }
            ],
            "current_organization_id": "",
            "first_name": "Daniel",
            "last_name": "Hook",
            "orcid": "",
            "researcher_id": ""
           },
           {
            "affiliations": [
             {
              "city": "Edinburgh",
              "city_id": 2650225,
              "country": "United Kingdom",
              "country_code": "GB",
              "id": "grid.20409.3f",
              "name": "Edinburgh Napier University",
              "state": null,
              "state_code": null
             }
            ],
            "current_organization_id": "",
            "first_name": "William",
            "last_name": "Laing",
            "orcid": "",
            "researcher_id": ""
           },
           {
            "affiliations": [
             {
              "city": "Edinburgh",
              "city_id": 2650225,
              "country": "United Kingdom",
              "country_code": "GB",
              "id": "grid.20409.3f",
              "name": "Edinburgh Napier University",
              "state": null,
              "state_code": null
             }
            ],
            "current_organization_id": "grid.20409.3f",
            "first_name": "Abdelfateh",
            "last_name": "Kerrouche",
            "orcid": "",
            "researcher_id": "ur.016555103257.15"
           },
           {
            "affiliations": [
             {
              "city": "Edinburgh",
              "city_id": 2650225,
              "country": "United Kingdom",
              "country_code": "GB",
              "id": "grid.20409.3f",
              "name": "Edinburgh Napier University",
              "state": null,
              "state_code": null
             }
            ],
            "current_organization_id": "grid.20409.3f",
            "first_name": "Daniel",
            "last_name": "Barreto",
            "orcid": "['0000-0003-4790-3250']",
            "researcher_id": "ur.012576057725.50"
           },
           {
            "affiliations": [
             {
              "city": "Edinburgh",
              "city_id": 2650225,
              "country": "United Kingdom",
              "country_code": "GB",
              "id": "grid.20409.3f",
              "name": "Edinburgh Napier University",
              "state": null,
              "state_code": null
             }
            ],
            "current_organization_id": "grid.20409.3f",
            "first_name": "Lourdes S. M.",
            "last_name": "Alwis",
            "orcid": "",
            "researcher_id": "ur.010240513126.15"
           }
          ]
         ],
         "id": "pub.1111011264",
         "journal": {
          "id": "jour.1047781",
          "title": "2010 IEEE Sensors"
         },
         "pages": "1-4",
         "title": "Optical Fiber Sensor Design for Ground Slope Movement Monitoring for Railway Safety Operations",
         "type": "proceeding",
         "year": 2018
        },
        {
         "author_affiliations": [
          [
           {
            "affiliations": [
             {
              "city": "London",
              "city_id": 2643743,
              "country": "United Kingdom",
              "country_code": "GB",
              "id": "grid.452594.b",
              "name": "Digital Science (United Kingdom)",
              "state": null,
              "state_code": null
             },
             {
              "city": "London",
              "city_id": 2643743,
              "country": "United Kingdom",
              "country_code": "GB",
              "id": "grid.7445.2",
              "name": "Imperial College London",
              "state": null,
              "state_code": null
             },
             {
              "city": "St Louis",
              "city_id": 4407066,
              "country": "United States",
              "country_code": "US",
              "id": "grid.4367.6",
              "name": "Washington University in St. Louis",
              "state": "Missouri",
              "state_code": "US-MO"
             }
            ],
            "current_organization_id": "grid.7445.2",
            "first_name": "Daniel W.",
            "last_name": "Hook",
            "orcid": "['0000-0001-9746-1193']",
            "researcher_id": "ur.01123321343.51"
           },
           {
            "affiliations": [
             {
              "city": "London",
              "city_id": 2643743,
              "country": "United Kingdom",
              "country_code": "GB",
              "id": "grid.452594.b",
              "name": "Digital Science (United Kingdom)",
              "state": null,
              "state_code": null
             }
            ],
            "current_organization_id": "grid.452594.b",
            "first_name": "Simon J.",
            "last_name": "Porter",
            "orcid": "['0000-0002-6151-8423']",
            "researcher_id": "ur.012016042104.74"
           },
           {
            "affiliations": [
             {
              "city": "London",
              "city_id": 2643743,
              "country": "United Kingdom",
              "country_code": "GB",
              "id": "grid.452594.b",
              "name": "Digital Science (United Kingdom)",
              "state": null,
              "state_code": null
             }
            ],
            "current_organization_id": "grid.452594.b",
            "first_name": "Christian",
            "last_name": "Herzog",
            "orcid": "['0000-0002-9983-0033']",
            "researcher_id": "ur.014544122464.10"
           }
          ]
         ],
         "id": "pub.1106289502",
         "journal": {
          "id": "jour.1292498",
          "title": "Frontiers in Research Metrics and Analytics"
         },
         "pages": "23",
         "title": "Dimensions: Building Context for Search and Evaluation",
         "type": "article",
         "volume": "3",
         "year": 2018
        },
        {
         "author_affiliations": [
          [
           {
            "affiliations": [],
            "current_organization_id": "grid.433688.2",
            "first_name": "Daniel",
            "last_name": "Hook",
            "orcid": "",
            "researcher_id": "ur.07403446145.09"
           },
           {
            "affiliations": [],
            "current_organization_id": "grid.433688.2",
            "first_name": "Katarzyna",
            "last_name": "Wygladacz",
            "orcid": "",
            "researcher_id": "ur.0756356645.19"
           },
           {
            "affiliations": [],
            "current_organization_id": "",
            "first_name": "Marjorie",
            "last_name": "Rah",
            "orcid": "",
            "researcher_id": ""
           }
          ]
         ],
         "id": "pub.1105321123",
         "journal": {
          "id": "jour.1091476",
          "title": "Contact Lens and Anterior Eye"
         },
         "pages": "s45",
         "title": "Assessment of the interaction between a natural wetting agent and silicone hydrogel contact lenses containing PVP using novel imaging techniques",
         "type": "article",
         "volume": "41",
         "year": 2018
        },
        {
         "author_affiliations": [
          [
           {
            "affiliations": [
             {
              "name": "Vision Care, Bausch & Lomb Incorporated, Rochester, New York"
             }
            ],
            "current_organization_id": "",
            "first_name": "Andrew J.",
            "last_name": "Hoteling",
            "orcid": "",
            "researcher_id": "ur.01045401304.40"
           },
           {
            "affiliations": [
             {
              "name": "Vision Care, Bausch & Lomb Incorporated, Rochester, New York"
             }
            ],
            "current_organization_id": "",
            "first_name": "William F.",
            "last_name": "Nichols",
            "orcid": "",
            "researcher_id": ""
           },
           {
            "affiliations": [
             {
              "name": "Vision Care, Bausch & Lomb Incorporated, Rochester, New York"
             }
            ],
            "current_organization_id": "",
            "first_name": "Patricia S.",
            "last_name": "Harmon",
            "orcid": "",
            "researcher_id": ""
           },
           {
            "affiliations": [
             {
              "name": "Vision Care, Bausch & Lomb Incorporated, Rochester, New York"
             }
            ],
            "current_organization_id": "",
            "first_name": "Shawn M.",
            "last_name": "Conlon",
            "orcid": "",
            "researcher_id": ""
           },
           {
            "affiliations": [
             {
              "name": "Vision Care, Bausch & Lomb Incorporated, Rochester, New York"
             }
            ],
            "current_organization_id": "",
            "first_name": "Ivan M.",
            "last_name": "Nuñez",
            "orcid": "",
            "researcher_id": ""
           },
           {
            "affiliations": [
             {
              "name": "Vision Care, Bausch & Lomb Incorporated, Rochester, New York"
             }
            ],
            "current_organization_id": "",
            "first_name": "Joseph W.",
            "last_name": "Hoff",
            "orcid": "",
            "researcher_id": ""
           },
           {
            "affiliations": [
             {
              "name": "Vision Care, Bausch & Lomb Incorporated, Rochester, New York"
             }
            ],
            "current_organization_id": "grid.29857.31",
            "first_name": "Orlando M.",
            "last_name": "Cabarcos",
            "orcid": "",
            "researcher_id": "ur.01112406573.51"
           },
           {
            "affiliations": [
             {
              "name": "Vision Care, Bausch & Lomb Incorporated, Rochester, New York"
             }
            ],
            "current_organization_id": "",
            "first_name": "Robert B.",
            "last_name": "Steffen",
            "orcid": "",
            "researcher_id": ""
           },
           {
            "affiliations": [
             {
              "name": "Vision Care, Bausch & Lomb Incorporated, Rochester, New York"
             }
            ],
            "current_organization_id": "grid.433688.2",
            "first_name": "Daniel J.",
            "last_name": "Hook",
            "orcid": "",
            "researcher_id": "ur.07403446145.09"
           }
          ]
         ],
         "id": "pub.1085413261",
         "issue": "3",
         "journal": {
          "id": "jour.1312091",
          "title": "Journal of Biomedical Materials Research Part B Applied Biomaterials"
         },
         "pages": "1064-1072",
         "title": "Characterization and quantitation of PVP content in a silicone hydrogel contact lens produced by dual‐phase polymerization processing",
         "type": "article",
         "volume": "106",
         "year": 2018
        },
        {
         "author_affiliations": [
          [
           {
            "affiliations": [
             {
              "city": "St Louis",
              "city_id": 4407066,
              "country": "United States",
              "country_code": "US",
              "id": "grid.4367.6",
              "name": "Washington University in St. Louis",
              "state": "Missouri",
              "state_code": "US-MO"
             }
            ],
            "current_organization_id": "grid.4367.6",
            "first_name": "Carl M.",
            "last_name": "Bender",
            "orcid": "['0000-0002-3840-1155']",
            "researcher_id": "ur.01310552610.52"
           },
           {
            "affiliations": [
             {
              "city": "St Louis",
              "city_id": 4407066,
              "country": "United States",
              "country_code": "US",
              "id": "grid.4367.6",
              "name": "Washington University in St. Louis",
              "state": "Missouri",
              "state_code": "US-MO"
             }
            ],
            "current_organization_id": "grid.4367.6",
            "first_name": "Nima",
            "last_name": "Hassanpour",
            "orcid": "",
            "researcher_id": "ur.016700034171.07"
           },
           {
            "affiliations": [
             {
              "city": "St Louis",
              "city_id": 4407066,
              "country": "United States",
              "country_code": "US",
              "id": "grid.4367.6",
              "name": "Washington University in St. Louis",
              "state": "Missouri",
              "state_code": "US-MO"
             },
             {
              "city": "London",
              "city_id": 2643743,
              "country": "United Kingdom",
              "country_code": "GB",
              "id": "grid.7445.2",
              "name": "Imperial College London",
              "state": null,
              "state_code": null
             }
            ],
            "current_organization_id": "grid.7445.2",
            "first_name": "Daniel W.",
            "last_name": "Hook",
            "orcid": "['0000-0001-9746-1193']",
            "researcher_id": "ur.01123321343.51"
           },
           {
            "affiliations": [
             {
              "city": "Heidelberg",
              "city_id": 2907911,
              "country": "Germany",
              "country_code": "DE",
              "id": "grid.7700.0",
              "name": "Heidelberg University",
              "state": null,
              "state_code": null
             }
            ],
            "current_organization_id": "grid.7700.0",
            "first_name": "S. P.",
            "last_name": "Klevansky",
            "orcid": "",
            "researcher_id": "ur.011205262121.46"
           },
           {
            "affiliations": [
             {
              "city": "St Louis",
              "city_id": 4407066,
              "country": "United States",
              "country_code": "US",
              "id": "grid.4367.6",
              "name": "Washington University in St. Louis",
              "state": "Missouri",
              "state_code": "US-MO"
             },
             {
              "city": "Heidelberg",
              "city_id": 2907911,
              "country": "Germany",
              "country_code": "DE",
              "id": "grid.7700.0",
              "name": "Heidelberg University",
              "state": null,
              "state_code": null
             }
            ],
            "current_organization_id": "",
            "first_name": "Christoph",
            "last_name": "Sünderhauf",
            "orcid": "",
            "researcher_id": ""
           },
           {
            "affiliations": [
             {
              "city": "St Louis",
              "city_id": 4407066,
              "country": "United States",
              "country_code": "US",
              "id": "grid.4367.6",
              "name": "Washington University in St. Louis",
              "state": "Missouri",
              "state_code": "US-MO"
             },
             {
              "city": "Beijing",
              "city_id": 1816670,
              "country": "China",
              "country_code": "CN",
              "id": "grid.410726.6",
              "name": "University of Chinese Academy of Sciences",
              "state": null,
              "state_code": null
             },
             {
              "city": "Beijing",
              "city_id": 1816670,
              "country": "China",
              "country_code": "CN",
              "id": "grid.458463.8",
              "name": "Academy of Mathematics and Systems Science",
              "state": null,
              "state_code": null
             }
            ],
            "current_organization_id": "",
            "first_name": "Zichao",
            "last_name": "Wen",
            "orcid": "",
            "researcher_id": ""
           }
          ]
         ],
         "id": "pub.1085511076",
         "issue": "5",
         "journal": {
          "id": "jour.1053349",
          "title": "Physical Review A"
         },
         "pages": "052113",
         "title": "Behavior of eigenvalues in a region of broken PT symmetry",
         "type": "article",
         "volume": "95",
         "year": 2017
        },
        {
         "author_affiliations": [
          [
           {
            "affiliations": [
             {
              "city": "St Louis",
              "city_id": 4407066,
              "country": "United States",
              "country_code": "US",
              "id": "grid.4367.6",
              "name": "Washington University in St. Louis",
              "state": "Missouri",
              "state_code": "US-MO"
             },
             {
              "city": "London",
              "city_id": 2643743,
              "country": "United Kingdom",
              "country_code": "GB",
              "id": "grid.13097.3c",
              "name": "King's College London",
              "state": null,
              "state_code": null
             }
            ],
            "current_organization_id": "grid.4367.6",
            "first_name": "Carl M",
            "last_name": "Bender",
            "orcid": "['0000-0002-3840-1155']",
            "researcher_id": "ur.01310552610.52"
           },
           {
            "affiliations": [],
            "current_organization_id": "grid.7445.2",
            "first_name": "Daniel W",
            "last_name": "Hook",
            "orcid": "['0000-0001-9746-1193']",
            "researcher_id": "ur.01123321343.51"
           },
           {
            "affiliations": [
             {
              "city": "London",
              "city_id": 2643743,
              "country": "United Kingdom",
              "country_code": "GB",
              "id": "grid.13097.3c",
              "name": "King's College London",
              "state": null,
              "state_code": null
             },
             {
              "city": "Geneva",
              "city_id": 2660646,
              "country": "Switzerland",
              "country_code": "CH",
              "id": "grid.9132.9",
              "name": "European Organization for Nuclear Research",
              "state": null,
              "state_code": null
             }
            ],
            "current_organization_id": "grid.13097.3c",
            "first_name": "Nick E",
            "last_name": "Mavromatos",
            "orcid": "",
            "researcher_id": "ur.013370754534.78"
           },
           {
            "affiliations": [
             {
              "city": "London",
              "city_id": 2643743,
              "country": "United Kingdom",
              "country_code": "GB",
              "id": "grid.13097.3c",
              "name": "King's College London",
              "state": null,
              "state_code": null
             }
            ],
            "current_organization_id": "grid.13097.3c",
            "first_name": "Sarben",
            "last_name": "Sarkar",
            "orcid": "['0000-0003-1369-7794']",
            "researcher_id": "ur.014114026641.24"
           }
          ]
         ],
         "id": "pub.1059174631",
         "issue": "45",
         "journal": {
          "id": "jour.1084797",
          "title": "Journal of Physics A: Mathematical and Theoretical"
         },
         "pages": "45lt01",
         "title": "-symmetric interpretation of unstable effective potentials",
         "type": "article",
         "volume": "49",
         "year": 2016
        },
        {
         "author_affiliations": [
          [
           {
            "affiliations": [
             {
              "city": "Bridgewater",
              "city_id": 8299576,
              "country": "United States",
              "country_code": "US",
              "id": "grid.433688.2",
              "name": "Bausch Health (United States)",
              "state": "New Jersey",
              "state_code": "US-NJ"
             }
            ],
            "current_organization_id": "grid.433688.2",
            "first_name": "Katarzyna A",
            "last_name": "Wygladacz",
            "orcid": "",
            "researcher_id": "ur.0756356645.19"
           },
           {
            "affiliations": [
             {
              "city": "Bridgewater",
              "city_id": 8299576,
              "country": "United States",
              "country_code": "US",
              "id": "grid.433688.2",
              "name": "Bausch Health (United States)",
              "state": "New Jersey",
              "state_code": "US-NJ"
             }
            ],
            "current_organization_id": "grid.433688.2",
            "first_name": "Daniel J",
            "last_name": "Hook",
            "orcid": "",
            "researcher_id": "ur.07403446145.09"
           }
          ]
         ],
         "id": "pub.1044133006",
         "journal": {
          "id": "jour.1313374",
          "title": "Clinical Ophthalmology"
         },
         "pages": "1423-1433",
         "title": "Visualization of a hyaluronan network on the surface of silicone-hydrogel materials",
         "type": "article",
         "volume": "Volume 10",
         "year": 2016
        },
        {
         "author_affiliations": [
          [
           {
            "affiliations": [
             {
              "city": "Buffalo",
              "city_id": 5110629,
              "country": "United States",
              "country_code": "US",
              "id": "grid.273335.3",
              "name": "University at Buffalo, State University of New York",
              "state": "New York",
              "state_code": "US-NY"
             }
            ],
            "current_organization_id": "",
            "first_name": "Dustin T",
            "last_name": "McCall",
            "orcid": "",
            "researcher_id": ""
           },
           {
            "affiliations": [
             {
              "city": "Buffalo",
              "city_id": 5110629,
              "country": "United States",
              "country_code": "US",
              "id": "grid.273335.3",
              "name": "University at Buffalo, State University of New York",
              "state": "New York",
              "state_code": "US-NY"
             }
            ],
            "current_organization_id": "grid.273335.3",
            "first_name": "Yi",
            "last_name": "Zhang",
            "orcid": "",
            "researcher_id": "ur.01005654245.53"
           },
           {
            "affiliations": [
             {
              "name": "Bausch + Lomb Incorporated, 1400 Goodman St. N., Rochester, New York 14609, United States."
             }
            ],
            "current_organization_id": "grid.433688.2",
            "first_name": "Daniel J",
            "last_name": "Hook",
            "orcid": "",
            "researcher_id": "ur.07403446145.09"
           },
           {
            "affiliations": [
             {
              "city": "Buffalo",
              "city_id": 5110629,
              "country": "United States",
              "country_code": "US",
              "id": "grid.273335.3",
              "name": "University at Buffalo, State University of New York",
              "state": "New York",
              "state_code": "US-NY"
             }
            ],
            "current_organization_id": "grid.273335.3",
            "first_name": "Frank V",
            "last_name": "Bright",
            "orcid": "['0000-0002-1500-5969']",
            "researcher_id": "ur.0702116275.98"
           }
          ]
         ],
         "id": "pub.1055116418",
         "issue": "41",
         "journal": {
          "id": "jour.1126508",
          "title": "Langmuir"
         },
         "pages": "11370-7",
         "title": "Optimizing Pin-Printed and Hydrosilylated Microarray Spot Density on Porous Silicon Platforms.",
         "type": "article",
         "volume": "31",
         "year": 2015
        },
        {
         "author_affiliations": [
          [
           {
            "affiliations": [
             {
              "city": "Cambridge",
              "city_id": 4931972,
              "country": "United States",
              "country_code": "US",
              "id": "grid.116068.8",
              "name": "Massachusetts Institute of Technology",
              "state": "Massachusetts",
              "state_code": "US-MA"
             }
            ],
            "current_organization_id": "grid.263724.6",
            "first_name": "R. Jordan",
            "last_name": "Crouser",
            "orcid": "",
            "researcher_id": "ur.07476470333.55"
           },
           {
            "affiliations": [
             {
              "city": "Cambridge",
              "city_id": 4931972,
              "country": "United States",
              "country_code": "US",
              "id": "grid.116068.8",
              "name": "Massachusetts Institute of Technology",
              "state": "Massachusetts",
              "state_code": "US-MA"
             },
             {
              "city": "Raleigh",
              "city_id": 4487042,
              "country": "United States",
              "country_code": "US",
              "id": "grid.40803.3f",
              "name": "North Carolina State University",
              "state": "North Carolina",
              "state_code": "US-NC"
             }
            ],
            "current_organization_id": "grid.40803.3f",
            "first_name": "Matthew C.",
            "last_name": "Schmidt",
            "orcid": "",
            "researcher_id": "ur.015343115017.09"
           },
           {
            "affiliations": [
             {
              "city": "Cambridge",
              "city_id": 4931972,
              "country": "United States",
              "country_code": "US",
              "id": "grid.116068.8",
              "name": "Massachusetts Institute of Technology",
              "state": "Massachusetts",
              "state_code": "US-MA"
             }
            ],
            "current_organization_id": "grid.116068.8",
            "first_name": "Stephen",
            "last_name": "Kelley",
            "orcid": "",
            "researcher_id": "ur.014475453143.87"
           },
           {
            "affiliations": [
             {
              "city": "Cambridge",
              "city_id": 4931972,
              "country": "United States",
              "country_code": "US",
              "id": "grid.116068.8",
              "name": "Massachusetts Institute of Technology",
              "state": "Massachusetts",
              "state_code": "US-MA"
             }
            ],
            "current_organization_id": "grid.116068.8",
            "first_name": "Benjamin",
            "last_name": "Miller",
            "orcid": "",
            "researcher_id": "ur.012064471320.54"
           },
           {
            "affiliations": [
             {
              "city": "Cambridge",
              "city_id": 4931972,
              "country": "United States",
              "country_code": "US",
              "id": "grid.116068.8",
              "name": "Massachusetts Institute of Technology",
              "state": "Massachusetts",
              "state_code": "US-MA"
             }
            ],
            "current_organization_id": "",
            "first_name": "Daniel",
            "last_name": "Hook",
            "orcid": "",
            "researcher_id": ""
           },
           {
            "affiliations": [
             {
              "city": "Cambridge",
              "city_id": 4931972,
              "country": "United States",
              "country_code": "US",
              "id": "grid.116068.8",
              "name": "Massachusetts Institute of Technology",
              "state": "Massachusetts",
              "state_code": "US-MA"
             }
            ],
            "current_organization_id": "grid.116068.8",
            "first_name": "Lauren",
            "last_name": "Edwards",
            "orcid": "",
            "researcher_id": "ur.016271470257.20"
           },
           {
            "affiliations": [
             {
              "city": "Cambridge",
              "city_id": 4931972,
              "country": "United States",
              "country_code": "US",
              "id": "grid.116068.8",
              "name": "Massachusetts Institute of Technology",
              "state": "Massachusetts",
              "state_code": "US-MA"
             }
            ],
            "current_organization_id": "grid.116068.8",
            "first_name": "Maja",
            "last_name": "Milosavljevic",
            "orcid": "",
            "researcher_id": "ur.012263227003.75"
           },
           {
            "affiliations": [
             {
              "city": "Cambridge",
              "city_id": 4931972,
              "country": "United States",
              "country_code": "US",
              "id": "grid.116068.8",
              "name": "Massachusetts Institute of Technology",
              "state": "Massachusetts",
              "state_code": "US-MA"
             }
            ],
            "current_organization_id": "",
            "first_name": "Elizabeth",
            "last_name": "Michel",
            "orcid": "",
            "researcher_id": ""
           },
           {
            "affiliations": [
             {
              "city": "Cambridge",
              "city_id": 4931972,
              "country": "United States",
              "country_code": "US",
              "id": "grid.116068.8",
              "name": "Massachusetts Institute of Technology",
              "state": "Massachusetts",
              "state_code": "US-MA"
             },
             {
              "city": "Berkeley",
              "city_id": 5327684,
              "country": "United States",
              "country_code": "US",
              "id": "grid.47840.3f",
              "name": "University of California, Berkeley",
              "state": "California",
              "state_code": "US-CA"
             }
            ],
            "current_organization_id": "",
            "first_name": "Elizabeth",
            "last_name": "Ferme",
            "orcid": "",
            "researcher_id": ""
           },
           {
            "affiliations": [
             {
              "city": "Cambridge",
              "city_id": 4931972,
              "country": "United States",
              "country_code": "US",
              "id": "grid.116068.8",
              "name": "Massachusetts Institute of Technology",
              "state": "Massachusetts",
              "state_code": "US-MA"
             }
            ],
            "current_organization_id": "",
            "first_name": "Robert",
            "last_name": "Carrington",
            "orcid": "",
            "researcher_id": ""
           },
           {
            "affiliations": [
             {
              "city": "Cambridge",
              "city_id": 4931972,
              "country": "United States",
              "country_code": "US",
              "id": "grid.116068.8",
              "name": "Massachusetts Institute of Technology",
              "state": "Massachusetts",
              "state_code": "US-MA"
             }
            ],
            "current_organization_id": "grid.116068.8",
            "first_name": "Albert I.",
            "last_name": "Reuther",
            "orcid": "",
            "researcher_id": "ur.07750760657.20"
           }
          ]
         ],
         "id": "pub.1095473194",
         "pages": "1-6",
         "title": "Global Pattern Search at Scale",
         "type": "proceeding",
         "year": 2015
        }
       ]
      },
      "text/plain": [
       "<dimcli.dimensions.Result object>"
      ]
     },
     "execution_count": 13,
     "metadata": {
      "application/json": {
       "expanded": false,
       "root": "root"
      }
     },
     "output_type": "execute_result"
    }
   ],
   "source": [
    "\n",
    "dsl.query(\"\"\"\n",
    "     search publications in authors for \"\\\\\"Daniel Hook\\\\\"\"\n",
    "     return publications\n",
    "     limit 10\n",
    "\"\"\")"
   ]
  },
  {
   "cell_type": "markdown",
   "metadata": {
    "slideshow": {
     "slide_type": "slide"
    }
   },
   "source": [
    "## ..or search for a researcher by a specific id"
   ]
  },
  {
   "cell_type": "code",
   "execution_count": 14,
   "metadata": {
    "scrolled": true,
    "slideshow": {
     "slide_type": "subslide"
    }
   },
   "outputs": [
    {
     "data": {
      "application/json": {
       "_stats": {
        "limit": 1,
        "offset": 0,
        "total_count": 6
       },
       "publications": [
        {
         "doi": "10.3390/v10050250",
         "researchers": [
          {
           "first_name": "Nagma",
           "id": "ur.013514345521.07",
           "last_name": "Parveen",
           "research_orgs": [
            "grid.5949.1",
            "grid.5371.0",
            "grid.5596.f"
           ]
          },
          {
           "first_name": "Doortje",
           "id": "ur.01045210614.25",
           "last_name": "Borrenberghs",
           "research_orgs": [
            "grid.5596.f"
           ]
          },
          {
           "first_name": "Susana Ferreira",
           "id": "ur.01123422665.94",
           "last_name": "Rocha",
           "orcid_id": [
            "0000-0003-1258-9396"
           ],
           "research_orgs": [
            "grid.9983.b",
            "grid.461801.a",
            "grid.5949.1",
            "grid.467824.b",
            "grid.5596.f"
           ]
          },
          {
           "first_name": "Jelle",
           "id": "ur.01361166556.89",
           "last_name": "Hendrix",
           "orcid_id": [
            "0000-0001-5731-1297"
           ],
           "research_orgs": [
            "grid.12155.32",
            "grid.5252.0",
            "grid.5596.f"
           ]
          }
         ]
        }
       ]
      },
      "text/plain": [
       "<dimcli.dimensions.Result object>"
      ]
     },
     "execution_count": 14,
     "metadata": {
      "application/json": {
       "expanded": false,
       "root": "root"
      }
     },
     "output_type": "execute_result"
    }
   ],
   "source": [
    "#A Basic Query - or request just thoses that you want...\n",
    "\n",
    "dsl.query(\"\"\"\n",
    "     search publications \n",
    "     where researchers.id = \"ur.013514345521.07\"\n",
    "       \n",
    "     return publications[doi+researchers]\n",
    "     limit 1\n",
    "\"\"\")"
   ]
  },
  {
   "cell_type": "markdown",
   "metadata": {
    "slideshow": {
     "slide_type": "slide"
    }
   },
   "source": [
    "## You can also query by facets"
   ]
  },
  {
   "cell_type": "code",
   "execution_count": 16,
   "metadata": {
    "scrolled": true,
    "slideshow": {
     "slide_type": "subslide"
    }
   },
   "outputs": [
    {
     "data": {
      "application/json": {
       "FOR_first": [
        {
         "count": 15149431,
         "id": "2211",
         "name": "11 Medical and Health Sciences"
        },
        {
         "count": 6035744,
         "id": "2206",
         "name": "06 Biological Sciences"
        },
        {
         "count": 5743336,
         "id": "2209",
         "name": "09 Engineering"
        },
        {
         "count": 4380700,
         "id": "2203",
         "name": "03 Chemical Sciences"
        },
        {
         "count": 3585146,
         "id": "2208",
         "name": "08 Information and Computing Sciences"
        },
        {
         "count": 2396684,
         "id": "2202",
         "name": "02 Physical Sciences"
        },
        {
         "count": 2020679,
         "id": "2201",
         "name": "01 Mathematical Sciences"
        },
        {
         "count": 1970662,
         "id": "2217",
         "name": "17 Psychology and Cognitive Sciences"
        },
        {
         "count": 1190029,
         "id": "2216",
         "name": "16 Studies in Human Society"
        },
        {
         "count": 1048160,
         "id": "2204",
         "name": "04 Earth Sciences"
        },
        {
         "count": 941789,
         "id": "2210",
         "name": "10 Technology"
        },
        {
         "count": 883640,
         "id": "2214",
         "name": "14 Economics"
        },
        {
         "count": 733497,
         "id": "2205",
         "name": "05 Environmental Sciences"
        },
        {
         "count": 707424,
         "id": "2221",
         "name": "21 History and Archaeology"
        },
        {
         "count": 617193,
         "id": "2220",
         "name": "20 Language, Communication and Culture"
        },
        {
         "count": 567586,
         "id": "2213",
         "name": "13 Education"
        },
        {
         "count": 563964,
         "id": "2215",
         "name": "15 Commerce, Management, Tourism and Services"
        },
        {
         "count": 344581,
         "id": "2207",
         "name": "07 Agricultural and Veterinary Sciences"
        },
        {
         "count": 289475,
         "id": "2218",
         "name": "18 Law and Legal Studies"
        },
        {
         "count": 265168,
         "id": "2222",
         "name": "22 Philosophy and Religious Studies"
        }
       ],
       "_stats": {
        "total_count": 99628707
       }
      },
      "text/plain": [
       "<dimcli.dimensions.Result object>"
      ]
     },
     "execution_count": 16,
     "metadata": {
      "application/json": {
       "expanded": false,
       "root": "root"
      }
     },
     "output_type": "execute_result"
    }
   ],
   "source": [
    "dsl.query(\"\"\"\n",
    "     search publications \n",
    "     return FOR_first \n",
    "\"\"\")"
   ]
  },
  {
   "cell_type": "markdown",
   "metadata": {
    "slideshow": {
     "slide_type": "slide"
    }
   },
   "source": [
    "## You can return up to 1000 facet rows"
   ]
  },
  {
   "cell_type": "code",
   "execution_count": 17,
   "metadata": {
    "scrolled": true,
    "slideshow": {
     "slide_type": "subslide"
    }
   },
   "outputs": [
    {
     "data": {
      "application/json": {
       "_stats": {
        "total_count": 833902
       },
       "year": [
        {
         "count": 88110,
         "id": 2018
        },
        {
         "count": 78686,
         "id": 2017
        },
        {
         "count": 78129,
         "id": 2016
        },
        {
         "count": 73663,
         "id": 2015
        },
        {
         "count": 69108,
         "id": 2014
        },
        {
         "count": 66483,
         "id": 2013
        },
        {
         "count": 57061,
         "id": 2012
        },
        {
         "count": 55483,
         "id": 2011
        },
        {
         "count": 45626,
         "id": 2008
        },
        {
         "count": 41689,
         "id": 2010
        },
        {
         "count": 40367,
         "id": 2009
        },
        {
         "count": 26452,
         "id": 2007
        },
        {
         "count": 25113,
         "id": 2019
        },
        {
         "count": 22390,
         "id": 2006
        },
        {
         "count": 17105,
         "id": 2005
        },
        {
         "count": 12384,
         "id": 2004
        },
        {
         "count": 7948,
         "id": 2003
        },
        {
         "count": 6120,
         "id": 2002
        },
        {
         "count": 4109,
         "id": 2001
        },
        {
         "count": 2690,
         "id": 2000
        },
        {
         "count": 2122,
         "id": 1999
        },
        {
         "count": 1775,
         "id": 1998
        },
        {
         "count": 1521,
         "id": 1996
        },
        {
         "count": 1329,
         "id": 1997
        },
        {
         "count": 1297,
         "id": 1994
        },
        {
         "count": 1090,
         "id": 1995
        },
        {
         "count": 1067,
         "id": 1993
        },
        {
         "count": 868,
         "id": 1992
        },
        {
         "count": 862,
         "id": 1991
        },
        {
         "count": 534,
         "id": 1988
        },
        {
         "count": 511,
         "id": 1990
        },
        {
         "count": 422,
         "id": 1989
        },
        {
         "count": 373,
         "id": 1985
        },
        {
         "count": 373,
         "id": 1987
        },
        {
         "count": 304,
         "id": 1986
        },
        {
         "count": 292,
         "id": 1983
        },
        {
         "count": 175,
         "id": 1984
        },
        {
         "count": 14,
         "id": 1970
        },
        {
         "count": 6,
         "id": 1899
        },
        {
         "count": 5,
         "id": 1973
        },
        {
         "count": 5,
         "id": 1978
        },
        {
         "count": 5,
         "id": 1980
        },
        {
         "count": 4,
         "id": 1971
        },
        {
         "count": 3,
         "id": 1966
        },
        {
         "count": 3,
         "id": 1969
        },
        {
         "count": 3,
         "id": 1972
        },
        {
         "count": 3,
         "id": 1975
        },
        {
         "count": 2,
         "id": 1955
        },
        {
         "count": 2,
         "id": 1957
        },
        {
         "count": 2,
         "id": 1958
        },
        {
         "count": 2,
         "id": 1974
        },
        {
         "count": 1,
         "id": 1870
        },
        {
         "count": 1,
         "id": 1949
        },
        {
         "count": 1,
         "id": 1960
        },
        {
         "count": 1,
         "id": 1962
        },
        {
         "count": 1,
         "id": 1964
        },
        {
         "count": 1,
         "id": 1965
        },
        {
         "count": 1,
         "id": 1976
        },
        {
         "count": 1,
         "id": 1977
        },
        {
         "count": 1,
         "id": 1979
        },
        {
         "count": 1,
         "id": 1982
        }
       ]
      },
      "text/plain": [
       "<dimcli.dimensions.Result object>"
      ]
     },
     "execution_count": 17,
     "metadata": {
      "application/json": {
       "expanded": false,
       "root": "root"
      }
     },
     "output_type": "execute_result"
    }
   ],
   "source": [
    "\n",
    "dsl.query(\"\"\"\n",
    "     search publications for \"nanotechnology\"\n",
    "     return year limit 1000\n",
    "\"\"\")"
   ]
  },
  {
   "cell_type": "markdown",
   "metadata": {
    "slideshow": {
     "slide_type": "slide"
    }
   },
   "source": [
    "## Just make a mistake, and you will ge the complete list of available facets"
   ]
  },
  {
   "cell_type": "code",
   "execution_count": 18,
   "metadata": {
    "scrolled": true,
    "slideshow": {
     "slide_type": "subslide"
    }
   },
   "outputs": [
    {
     "data": {
      "application/json": {
       "errors": {
        "query": {
         "details": [
          "Semantic errors found:\n\tFacet 'years' is not present in source 'publications'. Available facets are: FOR,FOR_first,HRCS_HC,HRCS_RAC,RCDC,funder_countries,funders,journal,mesh_terms,open_access_categories,publisher,recent_citations,research_org_cities,research_org_countries,research_org_state_codes,research_org_state_names,research_orgs,researchers,year"
         ],
         "header": "Semantic Error",
         "query": "\n     search publications \n     return years \n"
        }
       }
      },
      "text/plain": [
       "<dimcli.dimensions.Result object>"
      ]
     },
     "execution_count": 18,
     "metadata": {
      "application/json": {
       "expanded": false,
       "root": "root"
      }
     },
     "output_type": "execute_result"
    }
   ],
   "source": [
    "dsl.query(\"\"\"\n",
    "     search publications \n",
    "     return years \n",
    "\"\"\")"
   ]
  },
  {
   "cell_type": "code",
   "execution_count": 19,
   "metadata": {
    "scrolled": true
   },
   "outputs": [
    {
     "data": {
      "text/html": [
       "<div>\n",
       "<style scoped>\n",
       "    .dataframe tbody tr th:only-of-type {\n",
       "        vertical-align: middle;\n",
       "    }\n",
       "\n",
       "    .dataframe tbody tr th {\n",
       "        vertical-align: top;\n",
       "    }\n",
       "\n",
       "    .dataframe thead th {\n",
       "        text-align: right;\n",
       "    }\n",
       "</style>\n",
       "<table border=\"1\" class=\"dataframe\">\n",
       "  <thead>\n",
       "    <tr style=\"text-align: right;\">\n",
       "      <th></th>\n",
       "      <th>altmetric</th>\n",
       "      <th>title</th>\n",
       "    </tr>\n",
       "  </thead>\n",
       "  <tbody>\n",
       "    <tr>\n",
       "      <th>0</th>\n",
       "      <td>NaN</td>\n",
       "      <td>7. Searching for a New Role in East Asian Regi...</td>\n",
       "    </tr>\n",
       "    <tr>\n",
       "      <th>1</th>\n",
       "      <td>NaN</td>\n",
       "      <td>6. Between Foreign Direct Investment and Regio...</td>\n",
       "    </tr>\n",
       "    <tr>\n",
       "      <th>2</th>\n",
       "      <td>NaN</td>\n",
       "      <td>Index</td>\n",
       "    </tr>\n",
       "    <tr>\n",
       "      <th>3</th>\n",
       "      <td>NaN</td>\n",
       "      <td>Cancer Immunotherapy Therapeutic Manipulation ...</td>\n",
       "    </tr>\n",
       "    <tr>\n",
       "      <th>4</th>\n",
       "      <td>NaN</td>\n",
       "      <td>Tribological and mechanical properties of poly...</td>\n",
       "    </tr>\n",
       "    <tr>\n",
       "      <th>5</th>\n",
       "      <td>NaN</td>\n",
       "      <td>Synthesis of ultra small iron oxide and doped ...</td>\n",
       "    </tr>\n",
       "    <tr>\n",
       "      <th>6</th>\n",
       "      <td>NaN</td>\n",
       "      <td>Synthesis and characterization of PEG-function...</td>\n",
       "    </tr>\n",
       "    <tr>\n",
       "      <th>7</th>\n",
       "      <td>NaN</td>\n",
       "      <td>Stimuli-responsive polyvinylpyrrolidone-NIPPAm...</td>\n",
       "    </tr>\n",
       "    <tr>\n",
       "      <th>8</th>\n",
       "      <td>1.0</td>\n",
       "      <td>Enhanced anti-proliferative and pro-apoptotic ...</td>\n",
       "    </tr>\n",
       "    <tr>\n",
       "      <th>9</th>\n",
       "      <td>NaN</td>\n",
       "      <td>In vitro and in vivo characterization of pharm...</td>\n",
       "    </tr>\n",
       "  </tbody>\n",
       "</table>\n",
       "</div>"
      ],
      "text/plain": [
       "   altmetric                                              title\n",
       "0        NaN  7. Searching for a New Role in East Asian Regi...\n",
       "1        NaN  6. Between Foreign Direct Investment and Regio...\n",
       "2        NaN                                              Index\n",
       "3        NaN  Cancer Immunotherapy Therapeutic Manipulation ...\n",
       "4        NaN  Tribological and mechanical properties of poly...\n",
       "5        NaN  Synthesis of ultra small iron oxide and doped ...\n",
       "6        NaN  Synthesis and characterization of PEG-function...\n",
       "7        NaN  Stimuli-responsive polyvinylpyrrolidone-NIPPAm...\n",
       "8        1.0  Enhanced anti-proliferative and pro-apoptotic ...\n",
       "9        NaN  In vitro and in vivo characterization of pharm..."
      ]
     },
     "execution_count": 19,
     "metadata": {},
     "output_type": "execute_result"
    }
   ],
   "source": [
    "import pandas as pd\n",
    "pd.DataFrame(dsl.query(\"\"\"\n",
    "     search publications for \"nanotechnology\"\n",
    "     return publications[title+altmetric] \n",
    "     limit 10\n",
    "\"\"\")['publications'])"
   ]
  },
  {
   "cell_type": "markdown",
   "metadata": {},
   "source": [
    "IDEA: how about wrapping up this into a query command? eg dsl.dataframe_from_query(....)"
   ]
  },
  {
   "cell_type": "code",
   "execution_count": null,
   "metadata": {},
   "outputs": [],
   "source": []
  }
 ],
 "metadata": {
  "kernelspec": {
   "display_name": "Python 3",
   "language": "python",
   "name": "python3"
  },
  "language_info": {
   "codemirror_mode": {
    "name": "ipython",
    "version": 3
   },
   "file_extension": ".py",
   "mimetype": "text/x-python",
   "name": "python",
   "nbconvert_exporter": "python",
   "pygments_lexer": "ipython3",
   "version": "3.7.2"
  }
 },
 "nbformat": 4,
 "nbformat_minor": 2
}
