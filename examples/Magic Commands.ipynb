{
 "cells": [
  {
   "cell_type": "markdown",
   "metadata": {
    "slideshow": {
     "slide_type": "slide"
    }
   },
   "source": [
    "# Magic commands\n"
   ]
  },
  {
   "cell_type": "code",
   "execution_count": 1,
   "metadata": {},
   "outputs": [
    {
     "name": "stdout",
     "output_type": "stream",
     "text": [
      "v0.4.2\n"
     ]
    }
   ],
   "source": [
    "import dimcli\n",
    "print(dimcli.VERSION)\n",
    "%dsl_login"
   ]
  },
  {
   "cell_type": "code",
   "execution_count": 2,
   "metadata": {},
   "outputs": [
    {
     "name": "stdout",
     "output_type": "stream",
     "text": [
      "1000 / 3989\n",
      "2000 / 3994\n",
      "3000 / 3994\n",
      "3989 / 3989\n"
     ]
    },
    {
     "data": {
      "application/json": {
       "_stats": {
        "total_count": 3989
       },
       "publications": [
        {
         "title": "The interparticle distance limit for multiple exciton dissociation in PbS quantum dot solid films"
        },
        {
         "title": "Probabilistic guards: A mechanism for increasing the granularity of work-stealing programs"
        },
        {
         "title": "Development of Organo-Dispersible Graphene Oxide via Pseudo-Surface Modification for Thermally Conductive Green Polymer Composites"
        },
        {
         "title": "Nuclear Ab Initio Calculations with the Unitary-Model-Operator Approach"
        },
        {
         "title": "Pilot Study of Visual and Quantitative Image Analysis of Facial Surface Asymmetry in Unilateral Complete Cleft Lip and Palate."
        },
        {
         "title": "A deep unified framework for suspicious action recognition"
        },
        {
         "title": "Chalcopyrite ZnSnSb2: A Promising Thermoelectric Material."
        },
        {
         "title": "Grain Refinement of Al–2%Cu Alloy Using Vibrating Mold"
        },
        {
         "title": "Proposal of an ultrasonic sensor array with flexible and scalable organization"
        },
        {
         "title": "Reduction of H∞ state feedback control problems for the MIMO servo systems"
        },
        {
         "title": "Effect of VR technology matureness on VR sickness"
        },
        {
         "title": "FOREWORD"
        },
        {
         "title": "Publisher Correction: Alpha-synuclein facilitates to form short unconventional microtubules that have a unique function in the axonal transport"
        },
        {
         "title": "Tunable Open Circuit Voltage by Engineering Inorganic Cesium Lead Bromide/Iodide Perovskite Solar Cells"
        },
        {
         "title": "An unconventional hydrogen effect that suppresses thermal formation of the hcp phase in fcc steels"
        },
        {
         "title": "A molecular neuromorphic network device consisting of single-walled carbon nanotubes complexed with polyoxometalate"
        },
        {
         "title": "Carrier doping effect of magnetic and transport properties on the geometrically frustrated iridate Ca 5 Ir 3 O 12"
        },
        {
         "title": "Dominance of Tensor Correlations in High-Momentum Nucleon Pairs Studied by (p,pd) Reaction"
        },
        {
         "title": "Novel insights into the mechanism of well-ordered assembly of bacterial flagellar proteins in Salmonella"
        },
        {
         "title": "Alcaligenaceae and Chromatiaceae as reliable bioindicators present in palm oil mill effluent final discharge treated by different biotreatment processes"
        },
        {
         "title": "Time-varying Control Lyapunov Function Design for Nonlinear Systems Defined on Manifolds"
        },
        {
         "title": "Efficient anchoring of alien chromosome segments introgressed into bread wheat by new Leymus racemosus genome-based markers"
        },
        {
         "title": "Brain structural connectivity and neuroticism in healthy adults"
        },
        {
         "title": "The dominant role of critical valence fluctuations on high Tc superconductivity in heavy fermions"
        },
        {
         "title": "One-pot synthesis of 2D Ti3C2/Ni2CO3(OH)2 composite as electrode material with superior capacity and high stability for hybrid supercapacitor"
        },
        {
         "title": "Epilepsy EEG classification using morphological component analysis"
        },
        {
         "title": "Optical and structural characterization of ultrananocrystalline diamond/ hydrogenated amorphous carbon composite films deposited via coaxial arc plasma"
        },
        {
         "title": "A Cartesian non-boundary fitted grid method on complex geometries and its application to the blood flow in the aorta using OpenFOAM"
        },
        {
         "title": "Simple separation of good quality bovine oocytes using a microfluidic device"
        },
        {
         "title": "Extraction of GGO Candidate Regions on Thoracic CT Images using SuperVoxel-Based Graph Cuts for Healthcare Systems"
        },
        {
         "title": "Microgrid dynamic security considering high penetration of renewable energy"
        },
        {
         "title": "Large-scale aggregation analysis of eukaryotic proteins reveals an involvement of intrinsically disordered regions in protein folding"
        },
        {
         "title": "Saliency Detection using Boundary Aware Regional Contrast Based Seam-map"
        },
        {
         "title": "Synthesis and characterization of graphene oxide functionalized with magnetic nanoparticle via simple emulsion method"
        },
        {
         "title": "Hierarchical MnS2-MoS2 nanotubes with efficient electrochemical performance for energy storage"
        },
        {
         "title": "Growth promotion of Euglena gracilis by ferulic acid from rice bran"
        },
        {
         "title": "Micromechanical investigation of milled and unmilled rice grains through experimental study and finite element analysis"
        },
        {
         "title": "Immobilization of S-TiO2 on reusable aluminum plates by polysiloxane for photocatalytic degradation of 2,4-dichlorophenol in water"
        },
        {
         "title": "Regulation of glycolytic flux and overflow metabolism depending on the source of energy generation for energy demand"
        },
        {
         "title": "Growth and physical properties of Ce(O,F)Sb(S,Se)2 single crystals with site-selected chalcogen atoms"
        },
        {
         "title": "State-Dependent Switching <tex>$\\mathcal{L}_{2}$</tex> Gain for Analyzing the Fluctuations in Transient Responses After a System Switch"
        },
        {
         "title": "Demonstration of 1200V Scaled IGBTs Driven by 5V Gate Voltage with Superiorly Low Switching Loss"
        },
        {
         "title": "A study of wound repair in Dictyostelium cells by using novel laserporation"
        },
        {
         "title": "Electron carriers increase electricity production in methane microbial fuel cells that reverse methanogenesis"
        },
        {
         "title": "A generalization of Hegedüs-Szilágyi’s fixed point theorem in complete metric spaces"
        },
        {
         "title": "Optimized coordinated control of LFC and SMES to enhance frequency stability of a real multi-source power system considering high renewable energy penetration"
        },
        {
         "title": "Quantum conductance-temperature phase diagram of granular superconductor KxFe2−ySe2"
        },
        {
         "title": "KampoDB, database of predicted targets and functional annotations of natural medicines"
        },
        {
         "title": "Development of an experimental system for a snake-like gliding model"
        },
        {
         "title": "Flexible Radio-Frequency Identification (RFID) Tag Antenna for Sensor Applications"
        },
        {
         "title": "Editorial for the Special Issue of Selected Papers from the 8th Symposium on Micro–Nano Science and Technology on Micromachines"
        },
        {
         "title": "[Co/Ni] multilayers with robust post-annealing performance for spintronics device applications"
        },
        {
         "title": "The Role of Lanthanum On A Nickel Oxide‐Based Inverted Perovskite Solar Cell For Efficiency and Stability Improvement"
        },
        {
         "title": "Design and compatibility analysis of a solar panel integrated UHF antenna for nanosatellite space mission"
        },
        {
         "title": "Emergentist View on Generative Narrative Cognition: Considering Principles of the Self-Organization of Mental Stories"
        },
        {
         "title": "Magnetosphere‐ionosphere connection of storm‐time Region‐2 field‐aligned current and ring current: Arase and AMPERE observations"
        },
        {
         "title": "Pathway-Based Drug Repositioning for Cancers: Computational Prediction and Experimental Validation."
        },
        {
         "title": "Mobile Intelligence Assisted by Data Analytics and Cognitive Computing"
        },
        {
         "title": "Learning adaptive contrast combinations for visual saliency detection"
        },
        {
         "title": "Performance Evaluation Method of Organic Photovoltaics under Indoor Light Condition"
        },
        {
         "title": "Interfacial Sulfur Functionalization Anchoring SnO2 and CH3NH3PbI3 for Enhanced Stability and Trap Passivation in Perovskite Solar Cells"
        },
        {
         "title": "Synthesis, characterizations and photo-physical properties of novel lanthanum(III) complexes"
        },
        {
         "title": "In Situ Growth of a Feather‐like MnO2 Nanostructure on Carbon Paper for High‐Performance Rechargeable Sodium‐Ion Batteries"
        },
        {
         "title": "PM-04Relationship between amorphous structure and radiation tolerance of silicon oxycarbide"
        },
        {
         "title": "PB-07Structural Analysis of KcsA by Cryo-EM Single Particle Analysis"
        },
        {
         "title": "FOREWORD"
        },
        {
         "title": "SPF-CellTracker: Tracking Multiple Cells with Strongly-Correlated Moves Using a Spatial Particle Filter"
        },
        {
         "title": "Effect of the Conduction Band Offset on Interfacial Recombination Behavior of the Planar Perovskite Solar Cells"
        },
        {
         "title": "In situ fabrication of 2D SnS2 nanosheets as a new electron transport layer for perovskite solar cells"
        },
        {
         "title": "Performance analysis of an S‐band antenna for nanosatellite payloads communication system"
        },
        {
         "title": "A faster implementation of online RLBWT and its application to LZ77 parsing"
        },
        {
         "title": "Measurement of double-polarization asymmetries in the quasi-elastic He → 3 ( e → , e ′ p ) process"
        },
        {
         "title": "Accurate OD Traffic Matrix Estimation Based on Resampling of Observed Flow Data"
        },
        {
         "title": "Effects of geometrical and mechanical properties of cells on micro-jet and bubbles Comment on “Shock wave-induced permeabilization of mammalian cells” by Luz M. López-Marín et al."
        },
        {
         "title": "Dynamic Body Circumference Measurement Technique for a More Realistic Virtual Fitting Room Experience"
        },
        {
         "title": "GaN power devices for Electric Vehicles State-of-the-art and future perspective"
        },
        {
         "title": "The functional link between tail-pinch-induced food intake and emotionality and its possible role in stress coping in rats"
        },
        {
         "title": "Electrolyte-dependence of the Macroscopic Textures Generated in the Colloidal Liquid Crystals of Niobate Nanosheets"
        },
        {
         "title": "Visualization of catalytic edge reactivity in electrochemical CO2 reduction on porous Zn electrode"
        },
        {
         "title": "Requirements Definition with Extended Goal Graph"
        },
        {
         "title": "Radiative pion capture in H2, He3, and H3"
        },
        {
         "title": "A Model of Rule Generation Handling Granules Defined by Implications in Table Data Sets"
        },
        {
         "title": "In-situ growth of hierarchical NiCo2S4/MoS2 nanotube arrays with excellent electrochemical performance"
        },
        {
         "title": "Kinetic and thermodynamic of heterogeneously K3PO4/AC-catalysed transesterification via pseudo-first order mechanism and Eyring-Polanyi equation"
        },
        {
         "title": "Enhancement of charge transport in quantum dots solar cells by N-butylamine-assisted sulfur-crosslinking of PbS quantum dots"
        },
        {
         "title": "Index Terms"
        },
        {
         "title": "Updatable indoor localization based on BLE signal fingerprint"
        },
        {
         "title": "Most suitable evaluation method for adhesive strength to minimize bend effect in lap joints in terms of the intensity of singular stress field"
        },
        {
         "title": "Changes in fundamental frequency and gesture of response corresponding to the understanding level of partner’s talk"
        },
        {
         "title": "Synthesis and Optoelectrical Characterization of Novel Squaraine Dyes Derived from Benzothiophene and Benzofuran"
        },
        {
         "title": "Space-Efficient Uniform Deployment of Mobile Agents in Asynchronous Unidirectional Rings"
        },
        {
         "title": "Pd-catalyzed Cyclization of Terminal Alkynes using Diazonaphthoquinones: Synthesis of Naphtho[1,2- b ]furans"
        },
        {
         "title": "Classification and statistical analysis of hydrothermal seafloor rocks measured underwater using laser‐induced breakdown spectroscopy"
        },
        {
         "title": "Direct Imaging of Atomic-Scale Surface Structures of Brookite TiO 2 Nanoparticles by Frequency Modulation Atomic Force Microscopy in Liquid"
        },
        {
         "title": "Face image super-resolution with pose via nuclear norm regularized structural orthogonal Procrustes regression"
        },
        {
         "title": "Correction to: Two-Factor Blockchain for Traceability Cacao Supply Chain"
        },
        {
         "title": "Design of a novel and highly stable lead-free Cs 2 NaBiI 6 double perovskite for photovoltaic application"
        },
        {
         "title": "New 2D Materials for Highly Efficient Perovskite Solar Cells"
        },
        {
         "title": "Perovskite solar cells consisting of mixed metal SnGe perovskite as light absorber and role of the Ge in the solar cell"
        },
        {
         "title": "Phase-Stable CsPbI3 Perovskite Quantum Dots Achieving Near 100% Absolute Photoluminescence Quantum Yield and Applications in Solar Cells"
        },
        {
         "title": "Transition Metal Compound Electrocatalysts for I‐Mediated Dye‐Sensitized Solar Cells"
        },
        {
         "title": "Purple Auroral Rays and Global Pc1 Pulsations Observed at the CIR‐Associated Solar Wind Density Enhancement on 21 March 2017"
        },
        {
         "title": "Linear and Kernel Model Construction Methods for Predicting Drug–Target Interactions in a Chemogenomic Framework"
        },
        {
         "title": "Longitudinal Structure of Oxygen Torus in the Inner Magnetosphere: Simultaneous Observations by Arase and Van Allen Probe A"
        },
        {
         "title": "上半身動作を用いたロボットの回避方向意図の伝達"
        },
        {
         "title": "GPSuc: Global Prediction of Generic and Species-specific Succinylation Sites by aggregating multiple sequence features"
        },
        {
         "title": "Preparation of anti-decay self-setting pastes of hydroxyapatite/collagen utilizing (3-glycidoxypropyl)trimethoxysilane"
        },
        {
         "title": "Deep-Sea Organisms Tracking Using Dehazing and Deep Learning"
        },
        {
         "title": "Effects of the Atmosphere in a Hydrothermal Process on the Morphology and Photocatalytic Activity of Cerium Oxide"
        },
        {
         "title": "High Electrical Conductivity 2D MXene Serves as Additive of Perovskite for Efficient Solar Cells"
        },
        {
         "title": "Coded Illumination and Imaging for Fluorescence Based Classification"
        },
        {
         "title": "Privacy-Preserving String Edit Distance with Moves"
        },
        {
         "title": "Role of Mg2+ Ions in DNA Hydrolysis by EcoRV, Studied by the 3D-Reference Interaction Site Model and Molecular Dynamics."
        },
        {
         "title": "Cladding of Al Layer onto Mild Steel Substrate Using Al Powder and Its Structure and Properties"
        },
        {
         "title": "Structure of crystallized particles in sputter‐deposited amorphous germanium films"
        },
        {
         "title": "One-step salt-assisted solution combustion synthesis of Ni-based composites for use as supercapacitor electrodes"
        },
        {
         "title": "A facial approach to fabricating carbonaceous material/g-C3N4 composites with superior photocatalytic activity"
        },
        {
         "title": "Polarized Raman spectra of β-FeSi 2 epitaxial film grown by molecular beam epitaxy"
        },
        {
         "title": "Hydrogen bonds in heterojunction photocatalysts for efficient charge transfer"
        },
        {
         "title": "Elastic Channel Utilization Against External Radio Interference on SDN-Enabled Multi-Radio Wireless Backhaul Networks"
        },
        {
         "title": "Simultaneous Analysis of EEGs and Movements in Interative Hand Shaking Required Skills to Synchronize Cooperatively in Game"
        },
        {
         "title": "An Evaluation of Burst Transfer Inferred by a High-level Synthesis Tool"
        },
        {
         "title": "Evaluation of Dielectric Strength of Tricyclopentadiene / Silica Microcomposites"
        },
        {
         "title": "Three-dimensional numerical thrust performance analysis of hydrogen fuel mixture rotating detonation engine with aerospike nozzle"
        },
        {
         "title": "Particle simulation of alveolar bone regeneration and angiogenesis using platelet‐rich plasma (PRP)"
        },
        {
         "title": "Fabrication and characterization of black TiO2 with different Ti3+ concentrations under atmospheric conditions"
        },
        {
         "title": "FPGA Implementation of Wireless LAN System for Factory Automation"
        },
        {
         "title": "First-Principles Study on Hydrogen Diffusivity in BCC, FCC, and HCP Iron"
        },
        {
         "title": "A facile approach to build Bi2O2CO3/PCN nanohybrid photocatalysts for gaseous acetaldehyde efficient removal"
        },
        {
         "title": "Cascade use of bamboo as raw material for several high value products: production of xylo-oligosaccharide and activated carbon for EDLC electrode from bamboo"
        },
        {
         "title": "Pseudogene product YqiG is important for pflB expression and biohydrogen production in Escherichia coli BW25113"
        },
        {
         "title": "Optimising filtering of two-line element sets to increase re-entry prediction accuracy for GTO objects"
        },
        {
         "title": "Describing Methods for High-level Synthesis of Histogram Generation and Their Evaluation"
        },
        {
         "title": "Intensity of singular stress field over the entire bond line thickness range useful for evaluating the adhesive strength for plate and cylinder butt joints"
        },
        {
         "title": "Comparison of Effectiveness of Dual Tree Complex Wavelet Transform and Anisotropic Diffusion in MCA for Concrete Crack Detection"
        },
        {
         "title": "Potential for Estimating Age-Dependent Degradation using the Acoustic Characteristics of Daily Conversation"
        },
        {
         "title": "Synthesis and characterization of lithium titanate (Li4Ti5O12) nanopowder for battery applications"
        },
        {
         "title": "Graphitic materials in photo(electro)catalysis"
        },
        {
         "title": "Development of Rimless Wheel with Controlled Wobbling Mass"
        },
        {
         "title": "A Metaheuristic Relying on Random Walk on a Graph for Binary Optimization Problems"
        },
        {
         "title": "CT temporal subtraction method for detection of sclerotic bone metastasis in the thoracolumbar spine"
        },
        {
         "title": "Experimental implementation of multiplexing/demultiplexing in digital images using virtual phase conjugation for holographic data storage"
        },
        {
         "title": "Development of hafnium metal and titanium‐hafnium alloys having apatite‐forming ability by chemical surface modification"
        },
        {
         "title": "Association behaviors of poly(N-vinylpyrrolidone)-grafted fullerenes in aqueous solution"
        },
        {
         "title": "Changes in pulmonary oxygen uptake and muscle deoxygenation kinetics during cycling exercise in older women performing walking training for 12 weeks"
        },
        {
         "title": "Autonomous Data Transmission Control Based on Node Density for Multiple Spatio-Temporal Data Retention"
        },
        {
         "title": "Improvement of the video camera system mounted on a balloon for supporting the visual census of river dolphins"
        },
        {
         "title": "Characterization of Ultimate Bounds for Systems With State-Dependent Disturbances"
        },
        {
         "title": "Electric Field Relaxation Effect of Micro-varistor/epoxy Composite"
        },
        {
         "title": "A Study on Computational Methods of the Logistic Map over Integers for a Pseudorandom Number Generator"
        },
        {
         "title": "All‐Inorganic CsPb1−xGexI2Br Perovskite with Enhanced Phase Stability and Photovoltaic Performance"
        },
        {
         "title": "Hybrid Rocket Firing Experiments at Various Axial–Tangential Oxidizer-Flow-Rate Ratios"
        },
        {
         "title": "Seamless Interfacial Formation by Solution-Processed Amorphous Hydroxide Semiconductor for Highly Efficient Electron Transport"
        },
        {
         "title": "Synthesis and Photophysical Characterization of Unsymmetrical Squaraine Dyes for Dye-Sensitized Solar Cells Utilizing Cobalt Electrolytes"
        },
        {
         "title": "All‐Inorganic CsPb1−xGexI2Br Perovskite with Enhanced Phase Stability and Photovoltaic Performance"
        },
        {
         "title": "Element-Quality-Based Stiffening for the Pseudoelastic Mesh-Moving Technique"
        },
        {
         "title": "Human Emotion Recognition Using an EEG Cloud Computing Platform"
        },
        {
         "title": "Block Palindromes: A New Generalization of Palindromes"
        },
        {
         "title": "Development of a novel mixed sulfide-iodide lead-free bismuth perovskite"
        },
        {
         "title": "Ambient temperature drying of therapeutic protein solution with use of microwave"
        },
        {
         "title": "Solution‐Processed Air‐Stable Copper Bismuth Iodide for Photovoltaics"
        },
        {
         "title": "Detection of Circulating Tumor Cells in Fluorescence Microscopy Images Based on ANN Classifier"
        },
        {
         "title": "Endmember Extraction of Hyperspectral Remote Sensing Images Based on an Improved Discrete Artificial Bee Colony Algorithm and Genetic Algorithm"
        },
        {
         "title": "Performance Enhancement of Mesoporous TiO2-Based Perovskite Solar Cells by SbI3 Interfacial Modification Layer."
        },
        {
         "title": "Ultra-Wideband (UWB) Antenna Sensor Based Microwave Breast Imaging: A Review"
        },
        {
         "title": "Microwave Imaging Sensor Using Low Profile Modified Stacked Type Planar Inverted F Antenna"
        },
        {
         "title": "A comprehensive review of in silico analysis for protein S-sulfenylation sites."
        },
        {
         "title": "Membrane-Based Microwave-Mediated Electrochemical Immunoassay for the In Vitro, Highly Sensitive Detection of Osteoporosis-Related Biomarkers"
        },
        {
         "title": "Activity representation by SURF-based templates"
        },
        {
         "title": "MAPLE 2.3.0: an improved system for evaluating the functionomes of genomes and metagenomes"
        },
        {
         "title": "Effects of 4-Hydroxy-2,3,3',4',5-Pentachlorobiphenyl (4-OH-CB107) on Liver Transcriptome in Rats: Implication in the Disruption of Circadian Rhythm and Fatty Acid Metabolism."
        },
        {
         "title": "レーザフォーミングにおける平行線状加熱順序が曲面成形に与える影響"
        },
        {
         "title": "歩行者検出における混合正規分布を用いた状態空間の自律構成法"
        },
        {
         "title": "Area-Efficient Analog Operations by Dynamicly-Reconfigured Switched-Capacitor Circuits"
        },
        {
         "title": "Evolutionary Problem Solving by People Being Aware of Others’ Preferences"
        },
        {
         "title": "Evaluation of Error and Sensitivity for Force Sensor Using Shape-Memory Polymer"
        },
        {
         "title": "Impedance Control of Dual-Arm 3-link Underwater Robot : In the Case of Grasping a Fixed Object Lightly with One Hand"
        },
        {
         "title": "Discussion on Partial Discharge Measurement Technique of Cable Joint in Three Phase High Voltage Overhead Transmission Line"
        },
        {
         "title": "Partial Discharge Location in Cast Resin Transformer by Multiple Small Loop Sensors"
        },
        {
         "title": "Simulation of Electromagnetic Wave and Surface Current Caused by PD for Seeking Better Detection Sensitivity by TEV Sensor Attached with a Bucket"
        },
        {
         "title": "Envelop tracking based embedded current measurement for monitoring of IGBT and power converter system"
        },
        {
         "title": "Uniform deployment of mobile agents in asynchronous rings"
        },
        {
         "title": "Growth of Ru<sub>2</sub>Si<sub>3</sub> Polycrystalline Thin Films by Solid Phase Epitaxy in Ru-Si Amorphous Layers"
        },
        {
         "title": "A fully digital feedback control of gate driver for current balancing of parallel connected power devices"
        },
        {
         "title": "Resolved Acceleration Control (RAC) of Dual-Arm 3-Link Underwater Robot : Comparison of Control Performance between RAC Method and Computed Torque Method"
        },
        {
         "title": "Automatic Calibration of Industrial Robot and 3D Sensors using Real-Time Simulator"
        },
        {
         "title": "Effectiveness of Data Augmentation for CNN-Based Pupil Center Point Detection"
        },
        {
         "title": "Classification Method of Assistance Motions for Standing-up with Different Foot Anteroposterior Positions using Wearable Sensors"
        },
        {
         "title": "Calorimetric Power-Loss Measurement of a High-Power Film Capacitor with Actual Ripple Current Generated by a PWM Inverter"
        },
        {
         "title": "Feature Transform Optimization for Pedestrian Classification"
        },
        {
         "title": "Excretion Prediction Using Nursing Record System Log Data"
        },
        {
         "title": "Low-cost, large-scale, one-pot synthesis of C/Ni3(NO3)2(OH)4 composites for high performance supercapacitor"
        },
        {
         "title": "A power cycling degradation inspector of power semiconductor devices"
        },
        {
         "title": "ESR and capacitance monitoring of a dc-link capacitor used in a three-phase PWM inverter with a front-end diode rectifier"
        },
        {
         "title": "Determination of Type of Partial Discharge in Cubicle-Type Gas Insulated Switchgear (C-GIS) using Artificial Neural Network"
        },
        {
         "title": "Facile synthesis of branched MoS2 nanowires"
        },
        {
         "title": "Relationship between body acceleration and muscle load of upper limbs in lower-limb amputees during ladder climbing"
        },
        {
         "title": "Basic Study on Viewpoints Classification Method using Car Distribution on the Road"
        },
        {
         "title": "Trajectory Tracking Control of Octocopter with a Wind Disturbance"
        },
        {
         "title": "Basic Study on Partial Discharge Detection with High Sensitivity using Ferrite Core"
        },
        {
         "title": "Environmental effects on the ionic conductivity of poly(methyl methacrylate) (PMMA)-based quasi-solid-state electrolyte"
        },
        {
         "title": "Determination of Partial Discharge Location in Stator Core using Loop Sensors"
        },
        {
         "title": "Finger Joint Dynamics with Myoelectric Signal inputs"
        },
        {
         "title": "Network resilience of mutualistic ecosystems and environmental changes: an empirical study"
        },
        {
         "title": "Escherichia coli tolerance of ultraviolet radiation by in vivo expression of a short peptide designed from late embryogenesis abundant protein"
        },
        {
         "title": "High-precision microfluidic pressure control through modulation of dual fluidic resistances"
        },
        {
         "title": "NIS-Apriori-Based Rule Generation with Three-way Decisions and Its Application System in SQL"
        },
        {
         "title": "Consideration of Generation Mechanism of Low Frequency Component of Partial Discharge Signal Detected by Transient Earth Voltage"
        },
        {
         "title": "Driver Braking Control Model for Vehicles"
        },
        {
         "title": "Bypassing Disturbance Separability in Verifying Integral Input-to-State Stability of Cascade Systems"
        },
        {
         "title": "Haptic feedback is useful in remote manipulation of flexible endoscopes."
        },
        {
         "title": "Effective biodiesel synthesis from waste cooking oil and biomass residue solid green catalyst"
        },
        {
         "title": "Search Direction in Successive Linearization of Bilinear Matrix Inequality Problems"
        },
        {
         "title": "Segmentation of Spinal Canal Region in CT Images using 3D Region Growing Technique"
        },
        {
         "title": "Design of a Motion Controller for an Underwater Vehicle-Manipulator System with a Differently-Controlled Vehicle"
        },
        {
         "title": "Estimation of Internal Pressure of Vacuum Interrupter by Measuring Partial Discharge Current"
        },
        {
         "title": "Classification of Partial Discharge Sources using Waveform Parameters and Phase-Resolved Partial Discharge Pattern as Input for the Artificial Neural Network"
        },
        {
         "title": "Bias voltage criteria of gate shielding effect for protecting IGBTs from shoot-through phenomena"
        },
        {
         "title": "Optimized Packetization of H.264 SVC Bitstreams for MIMO Wireless Video Streaming"
        },
        {
         "title": "Object Detection on Video Images Based on R-FCN and GrowCut Algorithm"
        },
        {
         "title": "Role of fluid-structure interaction in generating the characteristic tip path of a flapping flexible wing"
        },
        {
         "title": "A network biology-based approach to evaluating the effect of environmental contaminants on human interactome and diseases"
        },
        {
         "title": "PEA: Parallel electrocardiogram-based authentication for smart healthcare systems"
        },
        {
         "title": "Growth of Sb-Doped β-FeSi<sub>2</sub> Epitaxial Films and Optimization of Donor Activation Conditions"
        },
        {
         "title": "Identification of Vibrational Modes in BaSi<sub>2</sub> Epitaxial Films by Infrared and Raman Spectroscopy"
        },
        {
         "title": "Magnetic Field Dipolarization and Its Associated Ion Flux Variations in the Dawnside Deep Inner Magnetosphere: Arase Observations"
        },
        {
         "title": "Two-Dimensional Numerical Simulation of Detonation Transition with Multi-Step Reaction Model: Effects of Obstacle Height"
        },
        {
         "title": "Anomalous Dielectric Behavior of a Pb/Sn Perovskite: Effect of Trapped Charges on Complex Photoconductivity"
        },
        {
         "title": "高炉スラグ混合セメント系防食塗料の防食特性に関する電気化学的検討"
        },
        {
         "title": "Enhancement of Self-Aggregation Properties of Linear Elastin-Derived Short Peptides by Simple Cyclization: Strong Self-Aggregation Properties of Cyclo[FPGVG] n, Consisting Only of Natural Amino Acids."
        },
        {
         "title": "Recombination Suppression in PbS Quantum Dot Heterojunction Solar Cells by Energy-Level Alignment in the Quantum Dot Active Layers."
        },
        {
         "title": "Discussion Map with an Assistant Function for Decision-Making: A Tool for Supporting Consensus-Building"
        },
        {
         "title": "Analysis of Facilitators’ Behaviors in Multi-party Conversations for Constructing a Digital Facilitator System"
        },
        {
         "title": "Luminescence and Location of Gd3+ or Tb3+ Ions in Perovskite-Type LaScO3."
        },
        {
         "title": "Study To Observe the Effect of PbI 2 Passivation on Carbon Electrode for Perovskite Solar Cells by Quartz Crystal Microbalance System"
        },
        {
         "title": "Self-Calibration Algorithm for a Pressure Sensor with a Real-Time Approach Based on an Artificial Neural Network"
        },
        {
         "title": "The Runs Theorem and Beyond"
        },
        {
         "title": "Energy gap opening by crossing drop cast single-layer graphene nanoribbons"
        },
        {
         "title": "Simultaneous Merging Multiple Grid Maps Using the Robust Motion Averaging"
        },
        {
         "title": "モールド変圧器の交流部分放電特性に及ぼす雷インパルスプレストレスの影響"
        },
        {
         "title": "Columnar Ferrite Structure in Cast Iron Formed by Decarburization of White Cast Iron"
        },
        {
         "title": "Dependence of Load Angle on Static Strength of Resistance Spot Welded Lap Joint under Combined Load Test"
        },
        {
         "title": "Effect of specimen thickness on growth of real contact area of rubber with two-dimensional regular wavy surface"
        },
        {
         "title": "Automatic road detection system for an air-land amphibious car drone"
        },
        {
         "title": "Stories as mental representations of an agent’s subjective world: A structural overview"
        },
        {
         "title": "Fine Positioning of Micro-Tubular-Tools for Investigating the Stimulus Response of Swimming Paramecium"
        },
        {
         "title": "Control of assembly size of poly (methacrylic acid)-grafted fullerenes in aqueous solution"
        },
        {
         "title": "Anomalous temperature dependence of the relaxation rate measured by muon spin rotation in α-YbAl0.986Fe0.014B4"
        },
        {
         "title": "Improved upper bounds on all maximal α-gapped repeats and palindromes"
        },
        {
         "title": "Effect of size on the magnetic properties and crystal structure of magnetically frustrated DyMn2O5 nanoparticles"
        },
        {
         "title": "Wideband Noise Measurement Technique in Duplex Systems for RF Interference"
        },
        {
         "title": "SSSD: Speech Scene database by Smart Device for Visual Speech Recognition"
        },
        {
         "title": "Influence of Disturbance Current Mode on Correlation Between Radiation Test Sites Using VHF - LISN and CMAD"
        },
        {
         "title": "Motor Anomaly Detection for Unmanned Aerial Vehicles Using Reinforcement Learning"
        },
        {
         "title": "Design of GaAs pHEMT Negative Resistant Oscillator Using a Novel Parallel Coupled Dielectric Resonator"
        },
        {
         "title": "A Solar Panel-Integrated Modified Planner Inverted F Antenna for Low Earth Orbit Remote Sensing Nanosatellite Communication System"
        },
        {
         "title": "Monkey Features Location Identification Using Convolutional Neural Networks"
        },
        {
         "title": "Magnesium-Doped MAPbI3 Perovskite Layers for Enhanced Photovoltaic Performance in Humid Air Atmosphere."
        },
        {
         "title": "Cover Feature: Enhanced Crystallization by Methanol Additive in Antisolvent for Achieving High‐Quality MAPbI3 Perovskite Films in Humid Atmosphere (ChemSusChem 14/2018)"
        },
        {
         "title": "Enhanced Crystallization by Methanol Additive in Antisolvent for Achieving High‐Quality MAPbI3 Perovskite Films in Humid Atmosphere"
        },
        {
         "title": "Flow Structure Formed by a Sweeping Jet Ejected Into a Main Flow"
        },
        {
         "title": "Detection of local vibrational modes induced by intrinsic defects in undoped BaSi\n                    2\n                    light absorber layers using Raman spectroscopy"
        },
        {
         "title": "Visualization of Boundary Layer Combustion of Wax Fuels in Vertical and Horizontal Configurations"
        },
        {
         "title": "Correction: Visualization of Boundary Layer Combustion of Wax Fuels in Vertical and Horizontal Configurations"
        },
        {
         "title": "Vapor-Phase Growth and Structural Characterization of Single Crystals of Magnesium Doped Two-Dimensional Fullerene Polymer Mg\n                    2\n                    C\n                    60"
        },
        {
         "title": "Lead Selenide Colloidal Quantum Dot Solar Cells Achieving High Open-Circuit Voltage with One-Step Deposition Strategy."
        },
        {
         "title": "SiN多孔膜を有するマイクロウェルを用いた単一ニューロンの長期培養"
        },
        {
         "title": "特異応力場の強さの2次元解析に基づく接着強度評価の妥当性"
        },
        {
         "title": "Effects of mixed ultrafine colloidal silica particles on chemical mechanical polishing of sapphire"
        },
        {
         "title": "Partial Discharge Inception Voltage of Enameled Cellular Wire under Impulse Voltage"
        },
        {
         "title": "Grid interfaced solar photovoltaic system using ZA-LMS based control algorithm"
        },
        {
         "title": "Establishing space activities in non-space faring nations: An example of university-based strategic planning"
        },
        {
         "title": "Thermal performance of flat micro heat pipe with converging microchannels"
        },
        {
         "title": "Adaptive ECC Techniques for Reliability and Yield Enhancement of Phase Change Memory"
        },
        {
         "title": "Solid Electrolyte Impedancemetric NOx Sensor Attached with Zeolite Receptor"
        },
        {
         "title": "MCA Based Epilepsy EEG Classification Using Time Frequency Domain Features"
        },
        {
         "title": "Partial Discharge Inception Voltage of Enameled Cellular Wire under Impulse Voltage"
        },
        {
         "title": "Transport, magnetic, thermoelectric, and structural properties of hollandite titanates BaxTi8O16+δ"
        },
        {
         "title": "Dual Learning for Visual Question Generation"
        },
        {
         "title": "Minute quantities of hexagonal nanoplates PtFe alloy with facile operating conditions enhanced electrocatalytic activity and durability for oxygen reduction reaction"
        },
        {
         "title": "Improved fracture properties of Ni-Ti superelastic alloy under sustained tensile load in physiological saline solution containing hydrogen peroxide by hydrogen charging"
        },
        {
         "title": "Organic-Inorganic Thermoelectric Material for a Printed Generator"
        },
        {
         "title": "Impedance Network Modeling of non-linear Restistive Material"
        },
        {
         "title": "Dynamic Behavior of Running Insect Activated by High-Speed Microdroplets Manipulation* This work was partially supported by the Program to Disseminate Tenure Track System, MEXT, Japan."
        },
        {
         "title": "Estimating the Randomness of Domain Names for DGA Bot Callbacks"
        },
        {
         "title": "An approximation scheme for minimizing the makespan of the parallel identical multi-stage flow-shops"
        },
        {
         "title": "Decomposing the effects of ocean environments on predator–prey body-size relationships in food webs"
        },
        {
         "title": "Enhanced phagocytosis of Aggregatibacter actinomycetemcomitans cells by macrophages activated by a probiotic Lactobacillus strain"
        },
        {
         "title": "Investigation on Differrence of Radiated Emission Measurement Reproducibility between two EUTs at International RRT by Using CMAD as a Terminating Device for AC Mains Cable"
        },
        {
         "title": "Impedance Network Modeling of non-linear Restistive Material"
        },
        {
         "title": "Detailed spectral profile analysis of electrocorticograms during freezing against penicillin-induced epileptiform discharges in the anesthetized rat"
        },
        {
         "title": "Motion Planning by T‐RRT with Potential Function for Vertical Articulated Robots"
        },
        {
         "title": "Ultrafast selective extraction of hot holes from cesium lead iodide perovskite films"
        },
        {
         "title": "S-memV: Split Migration of Large-Memory Virtual Machines in IaaS Clouds"
        },
        {
         "title": "Paramagnetic and Glass States of a YBCO Film Containing Nanorods at Low Magnetic Fields"
        },
        {
         "title": "Photovoltaic performances of mono- and mixed-halide structures for perovskite solar cell: A review"
        },
        {
         "title": "Dual emissive bispyrene peptide probes for highly sensitive measurements of trypsin activity and evaluation of trypsin inhibitors"
        },
        {
         "title": "Classification of ictal and interictal EEG using RMS frequency, dominant frequency, root mean instantaneous frequency square and their parameters ratio"
        },
        {
         "title": "Hardware Design and Optimization of Multimode Pipeline Based FFT for IEEE 802.11ax WLAN Devices"
        },
        {
         "title": "Lempel–Ziv Factorization Powered by Space Efficient Suffix Trees"
        },
        {
         "title": "Electric power regulation and modeling of a central tower receiver power plant based on artificial neural network technique"
        },
        {
         "title": "Momentum space treatment of inclusive neutrino scattering off the deuteron and trinucleons"
        },
        {
         "title": "Crystal Growth, Exponential Optical Absorption Edge, and Ground State Energy Level of PbS Quantum Dots Adsorbed on the (001), (110), and (111) Surfaces of Rutile-TiO\n                    2"
        },
        {
         "title": "Pyocyanin Restricts Social Cheating in Pseudomonas aeruginosa"
        },
        {
         "title": "In vitro cytotoxicity of superheated steam hydrolyzed oligo((R)-3-hydroxybutyrate-co-(R)-3-hydroxyhexanoate) and characteristics of its blend with poly(L-lactic acid) for biomaterial applications"
        },
        {
         "title": "Interface Passivation Effects on the Photovoltaic Performance of Quantum Dot Sensitized Inverse Opal TiO2 Solar Cells"
        },
        {
         "title": "Flow Induced Motions observed in Blunt Body with Free Rotational Apparatus in Three Degrees of Freedom"
        },
        {
         "title": "Feature Extraction for EEG Activity during 4 Limbs Motor Imagery in Time Domain"
        },
        {
         "title": "Influence of Oxidation in Starting Material Sn on Electric Transport Properties of SnSe Single Crystals"
        },
        {
         "title": "Fluorescent Labeling of the Nuclear Envelope by Localizing Green Fluorescent Protein on the Inner Nuclear Membrane."
        },
        {
         "title": "Highly Efficient 17.6% Tin-Lead Mixed Perovskite Solar Cells Realized through Spike Structure."
        },
        {
         "title": "Skull Bone Regeneration Using Chitosan–Siloxane Porous Hybrids—Long-Term Implantation"
        },
        {
         "title": "Tissue spatial correlation as cancer marker"
        },
        {
         "title": "High-quality-guided artificial bee colony algorithm for designing loudspeaker"
        },
        {
         "title": "1D4-2 鏡映描写課題遂行時の自律神経系指標と主観的メンタルワークロード"
        },
        {
         "title": "Functional divergence of duplicate genes several million years after gene duplication in Arabidopsis"
        },
        {
         "title": "アルミニウム平板,丸棒および球の熱伝達冷却"
        },
        {
         "title": "Sol-Gel Preparation of Thick TiO<sub>2</sub> Films for Structural Coloration"
        },
        {
         "title": "Developing a MEMS Device with Built-in Microfluidics for Biophysical Single Cell Characterization"
        },
        {
         "title": "Geometric and compositional factors on critical current density in YBa2Cu3O7−δ films containing nanorods"
        },
        {
         "title": "Thermodynamic Stability of Mg-Based Laves Phases"
        },
        {
         "title": "Direct Synthesis of Graphene Layer Covered Micro Channel on Diamond Surface Using Ni Wire"
        },
        {
         "title": "Improved Flux Pinning for High-Field Applications in BaHfO3-Doped SmBa2Cu3 Oy-Coated Conductors With High Density of Random Pinning Centers Induced by BaHfO 3 Nanorods"
        },
        {
         "title": "Image-based Attention Level Estimation of Interaction Scene by Head Pose and Gaze Information"
        },
        {
         "title": "Seeking key microorganisms for enhancing methane production in anaerobic digestion of waste sewage sludge"
        },
        {
         "title": "A Method to Detect Bit Flips in a Soft-Error Resilient TCAM"
        },
        {
         "title": "Construction of the SHF Test Apparatus to Measure the Partial Discharge Current Waveforms in the Practical Operation Conditions of Power Transformer and Application to Influence of BTA Addition"
        },
        {
         "title": "Deep recurrent neural network for mobile human activity recognition with high throughput"
        },
        {
         "title": "Virtual Reality Implementation of Steering Hands Motion in Driving Simulator with Unity Technology"
        },
        {
         "title": "Experimental study on the effect of shape of bolt and nut on fatigue strength for bolted joint"
        },
        {
         "title": "Effects of submaximal cycling at different exercise intensities on maximal isometric force output of the non-exercised elbow flexor muscles."
        },
        {
         "title": "Relationship between notch strengthening threshold and mechanical property for ductile cast iron"
        },
        {
         "title": "Asymmetry in indegree and outdegree distributions of gene regulatory networks arising from dynamical robustness"
        },
        {
         "title": "High‐Voltage Power Generation on Spacecraft"
        },
        {
         "title": "Enhanced performance of ZnO based perovskite solar cells by Nb2O5 surface passivation"
        },
        {
         "title": "Photoelectrochemical synthesis of aniline from nitrobenzene in a neutral aqueous solution by using a p-type Cu2ZnSnS4 electrode"
        },
        {
         "title": "Special sliding door with storable handrail to support senior and handicapped persons to walk by themselves"
        },
        {
         "title": "Enabling Technologies: Infrastructure for Collaborative Enterprises Editorial for WETICE 2018 Conference"
        },
        {
         "title": "BrainNets: Human Emotion Recognition Using an Internet of Brian Things Platform"
        },
        {
         "title": "Stochastic Lyapunov functions without differentiability at supposed equilibria"
        },
        {
         "title": "Consideration of Relationship Between Shape and Angular Velocity of Particles Under Electrorotation"
        },
        {
         "title": "Influence of Electromagnetic Sensor Location on Repetitive Partial Discharge Inception Voltage in Actual Stator Core of Inverter Fed Motor"
        },
        {
         "title": "A Study on DSR Routing Protocol in Adhoc Network for Daily Activities of Elderly Living"
        },
        {
         "title": "Development of Pillar Electrode Array for Electrorotation Analysis of Single Cells"
        },
        {
         "title": "Clothing Extremity Identification Using Convolutional Neural Network Regressor"
        },
        {
         "title": "Swapping Colored Tokens on Graphs"
        },
        {
         "title": "Generalization of inclusion–exclusion integral for nondiscrete monotone measure space"
        },
        {
         "title": "Loss-Tolerant Event Communications Within Industrial Internet of Things by Leveraging on Game Theoretic Intelligence"
        },
        {
         "title": "One-to-many file transfer using multipath-multicast with gossiping"
        },
        {
         "title": "Control System Design for Safely Performing Preventive Maintenance"
        },
        {
         "title": "Peculiar Optical Characteristics of Different Silicate Source and Synthesis Technique in Europium Doped Li2SrSiO4"
        },
        {
         "title": "Hierarchical Tensor SOM Network for Multilevel–Multigroup Analysis"
        },
        {
         "title": "Optimal Approximation Algorithms for Maximum Distance-Bounded Subgraph Problems"
        },
        {
         "title": "Mouse Anatomical Cardinal Planes and Axes Towards Augmentation for Behavior Analysis"
        },
        {
         "title": "A Study on Sensor-based Activity Recognition Having Missing Data"
        },
        {
         "title": "Structural Effects of Sulfur-Containing Functional Groups on Apatite Formation on Ca2+-Modified Copolymers in a Simulated Body Environment."
        },
        {
         "title": "Subcritical Water-Carbon Dioxide Pretreatment of Oil Palm Mesocarp Fiber for Xylooligosaccharide and Glucose Production"
        },
        {
         "title": "AtPep3 is a hormone-like peptide that plays a role in the salinity stress tolerance of plants"
        },
        {
         "title": "Effects of breathing movement on the reduction of postural sway during postural-cognitive dual tasking"
        },
        {
         "title": "Fuzzy Logic Control of a Battery Energy Storage System for Stability Improvement in an Islanded Microgrid"
        },
        {
         "title": "Gaussian mixture spline trajectory: learning from a dataset, generating trajectories without one"
        },
        {
         "title": "Rules Induced from Rough Sets in Information Tables with Continuous Values"
        },
        {
         "title": "Dependence of Acetate-Based Antisolvents for High Humidity Fabrication of CH3NH3PbI3 Perovskite Devices in Ambient Atmosphere."
        },
        {
         "title": "論理知識型AI に基づく自動運転のための危険予測システムの構築と評価"
        },
        {
         "title": "Some metrization problem on ν-generalized metric spaces"
        },
        {
         "title": "Effects of crystalline electronic field and onsite interorbital interaction in Yb-based quasicrystal and approximant crystal"
        },
        {
         "title": "State of the art in passive digital image forgery detection: copy-move image forgery"
        },
        {
         "title": "Impacts to measurement uncertainty of radiated EMI measurement by setting terminating condition of AC mains cable leaving from test area"
        },
        {
         "title": "A Study on the Placement of Virtual Synchronous Generator in a Two-Area System"
        },
        {
         "title": "Fast and Ultra-Wide Area Bathymetric Survey System Without Support Vessel"
        },
        {
         "title": "Low illumination underwater light field images reconstruction using deep convolutional neural networks"
        },
        {
         "title": "Magnetic properties of GdMnO3 nanoparticles embedded in mesoporous silica"
        },
        {
         "title": "Improved Approximation Algorithms for the Maximum Happy Vertices and Edges Problems"
        },
        {
         "title": "Model-based design approach for implementation of finite state MPC"
        },
        {
         "title": "Design Consideration of a 3D Stacked Power Supply on Chip"
        },
        {
         "title": "A Novel Full Digital control H-bridge DC-DC converter for power Supply on Chip applications"
        },
        {
         "title": "Electrodeposited Cu-Sn Alloy for Electrochemical CO2 Reduction to CO/HCOO−"
        },
        {
         "title": "Automatic identification of bone erosions in rheumatoid arthritis from hand radiographs based on deep convolutional neural network"
        },
        {
         "title": "Live Demonstration: A Hardware Accelerated Robot Middleware Package for Intelligent Processing on Robots"
        },
        {
         "title": "Xilinx System Generator Based Modelling of Finite State MPC"
        },
        {
         "title": "Numerical investigation of a high pressure hydrogen jet of 82 MPa with adaptive mesh refinement: Concentration and velocity distributions"
        },
        {
         "title": "Faddeev approach to the reaction K−d→πΣn at pK=1GeV/c"
        },
        {
         "title": "Crystal-based X-ray Medical Imaging Using Synchrotron Radiation and Its Future Prospect"
        },
        {
         "title": "A Hardware Accelerated Robot Middleware Package for Intelligent Processing on Robots"
        },
        {
         "title": "Implications of doping and depletion on the switching characteristics in polymer-based organic field-effect transistors"
        },
        {
         "title": "Operating Principle of Current Resonant Converter Using Air Core Transformer for Isolated Power Supply on Chip"
        },
        {
         "title": "Modal analysis of reflection of TDR in overhead distribution lines"
        },
        {
         "title": "Alternating landmark navigation of multiple AUVs for wide seafloor survey: Field experiment and performance verification"
        },
        {
         "title": "Unmanned Surface Vehicle for Managing Parallel Cruising of a Multiple AUVs"
        },
        {
         "title": "Active contour model-based segmentation algorithm for medical robots recognition"
        },
        {
         "title": "A novel patch matching algorithm for exemplar-based image inpainting"
        },
        {
         "title": "Nanosecond pulsed electric field incorporation technique to predict molecular mechanisms of teratogenicity and developmental toxicity of estradiol‐17β on medaka embryos"
        },
        {
         "title": "The impact of production defects on the soft-error tolerance of hardened latches"
        },
        {
         "title": "Performance improvement via bagging in probabilistic prediction of chaotic time series using similarity of attractors and LOOCV predictable horizon"
        },
        {
         "title": "Application of Fictitious Reference Iterative Tuning to Controller Design for Various Machines"
        },
        {
         "title": "Flounders Measurement System Using Obtained Optical Images by AUV"
        },
        {
         "title": "Simple Manufacture of Surface-Modified Nanolignocellulose Fiber via Vapor-Phase-Assisted Surface Polymerization"
        },
        {
         "title": "A novel isolation method for cancer prognostic factors via the p53 pathway by a combination of in vitro and in silico analyses"
        },
        {
         "title": "Disorder strength calculation for label-free diagnosis of tissue biopsies using quantitative phase imaging"
        },
        {
         "title": "Micropeptides Encoded in Transcripts Previously Identified as Long Noncoding RNAs: A New Chapter in Transcriptomics and Proteomics"
        },
        {
         "title": "High throughput calculation of local spatial autocorrelation length for label-free diagnosis of tissue biopsy"
        },
        {
         "title": "Optimizing Declarative Parallel Distributed Graph Processing by Using Constraint Solvers"
        },
        {
         "title": "Growth of Metal Halide Perovskite, from Nanocrystal to Micron-Scale Crystal: A Review"
        },
        {
         "title": "Radiation Pressure Induced Hierarchical Structure of Liquid Crystalline Inorganic Nanosheets"
        },
        {
         "title": "A Faster Implementation of Online Run-Length Burrows-Wheeler Transform"
        },
        {
         "title": "Mode Selection Rules for a Two-Delay System with Positive and Negative Feedback Loops"
        },
        {
         "title": "HIL Co-Simulation of Finite Set-Model Predictive Control Using FPGA for a Three-Phase VSI System"
        },
        {
         "title": "Mixed Sn-Ge Perovskite for Enhanced Perovskite Solar Cell Performance in Air."
        },
        {
         "title": "PD Behaviors of Monoester Insulating Oil under Different Moisture Contents"
        },
        {
         "title": "Editorial: Intelligent Industrial IoT Integration with Cognitive Computing"
        },
        {
         "title": "Editorial: Artificial Intelligence for Mobile Robotic Networks"
        },
        {
         "title": "Change in Magnetic Domain Structure of Nd‐Fe‐B Sintered Magnets by Compressive Stress"
        },
        {
         "title": "Development of an emotional expression platform based on LMA-shape and interactive evolution computation"
        },
        {
         "title": "Experimental Evaluation of Accuracy and Efficiency of Alternating Landmark Navigation by Multiple AUVs"
        },
        {
         "title": "Non-uniform de-Scattering and de-Blurring of Underwater Images"
        },
        {
         "title": "Detection of lung carcinoma with predominant ground-glass opacity on CT using temporal subtraction method"
        },
        {
         "title": "DC-bias-voltage dependence of degradation of aluminum electrolytic capacitors"
        },
        {
         "title": "High-pressure effects on isotropic superconductivity in the iron-free layered pnictide superconductor BaPd2As2"
        },
        {
         "title": "Study on Relationship of the Material Removal Amount and the Increase in Abrasive Nanoparticle Size during Si-CMP"
        },
        {
         "title": "Synthesis of three new thiophene condensed pyrene derivatives, crystal structure and evaluation of their photophysical properties"
        },
        {
         "title": "Insight into structural remodeling of the FlhA ring responsible for bacterial flagellar type III protein export"
        },
        {
         "title": "Development of Mobile Magnetic Measurement System Using Laser Beam and Image Processing"
        },
        {
         "title": "Solar-driven H2 evolution over CuNb2O6: Effect of two polymorphs (monoclinic and orthorhombic) on optical property and photocatalytic activity"
        },
        {
         "title": "PREvaIL, an integrative approach for inferring catalytic residues using sequence, structural, and network features in a machine-learning framework"
        },
        {
         "title": "Brain Intelligence: Go beyond Artificial Intelligence"
        },
        {
         "title": "Burning velocities of dimethyl ether (DME)–nitrous oxide (N2O) mixtures"
        },
        {
         "title": "Control Model for Large‐Sized Gantry Type Linear Motor Slider"
        },
        {
         "title": "Anxiety Level Detection Using BCI of Miner’s Smart Helmet"
        },
        {
         "title": "Multisensor Image Fusion and Enhancement in Spectral Total Variation Domain"
        },
        {
         "title": "Investigation of Transient Air-gap Torque of Induction Motors by Bus Transfer"
        },
        {
         "title": "Cycle slip prevention in PLL motion control using multi-state phase detector"
        },
        {
         "title": "Proposal of New Superconducting Magnetic Bearing Using High Tc Superconducting Bulk and Coil."
        },
        {
         "title": "Electroconvection in one-dimensional liquid crystal cells"
        },
        {
         "title": "Magnetic properties and crystal structure of high-purity Fe-(6, 6.5, 7) mass%Si alloys"
        },
        {
         "title": "Trial of Superconducting Magnetic Bearings Applied to High Speed Turbine Rotor."
        },
        {
         "title": "Optical Trapping and Orientation Manipulation of 2D Inorganic Materials Using a Linearly Polarized Laser Beam"
        },
        {
         "title": "Investigating the effectiveness of the sobel operator in the MCA-based automatic crack detection"
        },
        {
         "title": "Velocity-dependent transfer of adaptation in human running as revealed by split-belt treadmill adaptation"
        },
        {
         "title": "Identification of Minimal p53 Promoter Region Regulated by MALAT1 in Human Lung Adenocarcinoma Cells"
        },
        {
         "title": "A new adaptive tracking control scheme of wheeled mobile robot without longitudinal velocity measurement"
        },
        {
         "title": "Disorder strength measured by quantitative phase imaging as intrinsic cancer marker in fixed tissue biopsies"
        },
        {
         "title": "Exact Algorithms for the Max-Min Dispersion Problem"
        },
        {
         "title": "Anisotropic charge transport in highly oriented films of semiconducting polymer prepared by ribbon-shaped floating film"
        },
        {
         "title": "Twist-bend nematic phases in binary mixtures of banana-shaped liquid crystalline molecules"
        },
        {
         "title": "A shared synapse architecture for efficient FPGA implementation of autoencoders"
        },
        {
         "title": "Grüneisen Parameter and Thermal Expansion by the Self-Consistent Renormalization Theory of Spin Fluctuations"
        },
        {
         "title": "Stepwise Mechanism of Temperature-Dependent Coacervation of the Elastin-like Peptide Analogue Dimer, (C(WPGVG)3)2."
        },
        {
         "title": "An Enhanced WAMS‐based Power System Oscillation Analysis Approach"
        },
        {
         "title": "Convenient Adhesive Strength Evaluation Method in Terms of the Intensity of Singular Stress Field"
        },
        {
         "title": "Interparticle coupling effect of silver-gold heterodimer to enhance light harvesting in ultrathin perovskite solar cell"
        },
        {
         "title": "Improvement of the memory function of a mutual repression network in a stochastic environment by negative autoregulation"
        },
        {
         "title": "Angiotensin I Converting Enzyme-inhibiting Peptides Purified from Elastase-degraded Elastin Prepared from Pig Aorta"
        },
        {
         "title": "Performance Evaluation of Numerical Finite Element Coupled Algorithms for Structure–Electric Interaction Analysis of MEMS Piezoelectric Actuator"
        },
        {
         "title": "Nonlinear magnetic responses at the phase boundaries around helimagnetic and skyrmion lattice phases in MnSi: Evaluation of robustness of noncollinear spin texture"
        },
        {
         "title": "Round Robin Test of Residual Resistance Ratio of Nb3Sn Composite Superconductors"
        },
        {
         "title": "Fixed point theorems for single- and set-valued F-contractions in b-metric spaces"
        },
        {
         "title": "Influence of motor imagery on spinal reflex excitability of multiple muscles"
        },
        {
         "title": "Motion and force control with a nonlinear force error filter for underwater vehicle-manipulator systems"
        },
        {
         "title": "Effects of dynamic stress in magnetic superlattice of a monoaxial chiral magnet Cr1/3NbS2"
        },
        {
         "title": "Piper Ornatum and Piper Betle as Organic Dyes for TiO2 and SnO2 Dye Sensitized Solar Cells"
        },
        {
         "title": "Current state and perspectives in hydrogen production by Escherichia coli: roles of hydrogenases in glucose or glycerol metabolism"
        },
        {
         "title": "Rapid Formation and Macroscopic Self‐Assembly of Liquid‐Crystalline, High‐Mobility, Semiconducting Thienothiophene"
        },
        {
         "title": "Validation of double Langmuir probe in-orbit performance onboard a nano-satellite"
        },
        {
         "title": "Finite-Element Analysis for Surface Discharge Due to Interfacial Polarization at the Oil-Nanocomposite Interface"
        },
        {
         "title": "Strong feasibility of the dual problem of linear matrix inequality for H<inf>∞</inf> output feedback control problem"
        },
        {
         "title": "Method to Determine Control of Energy Saving by Using Explanatory Variables for Demand Response"
        },
        {
         "title": "A Dynamic Compressed Self-Index for Highly Repetitive Text Collections"
        },
        {
         "title": "Group Mobility Detection and User Connectivity Models for Evaluation of Mobile Network Functions"
        },
        {
         "title": "Long negative feedback loop enhances period tunability of biological oscillators"
        },
        {
         "title": "Caristi’s fixed point theorem in semimetric spaces"
        },
        {
         "title": "Damage detection in CFRP composite beams based on vibration analysis using proper orthogonal decomposition method with radial basis functions and cuckoo search algorithm"
        },
        {
         "title": "Corticospinal Excitability Is Modulated as a Function of Postural Perturbation Predictability"
        },
        {
         "title": "Cesium Lead Halide Inorganic-Based Perovskite-Sensitized Solar Cell for Photo-Supercapacitor Application under High Humidity Condition"
        },
        {
         "title": "高炉スラグ混合セメント系防食塗料組成物の挙動と防錆メカニズム"
        },
        {
         "title": "Effects of Temperature on Electrochemical Properties of Bismuth Oxide/Manganese Oxide Pseudocapacitor"
        },
        {
         "title": "Path Histogram Distance for Rooted Labeled Caterpillars"
        },
        {
         "title": "Analysis of Team Relationship using Self-Organizing Map for University Volleyball Players"
        },
        {
         "title": "Reversed double-beam photoacoustic spectroscopy of metal-oxide powders for estimation of their energy-resolved distribution of electron traps and electronic-band structure"
        },
        {
         "title": "Torque measurement method based on the Lorentz force law for miniature DC motor"
        },
        {
         "title": "Shift of low to high nucleic acid bacteria as a potential bioindicator for the screening of anthropogenic effects in a receiving river due to palm oil mill effluent final discharge"
        },
        {
         "title": "In-situ growth of nanowire WO2.72 on carbon cloth as a binder-free electrode for flexible asymmetric supercapacitors with high performance"
        },
        {
         "title": "On-off switching of gel formation by red-ox reaction"
        },
        {
         "title": "Improved kinetic model of Escherichia coli central carbon metabolism in batch and continuous cultures"
        },
        {
         "title": "Phase equilibria of the Cu-Ni-Zr ternary systems at 800°C and thermodynamic assessment and metallic glass region prediction for the Cu-Ni-Zr ternary system"
        },
        {
         "title": "Wavelet energy entropy and linear regression classifier for detecting abnormal breasts"
        },
        {
         "title": "D–π–A Dyes that Contain New Hydantoin Anchoring Groups for Dye‐Sensitized Solar Cells"
        },
        {
         "title": "Observation of zero resistance in as-electrodeposited FeSe"
        },
        {
         "title": "Discrete-time optimal controller for load frequency control of multi-source power system in Egypt"
        },
        {
         "title": "Complexity of the Maximum k-Path Vertex Cover Problem"
        },
        {
         "title": "Enumeration of Nonisomorphic Interval Graphs and Nonisomorphic Permutation Graphs"
        },
        {
         "title": "Ultrafast Electron Injection from Photoexcited Perovskite CsPbI3 QDs into TiO2 Nanoparticles with Injection Efficiency near 99."
        },
        {
         "title": "Functional analysis of thyroid hormone receptor beta in Xenopus tropicalis founders using CRISPR-Cas"
        },
        {
         "title": "Nonlinear Conductivity of Geometrically Frustrated Iridate Ca\n                    5\n                    Ir\n                    3\n                    O\n                    12"
        },
        {
         "title": "Domain Invariant Subspace Learning for Cross-Modal Retrieval"
        },
        {
         "title": "Three-dimensional Numerical Simulation on Hydrogen-Oxygen Rotating Detonation Engine with Unchoked Aerospike Nozzle"
        },
        {
         "title": "Star Selection algorithm for Arcsecond Pico Star Tracker"
        },
        {
         "title": "Adhesion control of interface between cellulose and polypropylene by vapor‐phase assisted surface copolymerization"
        },
        {
         "title": "Field-induced oblique helicoidal cholesteric phases in mixtures of chiral and achiral liquid crystalline molecules"
        },
        {
         "title": "Interval observers for global feedback control of nonlinear systems with robustness with respect to disturbances"
        },
        {
         "title": "Construction and characterization of mutated LEA peptides in Escherichia coli to develop an efficient protein expression system"
        },
        {
         "title": "Novel stable structure of Li\n                    3\n                    PS\n                    4\n                    predicted by evolutionary algorithm under high-pressure"
        },
        {
         "title": "Numerical simulation of the hair formation –modeling of hair cycle"
        },
        {
         "title": "The strongly compatible topology on ν-generalized metric spaces"
        },
        {
         "title": "Efficient MIMO video transmission scheme for the scalable video coding extension of HEVC"
        },
        {
         "title": "The Role of the Isospin 3/2 Component in Elastic Neutron-Deuteron Scattering and in the Deuteron Breakup Reaction"
        },
        {
         "title": "Move-optimal partial gathering of mobile agents in asynchronous trees"
        },
        {
         "title": "Towards pervasive geospatial affect perception"
        },
        {
         "title": "Tighter Bounds and Optimal Algorithms for All Maximal α-gapped Repeats and Palindromes"
        },
        {
         "title": "Geometrical protection of topological magnetic solitons in microprocessed chiral magnets"
        },
        {
         "title": "Nucleon-deuteron scattering with the JISP16 potential"
        },
        {
         "title": "Characteristics of surface modified Ti-6Al-4V alloy by a series of YAG laser irradiation"
        },
        {
         "title": "Study of the Smartphone Operation Support System for Visually Impaired People"
        },
        {
         "title": "Synthesis, crystal structure and photo physical properties of isomeric fluorinated s-shaped polyaromatic dibenzo[c,l]chrysene derivatives"
        },
        {
         "title": "Study on Headphone Hearing Loss Prevention Methods Based on the Melody Structure of Music on Portable Music Player"
        },
        {
         "title": "Numerical modelling of the influence of stromal cells on tumor growth and angiogenesis"
        },
        {
         "title": "SVM ensemble approaches for improving texture classification performance based on complex network model with spatial information"
        },
        {
         "title": "EMI designs support system using augmented reality"
        },
        {
         "title": "Improvement of (R,R)-2,3-butanediol production from corn stover hydrolysate by cell recycling continuous fermentation"
        },
        {
         "title": "Synthesis of Co–B in porous carbon using a metal–organic framework (MOF) precursor: A highly efficient catalyst for the oxygen evolution reaction"
        },
        {
         "title": "Trial of Superconducting Magnetic Bearings Applied to High-Speed Turbine Rotor"
        },
        {
         "title": "Novel method for evaluation of hindfoot alignment in weight-bearing position using laser beam"
        },
        {
         "title": "複合荷重試験での抵抗スポット溶接重ね継手強度の荷重角度依存性について"
        },
        {
         "title": "HGF (Hepatocyte Growth Factor)"
        },
        {
         "title": "A Solvent Model of Nucleotide–Protein Interaction—Partition Coefficients of Phosphates Between Water and Organic Solvent"
        },
        {
         "title": "Low-temperature processed non-TiO 2 electron selective layers for perovskite solar cells"
        },
        {
         "title": "Computational Complexity of Robot Arm Simulation Problems"
        },
        {
         "title": "Nearest Neighbor Search using Sketches as Quantized Images of Dimension Reduction"
        },
        {
         "title": "Discrimination of Electroencephalograms on Recognizing and Recalling Playing Cards—A Magic Without Trick"
        },
        {
         "title": "生物の意識メカニズムを模倣したロボットアームの行動設計感情遷移過程の表情表現"
        },
        {
         "title": "Sports Game Summarization Based on Sub-events and Game-Changing Phrases"
        },
        {
         "title": "Self-assembly and ring-opening metathesis polymerization of cyclic conjugated molecules on highly ordered pyrolytic graphite"
        },
        {
         "title": "ローラチェーンの疲労強度解析と損傷評価"
        },
        {
         "title": "Graph Orientation with Splits"
        },
        {
         "title": "Robust Virtual Inertia Control of an Islanded Microgrid Considering High Penetration of Renewable Energy"
        },
        {
         "title": "Label Estimation Method with Modifications for Unreliable Examples in Taming"
        },
        {
         "title": "超音速翼型のMulti-Fidelity空力最適化に向けた低精度および高精度CFDならびにその統合的近似モデル手法の検討"
        },
        {
         "title": "Machine Learning of User Attentions in Sensor Data Visualization"
        },
        {
         "title": "超電導コイルを用いた磁気浮上システムにおける100mm級ギャップの浮上実験と特性評価"
        },
        {
         "title": "軟性内視鏡挿入支援マスタスレーブ型ロボットの開発"
        },
        {
         "title": "自己組織化マップによるマルチビュー関係データの包括的可視化"
        },
        {
         "title": "Sensing Experiment in a Caregiving Facility for Correlation Analysis of Sleep and Daytime Activities"
        },
        {
         "title": "ウォームギアを用いたチルト角制御機構を有するクアッドコプターに関する研究"
        },
        {
         "title": "メカトロニクスシステムの制御ゲイン調整にFRITを適用する場合の実用性検証"
        },
        {
         "title": "Dialogue Breakdown Detection with Long Short Term Memory"
        },
        {
         "title": "無線電力伝送を利用した超軽量飛行機の遠隔操縦飛行"
        },
        {
         "title": "The 26th IEEE International Symposium on Robot and Human Interactive Communication (RO-MAN 2017)"
        },
        {
         "title": "Microparticles Preparation Using Water-in-Oil Emulsion"
        },
        {
         "title": "Prominent Parameters in Biogas Production Systems"
        },
        {
         "title": "超高速衝突試験手順の国際標準化と今後の計画について"
        },
        {
         "title": "切欠きを有する平板試験片におけるひずみ速度集中係数と応力集中係数の関係について"
        },
        {
         "title": "空力干渉効果を考慮した二段式有翼ロケットの分離解析"
        },
        {
         "title": "薄型AEセンサとオートエンコーダの再構成誤差を用いた 回転式真空ポンプの異常検知"
        },
        {
         "title": "Difference of Gaussian Oriented Gradient Histogram for Face Sketch to Photo Matching"
        },
        {
         "title": "List of Contributors"
        },
        {
         "title": "Self-Stabilized Carbon-<inline-formula><tex-math notation=\"LaTeX\">$L{{1}}_{0}$</tex-math> </inline-formula> FePt Nanoparticles for Heated Dot Recording Media"
        },
        {
         "title": "Optimal Design of Power System Stabilizer Using Remote Signal Considering the Transport Delay"
        },
        {
         "title": "フルカラー構造化光を用いた水中三次元計測"
        },
        {
         "title": "浮遊型双腕ロボットに搭載した3リンクアームのインピーダンス制御"
        },
        {
         "title": "遠隔操作水中ロボットのための操作支援システムの開発"
        },
        {
         "title": "A Multi-Sensor Setting Activity Recognition Simulation Tool"
        },
        {
         "title": "Activity Recognition: Translation across Sensor Modalities Using Deep Learning"
        },
        {
         "title": "State assignment method for improvement of transient response caused by controller switching ⁎ ⁎ This research was supported by JSPS KAKENHI Grant # 17K06488, Japan Society for the Promotion of Science."
        },
        {
         "title": "Sequential Convex Overbounding Approximation Method for Bilinear Matrix Inequality Problems"
        },
        {
         "title": "駆動モジュールの脱着により車輪数を変更できる環境計測ロボットの開発"
        },
        {
         "title": "Key Factor for the Transformation from hcp to 18R-Type Long-Period Stacking Ordered Structure in Mg Alloys"
        },
        {
         "title": "各種濃度勾配による好中球運動とその推進機構解明"
        },
        {
         "title": "Optimal Placement and Tuning Approach for Design of Power System Stabilizers and Wide Area Damping Controllers Considering Transport Delay"
        },
        {
         "title": "温度応答性樹脂を用いてバルブ機能を付与した多孔質膜の開発"
        },
        {
         "title": "各種のサイトカイン濃度勾配による好中球運動と膜上濃度分布の観察と推進機構解明"
        },
        {
         "title": "Approximation Algorithms for Packing Directed Acyclic Graphs into Two-Size Blocks"
        },
        {
         "title": "Research on Formal Design and Verification of Operating Systems"
        },
        {
         "title": "円柱状突起を有するデバイスの形状がウレタンフォームマットレスの圧力分散測定に及ぼす影響"
        },
        {
         "title": "Concurrent Execution in Scripting Programming Language ‘mruby’"
        },
        {
         "title": "Energetics of Myosin ATP Hydrolysis by Calorimetry"
        },
        {
         "title": "Numerical Simulation on Rotating Detonation Engine: Effects of Higher-Order Scheme"
        },
        {
         "title": "フラッシュ型エアデータセンシングシステムのアルゴリズムにおける特異点の解析"
        },
        {
         "title": "有機強誘電体を用いたカテーテル型触覚センサによる血管モデルの測定"
        },
        {
         "title": "An asynchronous P system with branch and bound for solving the satisfiability problem"
        },
        {
         "title": "Development of an Affective State Scale for Sports Performance Prediction for University Student-Athletes"
        },
        {
         "title": "Structural effects of phosphate groups on apatite formation in a copolymer modified with Ca 2+ in a simulated body fluid"
        },
        {
         "title": "Experimental Investigation of Fuel Regression Rate of Low-Melting-Point Thermoplastic Fuels in the Altering-Intensity Swirling-Oxidizer-Flow-Type Hybrid Rocket Engine"
        },
        {
         "title": "Performance Analysis of an X-Band Circular Polarized Antenna for Nanosatellite Communication"
        },
        {
         "title": "A Compact Printed Monopole Antenna With Wideband Circular Polarization"
        },
        {
         "title": "LZ-ABT: A Practical Algorithm for $$\\alpha $$-Balanced Grammar Compression"
        },
        {
         "title": "A Mobile App for Nursing Activity Recognition"
        },
        {
         "title": "Environment Recognition for Electric Wheelchair Based on YOLOv2"
        },
        {
         "title": "深層学習を用いた環境変化に頑健な脳波判別"
        },
        {
         "title": "Efficient page-cache encryption for smart devices with non-volatile main memory"
        },
        {
         "title": "Secure Out-of-band Remote Management of Virtual Machines with Transparent Passthrough"
        },
        {
         "title": "6th International Workshop on Human Activity Sensing Corpus and Applications (HASCA)"
        },
        {
         "title": "Statistical Shape Model Generation Using K-means Clustering"
        },
        {
         "title": "Activity Recognition by Using LoRaWAN Sensor"
        },
        {
         "title": "円管内オリフィスならびにノズルまわりのせん断流れにおける溶血・血栓形成の予測について"
        },
        {
         "title": "カプセル型粒状体ダンパの制振効果"
        },
        {
         "title": "Gel electrophoresis and hybridization of DNA-functionalized quantum-dots as part of a study of linear quantum-dot chains"
        },
        {
         "title": "Hypervelocity impact phenomena of LPSO-magnesium alloys"
        },
        {
         "title": "Head Pose Estimation Using Convolutional Neural Network"
        },
        {
         "title": "CNPにおけるナノ復合化微粒子に関する研究"
        },
        {
         "title": "カスケード接続した機能の異なるCNNと時系列フィルタによる特定物体の認識と追跡"
        },
        {
         "title": "身体情報を内在する複雑構造ロボットの制御手法の開発"
        },
        {
         "title": "競技会活動を通じたホームサービスロボットの研究開発"
        },
        {
         "title": "跳躍による鳥型飛行ロボットの離陸の実現"
        },
        {
         "title": "酸化物高温超電導コイルを用いた極低温リニアモータの試作と評価"
        },
        {
         "title": "MEB における発生気泡について"
        },
        {
         "title": "IEEE Access Special Section Editorial: Advanced Signal Processing Methods In Medical Imaging"
        },
        {
         "title": "保存修復歯の破折可能性に関する有限要素解析"
        },
        {
         "title": "パラメトリック解析による有翼ロケット実験機に搭載するRCSの設計と制御性能評価"
        },
        {
         "title": "English writing eportfolio for university STEM majors"
        },
        {
         "title": "二成分Lennard-Jones流体における対応状態原理の成立性"
        },
        {
         "title": "Effective Oxygen Reduction and Evolution Catalysts Derived from Metal Organic Frameworks by Optimizing Active Sites"
        },
        {
         "title": "異なる立場での研究留学"
        },
        {
         "title": "Stock Market Prediction Using Keywords from Expert Articles"
        },
        {
         "title": "Sarcasm Detection Using Features Based on Indicator and Roles"
        },
        {
         "title": "A Describing Method of an Image Processing Software in C for a High-Level Synthesis Considering a Function Chaining"
        },
        {
         "title": "The 30th IEEE/RSJ International Conference on Intelligent Systems and Robots(IROS 2017)"
        },
        {
         "title": "疎水・親水マイクロ複合伝熱面の凝縮熱伝達促進効果"
        },
        {
         "title": "Robust PID Controller Design for Both Delay-Free and Time-Delay Systems ⁎ ⁎ This work was supported by KAKENHI (16K14286)."
        },
        {
         "title": "血管内治療デバイス留置シミュレータの開発"
        },
        {
         "title": "Expressive Human Pose Deformation Based on the Rules of Attractive Poses"
        },
        {
         "title": "Novel method for evaluation of frontal plane knee alignment using bony prominences in patients with osteoarthritis"
        },
        {
         "title": "Global response of Magnetic field and Ionosonde observations to intense solar flares on 6 and 10 September 2017"
        },
        {
         "title": "複眼立体認識を用いた水中嵌合実験(AUVを用いた制御機能検証)"
        },
        {
         "title": "Pre-Consulting Dialogue Systems for Telemedicine: Yes/No Intent Classification"
        },
        {
         "title": "Supervised and Neural Classifiers for Locomotion Analysis"
        },
        {
         "title": "鳥類の筋肉構造を模した羽ばたき飛行ロボットの羽ばたき動作の実現"
        },
        {
         "title": "亜音速流中で誘起される再突入カプセルの回転運動"
        },
        {
         "title": "Modal-adversarial Semantic Learning Network for Extendable Cross-modal Retrieval"
        },
        {
         "title": "コールドクルーシブル溶解法で溶製した高純度Fe-3 mass%Si合金の磁気特性と機械的特性"
        },
        {
         "title": "Robustness of DNA Strand Displacement Systems⋆ ⁎ ⁎ This work was supported by JSPS KAKENHI Grant Number 15H01715. A part of computation was performed with the Super computer system PRIMERGY CX400 (Kyushu University)"
        },
        {
         "title": "積層自己符号化器を用いた多思考脳波判別手法の開発"
        },
        {
         "title": "脳卒中上肢リハビリのための骨盤運動バイラテラルロボット装具の開発"
        },
        {
         "title": "PVDFフィルムを用いたカテーテル型触覚センサによる血管モデルの表面性状測定"
        },
        {
         "title": "圧電ポリマーを用いた携帯式薄板型触覚センサの応用"
        },
        {
         "title": "磁力を用いる構造が簡単な柔軟ロボットグリッパ"
        },
        {
         "title": "Oil Palm Biomass Cellulose-Fabricated Polylactic Acid Composites for Packaging Applications"
        },
        {
         "title": "On the Special Issue of Annual Conference of Power and Energy Society, IEE of Japan"
        },
        {
         "title": "Motor Anomaly Detection for Aerial Unmanned Vehicles Using Temperature Sensor"
        },
        {
         "title": "小型有翼ロケット実験機の誘導制御システムの設計と性能評価"
        },
        {
         "title": "呼吸と心拍の信号強度を用いた寝姿勢識別の改善手法"
        },
        {
         "title": "革新構造設計への道しるべ"
        },
        {
         "title": "Gamification for High-Quality Dataset in Mobile Activity Recognition"
        },
        {
         "title": "ピッチ差付ボルト・ナット締結体におけるサイズが異なる場合の最適な緩み止め効果を得るためのピッチ差の設計"
        },
        {
         "title": "BIRDS-1 CubeSat Constellation Using Compact UHF Patch Antenna"
        },
        {
         "title": "A Diffeomorphic Demons Approach to Statistical Shape Modeling"
        },
        {
         "title": "Underwater Light Field Depth Map Restoration Using Deep Convolutional Neural Fields"
        },
        {
         "title": "Negative-µ Metamaterial-Based Stacked Antenna for 1U CubeSat Communication"
        },
        {
         "title": "気泡微細化沸騰の発生機構に関する研究"
        },
        {
         "title": "New estimation model of the initial lower limb angle to improve angle estimation during the extension phase of standing-up movement"
        },
        {
         "title": "超電導コイルを使用した高推力リニア駆動型ポンプシステムの作製と液体窒素移送実験評価"
        },
        {
         "title": "16 Modification of Carbon-Based Electroactive Materials for Supercapacitor Applications"
        },
        {
         "title": "Sedentary Lifestyle を送る大学生を対象とした異なる姿勢への鍼刺激によるリラックス効果"
        },
        {
         "title": "多層ニューラルネットワークのベイズ最適化による移動ロボット制御向けBCIの性能改善"
        },
        {
         "title": "Chemical Thermodynamics in Materials Science, From Basics to Practical Applications"
        },
        {
         "title": "鉄鋼中の水素拡散に添加元素(Mn,Cr,Ni)が与える影響に関する第一原理計算"
        },
        {
         "title": "データセットを必要としないオンライン初期軌道生成"
        },
        {
         "title": "Improving Sensor-based Activity Recognition Using Motion Capture as Additional Information"
        },
        {
         "title": "The human-based evolutionary computation system enabling us to follow the solution evolution"
        },
        {
         "title": "Study of LoRaWAN Technology for Activity Recognition"
        },
        {
         "title": "Automatic Detection of Cell Regions in Microscope Images Based on BFED Algorithm"
        },
        {
         "title": "垂直1自由度振動系におけるカプセル型粒状体ダンパの制振効果"
        },
        {
         "title": "弁周囲逆流モデルでのせん断流れによる血栓形成の可視化とその解析"
        },
        {
         "title": "衝撃波培養組織再生システム開発のための時短パルスレーザー誘起衝撃波生成の基礎的検討"
        },
        {
         "title": "Synthesis of Fe, Co Incorporated in P-Doped Porous Carbon Using a Metal-Organic Framework (MOF) Precursor as Stable Catalysts for Oxygen Reduction Reaction"
        },
        {
         "title": "Development of Hands-free Speech Enhancement System for Both EL-users and Esophageal Speech Users"
        },
        {
         "title": "動的分散遺伝的アルゴリズムの多目的最適化問題への拡張と超音速翼型設計への応用"
        },
        {
         "title": "2.5次元構造を有する昆虫規範型微小飛行体の試作"
        },
        {
         "title": "Mid-infrared absorption of trapped electrons in titanium( iv ) oxide particles using a photoacoustic FTIR technique"
        },
        {
         "title": "Tool for Extracting Latent Field Overseers’ Knowledge for Risk Recognition on Eyes and Algorithm for Structuring Meta and Domain Knowledge from Utterances"
        },
        {
         "title": "Novel Low Cost, Double-and-Triple-Node-Upset-Tolerant Latch Designs for Nano-scale CMOS"
        },
        {
         "title": "Earth Mover’s Distances for Rooted Labaled Unordered Trees based on Tai Mapping Hierarchy"
        },
        {
         "title": "Understanding charge transfer and recombination by interface engineering for improving the efficiency of PbS quantum dot solar cells"
        },
        {
         "title": "Size Effects on Magnetic Property and Crystal Structure of Mn₃O₄ Nanoparticles in Mesoporous Silica"
        },
        {
         "title": "竹繊維強化ポリプロピレン複合体の難燃化における膨張性黒鉛の効果"
        },
        {
         "title": "Image Processing Based on the Optimal Threshold for Signature Verification"
        },
        {
         "title": "Design and Analysis of an Optimized S-shaped Resonator Based Triple Band Microstrip Antenna for Satellite Applications"
        },
        {
         "title": "Fairness Aspects of Secondary Radio Spectrum Access"
        },
        {
         "title": "画像処理を用いた線状柔軟物体の接触力推定"
        },
        {
         "title": "ホームサービスロボットにおける命令文中の単語意味ベクトルに注目した最適行動識別"
        },
        {
         "title": "形状記憶ポリマーを利用した関節と皮膚の剛性可変なロボットアームの研究"
        },
        {
         "title": "移動ロボット制御向けBCIにおけるサポートベクターマシンと多層ニューラルネットワークの性能比較"
        },
        {
         "title": "Summary of the Sussex-Huawei Locomotion-Transportation Recognition Challenge"
        },
        {
         "title": "極低温ポンプを想定した超電導リニアモータの改善"
        },
        {
         "title": "High repeatability from 3D experimental platform for quantitative analysis of cellular branch pattern formations"
        },
        {
         "title": "SOI-nMOSFETの機械的応力に起因する電気特性変動"
        },
        {
         "title": "Preface: Special Issue on Workshop on Advances in Parallel and Distributed Computational Models 2017"
        },
        {
         "title": "Proposal of New Superconducting Magnetic Bearing Using High $T_{c}$ Superconducting Bulk and Coil"
        },
        {
         "title": "From von Neumann Architecture and Atanasoff’s ABC to Neuromorphic Computation and Kasabov’s NeuCube. Part II: Applications"
        },
        {
         "title": "Characterization of ∑-Semicompleteness via Caristi’s Fixed Point Theorem in Semimetric Spaces"
        },
        {
         "title": "3次元突合せ継手の特異応力場に基づく接着強度"
        },
        {
         "title": "Association Rule-Based Modal Analysis for Various Data Sets with Uncertainty"
        },
        {
         "title": "SOM2およびCCA-SOMを用いた顎顔面骨格形状と嚥下能力との関係性解析"
        },
        {
         "title": "多階層ダイナミックインバージョン法に基づく有翼ロケットの滑空飛行制御系設計と安定性解析法"
        },
        {
         "title": "A 20-ch TDC/ADC Hybrid Architecture LiDAR SoC for 240 $\\times$ 96 Pixel 200-m Range Imaging With Smart Accumulation Technique and Residue Quantizing SAR ADC"
        },
        {
         "title": "過熱水蒸気処理タケ短繊維の表面特性とポリプロピレン複合体の帯電防止特性"
        },
        {
         "title": "パラレルリンク型多自由度関節機構の構造解析"
        },
        {
         "title": "個体識別へ向けた微小磁気タグの研究"
        },
        {
         "title": "固定物体を片手把持した浮遊型3リンク双腕水中ロボットの分解加速度制御"
        },
        {
         "title": "Activity Recognition and Wireless Sensor Network Optimization"
        },
        {
         "title": "人間とロボットのマルチエージェントシステムに向けたフットサルにおける協調行動の解析"
        },
        {
         "title": "FPGAを用いたDeep Learningによる自動車ナンバープレートの認識"
        },
        {
         "title": "リカレント型ニューラルネットワークとRapidly-exploring Random Treeによる環境変化に適応可能なパスプランニング"
        },
        {
         "title": "複数人の脳波情報を用いた汎用脳波判別モデルの開発"
        },
        {
         "title": "ステレオビジョンを用いた多視点幾何モデルのリアルタイム処理の実現"
        },
        {
         "title": "曳航型水中ロボットの操作改善"
        },
        {
         "title": "大型ガントリ型リニアモータスライダの周波数応答取得による動特性解析"
        },
        {
         "title": "Motion Planning by T-RRT with Potential Function for Vertical Articulated Robots"
        },
        {
         "title": "Schumann resonance parameters at Kuju station during solar flares"
        },
        {
         "title": "An Optical Image Transmission System for Deep Sea Creature Sampling Missions Using Autonomous Underwater Vehicle"
        },
        {
         "title": "ブタ後ろ足皮膚表面のずれに対する皮下組織の力学的応答の測定"
        },
        {
         "title": "Rule Induction Based on Indiscernible Classes from Rough Sets in Information Tables with Continuous Values"
        },
        {
         "title": "強度可変酸化剤流旋回型ハイブリッドロケットにおける酸化剤軸・接線噴射の非定常数値解析"
        },
        {
         "title": "複合材製液体酸素タンクの開発に向けた要素試験"
        },
        {
         "title": "Oxygen induced enhancement of NIR emission in brookite TiO 2 powders: comparison with rutile and anatase TiO 2 powders"
        },
        {
         "title": "Incredible PCE enhancement induced by damaged perovskite layers: deeply understanding the working principle of additives in bulk heterojunction perovskite solar cells"
        },
        {
         "title": "加速度環境におけるワックス燃料の境界層燃焼可視化実験へ向けた着火方法の検討"
        },
        {
         "title": "Fish Species Recognition Based on CNN Using Annotated Image"
        },
        {
         "title": "Inorganic-Organic Hybrids for Biomedical Applications"
        },
        {
         "title": "Fault Location Without Wave Velocity Influence Using Wavelet and Clark Transform"
        },
        {
         "title": "自動ピアノのための演奏情報編集支援システムに関する研究"
        },
        {
         "title": "Preface"
        },
        {
         "title": "ロボコンプロデュース2017"
        },
        {
         "title": "低価格EMGセンサを用いた多自由度義手の操作手法に関する研究"
        },
        {
         "title": "ロボットによる衣服操作のためのMask R-CNNを用いた複数衣服の認識"
        },
        {
         "title": "Frequency Stabilization of Renewable Power Systems Based on MPC With Application to The Egyptian Grid"
        },
        {
         "title": "A small-gain theorem in the absence of strong iISS"
        },
        {
         "title": "マルチコプタのためのパッシブ姿勢安定化機構の検討"
        },
        {
         "title": "視覚情報に基づくトマト果実収穫ロボットの行動戦略(第四報)"
        },
        {
         "title": "対象物の空間中の動作と人の把持動作の計測に基づく産業用ロボットの実演教示"
        },
        {
         "title": "アンプラグドパワードスーツを用いたパーキンソン病患者のすくみ足解除の検討"
        },
        {
         "title": "Attempts to Detect Microsaccades from Eye Movements in Anticipatory Response Situations: Introducing Anticipatory Response Tasks toward Tennis Serve"
        },
        {
         "title": "極低温下におけるベアリングレスモータの浮上回転特性とポンプ応用"
        },
        {
         "title": "昆虫規範型微小飛行体用トランスミッションのポリマーマイクロマシニングと駆動試験"
        },
        {
         "title": "Experimental and Numerical Investigation on Cold-formed Steel C Back-to-Back Beams"
        },
        {
         "title": "Experimental and Numerical Study on Cold-formed Steel Built-up Box Beams"
        },
        {
         "title": "Tissue disorder strength measured by quantitative phase imaging as intrinsic cancer marker"
        },
        {
         "title": "Ubiquity of unconventional phenomena associated with critical valence fluctuations in heavy fermion metals"
        },
        {
         "title": "Structural Stability of Iodide Perovskite: A Combined Cluster Expansion Method and First-Principles Study"
        },
        {
         "title": "Mode Selection Rule for Three-Delay Systems"
        },
        {
         "title": "Proton-Driven Intercalation and Ion Substitution Utilizing Solid-State Electrochemical Reaction."
        },
        {
         "title": "Effect of metallographic structure and machining process on the apatite-forming ability of sodium hydroxide- and heat-treated titanium"
        },
        {
         "title": "Effects of Interface Engineering on Photoexcited Carrier Dynamics and Photovoltaic Performance in Perovskite Solar Cells"
        },
        {
         "title": "Unmanned Aerial Vehicle Quadcopter: A Review"
        },
        {
         "title": "Formation of metastable phases in Zr-ion-irradiated Al2O3 upon thermal annealing."
        },
        {
         "title": "A Highly Specific Genome-Wide Association Study Integrated with Transcriptome Data Reveals the Contribution of Copy Number Variations to Specialized Metabolites in Arabidopsis thaliana Accessions."
        },
        {
         "title": "Effectiveness of higher order controllers for uncertain systems"
        },
        {
         "title": "Robust design of DNA feedback regulator for molecular robot"
        },
        {
         "title": "Alpha-synuclein facilitates to form short unconventional microtubules that have a unique function in the axonal transport"
        },
        {
         "title": "Modeling and Estimation of LCD Noise Modulation for Radio Frequency Interference"
        },
        {
         "title": "Characterizations of contractive conditions by using convergent sequences"
        },
        {
         "title": "Methods for quantitative studies of seafloor hydrothermal systems using 3D visual reconstructions"
        },
        {
         "title": "Thermal diodes, regulators, and switches: Physical mechanisms and potential           applications"
        },
        {
         "title": "Fabrication, microstructure, and wear performance of WC-Fe composite/metal coating fabricated by resistance seam welding"
        },
        {
         "title": "Genetic algorithm for decentralized PI controller tuning of a multi-span web transport system based on overlapping decomposition"
        },
        {
         "title": "Production of methyl esters from waste cooking oil using a heterogeneous biomass-based catalyst"
        },
        {
         "title": "Reduction of H<inf>&#x221E;</inf> state feedback control problems for the servo systems"
        },
        {
         "title": "A bias fault estimation of actuators and sensors by optimization with &#x2113;<inf>0</inf> norm constraint"
        },
        {
         "title": "Robust controller design with fixed-order controllers using FNFR models"
        },
        {
         "title": "Underwater Optical Image Processing: a Comprehensive Review"
        },
        {
         "title": "Erratum to: Enhancement of deep-sea floor images obtained by an underwater vehicle and its evaluation by crab recognition"
        },
        {
         "title": "Enhancement of deep-sea floor images obtained by an underwater vehicle and its evaluation by crab recognition"
        },
        {
         "title": "Complete set of deuteron analyzing powers from d⃗p elastic scattering at 190 MeV/nucleon"
        },
        {
         "title": "Voltage control of modular multilevel converter employing finite control set-model predictive control"
        },
        {
         "title": "Current Spike Reduction Technique for High Power Laser Diode Driver with Pulse Current Output"
        },
        {
         "title": "Cyclic perylene diimide: Selective ligand for tetraplex DNA binding over double stranded DNA"
        },
        {
         "title": "Development of universal parallel gripper using reformed magnetorheological fluid"
        },
        {
         "title": "Limitations of a metabolic network-based reverse ecology method for inferring host–pathogen interactions"
        },
        {
         "title": "Detection of a Specific Moving Object from Head-Mounted Camera Images"
        },
        {
         "title": "A developed model predictive control algorithm for modular multilevel converter with reduced execution time"
        },
        {
         "title": "Fabrication of structure-preserving monodisperse particles of PMMA-grafted fullerenes"
        },
        {
         "title": "Decentralized model predictive control strategy of a realistic multi power system automatic generation control"
        },
        {
         "title": "An efficient ward-based copy-move forgery detection method for digital image forensic"
        },
        {
         "title": "Development of an altitude-keeping system for underwater robots using laser beams"
        },
        {
         "title": "Effect of excitation power on voltage induced local magnetization dynamics in an ultrathin CoFeB film"
        },
        {
         "title": "Physics-Based Dipole Moment Source Reconstruction for RFI on a Practical Cellphone"
        },
        {
         "title": "Live imaging of H3K9 acetylation in plant cells"
        },
        {
         "title": "Voltage-induced magnetization dynamics in CoFeB/MgO/CoFeB magnetic tunnel junctions"
        },
        {
         "title": "Development of Frequency Based Taste Receptors Using Bioinspired Glucose Nanobiosensor"
        },
        {
         "title": "Study on Acceleration Factor at 5000 h Multiple Stress Test and Aging Evaluation of EVA Insulator"
        },
        {
         "title": "Modeling and simulation of the redox regulation of the metabolism in Escherichia coli at different oxygen concentrations"
        },
        {
         "title": "Force sensor utilizing stiffness change of shape-memory polymer based on temperature"
        },
        {
         "title": "Multifunctional biological activities of water extract of housefly larvae (Musca domestica)"
        },
        {
         "title": "Potential of a power supply on chip for solar cell based energy harvesting systems"
        },
        {
         "title": "Data integration aids understanding of butterfly–host plant networks"
        },
        {
         "title": "Scale effect of slip boundary condition at solid–liquid interface"
        },
        {
         "title": "Simple and sophisticated inning summary generation based on encoder-decoder model and transfer learning"
        },
        {
         "title": "Katanin p80, NuMA and cytoplasmic dynein cooperate to control microtubule dynamics"
        },
        {
         "title": "Nadler’s fixed point theorem in ν-generalized metric spaces"
        },
        {
         "title": "Low Latency IDMA With Interleaved Domain Architecture for 5G Communications"
        },
        {
         "title": "Helium Irradiation and Implantation Effects on the Structure of Amorphous Silicon Oxycarbide"
        },
        {
         "title": "The weakest contractive conditions for Edelstein’s mappings to have a fixed point in complete metric spaces"
        },
        {
         "title": "A Study on Human-Robot Collaboration for Table-Setting Task"
        },
        {
         "title": "Open eyes influence on electroencephalography signals for constructing neural network classifiers as mobile robot control brain-computer interface"
        },
        {
         "title": "Characterization and degradation study of chitosan-siloxane hybrid microspheres synthesized using a microfluidic approach"
        },
        {
         "title": "Implementation and validation of a lumped model for an experimental multi-span web transport system"
        },
        {
         "title": "A developed concentrated solar power model using artificial neural network technique"
        },
        {
         "title": "Performance as electrode of electrical double layer capacitor of activated carbon prepared from bamboo using guanidine phosphate and CO2 activation"
        },
        {
         "title": "Basic inequality on a b-metric space and its applications"
        },
        {
         "title": "Colloidal Synthesis of Air-Stable Alloyed CsSn1-xPbxI3 Perovskite Nanocrystals for Use in Solar Cells."
        },
        {
         "title": "Tuning nanoparticle size for enhanced functionality in perovskite thin films deposited by metal organic deposition"
        },
        {
         "title": "Light engineering for bifacial transparent perovskite solar cells with high performance"
        },
        {
         "title": "Dependences of the Optical Absorption, Ground State Energy Level, and Interfacial Electron Transfer Dynamics on the Size of CdSe Quantum Dots Adsorbed on the (001), (110), and (111) Surfaces of Single Crystal Rutile TiO\n                    2"
        },
        {
         "title": "Low-Temperature Carrier Transport in Ionic-Liquid-Gated Hydrogen-Terminated Silicon"
        },
        {
         "title": "Numerical study of surface dimple phenomenon by starvation in simple sliding contact"
        },
        {
         "title": "In Situ Fabrication of Integrated Electrode of Perovskite Solar Cells"
        },
        {
         "title": "First interactions between hydrogen and stress-induced reverse transformation of Ni–Ti superelastic alloy"
        },
        {
         "title": "C-axis correlated pinning mechanism in vortex liquid and solid phases for Sm123 film with well-aligned BaHfO3 nanorods"
        },
        {
         "title": "A human care system by a mobile robot employing cooperative objects recognition"
        },
        {
         "title": "Maximum Limit of Superconducting Persistent Current for Superconducting Magnetic Suspension System"
        },
        {
         "title": "High-accuracy positioning system based on ToA for industrial wireless LAN"
        },
        {
         "title": "Parametric Optimization of Dye-Sensitized Solar Cells Using Far red Sensitizing Dye with Cobalt Electrolyte"
        },
        {
         "title": "Upgrading power system in Egypt towards smart grid"
        },
        {
         "title": "The impact of message transmission scheduling in DTN message delivery across multiple islands"
        },
        {
         "title": "TiO2 microspheres containing magnetic nanoparticles for intra‐arterial hyperthermia"
        },
        {
         "title": "Photo- and cathodoluminescence of Eu3+ or Tb3+ doped CaZrO3 films prepared by pulsed laser deposition"
        },
        {
         "title": "Bacterial community shift revealed Chromatiaceae and Alcaligenaceae as potential bioindicators in the receiving river due to palm oil mill effluent final discharge"
        },
        {
         "title": "A Firefly Optimization for a Connected Dominating Set in a Sensor Network"
        },
        {
         "title": "Introduction of the one-body correlation operator in the unitary-model-operator approach"
        },
        {
         "title": "Particle multi-swarm optimization: A proposal of multiple particle swarm optimizers with information sharing"
        },
        {
         "title": "Grading fruits and vegetables using RGB-D images and convolutional neural network"
        },
        {
         "title": "Numerical computation for control system design using smart devices"
        },
        {
         "title": "An Asynchronous P System Using Branch and Bound for the Satisfiability Problem"
        },
        {
         "title": "A hybrid HW/SW 802.11ac/ax system design platform with ASIP implementation"
        },
        {
         "title": "Light Controls Protein Localization through Phytochrome-Mediated Alternative Promoter Selection"
        },
        {
         "title": "Identification of a novel class of small compounds with anti-tuberculosis activity by in silico structure-based drug screening"
        },
        {
         "title": "All-solid-state flexible asymmetric supercapacitors with high energy and power densities based on NiCo2S4@MnS and active carbon"
        },
        {
         "title": "Facile synthesis of N, S co-doped porous carbons from a dual-ligand metal organic framework for high performance oxygen reduction reaction catalysts"
        },
        {
         "title": "Hierarchical clustering of ensemble prediction using LOOCV predictable horizon for chaotic time series"
        },
        {
         "title": "Photophysical Characterization and BSA Interaction of Direct Ring Carboxy Functionalized Symmetrical squaraine Dyes"
        },
        {
         "title": "CubeSat mission for ionosphere mapping and weather forecasting using chip-scale atomic clock"
        },
        {
         "title": "Offset-Launch Measurement for Few-Mode Long-Period Fiber Gratings Fabricated Using Tilted Amplitude Mask"
        },
        {
         "title": "Scan Chain Grouping for Mitigating IR-Drop-Induced Test Data Corruption"
        },
        {
         "title": "Coincidence of magnetic and valence quantum critical points in CeRhIn5 under pressure"
        },
        {
         "title": "A finite element procedure for radio-frequency sheath–plasma interactions based on a sheath impedance model"
        },
        {
         "title": "Label Estimation Method with Modifications for Unreliable Examples in Taming"
        },
        {
         "title": "Casting Control of Floating-films into Ribbon-shape Structure by modified Dynamic FTM"
        },
        {
         "title": "Preparation of chitosan-hydroxyapatite composite mono-fiber using coagulation method and their mechanical properties"
        },
        {
         "title": "Controller Reset Strategy for Anti‐Windup Based on Switching L2 Gain Analysis"
        },
        {
         "title": "Introduction of \"spike-like\" conduction band of TiO2 compact layer for perovskite solar cells"
        },
        {
         "title": "Charge Transfer Dynamics and Photovoltaic Properties of Perovskite Solar Cells: Effects of the Energy Level Alignment of Zn1-xMgxO Electron Selective Layer"
        },
        {
         "title": "Study to realize the effect of multiple monovalent cation for lead/tin mixed perovskite solar cells"
        },
        {
         "title": "Prospects and Challenges with Dye-Sensitized Solar Cells utilizing Far-red Sensitive Dyes and Cobalt Complex Redox Electrolyte"
        },
        {
         "title": "A Hardware-Oriented Dropout Algorithm for Efficient FPGA Implementation"
        },
        {
         "title": "Highly Luminescent Phase-Stable CsPbI3 Perovskite Quantum Dots Achieving Near 100% Absolute Photoluminescence Quantum Yield."
        },
        {
         "title": "Luminescence and Valence of Tb Ions in Alkaline Earth Stannates and Zirconates Examined by X-ray Absorption Fine Structures."
        },
        {
         "title": "Simple Linkage Identification Using Genetic Clustering"
        },
        {
         "title": "Switching L2 gain for evaluating the fluctuations in transient responses after an unpredictable system switch"
        },
        {
         "title": "Slow hot carrier cooling in cesium lead iodide perovskites"
        },
        {
         "title": "Brief Announcement: Space-Efficient Uniform Deployment of Mobile Agents in Asynchronous Unidirectional Rings"
        },
        {
         "title": "Ford Motorcar Identification from Single-Camera Side-View Image Based on Convolutional Neural Network"
        },
        {
         "title": "Approaches in controllable generation of artificial pinning center in REBa2Cu3O y -coated conductor for high-flux pinning"
        },
        {
         "title": "Temperature dependence of critical currents in REBCO thin films with artificial pinning centers"
        },
        {
         "title": "Detection of Abnormal Candidate Regions on Temporal Subtraction Images Based on DCNN"
        },
        {
         "title": "Automatic classification of lung nodules on MDCT images with the temporal subtraction technique"
        },
        {
         "title": "Apatite formation on a hydrogel containing sulfinic acid group under physiological conditions"
        },
        {
         "title": "Automatic Liver Segmentation from Multiphase CT Images by Using Level Set Method"
        },
        {
         "title": "Preliminary test of affective virtual reality scenes with head mount display for emotion elicitation experiment"
        },
        {
         "title": "Fabrication of piezoresistive based pressure sensor via purified and functionalized CNTs/PDMS nanocomposite: Toward development of haptic sensors"
        },
        {
         "title": "A thick-film impedancemetric carbon monoxide sensor using layered perovskite-type cuprate"
        },
        {
         "title": "Image analysis of cleft lip from moire image based on symmetry analysis"
        },
        {
         "title": "Analysis and mitigation or IR-Drop induced scan shift-errors"
        },
        {
         "title": "A tool for the design of DNA base sequences for molecular circuits"
        },
        {
         "title": "Development of Deployable Antennas for the Diwata-2 Microsatellite's Amateur Radio Payload"
        },
        {
         "title": "Detection of Lung Nodules on Temporal Subtraction Images Using 3D Sparse Coding"
        },
        {
         "title": "On redundancy resolution of the human thumb, index and middle fingers in cooperative object translation"
        },
        {
         "title": "Extraction of Spinal Candidate Region from a Dental MR Imaging"
        },
        {
         "title": "Extraction of GGO regions from chest CT images using deep learning"
        },
        {
         "title": "Superconductivity and its enhancement under high pressure in “F-free” single crystals of CeOBiS2"
        },
        {
         "title": "Novel fabrication of Ni3S2/MnS composite as high performance supercapacitor electrode"
        },
        {
         "title": "Classification of osteoporosis from phalanges CR images based on DCNN"
        },
        {
         "title": "FPGA Hardware-in-Loop Co-Simulation for THIPWM Controlled Multilevel Inverter"
        },
        {
         "title": "Image Registration of Vertebral Region from CT Images Based on Salient Region Feature"
        },
        {
         "title": "Video based risk recognition training tool using eye tracking device"
        },
        {
         "title": "In vivo expression of a short peptide designed from late embryogenesis abundant protein for enhancing abiotic stress tolerance in Escherichia coli"
        },
        {
         "title": "Image-Based Relighting with 5-D Incident Light Fields"
        },
        {
         "title": "Quenching dependence on superconductivity in the synthesizing process of single crystals of RbxFe2-ySe2"
        },
        {
         "title": "Environment recognition for navigation of autonomous wheelchair from a video image"
        },
        {
         "title": "PD pattern of various defects measured by TEV sensor"
        },
        {
         "title": "Force Feedback Training System to Hold Axillary Crutch Stably"
        },
        {
         "title": "Multiple Bragg Diffractions with Different Wavelengths and Polarizations Composed of Liquid Crystal/Polymer Periodic Phases"
        },
        {
         "title": "Microrobotic Platform for Single Motile Microorganism Investigation"
        },
        {
         "title": "Hydration Structure of Brookite TiO\n                    2\n                    (210)"
        },
        {
         "title": "Contactless measurement of electrical conductivity for bulk nanostructured silver prepared by high-pressure torsion: A study of the dissipation process of giant strain"
        },
        {
         "title": "Design of biodegradable PCL/PI films as a joining tape for grafting plant"
        },
        {
         "title": "Dynamic Partial Reconfigurable Demodulators In Automatic Modulation Recognition Systems for Satellite Receivers"
        },
        {
         "title": "Isotropic enhancement in the critical current density of YBCO thin films incorporating nanoscale Y2BaCuO5 inclusions"
        },
        {
         "title": "Current Advancements in Material Research and Techniques Focusing on Lead-free Perovskite Solar Cells"
        },
        {
         "title": "After-effects induced by interactions between hydrogen and the martensite transformation in Ni–Ti superelastic alloy"
        },
        {
         "title": "The Effect of Nitrite to Anode Reaction Property in Chloride-Induced Macro-Cell Corrosion"
        },
        {
         "title": "Propagation characteristics of acoustic wave induced by partial discharge in IGBT module"
        },
        {
         "title": "SoC design with HW/SW co-design methodology for wireless communication system"
        },
        {
         "title": "Analysis of intensity of singular stress field for bonded cylinder and bonded pipe in comparison with bonded plate"
        },
        {
         "title": "Permittivity Estimation of Hydrocarbon-Based Thermosetting Resin Using Quantum Chemical Calculation"
        },
        {
         "title": "Intensity of singular stress fields of wedge-shaped defect in human tooth due to occlusal force before and after restoration with composite resins"
        },
        {
         "title": "Sensitivity characteristics of partial discharge electromagnetic sensor located in stator core"
        },
        {
         "title": "Influence of electrode interface on insulation property of hydrocarbon-based thermosetting composite with silica filler"
        },
        {
         "title": "On the effects of real time and contiguous measurement with a digital temperature and voltage sensor"
        },
        {
         "title": "Effects of tracking and erosion resistance of nano-boehmite added silicone rubber"
        },
        {
         "title": "Recent progress in round-robin test of repetitive partial discharge inception voltage measurements on complete winding of 4 Kw random-wound motor"
        },
        {
         "title": "Preparation of Fullerene/Epoxy Resin Composite with Fine Dispersion and its Breakdown Strength"
        },
        {
         "title": "Termination impedance for AC mains cable leaving from EUT area in radiated emission measurement"
        },
        {
         "title": "NPR Hair Modeling with Parametric Clumps"
        },
        {
         "title": "Human motion description and recognition under arbitrary motion direction"
        },
        {
         "title": "Oceans as bioenergy pools for methane production using activated methanogens in waste sewage sludge"
        },
        {
         "title": "Solution of Triple Problems in Transformer Windings for Current Resonant Converter with High Power Density and Wide Input Voltage Range"
        },
        {
         "title": "Comparison of insulation characteristics in electrode system with silica filled hydrocarbon-based thermosetting resin"
        },
        {
         "title": "Basic study on linear actuator using superconducting coil"
        },
        {
         "title": "Evolution of PD Properties Till Breakdown in Silicon Nitride Substrate Molded with Resin"
        },
        {
         "title": "Kinect Sensor Based Sign Language Word Recognition by Mutli-Stream HMM"
        },
        {
         "title": "Basic Study on Measurement of Electromagnetic Waves Emitted by Partial Discharge in Cable Joint for High Voltage Overhead Transmission"
        },
        {
         "title": "The influence of switching impulse voltage superimposition on partial discharge characteristics of oil impregnated paper insulation system and conditions inside its oil gap defect"
        },
        {
         "title": "16.24: Load‐carrying capacity of steel girder damaged by collision"
        },
        {
         "title": "Two-step migration of particles in evaporating bimodal suspension films at high Peclet numbers"
        },
        {
         "title": "Relaxing growth rate assumption for integral input-to-state stability of cascade systems"
        },
        {
         "title": "Real-time imaging of temperature distribution inside a power device under a power cycling test"
        },
        {
         "title": "Grounding effect on transient earth voltage signal induced by partial discharge in metal box model"
        },
        {
         "title": "Epidural focal brain cooling abolishes neocortical seizures in cats and non-human primates"
        },
        {
         "title": "Synthesis of 1,2-naphthalenediol derivatives by Rh-catalyzed intermolecular OH insertion reaction of 1,2-diazonaphthoquinones with water and alcohols"
        },
        {
         "title": "Robot kinematics made easy using RoboAnalyzer software"
        },
        {
         "title": "Thermoelectric properties and figure of merit of perovskite-type Sr1−xLaxSnO3 ceramics"
        },
        {
         "title": "Superior lubrication mechanism in poly(vinyl alcohol) hybrid gel as artificial cartilage"
        },
        {
         "title": "Clamp type built-in current sensor using PCB in high-voltage power modules"
        },
        {
         "title": "Review of numerical methods for simulation of mechanical heart valves and the potential for blood clotting"
        },
        {
         "title": "A Novel MEMS Device for Scanning Profile Measurement with Three Cantilever Displacement Sensors"
        },
        {
         "title": "Pupil center detection for infrared irradiation eye image using CNN"
        },
        {
         "title": "The methylation status and expression of human telomerase reverse transcriptase is significantly high in oral carcinogenesis"
        },
        {
         "title": "A unified HW/SW system-level simulation framework for next generation wireless system"
        },
        {
         "title": "Efficient near infrared fluorescence detection of elastase enzyme using peptide-bound unsymmetrical squaraine dye"
        },
        {
         "title": "Modelling of the shoot-through phenomenon introduced by the next generation IGBT in inverter applications"
        },
        {
         "title": "Precoding and postcoding schemes for wireless video transmission in overloaded MIMO systems"
        },
        {
         "title": "Importance of adaptive multimode lubrication mechanism in natural synovial joints"
        },
        {
         "title": "The influence of winding direction of two-layer HTS DC cable on the critical current"
        },
        {
         "title": "Selection of Functional Quorum Sensing Systems by Lysogenic Bacteriophages in Pseudomonas aeruginosa"
        },
        {
         "title": "Improved Reproducibility and Intercalation Control of Efficient Planar Inorganic Perovskite Solar Cells by Simple Alternate Vacuum Deposition of PbI\n                    2\n                    and CsI"
        },
        {
         "title": "External electric field effects on Schottky barrier at Gd3N@C80/Au interface"
        },
        {
         "title": "Secure IDS Offloading with Nested Virtualization and Deep VM Introspection"
        },
        {
         "title": "Strong flux pinning at 4.2 K in SmBa2Cu3O y coated conductors with BaHfO3 nanorods controlled by low growth temperature"
        },
        {
         "title": "Development of haptic based piezoresistive artificial fingertip: Toward efficient tactile sensing systems for humanoids"
        },
        {
         "title": "Relationship between strain rate concentration factor and stress concentration factor"
        },
        {
         "title": "A Stability Analysis Method for Biochemical Reaction System with Inhibitory Feedback Loop"
        },
        {
         "title": "Mathematical comparison of memory functions between mutual activation and repression networks in a stochastic environment"
        },
        {
         "title": "Generation of High‐resolution Three‐dimensional Reconstructions of the Seafloor in Color using a Single Camera and Structured Light"
        },
        {
         "title": "Growth of diamond thin films on SiCN underlayers by hot filament chemical vapor deposition"
        },
        {
         "title": "Effect of core@shell (Au@Ag) nanostructure on surface plasmon-induced photocatalytic activity under visible light irradiation"
        },
        {
         "title": "Sequential experimental strategies of longitudinal unzipping of SWNTs: Selective width of single layer graphene nanoribbon"
        },
        {
         "title": "Growth and superconducting properties of Cd-doped La(O,F)BiS2 single crystals"
        },
        {
         "title": "Synthesis of (±)-myo-inositol 4-methylenephosphonate via Rh-Catalyzed hydrogenation of vinylphosphonate"
        },
        {
         "title": "Mission Results Analysis of High-Voltage Technology Demonstration Satellite HORYU-II"
        },
        {
         "title": "The Mediating Role of Sleep Quality on Well-Being Among Japanese Working Family Caregivers"
        },
        {
         "title": "Bayesian Nonparametric Learning of Cloth Models for Real-Time State Estimation"
        },
        {
         "title": "Consideration on control method of the large-sized gantry-type linear motor slider"
        },
        {
         "title": "Quadcopter sensing system for risky area"
        },
        {
         "title": "2,3-Butandione 2-monoxime inhibits skeletal myosin II by accelerating ATP cleavage"
        },
        {
         "title": "SYNTHETIC MINORITY OVERSAMPLING TECHNIQUE AND FRACTAL DIMENSION FOR IDENTIFYING MULTIPLE SCLEROSIS"
        },
        {
         "title": "Cysteine-assisted synthesis of CuS-TiO2 composites with enhanced photocatalytic activity"
        },
        {
         "title": "Initial Results From an In-Orbit High-Voltage Experimental Platform: HORYU-IV"
        },
        {
         "title": "In Situ Fabrication of Nanoepitaxial TiO2 Protection Layer on Si Substrate: Hole Chemical Conduction Instead of Tunneling Effect"
        },
        {
         "title": "Multipath TCP path schedulers for streaming video"
        },
        {
         "title": "Excitation of coherent propagating spin waves in ultrathin CoFeB film by voltage-controlled magnetic anisotropy"
        },
        {
         "title": "Characteristics of Dynamic Forces Generated by a Flapping Butterfly and its Wake Structure"
        },
        {
         "title": "A new computational method to predict transcriptional activity of a DNA sequence from diverse datasets of massively parallel reporter assays"
        },
        {
         "title": "Application of facial reduction to H∞ state feedback control problem"
        },
        {
         "title": "A Faddeev Calculation of the α-Λ–Λ Bound State with a Three-Dimensional Treatment"
        },
        {
         "title": "Study on the Relation Between Side Ratios of Rectangular Cross Sections and Secondary Vortices at Trailing Edge in Motion-Induced Vortex Excitation"
        },
        {
         "title": "Phase Diagram of FeSe Deposited by Electrochemical Technique with Different Temperature and Voltage"
        },
        {
         "title": "A molecular dynamics study of nuclear quantum effect on diffusivity of hydrogen molecule"
        },
        {
         "title": "Modified naphthalene diimide as a suitable tetraplex DNA ligand: application to cancer diagnosis and anti-cancer drug"
        },
        {
         "title": "Energy Harvesting Based Body Area Networks for Smart Health"
        },
        {
         "title": "Transparent Conductive Oxide-Less Dye-Sensitized Solar Cells Consisting of Dye-Cocktail and Cobalt Based Redox Electrolyte"
        },
        {
         "title": "Field–Temperature Phase Diagram of Intergrain Ordering in Superconducting Ceramic YBCO"
        },
        {
         "title": "Effects of inhomogeneity in distribution of scatterers on random laser emission"
        },
        {
         "title": "Electrospun graphene nanoplatelets-reinforced carbon nanofibers as potential supercapacitor electrode"
        },
        {
         "title": "Design and properties of glutamic acid-based coumarin derivatives as organogelators"
        },
        {
         "title": "Evaluation of Magnetic Cutting and Polishing with Superconducting Bulks"
        },
        {
         "title": "Optimum Design of Ceramic Spray Coating Evaluated in Terms of Intensity of Singular Stress Field"
        },
        {
         "title": "Unsupervised cross-modal retrieval through adversarial learning"
        },
        {
         "title": "Azidoimidazolinium Salts: Safe and Efficient Diazo‐transfer Reagents and Unique Azido‐donors"
        },
        {
         "title": "Functionalized graphene oxide-reinforced electrospun carbon nanofibers as ultrathin supercapacitor electrode"
        },
        {
         "title": "Path-Wise Bounds and iISS of Nonlinear Systems Exposed to Global Stochastic Noise**The work was supported in part by JSPS KAKENHI Grant Number 26420422."
        },
        {
         "title": "Air-stable vapor phase sensing of ammonia in sub-threshold regime of poly(2,5-bis(3-tetradecylthiophen-2yl)thieno(3,2-b)thiophene) based polymer thin-film transistor"
        },
        {
         "title": "Metal–organic framework derived hierarchical porous TiO2 nanopills as a super stable anode for Na-ion batteries"
        },
        {
         "title": "Determination of Pinning Parameters in Flux Creep-Flow Model for E-J characteristics of High Temperature Superconductors by using Differential Evolution"
        },
        {
         "title": "Masking Lossy Networks by TCP Tunnel with Network Coding"
        },
        {
         "title": "Support technology for safe preventive maintenance of control systems"
        },
        {
         "title": "Lyapunov Functions to Avoid Squashed Sublevel Sets for Interconnections Containing Non-ISS Components **The work was supported in part by JSPS KAKENHI Grant Number 26420422."
        },
        {
         "title": "Effects of anode position on the responses elicited by transcutaneous spinal cord stimulation"
        },
        {
         "title": "Rehabilitation Controller Using Brain Illusion"
        },
        {
         "title": "Neural effects of muscle stretching on the spinal reflexes in multiple lower-limb muscles"
        },
        {
         "title": "Building a Simulation Model for Distributed Human-Based Evolutionary Computation"
        },
        {
         "title": "Investigation of Interfacial Charge Transfer in Solution Processed Cs\n                    2\n                    SnI\n                    6\n                    Thin Films"
        },
        {
         "title": "Current-voltage characteristics of C70 solid near Meyer-Neldel temperature"
        },
        {
         "title": "Stress intensity factor for multiple inclined or curved cracks problem in circular positions in plane elasticity"
        },
        {
         "title": "Sustainable process for functional group introduction onto HOPG by exposing OH and 1O2 using a radical vapor reactor (RVR) without any chemical reagents"
        },
        {
         "title": "Oral Cancer Screening Based on Methylation Frequency Detection in hTERT Gene Using Electrochemical Hybridization Assay via a Multi‐electrode Chip Coupled with Ferrocenylnaphthalene Diimide"
        },
        {
         "title": "A single metabolite production by Escherichia coli BW25113 and its pflA.cra mutant cultivated under microaerobic conditions using glycerol or glucose as a carbon source"
        },
        {
         "title": "A State Space Average Model for Dynamic Microgrid Based Space Station Simulations"
        },
        {
         "title": "Spatiotemporal human brain activities on recalling 4-legged mammal and fruit names"
        },
        {
         "title": "Dielectric Properties and Creepage Discharge of Epoxy/Silica Nanocomposite in Mineral Oil"
        },
        {
         "title": "Ferromagnetic Coating for Decreasingof Self-Magnetic Field Acting on HTS Tapes"
        },
        {
         "title": "New noncontact sensor for detecting pulmonary tumors during video-assisted thoracic surgery"
        },
        {
         "title": "An adaptive observer for a spacecraft–manipulator system using a camera mounted on its spacecraft"
        },
        {
         "title": "Ferromagnetic Coating for Decreasingof Self-Magnetic Field Acting on HTS Tapes"
        },
        {
         "title": "New noncontact sensor for detecting pulmonary tumors during video-assisted thoracic surgery"
        },
        {
         "title": "An adaptive observer for a spacecraft–manipulator system using a camera mounted on its spacecraft"
        },
        {
         "title": "Averaging aggregation functions based on inclusion-exclusion integrals"
        },
        {
         "title": "Decentralized Voltage Regulation for PV Generation Plants Using Real-Time Pricing Strategy"
        },
        {
         "title": "Interplay of Orientation and Blending: Synergistic Enhancement of Field Effect Mobility in Thiophene-Based Conjugated Polymers"
        },
        {
         "title": "Moving objects detection employing iterative update of the background"
        },
        {
         "title": "Development of an automatic flocculation tester for highly-efficient data acquisition"
        },
        {
         "title": "Evaluation of Multilevel Memory Capability of ReRAM Using Ta2O5Insulator and Different Electrode Materials"
        },
        {
         "title": "Detecting falsification to MP3 audio signals for conference record using digital watermarking"
        },
        {
         "title": "The thermal radiation effect of substrate on nano-microsized particles levitating in low-pressure reactive plasmas"
        },
        {
         "title": "Aging Properties of Monoesters and Comparison with Tri-ester and Mineral Oil"
        },
        {
         "title": "Transformer Design Difficulties of Current Resonant Converter for High Power Density and Wide Input Voltage Range"
        },
        {
         "title": "Investigation into the influence of ground plane insulation thickness on radiated emission from mains cable of EUT"
        },
        {
         "title": "Thermodynamic assessment of Fe–Ti–S ternary phase diagram"
        },
        {
         "title": "Effect of discharge trace on creeping discharge characteristics in oil/pressboard composite insulation system under impulse voltage application"
        },
        {
         "title": "A study on a secure protocol against tampering and replay attacks focused on data field of CAN"
        },
        {
         "title": "Noise-Induced Traveling Waves in Electroconvection"
        },
        {
         "title": "Automatic Extraction of Thickness Information from Sub-Surface Acoustic Measurements of Manganese Crusts"
        },
        {
         "title": "Textural diversity of hierarchical macroscopic structures of colloidal liquid crystalline nanosheets organized under electric fields"
        },
        {
         "title": "Energy-efficacy comparisons and multibody dynamics analyses of legged robots with different closed-loop mechanisms"
        },
        {
         "title": "Mruby—rapid IoT software development language"
        },
        {
         "title": "Electrical insulation performance evaluation of PVF wire under thermal and electrical accelerated aging"
        },
        {
         "title": "Sea-floor image transmission system for AUV"
        },
        {
         "title": "Atmospheric growth of ZnO films deposited by spray pyrolysis using diethylzinc solution"
        },
        {
         "title": "Dual-eyes vision-based docking experiment of AUV for sea bottom battery recharging"
        },
        {
         "title": "Pattern formations in electroconvection by colored noise"
        },
        {
         "title": "Development and sea trial of the parametric sub-bottom profiler system for autonomous underwater vehicles-off Hatsushima Island-"
        },
        {
         "title": "Bacterial community shift for monitoring the co-composting of oil palm empty fruit bunch and palm oil mill effluent anaerobic sludge"
        },
        {
         "title": "High-temperature oxidation behaviors and surface oxide color of Pd-free, Au-Pt-based metal-ceramic alloys for dental applications"
        },
        {
         "title": "Robustness analysis of the detailed kinetic model of an ErbB signaling network by using dynamic sensitivity"
        },
        {
         "title": "Improvement of Photovoltaic Performance of Colloidal Quantum Dot Solar Cells Using Organic Small Molecule as Hole-Selective Layer."
        },
        {
         "title": "Synthesis of very narrow multilayer graphene nanoribbon with turbostratic stacking"
        },
        {
         "title": "Photophysical characterization and BSA interaction of the direct ring carboxy functionalized unsymmetrical NIR cyanine dyes"
        },
        {
         "title": "Microlayer formation characteristics in pool isolated bubble boiling of water"
        },
        {
         "title": "Formulation of Single Event Burnout Failure Rate for High Voltage Devices in Satellite Electrical Power System"
        },
        {
         "title": "Evaluation of debonding strength of single lap joint by the intensity of singular stress field"
        },
        {
         "title": "Relationships Between Subclasses of Integral Input-to-State Stability"
        },
        {
         "title": "GPU-Accelerated Simulation of Small Delay Faults"
        },
        {
         "title": "Development of Packaging Technology for High Temperature Resistant SiC Module of Automobile Application"
        },
        {
         "title": "New power module integrating output current measurement function"
        },
        {
         "title": "Effect of chain architecture of polyol with secondary hydroxyl group on aggregation structure and mechanical properties of polyurethane elastomer"
        },
        {
         "title": "Application of proper orthogonal decomposition and radial basis functions for crack size estimation using particle swarm optimization"
        },
        {
         "title": "Two features combination with gated recurrent unit for visual speech recognition"
        },
        {
         "title": "Constructing hydrogen bond based melam/WO3 heterojunction with enhanced visible-light photocatalytic activity"
        },
        {
         "title": "General-Purpose Clocked Gate Driver IC With Programmable 63-Level Drivability to Optimize Overshoot and Energy Loss in Switching by a Simulated Annealing Algorithm"
        },
        {
         "title": "Current Distribution Based Power Module Screening by New Normal/Abnormal Classification Method with Image Processing"
        },
        {
         "title": "Calibration and statistical techniques for building an interactive screen for learning of alphabets by children"
        },
        {
         "title": "Low-temperature processed compact layer for perovskite solar cells with negligible hysteresis"
        },
        {
         "title": "Layer-by-layer coating of oriented conjugated polymer films towards anisotropic electronics"
        },
        {
         "title": "Dependency of tensile strength of ductile cast iron on strain rate and temperature"
        },
        {
         "title": "How to obtain the adhesive strength for double lap joint by using single lap joint"
        },
        {
         "title": "A CMOS chaotic Boltzmann machine circuit and three-neuron network operation"
        },
        {
         "title": "Performance analysis of the 802.11ax UL OFDMA random access protocol in dense networks"
        },
        {
         "title": "Tai Mapping Hierarchy for Rooted Labeled Trees Through Common Subforest"
        },
        {
         "title": "Tuning the electrical property of a single layer graphene nanoribbon by adsorption of planar molecular nanoparticles"
        },
        {
         "title": "Estimating optimal sparseness of developmental gene networks using a semi-quantitative model"
        },
        {
         "title": "A mixed‐interpolation finite element method for incompressible thermal flows of electrically conducting fluids"
        },
        {
         "title": "An angiogenesis platform using a cubic artificial eggshell with patterned blood vessels on chicken chorioallantoic membrane"
        },
        {
         "title": "Trapping-Induced Enhancement of Photocatalytic Activity on Brookite TiO\n                    2\n                    Powders: Comparison with Anatase and Rutile TiO\n                    2\n                    Powders"
        },
        {
         "title": "3-D honeycomb NiCo2S4 with high electrochemical performance used for supercapacitor electrodes"
        },
        {
         "title": "Photoluminescence excitation spectra of lanthanide doped YAlO3 in vacuum ultraviolet region"
        },
        {
         "title": "Strain differences in the proteome of dioxin-sensitive and dioxin-resistant mice treated with 2,3,7,8-tetrabromodibenzo-p-dioxin"
        },
        {
         "title": "Performance of PM Motor Driven by PWM Inverter with Voltage Booster Using Both Flux Weakening Control and DC Link Voltage Control"
        },
        {
         "title": "Study on 5.8-GHz Single-Stage Charge Pump Rectifier for Internal Wireless System of Satellite"
        },
        {
         "title": "Toward lean satellites reliability improvement using HORYU-IV project as case study"
        },
        {
         "title": "Effect of lead-free (CH3NH3)3Bi2I9 perovskite addition on spectrum absorption and enhanced photovoltaic performance of bismuth triiodide solar cells"
        },
        {
         "title": "Microfabrication of hybrid structure composed of rigid silicon and flexible polyimide membranes"
        },
        {
         "title": "Solvent driven performance in thin floating-films of PBTTT for organic field effect transistor: Role of macroscopic orientation"
        },
        {
         "title": "Improving g-C3N4 photocatalytic performance by hybridizing with Bi2O2CO3 nanosheets"
        },
        {
         "title": "Investigation of Prototype SiC Power Module Structure for Low Inductance and High Heat Operation"
        },
        {
         "title": "Traveling waves and worms in ac-driven electroconvection under external multiplicative noise"
        },
        {
         "title": "Co-composting of Municipal Sewage Sludge and Landscaping Waste: A Pilot Scale Study"
        },
        {
         "title": "In vitro 3D culture platform for large-scale imaging by hybrid gel cube"
        },
        {
         "title": "Exosomes in mammals with greater habitat variability contain more proteins and RNAs"
        },
        {
         "title": "Magnetic Domain Structure and Demagnetization Process of Nd-Fe-B Anisotropic HDDR Magnetic Particles"
        },
        {
         "title": "Inverse Kinematics Analysis of the Three-Legged Reconfigurable Spherical Robot II"
        },
        {
         "title": "Evaluation on Applicability to Electrical Insulating Material of Hydrocarbon‐Based Thermosetting Resin"
        },
        {
         "title": "High Accuracy Partial Discharge Location in Power Module Using Multiple Loop Sensors"
        },
        {
         "title": "Facile synthesis of Co–WO3/functionalized carbon nanotube nanocomposites for supercapacitor applications"
        },
        {
         "title": "A room-temperature-operated Si LED with β-FeSi2 nanocrystals in the active layer: μW emission power at 1.5 μm"
        },
        {
         "title": "Direct observation of dramatically enhanced hole formation in a\n          perovskite-solar-cell material spiro-OMeTAD by Li-TFSI doping"
        },
        {
         "title": "FDCNet: filtering deep convolutional network for marine organism classification"
        },
        {
         "title": "A comparison of the peri-implant bone stress generated by the preload with screw tightening between ‘bonded’ and ‘contact’ model"
        },
        {
         "title": "Transparent Conductive Oxide Layer and Hole Selective Layer Free Back-Contacted Hybrid Perovskite Solar Cell"
        },
        {
         "title": "Controlling Factors for Orientation of Conjugated Polymer Films in Dynamic Floating-Film Transfer Method"
        },
        {
         "title": "Thermoelectric and Structural Characterization of Al-Doped ZnO/Y₂O₃ Multilayers."
        },
        {
         "title": "Experimental Evaluation of a Fast Demand Response System for Small/Medium-Scale Office Buildings"
        },
        {
         "title": "Effects of (R)-3-hydroxyhexanoate units on thermal hydrolysis of poly((R)-3-hydroxybutyrate-co-(R)-3-hydroxyhexanoate)s"
        },
        {
         "title": "Triton Binding Energy of Kharkov Potential"
        },
        {
         "title": "Estimation based adaptable Flow Aggregation Method for reducing control traffic on Software Defined wireless Networks"
        },
        {
         "title": "Performance of a Seed-Free Disk Magnetohydrodynamic Generator With Self-Excited Joule Heating in the Nozzle"
        },
        {
         "title": "Numerical investigation of a high pressure hydrogen jet of 82 MPa with adaptive mesh refinement: The starting transient evolution and Mach disk stabilization"
        },
        {
         "title": "Denial of long‐term issues with agriculture on tropical peatlands will have devastating consequences"
        },
        {
         "title": "Elucidating substrate utilization in biohydrogen production from palm oil mill effluent by Escherichia coli"
        },
        {
         "title": "Dr. Prof. Wataru Nakayama on his 80th birthday"
        },
        {
         "title": "Usefulness of Non‐Uniform Heating and Quenching Method for Residual Stress of Bimetallic Roll: FEM Simulation Considering Creep Behavior"
        },
        {
         "title": "Capacitive Performance of Graphene-based Asymmetric Supercapacitor"
        },
        {
         "title": "High-performance vertical Si PiN diode by hole remaining mechanism"
        },
        {
         "title": "Near wake study of counter-rotating horizontal axis tidal turbines based on PIV measurements in a wind tunnel"
        },
        {
         "title": "Field tests and indoor emulation of Real-Spatial Information Based Group Communication"
        },
        {
         "title": "Oscillatory behavior of the bed bulk and the bubbles in a vertically vibrated pseudo-2D bed in bubbling regime"
        },
        {
         "title": "Collective resonant dynamics of the chiral spin soliton lattice in a monoaxial chiral magnetic crystal"
        },
        {
         "title": "Effective Data Collection Scheme for Real-Spatial Group Communication Among Mobile Nodes"
        },
        {
         "title": "V<inf>th</inf>-shiftable SRAM cell TEGs for direct measurement for the immunity of the threshold voltage variability"
        },
        {
         "title": "Modern Chiral Forces Applied to the Nucleon–Deuteron Radiative Capture"
        },
        {
         "title": "Exercise Self-Efficacy as a Mediator between Goal-Setting and Physical Activity: Developing the Workplace as a Setting for Promoting Physical Activity"
        },
        {
         "title": "A silicon based multi-tens MHz gate driver IC for GaN power devices"
        },
        {
         "title": "Evaluation of Friction Coefficient and Adhesion Properties of Silicon Carbon Nitride Films Prepared by HWCVD"
        },
        {
         "title": "Efficient sterilization using reactive oxygen species generated by a radical vapor reactor"
        },
        {
         "title": "Synthesis and photocatalytic performance of yttrium-doped CeO2 with a hollow sphere structure"
        },
        {
         "title": "Guest Editorial Special Issue on Power Semiconductor Devices and Smart Power IC Technologies"
        },
        {
         "title": "Enhanced biosafety of silica coated gadolinium based nanoparticles"
        },
        {
         "title": "Control of Microbial Processes"
        },
        {
         "title": "Structural Evolution Induced by Interfacial Lattice Mismatch in Self-Organized YBa2Cu3O7-δ Nanocomposite Film."
        },
        {
         "title": "Flow visualization around a rotating body in a wind tunnel"
        },
        {
         "title": "Magnetic Moments and Ordered States in Pyrochlore Iridates Nd 2 Ir 2 O 7 and Sm 2 Ir 2 O 7 Studied by Muon-Spin Relaxation"
        },
        {
         "title": "pH-Sensitive Adsorption Behavior of Polymer Particles at the Air-Water Interface."
        },
        {
         "title": "Two degrees of freedom dc voltage controller of grid interfaced PV system with optimized gains"
        },
        {
         "title": "Dense-plasma-driven ultrafast formation of FePt organization on silicon substrate"
        },
        {
         "title": "Bioactive Glass-Ceramics"
        },
        {
         "title": "Introduction to the special section on Artificial Intelligence and Computer Vision"
        },
        {
         "title": "Design technique to improve the energy efficiency of a counter-rotating type pump-turbine"
        },
        {
         "title": "Evaluation of biomass energy potential towards achieving sustainability in biomass energy utilization in Sabah, Malaysia"
        },
        {
         "title": "Interactive Evolutionary Computation of Color Palette Design Enhanced by Impression Words"
        },
        {
         "title": "Electrooptical threshold behavior of electroconvection in twisted nematic liquid crystal cells"
        },
        {
         "title": "Coupling behaviors of graphene/SiO2/Si structure with external electric field"
        },
        {
         "title": "Uniaxial strain effects on the superconducting transition in Re-doped Hg-1223 cuprate superconductors"
        },
        {
         "title": "Load-Carrying Capacity of End Cross-Girder with Inspection Holes in Composite Bridge"
        },
        {
         "title": "Stress intensity factor solutions for several crack problems using the proportional crack opening displacements"
        },
        {
         "title": "One‐Stage Method for Fabricating Superhydrophobic Stainless Steel Surface and Its Anti‐Corrosion Performance"
        },
        {
         "title": "Pin potential effect on vortex pinning in YBa2Cu3O7-δ films containing nanorods: Pin size effect and mixed pinning"
        },
        {
         "title": "Phosphorylation of clustered serine residues in the N-terminus of BPS domain negatively regulates formation of the complex between human Grb14 and insulin receptor."
        },
        {
         "title": "Lifetime-Broadening-Suppressed X-ray Absorption Spectrum of β-YbAlB\n                    4\n                    Deduced from Yb 3\n                    d\n                    → 2\n                    p\n                    Resonant X-ray Emission Spectroscopy"
        },
        {
         "title": "Transparent conductive oxide-less back contact dye-sensitized solar cells using flat titanium sheet with microholes for photoanode fabrication"
        },
        {
         "title": "Three-dimensional Numerical Simulation on Dispersion Process of Unsteady High Pressure Hydrogen Jet Flow"
        },
        {
         "title": "Important role of magnetization precession angle measurement in inverse spin Hall effect induced by spin pumping"
        },
        {
         "title": "Numerical Simulation for Effects of Pressure on Cryogenic Coaxial Jet under Supercritical Pressure"
        },
        {
         "title": "Strong interactions between hydrogen in solid solution and stress-induced martensite transformation of Ni–Ti superelastic alloy"
        },
        {
         "title": "Enhancement of glucose oxide electron-transfer mechanism in glucose biosensor via optimum physical chemistry of functionalized carbon nanotubes"
        },
        {
         "title": "Partial Delignification as Pretreatment for Nanoporous Carbon Material from Biomass."
        },
        {
         "title": "Skin stiffness determined from occlusion of a horizontally running microvessel in response to skin surface pressure: a finite element study of sacral pressure ulcers"
        },
        {
         "title": "W(Nb)Ox-based efficient flexible perovskite solar cells: From material optimization to working principle"
        },
        {
         "title": "Muon Capture on 3H"
        },
        {
         "title": "Use of rain gardens for stormwater management in urban design and planning"
        },
        {
         "title": "Power systems inertia evaluation associated with PV installation by frequency analysis of inter-area oscillation based on phasor measurements"
        },
        {
         "title": "Bioactive carbon–PEEK composites prepared by chemical surface treatment"
        },
        {
         "title": "Reduced operating temperature of active layer Si covered by nanocrystalline diamond film"
        },
        {
         "title": "Microwave assisted synthesis of perovskite structured BaTiO3 nanospheres via peroxo route for photocatalytic applications"
        },
        {
         "title": "Glycan region of GPI anchored-protein is required for cytocidal oligomerization of an anticancer parasporin-2, Cry46Aa1 protein, from Bacillus thuringiensis strain A1547"
        },
        {
         "title": "Comparative study of wear performance of ceramic/iron composite coatings under two different wear modes"
        },
        {
         "title": "Reduction of residual pollutants from biologically treated palm oil mill effluent final discharge by steam activated bioadsorbent from oil palm biomass"
        },
        {
         "title": "Head Pose Estimation and Motion Analysis of Public Speaking Videos"
        },
        {
         "title": "Combined theoretical and experimental approaches for development of squaraine dyes with small energy barrier for electron injection"
        },
        {
         "title": "Structural basis of cucumisin protease activity regulation by its propeptide."
        },
        {
         "title": "Cyclic ferrocenylnaphthalene diimide derivative as a new class of G-quadruplex DNA binding ligand"
        },
        {
         "title": "Synthesis, characterization and air stable semiconductor properties of thiophene-condensed pyrene derivatives"
        },
        {
         "title": "Improvement of the Adhesive Strength of the Leadframe and Epoxy Resin by Forming Organic Molecules–Metal Composite Interface"
        },
        {
         "title": "Stability analysis and evaluation of staggered coupled analysis methods for electromagnetic and structural coupled finite element analysis"
        },
        {
         "title": "CoWoOZ — A cloud-based teleoperation platform for social robotics"
        },
        {
         "title": "Theory of inclusion-exclusion integral"
        },
        {
         "title": "EM absorption reduction in wireless mobile antenna using printed paper-based metamaterial"
        },
        {
         "title": "The Detection of the Rise to Stand Movements Using Bereitschaftspotential from Scalp Electroencephalography (EEG)"
        },
        {
         "title": "Estimation of Wire Bonding States by Ensemble Based on MT Method and Thin AE Sensor Method"
        },
        {
         "title": "Development of navigation system for AUV"
        },
        {
         "title": "Generating Initial Trajectories from a Motion Dataset with a Gaussian Mixture Model"
        },
        {
         "title": "Biped Walking Based on Moving Principle of Eccentric Rimless Wheel"
        },
        {
         "title": "Recognition of multiple overlapping activities using compositional CNN-LSTM model"
        },
        {
         "title": "Depth Map Reconstruction for Underwater Kinect Camera Using Inpainting and Local Image Mode Filtering"
        },
        {
         "title": "Measurement of friction coefficient using catheter tactile sensor composed of organic ferroelectrics"
        },
        {
         "title": "An Experimental Study on Operability of Master-Slave Manipulator System using Human–in–the-Loop Type Simulator"
        },
        {
         "title": "Analytical on mixed colloidal silica particle in slurry of sapphire Chemical Mechanical Polishing"
        },
        {
         "title": "Implementation Challenge & Cover tactics to the soccer robots"
        },
        {
         "title": "Design and Analysis of Flush-type Air Data Sensing System for Winged Rocket"
        },
        {
         "title": "Theoretical Analysis of the Hammering Mechanism by Using Bifurcations in a Nonlinear Spring System"
        },
        {
         "title": "Chemical Stimulation of a Cellular Tissue through a Microhole Array and Multichannel Potential Measurement Using a Microelectrode Array"
        },
        {
         "title": "Handiness of device-free response analyzer systems in the classroom"
        },
        {
         "title": "Rough Sets in Incomplete Information Systems with Order Relations Under Lipski’s Approach"
        },
        {
         "title": "Evaluation of the effect of catheter on the guidewire motion in a blood vessel model by physical and numerical simulations"
        },
        {
         "title": "Concatenated Frame Image Based CNN for Visual Speech Recognition"
        },
        {
         "title": "火星大気飛行に向けたプロペラの性能検証"
        },
        {
         "title": "抵抗スポット 溶接におよぼす構造・電流・熱伝導 3 連成効果の影響度"
        },
        {
         "title": "Transparent Conductive Oxides"
        },
        {
         "title": "Ligand-dependent exciton dynamics and photovoltaic properties of PbS quantum dot heterojunction solar cells"
        },
        {
         "title": "Chapter 3 CHF—Transition Boiling"
        },
        {
         "title": "List of Contributors"
        },
        {
         "title": "Ejecta From LPSO-Type Magnesium Alloy Targets in Hypervelocity Impact Experiments"
        },
        {
         "title": "Electromagnetismlike Mechanism Descriptor with Fourier Transform for a Passive Copy-move Forgery Detection in Digital Image Forensics"
        },
        {
         "title": "A Removal of Eye Movement and Blink Artifacts from EEG Data Using Morphological Component Analysis"
        },
        {
         "title": "Extracting Mutually Dependent Multisets"
        },
        {
         "title": "Recent Topics of Analysis and Creation of Structure in Nano-scaled Magnetic Materials"
        },
        {
         "title": "Elucidation of underwater locomotion of neutrophil by concentration gradient in concentration condition"
        },
        {
         "title": "A new precursor to synthesize g-C 3 N 4 with superior visible light absorption for photocatalytic application"
        },
        {
         "title": "Response Analysis of Experimental Winged Rocket Using Gimbal Control"
        },
        {
         "title": "A Flexible Scan-in Power Control Method in Logic BIST and Its Evaluation with TEG Chips"
        },
        {
         "title": "Research and development for long-term deployment of autonomous underwater vehicle"
        },
        {
         "title": "Preface"
        },
        {
         "title": "X-ray CT imaging and deformation analysis on a low resilience polyurethane foam under compression by a cylindrical surface"
        },
        {
         "title": "Special Issue on SICE Annual Conference 2016"
        },
        {
         "title": "A Study of the Relationship between the Microcatheter Shape and Stability by Numerical Simulation"
        },
        {
         "title": "Microwave Breast Phantom Measurement System With Compact Side Slotted Directional Antenna"
        },
        {
         "title": "Parallel Evolutionary Peer-to-Peer Networking in Realistic Environments"
        },
        {
         "title": "Redefinition of τ-Distance in Metric Spaces"
        },
        {
         "title": "Automatic Identification of Circulating Tumor Cells in Fluorescence Microscopy Images Based on ANN"
        },
        {
         "title": "Mutant selection in the self-incompatible plant radish (Raphanus sativus L. var. sativus) using two-step TILLING"
        },
        {
         "title": "The Effect of Geometric Configurations on the Elastic Behavior of an Edge-Cracked Bonded Strip"
        },
        {
         "title": "Nanostructured Oxide Thin Films for Sustainable Development"
        },
        {
         "title": "On the Special Issue of Annual Conference of Power and Energy Society, IEE of Japan."
        },
        {
         "title": "Investigation into effects of equivalent ratio on propagating limit of CH<sub>4</sub>/O<sub>2</sub> detonation by experimental method"
        },
        {
         "title": "The development of the parallel link type two-degree-of-freedom joint and the control method"
        },
        {
         "title": "Lattice-guided human motion deformation for collision avoidance"
        },
        {
         "title": "Vision-Based Behavior Strategy for Tomato Harvesting Robot (III)"
        },
        {
         "title": "Object tracking based on data integration by autonomous soccer robots"
        },
        {
         "title": "強化繊維の引抜きにおける特異応力場の強さの解析"
        },
        {
         "title": "Ballistic Coefficient Estimation for Reentry Prediction of Rocket Bodies in Eccentric Orbits Based on TLE Data"
        },
        {
         "title": "Structural differences in the bacterial flagellar motor among bacterial species"
        },
        {
         "title": "A Proposal of Machine Learning by Rule Generation from Tables with Non-deterministic Information and Its Prototype System"
        },
        {
         "title": "Underwater Image Super-Resolution by Descattering and Fusion"
        },
        {
         "title": "$$L_1$$ -space for Sugeno Integral"
        },
        {
         "title": "Prediction of insertion loss of detached houses against road traffic noise using a point sound source model: Simplification of prediction formula F2012"
        },
        {
         "title": "Statistical Shape Model Generation Using Diffeomorphic Surface Registration"
        },
        {
         "title": "Growth Promotion Effect of Alginate Oligosaccharides on Spirulina Analyzed by Repeated Batch Culture"
        },
        {
         "title": "Ford Motor Side-View Recognition System Based on Wavelet Entropy and Back Propagation Neural Network and Levenberg-Marquardt Algorithm"
        },
        {
         "title": "Development of End-Effector for Harvesting Tomato Using Suction and Cutting Mechanism"
        },
        {
         "title": "Improved adaptive lane‐keeping control for four‐wheel steering vehicles without lateral velocity measurements"
        },
        {
         "title": "General Step Reduction Method for Knowledge-Based Process Planning of Non-Axisymmetrical Forged Products"
        },
        {
         "title": "工程設計の立場からの付加加工の使い分け"
        },
        {
         "title": "Prediction of hemolysis on various shear flows by CFD"
        },
        {
         "title": "Verification Experiment for Tail Wing of Towed Underwater Robot"
        },
        {
         "title": "Efficient synthesis of novel pyrrolo[2,3- c ]pyridone derivatives using the Ugi four-component reaction followed by condensation reaction"
        },
        {
         "title": "List of contributors"
        },
        {
         "title": "In vitro 3D culture platform for elucidation of branching pattern formations"
        },
        {
         "title": "Capsule Micromechanism Driven by Impulse—Wireless Implementation"
        },
        {
         "title": "Numerical Simulations and Wind Tunnel Experiments of Aerodynamic Characteristics on Waverider with Orbiter"
        },
        {
         "title": "The change of picrotoxin-induced epileptiform discharges to the beta oscillation by carbachol in rat hippocampal slices"
        },
        {
         "title": "Strategy Analysis by Self-Organizing Map Using player’s positioning"
        },
        {
         "title": "TCP with network coding meets loss burstiness estimation for lossy networks"
        },
        {
         "title": "Flow of Bi-modal Slurry through Horizontal Bend"
        },
        {
         "title": "Evaluation of Rapid Trajectory Planner for Navigating Complex Terrain Using Random Search and Dynamic Filter"
        },
        {
         "title": "Performance Improvement of Real-Time Flight Trajectory Generation Using Dynamically Distributed Genetic Algorithm"
        },
        {
         "title": "Underwater Manipulator for Sampling Mission with AUV in Deep-Sea"
        },
        {
         "title": "Finding rules of attractive human poses using decision tree and generating novel attractive poses"
        },
        {
         "title": "微小孔アレイを用いた細胞組織の局所薬剤刺激"
        },
        {
         "title": "Approximation Algorithm for the Distance-3 Independent Set Problem on Cubic Graphs"
        },
        {
         "title": "到達時間差法を用いたパワーモジュール内部の部分放電発生位置標定の高精度化検討"
        },
        {
         "title": "Robot Path Training and Planning Usign LSTM Network"
        },
        {
         "title": "Benefits of Multiply-Cascaded TCP Tunnel with Network Coding over Lossy Networks"
        },
        {
         "title": "Development of Antagonistic High Power Joint Mechanism by using Cam"
        },
        {
         "title": "Numerical Analysis and Wind Tunnel Test on Aerodynamic Characteristics of Reuse Sounding Rocket"
        },
        {
         "title": "Introduction of Balloon Census for Acoustic and Visual Census of the Ganges River Dolphins (Platanista Gangetica) that Inhabit in a Long Tract of the Ganges River System"
        },
        {
         "title": "Accuracy of Disk Method to Predict Roll Residual Stress by Measuring the Sliced Disk Stress"
        },
        {
         "title": "Configuration of the Calculation Question Training System: Offering Questions Based on the Relationship Between Question Presentation and Difficulty"
        },
        {
         "title": "SURE WAY TO WIN A GAME USING A MUTUALLY DEPENDENT DECISION PROCESS MODEL"
        },
        {
         "title": "A study on mechanism of microbubble emission boiling"
        },
        {
         "title": "毛髪形成の数値シミュレーション"
        },
        {
         "title": "マルチスケール抵抗スポット溶接解析のための微視有限要素モデルの検討"
        },
        {
         "title": "Ground Effect of Transonic and Supersonic Projectiles: Influence of Mach Number and Ground Clearance"
        },
        {
         "title": "Study of the Effects of Projectile Shape in the Asteroid Orbit Change by Spacecraft Impact"
        },
        {
         "title": "Dielectric Temperature Spectroscopy of Degraded Solar Cell Coverglass Due to Ground-Based Space Environmental Irradiation"
        },
        {
         "title": "Health Sensor Data Analysis for a Hospital and Developing Countries"
        },
        {
         "title": "日本神経回路学会第27回全国大会(JNNS2017)運営報告"
        },
        {
         "title": "Enhancement of blood separation using Boycott effect and capillary flow"
        },
        {
         "title": "2016 IEEE/RSJ International Conference on Intelligence Robots and Systems (IROS 2016)"
        },
        {
         "title": "Finite element analysis on the possibility of debonding of a side surface of fiber post in the fracture of endodontically treated tooth"
        },
        {
         "title": "Development of a Kinematics calculation simulator based on the Decentralized Kinematics calculation Framework"
        },
        {
         "title": "Examination on Permittivity Estimation of Hydrocarbon-based Thermosetting Resin based on Quantum Chemical Calculation"
        },
        {
         "title": "Hearing Loss Detection in Medical Multimedia Data by Discrete Wavelet Packet Entropy and Single-Hidden Layer Neural Network Trained by Adaptive Learning-Rate Back Propagation"
        },
        {
         "title": "Image sensing system for an underwater robot with a benthos sampling function"
        },
        {
         "title": "Development of a position and orientation measurement system for UVMS using two movable cameras"
        },
        {
         "title": "Initial Practice of Telematics-Based Prognostics for Commercial Vehicles Analysis Tool for Building Faults Progress Model for Trucks on Telematics Data"
        },
        {
         "title": "Stable Rules Evaluation for a Rough-Set-Based Bipolar Model: A Preliminary Study for Credit Loan Evaluation"
        },
        {
         "title": "はく離領域にてヒービング運動する弾性翼後縁の弾性変形とその非定常揚力"
        },
        {
         "title": "Platinum and indium sulfide-modified Cu 3 BiS 3 photocathode for photoelectrochemical hydrogen evolution"
        },
        {
         "title": "Investigation of the minimum driving force for dye regeneration utilizing model squaraine dyes for dye-sensitized solar cells"
        },
        {
         "title": "2016年度第1回九州支部市民講座 「表面によって変化する物の性質—表面を見る?・調べる?・活用する?—」"
        },
        {
         "title": "Deep Context Convolutional Neural Networks for Semantic Segmentation"
        },
        {
         "title": "Enhanced fuel ethanol production from rice straw hydrolysate by an inhibitor-tolerant mutant strain of Scheffersomyces stipitis"
        },
        {
         "title": "圧力分配測定装置の底板周辺部の丸み付けが装置とウレタンフォームマットレス接触面での圧力分配に及ぼす影響"
        },
        {
         "title": "In silico structure-based drug screening of novel antimycobacterial pharmacophores by DOCK-GOLD tandem screening"
        },
        {
         "title": "Development of kick system in RoboCup Soccer"
        },
        {
         "title": "Development of embodiment model and control method of complex structured robot"
        },
        {
         "title": "Online Vehicle Tracking in Aerial Imagery"
        },
        {
         "title": "Lip Formation and Ejecta from LPSO-type Magnesium Alloy Plates in Hypervelocity Impact"
        },
        {
         "title": "Robotic cloth manipulation for clothing assistance task using Dynamic Movement Primitives"
        },
        {
         "title": "A post-processing method to simulate the generalized RF sheath boundary condition"
        },
        {
         "title": "Into Route Search by Depth Camera and Application to Multicopter"
        },
        {
         "title": "3次元形状を考慮した突合せ継手試験片の特異応力場の強さの分布の解析"
        },
        {
         "title": "Efficient Place Recognition Using Saliency Detection by Mobile Robot"
        },
        {
         "title": "鉄鋼スラグによるボトリオコッカスの増殖と脂質生産の向上"
        },
        {
         "title": "Basic experiment of an altitude maintenance system using laser beams for underwater robots"
        },
        {
         "title": "Change in Magnetic Domain Structure of Nd-Fe-B Sintered Magnets by Compressive Stress"
        },
        {
         "title": "An estimation of knee and ankle joint angles during extension phase of standing up motion performed using an inertial sensor"
        },
        {
         "title": "Prepublication: Optical trapping and orientation manipulation of 2D inorganic materials using a linearly polarized laser beam"
        },
        {
         "title": "羽ばたき柔軟翼における先端軌跡の流体構造連成による生成に関する数値的検討"
        },
        {
         "title": "Prediction of thrombus formation on the wall of orifice flow by CFD analysis"
        },
        {
         "title": "Effect of White Discharge Trace on Impulse Creeping Discharge Characteristics in Oil/Pressboard Composite Insulation System"
        },
        {
         "title": "On Feedback Transformation and Integral Input-to-State Stability in Designing Robust Interval Observers for Control Systems"
        },
        {
         "title": "CNN-Based Pupil Center Detection for Wearable Gaze Estimation System"
        },
        {
         "title": "No sliding torus type extension robot finger mechanism"
        },
        {
         "title": "Brain-like Artificial Intelligence for RoboCup@Home Robots"
        },
        {
         "title": "Conceptual Design Study of Fully Reusable Suborbital Winged Rocket with Optimization Method"
        },
        {
         "title": "Chapter 6 Topics on Boiling From Fundamentals to Applications"
        },
        {
         "title": "ELF Wave Propagation Simulation Using FDTD Method and Satellite Constellation Concept for Early Warning System"
        },
        {
         "title": "Computational identification of protein S-sulfenylation sites by incorporating the multiple sequence features information"
        },
        {
         "title": "A novel composite of W 18 O 49 nanorods on reduced graphene oxide sheets based on in situ synthesis and catalytic performance for oxygen reduction reaction"
        },
        {
         "title": "2 Low-alloyed steel grades for boilers in ultra-supercritical power plants"
        },
        {
         "title": "Chapter 2 Nucleate Boiling"
        },
        {
         "title": "mruby – Rapid IoT Software Development"
        },
        {
         "title": "Orness and Cardinality Indices for Averaging Inclusion-Exclusion Integrals"
        },
        {
         "title": "Tensile deformation characteristics of thin specimens and assessment of their correlation to histological characteristics in human carotid artery"
        },
        {
         "title": "Investigation of water-soluble elastin as a multifunctional cosmetic material: Moisturizing and whitening effects."
        },
        {
         "title": "ボールエンドミル加工の幾何的切削機構解析に基づく加工誤差評価の提案"
        },
        {
         "title": "An Area-Efficient Multimode FFT Circuit for IEEE 802.11 ax WLAN Devices"
        },
        {
         "title": "微小孔アレイデバイスを用いたヒトリンパ球細胞からの細胞外ベシクル生成分離"
        },
        {
         "title": "Capturing System of Well-focused Images of Moving Micro Objects Using Histograms of the Luminance"
        },
        {
         "title": "Feature extraction method for EEG during motor imagery of limbs"
        },
        {
         "title": "Low Latency Interleave Division Multiple Access System"
        },
        {
         "title": "Quality Requirements for Electronic Health Record Systems*. A Japanese-German Information Management Perspective."
        },
        {
         "title": "Simultaneous Estimation of Optical Flow and Its Boundaries based on the Dynamical System Model"
        },
        {
         "title": "Evaluation of Hardware Oriented MRCoHOG using Logic Simulation"
        },
        {
         "title": "Two-dimensional Numerical Investigation on Rotating Detonation Engine : Effect of Nonideal Injection on Flow Structure"
        },
        {
         "title": "Measurement of trees in the forest using Multi Rotor Helicopter"
        },
        {
         "title": "ブタ後ろ足皮膚表面のずれで生じる皮下組織のひずみ状態の解析"
        },
        {
         "title": "Development of device placement simulator for endovascular treatment"
        },
        {
         "title": "衝撃波組織再生培養システム開発のための時短パルスレーザー誘起衝撃波生成について"
        },
        {
         "title": "Development of self-localization system combining local / global position estimation for RoboCup soccer robot."
        },
        {
         "title": "円管内オリフィスならびにノズルまわりのせん断流れにおける血栓形成の予測について"
        },
        {
         "title": "Evaluation of Winged Rocket's Attitude Control Using Reaction Control System"
        },
        {
         "title": "Tetrahydro-2-furanyl-2,4(1H,3H)-pyrimidinedione derivatives as novel antibacterial compounds against Mycobacterium"
        },
        {
         "title": "Underwater three-dimensional measurement using RGB structured-light"
        },
        {
         "title": "Electrospun nanofiber membranes as ultrathin flexible supercapacitors"
        },
        {
         "title": "Determination of Local pH Differences within Single Bacterial Cell"
        },
        {
         "title": "Force Sensing by Microrobot on a Chip"
        },
        {
         "title": "Activity and Emotion Recognition for Elderly Health Monitoring"
        },
        {
         "title": "5th Int. workshop on human activity sensing corpus and applications (HASCA): towards open-ended context awareness"
        },
        {
         "title": "Improvement of the Stability during a Tumbling Task with a Motion Generation System with Bimanual Coordination"
        },
        {
         "title": "Development of ball handling mechanism for RoboCup soccer robot"
        },
        {
         "title": "Design and fabrication of MEMS-based transmission systems for micro flapping wing"
        },
        {
         "title": "Extracting Propagation Patterns from Bacterial Culture Data in Medical Facility"
        },
        {
         "title": "SiN<sub>x</sub> 自立薄膜上積層型熱電マイクロジェネレータの制作及びその性能評価"
        },
        {
         "title": "ReactiveWebATN: Web-based Handwriting Note Sharing System for Distance Learning"
        },
        {
         "title": "Improvement of Portable Thin Plate Type Tactile Sensor Composed of Piezoelectric Polymer"
        },
        {
         "title": "An Interactive Technique of Fast Vertebral Segmentation for Computed Tomography Images with Bone Metastasis"
        },
        {
         "title": "Behavior of Sn atoms in GeSn thin films during thermal annealing: Ex-situ and in-situ observations"
        },
        {
         "title": "Air Stable PbSe Colloidal Quantum Dot Heterojunction Solar Cells: Ligand-Dependent Exciton Dissociation, Recombination, Photovoltaic Property, and Stability"
        },
        {
         "title": "Passive mechanism of pitch recoil in flapping insect wings"
        },
        {
         "title": "ウェアラブルセンサを用いたヒューマンセンシング"
        },
        {
         "title": "Thermal crystallization of sputter-deposited amorphous Ge films: Competition of diamond cubic and hexagonal phases"
        },
        {
         "title": "Numerical Study on Direct Initiation of Cylindrical Detonation in H2/O2 Mixtures: Effect of Higher-Order Schemes on Detonation Propagation"
        },
        {
         "title": "Design and performance enhancement of a bi-directional counter-rotating type horizontal axis tidal turbine"
        },
        {
         "title": "Detecting Malicious URLs Using Machine Learning Techniques"
        },
        {
         "title": "A Proposal of a Privacy-Preserving Questionnaire by Non-Deterministic Information and its Analysis"
        },
        {
         "title": "A New Logistic Map Based Chaotic Biogeography-Based Optimization Approach for Cluster Analysis"
        },
        {
         "title": "Thermodynamic Study on Interfacial Reaction between Blast Furnace Slag and Silicon Carbide"
        },
        {
         "title": "The Development of the Magnetic Measurement System of the Movement Method Using the Posture Information"
        },
        {
         "title": "Study on Behavior of Methane/Oxygen Gas Detonation Near Propagation Limit in Small Diameter Tube: Effect of Tube Diameter"
        },
        {
         "title": "Optimum battery energy storage system using PSO considering dynamic demand response for microgrids"
        },
        {
         "title": "Driver emotion recognition framework based on electrodermal activity measurements during simulated driving conditions"
        },
        {
         "title": "Novel fluorescent substrates for detection of trypsin activity and inhibitor screening by self-quenching"
        },
        {
         "title": "Three-Dimensional Numerical Simulation of a Rotating Detonation Engine: Effects of the Throat of a Converging-Diverging Nozzle on Engine Performance"
        },
        {
         "title": "Aware Environment for Workshop with Game Storming"
        },
        {
         "title": "Large enhancement of superconducting transition temperature in single-element superconducting rhenium by shear strain"
        },
        {
         "title": "Erratum to: General continuous-time Markov model of sequence evolution via insertions/deletions: are alignment probabilities factorable?"
        },
        {
         "title": "Experimental Verification of a 3D Scaling Principle for Low Vce(sat) IGBT"
        },
        {
         "title": "Role of the Total Isospin 3/2 Component in Three-Nucleon Reactions"
        },
        {
         "title": "RBF neural network-based online intelligent management of a battery energy storage system for stand-alone microgrids"
        },
        {
         "title": "Seamless and Secure Application Consolidation for Optimizing Instance Deployment in Clouds"
        },
        {
         "title": "Development of Dragonfly-like Flapping Robot"
        },
        {
         "title": "Discussion of several contractions by Jachymski’s approach"
        },
        {
         "title": "Effect of fibronectin adsorption on osteoblastic cellular responses to hydroxyapatite and alumina"
        },
        {
         "title": "Low thermal fault gases of various natural monoesters and comparison with mineral oil"
        },
        {
         "title": "Switching $\\mathcal{L}_{2}$ Gain for Analyzing the Magnitude of a System Switch"
        },
        {
         "title": "General continuous-time Markov model of sequence evolution via insertions/deletions: local alignment probability computation"
        },
        {
         "title": "General continuous-time Markov model of sequence evolution via insertions/deletions: are alignment probabilities factorable?"
        },
        {
         "title": "Comments on some recent generalization of the Banach contraction principle"
        },
        {
         "title": "Basic Study of the Peeling Off of Paint Using Irradiation by Atmospheric Pressure Plasma"
        },
        {
         "title": "20-ns Short-Circuit Detection Scheme with High Variation-Tolerance based on Analog Delay Multiplier Circuit for Advanced IGBTs"
        },
        {
         "title": "Single image dehazing through improved atmospheric light estimation"
        },
        {
         "title": "Lower-Power Lyapunov Functions for Networks of Integral Input-to-State Stable Systems"
        },
        {
         "title": "Electromagnetic Performances Analysis of an Ultra-wideband and Flexible Material Antenna in Microwave Breast Imaging: To Implement A Wearable Medical Bra"
        },
        {
         "title": "Characterization of titanium dioxide nanoparticles modified with polyacrylic acid and H2O2 for use as a novel radiosensitizer"
        },
        {
         "title": "Development of an accurate kinetic model for the central carbon metabolism of Escherichia coli"
        },
        {
         "title": "Structural chromosome aberrations cause swelling of the nucleus"
        },
        {
         "title": "Reduction of SDPs in $H_{\\infty}$ Control of SISO Systems and Performance Limitations Analysis"
        },
        {
         "title": "Improvement of Full Automatic Fire Extinguish System for Residential Use"
        },
        {
         "title": "Super Resolving of the Depth Map for 3D Reconstruction of Underwater Terrain Using Kinect"
        },
        {
         "title": "One-to-Many File Transfers Using Multipath-Multicast with Coding at Source"
        },
        {
         "title": "ChemInform Abstract: Diazonaphthoquinones: Synthesis, Reactions and Applications"
        },
        {
         "title": "Dark-Field Imaging: Recent developments and potential clinical applications"
        },
        {
         "title": "Separating Reflection Components in Images Under Multispectral and Multidirectional Light Sources"
        },
        {
         "title": "Characterization of multiple sequence alignment errors using complete-likelihood score and position-shift map"
        },
        {
         "title": "Feasibility study of water plasma jets for combustion promotion"
        },
        {
         "title": "Growth promotion of Spirulina by steelmaking slag: application of solubility diagram to understand its mechanism"
        },
        {
         "title": "Pinhole-Free Perovskite Films by Methylamine Iodide Solution-Assisted Repair for High-Efficiency Photovoltaics under Ambient Conditions."
        },
        {
         "title": "Director-Pitch Coupling-Induced Twist-Bend Nematic Phase"
        },
        {
         "title": "Superheated Steam Treatment of Oil Palm Mesocarp Fiber Improved the Properties of Fiber-Polypropylene Biocomposite"
        },
        {
         "title": "Interface architecture between TiO2/perovskite, perovskite/hole transport layer, and perovskite grain boundary(Conference Presentation)"
        },
        {
         "title": "Reconstruction of Spatial Continuous Distribution Using Improved Lohmann-Type CGHs"
        },
        {
         "title": "Timing-Accurate Estimation of IR-Drop Impact on Logic- and Clock-Paths During at-Speed Scan Test"
        },
        {
         "title": "Flight Results of New Technology Onboard a Lean Satellite HORYU-IV"
        },
        {
         "title": "Fermi-level-dependent charge-to-spin current conversion by Dirac surface states of topological insulators"
        },
        {
         "title": "Practice reduces task relevant variance modulation and forms nominal trajectory"
        },
        {
         "title": "A Method for Real-Time Estimation of Local Muscular Fatigue in Exercise Using Redundant Discrete Wavelet Coefficients"
        },
        {
         "title": "Real-time observation and stimulation of a single motile cell using high-speed microrobotic platform"
        },
        {
         "title": "Application of Geographic Information System to Power Distribution System Analysis"
        },
        {
         "title": "A Developed Voltage Control Strategy for Unbalanced Distribution System During Wind Speed Gusts Using SMES"
        },
        {
         "title": "Effect of vertical vibration and particle size on the solids hold-up and mean bubble behavior in a pseudo-2D fluidized bed"
        },
        {
         "title": "Inverse stochastic resonance in electroconvection by multiplicative colored noise"
        },
        {
         "title": "Power speed characteristics of a novel double-stator PM generator integrated with a magnetic gear"
        },
        {
         "title": "Multiprocessor system-on-chip design for industrial wireless application"
        },
        {
         "title": "Study the Different effects of SFCL and Outer Crowbar on Fault Ride-through Capability Enhancement of Wind Farms"
        },
        {
         "title": "Influence of backbone structure on orientation of conjugated polymers in the dynamic casting of thin floating-films"
        },
        {
         "title": "Experimental Verification of Operation and Method of Decision of Maximum DC Link Voltage in Wireless Power Transfer System"
        },
        {
         "title": "On Optimal Power-Aware Path Sensitization"
        },
        {
         "title": "Impact of different antibiotics on methane production using waste-activated sludge: mechanisms and microbial community dynamics"
        },
        {
         "title": "Learning unified binary codes for cross-modal retrieval via latent semantic hashing"
        },
        {
         "title": "Limiting classification on linearized eigenvalue problems for 1-dimensional Allen–Cahn equation II — Asymptotic profiles of eigenfunctions"
        },
        {
         "title": "Biofilm formation of periodontal pathogens on hydroxyapatite surfaces: Implications for periodontium damage"
        },
        {
         "title": "Formal Test Point Insertion for Region-Based Low-Capture-Power Compact At-Speed Scan Test"
        },
        {
         "title": "Temperature and Voltage Measurement for Field Test Using an Aging-Tolerant Monitor"
        },
        {
         "title": "Energy-saving Operation and Optimization of Thermal Comfort in Thermal Radiative Cooling/Heating System"
        },
        {
         "title": "Continuous Inaudible Recognition of Japanese Vowels Using Features Detected at Lips Shape Peaks Based on Surface Electromyography"
        },
        {
         "title": "Characteristic Features of the Modulated Structure Appearing in the Multiferroic Material Bi<sub>1-</sub><i><sub>x</sub></i>Sm<i><sub>x</sub></i>FeO<sub>3</sub> around <i>x</i> = 0.15"
        },
        {
         "title": "AUV IRSAS for Submarine Hydrothermal Deposits Exploration"
        },
        {
         "title": "Real-time autonomous multi resolution visual surveys based on seafloor scene complexity"
        },
        {
         "title": "In vitro evaluation of a combination treatment involving anticancer agents and an aurora kinase B inhibitor"
        },
        {
         "title": "An Asynchronous P System for MAX-SAT"
        },
        {
         "title": "A Flexible Power Control Method for Right Power Testing of Scan-Based Logic BIST"
        },
        {
         "title": "Enhancement of carrier mobility along with anisotropic transport in non-regiocontrolled poly (3-hexylthiophene) films processed by floating film transfer method"
        },
        {
         "title": "Crystallographic Features of the State Appearing in the Multiferroic Material Bi<sub>1-</sub><i><sub>x</sub></i>La<i><sub>x</sub></i>FeO<sub>3</sub> around <i>x</i> = 0.20"
        },
        {
         "title": "An iterative approach to the mixed H<inf>2</inf>/H<inf>∞</inf> synthesis problem based on the exterior-point approach"
        },
        {
         "title": "Character motion synthesis by principal component analysis and motion control interface by hands"
        },
        {
         "title": "Self-localization by Omni-Directional Camera and Luminous Landmarks for Autonomous Mobile Robot"
        },
        {
         "title": "Guide Construction of an Efficient Inspection, Maintenance and Asset Management of Photovoltaic Power Generation System Using GIS"
        },
        {
         "title": "Selective expression of muscarinic acetylcholine receptor subtype M3 by mouse type III taste bud cells"
        },
        {
         "title": "Lazy Management for Frequency Table on Hardware-Based Stream Lossless Data Compression"
        },
        {
         "title": "Application of Ultrasonic Sensors in Road Surface Condition Distinction Methods"
        },
        {
         "title": "Crystallization of sputter-deposited amorphous Ge films by electron irradiation: Effect of low-flux pre-irradiation"
        },
        {
         "title": "Hybrid artificial pinning centers of elongated-nanorods and segmented-nanorods in YBa2Cu3O7 films"
        },
        {
         "title": "Comparison of Sensor Detection Sensitivity in Repetitive Partial Discharge Inception Voltage Measurement for Twisted Pair Placed in Stator"
        },
        {
         "title": "Current Imbalance and AC Losses of Long-Distance DC HTS Cable"
        },
        {
         "title": "Decentralized Neuro-Fuzzy Control of an Experimental Web Transport Platform"
        },
        {
         "title": "Apatite-forming ability of vinylphosphonic acid-based copolymer in simulated body fluid: effects of phosphate group content"
        },
        {
         "title": "An automated system for evaluation of the potential functionome: MAPLE version 2.1.0"
        },
        {
         "title": "Power-Aware Testing for Low-Power VLSI Circuits"
        },
        {
         "title": "Partial Discharge Properties of Resin Molded Insulation Substrate After Long Term Voltage Application"
        },
        {
         "title": "Effects of temperature, phase, elastic deformation and transformation on inhibition of localized corrosion of hydrogen-charged Ni–Ti superelastic alloy in NaCl solution"
        },
        {
         "title": "Registration of Point Clouds Based on the Ratio of Bidirectional Distances"
        },
        {
         "title": "KDSNP: A kernel-based approach to detecting high-order SNP interactions."
        },
        {
         "title": "An improved algorithm for computing transfer function matrices of descriptor systems"
        },
        {
         "title": "Biometric assessment of deep-sea vent megabenthic communities using multi-resolution 3D image reconstructions"
        },
        {
         "title": "ToA-based positioning system for industrial wireless LAN"
        },
        {
         "title": "Phase formation and UV luminescence of Gd3+ doped perovskite-type YScO3"
        },
        {
         "title": "ChemInform Abstract: Recent Progress of Silicon Composites as Anode Materials for Secondary Batteries"
        },
        {
         "title": "Automatic Segmentation of Cell Candidate Regions in Microscopy Images Based on an Optimization Algorithm"
        },
        {
         "title": "Internet of Things with mruby"
        },
        {
         "title": "Performance evaluation of OFDMA random access in IEEE802.11ax"
        },
        {
         "title": "The effect of CdS on the charge separation and recombination dynamics in PbS/CdS double-layered quantum dot sensitized solar cells"
        },
        {
         "title": "Overcoming drawback of feature instantaneous bandwidth using EMD for epileptic seizure classification by RMS frequency"
        },
        {
         "title": "Intelligent emotion and behavior based on topological consciousness and adaptive resonance theory in a companion robot"
        },
        {
         "title": "Evaluation of the Ease of Restarts in Fault-Tolerant Control Systems Using Multiple Switching $\\mathscr{L}_{2}$ Gains"
        },
        {
         "title": "Optimization of a battery energy storage system using particle swarm optimization for stand-alone microgrids"
        },
        {
         "title": "Extraction of GGO candidate regions from the LIDC database using deep learning"
        },
        {
         "title": "Interrogation of fiber-Bragg-grating temperature and strain sensors with a temperature-stabilized VCSEL"
        },
        {
         "title": "Asymmetric Bilayer Artificial Muscles Based on Polypyrrole"
        },
        {
         "title": "Preprocessing techniques based on LBP and Gabor filters for clothing classification"
        },
        {
         "title": "Bis[3,11-di­thiatri­cyclo­[11.3.1.15,9]octa­deca-1(17),5,7,9(18),13,15-hexaen-7-yl]-1,3-butadiyne"
        },
        {
         "title": "Facile Synthesis and Characterization of Sulfur Doped Low Bandgap Bismuth Based Perovskites by Soluble Precursor Route"
        },
        {
         "title": "Architecture of the Interface between the Perovskite and Hole‐Transport Layers in Perovskite Solar Cells"
        },
        {
         "title": "Delocalization of vortex in SmBa2Cu3O7−δ superconducting films with BaHfO3 nano-rods"
        },
        {
         "title": "Finite element modelling of the common carotid artery in the elderly with physiological intimal thickening using layer-specific stress-released geometries and nonlinear elastic properties"
        },
        {
         "title": "Think like a vertex, behave like a function! a functional DSL for vertex-centric big graph processing"
        },
        {
         "title": "Ferroelectric photovoltaic response to structural transformations in doped BiFeO3 derivative thin films"
        },
        {
         "title": "The bereitschaftspotential for rise of stand-up towards robot-assist device preparation"
        },
        {
         "title": "Failure rate calculation method for high power devices in space applications at low earth orbit"
        },
        {
         "title": "Degradation Diagnosis of Electrical Insulation Performance of 6.6 kV Class Epoxy Resin Insulator Contaminated with Iron Powder and Moisture"
        },
        {
         "title": "Micro PCB Rogowski coil for current monitoring and protection of high voltage power modules"
        },
        {
         "title": "Sol–gel processing of Li1.5Al0.5Ti1.5(PO4)3 solid electrolyte thin films via polymeric complex precursor"
        },
        {
         "title": "iISS and ISS dissipation inequalities: preservation and interconnection by scaling"
        },
        {
         "title": "Amorphization resistance of nano-engineered SiC under heavy ion irradiation"
        },
        {
         "title": "Screening of nanosatellite microprocessors using californium single-event latch-up test results"
        },
        {
         "title": "Development of an autonomous underwater vehicle with human-aware robot navigation"
        },
        {
         "title": "Photoinduced electron transfer between semiconducting nanosheets and acceptor molecules in the presence of colloidal clay particles"
        },
        {
         "title": "Microscale wall heat transfer and bubble growth in single bubble subcooled boiling of water"
        },
        {
         "title": "Dual LMI approach to H<inf>∞</inf> performance limitation analysis of sensitivity and complementary sensitivity functions"
        },
        {
         "title": "An Integrated Method for Adaptive Discrimination of Bio-Sonar Clicks of Irrawaddy Dolphins (Orcaella Brevirostris) and Various Types of Boat Noise Pulses for Environmental Impact Assessment on Dolphin Habitat"
        },
        {
         "title": "Underwater Image Descattering and Quality Assessment"
        },
        {
         "title": "Partial discharge detection and induced surface current analysis using transient earth voltage method for high voltage equipment"
        },
        {
         "title": "Determination of 4f energy levels for trivalent lanthanide ions in YAlO3 by X-ray photoelectron spectroscopy"
        },
        {
         "title": "Muon capture on H3"
        },
        {
         "title": "The Price of Unfairness"
        },
        {
         "title": "Partial discharge characteristics of oil impregnated paper insulation system with oil gap under repetive impulse voltage superimposed on AC voltage"
        },
        {
         "title": "Temperature rise measurement for power-loss comparison of an aluminum electrolytic capacitor between sinusoidal and square-wave current injections"
        },
        {
         "title": "Formation of bioactive N-doped TiO2 on Ti with visible light-induced antibacterial activity using NaOH, hot water, and subsequent ammonia atmospheric heat treatment"
        },
        {
         "title": "Importance of metabolic rate to the relationship between the number of genes in a functional category and body size in Peto's paradox for cancer"
        },
        {
         "title": "A new D–D–π–A dye for efficient dye-sensitized solar cells"
        },
        {
         "title": "Real-time object tracking based on scale-invariant features employing bio-inspired hardware"
        },
        {
         "title": "Making TCP/NC Adjustable to Time Varying Loss Rates"
        },
        {
         "title": "Effect of fiber stretch on quasi-phase-matching for second-harmonic generation in thermally poled twin-hole silica-glass fiber"
        },
        {
         "title": "Recent progress in diagnosis of electric power apparatus using non-conventional partial discharge measurements"
        },
        {
         "title": "Unscented Kalman Filtering for Self‐Sensing Magnetic Levitation against Magnetic Saturation"
        },
        {
         "title": "Decentralized Interval Observer-Based Control for a Class of Nonlinear Systems"
        },
        {
         "title": "Soft-Switching Operation of Edge-Resonant Output-Inductor-Less Full-Bridge Converter"
        },
        {
         "title": "VMBeam: Zero-Copy Migration of Virtual Machines for Virtual IaaS Clouds"
        },
        {
         "title": "Control of discrete time systems based on recurrent Super-Twisting-like algorithm"
        },
        {
         "title": "Mutual inductance measurement for power device package using time domain reflectometry"
        },
        {
         "title": "Development of Hovering-Type AUV “HOBALIN” for Exploring Seafloor Hydrothermal Deposits"
        },
        {
         "title": "Photoelectrochemical CO2 reduction by a p-type boron-doped g-C3N4 electrode under visible light"
        },
        {
         "title": "Preparation of a Ductile Biopolyimide Film by Copolymerization"
        },
        {
         "title": "Discovery of the Pt-Based Superconductor LaPt5As."
        },
        {
         "title": "Fibronectin adsorption on osteoconductive hydroxyapatite and non-osteoconductive α-alumina"
        },
        {
         "title": "Adsorption and Electronic Structure of CdSe Quantum Dots on Single Crystal ZnO: A Basic Study of Quantum Dot-Sensitization System"
        },
        {
         "title": "Drought stress differentially regulates the expression of small open reading frames (sORFs) in Arabidopsis roots and shoots."
        },
        {
         "title": "Correlation of Critical Parameters on Carbon Nanotubes Crystallinity in Chemical Vapor Deposition by Using Renewable Bioresource"
        },
        {
         "title": "Fabrication and critical current density analysis of YBa2Cu3O7+(BaSnO3)′/YBa2Cu3O7+(BaSnO3)″ multilayer films"
        },
        {
         "title": "Rough Approximations from Indiscernibility Relations under Incomplete Information"
        },
        {
         "title": "Motion Analysis and Control of the Ball Operation for Dribbling Action in RoboCup Soccer Robot"
        },
        {
         "title": "Solving Subset Sum Problem Using EN P System with Active Membranes"
        },
        {
         "title": "An Improved Extraction Method of Individual Building Wall Points from Mobile Mapping System Data"
        },
        {
         "title": "Intelligent Condition Diagnosis Method for Rotating Machinery Based on Probability Density and Discriminant Analyses"
        },
        {
         "title": "Sensitivity of a Fluxgate Sensor Using Magnetic-Domain-Controlled Amorphous Core"
        },
        {
         "title": "A Generation Gap Model for a Human-Based Evolutionary Algorithm Using a Tag Cloud"
        },
        {
         "title": "Tomato Harvesting Robot Competiton"
        },
        {
         "title": "Experimental Evaluation of Approximation Algorithms for Maximum Distance-Bounded Subgraph Problems"
        },
        {
         "title": "Battery Life Estimation of Sensor Node with Zero Standby Power Consumption"
        },
        {
         "title": "Direction and viewing area-sensitive influence of EOG artifacts revealed in the EEG topographic pattern analysis"
        },
        {
         "title": "On the ergodicity of hyperbolic Sinaĭ–Ruelle–Bowen measures: the constant unstable dimension case"
        },
        {
         "title": "Extending a Work-Stealing Framework with Probabilistic Guards"
        },
        {
         "title": "Mathematical Modeling and Motion Analysis of the Wheel Based Ball Retaining Mechanism"
        },
        {
         "title": "Molecular structures of n-type semiconducting material 2,5-difluoro-1,4-phenylene-3,3′-bis{2-[(4-trifluoromethyl)phenyl]acrylonitrile} and its photo dimerization product"
        },
        {
         "title": "Correlation of microwave power dependence and temperature dependence on enzymatic reaction under microwave irradiation"
        },
        {
         "title": "Underwater image de-scattering and classification by deep neural network"
        },
        {
         "title": "Advances in finite element analysis for computational mechanics 2015"
        },
        {
         "title": "Spike-based time-domain weighted-sum calculation using nanodevices for low power operation"
        },
        {
         "title": "A Fitting Model for Asymmetric $I$ – $V$ Characteristics of Graphene FETs for Extraction of Intrinsic Mobilities"
        },
        {
         "title": "Thermodynamic Study on Interfacial Reaction between Molten Iron and Spinel"
        },
        {
         "title": "Microwave assisted trypsin digestion with cavity type resonator reactor as an innovative proteomics technology"
        },
        {
         "title": "A Supervised Correspondence Method for Statistical Shape Model Building"
        },
        {
         "title": "Cytochrome bd-type quinol oxidases: Structural variety even within the Gram-positive bacteria"
        },
        {
         "title": "In situ photoacoustic FTIR studies on photocatalytic oxidation of 2-propanol over titanium(IV) oxide"
        },
        {
         "title": "Design of WLAN Based System for Fast Protocol Factory Automation System"
        },
        {
         "title": "Depth-Based Visual Servoing Using Low-Accurate Arm"
        },
        {
         "title": "On Apriori-Based Rule Generation in SQL — A Case of the Deterministic Information System"
        },
        {
         "title": "Characteristics of a Coaxial Pulsed Plasma Thruster Using Liquid Propellant"
        },
        {
         "title": "Mature Biofilm Degradation by Potential Probiotics: Aggregatibacter actinomycetemcomitans versus Lactobacillus spp."
        },
        {
         "title": "Chemical Specification and Design Factor Consideration for Creep Degradation in Grade 91 Steel"
        },
        {
         "title": "Adsorption of Laminin on Hydroxyapatite and Alumina and the MC3T3-E1 Cell Response"
        },
        {
         "title": "Dynamic Behaviors of Vortex Ring Rolled Up by a Butterfly Wing and its Dynamic Lift"
        },
        {
         "title": "Simulation Analysis of Surface Current as TEV Signal Caused by Partial Discharge on Post Insulator in Bus Duct"
        },
        {
         "title": "Experimental signature of the attractive Coulomb force between positive and negative magnetic monopoles in spin ice"
        },
        {
         "title": "Basic Study on Partial Discharge Location in Power Module"
        },
        {
         "title": "Rapid and efficient analysis of gene function using CRISPR‐Cas9 in Xenopus tropicalis founders"
        },
        {
         "title": "Formation and Electrical Evaluation of a Single Metallized DNA Nanowire in a Nanochannel"
        },
        {
         "title": "Web application for genetic modification flux with database to estimate metabolic fluxes of genetic mutants"
        },
        {
         "title": "Evolution of pathogenicity controlled by small, dispensable chromosomes in Alternaria alternata pathogens"
        },
        {
         "title": "Effect of Discharge Trace Formation on Creepage Discharge Characteristics in Oil/Pressboard Composite Insulation System Under Impulse Voltage Application"
        },
        {
         "title": "PD Properties and Gases Generated by Palm Fatty Acids Esters (PFAE) Oil"
        },
        {
         "title": "Changes in diad sequence distribution by preferential chain scission during the thermal hydrolysis of poly(3-hydroxybutyrate-co-3-hydroxyhexanoate)"
        },
        {
         "title": "Continuous terminal sliding-mode controller"
        },
        {
         "title": "Observation of self-magnetic field relaxations in Bi2223 and Y123 HTS tapes after over-current pulse and DC current operation"
        },
        {
         "title": "Underwater Observing System for Taiping Floodgate in Taiping River of Yangzhou"
        },
        {
         "title": "A Novel High-Turbidity Underwater Image Quality Assessment Method"
        },
        {
         "title": "Non-Swarm Intelligence Search Algorithm Based on the Foraging Behaviors of Fruit Flies"
        },
        {
         "title": "Anti-Lost Luggage Reminder System Using Electrically Conductive Fiber Antenna Tag"
        },
        {
         "title": "Tissue in Cube: In Vitro 3D Culturing Platform with Hybrid Gel Cubes for Multidirectional Observations"
        },
        {
         "title": "A Sarcasm Extraction Method Based on Patterns of Evaluation Expressions"
        },
        {
         "title": "Neural Network Based On-Line Stabilization for Humanoid Robots"
        },
        {
         "title": "Nano SiO<inf>2</inf>/epoxy coating effect on creepage discharge characteristics in oil/pressboard composite insulation system"
        },
        {
         "title": "Experiments on High-Temperature Xenon Plasma Magnetohydrodynamic Power Generation"
        },
        {
         "title": "Metabolic analysis of antibody producing Chinese hamster ovary cell culture under different stresses conditions"
        },
        {
         "title": "Generating Abstractive Summaries of Sports Games from Japanese Tweets"
        },
        {
         "title": "3D Tissue Culturing: Tissue in Cube: In Vitro 3D Culturing Platform with Hybrid Gel Cubes for Multidirectional Observations (Adv. Healthcare Mater. 13/2016)"
        },
        {
         "title": "Stock Market Prediction from News on the Web and a New Evaluation Approach in Trading"
        },
        {
         "title": "Impulse and Subsequent AC Partial Discharge Properties in Cast Resin Transformer"
        },
        {
         "title": "Effect of Permittivity Variation on Surface Flashover of GIS Epoxy Spacer Model in SF6 Gas"
        },
        {
         "title": "Underwater image enhancement method using weighted guided trigonometric filtering and artificial light correction"
        },
        {
         "title": "Multiple-Bit-Flip Detection Scheme for a Soft-Error Resilient TCAM"
        },
        {
         "title": "Analysis of the Effect of Degree Correlation on the Size of Minimum Dominating Sets in Complex Networks"
        },
        {
         "title": "Human Impacts and Climate Change Influence Nestedness and Modularity in Food-Web and Mutualistic Networks"
        },
        {
         "title": "Origin of Quantum Criticality in Yb–Al–Au Approximant Crystal and Quasicrystal"
        },
        {
         "title": "Structural transition in sputter-deposited amorphous germanium films by aging at ambient temperature"
        },
        {
         "title": "Accurate Automatic Detection of Densely Distributed Cell Nuclei in 3D Space"
        },
        {
         "title": "Electron Eigen-States in InGaAs/lnAIAs Multi-Quantum Wells Using Photocurrent Spectroscopy"
        },
        {
         "title": "Single-molecule interaction force measurements of catechol analog monomers and synthesis of adhesive polymer using the results"
        },
        {
         "title": "Hierarchical Gaussian Descriptor for Person Re-identification"
        },
        {
         "title": "Improvement of Eye Detection Performance for Inside-Out Camera"
        },
        {
         "title": "Analog memory characteristics of 1T1R MoOx resistive random access memory"
        },
        {
         "title": "Modeling and Prediction of Driving Behaviors Using a Nonparametric Bayesian Method With AR Models"
        },
        {
         "title": "Fast design exploration with unified HW/SW co-verification framework for high throughput wireless communication system"
        },
        {
         "title": "Novel 600 V Low Reverse Recovery Loss Vertical PiN Diode with Hole Pockets by Bosch Deep Trench"
        },
        {
         "title": "ChemInform Abstract: One‐Pot Four Component Synthesis of Novel 3‐Furyl Coumarin Derivatives."
        },
        {
         "title": "Round-Robin Test of Repetitive Partial Discharge Inception Voltage Measurements on Complete Winding of 4 kW Random-Wound Motor"
        },
        {
         "title": "Implementation of Super-Twisting Control: Super-Twisting and Higher Order Sliding-Mode Observer-Based Approaches"
        },
        {
         "title": "Multiband HCC for Cascaded H-Bridge Multilevel Inverter Based DSTATCOM"
        },
        {
         "title": "Interval Observers for Continuous-Time Bilinear Systems with Discrete-Time Outputs"
        },
        {
         "title": "Secure Offloading of Legacy IDSes Using Remote VM Introspection in Semi-trusted Clouds"
        },
        {
         "title": "Postcaldera volcanism and hydrothermal activity revealed by autonomous underwater vehicle surveys in Myojin Knoll caldera, Izu‐Ogasawara arc"
        },
        {
         "title": "An iISS Framework for Stochastic Robustness of Interconnected Nonlinear Systems"
        },
        {
         "title": "Filopodia formation by crosslinking of F‐actin with fascin in two different binding manners"
        },
        {
         "title": "Wettability of Molten Aluminum-Silicon Alloys on Graphite and Surface Tension of Those Alloys at 1273 K (1000 °C)"
        },
        {
         "title": "Point cloud matching using singular value decomposition"
        },
        {
         "title": "Characteristics of Ti(C, N)/TiB composite layer on Ti–6Al–4V alloy produced by laser surface melting"
        },
        {
         "title": "Testing semilocal chiral two-nucleon interaction in selected electroweak processes"
        },
        {
         "title": "Near IR sensitive Sn based perovskite solar cells with high current density reaching 30mA/cm\n                    2"
        },
        {
         "title": "Head Pose Estimation and Movement Analysis for Speech Scene"
        },
        {
         "title": "Epitaxial growth of diluted magnetic semiconductor Ge1−xCrxTe with high Cr composition"
        },
        {
         "title": "Optimization of Superheated Steam Treatment to Improve Surface Modification of Oil Palm Biomass Fiber"
        },
        {
         "title": "Axially Chiral Bifunctional 8,8'-Biquinolyl: Synthesis of 7,7'-Dihydroxymethyl-8,8'-biquinolyl via Pd-Catalyzed Double C-H Oxidation of 7,7'-Dimethyl-8,8'-biquinolyl."
        },
        {
         "title": "Hydrogel Ring for Topical Drug Delivery to the Ocular Posterior Segment"
        },
        {
         "title": "Theory of a helicoidal cholesteric phase induced by an external field"
        },
        {
         "title": "Separating Reflective and Fluorescent Components Using High Frequency Illumination in the Spectral Domain"
        },
        {
         "title": "Double-Gated, Spindt-Type Field Emitter With Improved Electron Beam Extraction"
        },
        {
         "title": "SAT-Based Post-Processing for Regional Capture Power Reduction in at-Speed Scan Test Generation"
        },
        {
         "title": "Water spray-induced grooming is negatively correlated with depressive behavior in the forced swimming test in rats"
        },
        {
         "title": "Assertion-Based Verification of Industrial WLAN System"
        },
        {
         "title": "Carbon Nanotubes: Simple Salt‐Coordinated n‐Type Nanocarbon Materials Stable in Air (Adv. Funct. Mater. 18/2016)"
        },
        {
         "title": "Development of a model counter-rotating type horizontal-axis tidal turbine"
        },
        {
         "title": "S-system-based analysis of the robust properties common to many biochemical network models"
        },
        {
         "title": "An elucidation for the central stress minimum in granular piles using the smoothed particle hydrodynamics"
        },
        {
         "title": "Simple Salt‐Coordinated n‐Type Nanocarbon Materials Stable in Air"
        },
        {
         "title": "Reliability Enhancement of Embedded Memory with Combination of Aging-Aware Adaptive In-Field Self-Repair and ECC"
        },
        {
         "title": "Enhanced photoactivities of TiO2 particles induced by bio-inspired micro-nanoscale substrate"
        },
        {
         "title": "Improvement in the reproducibility of radiated emission measurements in a fully anechoic room by using VHF-LISN to control the termination condition of the AC mains cable leaving the EUT"
        },
        {
         "title": "Transparent conductive oxide-less dye-sensitized solar cells (TCO-less DSSC) with titanium nitride compact layer on back contact Ti metal mesh"
        },
        {
         "title": "A university-based model for space-related capacity building in emerging countries"
        },
        {
         "title": "Microwave-assisted synthesis of Zn–WO3 and ZnWO4 for pseudocapacitor applications"
        },
        {
         "title": "Contactless electrical conductivity measurement of metallic submicron-grain material: Application to the study of aluminum with severe plastic deformation"
        },
        {
         "title": "Tensor SOM and tensor GTM: Nonlinear tensor analysis by topographic mappings"
        },
        {
         "title": "Analysis of thermal demagnetization behavior of Nd–Fe–B sintered magnets using magnetic domain observation"
        },
        {
         "title": "Information Dilution: Granule-Based Information Hiding in Table Data - A Case of Lenses Data Set in UCI Machine Learning Repository"
        },
        {
         "title": "Design and Analysis of a New Evaluation Circuit for Capacitors Used in a High-Power Three-Phase Inverter"
        },
        {
         "title": "Structure of a bd oxidase indicates similar mechanisms for membrane-integrated oxygen reductases"
        },
        {
         "title": "Identification of Cyproheptadine as an Inhibitor of SET Domain Containing Lysine Methyltransferase 7/9 (Set7/9) That Regulates Estrogen-Dependent Transcription."
        },
        {
         "title": "Theoretical Estimation of the Acoustic Energy Generation and Absorption Caused by Jet Oscillation"
        },
        {
         "title": "Basic Properties of Conductivity and Normal Hall Effect in the Periodic Anderson Model"
        },
        {
         "title": "Diagnosis of immediate-type allergy using surface plasmon resonance"
        },
        {
         "title": "New approach for synthesis of activated carbon from bamboo"
        },
        {
         "title": "Cascaded H-bridge multilevel inverter for renewable energy generation"
        },
        {
         "title": "Design and Experimental Evaluation of a Database-Assisted V2V Communications System Over TV White Space"
        },
        {
         "title": "Orientation Characteristics of Non-regiocontrolled Poly (3-hexyl-thiophene) Film by FTM on Various Liquid Substrates"
        },
        {
         "title": "Ky-2, a Histone Deacetylase Inhibitor, Enhances High-Salinity Stress Tolerance in Arabidopsis thaliana"
        },
        {
         "title": "DNA methylation detection based on difference of base content"
        },
        {
         "title": "Photophysical investigations of squaraine and cyanine dyes and their interaction with bovine serum albumin"
        },
        {
         "title": "Optimization of blade setting angles of a counter‐rotating type horizontal‐axis tidal turbine using response surface methodology and experimental validation"
        },
        {
         "title": "Synthesis and photocatalytic performance of yttrium-doped CeO2 with a porous broom-like hierarchical structure"
        },
        {
         "title": "Effect of self-grown seed layer on thermoelectric properties of ZnO thin films"
        },
        {
         "title": "Parametric Optimization of Experimental Conditions for Dye-Sensitized Solar Cells based on Far-red Sensitive Squaraine Dye"
        },
        {
         "title": "Phase Formation of YbBa<sub>2</sub>Cu<sub>4</sub>O<sub>8</sub> Films in Metal&#x2013;Organic Deposition Method"
        },
        {
         "title": "Structures of organic additives modified magnetite nanoparticles"
        },
        {
         "title": "Growth promotion effect of steelmaking slag on Spirulina platensis"
        },
        {
         "title": "Support Vector Machine Based Classification of Seafloor Rock Types Measured Underwater Using Laser Induced Breakdown Spectroscopy"
        },
        {
         "title": "On-chip thermoelectric module comprised of oxide thin film legs"
        },
        {
         "title": "Effect of pitch difference between the bolt–nut connections upon the anti-loosening performance and fatigue life"
        },
        {
         "title": "SMARCAD1 is an ATP-dependent stimulator of nucleosomal H2A acetylation via CBP, resulting in transcriptional regulation"
        },
        {
         "title": "Image enhancement and compression of deep-sea floor image for acoustic transmission"
        },
        {
         "title": "Thermo-responsive hydrogels containing mesoporous silica toward controlled and sustainable releases"
        },
        {
         "title": "Tandem Dye-Sensitized Solar Cells Based on TCO-less Back Contact Bottom Electrodes"
        },
        {
         "title": "Electrochemical telomerase assay for screening for oral cancer"
        },
        {
         "title": "Dimerization effects on coacervation property of an elastin‐derived synthetic peptide (FPGVG)5"
        },
        {
         "title": "Development of a Built-In Micro-Laser Doppler Velocimeter"
        },
        {
         "title": "Dielectric properties of gas mixtures with per-fluorocarbon gas and gas with low liquefaction temperature"
        },
        {
         "title": "Controlling the Critical Current Anisotropy of YBCO Superconducting Films by Incorporating Hybrid Artificial Pinning Centers"
        },
        {
         "title": "Few-nucleon systems with state-of-the-art chiral nucleon-nucleon forces"
        },
        {
         "title": "Introduction of an advanced census method using fusion of acoustic and visual census of the Ganges river dolphins (Platanista gangetica) inhabiting a long tract of the Ganges river system"
        },
        {
         "title": "MU-MIMO Channel Emulator with Automatic Channel Sounding Feedback for IEEE 802.11ac"
        },
        {
         "title": "Synthesis, structure, and reaction of chiral 2-azidoimidazolinium salts: (7aS)-3-azido-5,6,7,7a-tetrahydro-2-[(1R)-1-phenylethyl]-1H-pyrrolo[1,2-c]imidazolium hexafluorophosphate and 2-azido-1,3-bis[(S)-1-phenylethyl]imidazolinium hexafluorophosphate"
        },
        {
         "title": "Relative dynamics and motion control of nanosatellite formation flying"
        },
        {
         "title": "Neutron Pairing Correlations in an α–n–n Three-Cluster Model of the 6He Nucleus"
        },
        {
         "title": "N-Hexyl-3,4-di­hydroxy­benzamide"
        },
        {
         "title": "Synthesis of 2-Azido-1,3-Dimethylimidazolinium Hexafluorophosphate (ADMP)"
        },
        {
         "title": "Numerical Analyses on Ethylene/Oxygen Detonation with Multistep Chemical Reaction Mechanisms: Grid Resolution and Chemical Reaction Model"
        },
        {
         "title": "Flexible Graphene-Based Supercapacitors: A Review"
        },
        {
         "title": "Improvement of device isolation using field implantation for GaN MOSFETs"
        },
        {
         "title": "General-purpose clocked gate driver (CGD) IC with programmable 63-level drivability to reduce Ic overshoot and switching loss of various power transistors"
        },
        {
         "title": "Thermal-Aware Small-Delay Defect Testing in Integrated Circuits for Mitigating Overkill"
        },
        {
         "title": "Amorphous Inorganic Electron‐Selective Layers for Efficient Perovskite Solar Cells: Feasible Strategy Towards Room‐Temperature Fabrication"
        },
        {
         "title": "Screening for Oral Cancer Using Electrochemical Telomerase Assay"
        },
        {
         "title": "A Secure and Fast Industrial WLAN System with Zero-Delay Roaming"
        },
        {
         "title": "Particle Filter with Least Square Fitting Prediction and Spatial Relationship Based Multi-View Elimination for 3D Volleyball Players Tracking"
        },
        {
         "title": "Which plant trait explains the variations in relative growth rate and its response to elevated carbon dioxide concentration among Arabidopsis thaliana ecotypes derived from a variety of habitats?"
        },
        {
         "title": "High performance loop closure detection using bag of word pairs"
        },
        {
         "title": "Anti-Occlusion Observation Model and Automatic Recovery for Multi-View Ball Tracking in Sports Analysis"
        },
        {
         "title": "An Improved Precision Time Protocol for Industrial WLAN Communication Systems"
        },
        {
         "title": "Synthesis of nanostructured Cu-WO3 and CuWO4 for supercapacitor applications"
        },
        {
         "title": "A functional effect of the superficial mechanical properties of articular cartilage as a load bearing system in a sliding condition"
        },
        {
         "title": "Phase diagram of the chiral magnet Cr1/3NbS2 in a magnetic field"
        },
        {
         "title": "Asymmetric Bilayer Muscles. Cooperative and Antagonist Actuation"
        },
        {
         "title": "A New Evaluation Circuit with a Low-Voltage Inverter Intended for Capacitors Used in a High-Power Three-Phase Inverter"
        },
        {
         "title": "Output-inductor-less full-bridge converter with SiC-MOSFETs for low noise and ZVS operation"
        },
        {
         "title": "Interval observers for nonlinear systems with appropriate output feedback"
        },
        {
         "title": "LUT Cascades Based on Edge-Valued Multi-Valued Decision Diagrams: Application to Packet Classification"
        },
        {
         "title": "Influence of matching field on critical current density and irreversibility temperature in YBa2Cu3O7 films with BaMO3 (M = Zr, Sn, Hf) nanorods"
        },
        {
         "title": "Observation of the formation of anisotropic silver microstructures by evanescent wave and electron microscopy"
        },
        {
         "title": "Multiplicative Noise-Induced Electrohydrodynamic Pattern Formations by Controlling Electric Conductivity"
        },
        {
         "title": "Uniaxial Strain Effects on Superconducting Transition in Y\n                    0.98\n                    Ca\n                    0.02\n                    Ba\n                    2\n                    Cu\n                    4\n                    O\n                    8"
        },
        {
         "title": "Rapid Synthesis of D‐A′‐π‐A Dyes through a One‐Pot Three‐Component Suzuki–Miyaura Coupling and an Evaluation of their Photovoltaic Properties for Use in Dye‐Sensitized Solar Cells"
        },
        {
         "title": "Evaluation of Joint Performance on High Nitrogen Stainless Steel Which is Expected to Have Higher Allergy Resistance"
        },
        {
         "title": "Low-temperature Growth of Porous and Dense ZnO Films for Perovskite Solar Cells on ITO Substrate"
        },
        {
         "title": "The Electronic Structure and Photoinduced Electron Transfer Rate of CdSe Quantum Dots on Single Crystal Rutile TiO\n                    2\n                    : Dependence on the Crystal Orientation of the Substrate"
        },
        {
         "title": "Compact Hybrid Integrated 100-Gbs Transmitter Optical Sub-Assembly Using Optical Butt-Coupling Between EADFB Lasers and Silica-Based AWG Multiplexer"
        },
        {
         "title": "EprS, an autotransporter serine protease, plays an important role in various pathogenic phenotypes of Pseudomonas aeruginosa"
        },
        {
         "title": "Computational local stiffness analysis of biological cell: High aspect ratio single wall carbon nanotube tip"
        },
        {
         "title": "Actin Filaments Bundling Mechanisms by Fascin in Filopodia were Revealed with Cryo-ET"
        },
        {
         "title": "Ellipsometric, XPS and FTIR study on SiCN films deposited by hot-wire chemical vapor deposition method"
        },
        {
         "title": "Quantum criticality and emergence of the T/B scaling in strongly correlated metals"
        },
        {
         "title": "Simulation on the microvaristor chain formation in liquid epoxy under electric field"
        },
        {
         "title": "Numerical and experimental analysis of a counter-rotating type horizontal-axis tidal turbine"
        },
        {
         "title": "Catalytic activities enhanced by abundant structural defects and balanced N distribution of N-doped graphene in oxygen reduction reaction"
        },
        {
         "title": "Effect of Anodic and Cathodic Chloride Contents on the Macrocell Corrosion and Polarization Behavior of Reinforcing Steel"
        },
        {
         "title": "Successful scaling-up of self-sustained pyrolysis of oil palm biomass under pool-type reactor"
        },
        {
         "title": "One-pot four component synthesis of novel 3-furyl coumarin derivatives"
        },
        {
         "title": "Ab initio GW plus cumulant calculation for isolated band systems: Application to organic conductor (TMTSF)2PF6 and transition-metal oxide SrVO3"
        },
        {
         "title": "syn-6,15-Dihy­droxy-2,11-di­thia­[3.3]meta­cyclo­phane ethyl acetate monosolvate"
        },
        {
         "title": "Discrete Change in Magnetization by Chiral Soliton Lattice Formation in the Chiral Magnet Cr\n                    1/3\n                    NbS\n                    2"
        },
        {
         "title": "Numerical Simulation of Jet Mixing in a Recessed Coaxial Injector at Supercritical Pressure"
        },
        {
         "title": "Systematic Protein Level Regulation via Degradation Machinery Induced by Genotoxic Drugs."
        },
        {
         "title": "ChemInform Abstract: Rh‐Catalyzed Cyclization of 3‐Aryloxycarbonyldiazonaphthoquinones for the Synthesis of β‐Phenylnaphthalene Lactones and Formal Synthesis of Pradimicinone."
        },
        {
         "title": "Progress on nanoparticle-based carbon nanotube complex: fabrication and potential application"
        },
        {
         "title": "Improvement in Jc performance below liquid nitrogen temperature for SmBa2Cu3Oy superconducting films with BaHfO3 nano-rods controlled by low-temperature growth"
        },
        {
         "title": "Can resistance against quorum-sensing interference be selected?"
        },
        {
         "title": "Influence of linear energy transfer on the scintillation decay behavior in a lithium glass scintillator"
        },
        {
         "title": "Synthesis and characterization of nanostructured Ni-WO3 and NiWO4 for supercapacitor applications"
        },
        {
         "title": "Future strategic plan analysis for integrating distributed renewable generation to smart grid through wireless sensor network: Malaysia prospect"
        },
        {
         "title": "Ionizing radiation induced emission: Scintillation and storage-type luminescence"
        },
        {
         "title": "Degree-Constrained Graph Orientation: Maximum Satisfaction and Minimum Violation"
        },
        {
         "title": "Detecting system of approaching vehicles using an ultrasonic wave"
        },
        {
         "title": "Efficiency enhancement by changing perovskite crystal phase and adding a charge extraction interlayer in organic amine free-perovskite solar cells based on cesium"
        },
        {
         "title": "Home energy management by handling life event: Can residents manage energy by knowing their life events?"
        },
        {
         "title": "Effect of Varying Alkyl Chain Length on Thermal Decomposition Temperature of Zinc(II) Xanthates and its Impact on Curing of Epoxy Resin"
        },
        {
         "title": "Investigation on structures, band gaps, and electronic structures of lead free La2NiMnO6 double perovskite materials for potential application of solar cell"
        },
        {
         "title": "Development of short and highly potent self‐assembling elastin‐derived pentapeptide repeats containing aromatic amino acid residues"
        },
        {
         "title": "Study of volume limit for headphone hearing loss prevention on portable music player"
        },
        {
         "title": "Habitat variability does not generally promote metabolic network modularity in flies and mammals"
        },
        {
         "title": "Singing support system using LPC residual wave for laryngectomee"
        },
        {
         "title": "Thermal energy transport in a surface phonon-polariton crystal"
        },
        {
         "title": "Case study: Preliminary assessment of integrated palm biomass biorefinery for bioethanol production utilizing non-food sugars from oil palm frond petiole"
        },
        {
         "title": "Photoluminescence of ns2-type center-containing zinc borate glasses"
        },
        {
         "title": "Fabrication of Y doped BaZrO3 epitaxial film on YBa2Cu3Ox sacrificial buffer layer"
        },
        {
         "title": "Real contact area and friction property of rubber with two-dimensional regular wavy surface"
        },
        {
         "title": "Development of a Direct Drive Vacuum Arc Thruster Passively Ignited for Nanosatellite"
        },
        {
         "title": "(Au@Ag)@Au double shell nanoparticles loaded on rutile TiO2 for photocatalytic decomposition of 2-propanol under visible light irradiation"
        },
        {
         "title": "Test Pattern Modification for Average IR-Drop Reduction"
        },
        {
         "title": "ChemInform Abstract: Synthesis of Novel Spiro[indol‐2,2′‐pyrroles] Using Isocyanide‐Based Multicomponent Reaction."
        },
        {
         "title": "Two-Way Cognitive DF Relaying in WSNs with Practical RF Energy Harvesting Node"
        },
        {
         "title": "Microparticles Preparation Using Water-in-Oil Emulsion"
        },
        {
         "title": "Flexural and Compressive Properties of Hybrid Kenaf/Silica Nanoparticles in Epoxy Composite"
        },
        {
         "title": "Study on the Improvement of Intelligibility for Elderly Speech Using Formant Frequency Shift Method"
        },
        {
         "title": "Auto-Drawing and Functionalization by Vapor-Phase Assisted Polymerization on Solid Surface"
        },
        {
         "title": "Numerical simulation with considering transport equations of concentrations to predict the white thrombus formation of on the wall"
        },
        {
         "title": "B-19 Characteristics of active type magnetic bearings using superconducting coils for a cryogenic pump"
        },
        {
         "title": "Chapter 7 Converged information-centric spaces based on wireless data hubs"
        },
        {
         "title": "Spray and Hop Distance Routing Protocol in Multiple-island DTN Scenarios"
        },
        {
         "title": "Spray Router with Node Location Dependent Remaining-TTL Message Scheduling in DTNs"
        },
        {
         "title": "D-12 Evaluation of Clustering Method and Aerodynamic Characteristics for Optimization of Low Reynolds Number Airfoil"
        },
        {
         "title": "A Color Quantization Based on Vector Error Diffusion and Particle Swarm Optimization Considering Human Visibility"
        },
        {
         "title": "Autonomous Underwater Vehicle Equipped with Interferometric Real and Synthetic Aperture Sonar"
        },
        {
         "title": "Specific Metallization of Double-Stranded DNA Using Reducing Group-Labeled Intercalator"
        },
        {
         "title": "Turbidity Underwater Image Restoration Using Spectral Properties and Light Compensation"
        },
        {
         "title": "Design of Prototype and Improvement Performance for Ankle Mechanism by Asymmetrically Arranged Rubber"
        },
        {
         "title": "Evaluation of Trapped Magnetic Field Properties in Superconducting MgB2 Bulk Magnets of Various Shapes by Finite Element Method"
        },
        {
         "title": "Pilot-scale open fermentation of food waste to produce lactic acid without inoculum addition"
        },
        {
         "title": "Development of Tactile Sensor Utilizing Stiffness Change of Shape-Memory Polymer Based on Temperature"
        },
        {
         "title": "A proposition for high precision ball end milling using the geometric evaluation index"
        },
        {
         "title": "Object capturing experiment using a master-slave system for dual-arm underwater robot"
        },
        {
         "title": "Crystallographic features in the vicinity of the morphotropic phase boundary in the multiferroic material Bi1-x Sm x FeO3"
        },
        {
         "title": "Stochastic Stability via Lyapunov Functions without Differentiability at Supposed Equilibria**This work was partially supported by Grant-in-Aid for Scientific Research (B) of KAKENHI (15H04022)."
        },
        {
         "title": "Observation of thrombus formation adhered to the wall by uniform shear flow and its mechanism"
        },
        {
         "title": "Vortex Rings Formed Behind a Free-Flight Butterfly and Their Dynamic Behaviors"
        },
        {
         "title": "The influence of antagonist muscle electrical stimulation on maximal hip adduction force"
        },
        {
         "title": "2B11 Visualization of thrombus formation process at wall on double cylindrical Couette flows"
        },
        {
         "title": "Analysis of Structure, Electric Current and Thermal Triply Coupled Phenomenon for Resistance Spot Welding and Proposal of Welding Condition"
        },
        {
         "title": "Robot Contest Produce Competition 2015"
        },
        {
         "title": "Damage Behavior Evaluation and Thermal Stress Analysis with coupled analysis of Carbon Fiver Reinforced Polycyanate Esters under Thermal Cyclic Environment"
        },
        {
         "title": "Realization of Sustained Flight of Flapping Wing Robot"
        },
        {
         "title": "A fingerprint of metal-oxide powders: energy-resolved distribution of electron traps"
        },
        {
         "title": "Mobile Activity Recognition through Training Labels with Inaccurate Activity Segments"
        },
        {
         "title": "Study on Acceleration Factor at 5000h Multiple Stress Test and Aging Evaluation of EVA Insulator"
        },
        {
         "title": "Seven Years of the Workshop for Synergetics between Neuroscience, Rehabilitation and Robotics"
        },
        {
         "title": "Possibility of cryopreservation of medaka eggs using liquid meniscus"
        },
        {
         "title": "2F25 Development of device placement simulator for endovascular treatment : Evaluation of deformation behavior of catheter using PVA-H blood vessel biomodel"
        },
        {
         "title": "Development of Manipulator for Deep-Sea Benthic Organism Sampling Tasks"
        },
        {
         "title": "Measurement of Trees using Depth Camera mounted on Multicopter for Application to Forestry"
        },
        {
         "title": "Three-Dimensional Numerical Simulation on Dispersion Process of High Pressure Hydrogen Jet"
        },
        {
         "title": "Flow boiling heat transfer on microstructured surface in minichannel"
        },
        {
         "title": "Study of the Effects of Heat Load, Ablator Density and Backup Structure upon the Thermal Protection Performance of Heat Shield Systems Consisting of Phenolic Carbon Ablators"
        },
        {
         "title": "Surface Profile Measurements with a Portable Thin Plate Type Sensor Composed of a Piezoelectric Polymer"
        },
        {
         "title": "A Λnn three-body resonance"
        },
        {
         "title": "Simulating group formation and behaviour in dense crowd"
        },
        {
         "title": "Time-Domain Weighted-Sum Calculation for Ultimately Low Power VLSI Neural Networks"
        },
        {
         "title": "Improvement and Evaluation of the Interlaminar Bonding Strength of FDM Parts by Atmospheric-Pressure Plasma"
        },
        {
         "title": "Development on an in-plane thermoelectric micro-generator"
        },
        {
         "title": "Generating hand motion from body motion based on hand pose estimation"
        },
        {
         "title": "Device placement simulator for endovascular treatment"
        },
        {
         "title": "Navigation Strategies of a Cruising AUV for Near-Bottom Survey of a Steep Terrain"
        },
        {
         "title": "Ceramic-Polymer Composites for Biomedical Applications"
        },
        {
         "title": "Analysis of Similarity and Differences in Brain Activities Between Perception and Production of Facial Expressions Using EEG Data and the NeuCube Spiking Neural Network Architecture"
        },
        {
         "title": "A-21 Analysis of Guidance and Control characteristics and Flight Test for Experimental Winged Rocket WIRES#014-3"
        },
        {
         "title": "Probabilistic Prediction for Text-Prompted Speaker Verification Capable of Accepting Spoken Words with the Same Meaning but Different Pronunciations"
        },
        {
         "title": "Development of Diagnostic Support System for the Oral Mucosal Diseases Using Soft Computing"
        },
        {
         "title": "Hovering control of the underwater robot to inject acetic acid to the crown-of-thorns starfish"
        },
        {
         "title": "Fabrication of a porous ZnRh 2 O 4 photocathode for photoelectrochemical water splitting under visible light irradiation and a significant effect of surface modification by ZnO necking treatment"
        },
        {
         "title": "A Fast and Safe Industrial WLAN Communication Protocol for Factory Automation Control Systems"
        },
        {
         "title": "Characteristics of Discharge Inception across Barrier in the Oil/Pressboard Composite Insulation System"
        },
        {
         "title": "Effective Leadership Behavior of Football Coaches : A Study Using PM Theory"
        },
        {
         "title": "Development of the Parametric Sub-Bottom Profiler for Autonomous Underwater Vehicles and the Application of Continuous Wavelet Transform for Sediment Layer Detections"
        },
        {
         "title": "Real-time Analysis of Baseball Pitching Using Image Processing on Smartphone"
        },
        {
         "title": "State-of-the-art Power Semiconductor Technology"
        },
        {
         "title": "In situ photoacoustic spectroscopic analysis on photocatalytic decolorization of methylene blue over titanium( iv ) oxide particles"
        },
        {
         "title": "Development and Evaluation of an LED-Lighted Timing Presentation System Toward Realization of an Assistive Robot for Training of Drum Performance"
        },
        {
         "title": "Adhesion behavior of the marine mussel Mytilus galloprovincialis and effects of poly(L-lactic acid)"
        },
        {
         "title": "A-22 Evaluation of Pseudo Aerodynamic Attitude Estimation Method of Winged Rocket Using IMU/GPS/ADS Hybrid Navigation Algorithm"
        },
        {
         "title": "Obstacle Avoidance Method Appropriate for the Steep Terrain of the Deep Seafloor"
        },
        {
         "title": "2G16 Development of a Blood Separation Device Using Blood Cell Sedimentation in a Tilted Microchannel"
        },
        {
         "title": "Deformable Gripper Mechanism with 1 D.O.F"
        },
        {
         "title": "Logic-Path-and-Clock-Path-Aware At-Speed Scan Test Generation"
        },
        {
         "title": "Break-up channels in muon capture on 3He"
        },
        {
         "title": "Variable-Pressure Wind Tunnel Test of Airfoils at Low Reynolds Numbers Designed for Mars Exploration Aircraft"
        },
        {
         "title": "The hysteresis properties analysis of Fe-4 wt% Si prepared by high purity metallurgy"
        },
        {
         "title": "Application of Shape-Memory Polymer to Robot"
        },
        {
         "title": "Relation between Wing Structure and Thrust of Flapping Micro-Mechanism  Driven by External Magnetic Field"
        },
        {
         "title": "Development of Altitude Maintenance System using a Monocular Camera for an Underwater Robot"
        },
        {
         "title": "Critical Current Properties in Longitudinal Magnetic Field of YBCO Superconductor with APC"
        },
        {
         "title": "Evaluation of Availability on Passive Acoustic Devices on Underwater Platforms"
        },
        {
         "title": "E-06 Estimation Accuracy Evaluation on Aerodynamic Characteristics of Three-dimensional Wing by Wake Integration Method for High-Angle-Flow"
        },
        {
         "title": "Preface"
        },
        {
         "title": "E-24 Evaluation of Two Dimensional Wings Characteristics in Ultra Low Reynolds Number Flow Using Highly Viscous Fluid"
        },
        {
         "title": "Design and Testing of Electrical Power Subsystem of a Lean Satellite, HORYU-IV"
        },
        {
         "title": "Roles of Gap Junctions in Organizing Traveling Waves in a Hippocampal CA3 Network Model"
        },
        {
         "title": "Growth of Graphene on SiC(111) Surfaces via Ion-Beam Irradiation"
        },
        {
         "title": "Recognizing and Understanding Nursing Activities for a Whole Day with a Big Dataset"
        },
        {
         "title": "Stability Analysis of Nonlinear Dynamic Inversion Controller Applied to Winged Rocket"
        },
        {
         "title": "Directions of thrombus formation on the wall by shear flows"
        },
        {
         "title": "I-11 Optimization of mixed colloidal silica and fullerenol slurry in Chemical Mechanical Polishing of Sapphire"
        },
        {
         "title": "海底熱水鉱床探査のための合成開口インターフェロメトリソナー解析手法の開発"
        },
        {
         "title": "Features of the ferroelectric domain structure in the multiferroic material YbMnO3"
        },
        {
         "title": "Supervised and Unsupervised Transfer Learning for Activity Recognition from Simple In-home Sensors"
        },
        {
         "title": "Thermoelectric micro-generator"
        },
        {
         "title": "A-17 Development of Airbag System for Experimental Winged Rocket"
        },
        {
         "title": "Allowing Nonlinear Stability Margins in Interconnection of iISS Dissipation Inequalities**The work was supported in part by JSPS KAKENHI Grant Number 26420422."
        },
        {
         "title": "Development of a Bearing Supported Flywheel Energy Storage System with Superconducting Magnetic Bearing"
        },
        {
         "title": "Think like a vertex, behave like a function! a functional DSL for vertex-centric big graph processing"
        },
        {
         "title": "Distribution Visualization for User Behavior Analysis on LTE Network"
        },
        {
         "title": "Pushing T C to 27.5 K in a heavy atom radical ferromagnet"
        },
        {
         "title": "High Frequency Short-circuit Inductance for Transformer at Transformer Limited Fault"
        },
        {
         "title": "Regional InfoHubs by vehicles: balancing spatio-temporal coverage and network load"
        },
        {
         "title": "Improvement of selectivity for CO 2 reduction by using Cu 2 ZnSnS 4 electrodes modified with different buffer layers (CdS and In 2 S 3 ) under visible light irradiation"
        },
        {
         "title": "Dynamic Behavior of Vortices Rolled up from an Elastic Heaving Airfoil in Separation Region"
        },
        {
         "title": "Oxygen vacancy formation and migration in double perovskite Sr 2 CrMoO 6 : a first-principles study"
        },
        {
         "title": "Auto-Radiometric Calibration in Photometric Stereo"
        },
        {
         "title": "H-03 Effect of shear of mattress on the vascular closure in the sacral soft tissues : Evaluation of minimum principal strain in a two-dimensional finite element model"
        },
        {
         "title": "Inclusion-Exclusion Integral and t-norm Based Data Analysis Model Construction"
        },
        {
         "title": "Generation of machining path for contouring EDM based on prediction of electrode wear"
        },
        {
         "title": "Finite Element Analysis of Vibration Amplification Distribution in Lean Satellites"
        },
        {
         "title": "Sweetie: Lightweight Web Authoring Environment"
        },
        {
         "title": "Robotics on Bird-like Flapping Flight"
        },
        {
         "title": "Vision-Based Behavior Strategy for Tomato Harvesting Robot (II)"
        },
        {
         "title": "Contributors"
        },
        {
         "title": "Preface: Special Issue on Workshop on Advances in Parallel and Distributed Computational Models 2015"
        },
        {
         "title": "Study on fine particles observation using Transparency micro-patterned pad during CMP"
        },
        {
         "title": "FD analysis by transport process of concentration for prediction of thrombus formation adhered to the wall on shear flows"
        },
        {
         "title": "Cell Analysis Using a Microhole-arrayed SiN Diaphragm"
        },
        {
         "title": "Development of SSBL Acoustic positioning system for underwater robot"
        },
        {
         "title": "Inverse Kinematics Calculation Method of Redundant Manipulator Using a Preconditioned the Jacobian Matrix"
        },
        {
         "title": "Split Migration of Large Memory Virtual Machines"
        },
        {
         "title": "4 th workshop on human activity sensing corpus and applications: towards open-ended context awareness"
        },
        {
         "title": "Effect of frequency ratio on passive pitching motion of insect wings"
        },
        {
         "title": "Report of 2nd tomato robot competition"
        },
        {
         "title": "A Design Method of an Autonomous Control System for a Deep-Space Probe"
        },
        {
         "title": "On special issue “Frontier Research on Flying Robots I”"
        },
        {
         "title": "On special issue “Frontier Research on Flying Robots II”"
        },
        {
         "title": "Properties of 4He and 6Li with improved chiral EFT interactions"
        },
        {
         "title": "Mechanisms of charge accumulation in the dark operation of perovskite solar cells"
        },
        {
         "title": "2F26 Fundamental study on data acquisition and processing by catheter tactile sensor composed of organic ferroelectrics"
        },
        {
         "title": "Nursing Activity Sensing Using Mobile Sensors and Proximity Sensors"
        },
        {
         "title": "B-21 Development and evaluation of large gap magnetic suspension balance system with upper and lower superconducting coils"
        },
        {
         "title": "Design of a microcapsule including a gas bubble to develop the system to regenerate cultured tissue by shock waves"
        },
        {
         "title": "Multiple Sclerosis Detection Based on Biorthogonal Wavelet Transform, RBF Kernel Principal Component Analysis, and Logistic Regression"
        },
        {
         "title": "Obstacle avoidance algorithm with consideration of wheel load change"
        },
        {
         "title": "Predicting daily nursing load from nurses' activity logs and patients' medical records"
        },
        {
         "title": "Mechanical and Antistatic Properties of Hybrid Fiber-Reinforced Composites with Lignocellulosic and Recycled Carbon Fibers"
        },
        {
         "title": "Improvement of Sampling Inspection for Wire Bonding Using Taming and Thin Film AE Sensor"
        },
        {
         "title": "C-21 Evaluation of the effect of pressure redistribution of double-layer mattress with high and low resilience urethane foams by compressive loading tests"
        },
        {
         "title": "FPGA Implementation of Autoencoders Having Shared Synapse Architecture"
        },
        {
         "title": "Development of Active Learning Methods of English in Japanese High Schools to Support Student Activities in Group Discussions"
        },
        {
         "title": "Activity Recognition and Future Prediction in Hospitals"
        },
        {
         "title": "First principles analysis of oxygen vacancy formation and migration in Sr 2 BMoO 6 (B = Mg, Co, Ni)"
        },
        {
         "title": "Non-catalyzed one-step synthesis of ammonia from atmospheric air and water"
        },
        {
         "title": "Development of Automatic Tracking System of the Maritime Mobile for Underwater Object Position Measurement"
        },
        {
         "title": "First-Principles Calculation Study of Epitaxial Graphene Layer on 4H-SiC (0001) Surface"
        },
        {
         "title": "Strain Rate and Temperature Insensitiveness of Notch-bend Strength for High Si Ductile Cast Iron"
        },
        {
         "title": "Evaluation of Stationary Colour AR Markers for Camera-based Student Response Analyser"
        },
        {
         "title": "1F3-3 模擬作業を用いた装着型アシストツールのアシスト効果の評価"
        },
        {
         "title": "The Image Compression and Reconstruction Method to Monitor AUV’s Vision Information"
        },
        {
         "title": "A-10 Evaluation of Working Accuracy of 5-Axis Machining Center by Truncated Square Pyramidal Work Piece : Evaluation of Geometric Deviation of Swing-axis by Gyroelongated Square Pyramid"
        },
        {
         "title": "Relation between intensity of singular stress at interface edge and stress intensity factor of small edge interface crack in butt joint"
        },
        {
         "title": "Entropy Maximization of Occupancy Grid Map for Selecting Good Registration of SLAM Algorithms"
        },
        {
         "title": "Structural mechanics modeling of insect wings using nonlinear finite element analysis"
        },
        {
         "title": "Electronic Structure of MePc/Si(100) Surface Studied Using Metastable-Atom Induced Electron Spectroscopy"
        },
        {
         "title": "Autonomous Survey System of Manganese Crusts  using Acoustic and Visual Instruments"
        },
        {
         "title": "Strategic improvement of the long-term stability of perovskite materials and perovskite solar cells"
        },
        {
         "title": "E-23 Validation of Classical Mixing Rule in Supercritical Mixture System by Molecular Simulation"
        },
        {
         "title": "Strategy for Offering Test Questions Based on the Relationship between the Representation of Calculation Questions and their Difficulty"
        },
        {
         "title": "Elastic Properties of As-Solidified Ti-Zr Binary Alloys for Biomedical Applications"
        },
        {
         "title": "Estimation of Wire Bonding State by the Ensemble Based MT Method and Thin AE Sensor"
        },
        {
         "title": "Development of 8 Degrees of Freedom Quadcopter with Pitch Angle Control Units"
        },
        {
         "title": "相対評価法を用いた痛みを表すオノマトペの順序関係を調べる手法の提案"
        },
        {
         "title": "Ball passing behavior for middle sized RoboCup soccer Robots"
        },
        {
         "title": "Testing Environment for CPS by Cooperating Model Checking with Execution Testing"
        },
        {
         "title": "Characterization and application of bioactive compounds in oil palm mesocarp fiber superheated steam condensate as an antifungal agent"
        },
        {
         "title": "Saliency detection method using prior information of signboard by machine learning"
        },
        {
         "title": "Attitude Estimation Using Kalman Filtering: External Acceleration Compensation Considerations"
        },
        {
         "title": "Formation Flight Control System for Multirotor Helicopters in Outdoors"
        },
        {
         "title": "Virtual Machine Co-migration for Out-of-band Remote Management"
        },
        {
         "title": "Recognizing unknown activities using semantic word vectors and twitter timestamps"
        },
        {
         "title": "Simulation of the process of thin film formation using the magnetic property of nanoparticle"
        },
        {
         "title": "Evaluation on Applicability to Electrical Insulating Material of Hydrocarbon-based Thermosetting Resin"
        },
        {
         "title": "Influence of electrical stimulation on hip joint adductor muscle activity during maximum effort"
        },
        {
         "title": "Development of Towed Underwater Robot"
        },
        {
         "title": "ROD-SAN: Energy-Efficient and High-Response Wireless Sensor and Actuator Networks Employing Wake-Up Receiver"
        },
        {
         "title": "Numerical Simulations of Jet/Free-stream Interaction Mechanism on Liquid Rocket Tank Destruction"
        },
        {
         "title": "2G17 Development of Deoxyribonuclease Sensor Using Partially-metallized DNA"
        },
        {
         "title": "Multiscale coupled analysis of resistance spot welding by microscale electrical contact resistance analysis and macroscale elasto-plastic contact, electrical current and thermal conduction triply coupled analysis"
        },
        {
         "title": "High Performance Superconducting Materials —Progress of Microstructure Control"
        },
        {
         "title": "Making decision for the next step in dense crowd simulation using support vector machines"
        },
        {
         "title": "Polysaccharide Nanofibers Fabricated by Combined Ultrasonic Atomization and Freeze Casting"
        },
        {
         "title": "Evaluation of Joint Performance on High Nitrogen Stainless Steel Which is Expected to Have Higher Allergy Resistance"
        },
        {
         "title": "A CMOS Unit Circuit Using Subthreshold Operation of MOSFETs for Chaotic Boltzmann Machines"
        },
        {
         "title": "Adhesive Improvement of Different Materials Joint Exposed to Cryogenic Temperature"
        },
        {
         "title": "D-08 Numerical Simulations of Jet/Free-stream Interaction Structures on Liquid Rocket Tank Destruction"
        },
        {
         "title": "Performance Improvement via Bagging in Ensemble Prediction of Chaotic Time Series Using Similarity of Attractors and LOOCV Predictable Horizon"
        },
        {
         "title": "1H16 Analysis of deformation process of a bubble in the capsule for development of microcapsules for regenerative system by shock wave"
        },
        {
         "title": "Effects of target temperature on size distribution of ejecta in hypervelocity impact : Toward revision of ISO11227"
        },
        {
         "title": "A-19 Multi-Objective Optimization of Supersonic Airfoil for Suborbital Winged Rocket"
        },
        {
         "title": "Embodiment Control of Redundant Manipulator in Narrow and Complicated Space"
        },
        {
         "title": "Development of Defect Verification System of IC Lead Frame Surface using a Ring-lighting"
        },
        {
         "title": "I-13 Construction of super-micro sense offeree feedback and visual for micro objects"
        },
        {
         "title": "Effects of Various Parameters on Movement of Inorganic Particles in Epoxy Liquid under Electric Field"
        },
        {
         "title": "Improvement of Structure and Wing Shape of Articulated Wing Robot"
        },
        {
         "title": "Reliability-Enhanced ECC-Based Memory Architecture Using In-Field Self-Repair"
        },
        {
         "title": "Restricted Boltzmann Machines Without Random Number Generators for Efficient Digital Hardware Implementation"
        },
        {
         "title": "Color Conversion for Color Blindness Employing Multilayer Neural Network with Perceptual Model"
        },
        {
         "title": "Development of underwater wireless power supply system using resonant energy transfer"
        },
        {
         "title": "Understanding Nursing Activities with Long-term Mobile Activity Recognition with Big Dataset"
        },
        {
         "title": "Three-dimensional Geometry of Calcified Regions and its Correlation with Luminal Surface Strains"
        },
        {
         "title": "On-Demand Hybrid Routing for Cognitive Radio Ad-Hoc Network"
        },
        {
         "title": "Damage Characterization and Thermal Stress Analysis of Polycyanate Based Carbon Fiber Reinforced Plastics under Thermal Cyclic Environment"
        },
        {
         "title": "Enhancing the performance of transparent conductive oxide-less back contact dye-sensitized solar cells by facile diffusion of cobalt species through TiO 2 nanopores"
        },
        {
         "title": "Development of a Master Slave Simulator for 3-Link Dual-Arm Underwater Robot"
        },
        {
         "title": "Earth-abundant and nano-micro composite catalysts of Fe 3 O 4 @reduced graphene oxide for green and economical mesoscopic photovoltaic devices with high efficiencies up to 9%"
        },
        {
         "title": "Empirical Study of the Lightweight Ablator Series for Transfer Vehicle Systems (LATS)"
        },
        {
         "title": "Concentration gradient-controlled growth of large-grain CH 3 NH 3 PbI 3 films and enhanced photovoltaic performance of solar cells under ambient conditions"
        },
        {
         "title": "A-16 Material Tests of Liquid Oxygen Compatibility Resin and Partial-Prototype Manufacturing of Composite Cryogenic Liquid Oxygen Tank"
        },
        {
         "title": "Let's go to IEICE Workshops!"
        },
        {
         "title": "Lightness Modification Method Considering Craik-O'Brien Effect for Protanopia and Deuteranopia"
        },
        {
         "title": "Development of ball handling mechanism for RoboCup soccer robot"
        },
        {
         "title": "Development of magnetically driven swimming mechanism applicable to capsule endoscope for stomach inspection"
        },
        {
         "title": "Recent progress of silicon composites as anode materials for secondary batteries"
        },
        {
         "title": "Vacuum Arc Thruster Development and Testing for Micro and Nano Satellites"
        },
        {
         "title": "Opening and Immobilization of Extracellular Vesicles Using Microfluidic Manipulation"
        },
        {
         "title": "Speaker Detection in Audio Stream via Probabilistic Prediction Using Generalized GEBI"
        },
        {
         "title": "Approximability of the Distance Independent Set Problem on Regular Graphs and Planar Graphs"
        },
        {
         "title": "Analysis of crutch position in the horizontal plane to confirm the stability of the axillary pad for safe double-crutch walking"
        },
        {
         "title": "Development of a direct exposure system for studying the mechanisms of central neurotoxicity caused by volatile organic compounds"
        },
        {
         "title": "The Effect of Low power Consumption Injection Molding by Porous Metal Mold by Selective Laser Melting Method (The condition of Injection Molding between resin filling rate and power consumption)"
        },
        {
         "title": "Longitudinal Study of First-year College Students Regarding Introductory Education Based on Holding the 2020 Olympics in Tokyo"
        },
        {
         "title": "A-20 Improvement of Attitude Command by Fourier Series Normalization for Trajectory Generation Using Dynamically Distributed Genetic Algorithm"
        },
        {
         "title": "Mining Discriminative Patterns from Graph Data with Multiple Labels and Its Application to Quantitative Structure-Activity Relationship (QSAR) Models."
        },
        {
         "title": "Granules for association rules and decision support in the getRNIA system"
        },
        {
         "title": "Thermal Design of a Thermoelectric Micro-Generator"
        },
        {
         "title": "Assessment of laser speckle flowgraphy: Development of novel cutaneous blood flow measurement technique"
        },
        {
         "title": "Habitat variability does not generally promote metabolic network modularity in flies and mammals"
        },
        {
         "title": "Microwave‐Assisted Enzymatic Reactions"
        },
        {
         "title": "Carrier and heat transport properties of polycrystalline GeSn films on SiO2"
        },
        {
         "title": "Crystal structure of 3,4-dimethyl 2-(tert-butyl­amino)-5-[2-oxo-4-(thio­morpholin-4-yl)-2H-chromen-3-yl]furan-3,4-di­carboxyl­ate ethyl acetate hemisolvate"
        },
        {
         "title": "Crystal structure of (tert-butyl­carbamo­yl)(4-chloro-2-oxo-2H-chromen-3-yl)methyl acetate"
        },
        {
         "title": "Crystal structure of ethyl 2-(2-{1-[N-(4-bromo­phen­yl)-2-oxo-2-phenyl­acetamido]-2-tert-butyl­amino-2-oxo­ethyl}-1H-pyrrol-1-yl)acetate"
        },
        {
         "title": "Preface"
        },
        {
         "title": "Catalytic Graphitization for Preparation of Porous Carbon Material Derived from Bamboo Precursor and Performance as Electrode of Electrical Double-Layer Capacitor"
        },
        {
         "title": "H∞ Performance Limitations Analysis for SISO Systems: A Dual LMI Approach"
        },
        {
         "title": "Low-temperature preparation of a molybdenum oxide hole collection layer by using a peroxo precursor for polymer solar cells"
        },
        {
         "title": "Biphasic and boundary lubrication mechanisms in artificial hydrogel cartilage: A review"
        },
        {
         "title": "A sufficient and necessary condition for the convergence of the sequence of successive approximations to a unique fixed point II"
        },
        {
         "title": "Sum-Separable Lyapunov Functions for Networks of ISS Systems: A Gain Function Approach"
        },
        {
         "title": "Soft Information Relaying with Transceiver Hardware Impairments in Cognitive Networks"
        },
        {
         "title": "System-Level Modeling for Transient Electrostatic Discharge Simulation"
        },
        {
         "title": "Dzip3 regulates developmental genes in mouse embryonic stem cells by reorganizing 3D chromatin conformation"
        },
        {
         "title": "Preparation and characterization of silver nanoparticles-reduced graphene oxide on ITO for immunosensing platform"
        },
        {
         "title": "Effective hierarchical optimization by a hierarchical multi-space competitive genetic algorithm for the flexible job-shop scheduling problem"
        },
        {
         "title": "ASIP implementation of CDI feedback and low complexity precoding for MU-MIMO system"
        },
        {
         "title": "An overview on biofuel and biochemical production by photosynthetic microorganisms with understanding of the metabolism and by metabolic engineering together with efficient cultivation and downstream processing"
        },
        {
         "title": "Lis1 restricts the conformational changes in cytoplasmic dynein on microtubules."
        },
        {
         "title": "Stability of stochastic nonlinear systems in cascade with not necessarily unbounded decay rates"
        },
        {
         "title": "Drying structures of marine clay in the deionized aqueous suspension"
        },
        {
         "title": "Electronic phase transition in hollandite titanates BaxTi8O16+δ"
        },
        {
         "title": "Possible High Efficiency Platform for Biosensors Based on Optimum Physical Chemistry of Carbon Nanotubes "
        },
        {
         "title": "Experimental investigation into the effects of blade pitch angle and axial distance on the performance of a counter-rotating tidal turbine"
        },
        {
         "title": "Development of a master controller for a 3-link dual-arm underwater robot"
        },
        {
         "title": "Heat balance evaluation of double-base solid propellant combustion using thermography and laser heating on a burning surface"
        },
        {
         "title": "Lanthanide 4f energy levels in perovskite-type YAlO3"
        },
        {
         "title": "Effects of sol–gel transition of clay colloids on the spectroscopic behavior of cationic dye adsorbed on the clay particles"
        },
        {
         "title": "Asynchronous P Systems for a Compare-and-Exchange Operation and Sorting"
        },
        {
         "title": "Analysis of RNA decay factor mediated RNA stability contributions on RNA abundance"
        },
        {
         "title": "Analysis of Turbine Generator Shaft Torsional Vibration Caused by Self‐Commutated Converters"
        },
        {
         "title": "An Exterior-Point Approach to the Mixed H2/H∞ Control Problem"
        },
        {
         "title": "Geometric Feature Extraction from 2D Laser Range Data for Mobile Robot Navigation"
        },
        {
         "title": "Organogelators based on metacyclophane skeleton having urea units in the bridge"
        },
        {
         "title": "Biomineralization behavior of a vinylphosphonic acid-based copolymer added with polymerization accelerator in simulated body fluid"
        },
        {
         "title": "Current status and future perspectives of kinetic modeling for the cell metabolism with incorporation of the metabolic regulation mechanism"
        },
        {
         "title": "First-principles energy band calculation of Ruddlesden–Popper compound Sr3Sn2O7 using modified Becke–Johnson exchange potential"
        },
        {
         "title": "In-home measurement system of user's motion and center of pressure"
        },
        {
         "title": "Integral input-to-state stabilization by stochastic noise generated in bounded regions"
        },
        {
         "title": "Multiplicative noise effects on electroconvection in controlling additive noise by a magnetic field"
        },
        {
         "title": "Numerical research on dynamic lateral vibration of a pumpturbine’sshaft system"
        },
        {
         "title": "Optimisation of Grasping Object Based on Pressure Sensor Measurement for Robotic Hand Gripper"
        },
        {
         "title": "A ferromagnetically coupled Fe42cyanide-bridged nanocage"
        },
        {
         "title": "Uncovering the charge transfer and recombination mechanism in ZnS-coated PbS quantum dot sensitized solar cells"
        },
        {
         "title": "Response to Leopoldo Palma. Comments on Ekino et al. Cloning and Characterization of a Unique Cytotoxic Protein Parasporin-5 Produced by Bacillus thuringiensis A1100 Strain. Toxins 2014, 6, 1882–1895"
        },
        {
         "title": "Fundamental Investigation of a Bubble Deformation Process in a Capsule by Pressure Waves for Developing DDS Microcapsules Including Gas Bubbles"
        },
        {
         "title": "The metallic state in neutral radical conductors: dimensionality, pressure and multiple orbital effects."
        },
        {
         "title": "Vortex pinning at low temperature under high magnetic field in SmBa2Cu3O y superconducting films with high number density and small size of BaHfO3 nano-rods"
        },
        {
         "title": "On‐Chip Microrobot Driven by Permanent Magnetsfor Biomedical Applications"
        },
        {
         "title": "Mitigation of copper toxicity by DNA oligomers in green paramecia."
        },
        {
         "title": "Tailoring the vortex pinning strength of YBCO thin films by systematic incorporation of hybrid artificial pinning centers"
        },
        {
         "title": "The Economics of Using Electric Vehicles for Vehicle to Building Applications Considering the Effect of Battery Degradation"
        },
        {
         "title": "Current Imbalance and AC Losses of Long Distance DC HTS Cable"
        },
        {
         "title": "Extended Goal Graph"
        },
        {
         "title": "ANN Based Optimized Battery Energy Storage System Size and Loss Analysis for Distributed Energy Storage Location in PV-Microgrid"
        },
        {
         "title": "A Basic Experiment for Image-Based Position Measurement of Objects at Sea"
        },
        {
         "title": "Construction of PV Simulator by Using Geographic Information System and Digital Surface Model"
        },
        {
         "title": "Gaze Estimation From Eye Appearance: A Head Pose-Free Method via Eye Image Synthesis"
        },
        {
         "title": "Power supply noise and its reduction in at-speed scan testing"
        },
        {
         "title": "Thermal and Electrical Conductivities of Porous Si Membranes"
        },
        {
         "title": "A pixel-parallel state-propagation algorithm with self-update of propagation direction for subjective contour generation"
        },
        {
         "title": "A method for evaluating the thrust of a space propulsion device with wide range time variations using a disturbance observer"
        },
        {
         "title": "Low-cost three-dimensional gait analysis system for mice with an infrared depth sensor"
        },
        {
         "title": "Performance of a web transport system with tension control subsystem using speed as control input"
        },
        {
         "title": "Application of Fictitious Reference Iterative Tuning to Vibration Suppression Controller for 2-Inertia Resonance System"
        },
        {
         "title": "Testing Environment for Embedded Software Product Lines"
        },
        {
         "title": "Utilization of Fly Ash with Higher Loss on Ignition for Geopolymer Mortar"
        },
        {
         "title": "Potential active materials for photo-supercapacitor: A review"
        },
        {
         "title": "Experiments on neural networks with different configurations for electroencephalography (EEG) signal pattern classifications in imagination of direction"
        },
        {
         "title": "Functionality emergence of single molecule electronics"
        },
        {
         "title": "Improvement of Lightness Modification Method Based on Craik-O'Brien Effect for Dichromats"
        },
        {
         "title": "Inducing awareness for learners through visualizing mutual evaluation data by a self-organizing map"
        },
        {
         "title": "Effective hierarchical optimization using integration of solution spaces and its application to multiple Vehicle Routing Problem"
        },
        {
         "title": "Development of hovering type AUV “Cyclops” and its performance evaluation using image mosaicing"
        },
        {
         "title": "Image-based fish recognition"
        },
        {
         "title": "Integration of Hard Repair Techniques with ECC for Enhancing Fabrication Yield and Reliability of Embedded Memories"
        },
        {
         "title": "Pinpoint-fluorinated phenanthrene synthesis based on CF bond activation of difluoroalkenes"
        },
        {
         "title": "2-DOF based novel controller design for DC voltage regulation of LCL interfaced three phase grid connected solar PV system"
        },
        {
         "title": "A Radio Interference Aware Dynamic Channel Utilization Method on Software Defined WMN"
        },
        {
         "title": "Failure analysis for coming out of shaft from shrink-fitted ceramic sleeve"
        },
        {
         "title": "ChemInform Abstract: Synthesis of Diazonaphthoquinones from Naphthols by Diazo‐Transfer Reaction"
        },
        {
         "title": "Application of Electronic Equipment Source Model to Influence of Biconi-Log Antenna"
        },
        {
         "title": "Synchronization Control for Twin-Axes Table Drive System"
        },
        {
         "title": "DDPWM-based power conversion system using three to four phase matrix converter for stand-alone power system"
        },
        {
         "title": "Inducing Blood Vessel Formation Using Cubic Eggshell with Patterned Surface"
        },
        {
         "title": "Novel Controller Design for DC Link Voltage Control of Grid Connected PV System and Optimized PI Response Analysis with Improved Transients"
        },
        {
         "title": "Improvement of heme oxygenase-1-based heme sensor for quantifying free heme in biological samples"
        },
        {
         "title": "Frit Based Optimized PI Tuning for DC Link Voltage Control of Grid Connected Solar PV System"
        },
        {
         "title": "Accuracy Verification of the Image-Based an Underwater Object Position Measurement"
        },
        {
         "title": "Application of One-Axis-Controlled Magnetic Bearing With a Hollow Shaft to Noncontact Rotation Drive"
        },
        {
         "title": "Different Optimization Schemes for Community Based Energy Storage Systems"
        },
        {
         "title": "Study of Magnetic Domain Dynamics Using Nonlinear Magnetic Responses: Magnetic Diagnostics of the Itinerant Magnet MnP"
        },
        {
         "title": "Integrating Kinetic Model of E. coli with Genome Scale Metabolic Fluxes Overcomes Its Open System Problem and Reveals Bistability in Central Metabolism"
        },
        {
         "title": "High pressure effects on isotropic Nd\n                    2\n                    Fe\n                    14\n                    B magnet accompanying change in coercive field"
        },
        {
         "title": "Using near infrared light for deep sea mining observation systems"
        },
        {
         "title": "Tar-free and Benzo[\n                    a\n                    ]pyrene-free Hydrothermal Liquefaction of Bamboo and Antibacterial Property of Recovered Vinegar"
        },
        {
         "title": "Synthesis of Novel Spiro[indol-2,2′-pyrroles] Using Isocyanide-Based Multicomponent Reaction"
        },
        {
         "title": "From Intensity Profile to Surface Normal: Photometric Stereo for Unknown Light Sources and Isotropic Reflectances"
        },
        {
         "title": "Development of an autonomous underwater vehicle for survey of cobalt-rich manganese crust"
        },
        {
         "title": "Development of an automatic discrimination method of the bio-sonar clicks of Irrawaddy dolphin (Orcaella brevirostris) from various types of boat noises"
        },
        {
         "title": "Experiments on Classification of Electroencephalography (EEG) Signals in Imagination of Direction Using a Wireless Portable EEG Headset"
        },
        {
         "title": "Repetitive impulse voltage generator development and waveform analysis for testing insulation dignity of inverter-fed low voltage motor"
        },
        {
         "title": "One-pot facile synthesis of branched Ag-ZnO heterojunction nanostructure as highly efficient photocatalytic catalyst"
        },
        {
         "title": "Investigation of the Deuteron Breakup on Proton Target in the Forward Angular Region at 130 MeV"
        },
        {
         "title": "The Cognitive Mechanisms of Multi-scale Perception for the Recognition of Extremely Similar Faces"
        },
        {
         "title": "LOC-Based High-Throughput Cell Morphology Analysis System"
        },
        {
         "title": "Garment Design System Based on Body Model"
        },
        {
         "title": "Improved yield and higher heating value of biochar from oil palm biomass at low retention time under self-sustained carbonization"
        },
        {
         "title": "Neural Signature of Efficiency Relations"
        },
        {
         "title": "Thermal Improvement by Swithching-Loss Reduction Technique in PWM-Controlled Output-Inductor-Less Full-Bridge Converter"
        },
        {
         "title": "An efficient, high-order finite element method using the nodal averaging technique for incompressible fluid flows"
        },
        {
         "title": "Image restoration method for deep-sea tripod observation systems in the South China Sea"
        },
        {
         "title": "Parameterized digital hardware design of pulse-coupled phase oscillator networks"
        },
        {
         "title": "MEMS sensor measurement of surface temperature response during subcooled flow boiling in a rectangular flow channel"
        },
        {
         "title": "Consideration of Uncertainty for Current Measurement and Development of Test Data Generator for TRV Measunnent"
        },
        {
         "title": "Portable Vision-Based Response Analyzer with Sheet Bending Recognition"
        },
        {
         "title": "Power Saving Techniques for Wireless Communication Systems Using Cross Layer Designs"
        },
        {
         "title": "A Fast Level Set Model for Intensity Inhomogeneity Correction in eHealth Analysis System"
        },
        {
         "title": "Proposal of PM Motor Driving System Consist of PWM Inverter with Voltage Booster for Applying to Automated Guided Vehicle"
        },
        {
         "title": "An isolated DC-DC converter using air-core inductor for power supply on chip applications"
        },
        {
         "title": "Local coordination state of rare earth in eutectic scintillators for neutron detector applications"
        },
        {
         "title": "A fiber Bragg grating temperature sensor using a vertical-cavity surface-emitting laser with temperature stabilization"
        },
        {
         "title": "Automatic segmentation of phalanges regions on MR images based on MSGVF snakes"
        },
        {
         "title": "Effect of Thin Solid Layer Coating on Creepage Discharge Characteristics in Oil/Pressboard Composite Insulation System"
        },
        {
         "title": "Development of Image Viewer for Analyzing of Temporal Subtraction from Chest CT Images"
        },
        {
         "title": "A sensor node architecture with zero standby power on wireless sensor network"
        },
        {
         "title": "Posture Estimation from Kinect Image Using RVM Regression Analysis"
        },
        {
         "title": "Automated Cable-Laying System for Thin Optical-Fiber Submarine Cable Installation"
        },
        {
         "title": "Effect of Manual Image Cutout in Diagnosis Support System of Oral Mucosal Disease Based on Intraoral Image"
        },
        {
         "title": "Development of a supporting system for visual inspection of IGBT device based on statistical feature and complex multi-resolution analysis"
        },
        {
         "title": "A personalized load forecasting enhanced by activity information"
        },
        {
         "title": "Performance and internal flow of a counter-rotating type tidal stream turbine"
        },
        {
         "title": "Identification of manganese crusts in 3D visual reconstructions to filter geo-registered acoustic sub-surface measurements"
        },
        {
         "title": "A “Swingable” straight-chain affinity molecule immobilized on a semi-conductor electrode for photo-excited current-based molecular sensing"
        },
        {
         "title": "Numerical simulations on 3D shift multiplexed self-referential holographic data storage: shift multiplexing properties along z-axis"
        },
        {
         "title": "Facial Expression of Social Interaction Based on Emotional Motivation of Animal Robot"
        },
        {
         "title": "Experiment for automatic assessment of user-generated tests"
        },
        {
         "title": "3D Acoustic imagery generation by interferometric analysis of long baseline using Interferometric Real Aperture Sonar."
        },
        {
         "title": "Atomistic structures of nano-engineered SiC and radiation-induced amorphization resistance"
        },
        {
         "title": "A fully digitally controlled multiple input and output voltage buck-boost POL for power supply on chip"
        },
        {
         "title": "Hybrid Controlled Soft-Switching Half-Bridge Converter in DCM Operation with Voltage Doubler Rectifier for Battery Charge Application"
        },
        {
         "title": "High-resolution and simultaneous measurement along the depth direction using virtual phase conjugation for optical tomography"
        },
        {
         "title": "Spin relaxation characteristics in Ag nanowire covered with various oxides"
        },
        {
         "title": "Controlled Microwave Heating Accelerates Rolling Circle Amplification"
        },
        {
         "title": "Synthesis of Fluorescent Potassium Ion–Sensing Probes Based on a Thrombin‐Binding DNA Aptamer–Peptide Conjugate"
        },
        {
         "title": "Debonding strength evaluation in terms of the intensity of singular stress at the interface corner with and without fictitious crack"
        },
        {
         "title": "Development of an In-Orbit High-Voltage Experimental Platform: HORYU-4"
        },
        {
         "title": "Synthesis of highly effective Pt/carbon fiber composite counter electrode catalyst for dye-sensitized solar cells"
        },
        {
         "title": "Evaluation of a superior lubrication mechanism with biphasic hydrogels for artificial cartilage"
        },
        {
         "title": "Age-related distensibility and histology of the ascending aorta in elderly patients with acute aortic dissection"
        },
        {
         "title": "Towards a Kansei WordNet by Color Design SNS Evaluation"
        },
        {
         "title": "Effect of defects in TiO2 nanotube thin film on the photovoltaic properties of quantum dot-sensitized solar cells"
        },
        {
         "title": "A Concept of Field Programmable Power Supply Array Utilizing Power Supply on Chip"
        },
        {
         "title": "Transparent conductive oxide‐less back contact dye‐sensitized solar cells using cobalt electrolyte"
        },
        {
         "title": "Immobilization of immunoglobulin-G-binding domain of Protein A on a gold surface modified with biotin ligase"
        },
        {
         "title": "Tolerance Against Multiple Fault Modes and its Application to Corrective Maintenance of Faulty Actuators in Servo Systems"
        },
        {
         "title": "The proportion of genes in a functional category is linked to mass-specific metabolic rate and lifespan"
        },
        {
         "title": "Direct thickness measurement of doctor-bladed liquid film on gravure roll surface"
        },
        {
         "title": "Comparison of Feature Extraction Methods for Head Recognition"
        },
        {
         "title": "Measurement of the in-Plane Thermal Conductivity of Sio2 Thin Films Due to Surface Phonon-Polaritons"
        },
        {
         "title": "Fabrication and characterization of a p-type Cu3Nb2O8 photocathode toward photoelectrochemical reduction of carbon dioxide"
        },
        {
         "title": "Synthetic strategy for bicyclic tetrapeptides HDAC inhibitors using ring closing metathesis"
        },
        {
         "title": "Message from WIND 2015 Workshop Chairs"
        },
        {
         "title": "Corundum-to-spinel structural phase transformation in alumina"
        },
        {
         "title": "A Short Note on the Solution of the Prisoner's Dilemma"
        },
        {
         "title": "A fast industrial WLAN protocol and its MAC implementation for factory communication systems"
        },
        {
         "title": "Flashover Discharge Measurement With Uniform Surface Charging and Modeling of Current Waveform"
        },
        {
         "title": "Cloth dynamics modeling in latent spaces and its application to robotic clothing assistance"
        },
        {
         "title": "Welcome Message from the 7th INCoS-2015 Workshops Co-Chairs"
        },
        {
         "title": "Tin-Doped Inorganic Amorphous Films for Use as Transparent Monolithic Phosphors"
        },
        {
         "title": "A New Auto Synchronization Technique of Unipolar MPAM Signals for OFDM-Based Optical Wireless Communication Systems"
        },
        {
         "title": "Multi-objective numerical optimization of the front blade pitch angle distribution in a counter-rotating type horizontal-axis tidal turbine"
        },
        {
         "title": "Energy transport of surface phonon polaritons propagating along a chain of spheroidal nanoparticles"
        },
        {
         "title": "Electrically Stimulated Antagonist Muscle Contraction Increased Muscle Mass and Bone Mineral Density of One Astronaut - Initial Verification on the International Space Station"
        },
        {
         "title": "Design of Phenylalanine-Containing Elastin-Derived Peptides Exhibiting Highly Potent Self-Assembling Capability."
        },
        {
         "title": "Rh-Catalyzed Cyclization of 3-Aryloxycarbonyldiazonaphthoquinones for the Synthesis of β-Phenylnaphthalene Lactones and Formal Synthesis of Pradimicinone."
        },
        {
         "title": "Enhanced thermoelectric properties of phase-separating bismuth selenium telluride thin films via a two-step method"
        },
        {
         "title": "Inhibition of localized corrosion of Ni–Ti superelastic alloy in NaCl solution by hydrogen charging"
        },
        {
         "title": "Design of Practical Superconducting DC Power Cable With REBCO Coated Conductors"
        },
        {
         "title": "Preparation of luminescent polystyrene microspheres via surface-modified route with rare earth (Eu3+ and Tb3+) complexes linked to 2,2′-bipyridine"
        },
        {
         "title": "Adaptive Contention Window Control Scheme for Dense IEEE802.11 Wireless LANs"
        },
        {
         "title": "High variability in quorum quenching and growth inhibition by furanone C-30 in Pseudomonas aeruginosa clinical isolates from cystic fibrosis patients"
        },
        {
         "title": "On-Line Tracking of Living Cell Subjected to Cyclic Stretch**This work was partially supported by Grant-in-Aid for Young Scientists (B) No. 25750514, and the Program to Disseminate Tenure Track System, MEXT, Japan."
        },
        {
         "title": "Failure analysis of power devices based on real-time monitoring"
        },
        {
         "title": "Behavior Selection System Based on Emotional Variations"
        },
        {
         "title": "Analysis of the Impact of CPU Virtualization on Parallel Applications in Xen"
        },
        {
         "title": "Motion-Blur-Free Microscopic Video Shooting Based on Frame-by-Frame Intermittent Tracking"
        },
        {
         "title": "A Genetic Algorithm Approach Determining Simultaneously Location and Capacity Distributed Generation in Radial Distribution System"
        },
        {
         "title": "Comparison of Near and Far Infrared Vision for Biometric Applications"
        },
        {
         "title": "Underwater image enhancement using inherent optical properties"
        },
        {
         "title": "A novel method of computing the Stess intensity factors of the interfacial cracks"
        },
        {
         "title": "16-Channel micro magnetic flux sensor array for IGBT current distribution measurement"
        },
        {
         "title": "Secure Out-of-Band Remote Management Using Encrypted Virtual Serial Consoles in IaaS Clouds"
        },
        {
         "title": "Effect of X-ray irradiation on partial discharge inception and extinction characteristics in cast resin transformer"
        },
        {
         "title": "Distinct Characteristics of Indole-3-Acetic Acid and Phenylacetic Acid, Two Common Auxins in Plants"
        },
        {
         "title": "TCP Network Coding with Forward Retransmission"
        },
        {
         "title": "Calcium phosphate crystallization on titania in a flowing Kokubo solution"
        },
        {
         "title": "Brain-Like Signal Generating Electric Devices Made of Single-Walled Carbon Nanotube and Nanoparticle Complex"
        },
        {
         "title": "Investigation of DC Corona Discharge Properties Using UHF Method"
        },
        {
         "title": "Modeling Dynamic High-DOF Finger Postures from Surface EMG Using Nonlinear Synergies in Latent Space Representation"
        },
        {
         "title": "Thermodynamics and kinetic studies in the binding interaction of cyclic naphthalene diimide derivatives with double stranded DNAs"
        },
        {
         "title": "Retraction notice to ‘Design and synthesis of CHAP31, trapoxin B and HC-toxin based bicyclic tetrapeptides disulfide as potent histone deacetylase inhibitors’ [Bioorg Med Chem 22 (2014) 3850–3855]"
        },
        {
         "title": "Performance evaluation of multi-hop communication with a dynamic channel switching scheme in ROD-SAN"
        },
        {
         "title": "Study on Static Electrification of Palm FattyAcid Ester (PFAE) Oil Using Mini Static Tester"
        },
        {
         "title": "Node Location Dependent Remaining-TTL Message Scheduling in DTN s"
        },
        {
         "title": "Evaluation of novel impulse voltage generator for qualification test of IEC60034-18-42"
        },
        {
         "title": "Investigation of metal xanthates as latent curing catalysts for epoxy resin via formation of in-situ metal sulfides"
        },
        {
         "title": "High-throughput and full automatic DBC-module screening tester for high power IGBT"
        },
        {
         "title": "Optimal switch placement in radial distribution system based on reliability worth analysis"
        },
        {
         "title": "On Demand Routing Scheme for Real-Spatial Information Based Group Communication"
        },
        {
         "title": "Design of dipole antenna model for partial discharge detection in GIS"
        },
        {
         "title": "Perturbative formulation of general continuous-time Markov model of sequence evolution via insertions/deletions, Part I: Theoretical basis"
        },
        {
         "title": "Perturbative formulation of general continuous-time Markov model of sequence evolution via insertions/deletions, Part IV: Incorporation of substitutions and other mutations"
        },
        {
         "title": "Perturbative formulation of general continuous-time Markov model of sequence evolution via insertions/deletions, Part III: Algorithm for first approximation"
        },
        {
         "title": "Perturbative formulation of general continuous-time Markov model of sequence evolution via insertions/deletions, Part II: Perturbation analyses"
        },
        {
         "title": "Optimization of the Rear Propeller Profile of a Counter-Rotating Type Tidal Stream Power Unit Based on CFD Simulation"
        },
        {
         "title": "Functional Classification of Uncultured “Candidatus Caldiarchaeum subterraneum” Using the Maple System"
        },
        {
         "title": "Aerodynamic Flow Separation Control of Bridge Deck Sections Using Plasma Actuators"
        },
        {
         "title": "CH\n                    3\n                    NH\n                    3\n                    PbI\n                    3\n                    and CH\n                    3\n                    NH\n                    3\n                    PbI\n                    \n                      3–\n                      x\n                    \n                    Cl\n                    \n                      x\n                    \n                    in Planar or Mesoporous Perovskite Solar Cells: Comprehensive Insight into the Dependence of Performance on Architecture"
        },
        {
         "title": "A Genome Scan for Genes Underlying Microgeographic-Scale Local Adaptation in a Wild Arabidopsis Species"
        },
        {
         "title": "Nonisothermal curing kinetics of epoxy resin composite utilizing Ga (III) xanthate as a latent catalyst"
        },
        {
         "title": "Molecular dynamics study on condensation/evaporation coefficients of chain molecules at liquid–vapor interface"
        },
        {
         "title": "Thermal Transport Property of Silicon Membranes With Asymmetric Porous Structure"
        },
        {
         "title": "Crystal structure of benzyl 3-oxo-2-oxa-5-aza­bicyclo­[2.2.1]heptane-5-carboxyl­ate"
        },
        {
         "title": "Crystal structure of (1R,4R)-tert-butyl 3-oxo-2-oxa-5-aza­bicyclo­[2.2.2]octane-5-carboxyl­ate"
        },
        {
         "title": "A Lyapunov approach to iISS and iNSS for stochastic systems in path-wise probability"
        },
        {
         "title": "Molecular governor that regulates DNA reactions for molecular robotics"
        },
        {
         "title": "Electric Field Grading of Gas Insulated Switchgears with Microvaristor Composites"
        },
        {
         "title": "A New VNE Method for More Responsive Networking in Many-To-Many Groups"
        },
        {
         "title": "Simple Metal-Free Dyes Derived from Triphenylamine for DSSC: A Comparative Study of Two Different Anchoring Group"
        },
        {
         "title": "Numerical investigation of fast-wave propagation and radio-frequency sheath interaction with a shaped tokamak wall"
        },
        {
         "title": "Virtual AMT for Unified Management of Physical and Virtual Desktops"
        },
        {
         "title": "Notice of Removal<BR>The mixed H<inf>2</inf>/H<inf>&#x221E;</inf> controller design based on an exterior-point approach"
        },
        {
         "title": "Message from the Workshop Organizers"
        },
        {
         "title": "First principles study on the electronic and optical properties of B-site ordered double perovskite Sr2MMoO6 (M=Mg, Ca, and Zn)"
        },
        {
         "title": "Colloidal crystallization of C60/polymer-grafted silica particles in organic solvent"
        },
        {
         "title": "Vectorial Crystal Growth of Oriented Vertically Aligned Carbon Nanotubes Using Statistical Analysis"
        },
        {
         "title": "A Consideration on Learning by Rule Generation from Tables with Missing Values"
        },
        {
         "title": "Electrical Insulation Properties Evaluation of Poly-Tricyclopentadiene Under High Temperature"
        },
        {
         "title": "Abdominal breathing restrictor for mental tension enhancement"
        },
        {
         "title": "Comparison of Low Thermal Fault Gases of Various Fatty Acid Mono Esters"
        },
        {
         "title": "Exemplar-based image inpainting algorithm using adaptive sample and candidate patch system"
        },
        {
         "title": "Design and control of LCL filter interfaced grid connected solar photovoltaic (SPV) system using power balance theory"
        },
        {
         "title": "Notice of Removal<BR>Determination method of motor imagined limbs based on the EEG signals"
        },
        {
         "title": "Chapter 7: Technologies of Materials Processing"
        },
        {
         "title": "Zonal Fairness in Wireless Infrastructure"
        },
        {
         "title": "Multidimentional Classification Automation with Human Interface Based on Metromaps"
        },
        {
         "title": "Spherical designs of harmonic index t"
        },
        {
         "title": "Construction of IISS Lyapunov Functions for Interconnected Parabolic Systems"
        },
        {
         "title": "A database driven data channel selection scheme for V2V communication over TV white space"
        },
        {
         "title": "Optimum Life Test Plan under the Thermal Stress Deterioration Using the Mechanical Strength"
        },
        {
         "title": "Sol–gel synthesis of magnetic TiO2 microspheres and characterization of their in vitro heating ability for hyperthermia treatment of cancer"
        },
        {
         "title": "Many-Body Calculations for Medium-Mass Nuclei by the Unitary Transformation Method"
        },
        {
         "title": "Advances in finite element analysis for computational mechanics 2015"
        },
        {
         "title": "High-Throughput Logic Timing Simulation on GPGPUs"
        },
        {
         "title": "Preference bias of head orientation in choosing between two non-durables"
        },
        {
         "title": "Asymmetric Supercapacitors Using 3D Nanoporous Carbon and Cobalt Oxide Electrodes Synthesized from a Single Metal-Organic Framework."
        },
        {
         "title": "A Selective G-Quadruplex DNA-Stabilizing Ligand Based on a Cyclic Naphthalene Diimide Derivative"
        },
        {
         "title": "Characteristics of high-performance BaHfO3-doped SmBa2Cu3Oy superconducting films fabricated with a seed layer and low-temperature growth"
        },
        {
         "title": "Influence of Postdeposition Cooling Atmosphere on Thermoelectric Properties of 2% Al-Doped ZnO Thin Films Grown by Pulsed Laser Deposition"
        },
        {
         "title": "A Micro Laser Doppler Velocimeter Designed for a Wafer-Level Packaging Process"
        },
        {
         "title": "Precise Analysis of Head Deformation at Falling Shock"
        },
        {
         "title": "Fault-Current Limiting Properties in Innovative Force-Free Superconducting DC Cable"
        },
        {
         "title": "Partial Discharge Inception Voltage of Pressurized Gas Insulation Encapsulation Used for High-Temperature and High-Voltage Power Module"
        },
        {
         "title": "Travelling wave solutions of a parabolic-hyperbolic system for contact inhibition of cell-growth"
        },
        {
         "title": "Development of Battery-Shaped Device Unified Communication Line and Power Line"
        },
        {
         "title": "In vitro apatite formation on nano-crystalline titania layer aligned parallel to Ti6Al4V alloy substrates with sub-millimeter gap"
        },
        {
         "title": "Irreversibility Fields and Critical Current Densities in Strongly Pinned YBa<sub>2</sub>Cu<sub>3</sub>O<sub>7-x</sub> Films With Artificial Pinning Centers"
        },
        {
         "title": "RF Energy Harvesting Two-way Cognitive DF Relaying with Transceiver Impairments"
        },
        {
         "title": "Optically stimulated luminescence in x-ray irradiated xSnO–(25−x)SrO–75B2O3 glass"
        },
        {
         "title": "Field Effect Control of <inline-formula> <tex-math notation=\"TeX\">$T_{\\rm c}$</tex-math></inline-formula> in Y-Ba-Cu-O Electric Double Layer Transistors"
        },
        {
         "title": "Concentration-driven phase control for low temperature synthesis of phase-pure anatase and rutile titanium oxide"
        },
        {
         "title": "Adaptive and intuitive interactions with socially-competent pedagogical assistant robots"
        },
        {
         "title": "GM130 is a parallel tetramer with a flexible rod‐like structure and N–terminally open (Y‐shaped) and closed (I‐shaped) conformations"
        },
        {
         "title": "Synthesis of the cyclic prenylguanidine nitensidine E using a palladium-catalyzed carbenylative amination"
        },
        {
         "title": "Structural and Thermoelectric Properties of Nanocrystalline Bismuth Telluride Thin Films Under Compressive and Tensile Strain"
        },
        {
         "title": "State Feedback Control Using Particle Filter"
        },
        {
         "title": "3D Map Construction Based on Structure from Motion Using Stereo Vision"
        },
        {
         "title": "Determining the Thermal Conductivity of Nanocrystalline Bismuth Telluride Thin Films Using the Differential 3ω Method While Accounting for Thermal Contact Resistance"
        },
        {
         "title": "mruby -- Rapid Software Development for Embedded Systems"
        },
        {
         "title": "Enhanced Current-Carrying Capacity of Three-Layer Cable Composed of Bi-2223 Tapes Using the Longitudinal Field Effect"
        },
        {
         "title": "Magnetic Field of BG-VG Transition Depending on the Nanorods Shape in <inline-formula> <tex-math notation=\"TeX\">$\\hbox{BaHfO}_{3}$</tex-math></inline-formula>-Doped <inline-formula> <tex-math notation=\"TeX\">$\\hbox{SmBa}_{2}\\hbox{Cu}_{3}\\hbox{O}_{y}$</tex-math></inline-formula> Films"
        },
        {
         "title": "New Measurement Base De-Embedded CPU Load Model for Power Delivery Network Design"
        },
        {
         "title": "Low temperature fabrication & photocatalytical activity of carbon fiber-supported TiO2 with different phase compositions"
        },
        {
         "title": "Thermal expansion of a Au−Al−Yb intermediate valence quasicrystal"
        },
        {
         "title": "Systematic Variation of Hybrid APCs Into YBCO Thin Films for Improving the Vortex Pinning Properties"
        },
        {
         "title": "Introduction to Lean Satellite and ISO standard for Lean Satellite"
        },
        {
         "title": "A Terminal Authentication with Transiting Nodes by SymPC on an Ad-Hoc Network"
        },
        {
         "title": "Comparative study of neutron and gamma-ray pulse shape discrimination of anthracene, stilbene, and p-terphenyl"
        },
        {
         "title": "Improvement of automatic fire extinguisher system for residential use"
        },
        {
         "title": "Limiting classification on linearized eigenvalue problems for 1-dimensional Allen–Cahn equation I—asymptotic formulas of eigenvalues"
        },
        {
         "title": "Relationship between microstructure and magnetic domain structure of Nd-Fe-B melt-spun ribbon magnets"
        },
        {
         "title": "Infrared Light Sensitive SN/PB Binary Perovskite Solar cells with Improved Stability in Air and Organic Amine-Free Perovskite Solar Cells with Improved Stability Against Light Exposure"
        },
        {
         "title": "Tracking Small Object by Image Processing on Smart Phone"
        },
        {
         "title": "Improvement in power quality using Fryze conductance algorithm controlled grid connected solar PV system"
        },
        {
         "title": "Evaluation of Specific Heat, Sound Velocity and Lattice Thermal Conductivity of Strained Nanocrystalline Bismuth Antimony Telluride Thin Films"
        },
        {
         "title": "FPGA-based stereo vision system using census transform for autonomous mobile robot"
        },
        {
         "title": "Design of Elder-Friendly Auditory Signals for Microwave Ovens"
        },
        {
         "title": "A compact circularly polarized high gain S‐band nanosatellite antenna using ramped convergence particle swarm optimization"
        },
        {
         "title": "Superconducting Properties in SmBa<sub>2</sub>Cu<sub>3</sub>O<sub>y</sub> Films With High Density of BaHfO<sub>3</sub> Nanorods Fabricated With a Seed Layer"
        },
        {
         "title": "FRIT based PI tuning for speed control of PMSM using FPGA for high frequency SiC MOSFET inverter"
        },
        {
         "title": "Thermally and optically stimulated radiative processes in Eu and Y co-doped LiCaAlF6 crystal"
        },
        {
         "title": "Scene Recognition Based on Gradient Feature for Autonomous Mobile Robot and its FPGA Implementation"
        },
        {
         "title": "Comparison Performance of Si-IGBT and SiC-MOSFET Used for High Efficiency Inverter of Contactless Power Transfer System"
        },
        {
         "title": "Activity and strategy for lean satellite in Kyushu Institute of Technology"
        },
        {
         "title": "CMOS circuits and nanodevices for spike based neural computing"
        },
        {
         "title": "Characterization of Contactless Power Transfer System and Investigation of Core Shape for AGV Application"
        },
        {
         "title": "An extending method of operable distance for infrared remote controlled power switch with zero stand-by power"
        },
        {
         "title": "A Simple Sheet Bending Recognition for Augmenting a Two-Dimensional Marker-Based Response Analyzer"
        },
        {
         "title": "Preparation and Structural Properties of Highly Twisted Polycyclic Aromatic Hydrocarbons with [4]Helicene Components"
        },
        {
         "title": "Wavelength-shifting fiber signal readout from Transparent RUbber SheeT (TRUST) type LiCaAlF6 neutron scintillator"
        },
        {
         "title": "Transmitter Optical Subassembly Using a Polarization Beam Combiner for 100 Gbits Ethernet over 40-km Transmission"
        },
        {
         "title": "Investigation of structural changes in chiral magnet Cr1∕3NbS2 under application of pressure"
        },
        {
         "title": "Insight into Perovskite Solar Cells Based on SnO\n                    2\n                    Compact Electron-Selective Layer"
        },
        {
         "title": "Volume phase transitions of cholesteric liquid crystalline gels"
        },
        {
         "title": "Transformation process of weld heat-affected zone in solution-strengthened ferritic ductile cast iron"
        },
        {
         "title": "Strengthening of spot-welded lap joints by new hardened zone"
        },
        {
         "title": "Advances in Parallel and Distributed Computing Models - APDCM"
        },
        {
         "title": "Heterogeneity in ecological mutualistic networks dominantly determines community stability"
        },
        {
         "title": "The Silicon on Diamond Structure by Low-temperature Bonding Technique"
        },
        {
         "title": "Traffic classification on mobile core network considering regularity of background traffic"
        },
        {
         "title": "Pyrosequencing analysis of microbial community and food-borne bacteria on restaurant cutting boards collected in Seri Kembangan, Malaysia, and their correlation with grades of food premises"
        },
        {
         "title": "Wettability of Cu-Ti Alloys on Graphite in Different Placement States of Copper and Titanium at 1373 K (1100 °C)"
        },
        {
         "title": "Study on magnetic properties and domain structures of Fe-(5, 6) wt% Si alloys prepared with high purity metallurgy"
        },
        {
         "title": "In vitro apatite formation and drug loading/release of porous TiO2 microspheres prepared by sol–gel processing with different SiO2 nanoparticle contents"
        },
        {
         "title": "Application of one axis controlled magnetic bearing with a hollow shaft to non-contact rotation drive"
        },
        {
         "title": "Synthesis and characterizations of nanoporous carbon derived from Lapsi (Choerospondias axillaris) seed: Effect of carbonization conditions"
        },
        {
         "title": "Next-Generation Technology for Ocean Resources Exploration (Zipangu-in-the-Ocean) Project in Japan"
        },
        {
         "title": "Electrochemical Sensing Performances for Uric Acid Detection on Various Amine Adlayers Used in Immobilizing Reduced Graphene Oxide"
        },
        {
         "title": "Improvement of measurement accuracy for Capacitive Voltage Probe without pre-calibration"
        },
        {
         "title": "A Morphogenetic and Evolutionary Approach to Regulating Wireless Access Points for Energy-Efficient and Reliable Connection Services"
        },
        {
         "title": "Novel method for evaluation of subtalar joint alignment under weight-bearing conditions using laser beam"
        },
        {
         "title": "Utilization of felled oil palm trunk: Trunk sections storage on oil palm sap production"
        },
        {
         "title": "Improvement of Radiated Emission Measurement Reproducibility with VHF-LISN Obtained from Final Results of International Inter-Laboratory Comparison on Termination Control of Power Line"
        },
        {
         "title": "Rotation matrix optimization with quaternion"
        },
        {
         "title": "Fabrication of morphology-controlled TiO2 photocatalyst nanoparticles and improvement of photocatalytic activities by modification of Fe compounds"
        },
        {
         "title": "High-Speed Biped Walking Using Swinging-Arms Based on Principle of Up-and-Down Wobbling Mass"
        },
        {
         "title": "Identification of High Power Consuming Areas with Gate Type and Logic Level Information"
        },
        {
         "title": "Global oscillation mode analysis using phasor measurement units-based real data"
        },
        {
         "title": "Chitosan nanofibers fabricated by combined ultrasonic atomization and freeze casting"
        },
        {
         "title": "60 GHz Wireless Signal Transmitting Gate Driver for IGBT"
        },
        {
         "title": "Effect of the cycling exercise combined with electrically stimulated antagonist muscles"
        },
        {
         "title": "Design and fabrication of magnetically driven cytology brush applicable to capsule endoscope"
        },
        {
         "title": "Transceiver Impairments in DF/AF Dual-Hop Cognitive Relay Networks: Outage Performance and Throughput Analysis"
        },
        {
         "title": "An ECC-Based Memory Architecture with Online Self-Repair Capabilities for Reliability Enhancement"
        },
        {
         "title": "Evolution and prospects of underwater robot competition in Japan"
        },
        {
         "title": "Optical flow based lip reading using non rectangular ROI and head motion reduction"
        },
        {
         "title": "High performances of magnetic levitation system by using persistent current in superconducting coil"
        },
        {
         "title": "Effects of diagonal dominance on performance of passive fault tolerant servo systems"
        },
        {
         "title": "Mutation-Based Receiver Search in a Network for Temporary Information Sharing"
        },
        {
         "title": "A Soft-Error Tolerant TCAM Using Partial Don't-Care Keys"
        },
        {
         "title": "Motion Estimation of Deformable Target over Infrared Camera Video in Coarse Resolution with Possible Frame-Out of Target by Particle Filter"
        },
        {
         "title": "Automatic tuning technique for low speed position sensorless method based on block commutation drive"
        },
        {
         "title": "A cloud visitation platform to facilitate cloud federation and fog computing"
        },
        {
         "title": "Design and Verification of Paraglider for Low-Reynolds-Number Environment"
        },
        {
         "title": "Development of a novel endoscopic manipulation system: the Endoscopic Operation Robot ver.3"
        },
        {
         "title": "Electric field induced effects in Y3N@[C80]6− anionic solid"
        },
        {
         "title": "Morphology Changing at Incipient Crystallization Condition"
        },
        {
         "title": "Biaxiality of cholesteric phases in rod-like polymer solutions"
        },
        {
         "title": "Development of a handheld blood flow measurement system using laser speckle flowgraphy"
        },
        {
         "title": "Compact Antenna for Small Satellite Applications [Antenna Applications Corner]"
        },
        {
         "title": "A flow-based detection method for stealthy dictionary attacks against Secure Shell"
        },
        {
         "title": "Analysis and Visualization of Traffic Conditions of Road Network by Route Bus Probe Data"
        },
        {
         "title": "High‐resolution acoustic mapping to understand the ore deposit in the Bayonnaise knoll caldera, Izu‐Ogasawara arc"
        },
        {
         "title": "Effects of space environmental exposure on photoemission yield of polyimide"
        },
        {
         "title": "Adaptive acceleration in growth and development of salamander hatchlings in cannibalistic situations"
        },
        {
         "title": "Erratum to: Structural and Thermoelectric Properties of Nanocrystalline Bismuth Telluride Thin Films Under Compressive and Tensile Strain"
        },
        {
         "title": "Fabrication of Magnetic Microactuators for Cytology Brush Built into Capsule Endoscope"
        },
        {
         "title": "Bioactive polymethylmethacrylate bone cement modified with combinations of phosphate group-containing monomers and calcium acetate"
        },
        {
         "title": "Freezing behavior of adherent neuron-like cells and morphological change and viability of post-thaw cells"
        },
        {
         "title": "Photoluminescence and radioluminescence properties of MnO-doped SnO–ZnO–P2O5 glasses"
        },
        {
         "title": "State Estimation and Compression Method for the Navigation of Multiple Autonomous Underwater Vehicles with Limited Communication Traffic"
        },
        {
         "title": "Spin transport in non-magnetic nano-structures induced by non-local spin injection"
        },
        {
         "title": "Ground-state energies and charge radii of 4He, 16O, 40Ca, and 56Ni in the unitary-model-operator approach"
        },
        {
         "title": "Improvement of dispersion of pure indium particles by forming indium-complex covering"
        },
        {
         "title": "Heterogeneity of cells may explain allometric scaling of metabolic rate"
        },
        {
         "title": "Microstructure and Wear Behavior of Cermet/Iron Alloy Cladding Layers on A6061 Alloy Coated by Resistance Seam Welding Method"
        },
        {
         "title": "Thrombin‐induced Sensitivity Enhancement in Impedemetric Detection of Hg2+ Ion"
        },
        {
         "title": "An efficient synthesis of SK-658 and its analogs as potent histone deacetylase inhibitors"
        },
        {
         "title": "Discovery of InhA inhibitors with anti-mycobacterial activity through a matched molecular pair approach"
        },
        {
         "title": "Chapter 5: Materials Processing Engineering, Surface and Coating"
        },
        {
         "title": "Implementation and Performance Evaluation of Distributed Autonomous Multi-Hop Vehicle-to-Vehicle Communications over TV White Space"
        },
        {
         "title": "Rücktitelbild: Polymeric Micelle Assembly with Inorganic Nanosheets for Construction of Mesoporous Architectures with Crystallized Walls (Angew. Chem. 14/2015)"
        },
        {
         "title": "Polymeric Micelle Assembly with Inorganic Nanosheets for Construction of Mesoporous Architectures with Crystallized Walls"
        },
        {
         "title": "Polymeric Micelle Assembly with Inorganic Nanosheets for Construction of Mesoporous Architectures with Crystallized Walls"
        },
        {
         "title": "Back Cover: Polymeric Micelle Assembly with Inorganic Nanosheets for Construction of Mesoporous Architectures with Crystallized Walls (Angew. Chem. Int. Ed. 14/2015)"
        },
        {
         "title": "Interface structure between titania and perovskite materials observed by quartz crystal microbalance system"
        },
        {
         "title": "Surface acoustic wave diagnosis of vacancy orbital with electric quadrupoles in silicon"
        },
        {
         "title": "X-ray absorption spectroscopy and novel electronic properties in heavy fermion compounds YbT2Zn20 (T: Rh and Ir)"
        },
        {
         "title": "Cooperative binding of ferrocenylnaphthalene diimide carrying β-cyclodextrin converts double-stranded DNA to a rod-like structure."
        },
        {
         "title": "Investigation of ferromagnetic filled skutterudite compound EuFe4As12"
        },
        {
         "title": "Wide quantum critical region of valence fluctuations: Origin of robust quantum criticality in quasicrystal Yb15Al34Au51 under pressure"
        },
        {
         "title": "Pinning Loss Power Density in Superconductors"
        },
        {
         "title": "Egg-in-Cube: Design and Fabrication of a Novel Artificial Eggshell with Functionalized Surface"
        },
        {
         "title": "Low-Temperature and Solution-Processed Amorphous WO(x) as Electron-Selective Layer for Perovskite Solar Cells."
        },
        {
         "title": "Low-Temperature Processed and Carbon-Based ZnO/CH\n                    3\n                    NH\n                    3\n                    PbI\n                    3\n                    /C Planar Heterojunction Perovskite Solar Cells"
        },
        {
         "title": "Groupwise surface correspondence using particle filtering"
        },
        {
         "title": "Can Forest Management Units Improve the Management of State Forests in Indonesia's Outer Islands? Institutional Analysis and Case Studies from Lampung Province of Sumatra"
        },
        {
         "title": "High energy-transfer rate from Sn<sup>2+</sup> to Mn<sup>2+</sup> in phosphate glasses"
        },
        {
         "title": "Low Complexity Higher Order QAM Modulation for IDMA System"
        },
        {
         "title": "Optical and scintillation properties of Nd differently doped YLiF4 from VUV to NIR wavelengths"
        },
        {
         "title": "Sustainable and integrated palm oil biorefinery concept with value-addition of biomass and zero emission system"
        },
        {
         "title": "Luminescence and scintillation properties of Ce-doped Cs2ZnCl4 crystals"
        },
        {
         "title": "Photoluminescence, photo-stimulated luminescence and thermoluminescence properties of CaB2O4 crystals activated with Ce3+"
        },
        {
         "title": "Experiment on a dual-arm underwater robot using resolved acceleration control method"
        },
        {
         "title": "CO2 sequestration by methanogens in activated sludge for methane production"
        },
        {
         "title": "Synthesis and X-ray crystallography of bipyrroles: impacts of a CO–π interaction on their structure"
        },
        {
         "title": "A Non-Probabilistic Metric Derived from Condition Information for Operational Reliability Assessment of Aero-Engines"
        },
        {
         "title": "Closed-Loop Identification and Instability of Web Transport System"
        },
        {
         "title": "Morphology control and photocatalytic characterization of yttrium-doped hedgehog-like CeO2"
        },
        {
         "title": "Beneficial knockouts in Escherichia coli for producing hydrogen from glycerol"
        },
        {
         "title": "How variable bitrate video formats can help P2P streaming boost its reliability and scale"
        },
        {
         "title": "UV cathodoluminescence of Gd3+ doped and Gd3+Pr3+ co‐doped YAlO3 epitaxial thin films"
        },
        {
         "title": "Molecular orbital calculations of Eu-doped SrAl2O4 clusters"
        },
        {
         "title": "A channel adaptive hybrid aggregation scheme for next generation wireless LAN"
        },
        {
         "title": "Temporal analysis for fast motion detection in a crowd"
        },
        {
         "title": "Art Expertise Reduces Influence of Visual Salience on Fixation in Viewing Abstract-Paintings"
        },
        {
         "title": "High pinning performance of YBa2Cu3O7−x films added with Y2O3 nanoparticulate defects"
        },
        {
         "title": "Cognitive Radio-Aware Transport Protocol for Mobile Ad Hoc Networks"
        },
        {
         "title": "Ultrafast lateral 600V silicon SOI PiN diode with geometric traps for preventing waveform oscillation"
        },
        {
         "title": "Mussel‐mimetic, bioadhesive polymers from plant‐derived materials"
        },
        {
         "title": "Deformation behavior in boss forming with small punch/die diameter ratio"
        },
        {
         "title": "Foundation of mathematical deterioration models for the thermal stress"
        },
        {
         "title": "Monitoring the enzyme expression in a respiratory chain of Corynebacterium glutamicum in a copper ion-supplemented culture medium"
        },
        {
         "title": "Pressure-Induced Valence Crossover and Novel Metamagnetic Behavior near the Antiferromagnetic Quantum Phase Transition of YbNi3Ga9"
        },
        {
         "title": "Flux Pinning Properties of a SmBa2Cu3Oy Film Including High Number Density of BaHfO3 Nano-rods on LaAlO3 Substrate"
        },
        {
         "title": "Long duration real-time acoustic monitoring of Irrawaddy dolphins (Orcaella brevirostris) in Mahakam river in Borneo"
        },
        {
         "title": "Self-sustained carbonization of oil palm biomass produced an acceptable heating value charcoal with low gaseous emission"
        },
        {
         "title": "Effect of SUS316L stainless steel surface conditions on the wetting of molten multi-component oxides ceramic"
        },
        {
         "title": "Optimum and semi-optimum life test plans of electrical insulation for thermal stress"
        },
        {
         "title": "A PWM-Mode Pixel-Parallel Image-Processing Circuit Performing Directional State-Propagation and Its Application to Subjective Contour Generation"
        },
        {
         "title": "Health Checkup and Telemedical Intervention Program for Preventive Medicine in Developing Countries: Verification Study"
        },
        {
         "title": "Size Dependence of Crystal Structure and Magnetic Properties of NiO Nanoparticles in Mesoporous Silica"
        },
        {
         "title": "Effects of hydrogen loading conditions on fabrication of long-period fiber-grating sensors by low-pressure mercury lamp"
        },
        {
         "title": "Effects of Injector Geometry on Co-Flowing Planar Jet Mixings under Supercritical Pressures"
        },
        {
         "title": "Only 3-generalized metric spaces have a compatible symmetric topology"
        },
        {
         "title": "Computational fluid dynamics analysis of shielding gas behaviour in tungsten inert gas welding of titanium plate"
        },
        {
         "title": "The Development of Polyethylene Naphthalate Films by Low-pressure High-frequency Plasma Chemical Vapor Deposition System with Advance Oxidations Process"
        },
        {
         "title": "Current-carrying capacity of single layer cable using superconducting Bi-2223 tapes in a parallel magnetic field"
        },
        {
         "title": "Behaviour characteristics of the\n                    Zacco platypus\n                    which has different body length from the\n                    Plecoglossus altivelis altivelis"
        },
        {
         "title": "Can Electric Devices be Identified from Their Signatures of Waveform? Feasibility Study of Life Event Sensor in Physical Layer on Long-Term Field Data"
        },
        {
         "title": "Automatic droplet transportation on a plastic microfluidic device having wettability gradient surface"
        },
        {
         "title": "Comparison of metal oxide removal using hydrogen radicals generated by hot-wire and plasma-enhanced methods"
        },
        {
         "title": "ChemInform Abstract: Formation of 4‐Hydroxyproline Derivatives via Intramolecular Cyclization of Amino Acids with Side Chain Epoxides"
        },
        {
         "title": "Case study for a palm biomass biorefinery utilizing renewable non-food sugars from oil palm frond for the production of poly(3-hydroxybutyrate) bioplastic"
        },
        {
         "title": "Quorum sensing enhancement of the stress response promotes resistance to quorum quenching and prevents social cheating"
        },
        {
         "title": "Experiment of the lorentz force law using twin toy motors"
        },
        {
         "title": "Surface nitrocarburizing of Ti-6Al-4V alloy by YAG laser irradiation"
        },
        {
         "title": "PoGOLino: A scintillator-based balloon-borne neutron detector"
        },
        {
         "title": "Morphology control and characterization of broom-like porous CeO2"
        },
        {
         "title": "Feasibility study for life event sensor on big field data"
        },
        {
         "title": "Preparation and in vitro cytocompatibility of chitosan–siloxane hybrid hydrogels"
        },
        {
         "title": "Penetration treatment of plasma spray SUS316L stainless steel coatings by molten MnO–SiO2 oxides"
        },
        {
         "title": "Fresh oil palm frond juice as a renewable, non-food, non-cellulosic and complete medium for direct bioethanol production"
        },
        {
         "title": "Scintillation properties of CdF2 crystal"
        },
        {
         "title": "Development of a Miniaturized Laser Doppler Velocimeter for Use as a Slip Sensor for Robot Hand Control"
        },
        {
         "title": "Transportation of hydrogen radicals for cleaning extreme ultraviolet lithography optics"
        },
        {
         "title": "Strain rate concentration and dynamic stress concentration for double‐edge‐notched specimens subjected to high‐speed tensile loads"
        },
        {
         "title": "Dependence of photocatalytic activity on aspect ratio of a brookite TiO2 nanorod and drastic improvement in visible light responsibility of a brookite TiO2 nanorod by site-selective modification of Fe3+ on exposed faces"
        },
        {
         "title": "OS3-6 Improvement of a Standing-up Motion Guidance System using an Inertial Sensor(OS3: Rehabilitation Devices II)"
        },
        {
         "title": "Hardware Implementation of Fuzzy Logic in Early Days of “Fuzzy” Era"
        },
        {
         "title": "2A1-N05 Development of tomato harvesting robot through the tomato harvest robot competition"
        },
        {
         "title": "2108 Study on dynamic observation method for fine particles during Chemical Mechanical Polishing using optical transparency micro-patterned pad"
        },
        {
         "title": "2A1-C07 Sea basic experiment of underwater robot to inject acetic acid into crown-of-thorns starfish"
        },
        {
         "title": "Convenient Debonding Strength Evaluation for Spray Coating Based on Intensity of Singular Stress"
        },
        {
         "title": "Probabilistic Prediction of Chaotic Time Series Using Similarity of Attractors and LOOCV Predictable Horizons for Obtaining Plausible Predictions"
        },
        {
         "title": "290 Multiscale Coupled Simulation of Resistance Spot Welding based on Microscopic Electrical Contact Resistance Analysis"
        },
        {
         "title": "C210 Real-time observation of cells exposed to cyclic stretch based on membrane deformation properties of stretch chamber"
        },
        {
         "title": "D233 Use of woody biomass in the greenhouse heating"
        },
        {
         "title": "719 超電導コイルを用いた高ギャップ磁気支持装置の研究(2)"
        },
        {
         "title": "B101 Adaptive Trajectory Tracking Control of Wheeled Mobile Robot without Using Measurements of Longitudinal Velocity"
        },
        {
         "title": "OS0501-122 Intensity of Singular Stress Butt Joints for Small Adhesive Thickness"
        },
        {
         "title": "Development of Equipment to Estimate Momentum Shift in NEO Orbit Change by a Spacecraft Impact"
        },
        {
         "title": "Development of DDS Capsules Including Gas Bubbles by Shock Waves and Their Applications"
        },
        {
         "title": "Ceramic-Polymer Composites for Biomedical Applications"
        },
        {
         "title": "2A1-T08 Develon of robust color enhancement for deep-seafloor environment"
        },
        {
         "title": "710 UAVを用いた遺伝的アルゴリズムによる最適軌道の飛行実験"
        },
        {
         "title": "Simultaneous Estimation of Spectral Reflectance and Normal from a Small Number of Images"
        },
        {
         "title": "1P1-E03 The trajectory control of the lower limbs movement assistant robot aimed to prevent Deep-Vein Thromboprophylaxis : Performance assessment by measure leg vein"
        },
        {
         "title": "294 Dependence analysis of electrical contact resistance on contact pressure, temperature and surface asperity by microscale simulation"
        },
        {
         "title": "Magnetic Properties and Crystal Structure of DyMn2O5 Nanoparticles Embedded in Mesoporous Silica"
        },
        {
         "title": "OS3-3 DEVELOPMENT OF NEW TELE-REHABILITATION SYSTEM USING VIRTUAL REALITY TECHNOLOGY FOR THE ELDERLY AND THE DISABLED PERSON(OS3: Rehabilitation Devices I)"
        },
        {
         "title": "Electrocatalytic properties of iron chalcogenides as low-cost counter electrode materials for dye-sensitized solar cells"
        },
        {
         "title": "Online Self-Indexed Grammar Compression"
        },
        {
         "title": "Development of Cuprate Superconductor Films and Wires for Game-changing Technology"
        },
        {
         "title": "Special Issue on Workshop on Advances in Parallel and Distributed Computational Models 2014"
        },
        {
         "title": "806 自律駆動型パーソナルロボットの開発"
        },
        {
         "title": "Zero-copy Migration for Lightweight Software Rejuvenation of Virtualized Systems"
        },
        {
         "title": "Convenient Debonding Strength Evaluation for Spray Coating Based on Intensity of Singular Stress"
        },
        {
         "title": "DDPWM-Based Power Conversion System Using a Matrix Converter for an Isolated Power Supply"
        },
        {
         "title": "2A2-E04 Development of AUV \"DaryaBird\" for coastal survey : Peripheral modules for small underwater robot and system integration"
        },
        {
         "title": "810 飛行実験を通したGPS/IMU/ADS複合航法による擬似空力姿勢計算と自己位置推定"
        },
        {
         "title": "1E34 Development of Flexible Endoscope Operation Robot"
        },
        {
         "title": "J0540307 Molecular Dynamics Analysis of static and dynamic fluctuation structure of diatomic fluids around the critical point"
        },
        {
         "title": "Bioactive Co-Cr alloy for biomedical applications prepared by surface modification using self-assembled monolayers and poly-γ-glutamic acid"
        },
        {
         "title": "Recent Developments of Experimental Winged Rocket: Autonomous Guidance and Control Demonstration Using Parafoil"
        },
        {
         "title": "Alignment of Cyclically Ordered Trees"
        },
        {
         "title": "New switching L2 gain analysis for a restart with controller resets after maintenance"
        },
        {
         "title": "113 レジンにより接着修復した上顎中切歯の静的及び動的荷重下での破断可能性に関する有限要素解析"
        },
        {
         "title": "Effect of adhesive thickness on stress intensity factor for edge interface crack in adhesively- bonded joint"
        },
        {
         "title": "2A2-D02 Investigation of Marine Benthic Resources using Autonomous Underwater Vehicle in the sea of Okhotsk : 1st report: A proposal of Image Observation and Fish Identification Method"
        },
        {
         "title": "1E42 Stress analysis on the strength of a restored premolar with a separation of resin"
        },
        {
         "title": "117 Image-based Strain Analysis of Luminal Surface in Calcified Human Aortic Plaque"
        },
        {
         "title": "708 中空軸構造を持つ一軸浮上制御磁気軸受の回転評価"
        },
        {
         "title": "258 Fluid-structure interaction analysis for the passive pitching motion of insect flapping wings"
        },
        {
         "title": "Organic-Inorganic Composites Toward Biomaterial Application"
        },
        {
         "title": "Relationship between diffusion of Co 3+ /Co 2+ redox species in nanopores of porous titania stained with dye molecules, dye molecular structures, and photovoltaic performances"
        },
        {
         "title": "D121 Mechanism of Self-Ignition Induced by High-Pressure Hydrogen Jet in a Tube"
        },
        {
         "title": "A Method to Evaluate Intuitive Sense by Using a Robotic Tool: Towards Engineering for Assistive Technology and Accessibility"
        },
        {
         "title": "The Effectiveness of Time Sequence Information on a Sightseeing Spot Recommender"
        },
        {
         "title": "Antisolvent diffusion-induced growth, equilibrium behaviours in aqueous solution and optical properties of CH 3 NH 3 PbI 3 single crystals for photovoltaic applications"
        },
        {
         "title": "Quantification Method of Vascular Conditions by Capillaroscopy"
        },
        {
         "title": "B213 Proposal of Bond-graph Method for Modelling of a Pneumatic System"
        },
        {
         "title": "2A1-D02 Miniaturization of Maritime Mobile for Position Measurement of Underwater Objects"
        },
        {
         "title": "235 2.5 dimensional elasto-plastic contact, electric and heat triply coupled analysis method for ring projection welding"
        },
        {
         "title": "International workshop on human activity sensing corpus and its application (HASCA2015)"
        },
        {
         "title": "A New Approach to Identify User Authentication Methods toward SSH Dictionary Attack Detection"
        },
        {
         "title": "OS9-12 Effects of Target Temperature on Size Distribution of Ejecta in Hypervelocity Impact : For revision of ISO 11227(Shock and Hypervelocity Impact,OS9 Recent advances in impact engineering,STRENGTH OF MATERIALS)"
        },
        {
         "title": "Evaluation of Trapped Magnetic Field Properties in Superconducting MgB2 Bulk Magnets by Finite Element Method"
        },
        {
         "title": "1B46 Surface modification of catheter tactile sensor composed of organic ferroelectrics"
        },
        {
         "title": "Development of LED Road Traffic Signal Using “Phantom Board”"
        },
        {
         "title": "Synthesis high specific surface area nanotube g-C 3 N 4 with two-step condensation treatment of melamine to enhance photocatalysis properties"
        },
        {
         "title": "Effect of Nitrite Inhibitor on the Macrocell Corrosion Behavior of Reinforcing Steel"
        },
        {
         "title": "2A1-C08 A Method of Dynamic Attitude Measurement for UVMS using Inclinometer"
        },
        {
         "title": "QUASI TWO-DIMENSIONAL NUMERICAL MODEL FOR FREE-SURFACE-PRESSURIZED FLOWS"
        },
        {
         "title": "1812 Behavior Analysis of Delta 3D Printer Using a Multi-domain Physics Simulator"
        },
        {
         "title": "EVALUATION OF RESIDENTS AWARENESS REGARDING POTENTIAL RISK OF TSUNAMI DUE TO NANKAI TROUGH EARTHQUAKE BY HEDONIC APPROACH IN SAIKI, OITA"
        },
        {
         "title": "2A2-E02 Development of underwater wireless power supply system using resonant energy transfer : Performance evaluation of the resonant energy transfer in the underwater environment"
        },
        {
         "title": "2C34 Localized Chemical Stimulation of a Cellular Tissue through Microholes and Multichannel Potential Measurement Using a Microelectrode Array"
        },
        {
         "title": "720 音響/構造連成解析を用いた穴あき立方体力バーの遮音特性"
        },
        {
         "title": "The Study of Operation Modes and Control Strategies of a Multidirectional MC for Battery Based System"
        },
        {
         "title": "2A2-G10 Development of a Flapping Wing Robot with Oscillating Controlled RC Servomotors"
        },
        {
         "title": "Morphogenetic and Evolutionary Approach to Similar Image Creation"
        },
        {
         "title": "Mobile activity recognition for a whole day: recognizing real nursing activities with big dataset"
        },
        {
         "title": "C203 Study on catheter and guidewire simulator for intravascular surgery : Effect of guidewire shape on inserted catheter shape"
        },
        {
         "title": "AN IMPROVEMENT OF MIGRATION RATE WITH EVASION COLOR OF PLECOGLOSSUS ALTIVELIS ALTIVELIS IN POOL-AND-WEIR FISHWAY"
        },
        {
         "title": "Longitudinal Motion Instability of a Cruising AUV flying over a Steep Terrain"
        },
        {
         "title": "Atomically thin MoSe 2 /graphene and WSe 2 /graphene nanosheets for the highly efficient oxygen reduction reaction"
        },
        {
         "title": "Simulation of Coming out of the Shaft from the Ceramics Sleeve During Rotation of the Rollers Connected under Small Shrink Fitting Ratio"
        },
        {
         "title": "1B44 Study on catheter and guidewire simulator for intravascular surgery : Influence of guidewire shape"
        },
        {
         "title": "714 超電導コイルの遮蔽電流と永久電流を用いたモビリティの研究(4)"
        },
        {
         "title": "805 顕微操作における微小力覚・視覚システムの開発"
        },
        {
         "title": "Signatura Rerum Theory"
        },
        {
         "title": "Performance of a Bayesian-Network-Model-Based BCI Using Single-Trial EEGs"
        },
        {
         "title": "2A1-N04 Path planning algorithm in dynamic environment considering centrifugal force"
        },
        {
         "title": "Cloud-Based Image Recognition for Robots"
        },
        {
         "title": "Development of Micro-Particles Accelerator with Pulse Formation"
        },
        {
         "title": "1312 Dynamic behavior of vortices rolled up from a butterfly wing and its unsteady fluid force"
        },
        {
         "title": "D223 Water Behavior of PEFC with a Humidity Control Porous Rib"
        },
        {
         "title": "108 指先微小血管画像における血管状態評価"
        },
        {
         "title": "Underwater Image Devignetting and Colour Correction"
        },
        {
         "title": "Unprecedented formation of η 4 -(vinylketene)iron complexes from η 4 -(diene)iron complexes and aromatic compounds in the presence of a Lewis acid"
        },
        {
         "title": "S0220201 Estimation of thrombus formation by high shear rate on various flows using both thrombus visualization and CFD Analysis"
        },
        {
         "title": "Preparation of Porous Chitosan-Siloxane Hybrids Coated with Hydroxyapatite Particles"
        },
        {
         "title": "Power Mapping Characteristic of Double Stator Permanent Magnet Generator for Electrical Harvesting Machine"
        },
        {
         "title": "Pressure Sensor: State of the Art, Design, and Application for Robotic Hand"
        },
        {
         "title": "A method for automatic assessment of user-generated tests and its evaluation"
        },
        {
         "title": "A Multidimensional Configurable Processor Array — Vocalise"
        },
        {
         "title": "PS7-20 Portable tactile sensor system for evaluating uneven surfaces(PS7: Poster Short Presentation VII,Poster Session)"
        },
        {
         "title": "Evaluation of stress intensity factor for small edge interface crack under thermal stress"
        },
        {
         "title": "Improving Maintainability and Reducing Noise of Ball Wheel Drive for Tourism Facilities"
        },
        {
         "title": "Detecting Erase Strokes from Online Handwritten Notes Using Support Vector Classification"
        },
        {
         "title": "Syphilis - Renaissance Philosophy"
        },
        {
         "title": "Preservation and interconnection of iISS and ISS dissipation inequalities by scaling∗∗The work was supported in part by JSPS KAKENHI Grant Number 26420422. The work of Kellett was supported by the Australian Research Council under FT1101000746."
        },
        {
         "title": "2A1-L07 Study of the Deformable Ultra Redundant Robot System"
        },
        {
         "title": "2A1-D10 Basic Experiment of a Buoyancy Control Device Utilizing for underwater robot Volume Change by Pneumatic Pressure"
        },
        {
         "title": "174 An Upstream Design Focusing on Accelerometer Change in the Theo Jansen Linkage to Avoid Singular Configurations"
        },
        {
         "title": "2A1-N10 Ball passing behavior for middle sized RoboCup soccer Robots : High speeding technique of path point selection algorithm"
        },
        {
         "title": "Does Inverse Lighting Work Well under Unknown Response Function?"
        },
        {
         "title": "Analyzing daily-life activities and power consumptions using tablet sensors and activity annotation web system"
        },
        {
         "title": "Metabolic Regulation and Coordination of the Metabolism in Bacteria in Response to a Variety of Growth Conditions"
        },
        {
         "title": "A new device for foot sensory examination employing auto-presentation of shear force stimuli against the skin"
        },
        {
         "title": "Numerical estimation of the thrust performance on a rotating detonation engine for a hydrogen–oxygen mixture"
        },
        {
         "title": "424 後流積分法によるNACA0012翼揚抗特性のレイノルズ数依存性"
        },
        {
         "title": "Magnetic properties of Hagi ware"
        },
        {
         "title": "High reduction of interfacial charge recombination in colloidal quantum dot solar cells by metal oxide surface passivation"
        },
        {
         "title": "An Electrooculography Analysis in the Time-Frequency Domain Using Morphological Component Analysis Toward the Development of Mobile BCI Systems"
        },
        {
         "title": "Effect of Heating Order on Twisted Curved Surface Forming by Orthogonal Laser Line Heating on Top and Bottom Surfaces Alternately"
        },
        {
         "title": "PS1-3 Prediction of Thrombus Formation on the Wall by High Shear Rate on Various Blood Flows(PS1: Poster Short Presentation I,Poster Session)"
        },
        {
         "title": "10106 Study on evaluation method for surface topography of CMP polishing pad based on optical Fourier transform"
        },
        {
         "title": "2A2-E01 Control System Design of Ship Hull Cleaning Robot Report on cleaning experiment"
        },
        {
         "title": "2P1-C06 Vision-Based Behavior Strategy for Tomato Harvesting Robot : 3D Reconstruction from Multi-images of Tomato bunch and Fruits' Pose Estimation"
        },
        {
         "title": "Real-Time Underwater Image Contrast Enhancement Through Guided Filtering"
        },
        {
         "title": "2A1-E06 Position measurement experiment of an underwater robot using a monocular camera in coastal sea area of Sesoko Island"
        },
        {
         "title": "Hysteresis and Domain Behaviors Analysis of High Purity Fe-(5, 6) wt% Si Alloys"
        },
        {
         "title": "2A1-L10 Embodiment Control of Redundant Manipulator in Narrow and Complicated Space"
        },
        {
         "title": "Organic Solar Cells"
        },
        {
         "title": "Synergistic photocatalytic hydrogen evolution over oxide nanosheets combined with photochemically inert additives"
        },
        {
         "title": "The Association between the Score and the Vocabulary in the Waka Essay by High School Student with Waka Learning System"
        },
        {
         "title": "Study on the Control of Forming Microvaristor Chains in Epoxy Resin"
        },
        {
         "title": "Innovative Approach for Reduction and Effective Utilization of Rare Metal Elements in Energy-related Materials"
        },
        {
         "title": "On-Site Likelihood Identification of Tweets Using a Two-Stage Method"
        },
        {
         "title": "Brief Report of Side-Scan Sonar Observations Around the Yokoniwa NTO Massif"
        },
        {
         "title": "Mapping Kernels Between Rooted Labeled Trees Beyond Ordered Trees"
        },
        {
         "title": "Counter electrode materials combined with redox couples in dye- and quantum dot-sensitized solar cells"
        },
        {
         "title": "Host OS page cache hit ratio improvement based on guest OS page drop"
        },
        {
         "title": "423 低レイノルズ数用高揚抗比翼型の変圧風洞による性能評価"
        },
        {
         "title": "Classifying Nucleotide Sequences and their Positions of Influenza A Viruses through Several Kernels"
        },
        {
         "title": "2A2-D06 Research on docking control of autonomous underwater vehicle"
        },
        {
         "title": "On Parallelization of the NIS-apriori Algorithm for Data Mining"
        },
        {
         "title": "A Web-based Application for Writing Novels"
        },
        {
         "title": "Numerical Simulation and Experiments on the Ground Effect of Transonic Projectiles"
        },
        {
         "title": "B115 Boiling Heat Transfer on Micro/Nano Hybrid Surfaces Fabricated by Thermal Spray and Chemical Oxidation"
        },
        {
         "title": "B213 Particle Simulation for Evaluation and Prediction on Growth Inhibition of Cancer Spheroids"
        },
        {
         "title": "Experiment for nursing activity analysis using mobile sensors and proximity sensors"
        },
        {
         "title": "Magnetic Resonance in the Chiral Helimagnet CrNb3S6"
        },
        {
         "title": "Enhancement of Cross-Tension Strength of Resistance Spot-Welded Lap Joints by Laser Heating"
        },
        {
         "title": "Acquiring 4D Light Fields of Self-Luminous Light Sources Using Programmable Filter"
        },
        {
         "title": "504 耐故障性を有するフラッシュ型エアデータシステムの亜音速,遷音速および超音速風洞試験"
        },
        {
         "title": "707 超電導磁気軸受を用いた1 軸受支持型フライホイール電力貯蔵装置の開発"
        },
        {
         "title": "A Basic Study for Realizing Life Event Sensor for Home Energy Management System"
        },
        {
         "title": "219 2次元平板曲げと3次元円筒曲げにおけるシャフトの抜けのメカニズムの解明"
        },
        {
         "title": "GPU-accelerated small delay fault simulation"
        },
        {
         "title": "1P1-L03 A High-speed Microscope for Simultaneous Capturing of Well-focused Images of Moving Objects"
        },
        {
         "title": "2A1-C09 Development of a semi-autonomous underwater robot equipped with 3-link dual-arm"
        },
        {
         "title": "Effects of Oxygen Vacancies and Reaction Conditions on Oxygen Reduction Reaction on Pyrochlore-Type Lead-Ruthenium Oxide"
        },
        {
         "title": "Real time imaging of the growth of silver ribbons by evanescent wave microscopy"
        },
        {
         "title": "420 低レイノルズ数領域における高揚抗比翼型の空力特性と流れの可視化"
        },
        {
         "title": "B212 Experimental study on Microbubble Emission Boiling using a platinum wire"
        },
        {
         "title": "Partial Discharge Inception Voltage and Location of Partial Discharge Source in Ribbon Type Enameled Wire"
        },
        {
         "title": "901 高齢者・障害者の自立歩行を支援する手摺収納式引き戸装置の開発"
        },
        {
         "title": "2A1-N09 Development of the self-localization system for RoboCup soccer robot using MATLAB/Simulink"
        },
        {
         "title": "2A1-C03 Development of tactile sensor using piezoelectric polymer for surface profilometry"
        },
        {
         "title": "Predictive Approaches for Low-Cost Preventive Medicine Program in Developing Countries"
        },
        {
         "title": "Identify a Specified Fish Species by the Co-occurrence Matrix and AdaBoost"
        },
        {
         "title": "Bioinorganic Hybrid Materials"
        },
        {
         "title": "811 小型無人航空機を用いたランダム探索と力学フィルタ統合飛行プランナの飛行実験"
        },
        {
         "title": "10102 Powder plasma assisted micro-nano fabrication using nano particles"
        },
        {
         "title": "816 不燃性加工液のかけ流しによるくり抜き放電加工の基礎研究"
        },
        {
         "title": "Effect of Heat Input and Initial Curvature Radius on Deformation of Thin Plate Heated on Concave or Convex Surface by Laser Beam"
        },
        {
         "title": "Joining of Serrated Shaft with Holed Disk by Indentation"
        },
        {
         "title": "Optimum Life Test Plans of Electrical Insulation for Thermal Stress Under the Arrhenius Law"
        },
        {
         "title": "215 半無限板中の接着層端部における特異応力場の強さについて"
        },
        {
         "title": "2C31 LSPR measurement in a microchannel for automatic blood plasma extraction"
        },
        {
         "title": "2G34 Loading test of pressure redistribution mattress and evaluation of its effect"
        },
        {
         "title": "OS1-5 Fluid-structure interaction analysis for the aerodynamic contribution to the passive pitching motion of dipteran flapping wings(OS1: Bio-inspired Flight System Biomechanics I)"
        },
        {
         "title": "Kinect-based posturography for in-home rehabilitation of balance disorders"
        },
        {
         "title": "Probabilistic Prediction in Multiclass Classification Derived for Flexible Text-Prompted Speaker Verification"
        },
        {
         "title": "Dependence of BaMO3 (M=Zr, Sn, Hf) Materials on Lattice Stress and Tc in BaMO3-Doped SmBa2Cu3Oy Thin Films"
        },
        {
         "title": "2A1-N07 Development of ball handling mechanism for RoboCup soccer robot : First report:Motion analysis and control of the ball operation for dribbling action"
        },
        {
         "title": "109 肝臓再生と血管新生の数値シミュレーション"
        },
        {
         "title": "824 超伝導体を用いた磁気援用加工技術に関する研究"
        },
        {
         "title": "2A1-R02 Similar images discrimination using the histogram of a binary feature"
        },
        {
         "title": "A Novel Load Regulation Technique for Power-SoC with Parallel-Connected POLs"
        },
        {
         "title": "A111 Visualization of thrombus formation process on the wall in different shear blood flows"
        },
        {
         "title": "823 CMP材料除去モデルに関する研究"
        },
        {
         "title": "2D46 Influence of heat and ice therapy on hip joint contracture"
        },
        {
         "title": "30pm1-E-5 Performance evaluation of insect mimetic wings using MEMS fabrication Process"
        },
        {
         "title": "Electronic structures of two types of TiO 2 electrodes: inverse opal and nanoparticulate cases"
        },
        {
         "title": "2A1-N06 Robot Contest Produce Competition 2014"
        },
        {
         "title": "High Dimensional Similarity Search with Bundled Query Processing on Hilbert R-Tree"
        },
        {
         "title": "718 能動4軸制御磁気軸受を用いた極低温ポンプの研究"
        },
        {
         "title": "1B45 Study on catheter and guidewire simulator for intravascular surgery : Coil embolization of aneurysm"
        },
        {
         "title": "Caristi’s Fixed Point Theorem and Subrahmanyam’s Fixed Point Theorem in ν-Generalized Metric Spaces"
        },
        {
         "title": "B107 Adaptive Trajectory Tracking Control of Multirotor Helicopter with Unknown Thrust and Drag Coefficients"
        },
        {
         "title": "A Battery Charging System for Intermittent Generation from a Synchronous Generator with a Novel Maximum Power Point Tracking Control"
        },
        {
         "title": "Magnetically Driven Underwater Micro-robots"
        },
        {
         "title": "An Accurate Wireless Data Transmission and Low Power Consumption of Foot Plantar Pressure Measurements"
        },
        {
         "title": "Revision Plan of ISO11227 Considering Oblique Impact Tests"
        },
        {
         "title": "Surface engineering of macrophages with nucleic acid aptamers for the capture of circulating tumor cells"
        },
        {
         "title": "Transmission Channel Switching Based on Channel Utilization in ROD-SAN"
        },
        {
         "title": "Optical absorption, charge separation and recombination dynamics in Sn/Pb cocktail perovskite solar cells and their relationships to photovoltaic performances"
        },
        {
         "title": "α-Chymotrypsin and l -acylase aided synthesis of 5-hydroxypipecolic acid via Jacobsen's hydrolytic kinetic resolution of epoxy amino acids"
        },
        {
         "title": "114 円孔のある軟組織の圧縮変形挙動に対する実験および有限要素解析による検討"
        },
        {
         "title": "Transition metal selenides as efficient counter-electrode materials for dye-sensitized solar cells"
        },
        {
         "title": "1P2-P08 Aerial 2-Liquids Mixing Valve Mechanism"
        },
        {
         "title": "Selection Method of Multicolor Luminous Landmarks and Route Modification of the Mobile Robot"
        },
        {
         "title": "Phytochrome controls alternative splicing to mediate light responses in Arabidopsis"
        },
        {
         "title": "Complete Photodynamics of the Efficient YD2-o-C8-Based Solar Cell"
        },
        {
         "title": "Use of Inter‐Fibril Spaces Among Electrospun Fibrils as Ion‐Fixation and Nano‐Crystallization"
        },
        {
         "title": "Mode Selection Rules for Two-Delay Systems: Dynamical Explanation for the Function of the Register Hole on the Clarinet"
        },
        {
         "title": "High Pressure Properties for Electrical Resistivity and Ce Valence State of Heavy-Fermion Antiferromagnet Ce2NiGa12"
        },
        {
         "title": "Pressure dependence of Tc in LnFeAsO1-y (Ln = La, Ce, Nd, Tb)"
        },
        {
         "title": "ChemInform Abstract: A Reagent for Safe and Efficient Diazo‐Transfer to Primary Amines: 2‐Azido‐1,3‐dimethylimidazolinium Hexafluorophosphate."
        },
        {
         "title": "Pneumatic artificial rubber muscle using shape-memory polymer sheet with embedded electrical heating wire"
        },
        {
         "title": "A Simulation Study to the Dually Adaptive Online IRT Testing System"
        },
        {
         "title": "Algorithm and hardware design of a 2D sorter-based K-best MIMO decoder"
        },
        {
         "title": "Human-based genetic algorithm for facilitating practical use of data in the internet"
        },
        {
         "title": "Local binary feature based on census transform for mobile robot"
        },
        {
         "title": "Integral input-to-state stability of bilinear infinite-dimensional systems"
        },
        {
         "title": "Influence of corrosion on load-carrying capacities of steel I-section main-girder end and steel end cross-girder"
        },
        {
         "title": "Performance of carbon material derived from starch mixed with flame retardant as electrochemical capacitor"
        },
        {
         "title": "An Extracting Method for Individual Building Wall Points from Mobile Mapping System Data"
        },
        {
         "title": "A pedestrian detection method using the extension of the HOG feature"
        },
        {
         "title": "Design of decentralized, practically stabilizing controllers for a class of interconnected retarded systems"
        },
        {
         "title": "Automatically growing dually adaptive online IRT testing"
        },
        {
         "title": "Single‐Atom Catalysis in Mesoporous Photovoltaics: The Principle of Utility Maximization"
        },
        {
         "title": "Dosimeter properties of Ce and Eu doped LiCaAlF6"
        },
        {
         "title": "Development of Positioning Device for Evaluation of Omni-Directional Collision Detecting Bumper"
        },
        {
         "title": "The Continuity of Out-of-band Remote Management across Virtual Machine Migration in Clouds"
        },
        {
         "title": "Optical and scintillation properties of Nd-doped complex garnet"
        },
        {
         "title": "Resource investigation for Kichiji rockfish by autonomous underwater vehicle in Kitami-Yamato bank off Northern Japan"
        },
        {
         "title": "Histogram of Spatio Temporal Local Binary Patterns for Human Action Recognition"
        },
        {
         "title": "High speed image registration of head CT and MR images based on Levenberg-Marquardt algorithms"
        },
        {
         "title": "Molecular motor-driven abrupt anisotropic shape change in a single crystal of a Ni complex"
        },
        {
         "title": "Computational Fluid Dynamics Study of the Aortic Valve Opening on Hemodynamics Characteristics"
        },
        {
         "title": "Robust Color Object Tracking Method against Illumination Color Change"
        },
        {
         "title": "Global metabolic network reorganization by adaptive mutations allows fast growth of Escherichia coli on glycerol"
        },
        {
         "title": "Robust Walking of Biped Robot on Uneven Terrain Using Effect of Wobbling Mass"
        },
        {
         "title": "Dead-lock free mobile robot navigation using modified artificial potential field"
        },
        {
         "title": "Study on fast luminescence component induced by gamma-rays in Ce doped LiCaAlF6 scintillators"
        },
        {
         "title": "Speeding-Up Method for Biped Limit Cycle Walking using Asymmetric Swing-Leg Motion"
        },
        {
         "title": "Enhanced reduction of waste activated sludge at a low temperature by locally isolated strains Pseudomonas sp. VNT and Aeromonas sp. VNT"
        },
        {
         "title": "Numerical analysis and experimental observation of guidewire motion in a blood vessel model"
        },
        {
         "title": "Color Conversion Algorithm for Color Blindness using Self-Organizing Map"
        },
        {
         "title": "ConBe Robot: The Development of Self-Perception and Expression in Face-to-Face Interaction"
        },
        {
         "title": "An Image Registration Method for Head CTA and MRA Images using Mutual Inforamtion on Volumes of Interest"
        },
        {
         "title": "An analytical expression for the direct correlation function of a hard-sphere liquid derived from the extended scaled particle theory"
        },
        {
         "title": "How library and information science academic administrators perceive e-learning in LIS schools"
        },
        {
         "title": "Scintillation and optical stimulated luminescence of Ce-doped CaF2"
        },
        {
         "title": "Evolutionary Algorithms for the Pursuit Problem"
        },
        {
         "title": "Toward the Enhancement of the getRNIA System for Rough-Set based Data Analysis"
        },
        {
         "title": "Bicyclic tetrapeptide histone deacetylase inhibitors with methoxymethyl ketone and boronic acid zinc-binding groups"
        },
        {
         "title": "A System Design method based on Interaction between Logic and Data Sets"
        },
        {
         "title": "Verification and evaluation of automatically designed cooling channels for block-laminated molds"
        },
        {
         "title": "Luminescence properties and thermal neutron response of 6Li-loaded fluoride eutectics"
        },
        {
         "title": "Comparative Study of Partial Discharge Characteristics and Dissolved Gas Analysis on Palm-Based Oil as Insulating Material"
        },
        {
         "title": "Transcriptomic analysis of rice in response to iron deficiency and excess"
        },
        {
         "title": "Dually Adaptive Online IRT Testing System with Application to High-School Mathematics Testing Case"
        },
        {
         "title": "Development of Universal Jamming Gripper with a Force Feedback Mechanism"
        },
        {
         "title": "One-Newton class thruster using arc discharge assisted combustion of nitrous oxide/ethanol bipropellant"
        },
        {
         "title": "Plasma Characteristics and Performance of Magnetohydrodynamic Generator With High-Temperature Inert Gas Plasma"
        },
        {
         "title": "Stability of Nonlinear Infinite Dimensional Impulsive Systems and Their Interconnections**This invited paper is a significantly shortened excerpt of the article S. D ashkovskiy A. Mironchenko, Input-to-state stability of nonlinear impulsive systems, SIAM J. Control Optim., 51 (2013), pp. 1962–1987 enhanced by a new example and discussions. This work was supported by Japanese Society for Promotion of Science (JSPS)."
        },
        {
         "title": "Complementary Filter for Orientation Estimation: Adaptive Gain based on Dynamic Acceleration and its Change"
        },
        {
         "title": "Fixed point theorems for a new nonlinear mapping similar to a nonspreading mapping"
        },
        {
         "title": "Continuous and simultaneous estimation of finger kinematics using inputs from an EMG-to-muscle activation model"
        },
        {
         "title": "Three-dimensional non-rigid registration of thoracic CT image based on finite element method"
        },
        {
         "title": "Least square evaluation of head injury criterion (HIC) for various situations"
        },
        {
         "title": "RPL in alpha particle irradiated Ag+-doped phosphate glass"
        },
        {
         "title": "A stochastic exponential Euler scheme for simulation of stiff biochemical reaction systems"
        },
        {
         "title": "Decentralized load frequency control in an interconnected power system using Coefficient Diagram Method"
        },
        {
         "title": "Smoothed data density histogram on self-organizing map and its application to cluster analysis"
        },
        {
         "title": "Adaptative Motion Control System of a Snake-Like Robot using a Neural Oscillator Netowork"
        },
        {
         "title": "Subjective Speed Evaluation on Striped Images"
        },
        {
         "title": "Person Tracking on Kinect Images using Particle Filter"
        },
        {
         "title": "Comparative study of Tm-doped and Tm-Sc co-doped Lu3Al5O12 scintillator"
        },
        {
         "title": "Hydrogen Absorption into Austenitic Stainless Steels Under High-Pressure Gaseous Hydrogen and Cathodic Charge in Aqueous Solution"
        },
        {
         "title": "Erratum to: Influence of synovia constituents on tribological behaviors of articular cartilage"
        },
        {
         "title": "Analytical study of robustness of a negative feedback oscillator by multiparameter sensitivity"
        },
        {
         "title": "Enhancement of sludge reduction and methane production by removing extracellular polymeric substances from waste activated sludge"
        },
        {
         "title": "An Implementation of Tracing Attacks on Advanced Persistent Threats by Using Actors Model"
        },
        {
         "title": "Development of S Band Antenna for Nanosatellite"
        },
        {
         "title": "ChemInform Abstract: Synthesis of α‐Arylcarboxylic Acid Amides (IV) from Silyl Enol Ether (I) via Migratory Amidation with 2‐Azido‐1,3‐dimethylimidazolinium Hexafluorophosphate (II)"
        },
        {
         "title": "Phase diagrams of mixtures of a polymer and a cholesteric liquid crystal under an external field"
        },
        {
         "title": "Development of Water Treatment Systems Using Interaction of Pressure Waves, Cavitation Bubbles and Micro Bubbles"
        },
        {
         "title": "Observation of Thrombus Formation Process by High Shear Rate on Various Flows and CFD Based Prediction Method for Thrombus Formation Rate"
        },
        {
         "title": "Transformation of top-hat distribution from Gaussian laser beam using a kinoform"
        },
        {
         "title": "Effect of dummy area in the generation of computer-generated hologram to improve the reconstruction diffraction efficiency"
        },
        {
         "title": "Lower bound analysis of H ∞  performance achievable via decentralized LTI controllers"
        },
        {
         "title": "An experimental and three-dimensional computational study on the aerodynamic contribution to the passive pitching motion of flapping wings in hovering flies"
        },
        {
         "title": "Anisotropic strain dependence of oxygen vacancy formation in YBa2Cu3O7−δ: first principle study"
        },
        {
         "title": "Effects of homogeneous irradiation of electron beam on crystal growth and thermoelectric properties of nanocrystalline bismuth selenium telluride thin films"
        },
        {
         "title": "Study on evaluation method for polishing pad surface topography based on optical fourier transform"
        },
        {
         "title": "Live Demonstration : Hardware-Software Co-Verification for Very Large Scale SoC using Synopsys HAPS Platform"
        },
        {
         "title": "Relationship Between Output of a Fluxgate Sensor and Magnetization Process of Its Core"
        },
        {
         "title": "Message from Technical Program Chairs"
        },
        {
         "title": "Enhancement of IR photoluminescence of β‐FeSi2 nanocrystals by Cu‐doping and study of its mechanism"
        },
        {
         "title": "Very High Throughput WLAN System for Ultra HD 4K Video Streaming"
        },
        {
         "title": "Experimental Deployment of a Multi-channel Wireless Backbone Network Based on an Efficient Traffic Management Framework"
        },
        {
         "title": "Message from General Chair"
        },
        {
         "title": "Ensemble Relations for Resource Allocation Tasks"
        },
        {
         "title": "Low-energy neutron-deuteron reactions with N 3 LO chiral forces"
        },
        {
         "title": "Performance Analysis: DF Cognitive Network with Transceiver Imperfections"
        },
        {
         "title": "On Context Management Using Metro Maps"
        },
        {
         "title": "Lossless Data Hiding Method Using Error Correction Code"
        },
        {
         "title": "Yttrium phosphate microspheres with enriched phosphorus content prepared for radiotherapy of deep-seated cancer"
        },
        {
         "title": "Metallothionein labeling for CLEM method for identification of protein subunits."
        },
        {
         "title": "A Design of Low Complex Log Likelihood Ratio for MIMO Decoder Using the Bit Shift"
        },
        {
         "title": "Ionizing Radiation Sensors Utilizing Optically Stimulated Luminescence in SnO-Doped SrO-B2O3 and ZnO-P2O5 Glass"
        },
        {
         "title": "Electrochemical properties of honeycomb-like structured HFBI self-organized membranes on HOPG electrodes"
        },
        {
         "title": "Live demonstration: IEEE802.11 wireless LAN system verification platform"
        },
        {
         "title": "On the Impact of Transceiver Impairments to Cognitive DF Relay Networks"
        },
        {
         "title": "Preparation of thin films of perovskite-type YAlO3:Gd3+–Pr3+ UV phosphors"
        },
        {
         "title": "Lorentz Boosted Potential for a Two-Body System with Unequal Masses"
        },
        {
         "title": "Synthesis of EDOT-containing organic dyes via one-pot, four-component Suzuki–Miyaura coupling and the evaluation of their photovoltaic properties"
        },
        {
         "title": "Ion beam analysis of Heusler alloy Fe3Si epitaxially grown on Si(111)"
        },
        {
         "title": "Chick Embryo Cultured in a Cubic Egg Shell as a Promising Animal Model"
        },
        {
         "title": "Observation of vortex domain structures in multiferroic hexagonal manganites RMnO3 by transmission electron microscopy."
        },
        {
         "title": "Fabrication of Flexible Thermoelectric Thin Film Module Using Micro Porous Structure"
        },
        {
         "title": "On-line tracking and stimulation of swimming microorganism by on-chip microrobot"
        },
        {
         "title": "Revealing the intracellular ultrastructure of filopodia with cryo-electron tomography."
        },
        {
         "title": "Reduction of NBTI-Induced Degradation on Ring Oscillators in FPGA"
        },
        {
         "title": "Formulation of a Dual-Tapped Microstrip Resonator VCO"
        },
        {
         "title": "An On-Chip Digital Environment Monitor for Field Test"
        },
        {
         "title": "Temperature and Voltage Estimation Using Ring-Oscillator-Based Monitor for Field Test"
        },
        {
         "title": "Effects of differences in task characteristics on autonomic nervous system responses"
        },
        {
         "title": "Built-In Scrambling Analysis for Yield Enhancement of Embedded Memories"
        },
        {
         "title": "Titanium wire engineering and its effect on the performance of coil type cylindrical dye sensitized solar cells"
        },
        {
         "title": "Adaptive steering control without using measurements of lateral velocity of vehicles"
        },
        {
         "title": "Efficient VM Introspection in KVM and Performance Comparison with Xen"
        },
        {
         "title": "Detecting moving objects from a video taken by a moving camera using sequential inference of background images"
        },
        {
         "title": "Multi-User MIMO Wireless System-From Theory to Chip Design"
        },
        {
         "title": "Soft-Error Tolerant TCAMs for High-Reliability Packet Classifications"
        },
        {
         "title": "Effects of nano/microstructures on performance of Si-based microfuel cells"
        },
        {
         "title": "Data-Parallel Simulation for Fast and Accurate Timing Validation of CMOS Circuits"
        },
        {
         "title": "Irreversibility fields and critical current densities in strongly pinned YBa2Cu3O7-x films with BaSnO3 nanorods: The influence of segmented BaSnO3 nanorods"
        },
        {
         "title": "Magnetoresistance of drop-cast film of cobalt-substituted magnetite nanocrystals."
        },
        {
         "title": "Nano‐dimensional self assembly of regioregular poly (3‐hexylthiophene) in toluene: Structural, optical, and morphological properties"
        },
        {
         "title": "T\n                    /\n                    B\n                    Scaling in β-YbAlB\n                    4"
        },
        {
         "title": "Spherical activated carbon derived from spherical cellulose and its performance as EDLC electrode"
        },
        {
         "title": "Ultraviolet Raman spectra of few nanometer thick silicon-on-insulator nanofilms: Lifetime reduction of confined phonons"
        },
        {
         "title": "Sn halide based perovskite sensitized solar cells covering up to 1060 nm (presentation video)"
        },
        {
         "title": "Inhomogeneous Deactivation with UV Excitation in Submicron Grains of Lead Iodide Perovskite-based Solar Cell as Revealed by Femtosecond Transient Absorption Microscopy"
        },
        {
         "title": "Strength of spline joints assembled by forming"
        },
        {
         "title": "Partial Discharge Inception Voltage Measurement and Location Identification of Enamel Coating Ribbon Wire Used for Low-Voltage Motors"
        },
        {
         "title": "Graphene Oxide-Based Biosensor for Food Toxin Detection"
        },
        {
         "title": "Automatic segmentation of phalanges regions on CR images based on MSGVF Snakes"
        },
        {
         "title": "Ferrocenylnaphthalene Diimide-Based Electrochemical Detection of Aberrant Methylation in hTERT Gene"
        },
        {
         "title": "New aspects of UHF PD diagnostics on gas-insulated systems"
        },
        {
         "title": "Bisphosphonate release profiles from magnetite microspheres"
        },
        {
         "title": "Superior lubricity in articular cartilage and artificial hydrogel cartilage"
        },
        {
         "title": "Design and synthesis of mono and bicyclic tetrapeptides thioester as potent inhibitor of histone deacetylases"
        },
        {
         "title": "Preface"
        },
        {
         "title": "Histogram of DMHI and LBP Images to Represent Human Actions"
        },
        {
         "title": "Reconsideration of Rules in Tables with Non-Deterministic Data"
        },
        {
         "title": "Battery Energy Storage System Size Optimization in Microgrid Using Particle Swarm Optimization"
        },
        {
         "title": "Comparative study of intrinsic luminescence in undoped transparent ceramic and single crystal garnet scintillators"
        },
        {
         "title": "Improved understanding of the electronic and energetic landscapes of perovskite solar cells: high local charge carrier mobility, reduced recombination, and extremely shallow traps."
        },
        {
         "title": "Calculation of contact angles at triple phase boundary in solid oxide fuel cell anode using the level set method"
        },
        {
         "title": "Template-Assisted Electrochemical Growth of Polypyrrole Nanotubes for Development of High Sensitivity Glucose Biosensor"
        },
        {
         "title": "Visual 3D Mapping to Measure Hydrothermal Deposit Growth Rates at a Man-Made Deep Sea Vent"
        },
        {
         "title": "Particular Fine-Grained Parallel GA for Simulation Study of Distributed Human-Based GA"
        },
        {
         "title": "Simulation on the Formation of Microvaristor Chains in Liquid Epoxy Resin under Electric Field"
        },
        {
         "title": "Syncrophasor Measurement Based Small Signal Stability Assesment using FFT-CWT Approach in Japan-Campus-WAMS"
        },
        {
         "title": "Spinning detonation, cross-currents, and the Chapman–Jouguet velocity"
        },
        {
         "title": "Positive hysteresis of Ce-doped GAGG scintillator"
        },
        {
         "title": "Welcome message"
        },
        {
         "title": "Hole-Conductor-Free, Metal-Electrode-Free TiO2/CH3NH3PbI3 Heterojunction Solar Cells Based on a Low-Temperature Carbon Electrode."
        },
        {
         "title": "A New One Dimensional Modeling Method for Complex Oil Passage Coupled With CFD Results"
        },
        {
         "title": "ChemInform Abstract: Epoxy Amino Acids Produced from Allylglycines Intramolecularly Cyclized to Yield Four Stereoisomers of 4‐Hydroxyproline Derivatives."
        },
        {
         "title": "ChemInform Abstract: Pd(OAc)2‐Catalyzed Macrocyclization of 1,2‐Diazonaphthoquinones with Cyclic Ethers."
        },
        {
         "title": "Synthesis of Bio-based Monomer from Vegetable Oil Fatty Acids and Design of Functionalized Greener Polyester"
        },
        {
         "title": "Surface Oxygen Vacancy-Dependent Electrocatalytic Activity of W\n                    18\n                    O\n                    49\n                    Nanowires"
        },
        {
         "title": "Cover Picture: Switching of Single‐Molecule Magnetic Properties of TbIII–Porphyrin Double‐Decker Complexes and Observation of Their Supramolecular Structures on a Carbon Surface (Chem. Eur. J. 36/2014)"
        },
        {
         "title": "Switching of Single‐Molecule Magnetic Properties of TbIII–Porphyrin Double‐Decker Complexes and Observation of Their Supramolecular Structures on a Carbon Surface"
        },
        {
         "title": "Heat transfer mechanisms in isolated bubble boiling of water observed with MEMS sensor"
        },
        {
         "title": "Improvement of Thermoelectric Performance for Sb-Doped SnO2 Ceramics Material by Addition of Cu as Sintering Additive"
        },
        {
         "title": "Negatively curved cubic carbon crystals with octahedral symmetry"
        },
        {
         "title": "Far-red sensitizing octatrifluorobutoxy phosphorous triazatetrabenzocorrole: Synthesis, spectral characterization and aggregation studies"
        },
        {
         "title": "A pilot study of the stability of the ankle joint moment and M-wave evoked by intermittent stimulation"
        },
        {
         "title": "Synthesis of nanofibrous carbon with herringbone structure on Ni-supported SiC particles using hot CVD apparatus"
        },
        {
         "title": "An Effectiveness Evaluation of PLC/WLAN Cooperative Transmission Scheme Under Practical Network Environment"
        },
        {
         "title": "Microrobotic platform for mechanical stimulation of swimming microorganism on a chip"
        },
        {
         "title": "Power smoothing of wind turbine generator using Fuzzy-PI pitch angle controller"
        },
        {
         "title": "Investigation on Flatness of Shim Rings in Blanking"
        },
        {
         "title": "Comparison of DTN Routing Protocols in Realistic Scenarios"
        },
        {
         "title": "An Averaged-LLR Group Detection for Higher Order MIMO MLD"
        },
        {
         "title": "Inclusion of fullerene in polymer chains grafted on silica nanoparticles in an organic solvent"
        },
        {
         "title": "Pt‐Free Counter Electrode for Dye‐Sensitized Solar Cells with High Efficiency"
        },
        {
         "title": "CADLIVE toolbox for MATLAB: automatic dynamic modeling of biochemical networks with comprehensive system analysis"
        },
        {
         "title": "Development of partial discharge detection and diagnostic methods of vacuum circuit breaker"
        },
        {
         "title": "Short-circuit protection for an IGBT with detecting the gate voltage and gate charge"
        },
        {
         "title": "Construction of measurement system of PD phenomena in medium vacuum region of vacuum interrupter"
        },
        {
         "title": "High-Resolution Image Transmission over MIMO-OFDM E-SDM System with JSCC"
        },
        {
         "title": "Creep corrosion cracking of Sn–3.0Ag and Sn–0.5Cu solder alloys in NaCl solution"
        },
        {
         "title": "Signal Transmission by High-Ripple DC-DC Converter in a New Wire Communication System"
        },
        {
         "title": "A Novel Concept of Digitally Controlled Multiple Output POL for Power Supply on Chip"
        },
        {
         "title": "Strain and grain size effects on thermal transport in highly-oriented nanocrystalline bismuth antimony telluride thin films"
        },
        {
         "title": "Message from WIND 2014 Workshop Chairs"
        },
        {
         "title": "Combining iISS and ISS With Respect to Small Inputs: The Strong iISS Property"
        },
        {
         "title": "An averaged-LLR group detection for higher order MIMO system"
        },
        {
         "title": "Evolving Fair Linear Regression for the Representation of Human-Drawn Regression Lines"
        },
        {
         "title": "How Does Shape of Progress Bar Effect on Time Evaluation"
        },
        {
         "title": "Complexity of finding maximum regular induced subgraphs with prescribed degree"
        },
        {
         "title": "Measurements of Electron Density and Electron Temperature of Arc Discharge Plasmas Containing Metallic Vapors Using Laser Thomson Scattering"
        },
        {
         "title": "Structure oriented compact model for advanced trench IGBTs without fitting parameters for extreme condition: Part II"
        },
        {
         "title": "Fault-Tolerant Servo Systems Using Integrators with Variable Limits"
        },
        {
         "title": "A 2D Sorter-based $K$-best Algorithm for High Order Modulation MIMO Systems"
        },
        {
         "title": "In vitro apatite formation and visible-light photocatalytic activity of Ti metal subjected to chemical and thermal treatments"
        },
        {
         "title": "Analysis of Termination Impedance Influence to Radiated Emission from AC Cable with CMAD"
        },
        {
         "title": "Complementary elementary modes for fast and efficient analysis of metabolic networks"
        },
        {
         "title": "Strong iISS is preserved under cascade interconnection"
        },
        {
         "title": "ASIC design of 7.7 Gbps multi-mode LDPC decoder for IEEE 802.11ac"
        },
        {
         "title": "Metallization of double-stranded DNA triggered by bound galactose-modified naphthalene diimide."
        },
        {
         "title": "Elucidating the Structure–Property Relationships of Donor–π‐Acceptor Dyes for Dye‐Sensitized Solar Cells (DSSCs) through Rapid Library Synthesis by a One‐Pot Procedure"
        },
        {
         "title": "Enhanced Biocatalytic Esterification with Lipase-Immobilized Chitosan/Graphene Oxide Beads"
        },
        {
         "title": "Formulation of effective interaction in terms of the non-perturbative and analytic box"
        },
        {
         "title": "Three-Dimensional Vortex Structure Around a Free Flight Butterfly"
        },
        {
         "title": "Dynamic Forces Acting on Elastic Heaving Airfoils Based on the Bending Stiffness Considerations"
        },
        {
         "title": "Improvement of photocatalytic activity of high specific surface area graphitic carbon nitride by loading a co-catalyst"
        },
        {
         "title": "Multi-Class ERP-Based BCI Data Analysis Using A Discriminant Space Self-Organizing Map"
        },
        {
         "title": "Design and fabrication of cubic eggshell containing chick embryo for a novel biomedical platform"
        },
        {
         "title": "A Robust Controller with Integral Action for Underwater Vehicle-Manipulator Systems Including Thruster Dynamics"
        },
        {
         "title": "On the Definability of a Set and Rough Set-Based Rule Generation"
        },
        {
         "title": "Multi-party Conversation Summarization Based on Sentence Selection Using Verbal and Nonverbal Information"
        },
        {
         "title": "Development of Behavior and Emotion models for Conbe-I using a Self-Organizing Map learning"
        },
        {
         "title": "Car Tracking in Rear View Based on Bicycle Specific Motions in Vertical Vibration and Angular Variation via Prediction and Likelihood Models with Particle Filter for Rear Confirmation Support"
        },
        {
         "title": "Adaptive steering control for combined vehicles with steer-by-wire system"
        },
        {
         "title": "Digital Resolved Acceleration Control of Underwater Robot with multiple manipulators"
        },
        {
         "title": "Bicyclic tetrapeptides as potent HDAC inhibitors: Effect of aliphatic loop position and hydrophobicity on inhibitory activity"
        },
        {
         "title": "Real-time estimation of Human-Cloth topological relationship using depth sensor for robotic clothing assistance"
        },
        {
         "title": "An Automatic Fusion Mechanism for Variable-Length List Skeletons in SkeTo"
        },
        {
         "title": "Particle Filter-Model Predictive Control of Quadcopters"
        },
        {
         "title": "Transhumeral prosthesis prototype with 3D printing and sEMG-based elbow joint control method"
        },
        {
         "title": "Control Sheme to Improve Ride Comfort for Four-Wheel Vehicles"
        },
        {
         "title": "Bias Correction for the Trade-Off Curve in the Tree-Ga Bump Hunting"
        },
        {
         "title": "A joint time synchronization concept for wireless communication system"
        },
        {
         "title": "A Comparative Study of Potential-of-Interest Days on a Sightseeing Spot Recommender"
        },
        {
         "title": "Associative Criteria in Mutually Dependent Markov Decision Processes"
        },
        {
         "title": "Electrochemical telomerase assay for oral cancer screening"
        },
        {
         "title": "Compatible 2D-Code Having Tamper Detection System with QR-Code"
        },
        {
         "title": "Person Re-Identification via Discriminative Accumulation of Local Features"
        },
        {
         "title": "Dynamic behavior of magnetic avalanches in the spin-ice compound Dy2Ti2O7"
        },
        {
         "title": "Investigation of the Three-Nucleon System Dynamics in the Deuteron–Proton Breakup Reaction"
        },
        {
         "title": "Core-Excitation Three-Cluster Model of Borromean Nuclei"
        },
        {
         "title": "Estimation of continuous multi-DOF finger joint kinematics from surface EMG using a multi-output Gaussian Process."
        },
        {
         "title": "The Completeness of NIS-Apriori Algorithm and a Software Tool GetRNIA"
        },
        {
         "title": "Metabolic networks are almost nonfractal: A comprehensive evaluation"
        },
        {
         "title": "Wide area measurements based robust power system controller design"
        },
        {
         "title": "Penetration treatment of plasma spray SUS316L stainless steel coatings by molten multi-component oxides"
        },
        {
         "title": "Network capacity expansion methods based on efficient channel utilization for multi-channel wireless backbone network"
        },
        {
         "title": "Message Scheduling for Tandem Multi-Hop Wireless Networks"
        },
        {
         "title": "Break-up channels in muon capture on He3"
        },
        {
         "title": "2N and 3N Systems in a Three Dimensional Formalism"
        },
        {
         "title": "RETRACTED: Design and synthesis of CHAP31, trapoxin B and HC-toxin based bicyclic tetrapeptides disulfide as potent histone deacetylase inhibitors"
        },
        {
         "title": "Experimental study on oscillation control of a contact scanning scanners system"
        },
        {
         "title": "On GPGPU Parallel Implementation of Hands and Arms Motion Estimation of a Car Driver with Depth Image Sensor by Particle Filter"
        },
        {
         "title": "Wavelet-Demodulation-Method Based Out of Step Detection and Damping Estimation in Japan Campus WAMS"
        },
        {
         "title": "On an evaluation of tracking performance improvement by SMC-PHD filter with intensity image of pedestrians detection over on-board camera using neural network"
        },
        {
         "title": "Path Loss Prediction Model for a Sloped Area in Microcell Based on Scale Model and Real Environment Measurements"
        },
        {
         "title": "Effect of TiO\n                    2\n                    Crystal Orientation on the Adsorption of CdSe Quantum Dots for Photosensitization Studied by the Photoacoustic and Photoelectron Yield Methods"
        },
        {
         "title": "Recent Progress of Counter Electrode Catalysts in Dye-Sensitized Solar Cells"
        },
        {
         "title": "All-Solid Perovskite Solar Cells with HOCO-R-NH\n                    3\n                    +\n                    I\n                    –\n                    Anchor-Group Inserted between Porous Titania and Perovskite"
        },
        {
         "title": "Performance evaluation of Electric Double Layer Capacitor as energy storage component of micro/nano satellite on the imposition of varied temperature and vacuum conditions"
        },
        {
         "title": "Carrier transport properties of nanocrystalline Er3N@C80"
        },
        {
         "title": "Highly Sensitive Nuclease Assays Based on Chemically Modified DNA or RNA"
        },
        {
         "title": "Publisher’s Note: “Ultrasonic strain effects on Bi2223 cuprate superconductors”"
        },
        {
         "title": "Expiration Timer Control Method for QoS-aware Packet Chunking"
        },
        {
         "title": "A nonlinear finite element simulation of balloon expandable stent for assessment of plaque vulnerability inside a stenotic artery"
        },
        {
         "title": "Spatiotemporal human brain activities on recalling body parts"
        },
        {
         "title": "The Distribution Method of the High Resolution Video for a Blackboard Based Lecture"
        },
        {
         "title": "Effect of azithromycin on enhancement of methane production from waste activated sludge"
        },
        {
         "title": "Effect of Steel Surface Conditions on the Macro-Cell Polarization Behavior of Reinforcing Steel"
        },
        {
         "title": "Influence of atomic oxygen exposure on surface resistivity of silicon doped polyimide affecting spacecraft charging"
        },
        {
         "title": "Zn2SnO4-Based Dye-Sensitized Solar Cells: Insight into Dye-Selectivity and Photoelectric Behaviors"
        },
        {
         "title": "Singular configurations analyses of the modifiable Theo Jansen-like mechanism by focusing on the Jacobian determinant — A finding limitations to exceed normal joint range of motion"
        },
        {
         "title": "Underwater scene enhancement using weighted guided median filter"
        },
        {
         "title": "A lockfree shared memory design for high‐throughput multicore packet traffic capture"
        },
        {
         "title": "Maxmin Fairness under Priority for Network Resource Allocation Tasks"
        },
        {
         "title": "Message from the Workshop Organizers - ADMNET 2014"
        },
        {
         "title": "Factors in culture medium enhancing amino acid production and switching branches of the respiratory chain of Corynebacterium glutamicum"
        },
        {
         "title": "Climatic seasonality may affect ecological network structure: Food webs and mutualistic networks"
        },
        {
         "title": "High visible-light active Ir-doped-TiO2 brookite photocatalyst synthesized by hydrothermal microwave-assisted process"
        },
        {
         "title": "Cloning and Characterization of a Unique Cytotoxic Protein Parasporin-5 Produced by Bacillus thuringiensis A1100 Strain"
        },
        {
         "title": "Ultrasensitive biotin assay of a noncompetitive format in a homogeneous solution based on resonance energy transfer induced by a protein-protein interaction."
        },
        {
         "title": "Electron–Phonon Interactions and Orbital Fluctuations in Iron-based Superconductors"
        },
        {
         "title": "Metal-Insulator Transition in Pyrochlore Oxide (Nd\n                    1−\n                    \n                      x\n                    \n                    Pr\n                    \n                      x\n                    \n                    )\n                    2\n                    Ir\n                    2\n                    O\n                    7\n                    (0.7 ≤\n                    x\n                    ≤ 1)"
        },
        {
         "title": "Non-Fermi Liquid Behavior in Nonlinear Susceptibility in Pr\n                    0.05\n                    La\n                    0.95\n                    Pb\n                    3"
        },
        {
         "title": "Magnetic Excitation in Lightly-Doped Bi\n                    2.4\n                    Sr\n                    1.6\n                    CuO\n                    6+\n                    \n                      y"
        },
        {
         "title": "Colored Noise-Induced Threshold Shifts and Phase Diagrams in Electroconvections"
        },
        {
         "title": "Unconventional Quantum Criticality Due to Critical Valence Transition"
        },
        {
         "title": "The influence of the geometric characteristics of nanorods on the flux pinning in high-performance BaMO3-doped SmBa2Cu3Oy films (M = Hf, Sn)"
        },
        {
         "title": "Characteristics of Discharge Generation across Insulation Barrier in the Oil/Pressboard Composite Insulation System"
        },
        {
         "title": "All-solid Sn/Pb halide perovskite sensitized solar cells"
        },
        {
         "title": "Evaluation of Partial Discharge Inception Voltage of Bonding-less Gas Insulation Packaging for High Temperature and High Voltage Power Module"
        },
        {
         "title": "Stochastic robustness of interconnected nonlinear systems in an iISS framework"
        },
        {
         "title": "Ultra-fast lateral 600 V silicon PiN diode superior to SiC-SBD"
        },
        {
         "title": "MC3T3‐E1 and RAW264.7 cell response to hydroxyapatite and alpha‐type alumina adsorbed with bovine serum albumin"
        },
        {
         "title": "Basic Investigation of Epoxy Resin Coatings with Dispersed Carbon Nanotubes"
        },
        {
         "title": "Determination of the Origin of Crystal Orientation for Nanocrystalline Bismuth Telluride-Based Thin Films Prepared by Use of the Flash Evaporation Method"
        },
        {
         "title": "Characteristics of Discharge Progress across Barrier in the Oil/Pressboard Composite Insulation System under Impulse Voltage Application"
        },
        {
         "title": "Chapter 20: Laser Processing Technology"
        },
        {
         "title": "Chapter 18: Welding and Joining"
        },
        {
         "title": "Effects of Motorette Structure and Vanish Treatment on Repetitive Partial Discharge Inception Voltage Measurement Test in Inverter Surge Insulation"
        },
        {
         "title": "Study on influence of oxidation on static electrification in transformer oil"
        },
        {
         "title": "A 4 × 4 Multiplier-Divider-less $K$-best MIMO Decoder up to 2.7 Gbps"
        },
        {
         "title": "A Novel Underwater Scene Reconstruction Method"
        },
        {
         "title": "Elucidation of formation mechanism of by-products of copper sulfide deposition on insulating paper in oil-immersed transformer"
        },
        {
         "title": "Message from the General Chairs"
        },
        {
         "title": "Slit Type One-Dimensional Brightness Distribution Sensor"
        },
        {
         "title": "Low Temperature TiOx Compact Layer by Chemical Bath Deposition Method for Vapor Deposited Perovskite Solar Cells"
        },
        {
         "title": "Fabrication of a Flexible Bismuth Telluride Power Generation Module Using Microporous Polyimide Films as Substrates"
        },
        {
         "title": "Chapter 1: Alloys and Non-Ferrous Materials"
        },
        {
         "title": "Design and Control of IPMSM Sensorless Drive for Mechanical Rotor Position Estimation Capability"
        },
        {
         "title": "Study on the formation of microvaristor chains in composite varistors and their electrical characteristics"
        },
        {
         "title": "Transparent conductive oxide-less back contact dye-sensitized solar cells using Zinc porphyrin dye employing cobalt complex redox shuttle"
        },
        {
         "title": "Effects of Nano-Alumina Hydrate Coating for Conductive Fillers on Dielectric Properties of Epoxy Composite Materials"
        },
        {
         "title": "Thermoelectric Properties of Al-Doped ZnO Thin Films"
        },
        {
         "title": "Real-time failure monitoring system for high power IGBT under acceleration test up to 500 A stress"
        },
        {
         "title": "Complete set of deuteron analyzing powers for dp elastic scattering at 250–294 MeV/nucleon and the three-nucleon force"
        },
        {
         "title": "Rotation-invariant Texture Retrieval Based on Complementary Features"
        },
        {
         "title": "Electronic and magnetic structure of neutral radical FBBO"
        },
        {
         "title": "UHF sensor optimization used for detecting partial discharge emitted electromagnetic wave in gas insulated switchgear"
        },
        {
         "title": "Characteristics of partial discharge in the oil gap separated by pressboard barrier in oil/pressboard composite insulation system"
        },
        {
         "title": "Study of Direction Identification of Partial Discharge Using Multi Small Loop Sensors"
        },
        {
         "title": "Partial discharge characteristics and dissolved gas analysis of vegetable oil"
        },
        {
         "title": "Reflectance and Fluorescent Spectra Recovery based on Fluorescent Chromaticity Invariance under Varying Illumination"
        },
        {
         "title": "A Novel Deep-Sea Image Enhancement Method"
        },
        {
         "title": "Proposal a Vehicle Speed Measuring System Using Image Processing"
        },
        {
         "title": "Detection range fitting of slit type Obrid-Sensor"
        },
        {
         "title": "Modeling of early stage partial discharge and overheating degradation of paper-oil insulation"
        },
        {
         "title": "Orientation effect of nano-alumina coated conductive fillers on dielectric propertiesof epoxy composites"
        },
        {
         "title": "Dielectric Properties of Olefin-Based Thermosetting Resin for Application to Electrical Insulating Material"
        },
        {
         "title": "Photocatalytic reduction of CO2 over a hybrid photocatalyst composed of WO3 and graphitic carbon nitride (g-C3N4) under visible light"
        },
        {
         "title": "Dependability analysis of fault-tolerant servo systems using limited integrators"
        },
        {
         "title": "Robust Sensing of Approaching Vehicles Relying on Acoustic Cue"
        },
        {
         "title": "Chapter 1: Plenary Keynotes"
        },
        {
         "title": "Photocatalytic reduction of CO2 over exposed-crystal-face-controlled TiO2 nanorod having a brookite phase with co-catalyst loading"
        },
        {
         "title": "Robust Sensing of Approaching Vehicles Relying on Acoustic Cues"
        },
        {
         "title": "Spectroscopy and Dynamics of YD2-o-C8 in Solution and Interacting with Alumina Nanoparticles Electrode"
        },
        {
         "title": "Current-carrying capacity of HTS DC cables with the reduced Lorentz force"
        },
        {
         "title": "BaMO3 (M=Zr, Hf, Sn) material dependence of Tc reduction in BaMO3-doped SmBa2Cu3Oy, films"
        },
        {
         "title": "Improvement of critical current densities in SmBa2Cu3Oy, films with BaHfO3 nano-rods using low temperature growth technique"
        },
        {
         "title": "Basic Experiments of Position Measurement for an Underwater Mobile Object using the Particle Filter"
        },
        {
         "title": "Field isolation for GaN MOSFETs on AlGaN/GaN heterostructure with boron ion implantation"
        },
        {
         "title": "Notes on von Neumann–Jordan and James Constants for Absolute Norms on R2"
        },
        {
         "title": "Interactions of cyclic and non-cyclic naphthalene diimide derivatives with different nucleic acids"
        },
        {
         "title": "A convenient preparation of Nε-methyl-l-lysine derivatives and its application to the synthesis of histone tail peptides"
        },
        {
         "title": "Metabolic engineering of Escherichia coli to enhance hydrogen production from glycerol"
        },
        {
         "title": "An Update Method for a CAM Emulator using an Lut Cascade Based on an EVMDD (K)"
        },
        {
         "title": "A Reliable Electronic Choke with No Need of Gain Adjustment for Wire Communication System"
        },
        {
         "title": "Design of m-IPD controller of multi-inertia system using Differential Evolution"
        },
        {
         "title": "Applicability of SAR to Marine Debris Surveillance After the Great East Japan Earthquake"
        },
        {
         "title": "Characteristics of transmission carrier in a new wire communication system by the use of high-ripple DC-DC converter"
        },
        {
         "title": "QoS-Aware Packet Chunking Schemes for M2M Cloud Services"
        },
        {
         "title": "Interactive motion synthesis with optimal blending"
        },
        {
         "title": "Quasi-phase-matched second-harmonic generation in thermally poled twin-hole silica-glass optical fiber by mercury-lamp exposure"
        },
        {
         "title": "A novel load regulation technique for power-SoC with parallel connected POLs"
        },
        {
         "title": "Competing effects of electronic and nuclear energy loss on microstructural evolution in ionic-covalent materials"
        },
        {
         "title": "Effects of Organic Moieties on Luminescence Properties of Organic–Inorganic Layered Perovskite-Type Compounds"
        },
        {
         "title": "Design of emotion generation model and action selection for robots using a Self Organizing Map"
        },
        {
         "title": "UV emissions in Gd3+ doped or Gd3+–Pr3+ Co-doped III–III perovskite-type RMO3 (R=Y, La; M=Al, Ga)"
        },
        {
         "title": "Empowering the healthcare worker using the Portable Health Clinic"
        },
        {
         "title": "Electronic structure of Eu2+-doped SrAl2O4 using modified Becke–Johnson exchange potential"
        },
        {
         "title": "Complete oxidation of acetaldehyde over a composite photocatalyst of graphitic carbon nitride and tungsten(VI) oxide under visible-light irradiation"
        },
        {
         "title": "Investigation of Calculation Method of Losses in PWM Inverter with Voltage Booster Using Both DC Link Voltage Control and Flux Weakening Control"
        },
        {
         "title": "Dependence of Activity of Rutile Titanium(IV) Oxide Powder for Photocatalytic Overall Water Splitting on Structural Properties"
        },
        {
         "title": "Effects of Resin Thickness on the Stress Intensity Factors of Edge-Cracked Adhesive Joints"
        },
        {
         "title": "Identification of novel potential antibiotics against Staphylococcus using structure-based drug screening targeting dihydrofolate reductase."
        },
        {
         "title": "Energy Transfer from Sn\n                    2+\n                    to RE\n                    3+\n                    Cations in ZnO–P\n                    2\n                    O\n                    5\n                    Glass"
        },
        {
         "title": "Control of Charge Dynamics through a Charge‐Separation Interface for All‐Solid Perovskite‐Sensitized Solar Cells"
        },
        {
         "title": "An analysis of quantum effects on the thermodynamic properties of cryogenic hydrogen using the path integral method"
        },
        {
         "title": "Overlapped Partitioning for Ensemble Classifiers of P300-Based Brain-Computer Interfaces"
        },
        {
         "title": "Shape memory polymer hexachiral auxetic structures with tunable stiffness"
        },
        {
         "title": "Inversion of the upper critical field anisotropy in FeTeS films"
        },
        {
         "title": "Optical and scintillation properties of transparent ceramic Yb:Lu2O3 with different Yb concentrations"
        },
        {
         "title": "Damage Evaluation of Wet-Chemical Si-Wafer Thinning/Backside Via Exposure Process"
        },
        {
         "title": "Recursion method for deriving an energy-independent effective interaction"
        },
        {
         "title": "Vacuum ultraviolet field emission lamp utilizing KMgF3 thin film phosphor"
        },
        {
         "title": "Efficient and Fine-Grained VMM-Level Packet Filtering for Self-Protection"
        },
        {
         "title": "A New Practical Design for Browsable Over-the-Network Indexing"
        },
        {
         "title": "A New Concept Varistor With Epoxy/Microvaristor Composite"
        },
        {
         "title": "A rapid colorimetric screening method for vanillic acid and vanillin‐producing bacterial strains"
        },
        {
         "title": "Intelligent LFC Concerning High Penetration of Wind Power: Synthesis and Real-Time Application"
        },
        {
         "title": "A motion detection model inspired by hippocampal function and its applications to obstacle detection"
        },
        {
         "title": "Investigation method for the biomass of kichiji rockfish by hovering type AUV"
        },
        {
         "title": "Flexible Porous Bismuth Telluride Thin Films with Enhanced Figure of Merit using Micro‐Phase Separation of Block Copolymer"
        },
        {
         "title": "Development of a handy mobile 4-hydrophone array system for in-situ census of the Ganges river dolphins (platanista gangetica)"
        },
        {
         "title": "Fabrication and characterization of sesame ball-like CeO2:Y3+/P(St–AA) composite microspheres based on electrostatic interaction"
        },
        {
         "title": "Optical and Scintillation Properties of Pure ZnS Crystal"
        },
        {
         "title": "Basic Properties of Eu\n                    2+\n                    5d-4f Luminescence in SiO\n                    2\n                    Glass Matrix"
        },
        {
         "title": "Long-term air-stable n-channel organic thin-film transistors using 2,5-difluoro-1,4-phenylene-bis{2-[4-(trifluoromethyl)phenyl]acrylonitrile}."
        },
        {
         "title": "New Ferritic Steel Beyond Grade 92 and its Creep Degradation Assessment by Hardness Method for Grade 91"
        },
        {
         "title": "Pd(OAc)2-catalyzed macrocyclization of 1,2-diazonaphthoquinones with cyclic ethers."
        },
        {
         "title": "CH3NH3SnxPb(1-x)I3 Perovskite Solar Cells Covering up to 1060 nm."
        },
        {
         "title": "Elastic Softening of Surface Acoustic Wave Caused by Vacancy Orbital in Silicon Wafer"
        },
        {
         "title": "Transferring MBE-grown topological insulator films to arbitrary substrates and metal-insulator transition via Dirac gap."
        },
        {
         "title": "An analysis of the quantum effect on the thermodynamic and transport properties of cryogenic hydrogen using molecular dynamics method"
        },
        {
         "title": "Surface Plasmon Resonance for Cell-Based Clinical Diagnosis"
        },
        {
         "title": "Thermal response of novel shape memory polymer-shape memory alloy hybrids"
        },
        {
         "title": "Neural decoding of single vowels during covert articulation using electrocorticography"
        },
        {
         "title": "Operation of the counter-rotating type pump-turbine unit installed in the power stabilizing system"
        },
        {
         "title": "Development of a twin-flapping-foils unit to generate hydroelectric power from a water current"
        },
        {
         "title": "Water Treatment Using Discharge Generated in Cavitation Field with Micro Bubble Cloud"
        },
        {
         "title": "Robust Control of Combined Optimized Resistive FCL and ECS for Power System Transient Stability Improvement"
        },
        {
         "title": "Time-dependent expression of hypertonic effects on bullfrog taste nerve responses to salts and bitter substances"
        },
        {
         "title": "Discovery of Potent HDAC Inhibitors Based on Chlamydocin with Inhibitory Effects on Cell Migration"
        },
        {
         "title": "Role of ionic strength in chemical mechanical polishing of silicon carbide using silica slurries"
        },
        {
         "title": "Behavior of polymer chains grafted from latex particles at soft interfaces"
        },
        {
         "title": "Development of thermoelectric module based on dense Ca3Co4O9 and Zn0.98Al0.02O legs"
        },
        {
         "title": "Treatment of effluents from palm oil mill process to achieve river water quality for reuse as recycled water in a zero emission system"
        },
        {
         "title": "28 nm 50% Power-Reducing Contacted Mask Read Only Memory Macro with 0.72-ns Read Access Time Using 2T Pair Bitcell and Dynamic Column Source Bias Control Technique"
        },
        {
         "title": "Improved calculation of band gap of Sr2Bi2O5 crystal using modified Becke–Johnson exchange potential"
        },
        {
         "title": "Learning gaze biases with head motion for head pose-free gaze estimation"
        },
        {
         "title": "Circadian rhythm modulates long-term potentiation induced at CA1 in rat hippocampal slices"
        },
        {
         "title": "Stability of amorphous Ta–O nanotubes prepared by anodization: Thermal and structural analyses"
        },
        {
         "title": "Thermal vacuum test results for Virtex-5 FPGA based multi-core On-Board Computer"
        },
        {
         "title": "Density and Molar Volume of Liquid Iron Containing Nb"
        },
        {
         "title": "Morphology control of brushite prepared by aqueous solution synthesis"
        },
        {
         "title": "A new load frequency control approach in an isolated small power systems using coefficient diagram method"
        },
        {
         "title": "Effective Disappearance of the Meissner Signal in the Cuprate Superconductor YBa\n                    2\n                    Cu\n                    4\n                    O\n                    8\n                    under Uniaxial Strain"
        },
        {
         "title": "Single- and double-layered organically modified nanosheets by selective interlayer grafting and exfoliation of layered potassium hexaniobate."
        },
        {
         "title": "Tuning the microstructure and vortex pinning properties of YBCO-based superconducting nanocomposite films by controlling the target rotation speed"
        },
        {
         "title": "Efficient Motion Compensation of a Moving Object on SAR Imagery Based on Velocity Correlation Function"
        },
        {
         "title": "Far-from-equilibrium monopole dynamics in spin ice"
        },
        {
         "title": "New development of remote control system for air vehicle using 3G cellular network"
        },
        {
         "title": "Ultrasonic Sensor System for Ecology Observation and Timing Synchronization of ZigBee Network"
        },
        {
         "title": "Liquid phase deposited titania coating to enable in vitro apatite formation on Ti6Al4V alloy"
        },
        {
         "title": "Adsorption characteristics of bovine serum albumin onto alumina with a specific crystalline structure"
        },
        {
         "title": "Android-based Navigation System for Elderly People in Hospital"
        },
        {
         "title": "An implementation design of a cross-layer handover method with multi-path transmission for VoIP communication"
        },
        {
         "title": "Read Out Test of Pr: LuAG Scintillator Coupled to Organic Wavelength Shifter Using Si Based Photodetectors"
        },
        {
         "title": "Data synchronization method in DTN sensor network using autonomous air vehicle"
        },
        {
         "title": "Synthetic study of kosinostatin aglycone: synthesis of BCDE rings using alkoxycarbonylmethylation of diazonaphthoquinone"
        },
        {
         "title": "Charging and Arcing Test on Semiconductive Coated Solar Coupon Panel"
        },
        {
         "title": "Dynamic Transmission Control to Save Power while Considering Communication Quality"
        },
        {
         "title": "Web shopping support system for elderly people using WebRTC"
        },
        {
         "title": "Ion-Beam Irradiation Effect in the Growth Process of Graphene on Silicon Carbide-on-Insulator Substrates"
        },
        {
         "title": "Christian–Buddhist Polemics in Late Medieval/Early Modern Japan"
        },
        {
         "title": "Gallium induces the production of virulence factors in Pseudomonas aeruginosa"
        },
        {
         "title": "Temperature‐dependent interlayer coupling in Fe3Si/FeSi2 artificial lattices"
        },
        {
         "title": "Efficient utilization of oil palm frond for bio-based products and biorefinery"
        },
        {
         "title": "A Generate-Test-Aggregate parallel programming library for systematic parallel programming"
        },
        {
         "title": "Effect of anisotropic spin absorption on the Hanle effect in lateral spin valves"
        },
        {
         "title": "Complex Event Processing to Detect Congestions in Mobile Network"
        },
        {
         "title": "Ion beam induced epitaxial crystallization of α-Al2O3 at room temperature"
        },
        {
         "title": "Adaptive rollover prevention controller for driver–vehicle systems"
        },
        {
         "title": "Dopant concentration dependence of radiation-induced positive hysteresis of Ce:GSO and Ce:GSOZ"
        },
        {
         "title": "Design and synthesis of peptide-MCA substrates for a novel assay of histone methyltransferases and their inhibitors"
        },
        {
         "title": "Tetrahedral Gray Code for Visualization of Genome Information"
        },
        {
         "title": "Probing nanoparticle translocation across the permeable endothelium in experimental atherosclerosis"
        },
        {
         "title": "ChemInform Abstract: Rhodium‐Catalyzed Reaction of Diazonaphthoquinones and Enol Ethers: Synthesis of Dihydronaphthofuran Derivatives and α‐Naphthyl Esters."
        },
        {
         "title": "Numerical Study of Cryogenic Coaxial Jet under Supercritical Condition"
        },
        {
         "title": "Development of advanced resistance spot welding process using control of electrode force and welding current during welding"
        },
        {
         "title": "Deposition of hydroxyapatite on SiC nanotubes in simulated body fluid"
        },
        {
         "title": "A Silicon Nanodisk Array Structure Realizing Synaptic Response of Spiking Neuron Models with Noise"
        },
        {
         "title": "Efficiency Comparison Between Si-IGBT-Based Drive and GaN-Based Drive"
        },
        {
         "title": "Effects of Ultraviolet Irradiation and Atomic Oxygen Erosion on Total Electron Emission Yield of Polyimide"
        },
        {
         "title": "Advances in Finite Element Analysis for Computational Mechanics"
        },
        {
         "title": "Underwater image dehazing using joint trilateral filter"
        },
        {
         "title": "Effect of nature of anchoring groups on photosensitization behavior in unsymmetrical squaraine dyes"
        },
        {
         "title": "Efficient production of bisphenol-A by utilizing cation-exchange polystyrene resins that are crosslinked by naphthalene or a biphenyl unit"
        },
        {
         "title": "Improving performance under mirror‐image conditions during laparoscopic surgery using the Broadview camera system"
        },
        {
         "title": "Cell‐type‐dependent action potentials and voltage‐gated currents in mouse fungiform taste buds"
        },
        {
         "title": "Multiobjective Optimization of a Counterrotating Type Pump-Turbine Unit Operated at Turbine Mode"
        },
        {
         "title": "Effect of Electron-Phonon Interactions on Orbital Fluctuations in Iron-Based Superconductors"
        },
        {
         "title": "Inelastic electron-tunneling spectroscopy of nanoporous gold films"
        },
        {
         "title": "Decomposition of a cyanine dye in binary nanosheet colloids of photocatalytically active niobate and inert clay"
        },
        {
         "title": "Two Rough Set-based Software Tools for Analyzing Non-Deterministic Data"
        },
        {
         "title": "Distance- independent set problems for bipartite and chordal graphs"
        },
        {
         "title": "Open fermentative production of l-lactic acid with high optical purity by thermophilic Bacillus coagulans using excess sludge as nutrient"
        },
        {
         "title": "Examining the Commitment for Competitive Sports"
        },
        {
         "title": "Bottom-up nanostructured bulk silicon: a practical high-efficiency thermoelectric material"
        },
        {
         "title": "Complement of FSI dynamically scaled experiment using computation and its application to insect flight analysis"
        },
        {
         "title": "Properties of Multiobjective Robust Controller Using Difference Signals and Multiple Competitive Associative Nets in Control of Linear Systems"
        },
        {
         "title": "2A44 Research on tele-rehabilitation and navigation by using shoe-type gait measurement device"
        },
        {
         "title": "804 Numerical Simulation on Waveriders for Thermal Effects"
        },
        {
         "title": "1A43 Deformation behavior of a bubble in a microcapsule for cell culture"
        },
        {
         "title": "G1510205 Displacement Sensing Method using Non-contact Sensors for Omnidirectional Collision Detecting Bumper"
        },
        {
         "title": "W021003 Biomedical Materials to Assist Cancer Therapy"
        },
        {
         "title": "Stability Criteria for Cascaded Nonlinear Stochastic Systems Admitting Not Necessarily Unbounded Decay Rate"
        },
        {
         "title": "710 Influence of flank friction to chip flow direction and cutting force direction that was projected on the tool rake face in the three-dimensional cutting"
        },
        {
         "title": "Monitoring the Wide Area Power System Dynamics by Phasor Measurement Units Based on Campus WAMS Strategy"
        },
        {
         "title": "713 Effect of Electrode Rigidity on Partial Electrode Wear by using Pipe Electrode in Scoping EDM"
        },
        {
         "title": "711 Improvement of Prediction Accuracy of Cutting Resistance in Ball End Milling : Calculation of tool position at the end of collision between flank and work piece"
        },
        {
         "title": "A method for tracking on-body sensor positions utilizing prior knowledge"
        },
        {
         "title": "3 T23 and T24 – new generation low alloyed steels"
        },
        {
         "title": "A Text Selection Technique Using Word Snapping"
        },
        {
         "title": "W271004 Cell Analysis Using a SiN Diaphragm Having Microholes"
        },
        {
         "title": "Rescaling for Evaluations Using Inclusion-Exclusion Integral"
        },
        {
         "title": "From marine plants to photovoltaic devices"
        },
        {
         "title": "AC Loss of Ripple Current in Superconducting DC Power Transmission Cable"
        },
        {
         "title": "2A2-I07 Effects of Asymmetric Swing-leg Motion on Bipedal Limit Cycle Walking(Passive Walking Robot (2))"
        },
        {
         "title": "Bioinorganic Hybrid Materials"
        },
        {
         "title": "803 Correlation between Wings Characteristics and Flow Field in Ultra Low Reynolds Number Flow"
        },
        {
         "title": "821 Dynamic Stability Experiment of a Reentry Capsule with Offsetted Center-of-gravity under Low Speed Wind Tunnel Conditions"
        },
        {
         "title": "102 Thrust Performance Evaluation on Rotating Detonation Engine by Using Numerical Simulation : Effect of Combustor Size and Number of Detonation Waves"
        },
        {
         "title": "901 Performance Improvement of a Robust Control System for Underwater Vehicle-Manipulator Systems Including Thruster Dynamics"
        },
        {
         "title": "128 Power Stabilization System with Counter-Rotating Type Flow Pump-Turbine"
        },
        {
         "title": "1P1-G06 Mechanical Design for High Speed Sampling Motion in Underwater(Underwater Robot and Mechatronics (2))"
        },
        {
         "title": "1C14 Formation of nanowires using specific metallization of double-stranded DNA and their electrical characterization"
        },
        {
         "title": "508 Measuring The Thermal Transport Peoperty of Porous Film"
        },
        {
         "title": "629 Efficiency evaluation of the superconducting linear pump for cryogenic liquid"
        },
        {
         "title": "1404 Numerical Simulation of Ignition Mechanism by Shock Focusing into H_2-O_2 mixture"
        },
        {
         "title": "Studies of the Three-Nucleon System Dynamics in the Deuteron-Proton Breakup Reaction"
        },
        {
         "title": "Virtual Wireless User: A Practical Design for Parallel MultiConnect Using WiFi Direct in Group Communication"
        },
        {
         "title": "828 English Title Study of the cryogenic pump using active 4-axis control magnetic bearing"
        },
        {
         "title": "516 Effects of solid-liquid-vapor contact area at triple phase boundary on contact angle"
        },
        {
         "title": "304 Numerical simulation of Liver Regeneration : study on micro area"
        },
        {
         "title": "A Study of the Graphene Formation on Silicon Carbide-on-Insulator Substrates"
        },
        {
         "title": "1C15 Extracellular potential measuring device with microhole and microelectrode arrays on a free-standing SiN membrane"
        },
        {
         "title": "303 Particle Simulation on Alveolar Bone Regeneration and Angiogenesis : Micro Bone Model"
        },
        {
         "title": "814 Evaluation of ejecta generation by hypervelocity-impact tests"
        },
        {
         "title": "Study of the Effects of Density, Thickness and Heat Load on Heat Shielding Performance of Phenolic Carbon Ablators Using a One-Dimensional Ablation Analysis Code"
        },
        {
         "title": "A Method for Assessing User-generated Tests for Online Courses Exploiting Crowdsourcing Concept"
        },
        {
         "title": "Novel Modulation Method for Multidirectional Matrix Converter"
        },
        {
         "title": "714 Basic study for Prediction Method of Electrode Wear at Electrode Edge in EDM-millin"
        },
        {
         "title": "Conducting Polymers"
        },
        {
         "title": "Synthesis, Characterization, and Crystal Structure of Pyridinium Tetrakis{1-trifluoromethyl-3-(1′-pyreno)-1,3-propanedionato}lanthanate(III) Complex"
        },
        {
         "title": "Promotional effect of silver nanoparticles on the performance of N-doped TiO 2 photoanode-based dye-sensitized solar cells"
        },
        {
         "title": "Co-migration of Virtual Machines with Synchronization for IDS Offloading"
        },
        {
         "title": "Metabolic Flux Analysis for Escherichia coli by Flux Balance Analysis"
        },
        {
         "title": "427 Influence of Bolt Strength Class on Axis force Behavior of Bolted Joints by Impact Load"
        },
        {
         "title": "Human Tracking with Particle Filter Based on Locally Adaptive Appearance Model"
        },
        {
         "title": "Station Reassociation Scheme for Wireless Green Networking"
        },
        {
         "title": "3P294 Implementation and evaluation of parallel processing by GPGPU for accelerating single particle analysis(26. Measurements,Poster,The 52nd Annual Meeting of the Biophysical Society of Japan(BSJ2014))"
        },
        {
         "title": "823 Parafoil Simulation Experiment Under Low Reynolds Number Flight Environment"
        },
        {
         "title": "C213 Heat Conduction of Asymmetric Si Thin Films"
        },
        {
         "title": "Efficiently suppressed thermal conductivity in ZnO thin films via periodic introduction of organic layers"
        },
        {
         "title": "725 Fundamental analysis of electrode wear process focused on Direction of Tangent of Electrode outline in contouring EDM"
        },
        {
         "title": "129 Prediction of Pitot Pump Internal Flow with CFD"
        },
        {
         "title": "820 Localization Using Map and Camera Images for Mars Exploration Aircraft"
        },
        {
         "title": "Examining the Sports Commitment Model Based on Relationships between the Sport Individual, Social Orientation, and Athletic Identity"
        },
        {
         "title": "A software design and algorithms for multicore capture in data center forensics"
        },
        {
         "title": "C-9 Juggling practice support system using Kinect"
        },
        {
         "title": "Training human activity recognition for labels with inaccurate time stamps"
        },
        {
         "title": "908 Design of robotics behavior that imitates animal consciousness : The facial expressions by emotion predict of robot"
        },
        {
         "title": "523 Molecular Dynamics Study for the Transport Phenomena of Oxygen in Primary Pores of Catalyst Layer in Polymer Electrolyte Fuel Cell"
        },
        {
         "title": "Selenium as a photoabsorber for inorganic–organic hybrid solar cells"
        },
        {
         "title": "Improved ESP-index: A Practical Self-index for Highly Repetitive Texts"
        },
        {
         "title": "C31 Study on the functional fine particles with the fullerenol molecules for sapphire CMP"
        },
        {
         "title": "Contributor contact details"
        },
        {
         "title": "Effects of organic polymer addition in magnetite synthesis on the crystalline structure"
        },
        {
         "title": "632 Research on the behavior of liquid in U-shaped plumbing at resonance point"
        },
        {
         "title": "512 Convective heat transfer in microchannel with functional surface wettability"
        },
        {
         "title": "21pm2-F2 A study on integral control in signal transduction system"
        },
        {
         "title": "High electrocatalytic activity of W 18 O 49 nanowires for cobalt complex and ferrocenium redox mediators"
        },
        {
         "title": "Iron oxide nanostructures as highly efficient heterogeneous catalysts for mesoscopic photovoltaics"
        },
        {
         "title": "TWO-DIMENSIONAL NUMERICAL MODEL BASED ON UNSTRUCTURED FINITE VOLUME METHOD USING APPROXIMATE RIEMAN SOLVER FOR SEDIMENT TRANSPORT"
        },
        {
         "title": "Resistance Spot Welding Simulation based on Multiscale Coupled Analysis of Electrical Contact Resistance"
        },
        {
         "title": "1P1-R06 Robot Contest Produce Competition 2013(RoboCup and Robot Contest)"
        },
        {
         "title": "Decentralized Robustification of Interconnected Time-Delay Systems Based on Integral Input-to-State Stability"
        },
        {
         "title": "Traveling Neuronal Activities Organized in a Recurrent Network with Static and Dynamic Inhibitory Structures"
        },
        {
         "title": "807 Cluster Analysis of Shape Parameters of High Lift-to-Drag Ratio Low Reynolds Number Airfoils"
        },
        {
         "title": "A133 MEMS measurement of temperature beneath a bubble in subcooled flow boiling"
        },
        {
         "title": "905 Construction of supe-micro sense of force feedback and visual for micro objects"
        },
        {
         "title": "802 Numerical Study of Injector Geometry Effects on Cryogenic Coaxial Jet under Supercritical Conditions"
        },
        {
         "title": "Properties of Text-Prompted Multistep Speaker Verification Using Gibbs-Distribution-Based Extended Bayesian Inference for Rejecting Unregistered Speakers"
        },
        {
         "title": "4F4 Measurement of strain distribution on human aortic wall surface with a plaque under uniaxial stretch"
        },
        {
         "title": "Character motion control by hands and principal component analysis"
        },
        {
         "title": "Development of Learning Methods and System to Practice Problems Using Digital Materials"
        },
        {
         "title": "A Self-adaptive Reliable Packet Transmission Scheme for Wireless Mesh Networks"
        },
        {
         "title": "Growth of Spherical Carbon Particles in the Vertically Excited Columnar Plasma Sheath"
        },
        {
         "title": "3A1-D07 Predicting and Intervening on Shopper's Decision in Real Time on Two-Alternatives-Forced Tasks(Humanoid (1))"
        },
        {
         "title": "3A1-X03 Relationship between Maximum Thrust and Wing Shape of Flapping Mechanism Driven by Magnetic Field(Bio-Mimetics and Bio-Mechatronics)"
        },
        {
         "title": "3P179 Structural analysis of primary cilia in human follicle dermal papilla cells by electron microscopy(Cell biology,Poster,The 52th Annual Meeting of the Biophysical Society of Japan(BSJ2014))"
        },
        {
         "title": "Construction of Lyapunov Functionals for Networks of Coupled Delay Differential and Continuous-Time Difference Equations"
        },
        {
         "title": "Electricity and Magnetism, New Formulation by Introduction of Superconductivity"
        },
        {
         "title": "International workshop on human activity sensing corpus and its application (HASCA2014)"
        },
        {
         "title": "Spatiotemporal Brain Activities on Recalling Names of Body Parts"
        },
        {
         "title": "408 Effect of Tempering on Residual Stress for Hot Strip Composite Roll"
        },
        {
         "title": "818 Development of INS/GPS/ADS Hybrid Navigation System and Its Evaluation by Flight Test"
        },
        {
         "title": "Agreement Subtree Mapping Kernel for Phylogenetic Trees"
        },
        {
         "title": "Object Detection Based on Multiresolution CoHOG"
        },
        {
         "title": "1A1-I05 Development of the Floating Robot for Position Measurement of Underwater Robots(Underwater Robot and Mechatronics (1))"
        },
        {
         "title": "Asynchronous P systems for hard graph problems"
        },
        {
         "title": "703 Evaluation of Working Accuracy of 5-Axis Machining Center by Truncated Square Pyramidical Work Piece : Prototype of on-machine shape measurement system for machined work piece"
        },
        {
         "title": "Influence of culture on athletic self-identity: A cross-cultural analysis of Japanese and Chinese female athletes"
        },
        {
         "title": "Anion-Exchange Membrane Fuel Cells, Oxide-Based Catalysts"
        },
        {
         "title": "1A1-F08 Development of Dual-Shaft Propeller Thruster for UVMS : Propeller rotational speed measurement using Hall sensors(Underwater Robot and Mechatronics (1))"
        },
        {
         "title": "The Role of Tight Junctions and Hypertonicity in Taste Information Processing"
        },
        {
         "title": "A Fairness Relation Based on the Asymmetric Choquet Integral and Its Application in Network Resource Allocation Problems"
        },
        {
         "title": "819 The behavior during takeoff and hovering of UAV in circular orbit test equipment"
        },
        {
         "title": "2A2-B04 Development of the Hybrid-type Flying Observation System(Aerial Robot and Mechatronics (2))"
        },
        {
         "title": "Room exit recognition using mobile accelerometers and illuminometers"
        },
        {
         "title": "1P295 Metallothionein labeling for CLEM(Correlative Light and Electron Microscopy) method(27. Bioimaging,Poster,The 52nd Annual Meeting of the Biophysical Society of Japan(BSJ2014))"
        },
        {
         "title": "2C26 Visualization of the thrombus formation in the blood shear flow field : Orientation of the growth and evaluation"
        },
        {
         "title": "815 Cryogenic Temperature Environment Durability of Resin Materials for Liquid Oxygen Tank"
        },
        {
         "title": "829 Improvement of Structure of One Axis Controlled Magnetic Bearing"
        },
        {
         "title": "Accumulative Computation on MapReduce"
        },
        {
         "title": "2A13 Disintegration of capsule by wave control for developing shock wave DDS"
        },
        {
         "title": "1C32 Opening and immobilization of cell-derived liposomes for membrane protein analysis"
        },
        {
         "title": "13C-Metabolic Flux Analysis for Escherichia coli"
        },
        {
         "title": "Composite catalyst of rosin carbon/Fe 3 O 4 : highly efficient counter electrode for dye-sensitized solar cells"
        },
        {
         "title": "Strengthening of Cross Tension Strength of Spot Welded Lap Joints by Increasing the Opening Angle on the Nugget Edge"
        },
        {
         "title": "813 Development of Ultra Lighweight Wing Structure and Its Material Durability of Space Environment for Mars Exploration Aircraft"
        },
        {
         "title": "Flux Pinning Properties and Irreversibility Field Curves of the High-concentration BaHfO3-Doped SmBa2Cu3Oy Thin Films"
        },
        {
         "title": "A reagent for safe and efficient diazo-transfer to primary amines: 2-azido-1,3-dimethylimidazolinium hexafluorophosphate"
        },
        {
         "title": "1109 Study on Sound Insulation Prediction of Rectangular Cover with a Small Hole"
        },
        {
         "title": "An Approach Based on Rough Sets to Possibilistic Information"
        },
        {
         "title": "Growth Control of Carbon Nanotubes Using Ion-Beam Irradiation Effect in the SiC Surface Decomposition Method"
        },
        {
         "title": "915 Study of Flywheel Energy Storage System Using a Superconducting Magnetic Bearing"
        },
        {
         "title": "Correlation between preparation conditions and the photoluminescence properties of Sn 2+ centers in ZnO–P 2 O 5 glasses"
        },
        {
         "title": "806 Thrust Performance Estimation on Rotating Detonation Engine Using Two-dimensional Numerical Simulations : Effect of Grid Resolution on I_<sp>"
        },
        {
         "title": "Challenges for Nerve Repair Using Chitosan-Siloxane Hybrid Porous Scaffolds"
        },
        {
         "title": "Model Oriented System Design on Big-data"
        },
        {
         "title": "1C34 Label-free detection of blood proteins using LSPR of gold nanoparticles immobilized in a microchannel"
        },
        {
         "title": "805 Characteristics of High Lift-to-Drag Ratio Low Reynolds Number Airfoil for Mars Exploration Aircraft Using Towing Equipment"
        },
        {
         "title": "Cooperation Level Estimation of Pair Work Using Top-view Image"
        },
        {
         "title": "Hands and Arms Motion Estimation of a Car Driver with Depth Image Sensor by Using Particle Filter"
        },
        {
         "title": "809 Preliminary Research on Fault Tolerant Flush Air Data Sensing (FADS) System for Supersonic Flight"
        },
        {
         "title": "Porous cerium dioxide hollow spheres and their photocatalytic performance"
        },
        {
         "title": "An Implementation of Document Image Reconstruction System on a Smart Device Using a 1D Histogram Calibration Algorithm"
        },
        {
         "title": "21pm3-PM021 Thermal transport properties of strained bismuth telluride thin films by irradiated homogeneous electron beams"
        },
        {
         "title": "415 Effect of Pitch Difference on the Fatigue life and Anti-loosing Performance for Bolts and Nuts"
        },
        {
         "title": "Nonlinear Dynamics of the Brain and its Information Processing Mechanism"
        },
        {
         "title": "909 Development of phrase and music search engine by humming"
        },
        {
         "title": "Morphological Associative Memory Employing a Split Store Method"
        },
        {
         "title": "704 Evaluation of Working Accuracy of 5-Axis Machining Center by Truncated Square Pyramidal Work Piece : Influence of geometric deviation of machine tool on shape of work piece"
        },
        {
         "title": "702 On-machine profiler for machined surface using 3-point method"
        },
        {
         "title": "1B21 Study on catheter tactile sensor composed of organic ferroelectrics"
        },
        {
         "title": "Coins in cloud drives can use OAuth for micropayments and resource metering alike"
        },
        {
         "title": "Lightweight Approach to Detect Drive-by Download Attacks Based on File Type Transition"
        },
        {
         "title": "Feasibility Study on Microwave Power Transmission to an Airplane for Future Mars Observation"
        },
        {
         "title": "Pseudo-normal Image Synthesis from Chest Radiograph Database for Lung Nodule Detection"
        },
        {
         "title": "Landscape Design for Urban Biodiversity and Ecological Education in Japan: Approach from Process Planning and Multifunctional Landscape Planning"
        },
        {
         "title": "Panoscopic organization of anisotropic colloidal structures from photofunctional inorganic nanosheet liquid crystals"
        },
        {
         "title": "3P1-C04 Improvement of Magnetically Driven Mechanism for Cytology Brush Built into Capsule Endoscope(Medical Robotics and Mechatronics (2))"
        },
        {
         "title": "Brain Computer Interface by Use of Single Trial EEG on Recalling of Several Images"
        },
        {
         "title": "Synthesis and Molecular Structure of tert-Butyl 3-oxo-2-oxa-5-azabicyclo[2.2.2]octane-5-carboxylate"
        },
        {
         "title": "Deformation Behaviour in Boss Forming by Sheet Extrusion"
        },
        {
         "title": "1P1-F07 AUV Based Observation System for Benthos in Deep Ocean(Underwater Robot and Mechatronics (2))"
        },
        {
         "title": "0524 Dynamic Behavior of Vortex Ring Rolled up from Moving Body and Its Dynamic Lift"
        },
        {
         "title": "824 Flight Demonstration of Onboard Real-time Optimal Trajectory Generation Using Genetic Algorithm Implemented on FPGA"
        },
        {
         "title": "1A1-L04 Development of Kinematics Resolution Framework for Multiple Target Positioning(Evolution and Learning for Robotics)"
        },
        {
         "title": "J0220401 A computational study on the air damping in the passive pitching motion of insect flapping wing"
        },
        {
         "title": "1A1-H05 Simple Leaked Water Detection System for Underwater Robot Development(Underwater Robot and Mechatronics (1))"
        },
        {
         "title": "Superconducting Properties of BaHfO3-doped Nd1+xBa2-xCu3Oy Films Prepared by Alternating-targets Technique"
        },
        {
         "title": "Hierarchical Optimization Using Hierarchical Multi-competitive Genetic Algorithm and its Application to Multiple Vehicle Routing Problem"
        },
        {
         "title": "Design of tetraplex specific ligands: cyclic naphthalene diimide"
        },
        {
         "title": "811 Three-dimensional Numerical Simulation on Unsteady Compressible Flow in Hybrid Rocket Engine : Effect of Turbulence Model"
        },
        {
         "title": "2D42 Evaluation of the extensibility and histological characteristics of the atherosclerotic and normal regions in the intimal layer of carotid arteries in autopsy"
        },
        {
         "title": "1P1-S04 Tomato-harvesting robot Competition(RoboCup and Robot Contest)"
        },
        {
         "title": "Multiphase coexistence and destabilization of liquid crystalline binary nanosheet colloids of titanate and clay"
        },
        {
         "title": "Scintillation and Dosimetric Properties of Cu-Doped Zinc Oxide Thin Films"
        },
        {
         "title": "Analysis of Crutch Position in the Horizontal Plane to Estimate the Stability of the Axillary Pad in the Axilla during Single-crutch Walking"
        },
        {
         "title": "724 Study on Cyclomachining as a New Method for Nano-selective Fabrication"
        },
        {
         "title": "Hierarchical representation of differential diagnosis lists for clinical decision support systems"
        },
        {
         "title": "Understanding Level Estimation Using Discussion Maps for Supporting Consensus-building"
        },
        {
         "title": "Fabrication and characterization of coil type transparent conductive oxide-less cylindrical dye-sensitized solar cells"
        },
        {
         "title": "Evolving health consultancy by predictive caravan health sensing in developing countries"
        },
        {
         "title": "215 Simulation of Coming out of the Shaft from the Ceramics Sleeve for the Shrink Fitted Ceramics Rollers : Mechanism of coming out"
        },
        {
         "title": "Oil Palm Frond Juice as Future Fermentation Substrate: A Feasibility Study"
        },
        {
         "title": "Generalized Metric Spaces Do Not Have the Compatible Topology"
        },
        {
         "title": "Development of a Standing-Up Motion Guidance System Using an Inertial Sensor"
        },
        {
         "title": "Multi-objective Optimization of Airfoil for Mars Exploration Aircraft Using Genetic Algorithm"
        },
        {
         "title": "Discharge Propagation in Normal Potential Gradient on Spacecraft"
        },
        {
         "title": "1P1-G05 Sea Basic Experiment of Underwater Robot with the Passivity Posture Maintenance Mechanism for a Thruster(Underwater Robot and Mechatronics (2))"
        },
        {
         "title": "Dynamical Features of Neurons and Neural Networks: Chaos, Synchronization, Rhythm, and Propagation"
        },
        {
         "title": "p -Uniform Convexity and q-Uniform Smoothness of Absolute Normalized Norms on ℂ2"
        },
        {
         "title": "1P1-G07 Development of a Small ROV for Education and Research Activities : MATLAB / Simulink Based Robot Control System(Underwater Robot and Mechatronics (2))"
        },
        {
         "title": "722 Improvement of Prediction Accuracy of Cutting Resistance in Ball End Milling : Analysis of deviation between geometrically predicted resistance and measured resistance"
        },
        {
         "title": "A122 Study on Microbubble Emission Boiling Heat Transfer Based on Microlayer Model"
        },
        {
         "title": "Reliable Transmission with Multipath and Redundancy for Wireless Mesh Networks"
        },
        {
         "title": "Dismillar Metal Bond by Vacuum Roll Bonding"
        },
        {
         "title": "1A1-H06 Prototype of the injection device for an underwater object(Underwater Robot and Mechatronics (1))"
        },
        {
         "title": "1P1-S06 Development of Next-Generation Soccer Robot for RoboCup Middle size league(RoboCup and Robot Contest)"
        },
        {
         "title": "Physics of Liquid Crystals"
        },
        {
         "title": "Molecular Structure and Crystal Packing of n-Type Semiconducting Material 3′,3′-(1,4-Phenylene)bis{2′-(4′′-trifluoromethyl)phenyl}acrylonitrile"
        },
        {
         "title": "Approximation Algorithms for Packing Element-Disjoint Steiner Trees on Bounded Terminal Nodes"
        },
        {
         "title": "Multi-touch Interface and Motion Control Model for Interactive Character Animation"
        },
        {
         "title": "Coupled analysis method using in-house developed code and commercial analysis code"
        },
        {
         "title": "Wind Tunnel Investigations on Dynamic Characteristics of Earth-Returning Vehicle"
        },
        {
         "title": "Gallium( iii ) xanthate as a novel thermal latent curing agent for an epoxy resin composite"
        },
        {
         "title": "822 Preliminary Evaluation of Flight Path Generation Method Using Random Search and Dynamics Filtering"
        },
        {
         "title": "219 Numerical Study of the Flow Field over Compression Corner in Hypersonic Flow : Effect of Ramp Angle"
        },
        {
         "title": "22pm1-G5 Traveling capsule for medical treatment"
        },
        {
         "title": "Epoxy amino acids produced from allylglycines intramolecularly cyclised to yield four stereoisomers of 4-hydroxyproline derivatives"
        },
        {
         "title": "827 Study of Mobility Using Permanent Current and Breaking Current due to Superconducting Coil"
        },
        {
         "title": "Polypyrrole– para -phenolsulfonic acid/tape artificial muscle as a tool to clarify biomimetic driven reactions and ionic exchanges"
        },
        {
         "title": "Vacuum Ultraviolet Field Emission Lamp Consisting of Neodymium Ion Doped Lutetium Fluoride Thin Film as Phosphor"
        },
        {
         "title": "325 Comparative Evaluation of the Distensibility of Fibrous Cap Regions in Carotid Arteries and Aortas"
        },
        {
         "title": "Synthesis and Molecular Structure of 4′,9′,4″,9″-Tetra-tert-butyl-1′,6′,1″,6″-tetramethoxy-2,5-dioxa[3.3]metabiphenylophane"
        },
        {
         "title": "Properties of Direct Multi-Step Ahead Prediction of Chaotic Time Series and Out-of-Bag Estimate for Model Selection"
        },
        {
         "title": "Neutron TOF Experiments Using Transparent Rubber Sheet Type Neutron Detector with Dispersed Small Pieces of LiCaAlF6 Scintillator"
        },
        {
         "title": "Entropy of Capacity"
        },
        {
         "title": "1A1-F07 Development of a Stereo Vision System for UVMS using Pan-Tilt-Slide Cameras : Control of Pan-Tilt Movement Using PI Control(Underwater Robot and Mechatronics (1))"
        },
        {
         "title": "Degree-Constrained Graph Orientation: Maximum Satisfaction and Minimum Violation"
        },
        {
         "title": "2F47 Study on catheter and guidewire simulation for intravacular surgery : Estimation for contact force of guidewire tip"
        },
        {
         "title": "Object-based selection modulates top-down attentional shifts"
        },
        {
         "title": "Operating Characteristic of Torque Converter with Lock-up Clutch"
        },
        {
         "title": "A New Computational Method for Single-Trial-EEG-Based BCI"
        },
        {
         "title": "202 Study for Joint Structural Design of Ceramic Rollers Used for Heating Furnace : IIIpieces model consist of sleeve, middle sleeve and shaft"
        },
        {
         "title": "817 Flame Spray Coating of Thermoplastic Polyether Ether Ketone on Carbon Fiber Composite Material"
        },
        {
         "title": "Charge transfer and recombination at the metal oxide/CH 3 NH 3 PbClI 2 / spiro -OMeTAD interfaces: uncovering the detailed mechanism behind high efficiency solar cells"
        },
        {
         "title": "J0550104 Evaluation of the Density Fluctuation against the Diatomic Fluids around the Critical Points using Molecular Dynamics Simulation"
        },
        {
         "title": "Applicability of Portable Health Clinic to Ageing Society"
        },
        {
         "title": "A Structure of Recognition for Natural and Artificial Scenes: Effect of Horticultural Therapy Focusing on Figure-Ground Organization"
        },
        {
         "title": "1P1-T01 Local Image Feature Based on Census Transform for Mobile Robot(Robot Vision)"
        },
        {
         "title": "Erratum for “Laboratory Tests to Standardize Environment Test Conditions of Micro/Nano Satellite Units” [Trans. JSASS Aerospace Tech. Japan Vol. 12, No. ists29, pp. Pf_1-Pf_10, 2014]"
        },
        {
         "title": "Real-Time Visualization System for Deep-Sea Surveying"
        },
        {
         "title": "Evaluation of Scintillation Properties of GaN"
        },
        {
         "title": "1P1-S02 Ball passing behavior for middle sized RoboCup soccer Robots(RoboCup and Robot Contest)"
        },
        {
         "title": "A Verified Generate-Test-Aggregate Coq Library for Parallel Programs Extraction"
        },
        {
         "title": "Evolution of Developmental Timing for Solving Hierarchically Dependent Deceptive Problems"
        },
        {
         "title": "825 Effect of Detachment and Attachment of Top Foil on Predicted Stability Threshold Speed of Hydrodynamically Air-Lubricated Foil Journal Bearings : Effect of Bearing Design Variables of Model Bearings in Case of No Friction Force"
        },
        {
         "title": "An Attempt to Develop Providing and Receiving Social Support Scales for Sports Teams"
        },
        {
         "title": "Flux Pinning in Superconductors"
        },
        {
         "title": "Micro Pump Driven by a Pair of Conducting Polymer Soft Actuators"
        },
        {
         "title": "0901 Vortex interaction rolled up from elastic thin film and dynamic force"
        },
        {
         "title": "808 Numerical Analysis of the Aerospike Nozzle for the Evaluation of Performance : Effect of Inner Nozzle Configuration"
        },
        {
         "title": "Superconducting Properties and Microstructures of BaHfO3-doped SmBa2Cu3Oy Films Fabricated using a Low-temperature Growth Technique"
        },
        {
         "title": "709 Development of Torsional Vibration Transducer for Tightening Miniature Screw with Addition of Ultrasonic Vibration : Effect of the number and width of helical slot"
        },
        {
         "title": "B213 A Study of the Density Fluctuation of Diatomic Fluids around the Critical Point by Molecular Dynamics Simulation"
        },
        {
         "title": "Tandem dye-sensitized solar cells with a back-contact bottom electrode without a transparent conductive oxide layer"
        },
        {
         "title": "C30 Study on the material removal mechanism during chemical mechanical polishing"
        },
        {
         "title": "PWM Noise Reduction in OFDM-Based Power Supply Overlaid Communication System for Industrial Machine Control"
        },
        {
         "title": "21pm3-PM019 Development of Low-dimensional Thermoelectric Thin Films Using a Coaxial type Vacuum Arc Evaporation Method"
        },
        {
         "title": "2C46 On the force-dependent directional disassembly of stress fibers"
        },
        {
         "title": "1P1-E08 Accuracy examination of the position measurement system of underwater mobile body using a monocular camera(Underwater Robot and Mechatronics (2))"
        },
        {
         "title": "Synthesis and Molecular Structure of Chiral (2S, 5S)-tert-Butyl 3-Oxo-2-oxa-5-azabicyclo[2.2.2]octane-5-carboxylate"
        },
        {
         "title": "Interlaced W 18 O 49 nanofibers as a superior catalyst for the counter electrode of highly efficient dye-sensitized solar cells"
        },
        {
         "title": "Effect of Water-Cement Ratio on the Macrocell Polarization Behavior of Reinforcing Steel"
        },
        {
         "title": "C212 Thermoelectric Properties of Nanostructured Bismuth Telluride with Evaluation of Thermal Contact Resistance by 3-omega Method"
        },
        {
         "title": "21pm3-PM022 Thermoelectric properties of strained n-type bismuth telluride and p-type antimony telluride thin films"
        },
        {
         "title": "Online Pattern Matching for String Edit Distance with Moves"
        },
        {
         "title": "1P1-H07 Mobile Platform with Fin Actuator Based on the High Power Joint Mechanism(Underwater Robot and Mechatronics (2))"
        },
        {
         "title": "1P1-S05 Bipedal Robot Leg Architecture for RoboCup Humanoid League : Team FUB-KIT, Collaboration between Freie University of Berlin and Kyushu Institute of Technology(RoboCup and Robot Contest)"
        },
        {
         "title": "101 Experimental Study on Cellular Pattern of CH4 / O2 Detonation Propagating in Round Tube by Smoked Foil Technique"
        },
        {
         "title": "Using motion capture for interactive motion editing"
        },
        {
         "title": "321 Finite element analysis on the protection of capillaries in the sacral skin against closure by pressure redistribution"
        },
        {
         "title": "Computational medicinal chemistry for rational drug design: Identification of novel chemical structures with potential anti-tuberculosis activity."
        },
        {
         "title": "Effect of the collector tube profile on Pitot pump performances"
        },
        {
         "title": "Strong Quadrupole-Strain Interaction of Vacancy Orbital in Boron-Doped Czochralski Silicon"
        },
        {
         "title": "Boost Protein Expression through Co-Expression of LEA-Like Peptide in Escherichia coli"
        },
        {
         "title": "ChemInform Abstract: Preparation of Sn/Mn Zirconium Phosphate as Rare Earth Free Possible White Emitting Phosphor."
        },
        {
         "title": "Separating Reflective and Fluorescent Components Using High Frequency Illumination in the Spectral Domain"
        },
        {
         "title": "Co-fired AlN–TiN assembly as a new substrate technology for high-temperature power electronics packaging"
        },
        {
         "title": "Development of a dual-shaft propeller thruster equipped with rotational speed sensor for UVMS control"
        },
        {
         "title": "RBS study of disordering of Fe3‐xMnxSi/Ge(111) heteroepitaxial interfaces"
        },
        {
         "title": "Scintillation properties of LiF–SrF2 and LiF–CaF2 eutectic"
        },
        {
         "title": "Isolation and characterization of gallium resistant Pseudomonas aeruginosa mutants"
        },
        {
         "title": "Automatic classification of seabed sediments based on HLAC"
        },
        {
         "title": "A Method for Generating Ontologies in Requirements Domain for Searching Data Sets in Marketplace"
        },
        {
         "title": "Construction of Lyapunov Functionals for Coupled Differential and Continuous Time Difference Equations"
        },
        {
         "title": "State estimation of mobile robot using GPS signal that includes reflected and diffracted waves"
        },
        {
         "title": "Estimation for Presented Images by EEGs during Recongition and Recalling"
        },
        {
         "title": "Human Tracking based on Particle Filter with Adaptive Local Descriptor"
        },
        {
         "title": "131 Proposal of reaction kinetic model for cell death due to extracellular freezing based on two-factor hypothesis"
        },
        {
         "title": "A Method for Extremely Scalable and Low Demand Live P2P Streaming based on Variable Bitrate"
        },
        {
         "title": "Supercritical CO2 extraction of essential oil from Kabosu (Citrus sphaerocarpa Tanaka) peel"
        },
        {
         "title": "Multi-scale elastic graph matching for face detection"
        },
        {
         "title": "Analysis of Robotic Arm's Behavior using Self Organizing Map combined with Consciousness-Based Architecture Module"
        },
        {
         "title": "Investigation Into Surface Potential Decay of Polyimide by Unipolar Charge Transport Model"
        },
        {
         "title": "Counter-rotating type tidal stream power unit boarded on pillar (performances and flow conditions of tandem propellers)"
        },
        {
         "title": "Ion beam analysis of quaternary Heusler alloy Co2(Mn1–xFex)Si(111) epitaxially grown on Ge(111)"
        },
        {
         "title": "GPGPU Implementation for Steering Hands Tracking of a Car Driver by Particle Filter with Depth Image Sensor"
        },
        {
         "title": "Development of Mission Payloads Onboard High Voltage Technology Demonstration Satellite HORYU-II"
        },
        {
         "title": "A Low Complexity Wavelet OFDM System on FPGA"
        },
        {
         "title": "Detecting negative selection on recurrent mutations using gene genealogy"
        },
        {
         "title": "Ion tracks and microstructures in barium titanate irradiated with swift heavy ions: A combined experimental and computational study"
        },
        {
         "title": "Strength analysis of adhesive joints of riser pipes in deep sea environment loadings"
        },
        {
         "title": "Investigation on Space Environmental Degradation Effects of Solar Cell Coverglass"
        },
        {
         "title": "Dynamic Distributed Genetic Algorithm Using Hierarchical Clustering for Flight Trajectory Optimization of Winged Rocket"
        },
        {
         "title": "Solid-support immobilization of a “swing” fusion protein for enhanced glucose oxidase catalytic activity"
        },
        {
         "title": "Synchronized Co-migration of Virtual Machines for IDS Offloading in Clouds"
        },
        {
         "title": "A light-induced spin crossover actuated single-chain magnet"
        },
        {
         "title": "Effect of the presence of epoxy spacer on transmission rate of electromagnetic wave propagating through T-branch of 66 kV GIS model tank"
        },
        {
         "title": "BlockLogo: Visualization of peptide and sequence motif conservation"
        },
        {
         "title": "DF-SVM: a decision forest constructed on artificially enlarged feature space by support vector machine"
        },
        {
         "title": "Preparation of Sn/Mn zirconium phosphate as rare earth free possible white emitting phosphor"
        },
        {
         "title": "A Three-Dimensional Treatment of the Three-Nucleon Bound State"
        },
        {
         "title": "Green Technology with Silicides and Related Materials"
        },
        {
         "title": "Theta-alpha cross-frequency synchronization facilitates working memory control – a modeling study"
        },
        {
         "title": "The RNA-binding protein FPA regulates flg22-triggered defense responses and transcription factor activity by alternative polyadenylation"
        },
        {
         "title": "The existence of best proximity points with the weak P-property"
        },
        {
         "title": "Facial Expression Recognition Using Constrained Local Models and Hidden Markov Models with Consciousness-Based Architecture"
        },
        {
         "title": "Total Electron Emission Yield of Solar Cell Coverglass and Optical Solar Reflector"
        },
        {
         "title": "Deuteron Disintegration in Three Dimensions"
        },
        {
         "title": "Comparison of Low Earth Orbit Wake Current Collection Simulations Using Nascap-2k, SPIS, and MUSCAT Computer Codes"
        },
        {
         "title": "Significance relations for the benchmarking of meta-heuristic algorithms"
        },
        {
         "title": "Large, negative magnetoresistance in an oleic acid-coated Fe(3)O(4) nanocrystal self-assembled film."
        },
        {
         "title": "Bacterial Community Structure and Biochemical Changes Associated With Composting of Lignocellulosic Oil Palm Empty Fruit Bunch"
        },
        {
         "title": "Mechanical properties of interpenetrating polymer network hydrogels based on hybrid ionically and covalently crosslinked networks"
        },
        {
         "title": "Counter-Rotating Type Tidal-Stream Power Unit Playing Favorable Features in Various Ocean Circumstances"
        },
        {
         "title": "Analysis of Thrombus Formation Process by Flow Induced High Shear Rate Using Optical Observation Method"
        },
        {
         "title": "Resistance to Quorum-Quenching Compounds"
        },
        {
         "title": "Floating Type Ocean Wave Power Station (Wells Type Runner Work Submerged in Seawater)"
        },
        {
         "title": "Counter-Rotating Type Pump-Turbine Unit Stabilizing Momentarily Fluctuating Power From Renewable Energy Resources"
        },
        {
         "title": "Theory of polymer-dispersed cholesteric liquid crystals."
        },
        {
         "title": "Indigenous cellulolytic and hemicellulolytic bacteria enhanced rapid co-composting of lignocellulose oil palm empty fruit bunch with palm oil mill effluent anaerobic sludge"
        },
        {
         "title": "A New Online Event Related Potential Based Brain-Computer Interfaces Using an Ensemble Classifier"
        },
        {
         "title": "Abstract"
        },
        {
         "title": "(1+ε)-competitive algorithm for online OVSF code assignment with resource augmentation"
        },
        {
         "title": "Size dependences of crystal structure and magnetic properties of DyMnO3 nanoparticles"
        },
        {
         "title": "On-Chip Microrobot for Investigation of Stimulant Property of Aquatic Microorganisms"
        },
        {
         "title": "Regulation of dynamic structure of cyclophanes by their complexation with the porphyrin"
        },
        {
         "title": "Abstract"
        },
        {
         "title": "Primary Experimental Results of the Navigation Method of Multiple Autonomous Underwater Vehicles"
        },
        {
         "title": "Modification of ABC Algorithm for Adaptation to Time‐Varying Functions"
        },
        {
         "title": "Obituary for Walter Glöckle"
        },
        {
         "title": "Texture databases – A comprehensive survey"
        },
        {
         "title": "Optimal approximability of bookmark assignments"
        },
        {
         "title": "On Achieving Capture Power Safety in At-Speed Scan-Based Logic BIST"
        },
        {
         "title": "3-D Recovery of a Non-rigid Object from a Single Camera View Employing Multiple Coordinates Representation"
        },
        {
         "title": "High-performance biocompatible adhesives from plant-derived materials"
        },
        {
         "title": "Development of communication support system using lip reading"
        },
        {
         "title": "Suppressing Bearing Voltage in an Inverter-Fed Ungrounded Brushless DC Motor"
        },
        {
         "title": "Design of Networked hw/sw Complex System using Hardware Object Model and its application"
        },
        {
         "title": "Hardware design of spatial mapper for 1.73Gbps multi-user MIMO system of IEEE802.11ac"
        },
        {
         "title": "Temperature Distribution Analysis for Modeling of Metal Ring Induction Heater"
        },
        {
         "title": "Theoretical estimation of metabolic network robustness against multiple reaction knockouts using branching process approximation"
        },
        {
         "title": "Construction of Lyapunov–Krasovskii functionals for networks of iISS retarded systems in small-gain formulation"
        },
        {
         "title": "Effect of ammonia or nitric acid treatment on surface structure, in vitro apatite formation, and visible-light photocatalytic activity of bioactive titanium metal"
        },
        {
         "title": "Signal Sources Localization using GA Preserving Genetic Diversity based on Fitness Values"
        },
        {
         "title": "Low pressure condition of a lipid core in an eccentrically developed carotid atheromatous plaque: a static finite element analysis"
        },
        {
         "title": "Calculation of critical current in DC HTS cable using longitudinal magnetic field effect"
        },
        {
         "title": "Complexity Reduction for Higher Order MIMO Decoder using Block Diagonalization"
        },
        {
         "title": "Optical and scintillation properties of Ce-doped LuLiF4 with different Ce concentrations"
        },
        {
         "title": "Search Space Reduction for Low-Power Test Generation"
        },
        {
         "title": "APBioNet—Transforming Bioinformatics in the Asia-Pacific Region"
        },
        {
         "title": "Limited Influence of Oxygen on the Evolution of Chemical Diversity in Metabolic Networks"
        },
        {
         "title": "Hyperbranched Polycoumarates with Photofunctional Multiple Shape Memory"
        },
        {
         "title": "Hyperbranched Polycoumarates with Photofunctional Multiple Shape Memory "
        },
        {
         "title": "Detailed Transport-Reaction Models for SOFC Ni-YSZ Patterned Anodes: A Critical Inquiry"
        },
        {
         "title": "Inorganic scintillation detector development for J-PARC spallation neutron source"
        },
        {
         "title": "Structural and optical properties of neodymium-doped lutetium fluoride thin films grown by pulsed laser deposition"
        },
        {
         "title": "Scintillation properties of ceramic Ce-doped Gd3(Ga, Al)5O12"
        },
        {
         "title": "Fuzzy Controller of Multi-Inertia Resonance System Designed by Differential Evolution"
        },
        {
         "title": "Forecasting Monthly Maximum 5-Day Precipitation Using Artificial Neural Networks with Initial Lags"
        },
        {
         "title": "Development of the portable blood flow measurement system using laser speckle flowgraphy"
        },
        {
         "title": "Thermally and optically stimulated luminescence of Ce and Eu doped LiCaAlF6"
        },
        {
         "title": "Evaluation of undoped zinc sulfide crystal scintillator"
        },
        {
         "title": "A Novel Low Complexity Maximum Likelihood Detection Algorithm for MIMO WLAN System"
        },
        {
         "title": "Solar park in Gaza City: A proposed social business to bring renewable energy knowledge in the conflict region"
        },
        {
         "title": "Optical absorption of CdSe quantum dots on electrodes with different morphology"
        },
        {
         "title": "Influence of pretreated activated sludge for electricity generation in microbial fuel cell application"
        },
        {
         "title": "InCoB2013 introduces Systems Biology as a major conference theme"
        },
        {
         "title": "Heavy, ultrafast scintillator of Yb3+-doped transparent ceramic Lu2O3"
        },
        {
         "title": "A Reconfigurable Stream Compression Hardware based on Static Symbol-Lookup Table"
        },
        {
         "title": "Cyclic tetrapeptides with –SS– bridging between amino acid side chains for potent histone deacetylases’ inhibition"
        },
        {
         "title": "Impedancemetric acetylene gas sensing properties of Sm–Fe-based perovskite-type oxide-based thick-film device"
        },
        {
         "title": "Four products from Escherichia coli pseudogenes increase hydrogen production"
        },
        {
         "title": "Thermoelectric properties and figure of merit of perovskite-type Ba1−xLaxSnO3 with x=0.002–0.008"
        },
        {
         "title": "Study of rare-earth free Sn<sup>2+</sup> doped glass scintillator"
        },
        {
         "title": "Abstract"
        },
        {
         "title": "Evaluation of Novel Impulse Voltage Generator for Detecting Partial Discharge"
        },
        {
         "title": "Sensing behavior of solid-state impedancemetric NOx sensor using solid electrolyte transducer and oxide receptor"
        },
        {
         "title": "Deep‐sea magnetic vector anomalies over the Hakurei hydrothermal field and the Bayonnaise knoll caldera, Izu‐Ogasawara arc, Japan"
        },
        {
         "title": "Easy-to-use authoring system for Noh (Japanese traditional) dance animation and its evaluation"
        },
        {
         "title": "Floating type ocean wave power station equipped with hydroelectric unit"
        },
        {
         "title": "Solution-processed amorphous niobium oxide as a novel electron collection layer for inverted polymer solar cells"
        },
        {
         "title": "Redundancy Control and Duplicate ACK Suppression Methods for TCP with FEC"
        },
        {
         "title": "Fabrication process dependency of dosimetric and scintillation properties of sapphire crystals"
        },
        {
         "title": "Abstract"
        },
        {
         "title": "Temperature response of light output of cadmium tungstate"
        },
        {
         "title": "Development of drinking support device for spinal cord injuries to enhance quality of life"
        },
        {
         "title": "Basic study of complementary relation of dosimeter and scintillation properties of Ce-doped CaF2"
        },
        {
         "title": "Study of vacuum ultraviolet scintillation in rare earth doped Lutetium fluoride"
        },
        {
         "title": "Catabolite regulation analysis of Escherichia coli for acetate overflow mechanism and co-consumption of multiple sugars based on systems biology approach using computer simulation"
        },
        {
         "title": "Development of highly efficient sulfur-doped TiO2 photocatalysts hybridized with graphitic carbon nitride"
        },
        {
         "title": "Comparative study of ceramic and single crystal Ce:GAGG scintillator"
        },
        {
         "title": "A balloon-borne measurement of high latitude atmospheric neutrons using a licaf neutron detector"
        },
        {
         "title": "A study on the Lyapunov exponents of sequences generated by the logistic map over integers"
        },
        {
         "title": "Optical and scintillation properties of Pr3+ activated KY3F10 with different dopant concentration"
        },
        {
         "title": "Thermoluminescence properties of Ce-doped CaO-Al2O3-B2O3 glasses"
        },
        {
         "title": "A TCAM Generator for Packet Classification"
        },
        {
         "title": "Scintillation properties of Eu-doped LiF-CaF2 eutectic for neutron detectors with different Eu concentration"
        },
        {
         "title": "Multi-touch Interface for Character Motion Control Using Model-Based Approach"
        },
        {
         "title": "A Study on Distance between Two Sequences by the Logistic Map Over Integers with Slightly Different Parameters"
        },
        {
         "title": "Abstract"
        },
        {
         "title": "A Proposal for Hybrid PD Sensor Identifying Absolute Distance from PD Source"
        },
        {
         "title": "A robust load frequency control of power system with fluctuation of renewable energy sources"
        },
        {
         "title": "“Security-Aware and Data Intensive Low-Cost Mobile Systems” Editorial"
        },
        {
         "title": "Comparative study of scintillation properties of BaF<inf>2</inf> and BaMgF<inf>4</inf> scintillators using streak camera system equipped with pulsed X-ray source"
        },
        {
         "title": "Radiation response of transition metals-doped lithium aluminate crystals"
        },
        {
         "title": "Structure-Function Relationships in Hydrophobins: Probing the Role of Charged Side Chains"
        },
        {
         "title": "Implementation of 2.6 Gbps Super-high Speed AES-CCM Security Protocol for IEEE 802.11i"
        },
        {
         "title": "Robust complementary hierarchical clustering for gene expression data analysis by β-divergence"
        },
        {
         "title": "Study of rare-earth-doped scintillators"
        },
        {
         "title": "Multi-Jain Fairness Index of Per-Entity Allocation Features for Fair and Efficient Allocation of Network Resources"
        },
        {
         "title": "Abstract"
        },
        {
         "title": "Stochastic Runge-Kutta methods with deterministic high order for ordinary differential equations"
        },
        {
         "title": "UV emission from Gd3+ ions in Gd3+–Pr3+ codoped YAlO3 perovskite"
        },
        {
         "title": "Design issues of a thin-film p-channel SOI power MOSFET for high-temperature applications"
        },
        {
         "title": "Underwater Image Enhancement Using Guided Trigonometric Bilateral Filter and Fast Automatic Color Correction"
        },
        {
         "title": "GW calculation of plasmon excitations in the quasi-one-dimensional organic compound (TMTSF)2PF6"
        },
        {
         "title": "Networking Technology Trend in Japan"
        },
        {
         "title": "A PACKET CLASSIFIER USING LUT CASCADES BASED ON EVMDDS (K)"
        },
        {
         "title": "Electrical properties of microcrystalline Sc3N@C80 fullerene"
        },
        {
         "title": "Abstract"
        },
        {
         "title": "Delivering A File by Multipath-Multicast on OpenFlow networks"
        },
        {
         "title": "Evaluation of Ce3+ and alkali metal ions Co-doped LiSrAlF6 crystalline scintillators"
        },
        {
         "title": "Division Charts as Granules and Their Merging Algorithm for Rule Generation in Nondeterministic Data"
        },
        {
         "title": "Photo- and radio-excited luminescence properties of Eu-doped La2O3–Al2O3 based eutectics"
        },
        {
         "title": "Numerical Electromagnetic Analysis for Metal Ring Induction Heater"
        },
        {
         "title": "Investigation of partial discharge characteristics induced by X‐ray irradiation in artificial cavity in epoxy resin"
        },
        {
         "title": "Doping concentration dependence on VUV luminescence of Tm:CaF2"
        },
        {
         "title": "Recent progress in metabolic engineering for the production of biofuels and biochemicals from renewable sources with particular emphasis on catabolite regulation and its modulation"
        },
        {
         "title": "IGBT chip current imaging system by scanning local magnetic field"
        },
        {
         "title": "Modular organization of cancer signaling networks is associated with patient survivability"
        },
        {
         "title": "Multisensory interaction mediates the social transmission of avoidance in rats: Dissociation from social transmission of fear"
        },
        {
         "title": "Real time degradation monitoring system for high power IGBT module under power cycling test"
        },
        {
         "title": "Solid‐State Synthesis of ZnO Nanostructures for Quasi‐Solid Dye‐Sensitized Solar Cells with High Efficiencies up to 6.46%"
        },
        {
         "title": "Thermodynamic Analysis of the Mg–Y–Zn Ternary System Using the Cluster Variation Method"
        },
        {
         "title": "Low-Temperature Softening Due to Vacancy Orbital with Γ\n                    8\n                    Quartet Ground State in Boron-Doped Floating Zone Silicon"
        },
        {
         "title": "Robustness of Quantum Criticality of Valence Fluctuations"
        },
        {
         "title": "CDM application on power system as a load frequency controller"
        },
        {
         "title": "A Dynamic Programming A* Algorithm for Computing Unordered Tree Edit Distance"
        },
        {
         "title": "LCTI–SS: Low-Clock-Tree-Impact Scan Segmentation for Avoiding Shift Timing Failures in Scan Testing"
        },
        {
         "title": "A cross-linked polystyrene supported hindered lithium amide as a deprotonation reagent for α-methylation of lactic acid"
        },
        {
         "title": "Abstract"
        },
        {
         "title": "Effect of Nitrite Concentration and pH on Steel Corrosion Induced by Sulfate in Simulated Concrete Pore Environment"
        },
        {
         "title": "Effect of Nitrite Ions on Polarization Behavior of Steel Immersed in Simulated Concrete Pore Environments"
        },
        {
         "title": "Electrochemical Detection of Duplex DNA Using Intercalation‐Triggered Decomplexation of Ferrocene with β‐Cyclodextrin"
        },
        {
         "title": "Luminescence properties and radiation response of sodium borate glasses scintillators"
        },
        {
         "title": "Magnetic order in the pyrochlore iridate Nd2Ir2O7 probed by muon spin relaxation"
        },
        {
         "title": "Abstract"
        },
        {
         "title": "Optical properties in Ag+-doped phosphate glass irradiated with X-rays and α-particles"
        },
        {
         "title": "Clustering of Positions in Nucleotide Sequences by Trim Distance"
        },
        {
         "title": "Penicillin-induced epileptiform activity elevates focal brain temperature in anesthetized rats"
        },
        {
         "title": "Naphthalene Diimide Carrying Two Cysteine Termini at Both Imide Linkers as a Molecular Staple"
        },
        {
         "title": "Corrosion and hydrogen absorption of commercially pure zirconium in acid fluoride solutions"
        },
        {
         "title": "Cooperative Transmission Scheme Between PLC and WLAN to Improve TCP Performance"
        },
        {
         "title": "Preparation of nanostructured TiO2 photoelectrode for flexible dye-sensitized solar cell applications"
        },
        {
         "title": "Selective component degradation of oil palm empty fruit bunches (OPEFB) using high-pressure steam"
        },
        {
         "title": "Coulombic Transformation in Momentum Space"
        },
        {
         "title": "Biohydrogen production from oil palm frond juice and sewage sludge by a metabolically engineered Escherichia coli strain"
        },
        {
         "title": "Optical and scintillation properties of Sc2O3, Y2O3 and Lu2O3 transparent ceramics synthesized by SPS method"
        },
        {
         "title": "Drying-induced reduction in electrical resistivity of carbon black-polyamideimide nanocomposite films"
        },
        {
         "title": "Vibration suppression control for multiaxis table drive system"
        },
        {
         "title": "Neutron detection with LiCaAlF6 scintillator doped with 3d-transition metal ions"
        },
        {
         "title": "Calculations of Three-Nucleon Reactions"
        },
        {
         "title": "Investigations of Few-Nucleon System Dynamics in Medium Energy Domain"
        },
        {
         "title": "3H at Next-to-Next-to-Next-to Leading Order of the Chiral Expansion"
        },
        {
         "title": "Synthesis and magnetic properties of DyMnO3 nanoparticles in mesoporous silica"
        },
        {
         "title": "AC magnetic measurement of LiFeAs at pressures up to 5.2 GPa: The relation between Tc and the structural parameters"
        },
        {
         "title": "Crystal growth and luminescence properties of Pr-doped LuLiF4 single crystal"
        },
        {
         "title": "Modification of Oil Palm Mesocarp Fiber Characteristics Using Superheated Steam Treatment"
        },
        {
         "title": "Hydrogen Absorption Behavior of Titanium Alloys by Cathodic Polarization"
        },
        {
         "title": "Nonlinear Susceptibility Measurement for Quadrupolar Response in a Dilute Γ\n                    3\n                    Non-Kramers Doublet System Pr\n                    0.05\n                    La\n                    0.95\n                    Pb\n                    3"
        },
        {
         "title": "NF-E2 p45 Is Important for Establishing Normal Function of Platelets"
        },
        {
         "title": "Self‐Tuning PI Control Using Adaptive PSO of a Web Transport System with Overlapping Decentralized Control"
        },
        {
         "title": "Performance of 1-N class liquefied gas propellant thruster"
        },
        {
         "title": "Peripheral Electronics Prototype of Super-Capacitor Energy Storage for Small Satellites"
        },
        {
         "title": "Throttleable solid propellant microthruster using laser-assisted combustion"
        },
        {
         "title": "Low Speed Instability of Two-Dimensional Rectangular Prisms"
        },
        {
         "title": "Characteristics of a Pulsed Plasma Thruster Using Dimethyl Ether as Liquid Propellant"
        },
        {
         "title": "Characteristics of Dynamic Forces Generated by a Flapping Butterfly"
        },
        {
         "title": "The Growth of Vortices in the Vicinity of a Wall of Elastic Moving Airfoils"
        },
        {
         "title": "Latex migration in battery slurries during drying."
        },
        {
         "title": "Jc improvement by double artificial pinning centers of BaSnO3 nanorods and Y2O3 nanoparticles in YBa2Cu3O7 coated conductors"
        },
        {
         "title": "Abstract"
        },
        {
         "title": "Electrochemical RNase A Detection Using an Electrode with Immobilized Ferrocenyl Deoxyribooligonucleotide Containing Cytidine Residue"
        },
        {
         "title": "Distance Measurement with a General 3D Camera by Using a Modified Phase Only Correlation Method"
        },
        {
         "title": "Abstract"
        },
        {
         "title": "Site-Selective Epitaxy of Graphene on Si Wafers"
        },
        {
         "title": "Proposal of Flexible Touch Panel Sensor"
        },
        {
         "title": "Core-excitation three-cluster model description of 8He and 10He"
        },
        {
         "title": "Self‐activated mesh device using shape memory alloy for periosteal expansion osteogenesis"
        },
        {
         "title": "Abstract"
        },
        {
         "title": "Identifying User Authentication Methods on Connections for SSH Dictionary Attack Detection"
        },
        {
         "title": "Disturbance and Delay Robustness Guarantees of Gradient Systems Based on Static Noncooperative Games With an Application to Feedback Control for PEV Charging Load Allocation"
        },
        {
         "title": "Knaster Procedure for Proportional Fair Wireless Channel Allocation"
        },
        {
         "title": "High-Performance Graphene Field-Effect Transistors with Extremely Small Access Length Using Self-Aligned Source and Drain Technique"
        },
        {
         "title": "A Home Gateway Box with Meter, Probe and L2 QoS Policy Edge"
        },
        {
         "title": "Fabrication by Coaxial-Type Vacuum Arc Evaporation Method and Characterization of Bismuth Telluride Thin Films"
        },
        {
         "title": "Fault-tolerant servo systems against sensor failures using limited integrators"
        },
        {
         "title": "Method to calculate ultrasonic wave velocity by using chemical composition of austenitic stainless steels"
        },
        {
         "title": "Cross Depth Image Filter-based Natural Image Matting"
        },
        {
         "title": "Fabrication of highly oriented D03-Fe3Si nanocrystals by solid-state dewetting of Si ultrathin layer"
        },
        {
         "title": "Message from the General Chairs"
        },
        {
         "title": "Fabrication of Bismuth Telluride Thermoelectric Films Containing Conductive Polymers Using a Printing Method"
        },
        {
         "title": "Improvement of Cyclodextrin Glycosyltransferase Gene Expression in Escherichia coli by Insertion of Regulatory Sequences Involved in the Promotion of RNA Transcription"
        },
        {
         "title": "Basic Study on a Walking Assist System with Electrical Stimulation for Elderly People"
        },
        {
         "title": "Brown/biodiverse roofs: a conservation action for threatened brownfields to support urban biodiversity"
        },
        {
         "title": "Abstract"
        },
        {
         "title": "Analysis of Magnetization Reversal Process of Nd–Fe–B Sintered Magnets by Magnetic Domain Observation Using Kerr Microscope"
        },
        {
         "title": "Ensemble Regularized Linear Discriminant Analysis Classifier for P300-based Brain-Computer Interface"
        },
        {
         "title": "Proposal of a Multi-Frame Images Fusion Model on Dual Tree Complex Wavelet Transform Domain"
        },
        {
         "title": "Multi Degree-of-Freedom Technique for Dynamic Characteristics of Atmospheric Entry Capsule"
        },
        {
         "title": "Emissivity of Wavelength-Selective Radiator With Periodic Microcavities"
        },
        {
         "title": "Pump Head Improvement of Diffuser/Nozzle Valve-Less Micropump"
        },
        {
         "title": "Effect of Micro-Structured Surface on Dropwise Condensation Heat Transfer"
        },
        {
         "title": "A Molecular Dynamics Analysis of Quantum Effect on the Thermodynamic Properties of Liquid Hydrogen"
        },
        {
         "title": "Real-Time Photodynamics of Squaraine-Based Dye-Sensitized Solar Cells with Iodide and Cobalt Electrolytes"
        },
        {
         "title": "Control of residual strain and twin boundary by annealing under strain"
        },
        {
         "title": "Comparison between coacervation property and secondary structure of synthetic peptides, Ile-containing elastin-derived pentapeptide repeats."
        },
        {
         "title": "Ho-doping effect on the incommensurate magnetic order in La1.88Sr0.12CuO4"
        },
        {
         "title": "Visible light water splitting using novel Al2O3/carbon cluster nanocomposite materials"
        },
        {
         "title": "High-energy magnetic excitations in underdoped La1.90Sr0.10CuO4"
        },
        {
         "title": "Spiking neural network model for memorizing sequences with forward and backward recall"
        },
        {
         "title": "Experimental distinction between chaotic and strange nonchaotic attractors on the basis of consistency."
        },
        {
         "title": "Pressure effects in hollow and solid iron oxide nanoparticles"
        },
        {
         "title": "Evaluation of SRAM based FPGA Performance by Simulating SEU through Fault Injection"
        },
        {
         "title": "Growth of single-crystalline bismuth antimony telluride nanoplates on the surface of nanoparticle thin films"
        },
        {
         "title": "A two-phase approach to stability of networks given in iISS framework: Utilization of a matrix-like criterion"
        },
        {
         "title": "Characterization of epitaxial EuS(111) thin films on BaF2(111) and SrF2(111) substrates grown by molecular beam epitaxy"
        },
        {
         "title": "Dynamic Characteristics of Magnetically Levitated Conveyer Using High <formula formulatype=\"inline\"><tex Notation=\"TeX\">$T_{c}$</tex></formula> SMB"
        },
        {
         "title": "Effects of polymer end groups on the drying rates of phase separating coatings"
        },
        {
         "title": "Distributed Human-based Genetic Algorithm Utilizing A Mobile Ad Hoc Network"
        },
        {
         "title": "Influence of synovia constituents on tribological behaviors of articular cartilage"
        },
        {
         "title": "Single‐step fabrication of all‐solid dye‐sensitized solar cells using solution‐processable precursor"
        },
        {
         "title": "Abstract"
        },
        {
         "title": "Initial results from Primary Arc effects on solar cells at LEO (PASCAL) flight experiment"
        },
        {
         "title": "Optical Properties of Ce3+:LiCaAIF6 Thin Films Prepared by Pulsed Laser Deposition"
        },
        {
         "title": "Flux Pinning Properties at Low Temperatures in <formula formulatype=\"inline\"><tex Notation=\"TeX\">$ \\hbox{BaHfO}_{3}$</tex></formula> Doped <formula formulatype=\"inline\"><tex Notation=\"TeX\">$\\hbox{SmBa}_{2}\\hbox{Cu}_{3} \\hbox{O}_{y}$</tex></formula> Films"
        },
        {
         "title": "Shape space estimation by higher-rank of SOM"
        },
        {
         "title": "Nano-satellite Development Project and Space Engineering Education at Kyushu Institute of Technology"
        },
        {
         "title": "Abstract"
        },
        {
         "title": "Flow of mono-dispersed particles through horizontal bend"
        },
        {
         "title": "Flux Pinning Properties of BHO Pinning Centers at High Magnetic Fields in GdBCO Coated Conductors"
        },
        {
         "title": "Experimental Investigation on Erosion Resistance and Hydrophobicity of Silicone Rubber Nanocomposite"
        },
        {
         "title": "Charge Behavior of Epoxy/Silica Nanocomposites under AC High Fields"
        },
        {
         "title": "Automotive wheel with cooling fan for brake system and in-wheel motor"
        },
        {
         "title": "Controlling the processable ZnO and polythiophene interface for dye-sensitized thin film organic solar cells"
        },
        {
         "title": "Magnetic memory in a ceramic YBCO superconductor composed of sub-micron-size grains"
        },
        {
         "title": "Magnetization curves of TbZn2 in high magnetic fields"
        },
        {
         "title": "Abstract"
        },
        {
         "title": "Effect of X-ray irradiation on partial discharge inception and extinction voltage characteristics of cast resin transformer insulation system"
        },
        {
         "title": "Abstract"
        },
        {
         "title": "Bifunctionality of Rh\n                    3+\n                    Modifier on TiO\n                    2\n                    and Working Mechanism of Rh\n                    3+\n                    /TiO\n                    2\n                    Photocatalyst under Irradiation of Visible Light"
        },
        {
         "title": "Identification of compounds with potential antibacterial activity against Mycobacterium through structure-based drug screening."
        },
        {
         "title": "Monte Carlo simulation of light reflection from cosmetic powder particles near the human skin surface"
        },
        {
         "title": "Tunable Magnonic Spectra in Two‐Dimensional Magnonic Crystals with Variable Lattice Symmetry"
        },
        {
         "title": "Noisy Sine-Circle Map as a Model of Chaotic Phase Synchronization"
        },
        {
         "title": "Copper Encapsulation of Multi‐Walled Carbon Nanotubes"
        },
        {
         "title": "Abstract"
        },
        {
         "title": "Effect of wall conditions on DDT in hydrogen–oxygen mixtures"
        },
        {
         "title": "Carboxymethyldextran/magnetite hybrid microspheres designed for hyperthermia"
        },
        {
         "title": "Investigations of Wetting Properties of Stainless Steel by Molten Multi-Component Oxides"
        },
        {
         "title": "Sub-micron Junction Termination for 1200V Class Devices toward CMOS Process Compatibility"
        },
        {
         "title": "Molecular dynamics simulations on heat conduction in nano‐porous Si"
        },
        {
         "title": "High Speed Turn-on Gate Driving for 4.5kV IEGT without Increase in PiN Diode Recovery Current"
        },
        {
         "title": "Emission properties of random laser media with a bubble structure"
        },
        {
         "title": "Estimation of effective mass and subbands in multi‐quantum wells using polarized light irradiation"
        },
        {
         "title": "Composite Damage Detection Based on Redundant Second-Generation Wavelet Transform and Fractal Dimension Tomography Algorithm of Lamb Wave"
        },
        {
         "title": "A Machine to Evaluate Decomposed Multi-Terminal Multi-valued Decision Diagrams for Characteristic Functions"
        },
        {
         "title": "Real-time PCR for rapidly detecting aniline-degrading bacteria in activated sludge"
        },
        {
         "title": "Robust Stability of Networks of iISS Systems: Construction of Sum-Type Lyapunov Functions"
        },
        {
         "title": "Ce-doped LiF–SrF2 eutectic scintillators for thermal neutron detection produced at different solidification rates"
        },
        {
         "title": "Abstract"
        },
        {
         "title": "Asynchronous P Systems for the Maximum Independent Set and Related Graph Problems"
        },
        {
         "title": "Does Habitat Variability Really Promote Metabolic Network Modularity?"
        },
        {
         "title": "High-Speed Magnetic Microrobot Actuation in a Microfluidic Chip by a Fine V-Groove Surface"
        },
        {
         "title": "Fabrication and Evaluation of SiC Inverter Using SiC-MOSFET"
        },
        {
         "title": "Dynamics and regulation of lysine-acetylation during one-cell stage mouse embryos"
        },
        {
         "title": "Person Identification Using Top-View Image with Depth Information"
        },
        {
         "title": "Influence of Escherichia coli hydrogenases on hydrogen fermentation from glycerol"
        },
        {
         "title": "A MPPT Control Method of Thermoelectric Power Generation with Single Sensor"
        },
        {
         "title": "Set-valued stochastic integrals with respect to Poisson processes in a Banach space"
        },
        {
         "title": "Design of Vibration Suppression Controller for High Order Resonance System by Mutation-Type Grouping PSO"
        },
        {
         "title": "Self-sensing electromagnetic levitation system taking account of ripple currents excited by PWM amplifier"
        },
        {
         "title": "High Vortex Depinning Temperatures in YBCO Films with BZO Nanorods"
        },
        {
         "title": "Rotor position estimator using non-linear observer of surface permanent magnet synchronous motor"
        },
        {
         "title": "Improved economic viability of integrated biogas energy and compost production for sustainable palm oil mill management"
        },
        {
         "title": "Capacitance property of carbon material derived from starch mixed with guanidine phosphate as electrochemical capacitor"
        },
        {
         "title": "A New Control Strategy for Power Supply on Chip Using Parallel Connected DC-DC Converters"
        },
        {
         "title": "Strong first order S-ROCK methods for stochastic differential equations"
        },
        {
         "title": "Aerodynamic characteristics of compulsively-inflated paraglider for Mars exploration"
        },
        {
         "title": "Tissue Visualization Using X-Ray Dark-Field Imaging towards Pathological Goal"
        },
        {
         "title": "Cross Section Enhancement in pd Reactions at Higher Energy"
        },
        {
         "title": "Effect of electrochemical treatment in H2SO4 aqueous solution on carbon material derived from cellulose with added guanidine phosphate"
        },
        {
         "title": "Performance Evaluation of Transmission Order Control on Relay Nodes in Multi-hop Wireless Networks"
        },
        {
         "title": "Critical Current Characteristics and Flux Pinning in Fe-Based Pnictide Superconductor"
        },
        {
         "title": "Abstract"
        },
        {
         "title": "Preparation and characterization of sputtered aluminum and gallium co-doped ZnO films as conductive substrates in dye-sensitized solar cells"
        },
        {
         "title": "Investigation of pressure-induced magnetic transitions in CoxFe3−xO4 spinels"
        },
        {
         "title": "A Reich-type convergence theorem for generalized nonexpansive mappings in uniformly convex Banach spaces"
        },
        {
         "title": "Reconfigurable Fault Tolerant Avionics System"
        },
        {
         "title": "Vector analyzing powers of the deuteron-proton elastic scattering and breakup at 100 MeV"
        },
        {
         "title": "Exploring social context from buzz marketing site - Community mapping based on tree edit distance -"
        },
        {
         "title": "Effect of extended π-conjugation on photovoltaic performance of dye sensitized solar cells based on unsymmetrical squaraine dyes"
        },
        {
         "title": "Sustainable production of polyhydroxyalkanoates from renewable oil-palm biomass"
        },
        {
         "title": "Flux module decomposition for parameter estimation in a multiple-feedback loop model of biochemical networks"
        },
        {
         "title": "Crystal growth and characterization of calcium metaborate scintillators"
        },
        {
         "title": "Translationally Invariant Single Particle Picture of the Three-Nucleon System"
        },
        {
         "title": "Small carry-on impactor of Hayabusa2 mission"
        },
        {
         "title": "Effect of acidic condition on the metabolic regulation of Escherichia coli and its phoB mutant"
        },
        {
         "title": "Computational vaccinology and the ICoVax 2012 workshop"
        },
        {
         "title": "Giant Magnetoresistance Effect in the Metal–Insulator Transition of Pyrochlore Oxide Nd\n                    2\n                    Ir\n                    2\n                    O\n                    7"
        },
        {
         "title": "Translocation of Copolymers through a Nanopore"
        },
        {
         "title": "Self-referential holography and its applications to data storage and phase-to-intensity conversion."
        },
        {
         "title": "Small open reading frames associated with morphogenesis are hidden in plant genomes"
        },
        {
         "title": "Field tests and indoor emulation of distributed autonomous multi-hop vehicle-to-vehicle communications over TV white space"
        },
        {
         "title": "Partial discharges of small-air-gap in cast-resin insulation system"
        },
        {
         "title": "Neuroprotective effects of focal brain cooling on photochemically-induced cerebral infarction in rats: Analysis from a neurophysiological perspective"
        },
        {
         "title": "Improvement of visible light responsivity of rutile TiO2 nanorods by site-selective modification of iron(III) ion on newly exposed faces formed by chemical etching treatment"
        },
        {
         "title": "Role of Simulation Technology for the Progress in Power Devices and Their Applications"
        },
        {
         "title": "Counter-rotating type pump-turbine unit cooperating with wind power unit"
        },
        {
         "title": "Lyapunov Technique and Backstepping for Nonlinear Neutral Systems"
        },
        {
         "title": "Purification and characterization of malate:quinone oxidoreductase from thermophilic Bacillus sp. PS3"
        },
        {
         "title": "Effects of nanofiller materials on the dielectric properties of epoxy nanocomposites"
        },
        {
         "title": "A model for estimating agglomerate sizes of non-magnetic nanoparticles in magnetic fluidized beds"
        },
        {
         "title": "Development of a heme sensor using fluorescently labeled heme oxygenase-1"
        },
        {
         "title": "IGBT scaling principle toward CMOS compatible wafer processes"
        },
        {
         "title": "Modeling of Soft-Switching Losses of IGBTs in High-Power High-Efficiency Dual-Active-Bridge DC/DC Converters"
        },
        {
         "title": "Identification of novel antimycobacterial chemical agents through the in silico multi-conformational structure-based drug screening of a large-scale chemical library"
        },
        {
         "title": "Special Issue on Computational Intelligence in Computer Vision and Image Processing [Guest Editorial]"
        },
        {
         "title": "ABSTRACT"
        },
        {
         "title": "Skin accumulation and penetration of a hydrophilic compound by a novel gemini surfactant, sodium dilauramidoglutamide lysine"
        },
        {
         "title": "Formulation of an effective interaction in terms of renormalized vertices and propagators"
        },
        {
         "title": "Enzymatic Saccharification of Oil Palm Mesocarp Fiber (OPMF) Treated with Superheated Steam"
        },
        {
         "title": "Theory of liquid crystalline micelles."
        },
        {
         "title": "Development of a Portable Taste Sensor with a Lipid/Polymer Membrane"
        },
        {
         "title": "300V direct drive vacuum arc thruster for nano-satellite"
        },
        {
         "title": "Numerical Analysis of Spinning Detonation Dependency on Initial Pressure Using AUSMDV Scheme"
        },
        {
         "title": "On-Orbit Data Analysis of High Voltage Technology Demonstration Satellite HORYU-II"
        },
        {
         "title": "Oral Cancer Diagnosis via a Ferrocenylnaphthalene Diimide–Based Electrochemical Telomerase Assay"
        },
        {
         "title": "High critical current density and its magnetic fields dependence in (Sm,Eu,Gd)Ba2Cu3Oy films by using multiple targets"
        },
        {
         "title": "Critical current densities of Sr0.6K0.4Fe2As2 superconductors estimated from AC susceptibilities"
        },
        {
         "title": "Performance improvement of a tin(II) dioxide-modified electrode for the dye-sensitized solar cell by the addition of zinc(II) oxide and niobium(V) oxide"
        },
        {
         "title": "Glutathione S‐transferase π complexes with and stimulates Na+,K+‐ATPase"
        },
        {
         "title": "Maximum Torque per Ampere (MTPA) Control of an IPM Machine Based on Signal Injection Considering Inductance Saturation"
        },
        {
         "title": "Molecular docking analysis of 2009-H1N1 and 2004-H5N1 influenza virus HLA-B*4405-restricted HA epitope candidates: implications for TCR cross-recognition and vaccine development"
        },
        {
         "title": "First-principles study on electronic structure and optical properties of Ca4Bi6O13 crystal"
        },
        {
         "title": "An efficient handover decision method based on frame retransmission and data rate for multi-rate WLANs"
        },
        {
         "title": "Spin-Stripe Density Varies Linearly With the Hole Content in Single-Layer Bi2+xSr2-xCuO6+y Cuprate Superconductors"
        },
        {
         "title": "Dynamic behavior of the vortex ring formed on a butterfly wing"
        },
        {
         "title": "Transverse wave generation mechanism in rotating detonation"
        },
        {
         "title": "ALL-IN-ONE MICROFLUIDIC DEVICE FOR MICROVASCULAR CONNECTION"
        },
        {
         "title": "ESP-index: A compressed index based on edit-sensitive parsing"
        },
        {
         "title": "Seasonal Infectious Disease Spread Prediction Using Matrix Decomposition Method"
        },
        {
         "title": "Revisiting the IISS Small‐Gain Theorem through Transient Plus ISS Small‐Gain Regulation"
        },
        {
         "title": "Co-production of 3-hydroxypropionic acid and 1,3-propanediol by Klebseilla pneumoniae expressing aldH under microaerobic conditions"
        },
        {
         "title": "Model of estimating nano-particle agglomerate sizes in a vibro-fluidized bed"
        },
        {
         "title": "Distributed Autonomous Multi-Hop Vehicle-to-Vehicle Communications over TV White Space"
        },
        {
         "title": "A 19 nm 112.8 mm2 64 Gb Multi-Level Flash Memory with 400 Mbit/sec/pin 1.8 V Toggle Mode Interface"
        },
        {
         "title": "Two-dimensional numerical simulation on galloping detonation in a narrow channel"
        },
        {
         "title": "Abstract"
        },
        {
         "title": "On Guaranteeing Capture Safety in At-Speed Scan Testing With Broadcast-Scan-Based Test Compression"
        },
        {
         "title": "1P1-A11 Development of an Fast Moving Soccer Robot for RoboCup Middle size league(RoboCup and Robot Contest)"
        },
        {
         "title": "J024062 3D Particle Simulation on Cancer Growth and Angiogenesis : Study on Necrosis"
        },
        {
         "title": "510 Performance Validation of Optimal Airfoils for Low Reynolds Number Flow Using Variable-pressure Wind Tunnel"
        },
        {
         "title": "507 Evaluation of a Prototype INS/GPS/ADS Hybrid Navigation System by Flight Test"
        },
        {
         "title": "1A2-M06 Development of Inverse Kinematics of Hyper Redundant Robot arms(Evolution and Learning for Robotics (1))"
        },
        {
         "title": "1033 Performance and Flow condition of Tandem Wind Rotors"
        },
        {
         "title": "511 Aerodynamic Characteristics of Two Dimensional Wings in Low Reynolds Number Flow Using Variable Pressure Wind Tunnel"
        },
        {
         "title": "Collision-Detecting Device for Omnidirectional Electric Wheelchair"
        },
        {
         "title": "J027042 Computational Study of Fluid Added Mass Effect on Insect Flapping Flight"
        },
        {
         "title": "0431 Studies on Loss Characteristics of Automotive Torque Converter"
        },
        {
         "title": "Non-deterministic Information in Rough Sets: A Survey and Perspective"
        },
        {
         "title": "Human T-Lymphotropic Virus Type-I-associated Myelopathytropical Spastic Paraparesis"
        },
        {
         "title": "0626 Vortex ring developed over a butterfly wing and in wake field and its dynamic lift"
        },
        {
         "title": "Multi-dynamics Learning Algorithm Based on SOM2"
        },
        {
         "title": "Rotation Matrix Estimation Between Non-Corresponding 3-D Point Sets"
        },
        {
         "title": "1119 Effect of Heating Condition on Residual Stress During Quenching Process in Composite Roll"
        },
        {
         "title": "1106 Production and performance evaluation of cryogenic pump"
        },
        {
         "title": "Adult T-Cell Leukemia"
        },
        {
         "title": "3B01 Investigation of the condition which occurrs antagonist inhibition during passive motion in order to expand the range of motion in the hip"
        },
        {
         "title": "21210 Study on slurry degradation factors during Cu-CMP"
        },
        {
         "title": "3I3 Experimental validation of an adjustment function of phase difference for control of a snake-like robot"
        },
        {
         "title": "1A2-F07 Development of a HILS System for Flying Robot Control and Its Application to Control System Design(Aerial Robot and Mechatronics (2))"
        },
        {
         "title": "A36 Suction force to ship-hull and cleaning ability of underwater ship-hull cleaning robot"
        },
        {
         "title": "1101 Study of Acoustic Resonance Phenomena Including Sound Source Position"
        },
        {
         "title": "Self-Organization of Shape Space by the Higher-Rank SOM-Topology-Free Shape Space Method"
        },
        {
         "title": "E131 Thermal Radiation Properties of the Surface Modified Micro-particle Array"
        },
        {
         "title": "110 Measurements of In-Plane Thermal Conductivities of Si Thin Films by Periodic Laser Heating"
        },
        {
         "title": "Hardware Index to Set Partition Converter"
        },
        {
         "title": "Design of freely configurable safety light curtain using hemispherical mirrors"
        },
        {
         "title": "1010 Performances of Floating Type Ocean Wave Power Station"
        },
        {
         "title": "C132 Microbubble Emission Boiling and Microlayer Model"
        },
        {
         "title": "Evaluation of Physical and Optical Properties on Functionally Graded Piping Joint Made from Cu and Austenitic Stainless Steel Powder"
        },
        {
         "title": "7AM2-D-7 Remote Residual Chlorine Measurement by Using Plug & Flow-Type Water Quality Monitor"
        },
        {
         "title": "Facile preparation and characterization of luminescent polystyrene composite microspheres"
        },
        {
         "title": "Stability of Stationary Solutions and Existence of Oscillating Solutions to a Chemotaxis System in High Dimensional Spaces"
        },
        {
         "title": "1001 Development of Counter-Rotating Type Tidal Stream Power Unit"
        },
        {
         "title": "Thermodynamic Analysis of the Mg–RE–Zn (RE = Y, La) Ternary hcp Phase Using the Cluster Variation Method"
        },
        {
         "title": "1A1-A08 Study on slope environment climbing for a snake-like robot(Bio-Mimetics and Bio-Mechatronics (1))"
        },
        {
         "title": "Distance- and Direction-Dependent Synaptic Weight Distributions for Directional Spike Propagation in a Recurrent Network: Self-actuated Shutdown of Synaptic Plasticity"
        },
        {
         "title": "21211 Study on mechanism of polishing pad surface dressing"
        },
        {
         "title": "First application of bis(oxalate)borate ionic liquids (ILBOBs) in high-performance dye -sensitized solar cells"
        },
        {
         "title": "1032 Field Test of Intelligent Wind Power Unit"
        },
        {
         "title": "Design of bone-integrating organic-inorganic composite suitable for bone repair."
        },
        {
         "title": "Designing a Metal Hydride Actuator with Human-Compatible Softness and High Power-to-Weight Ratio for Future Quality-of-Life Technologies"
        },
        {
         "title": "HTLV, Cellular Transcription"
        },
        {
         "title": "Development of Gait Training Robot with Ball Wheel Drive Mechanism"
        },
        {
         "title": "Rough Non-deterministic Information Analysis: Foundations and Its Perspective in Machine Learning"
        },
        {
         "title": "A Method to Deal with Prospective Risks at Home in Robotic Observations by Using a Brain-Inspired Model"
        },
        {
         "title": "1A1-A10 Miniaturization of magnetically driven flapping-wing microrobot(Bio-Mimetics and Bio-Mechatronics (1))"
        },
        {
         "title": "2504 Particle Simulation on alveolar bone regeneration and angiogenesis : Immature bone formation"
        },
        {
         "title": "Multimodal Medical Image Fusion in Extended Contourlet Transform Domain"
        },
        {
         "title": "509 Development of Flash type Air-data Sensing System and Supersonic Airflow Generator"
        },
        {
         "title": "Improvement of Bowtie UHF Antenna Model for Detecting PD in GIS"
        },
        {
         "title": "2512 Performance evaluation on a projection method for the interaction of an incompressible fluid and an elastic structure"
        },
        {
         "title": "0612 Vortex flows around moving body"
        },
        {
         "title": "Polynomial Delay and Space Discovery of Connected and Acyclic Sub-hypergraphs in a Hypergraph"
        },
        {
         "title": "Th1 Response"
        },
        {
         "title": "1001 Study on the efficiency of the SiO2-CMP using microbubble"
        },
        {
         "title": "307 Particle Simulation on Hair Formation Process"
        },
        {
         "title": "Metabolic Regulation of a Bacterial Cell System with Emphasis on Escherichia coli Metabolism"
        },
        {
         "title": "Preparation and in vitro apatite-forming ability of porous and non-porous titania microspheres"
        },
        {
         "title": "2A2-N07 Development of Marine Life Sampling Device : Components and motion simulation for sampling device(Underwater Robot and Mechatronics)"
        },
        {
         "title": "207 A study about interactive musical editing system for automatic piano : Inferring performance expression by considering tempos"
        },
        {
         "title": "D25 Adaptive Attitude Control of a Winged Rocket Using Quaternion"
        },
        {
         "title": "Viral Respiratory Tract Infections"
        },
        {
         "title": "2A2-N01 An Object Measurement of a Stereo Vision System for UVMS Using Particle Filter(Underwater Robot and Mechatronics)"
        },
        {
         "title": "The Investigation of Bioactivity and Mechanical Properties of Glass Ionomer Cements Prepared from Al2O3-SiO2 Glass and Poly(γ-glutamic acid)"
        },
        {
         "title": "310 Analysis of contact mechanism of articular cartilage on hip joint after hemiarthroplasty using finite element method"
        },
        {
         "title": "Transformation Process of Weld Heat Affected Zone in Solution Strengthened Ferritic Ductile Cast Iron"
        },
        {
         "title": "Fundamental Study for Assessment for Human Injury by Collision and Fall"
        },
        {
         "title": "Advances in Creep Damage/Life Assessment Technology for Creep Strength Enhanced Ferritic Steels"
        },
        {
         "title": "Experiment Verification of Position Measurement for Underwater Mobile Robot Using Monocular Camera"
        },
        {
         "title": "2P195 Structural analysis of primary cilia in human follicle dermal papilla cells by electron microscopy(12. Cell biology,Poster)"
        },
        {
         "title": "Athletic Identity and Social Supports in Relation to Formation of Sports Commitment"
        },
        {
         "title": "Dye Sensitized Solar Cells Consisting of Metallophthalocyanine Axially Anchored on Metal Oxide Nanoparticles through Metal-O-Metal Linkages-Difference in Photovoltaic Performances between TiO2 and SnO2 Electrode"
        },
        {
         "title": "2P011 Comparative survey of image processing packages for electron computed tomography(01A. Protein: Structure,Poster)"
        },
        {
         "title": "1110 Examination of Fatigue Strength Experiment for Bolts and Nuts Which Have Slightly Different Pitches : Analysis and Experiment"
        },
        {
         "title": "0633 Cryogenic Hydrogen Jet in Cross-flow under Supercritical Pressure"
        },
        {
         "title": "Transcription Factors and DNA Elements in Eukaryote"
        },
        {
         "title": "Effect of Nitrite Ions on Steel Corrosion Induced by Chloride or Sulfate Ions"
        },
        {
         "title": "611 Aerodynamic Characteristics of Three-dimensional Wings by Wake Integration Method using Variable-pressure Wind Tunnel"
        },
        {
         "title": "1A1-I01 Human body damage at the time of the dummy collision and fall using a wheelchair(NEDO Project for Practical Applications of Service Robots)"
        },
        {
         "title": "109 Printed bismuth telluride thin films and those thermoelectric properties"
        },
        {
         "title": "1104 Wide gap magnetic support system by superconducting coil (4)"
        },
        {
         "title": "Fully-Online Grammar Compression"
        },
        {
         "title": "1C04 Development of Microcapsules for cell cultures by shock waves and gas bubbles"
        },
        {
         "title": "S022023 Study on guidewire simulator for intravacular surgery : Improvement of simulation model based on experimental results"
        },
        {
         "title": "A Global-Local Approach to Saliency Detection"
        },
        {
         "title": "713 Investigation of Influence of Pressure on Two-dimensional Supercritical Jet Flows Using Numerical Simulation"
        },
        {
         "title": "21209 Study on Material Removal Mechanism in CMP Process : Fine Particle's Behavior and Function in Slurry"
        },
        {
         "title": "Triggered Initiation of Retrograde Wave Propagation in a Cable of FitzHugh-Nagumo Cells"
        },
        {
         "title": "Superconducting Properties and Microstructures of BaSnO3-doped Sm1+xBa2-xCu3Oy Thin Films in a Magnetic Field"
        },
        {
         "title": "5AM2-D-3 Preparation of a SAM Patterned Surface Using Vacuum Ultraviolet Light"
        },
        {
         "title": "2P012 Possibility of metallothionein Labelling for CLEM method(01A. Protein: Structure,Poster)"
        },
        {
         "title": "Tracing Advanced Persistent Threats in Networked Systems"
        },
        {
         "title": "20201 Characterization of Damage Behavior in CFRP candidate for High Accuracy Deployable Antenna Reflector subjected to Thermal Shock"
        },
        {
         "title": "716 Effects of Equation of State on Shock Tube Simulation under Supercritical Condition"
        },
        {
         "title": "Apatite mineralization behavior on polyglutamic acid hydrogels in aqueous condition: effects of molecular weight."
        },
        {
         "title": "Space Dust Impacts Detector Development for the Evaluation of Ejecta"
        },
        {
         "title": "Improved Properties of Poly(3-hydroxybutyrate-co-3-hydroxyvalerate) Produced by Comamonas sp. EB172 Utilizing Volatile Fatty Acids by Regulating the Nitrogen Source"
        },
        {
         "title": "Brain-Inspired e-Learning System Using EEG"
        },
        {
         "title": "0204 Flow characteristics of pipe with side holes"
        },
        {
         "title": "Capturing Nursing Interactions from Mobile Sensor Data and In-Room Sensors"
        },
        {
         "title": "1A1-I04 Relations of a Way of Falling and the Anatomical Severity(NEDO Project for Practical Applications of Service Robots)"
        },
        {
         "title": "208 Development of an autonomous-drive personal robot : Extraction of features in each angle of the object"
        },
        {
         "title": "A Long-term Data Collection System for Life Pattern Sensor"
        },
        {
         "title": "Pro-Inflammatory Mediators"
        },
        {
         "title": "1015 Power Stabilization System with Counter-Rotating Type Pump Turbine Unit for Renewable Energies"
        },
        {
         "title": "612 Ultra-Low Reynolds Number Characteristics of Wings and Flow Visualization in Towing Fluid Tank"
        },
        {
         "title": "名誉会員推挙にあたって"
        },
        {
         "title": "4B2 The fatigue strength improvement of the high strength bolt/nut joint"
        },
        {
         "title": "Effect of Autoclave and Hot Water Treatments on Surface Structure and In Vitro Apatite-Forming Ability of NaOH- and Heat-Treated Bioactive Titanium Metal"
        },
        {
         "title": "Biomineralization on chemically synthesized collagen containing immobilized poly-γ-glutamic acid"
        },
        {
         "title": "1101 Rotational-Drive Characteristics of One Axis Controlled Magnetic Bearing"
        },
        {
         "title": "1E12 Evaluation of the deformational and histological characteristics of dissecting ascending aortic aneurysms"
        },
        {
         "title": "Cost-effective and morphology-controllable niobium diselenides for highly efficient counter electrodes of dye -sensitized solar cells"
        },
        {
         "title": "Deltaretroviridae"
        },
        {
         "title": "1A1-G05 Development of Building Block Type Flying Observation Robot(Aerial Robot and Mechatronics (1))"
        },
        {
         "title": "403 Effect of Detachment and Attachment of Top Foil on Predicted Stability Threshold Speed of Hydrodynamically Air-Lubricated Foil Journal Bearings : Effect of Bearing Design Variables of Model Bearings with Excessive Static Friction Force Considered (Part 3)"
        },
        {
         "title": "A Comparative Study in the Bump Hunting between the Tree-GA and the PRIM"
        },
        {
         "title": "Hardware/Software Complex System for Neural Network Implementation"
        },
        {
         "title": "Performance evaluation and chemical recyclability of a polyethylene/poly(3-hydroxybutyrate- co -3-hydroxyvalerate) blend for sustainable packaging"
        },
        {
         "title": "Dependence of Memory Effects on the Stop Temperature and the Probing Field in a Ceramic YBCO Superconductor"
        },
        {
         "title": "Security Enhancement of Out-of-band Remote Management in IaaS Clouds"
        },
        {
         "title": "2D14 Formation of a single metallized DNA nanowire in a nanochannel"
        },
        {
         "title": "5PM3-PMN-017 Strain and nanosize effects on lattice thermal conductivity in bismuth telluride based thin films"
        },
        {
         "title": "0901 Numerical Study of Shock Interaction over Compression Corner with 30 deg. in Hypersonic Flow : Unsteady Characteristics of Flow Field."
        },
        {
         "title": "2516 3-D micro-analysis of electric contact resistance for spot welding"
        },
        {
         "title": "Concurrent Connection of Embryonic Chick Heart Using a Microfluidic Device for Organ-Explant-Chip"
        },
        {
         "title": "Polycentric Framework for Robotic Kinematics"
        },
        {
         "title": "212 Collaborative education of Robotics-mechatronics and Design in \"Future Dream! Robotics and Mechatronics Design Competition\""
        },
        {
         "title": "Development of Mat Sensor to Distinguish between Wheelchair and Person"
        },
        {
         "title": "2A2-O06 Development of the bottom sampler for autonomous underwater vehicle(Underwater Robot and Mechatronics)"
        },
        {
         "title": "Structural Design for Ceramics Rollers Used in the Heating Furnace"
        },
        {
         "title": "Huge suppression of charge recombination in P3HT–ZnO organic–inorganic hybrid solar cells by locating dyes at the ZnO/P3HT interfaces"
        },
        {
         "title": "Thermodynamic Analysis of the Mg-Y-Zn Ternary System Using the Cluster Variation Method"
        },
        {
         "title": "Detection of underwater objects based on machine learning"
        },
        {
         "title": "J044012 Evaluation of Mechanical Properties of Shape-Memory Polymers Sheets"
        },
        {
         "title": "3D Organic Shape Correspondence Using Spherical Conformal Mapping"
        },
        {
         "title": "SUDOKU Puzzle: The Neurodynamics of Intelligence to Choose the Right Solution from Many Possible Options in a Hypothetical Reasoning"
        },
        {
         "title": "Antigenic Drift and Shift"
        },
        {
         "title": "On-chip microrobot for investigating the response of aquatic microorganisms to mechanical stimulation"
        },
        {
         "title": "Rough Set-Based Information Dilution by Non-deterministic Information"
        },
        {
         "title": "110 Sound Insulation Properties of Cubic Cover Using Acoustic/Structure Coupled Analysis"
        },
        {
         "title": "A Succinct Grammar Compression"
        },
        {
         "title": "1F12 Study on guidewire simulator for intravacular surgery"
        },
        {
         "title": "7AM2-C-4 Separation of cells with magnetic beads by micro channel"
        },
        {
         "title": "Notable catalytic activity of oxygen-vacancy-rich WO 2.72 nanorod bundles as counter electrodes for dye -sensitized solar cells"
        },
        {
         "title": "Portable Health Clinic: A Pervasive Way to Serve the Unreached Community for Preventive Healthcare"
        },
        {
         "title": "2A2-N04 Verification of lifting force of underwater robot using the passivity posture maintenance mechanism for a thruster(Underwater Robot and Mechatronics)"
        },
        {
         "title": "Pattern Extraction from Graphs and Beyond"
        },
        {
         "title": "Text-Prompted Multistep Speaker Verification Using Gibbs-Distribution-Based Extended Bayesian Inference for Reducing Verification Errors"
        },
        {
         "title": "312 Study of Structural Joint of Ceramics Rollers Used in the Heating Furnace"
        },
        {
         "title": "An Overview of the getRNIA System for Non-deterministic Data"
        },
        {
         "title": "Study on Dissolved Gas Due Tue Thermally Degraded Insulating Paper in Transformer Oil"
        },
        {
         "title": "Organic–Inorganic Composites Designed for Biomedical Applications"
        },
        {
         "title": "3E03 Evaluation of biphasic mechanical characteristics of articular cartilage (Part2)"
        },
        {
         "title": "Theoretical Analysis of Phase Resetting on Matsuoka Oscillators"
        },
        {
         "title": "Respiratory Tract, Upper and Lower"
        },
        {
         "title": "Highly efficient telluride electrocatalysts for use as Pt-free counter electrodes in dye-sensitized solar cells"
        },
        {
         "title": "206 Design of robotic behavior that imitates animal consciousness : Development of Consciousness-based Architecture as the structure of human's brain"
        },
        {
         "title": "Dynamics of Vortices Shed from an Elastic Heaving Thin Film by Fluid–Structure Interaction Simulation"
        },
        {
         "title": "How Difficult Is It for Robots to Maintain Home Safety? – A Brain-Inspired Robotics Point of View"
        },
        {
         "title": "1A1-G10 Effects of Falling Conditions on Injury Estimation by Collision and Fall using Life Support Robot(NEDO Project for Practical Applications of Service Robots)"
        },
        {
         "title": "506 Space Environment Durability and Outgassing of Structural Materials of Mars Exploration Aircraft"
        },
        {
         "title": "317 Anti-loosening Performance of Bolts and Nuts Which Have Sliehtlv Different Pitches"
        },
        {
         "title": "0706 Velocity Gradient in the Vicinity of the wall of Elastic Moving Airfoils with Bending Stiffness and Their Dynamic Fluid Forces"
        },
        {
         "title": "D-2-2 An Analysis and Verification of Moisture Transportation within Paper in the Fusing Process of Electrophotography"
        },
        {
         "title": "318 Debonding Strength Evaluation Based on the Intensity of Singular Stress Fields for Single Lap Joint"
        },
        {
         "title": "A35 Development of a robot-hand to capture benthic species"
        },
        {
         "title": "5PM3-PMN-015 Lattice Thermal Conductivity of Nanostructured Bismuth Telluride"
        },
        {
         "title": "ナノ微粒子支援型質量分析法による残留農薬検出法"
        },
        {
         "title": "108 Numerical Analysis of Thermal Radiation Properties of Micro-structures of Self-assembled Silica Particles"
        },
        {
         "title": "Interfacial Microstructure and Strength of Aluminum Alloys/Steel Spot Welded Joints"
        },
        {
         "title": "PastePost: A Web Interface for Editing Instructions with Captured Images"
        },
        {
         "title": "1P1-A10 Development of Omnidirectional Wheel Drive Robot for RoboCup@Home(RoboCup and Robot Contest)"
        },
        {
         "title": "Experimental Analysis of Moments of Predictive Deviations as Ensemble Diversity Measures for Model Selection in Time Series Prediction"
        },
        {
         "title": "Classification of gastric cancer subtypes using ICA, MLR and Bayesian network."
        },
        {
         "title": "2C07 Influence of the shear rate on thrombus formation rate in the various blood flows"
        },
        {
         "title": "Damage Analysis in Koizumi Area due to Tsunami Triggered by The 2011 off the Pacific coast of Tohoku Earthquake"
        },
        {
         "title": "Translating Nondeterministic Functional Language Based on Attribute Grammars into Java"
        },
        {
         "title": "0707 Growing and Release Process of Vortices Located near Moving Wall Surface"
        },
        {
         "title": "1A1-F05 Fabrication of circular orbit test equipment by flapping motion(Aerial Robot and Mechatronics (1))"
        },
        {
         "title": "505 Prototype Manufacturing of Fluororesin-lined Composite Liquid Oxygen Tank for Rocket"
        },
        {
         "title": "Complexity of Finding Maximum Regular Induced Subgraphs with Prescribed Degree"
        },
        {
         "title": "1103 Development of the superconductivity linear pump for a cryogenic-liquid transfer"
        },
        {
         "title": "2513 Finite element analysis for interaction for structural : fluidic and electrostatic fields in MEMS structural components"
        },
        {
         "title": "313 Simulation of Coming out of the Shaft from the Ceramics Sleeve for the Shrink Fitted Ceramics Rollers"
        },
        {
         "title": "Koch’s Postulates"
        },
        {
         "title": "G142 Fabrication of Nanostructured Thin Films by Micro-Phase Separation and Their Thermal Conductivities"
        },
        {
         "title": "Seasonal Rainfall Prediction Using the Matrix Decomposition Method"
        },
        {
         "title": "Theta-Burst Stimulation Induces Long-Term Potentiation During Beta Oscillation, but Not During Epileptic Discharges, in Rat Hippocampal Slices"
        },
        {
         "title": "Economical, green and dual-function pyridyl iodides as electrolyte components for high efficiency dye -sensitized solar cells"
        },
        {
         "title": "Utility of iISS in Composing Lyapunov Functions for Interconnections"
        },
        {
         "title": "Controller Design Using Coefficient Diagram Methods for Matrix Converter Based Unified Power Flow Controllers"
        },
        {
         "title": "Faster Algorithms for Tree Similarity Based on Compressed Enumeration of Bounded-Sized Ordered Subtrees"
        },
        {
         "title": "Special Issue on Workshop on Advances in Parallel and Distributed Computational Models 2012"
        },
        {
         "title": "A proper performance evaluation system that summarizes code placement effects"
        },
        {
         "title": "Parallel, distributed, and differential processing system for human activity sensing flows"
        },
        {
         "title": "2A2-O07 Development of High-Speed Sampling Devices for Capturing Water Creatures(Underwater Robot and Mechatronics)"
        },
        {
         "title": "J028014 Use of woody biomass in the agriculture : Field tests in the greenhouse"
        },
        {
         "title": "Driving Force of a Neutrophile in Liquid By Concentration Gradient For Developing DDS Particles and Capsules with Propulsion"
        },
        {
         "title": "An Architecture for IPv6 Lookup Using Parallel Index Generation Units"
        },
        {
         "title": "J025035 Time-Series Morphological Change of Cells under High-Temperature Stress : Real-Time Three-Dimensional Imaging by Digital Holographic Microscopy"
        },
        {
         "title": "Design and Evaluation of Training System for Numerical Calculation Using Questions in SPI2"
        },
        {
         "title": "0440 Flow visualization of internal-flow for valve-less micro-pump"
        },
        {
         "title": "Influence of Pyrophosphate Ions on Tin-Nickel Alloy Deposition from Pyrophosphate-Glycine Complex Baths"
        },
        {
         "title": "Recent Status of ASME Code on Creep Strength Enhanced Ferritic Steels"
        },
        {
         "title": "1C03 Development of microcapsules including bubbles and the disintegration rate for shock wave DDS"
        },
        {
         "title": "219 Student Formula Japan Competition in Kyushu Institute of Technology"
        },
        {
         "title": "A225 Prediction of thrombus formation on pipe orifice flow by CFD analysis"
        },
        {
         "title": "Character motion control interface with hand manipulation inspired by puppet mechanism"
        },
        {
         "title": "SiCN Film Quality Characterization by Etch Pit Measurement Method"
        },
        {
         "title": "Measurement of Atomic-Oxygen Flux Distribution"
        },
        {
         "title": "Development of a Chest X-ray Examination Support System for Foreigners Using a Personal Digital Assistant"
        },
        {
         "title": "Th2 Response"
        },
        {
         "title": "3P148 Determination of the location of chlamydomonas outer arm dynein LC4 by cryo-EM and metallothionein labelling(11. Molecular motor,Poster)"
        },
        {
         "title": "Performance Improvement via Bagging Competitive Associative Nets for Multiobjective Robust Controller Using Difference Signals"
        },
        {
         "title": "Parameterized Digital Hardware Design of Pulse-Coupled Phase Oscillator Model toward Spike-Based Computing"
        },
        {
         "title": "Restroom Human Detection Using One-Dimensional Brightness Distribution Sensor"
        },
        {
         "title": "308 Numerical simulation of liver cell proliferation : basic model"
        },
        {
         "title": "2515 Elasto-plastic contact, electric current and thermal conduction triply coupled finite element analysis of resistance spot welding with steel sheets gap"
        },
        {
         "title": "Improvement Research of Shoe-Type Measurement Device for a Walking Rehabilitation Support System"
        },
        {
         "title": "A New Insight into the Main Metabolic Regulation of Escherichia coli Based on Systems Biology Approach"
        },
        {
         "title": "Obstacles Extraction Using a Moving Camera"
        },
        {
         "title": "Feasibility of Standardized Ejecta Evaluation for Spacecraft Surface Materials"
        }
       ]
      },
      "text/plain": [
       "<dimcli.Result object #4499708168: [('_stats', 1), ('publications', 3989)]>"
      ]
     },
     "execution_count": 2,
     "metadata": {
      "application/json": {
       "expanded": false,
       "root": "root"
      }
     },
     "output_type": "execute_result"
    }
   ],
   "source": [
    "%%dsl_query_loop\n",
    "search publications\n",
    "where year in [2013:2018] and research_orgs=\"grid.258806.1\"\n",
    "return publications[title]"
   ]
  },
  {
   "cell_type": "code",
   "execution_count": 3,
   "metadata": {},
   "outputs": [
    {
     "data": {
      "text/plain": [
       "{'title': 'The interparticle distance limit for multiple exciton dissociation in PbS quantum dot solid films'}"
      ]
     },
     "execution_count": 3,
     "metadata": {},
     "output_type": "execute_result"
    }
   ],
   "source": [
    "_['publications'][0]"
   ]
  },
  {
   "cell_type": "code",
   "execution_count": null,
   "metadata": {},
   "outputs": [],
   "source": []
  }
 ],
 "metadata": {
  "kernelspec": {
   "display_name": "Python 3",
   "language": "python",
   "name": "python3"
  },
  "language_info": {
   "codemirror_mode": {
    "name": "ipython",
    "version": 3
   },
   "file_extension": ".py",
   "mimetype": "text/x-python",
   "name": "python",
   "nbconvert_exporter": "python",
   "pygments_lexer": "ipython3",
   "version": "3.7.2"
  }
 },
 "nbformat": 4,
 "nbformat_minor": 2
}
