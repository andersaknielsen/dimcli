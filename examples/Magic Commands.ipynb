{
 "cells": [
  {
   "cell_type": "markdown",
   "metadata": {
    "slideshow": {
     "slide_type": "slide"
    }
   },
   "source": [
    "# Magic commands\n"
   ]
  },
  {
   "cell_type": "code",
   "execution_count": 4,
   "metadata": {},
   "outputs": [],
   "source": [
    "import dimcli\n",
    "dimcli.VERSION\n",
    "%dsl_login"
   ]
  },
  {
   "cell_type": "code",
   "execution_count": 2,
   "metadata": {},
   "outputs": [
    {
     "name": "stdout",
     "output_type": "stream",
     "text": [
      "You said: search publications\n",
      "where year in [2013:2018] and research_orgs=\"grid.258806.1\"\n",
      "return researchers\n",
      "\n",
      "Tot Results:  3988\n",
      "Researchers: 20\n",
      "---\n",
      "[1] Shuzi Shuzi Hayase (id: https://app.dimensions.ai/discover/publication?and_facet_researcher=ur.01055753603.27 )\n",
      "[2] Masayuki Hikita (id: https://app.dimensions.ai/discover/publication?and_facet_researcher=ur.011212042763.67 )\n",
      "[3] Ting-Li Ma (id: https://app.dimensions.ai/discover/publication?and_facet_researcher=ur.01144540527.52 )\n",
      "[4] M Kozako M Kozako (id: https://app.dimensions.ai/discover/publication?and_facet_researcher=ur.07644453127.11 )\n",
      "[5] Huimin Lu (id: https://app.dimensions.ai/discover/publication?and_facet_researcher=ur.016357156077.09 )\n",
      "---\n",
      "Tip: use 'show <number>' or show+Tab to see more options\n"
     ]
    },
    {
     "data": {
      "application/json": {
       "_stats": {
        "total_count": 3988
       },
       "researchers": [
        {
         "count": 138,
         "first_name": "Shuzi Shuzi",
         "id": "ur.01055753603.27",
         "last_name": "Hayase",
         "research_orgs": [
          "grid.258806.1",
          "grid.410825.a",
          "grid.266298.1",
          "grid.419082.6"
         ]
        },
        {
         "count": 105,
         "first_name": "Masayuki",
         "id": "ur.011212042763.67",
         "last_name": "Hikita",
         "research_orgs": [
          "grid.258806.1",
          "grid.27476.30",
          "grid.462727.2"
         ]
        },
        {
         "count": 102,
         "first_name": "Ting-Li",
         "id": "ur.01144540527.52",
         "last_name": "Ma",
         "research_orgs": [
          "grid.258806.1",
          "grid.30055.33",
          "grid.11135.37",
          "grid.443434.0"
         ]
        },
        {
         "count": 100,
         "first_name": "M Kozako M",
         "id": "ur.07644453127.11",
         "last_name": "Kozako",
         "research_orgs": [
          "grid.258806.1",
          "grid.471634.3",
          "grid.5290.e",
          "grid.4444.0",
          "grid.462727.2"
         ]
        },
        {
         "count": 91,
         "first_name": "Huimin",
         "id": "ur.016357156077.09",
         "last_name": "Lu",
         "orcid_id": [
          "0000-0001-9794-3221"
         ],
         "research_orgs": [
          "grid.258806.1",
          "grid.54432.34",
          "grid.454850.8",
          "grid.24516.34",
          "grid.271052.3",
          "grid.268415.c",
          "grid.9227.e",
          "grid.16821.3c"
         ]
        },
        {
         "count": 72,
         "first_name": "Takayuki",
         "id": "ur.014576745545.59",
         "last_name": "Yanagida",
         "orcid_id": [
          "0000-0002-4298-5886"
         ],
         "research_orgs": [
          "grid.258806.1",
          "grid.26999.3d",
          "grid.260493.a",
          "grid.19006.3e",
          "grid.445003.6",
          "grid.9707.9",
          "grid.450279.d",
          "grid.69566.3a"
         ]
        },
        {
         "count": 71,
         "first_name": "Kazuo",
         "id": "ur.010532502225.19",
         "last_name": "Ishii",
         "research_orgs": [
          "grid.258806.1",
          "grid.26999.3d",
          "grid.412586.c",
          "grid.471761.2"
         ]
        },
        {
         "count": 65,
         "first_name": "Shyam Sudhir",
         "id": "ur.011174241121.19",
         "last_name": "Pandey",
         "research_orgs": [
          "grid.258806.1",
          "grid.419701.a",
          "grid.419082.6"
         ]
        },
        {
         "count": 65,
         "first_name": "Hyoung-Seop",
         "id": "ur.012240303741.11",
         "last_name": "Kim",
         "research_orgs": [
          "grid.258806.1",
          "grid.268415.c"
         ]
        },
        {
         "count": 61,
         "first_name": "Yuhei",
         "id": "ur.0662411533.69",
         "last_name": "Ogomi",
         "research_orgs": [
          "grid.258806.1",
          "grid.266298.1",
          "grid.419082.6"
         ]
        },
        {
         "count": 60,
         "first_name": "Seiichi",
         "id": "ur.011567324032.03",
         "last_name": "Serikawa",
         "research_orgs": [
          "grid.258806.1",
          "grid.268415.c"
         ]
        },
        {
         "count": 59,
         "first_name": "Teruhisa",
         "id": "ur.014403617266.16",
         "last_name": "Ohno",
         "research_orgs": [
          "grid.258806.1",
          "grid.136593.b",
          "grid.177174.3",
          "grid.419082.6"
         ]
        },
        {
         "count": 56,
         "first_name": "Koichi",
         "id": "ur.010170714165.07",
         "last_name": "Yonemoto",
         "research_orgs": [
          "grid.258806.1"
         ]
        },
        {
         "count": 56,
         "first_name": "Nao-Aki",
         "id": "ur.012413075361.99",
         "last_name": "Noda",
         "research_orgs": [
          "grid.258806.1",
          "grid.177174.3"
         ]
        },
        {
         "count": 55,
         "first_name": "Hiroshi",
         "id": "ur.011713744411.27",
         "last_name": "Ochi",
         "research_orgs": [
          "grid.258806.1"
         ]
        },
        {
         "count": 55,
         "first_name": "Kaname",
         "id": "ur.014430116143.81",
         "last_name": "Matsumoto",
         "research_orgs": [
          "grid.258806.1",
          "grid.459529.6",
          "grid.258799.8",
          "grid.410817.b",
          "grid.419082.6"
         ]
        },
        {
         "count": 55,
         "first_name": "Yutaka",
         "id": "ur.015071076031.95",
         "last_name": "Fujimoto",
         "research_orgs": [
          "grid.258806.1",
          "grid.54432.34",
          "grid.260493.a",
          "grid.27476.30",
          "grid.69566.3a"
         ]
        },
        {
         "count": 54,
         "first_name": "Mengu",
         "id": "ur.013152112405.28",
         "last_name": "Cho",
         "research_orgs": [
          "grid.258806.1",
          "grid.26999.3d",
          "grid.31432.37",
          "grid.33224.34",
          "grid.59025.3b",
          "grid.116068.8"
         ]
        },
        {
         "count": 53,
         "first_name": "Nobuyuki",
         "id": "ur.010474674625.53",
         "last_name": "Tsuboi",
         "research_orgs": [
          "grid.258806.1",
          "grid.450279.d",
          "grid.26999.3d",
          "grid.411253.0",
          "grid.62167.34"
         ]
        },
        {
         "count": 53,
         "first_name": "Tamaki",
         "id": "ur.010512140067.57",
         "last_name": "Ura",
         "research_orgs": [
          "grid.258806.1",
          "grid.26999.3d",
          "grid.471888.a",
          "grid.482819.e",
          "grid.5333.6"
         ]
        }
       ]
      },
      "text/plain": [
       "<dimcli.dimensions.Result object>"
      ]
     },
     "execution_count": 2,
     "metadata": {
      "application/json": {
       "expanded": false,
       "root": "root"
      }
     },
     "output_type": "execute_result"
    }
   ],
   "source": [
    "%%dsl_query\n",
    "search publications\n",
    "where year in [2013:2018] and research_orgs=\"grid.258806.1\"\n",
    "return researchers"
   ]
  },
  {
   "cell_type": "code",
   "execution_count": 11,
   "metadata": {},
   "outputs": [],
   "source": [
    "data = _"
   ]
  },
  {
   "cell_type": "code",
   "execution_count": 13,
   "metadata": {},
   "outputs": [
    {
     "data": {
      "text/plain": [
       "[('_stats', 1), ('clinical_trials', 46691)]"
      ]
     },
     "execution_count": 13,
     "metadata": {},
     "output_type": "execute_result"
    }
   ],
   "source": [
    "data.keys_and_count()"
   ]
  },
  {
   "cell_type": "code",
   "execution_count": null,
   "metadata": {},
   "outputs": [],
   "source": [
    "data[0]"
   ]
  },
  {
   "cell_type": "code",
   "execution_count": null,
   "metadata": {},
   "outputs": [],
   "source": []
  }
 ],
 "metadata": {
  "kernelspec": {
   "display_name": "Python 3",
   "language": "python",
   "name": "python3"
  },
  "language_info": {
   "codemirror_mode": {
    "name": "ipython",
    "version": 3
   },
   "file_extension": ".py",
   "mimetype": "text/x-python",
   "name": "python",
   "nbconvert_exporter": "python",
   "pygments_lexer": "ipython3",
   "version": "3.7.2"
  }
 },
 "nbformat": 4,
 "nbformat_minor": 2
}
