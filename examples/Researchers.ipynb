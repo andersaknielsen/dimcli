{
 "cells": [
  {
   "cell_type": "markdown",
   "metadata": {
    "slideshow": {
     "slide_type": "slide"
    }
   },
   "source": [
    "# Researchers Queries \n",
    "For Noritaka san\n"
   ]
  },
  {
   "cell_type": "code",
   "execution_count": 1,
   "metadata": {},
   "outputs": [],
   "source": [
    "import dimcli\n",
    "dimcli.VERSION\n",
    "%dsl_login"
   ]
  },
  {
   "cell_type": "markdown",
   "metadata": {},
   "source": [
    "Approach: get all publications, for each get all researchers from a specific GRID affiliation, remove duplicates and return "
   ]
  },
  {
   "cell_type": "code",
   "execution_count": 2,
   "metadata": {},
   "outputs": [
    {
     "name": "stdout",
     "output_type": "stream",
     "text": [
      "You said: search publications\n",
      "where year in [2013:2018] and research_orgs=\"grid.258806.1\"\n",
      "return publications\n",
      "\n",
      "Tot Results:  3989\n",
      "Publications: 20\n",
      "---\n",
      "[1] The interparticle distance limit for multiple exciton dissociation in PbS quantum dot solid films (id: https://app.dimensions.ai/details/publication/pub.1110029901 )\n",
      "[2] Probabilistic guards: A mechanism for increasing the granularity of work-stealing programs (id: https://app.dimensions.ai/details/publication/pub.1105070481 )\n",
      "[3] Development of Organo-Dispersible Graphene Oxide via Pseudo-Surface Modification for Thermally Conductive Green Polymer Composites (id: https://app.dimensions.ai/details/publication/pub.1110885950 )\n",
      "[4] Nuclear Ab Initio Calculations with the Unitary-Model-Operator Approach (id: https://app.dimensions.ai/details/publication/pub.1110925389 )\n",
      "[5] Pilot Study of Visual and Quantitative Image Analysis of Facial Surface Asymmetry in Unilateral Complete Cleft Lip and Palate. (id: https://app.dimensions.ai/details/publication/pub.1110911440 )\n",
      "---\n",
      "Tip: use 'show <number>' or show+Tab to see more options\n"
     ]
    },
    {
     "data": {
      "application/json": {
       "_stats": {
        "total_count": 3989
       },
       "publications": [
        {
         "author_affiliations": [
          [
           {
            "affiliations": [
             {
              "name": "Faculty of Informatics and Engineering"
             },
             {
              "city": "Tokyo",
              "city_id": 1850147,
              "country": "Japan",
              "country_code": "JP",
              "id": "grid.266298.1",
              "name": "University of Electro-Communications",
              "state": null,
              "state_code": null
             },
             {
              "name": "Tokyo 182-8585"
             },
             {
              "name": "Japan"
             }
            ],
            "current_organization_id": "grid.266298.1",
            "first_name": "Naoki",
            "last_name": "Nakazawa",
            "orcid": "",
            "researcher_id": "ur.010752347543.56"
           },
           {
            "affiliations": [
             {
              "name": "Faculty of Informatics and Engineering"
             },
             {
              "city": "Tokyo",
              "city_id": 1850147,
              "country": "Japan",
              "country_code": "JP",
              "id": "grid.266298.1",
              "name": "University of Electro-Communications",
              "state": null,
              "state_code": null
             },
             {
              "name": "Tokyo 182-8585"
             },
             {
              "name": "Japan"
             }
            ],
            "current_organization_id": "grid.266298.1",
            "first_name": "Yaohong",
            "last_name": "Zhang",
            "orcid": "['0000-0001-7789-4784']",
            "researcher_id": "ur.016301224703.21"
           },
           {
            "affiliations": [
             {
              "name": "Faculty of Informatics and Engineering"
             },
             {
              "city": "Tokyo",
              "city_id": 1850147,
              "country": "Japan",
              "country_code": "JP",
              "id": "grid.266298.1",
              "name": "University of Electro-Communications",
              "state": null,
              "state_code": null
             },
             {
              "name": "Tokyo 182-8585"
             },
             {
              "name": "Japan"
             }
            ],
            "current_organization_id": "",
            "first_name": "Feng",
            "last_name": "Liu",
            "orcid": "",
            "researcher_id": ""
           },
           {
            "affiliations": [
             {
              "name": "Faculty of Informatics and Engineering"
             },
             {
              "city": "Tokyo",
              "city_id": 1850147,
              "country": "Japan",
              "country_code": "JP",
              "id": "grid.266298.1",
              "name": "University of Electro-Communications",
              "state": null,
              "state_code": null
             },
             {
              "name": "Tokyo 182-8585"
             },
             {
              "name": "Japan"
             }
            ],
            "current_organization_id": "grid.266298.1",
            "first_name": "Chao",
            "last_name": "Ding",
            "orcid": "",
            "researcher_id": "ur.07527464641.18"
           },
           {
            "affiliations": [
             {
              "name": "Faculty of Informatics and Engineering"
             },
             {
              "city": "Tokyo",
              "city_id": 1850147,
              "country": "Japan",
              "country_code": "JP",
              "id": "grid.266298.1",
              "name": "University of Electro-Communications",
              "state": null,
              "state_code": null
             },
             {
              "name": "Tokyo 182-8585"
             },
             {
              "name": "Japan"
             }
            ],
            "current_organization_id": "grid.266298.1",
            "first_name": "Kanae",
            "last_name": "Hori",
            "orcid": "",
            "researcher_id": "ur.010120310572.38"
           },
           {
            "affiliations": [
             {
              "name": "Faculty of Informatics and Engineering"
             },
             {
              "city": "Tokyo",
              "city_id": 1850147,
              "country": "Japan",
              "country_code": "JP",
              "id": "grid.266298.1",
              "name": "University of Electro-Communications",
              "state": null,
              "state_code": null
             },
             {
              "name": "Tokyo 182-8585"
             },
             {
              "name": "Japan"
             }
            ],
            "current_organization_id": "grid.266298.1",
            "first_name": "Taro",
            "last_name": "Toyoda",
            "orcid": "",
            "researcher_id": "ur.0665656544.77"
           },
           {
            "affiliations": [
             {
              "name": "Ecomaterials and Renewable Energy Research Center"
             },
             {
              "name": "Jiangsu Key Laboratory for Nano Technology"
             },
             {
              "city": "Nanjing",
              "city_id": 1799962,
              "country": "China",
              "country_code": "CN",
              "id": "grid.41156.37",
              "name": "Nanjing University",
              "state": null,
              "state_code": null
             },
             {
              "name": "Nanjing 210093"
             }
            ],
            "current_organization_id": "grid.41156.37",
            "first_name": "Yingfang",
            "last_name": "Yao",
            "orcid": "",
            "researcher_id": "ur.016221561753.96"
           },
           {
            "affiliations": [
             {
              "name": "Ecomaterials and Renewable Energy Research Center"
             },
             {
              "name": "Jiangsu Key Laboratory for Nano Technology"
             },
             {
              "city": "Nanjing",
              "city_id": 1799962,
              "country": "China",
              "country_code": "CN",
              "id": "grid.41156.37",
              "name": "Nanjing University",
              "state": null,
              "state_code": null
             },
             {
              "name": "Nanjing 210093"
             }
            ],
            "current_organization_id": "",
            "first_name": "Yong",
            "last_name": "Zhou",
            "orcid": "",
            "researcher_id": ""
           },
           {
            "affiliations": [
             {
              "name": "Faculty of Life Science and Systems Engineering"
             },
             {
              "city": "Kitakyushu",
              "city_id": 1859307,
              "country": "Japan",
              "country_code": "JP",
              "id": "grid.258806.1",
              "name": "Kyushu Institute of Technology",
              "state": null,
              "state_code": null
             },
             {
              "name": "Fukuoka 808-0196"
             },
             {
              "name": "Japan"
             }
            ],
            "current_organization_id": "",
            "first_name": "Shuzi",
            "last_name": "Hayase",
            "orcid": "",
            "researcher_id": ""
           },
           {
            "affiliations": [
             {
              "name": "Beijing Engineering Research Centre of Sustainable Energy and Buildings"
             },
             {
              "city": "Beijing",
              "city_id": 1816670,
              "country": "China",
              "country_code": "CN",
              "id": "grid.411629.9",
              "name": "Beijing University of Civil Engineering and Architecture",
              "state": null,
              "state_code": null
             },
             {
              "name": "Beijing 102616"
             },
             {
              "name": "China"
             }
            ],
            "current_organization_id": "grid.411629.9",
            "first_name": "Ruixiang",
            "last_name": "Wang",
            "orcid": "",
            "researcher_id": "ur.010107235655.77"
           },
           {
            "affiliations": [
             {
              "name": "Ecomaterials and Renewable Energy Research Center"
             },
             {
              "name": "Jiangsu Key Laboratory for Nano Technology"
             },
             {
              "city": "Nanjing",
              "city_id": 1799962,
              "country": "China",
              "country_code": "CN",
              "id": "grid.41156.37",
              "name": "Nanjing University",
              "state": null,
              "state_code": null
             },
             {
              "name": "Nanjing 210093"
             }
            ],
            "current_organization_id": "grid.41156.37",
            "first_name": "Zhigang",
            "last_name": "Zou",
            "orcid": "",
            "researcher_id": "ur.01265755501.27"
           },
           {
            "affiliations": [
             {
              "name": "Faculty of Informatics and Engineering"
             },
             {
              "city": "Tokyo",
              "city_id": 1850147,
              "country": "Japan",
              "country_code": "JP",
              "id": "grid.266298.1",
              "name": "University of Electro-Communications",
              "state": null,
              "state_code": null
             },
             {
              "name": "Tokyo 182-8585"
             },
             {
              "name": "Japan"
             }
            ],
            "current_organization_id": "grid.266298.1",
            "first_name": "Qing",
            "last_name": "Shen",
            "orcid": "['0000-0001-8359-3275']",
            "researcher_id": "ur.0617543344.56"
           }
          ]
         ],
         "id": "pub.1110029901",
         "issue": "2",
         "journal": {
          "id": "jour.1150558",
          "title": "Nanoscale Horizons"
         },
         "pages": "445-451",
         "title": "The interparticle distance limit for multiple exciton dissociation in PbS quantum dot solid films",
         "type": "article",
         "volume": "4",
         "year": 2018
        },
        {
         "author_affiliations": [
          [
           {
            "affiliations": [
             {
              "city": "Kitakyushu",
              "city_id": 1859307,
              "country": "Japan",
              "country_code": "JP",
              "id": "grid.258806.1",
              "name": "Kyushu Institute of Technology",
              "state": null,
              "state_code": null
             }
            ],
            "current_organization_id": "grid.258806.1",
            "first_name": "Hiroshi",
            "last_name": "Yoritaka",
            "orcid": "",
            "researcher_id": "ur.014106202303.19"
           },
           {
            "affiliations": [
             {
              "city": "Kyoto",
              "city_id": 1857910,
              "country": "Japan",
              "country_code": "JP",
              "id": "grid.258799.8",
              "name": "Kyoto University",
              "state": null,
              "state_code": null
             }
            ],
            "current_organization_id": "grid.258799.8",
            "first_name": "Ken",
            "last_name": "Matsui",
            "orcid": "",
            "researcher_id": "ur.015501143303.76"
           },
           {
            "affiliations": [
             {
              "city": "Kitakyushu",
              "city_id": 1859307,
              "country": "Japan",
              "country_code": "JP",
              "id": "grid.258806.1",
              "name": "Kyushu Institute of Technology",
              "state": null,
              "state_code": null
             }
            ],
            "current_organization_id": "grid.258806.1",
            "first_name": "Masahiro",
            "last_name": "Yasugi",
            "orcid": "",
            "researcher_id": "ur.015522753541.18"
           },
           {
            "affiliations": [
             {
              "city": "Kyoto",
              "city_id": 1857910,
              "country": "Japan",
              "country_code": "JP",
              "id": "grid.258799.8",
              "name": "Kyoto University",
              "state": null,
              "state_code": null
             }
            ],
            "current_organization_id": "grid.258799.8",
            "first_name": "Tasuku",
            "last_name": "Hiraishi",
            "orcid": "",
            "researcher_id": "ur.013555472102.33"
           },
           {
            "affiliations": [
             {
              "city": "Kyoto",
              "city_id": 1857910,
              "country": "Japan",
              "country_code": "JP",
              "id": "grid.258799.8",
              "name": "Kyoto University",
              "state": null,
              "state_code": null
             }
            ],
            "current_organization_id": "grid.258799.8",
            "first_name": "Seiji",
            "last_name": "Umatani",
            "orcid": "",
            "researcher_id": "ur.013022736543.66"
           }
          ]
         ],
         "id": "pub.1105070481",
         "journal": {
          "id": "jour.1039821",
          "title": "Parallel Computing"
         },
         "pages": "19-36",
         "title": "Probabilistic guards: A mechanism for increasing the granularity of work-stealing programs",
         "type": "article",
         "volume": "82",
         "year": 2018
        },
        {
         "author_affiliations": [
          [
           {
            "affiliations": [
             {
              "city": "Kitakyushu",
              "city_id": 1859307,
              "country": "Japan",
              "country_code": "JP",
              "id": "grid.258806.1",
              "name": "Kyushu Institute of Technology",
              "state": null,
              "state_code": null
             }
            ],
            "current_organization_id": "",
            "first_name": "Siewteng",
            "last_name": "Sim",
            "orcid": "",
            "researcher_id": ""
           },
           {
            "affiliations": [
             {
              "city": "Kitakyushu",
              "city_id": 1859307,
              "country": "Japan",
              "country_code": "JP",
              "id": "grid.258806.1",
              "name": "Kyushu Institute of Technology",
              "state": null,
              "state_code": null
             }
            ],
            "current_organization_id": "grid.258806.1",
            "first_name": "Yoshito",
            "last_name": "Andou",
            "orcid": "",
            "researcher_id": "ur.01116323260.31"
           },
           {
            "affiliations": [
             {
              "city": "Seri Kembangan",
              "country": "Malaysia",
              "country_code": "MY",
              "id": "grid.11142.37",
              "name": "Universiti Putra Malaysia",
              "state": null,
              "state_code": null
             }
            ],
            "current_organization_id": "grid.11142.37",
            "first_name": "Hamra A. A.",
            "last_name": "Bashid",
            "orcid": "",
            "researcher_id": "ur.016617033322.44"
           },
           {
            "affiliations": [
             {
              "city": "Seri Kembangan",
              "country": "Malaysia",
              "country_code": "MY",
              "id": "grid.11142.37",
              "name": "Universiti Putra Malaysia",
              "state": null,
              "state_code": null
             }
            ],
            "current_organization_id": "grid.11142.37",
            "first_name": "Hongngee",
            "last_name": "Lim",
            "orcid": "['0000-0003-2436-8953']",
            "researcher_id": "ur.010703155721.11"
           },
           {
            "affiliations": [
             {
              "city": "Perth",
              "city_id": 2063523,
              "country": "Australia",
              "country_code": "AU",
              "id": "grid.1025.6",
              "name": "Murdoch University",
              "state": "Western Australia",
              "state_code": "AU-WA"
             }
            ],
            "current_organization_id": "grid.1025.6",
            "first_name": "Mohammednoor",
            "last_name": "Altarawneh",
            "orcid": "",
            "researcher_id": "ur.01137010426.42"
           },
           {
            "affiliations": [
             {
              "city": "Perth",
              "city_id": 2063523,
              "country": "Australia",
              "country_code": "AU",
              "id": "grid.1025.6",
              "name": "Murdoch University",
              "state": "Western Australia",
              "state_code": "AU-WA"
             }
            ],
            "current_organization_id": "grid.449955.0",
            "first_name": "Zhongtao",
            "last_name": "Jiang",
            "orcid": "",
            "researcher_id": "ur.011153334347.53"
           },
           {
            "affiliations": [
             {
              "city": "Kitakyushu",
              "city_id": 1859307,
              "country": "Japan",
              "country_code": "JP",
              "id": "grid.258806.1",
              "name": "Kyushu Institute of Technology",
              "state": null,
              "state_code": null
             }
            ],
            "current_organization_id": "grid.258806.1",
            "first_name": "Kubra",
            "last_name": "Eksiler",
            "orcid": "",
            "researcher_id": "ur.010362311021.55"
           },
           {
            "affiliations": [
             {
              "city": "Kitakyushu",
              "city_id": 1859307,
              "country": "Japan",
              "country_code": "JP",
              "id": "grid.258806.1",
              "name": "Kyushu Institute of Technology",
              "state": null,
              "state_code": null
             }
            ],
            "current_organization_id": "grid.258806.1",
            "first_name": "Satoshi",
            "last_name": "Iikubo",
            "orcid": "['0000-0002-5186-4058']",
            "researcher_id": "ur.011724474721.84"
           }
          ]
         ],
         "id": "pub.1110885950",
         "issue": "12",
         "journal": {
          "id": "jour.1157000",
          "title": "ACS Omega"
         },
         "pages": "18124-18131",
         "title": "Development of Organo-Dispersible Graphene Oxide via Pseudo-Surface Modification for Thermally Conductive Green Polymer Composites",
         "type": "article",
         "volume": "3",
         "year": 2018
        },
        {
         "author_affiliations": [
          [
           {
            "affiliations": [
             {
              "city": "Tokyo",
              "city_id": 1850147,
              "country": "Japan",
              "country_code": "JP",
              "id": "grid.26999.3d",
              "name": "University of Tokyo",
              "state": null,
              "state_code": null
             }
            ],
            "current_organization_id": "",
            "first_name": "T.",
            "last_name": "Miyagi",
            "orcid": "",
            "researcher_id": ""
           },
           {
            "affiliations": [
             {
              "city": "Tokyo",
              "city_id": 1850147,
              "country": "Japan",
              "country_code": "JP",
              "id": "grid.26999.3d",
              "name": "University of Tokyo",
              "state": null,
              "state_code": null
             }
            ],
            "current_organization_id": "grid.26999.3d",
            "first_name": "T.",
            "last_name": "Abe",
            "orcid": "",
            "researcher_id": "ur.013210452553.50"
           },
           {
            "affiliations": [
             {
              "city": "Osaka",
              "city_id": 1853909,
              "country": "Japan",
              "country_code": "JP",
              "id": "grid.136593.b",
              "name": "Osaka University",
              "state": null,
              "state_code": null
             }
            ],
            "current_organization_id": "grid.136593.b",
            "first_name": "M.",
            "last_name": "Kohno",
            "orcid": "",
            "researcher_id": "ur.013513541756.35"
           },
           {
            "affiliations": [
             {
              "city": "Vancouver",
              "city_id": 6173331,
              "country": "Canada",
              "country_code": "CA",
              "id": "grid.232474.4",
              "name": "TRIUMF",
              "state": "British Columbia",
              "state_code": "CA-BC"
             }
            ],
            "current_organization_id": "grid.232474.4",
            "first_name": "P.",
            "last_name": "Navrátil",
            "orcid": "",
            "researcher_id": "ur.0606471153.98"
           },
           {
            "affiliations": [
             {
              "city": "Kitakyushu",
              "city_id": 1859307,
              "country": "Japan",
              "country_code": "JP",
              "id": "grid.258806.1",
              "name": "Kyushu Institute of Technology",
              "state": null,
              "state_code": null
             }
            ],
            "current_organization_id": "grid.258806.1",
            "first_name": "R.",
            "last_name": "Okamoto",
            "orcid": "",
            "researcher_id": "ur.016307426665.31"
           },
           {
            "affiliations": [
             {
              "city": "Tokyo",
              "city_id": 1850147,
              "country": "Japan",
              "country_code": "JP",
              "id": "grid.26999.3d",
              "name": "University of Tokyo",
              "state": null,
              "state_code": null
             },
             {
              "city": "Wako",
              "city_id": 1907300,
              "country": "Japan",
              "country_code": "JP",
              "id": "grid.474691.9",
              "name": "RIKEN Nishina Center",
              "state": null,
              "state_code": null
             },
             {
              "city": "East Lansing",
              "city_id": 4991640,
              "country": "United States",
              "country_code": "US",
              "id": "grid.17088.36",
              "name": "Michigan State University",
              "state": "Michigan",
              "state_code": "US-MI"
             },
             {
              "city": "Leuven",
              "city_id": 2792482,
              "country": "Belgium",
              "country_code": "BE",
              "id": "grid.5596.f",
              "name": "KU Leuven",
              "state": null,
              "state_code": null
             }
            ],
            "current_organization_id": "grid.26999.3d",
            "first_name": "T.",
            "last_name": "Otsuka",
            "orcid": "",
            "researcher_id": "ur.012262354711.45"
           },
           {
            "affiliations": [
             {
              "city": "Tokyo",
              "city_id": 1850147,
              "country": "Japan",
              "country_code": "JP",
              "id": "grid.26999.3d",
              "name": "University of Tokyo",
              "state": null,
              "state_code": null
             }
            ],
            "current_organization_id": "grid.26999.3d",
            "first_name": "N.",
            "last_name": "Shimizu",
            "orcid": "",
            "researcher_id": "ur.012617702411.29"
           },
           {
            "affiliations": [
             {
              "city": "Vancouver",
              "city_id": 6173331,
              "country": "Canada",
              "country_code": "CA",
              "id": "grid.232474.4",
              "name": "TRIUMF",
              "state": "British Columbia",
              "state_code": "CA-BC"
             },
             {
              "city": "Portland",
              "city_id": 5746545,
              "country": "United States",
              "country_code": "US",
              "id": "grid.182981.b",
              "name": "Reed College",
              "state": "Oregon",
              "state_code": "US-OR"
             }
            ],
            "current_organization_id": "grid.232474.4",
            "first_name": "S. R.",
            "last_name": "Stroberg",
            "orcid": "['0000-0002-0635-776X']",
            "researcher_id": "ur.0600433664.52"
           }
          ]
         ],
         "id": "pub.1110925389",
         "title": "Nuclear Ab Initio Calculations with the Unitary-Model-Operator Approach",
         "type": "proceeding",
         "year": 2018
        },
        {
         "author_affiliations": [
          [
           {
            "affiliations": [
             {
              "city": "Kagoshima",
              "city_id": 1860827,
              "country": "Japan",
              "country_code": "JP",
              "id": "grid.258333.c",
              "name": "Kagoshima University",
              "state": null,
              "state_code": null
             }
            ],
            "current_organization_id": "grid.258333.c",
            "first_name": "Namiko",
            "last_name": "Kimura",
            "orcid": "",
            "researcher_id": "ur.012310035111.86"
           },
           {
            "affiliations": [
             {
              "city": "Kitakyushu",
              "city_id": 1859307,
              "country": "Japan",
              "country_code": "JP",
              "id": "grid.258806.1",
              "name": "Kyushu Institute of Technology",
              "state": null,
              "state_code": null
             }
            ],
            "current_organization_id": "grid.258806.1",
            "first_name": "Hyoungseop",
            "last_name": "Kim",
            "orcid": "",
            "researcher_id": "ur.012240303741.11"
           },
           {
            "affiliations": [
             {
              "city": "Kagoshima",
              "city_id": 1860827,
              "country": "Japan",
              "country_code": "JP",
              "id": "grid.258333.c",
              "name": "Kagoshima University",
              "state": null,
              "state_code": null
             }
            ],
            "current_organization_id": "grid.258333.c",
            "first_name": "Takako",
            "last_name": "Okawachi",
            "orcid": "",
            "researcher_id": "ur.01364203371.00"
           },
           {
            "affiliations": [
             {
              "city": "Kagoshima",
              "city_id": 1860827,
              "country": "Japan",
              "country_code": "JP",
              "id": "grid.474800.f",
              "name": "Kagoshima University Hospital",
              "state": null,
              "state_code": null
             }
            ],
            "current_organization_id": "grid.258333.c",
            "first_name": "Takao",
            "last_name": "Fuchigami",
            "orcid": "['0000-0003-2636-2096']",
            "researcher_id": "ur.01317744053.59"
           },
           {
            "affiliations": [
             {
              "city": "Kagoshima",
              "city_id": 1860827,
              "country": "Japan",
              "country_code": "JP",
              "id": "grid.258333.c",
              "name": "Kagoshima University",
              "state": null,
              "state_code": null
             }
            ],
            "current_organization_id": "grid.258333.c",
            "first_name": "Masahiro",
            "last_name": "Tezuka",
            "orcid": "",
            "researcher_id": "ur.012565745454.62"
           },
           {
            "affiliations": [
             {
              "city": "Kagoshima",
              "city_id": 1860827,
              "country": "Japan",
              "country_code": "JP",
              "id": "grid.258333.c",
              "name": "Kagoshima University",
              "state": null,
              "state_code": null
             }
            ],
            "current_organization_id": "grid.258333.c",
            "first_name": "Toshiro",
            "last_name": "Kibe",
            "orcid": "",
            "researcher_id": "ur.0646523701.05"
           },
           {
            "affiliations": [
             {
              "city": "Kagoshima",
              "city_id": 1860827,
              "country": "Japan",
              "country_code": "JP",
              "id": "grid.258333.c",
              "name": "Kagoshima University",
              "state": null,
              "state_code": null
             },
             {
              "city": "Surabaya",
              "city_id": 1625822,
              "country": "Indonesia",
              "country_code": "ID",
              "id": "grid.440745.6",
              "name": "Airlangga University",
              "state": null,
              "state_code": null
             }
            ],
            "current_organization_id": "grid.258333.c",
            "first_name": "Muhammad Subhan",
            "last_name": "Amir",
            "orcid": "['0000-0002-0522-9758']",
            "researcher_id": "ur.014222570357.63"
           },
           {
            "affiliations": [
             {
              "city": "Kagoshima",
              "city_id": 1860827,
              "country": "Japan",
              "country_code": "JP",
              "id": "grid.258333.c",
              "name": "Kagoshima University",
              "state": null,
              "state_code": null
             }
            ],
            "current_organization_id": "grid.258333.c",
            "first_name": "Emi",
            "last_name": "Inada",
            "orcid": "",
            "researcher_id": "ur.0627452131.14"
           },
           {
            "affiliations": [
             {
              "city": "Kagoshima",
              "city_id": 1860827,
              "country": "Japan",
              "country_code": "JP",
              "id": "grid.474800.f",
              "name": "Kagoshima University Hospital",
              "state": null,
              "state_code": null
             }
            ],
            "current_organization_id": "grid.474800.f",
            "first_name": "Kiyohide",
            "last_name": "Ishihata",
            "orcid": "",
            "researcher_id": "ur.01241734403.80"
           },
           {
            "affiliations": [
             {
              "city": "Kagoshima",
              "city_id": 1860827,
              "country": "Japan",
              "country_code": "JP",
              "id": "grid.258333.c",
              "name": "Kagoshima University",
              "state": null,
              "state_code": null
             }
            ],
            "current_organization_id": "grid.258333.c",
            "first_name": "Etsuro",
            "last_name": "Nozoe",
            "orcid": "",
            "researcher_id": "ur.0640577271.40"
           },
           {
            "affiliations": [
             {
              "city": "Kagoshima",
              "city_id": 1860827,
              "country": "Japan",
              "country_code": "JP",
              "id": "grid.258333.c",
              "name": "Kagoshima University",
              "state": null,
              "state_code": null
             }
            ],
            "current_organization_id": "grid.258333.c",
            "first_name": "Norifumi",
            "last_name": "Nakamura",
            "orcid": "",
            "researcher_id": "ur.0702064524.87"
           }
          ]
         ],
         "id": "pub.1110911440",
         "journal": {
          "id": "jour.1017408",
          "title": "The Cleft Palate-Craniofacial Journal"
         },
         "pages": "1055665618819645",
         "title": "Pilot Study of Visual and Quantitative Image Analysis of Facial Surface Asymmetry in Unilateral Complete Cleft Lip and Palate.",
         "type": "article",
         "year": 2018
        },
        {
         "author_affiliations": [
          [
           {
            "affiliations": [
             {
              "city": "Kitakyushu",
              "city_id": 1859307,
              "country": "Japan",
              "country_code": "JP",
              "id": "grid.258806.1",
              "name": "Kyushu Institute of Technology",
              "state": null,
              "state_code": null
             }
            ],
            "current_organization_id": "",
            "first_name": "Amine",
            "last_name": "Ilidrissi",
            "orcid": "",
            "researcher_id": ""
           },
           {
            "affiliations": [
             {
              "city": "Kitakyushu",
              "city_id": 1859307,
              "country": "Japan",
              "country_code": "JP",
              "id": "grid.258806.1",
              "name": "Kyushu Institute of Technology",
              "state": null,
              "state_code": null
             }
            ],
            "current_organization_id": "grid.258806.1",
            "first_name": "Joo Kooi",
            "last_name": "Tan",
            "orcid": "",
            "researcher_id": "ur.0724144151.56"
           }
          ]
         ],
         "id": "pub.1110762690",
         "journal": {
          "id": "jour.1135365",
          "title": "Artificial Life and Robotics"
         },
         "pages": "1-6",
         "title": "A deep unified framework for suspicious action recognition",
         "type": "article",
         "year": 2018
        },
        {
         "author_affiliations": [
          [
           {
            "affiliations": [
             {
              "city": "Osaka",
              "city_id": 1853909,
              "country": "Japan",
              "country_code": "JP",
              "id": "grid.136593.b",
              "name": "Osaka University",
              "state": null,
              "state_code": null
             }
            ],
            "current_organization_id": "",
            "first_name": "Ami",
            "last_name": "Nomura",
            "orcid": "",
            "researcher_id": ""
           },
           {
            "affiliations": [
             {
              "city": "Osaka",
              "city_id": 1853909,
              "country": "Japan",
              "country_code": "JP",
              "id": "grid.136593.b",
              "name": "Osaka University",
              "state": null,
              "state_code": null
             }
            ],
            "current_organization_id": "grid.136593.b",
            "first_name": "Seongho",
            "last_name": "Choi",
            "orcid": "",
            "researcher_id": "ur.010254633475.46"
           },
           {
            "affiliations": [
             {
              "city": "Kitakyushu",
              "city_id": 1859307,
              "country": "Japan",
              "country_code": "JP",
              "id": "grid.258806.1",
              "name": "Kyushu Institute of Technology",
              "state": null,
              "state_code": null
             }
            ],
            "current_organization_id": "grid.258806.1",
            "first_name": "Manabu",
            "last_name": "Ishimaru",
            "orcid": "",
            "researcher_id": "ur.013511663141.85"
           },
           {
            "affiliations": [
             {
              "city": "Sakai",
              "city_id": 1853195,
              "country": "Japan",
              "country_code": "JP",
              "id": "grid.261455.1",
              "name": "Osaka Prefecture University",
              "state": null,
              "state_code": null
             }
            ],
            "current_organization_id": "grid.261455.1",
            "first_name": "Atsuko",
            "last_name": "Kosuga",
            "orcid": "",
            "researcher_id": "ur.010445105761.33"
           },
           {
            "affiliations": [
             {
              "city": "Evanston",
              "city_id": 4891382,
              "country": "United States",
              "country_code": "US",
              "id": "grid.16753.36",
              "name": "Northwestern University",
              "state": "Illinois",
              "state_code": "US-IL"
             }
            ],
            "current_organization_id": "",
            "first_name": "Thomas",
            "last_name": "Chasapis",
            "orcid": "",
            "researcher_id": ""
           },
           {
            "affiliations": [
             {
              "city": "Evanston",
              "city_id": 4891382,
              "country": "United States",
              "country_code": "US",
              "id": "grid.16753.36",
              "name": "Northwestern University",
              "state": "Illinois",
              "state_code": "US-IL"
             },
             {
              "city": "Pasadena",
              "city_id": 5381396,
              "country": "United States",
              "country_code": "US",
              "id": "grid.20861.3d",
              "name": "California Institute of Technology",
              "state": "California",
              "state_code": "US-CA"
             }
            ],
            "current_organization_id": "grid.16753.36",
            "first_name": "Saneyuki",
            "last_name": "Ohno",
            "orcid": "['0000-0001-8192-996X']",
            "researcher_id": "ur.012546441277.04"
           },
           {
            "affiliations": [
             {
              "city": "Evanston",
              "city_id": 4891382,
              "country": "United States",
              "country_code": "US",
              "id": "grid.16753.36",
              "name": "Northwestern University",
              "state": "Illinois",
              "state_code": "US-IL"
             },
             {
              "city": "Pasadena",
              "city_id": 5381396,
              "country": "United States",
              "country_code": "US",
              "id": "grid.20861.3d",
              "name": "California Institute of Technology",
              "state": "California",
              "state_code": "US-CA"
             }
            ],
            "current_organization_id": "grid.16753.36",
            "first_name": "G Jeffrey",
            "last_name": "Snyder",
            "orcid": "['0000-0003-1414-8682']",
            "researcher_id": "ur.01271065004.62"
           },
           {
            "affiliations": [
             {
              "city": "Osaka",
              "city_id": 1853909,
              "country": "Japan",
              "country_code": "JP",
              "id": "grid.136593.b",
              "name": "Osaka University",
              "state": null,
              "state_code": null
             }
            ],
            "current_organization_id": "grid.136593.b",
            "first_name": "Yuji",
            "last_name": "Ohishi",
            "orcid": "",
            "researcher_id": "ur.013016554011.19"
           },
           {
            "affiliations": [
             {
              "city": "Osaka",
              "city_id": 1853909,
              "country": "Japan",
              "country_code": "JP",
              "id": "grid.136593.b",
              "name": "Osaka University",
              "state": null,
              "state_code": null
             }
            ],
            "current_organization_id": "grid.136593.b",
            "first_name": "Hiroaki",
            "last_name": "Muta",
            "orcid": "",
            "researcher_id": "ur.011134733172.53"
           },
           {
            "affiliations": [
             {
              "city": "Osaka",
              "city_id": 1853909,
              "country": "Japan",
              "country_code": "JP",
              "id": "grid.136593.b",
              "name": "Osaka University",
              "state": null,
              "state_code": null
             }
            ],
            "current_organization_id": "grid.136593.b",
            "first_name": "Shinsuke",
            "last_name": "Yamanaka",
            "orcid": "",
            "researcher_id": "ur.014655042431.51"
           },
           {
            "affiliations": [
             {
              "city": "Osaka",
              "city_id": 1853909,
              "country": "Japan",
              "country_code": "JP",
              "id": "grid.136593.b",
              "name": "Osaka University",
              "state": null,
              "state_code": null
             },
             {
              "city": "Tokyo",
              "city_id": 1850147,
              "country": "Japan",
              "country_code": "JP",
              "id": "grid.419082.6",
              "name": "Japan Science and Technology Agency",
              "state": null,
              "state_code": null
             },
             {
              "city": "Fukui-shi",
              "city_id": 1863985,
              "country": "Japan",
              "country_code": "JP",
              "id": "grid.163577.1",
              "name": "University of Fukui",
              "state": null,
              "state_code": null
             }
            ],
            "current_organization_id": "grid.136593.b",
            "first_name": "Ken",
            "last_name": "Kurosaki",
            "orcid": "['0000-0002-3015-3206']",
            "researcher_id": "ur.011626150045.11"
           }
          ]
         ],
         "id": "pub.1110222625",
         "issue": "50",
         "journal": {
          "id": "jour.1041450",
          "title": "ACS Applied Materials & Interfaces"
         },
         "pages": "43682-43690",
         "title": "Chalcopyrite ZnSnSb2: A Promising Thermoelectric Material.",
         "type": "article",
         "volume": "10",
         "year": 2018
        },
        {
         "author_affiliations": [
          [
           {
            "affiliations": [
             {
              "city": "Hachiōji",
              "city_id": 1863440,
              "country": "Japan",
              "country_code": "JP",
              "id": "grid.482504.f",
              "name": "National Institute Of Technology",
              "state": null,
              "state_code": null
             }
            ],
            "current_organization_id": "",
            "first_name": "Yasuo",
            "last_name": "Yoshitake",
            "orcid": "",
            "researcher_id": ""
           },
           {
            "affiliations": [
             {
              "city": "Hachiōji",
              "city_id": 1863440,
              "country": "Japan",
              "country_code": "JP",
              "id": "grid.482504.f",
              "name": "National Institute Of Technology",
              "state": null,
              "state_code": null
             }
            ],
            "current_organization_id": "",
            "first_name": "Kaoru",
            "last_name": "Yamamoto",
            "orcid": "",
            "researcher_id": ""
           },
           {
            "affiliations": [
             {
              "city": "Hachiōji",
              "city_id": 1863440,
              "country": "Japan",
              "country_code": "JP",
              "id": "grid.482504.f",
              "name": "National Institute Of Technology",
              "state": null,
              "state_code": null
             }
            ],
            "current_organization_id": "grid.482504.f",
            "first_name": "Nobuya",
            "last_name": "Sasaguri",
            "orcid": "",
            "researcher_id": "ur.015676406561.17"
           },
           {
            "affiliations": [
             {
              "city": "Kitakyushu",
              "city_id": 1859307,
              "country": "Japan",
              "country_code": "JP",
              "id": "grid.258806.1",
              "name": "Kyushu Institute of Technology",
              "state": null,
              "state_code": null
             }
            ],
            "current_organization_id": "grid.258806.1",
            "first_name": "Hidenori",
            "last_name": "Era",
            "orcid": "",
            "researcher_id": "ur.014256063615.97"
           }
          ]
         ],
         "id": "pub.1110422274",
         "journal": {
          "id": "jour.1136051",
          "title": "International Journal of Metalcasting"
         },
         "pages": "1-8",
         "title": "Grain Refinement of Al–2%Cu Alloy Using Vibrating Mold",
         "type": "article",
         "year": 2018
        },
        {
         "author_affiliations": [
          [
           {
            "affiliations": [
             {
              "city": "Kitakyushu",
              "city_id": 1859307,
              "country": "Japan",
              "country_code": "JP",
              "id": "grid.258806.1",
              "name": "Kyushu Institute of Technology",
              "state": null,
              "state_code": null
             }
            ],
            "current_organization_id": "",
            "first_name": "Yuichi",
            "last_name": "Morita",
            "orcid": "",
            "researcher_id": ""
           },
           {
            "affiliations": [
             {
              "city": "Kitakyushu",
              "city_id": 1859307,
              "country": "Japan",
              "country_code": "JP",
              "id": "grid.258806.1",
              "name": "Kyushu Institute of Technology",
              "state": null,
              "state_code": null
             }
            ],
            "current_organization_id": "grid.258806.1",
            "first_name": "Sota",
            "last_name": "Kono",
            "orcid": "",
            "researcher_id": "ur.012135033365.21"
           },
           {
            "affiliations": [
             {
              "city": "Kitakyushu",
              "city_id": 1859307,
              "country": "Japan",
              "country_code": "JP",
              "id": "grid.258806.1",
              "name": "Kyushu Institute of Technology",
              "state": null,
              "state_code": null
             }
            ],
            "current_organization_id": "grid.258806.1",
            "first_name": "Akira",
            "last_name": "Yamawaki",
            "orcid": "",
            "researcher_id": "ur.011440230541.66"
           }
          ]
         ],
         "id": "pub.1110399275",
         "journal": {
          "id": "jour.1135365",
          "title": "Artificial Life and Robotics"
         },
         "pages": "1-6",
         "title": "Proposal of an ultrasonic sensor array with flexible and scalable organization",
         "type": "article",
         "year": 2018
        },
        {
         "author_affiliations": [
          [
           {
            "affiliations": [
             {
              "city": "Fukuoka",
              "city_id": 1863967,
              "country": "Japan",
              "country_code": "JP",
              "id": "grid.177174.3",
              "name": "Kyushu University",
              "state": null,
              "state_code": null
             }
            ],
            "current_organization_id": "grid.177174.3",
            "first_name": "Hayato",
            "last_name": "Waki",
            "orcid": "",
            "researcher_id": "ur.012166675321.40"
           },
           {
            "affiliations": [
             {
              "city": "Kitakyushu",
              "city_id": 1859307,
              "country": "Japan",
              "country_code": "JP",
              "id": "grid.258806.1",
              "name": "Kyushu Institute of Technology",
              "state": null,
              "state_code": null
             }
            ],
            "current_organization_id": "grid.258806.1",
            "first_name": "Noboru",
            "last_name": "Sebe",
            "orcid": "",
            "researcher_id": "ur.010647607673.28"
           }
          ]
         ],
         "id": "pub.1110364247",
         "journal": {
          "id": "jour.1036287",
          "title": "Asian Journal of Control"
         },
         "title": "Reduction of H∞ state feedback control problems for the MIMO servo systems",
         "type": "article",
         "year": 2018
        },
        {
         "author_affiliations": [
          [
           {
            "affiliations": [
             {
              "city": "Ljubljana",
              "city_id": 3196359,
              "country": "Slovenia",
              "country_code": "SI",
              "id": "grid.8954.0",
              "name": "University of Ljubljana",
              "state": null,
              "state_code": null
             }
            ],
            "current_organization_id": "grid.8954.0",
            "first_name": "Gregor",
            "last_name": "Geršak",
            "orcid": "",
            "researcher_id": "ur.01001473672.99"
           },
           {
            "affiliations": [
             {
              "city": "Kitakyushu",
              "city_id": 1859307,
              "country": "Japan",
              "country_code": "JP",
              "id": "grid.258806.1",
              "name": "Kyushu Institute of Technology",
              "state": null,
              "state_code": null
             }
            ],
            "current_organization_id": "grid.258806.1",
            "first_name": "Huimin",
            "last_name": "Lu",
            "orcid": "['0000-0001-9794-3221']",
            "researcher_id": "ur.016357156077.09"
           },
           {
            "affiliations": [
             {
              "city": "Ljubljana",
              "city_id": 3196359,
              "country": "Slovenia",
              "country_code": "SI",
              "id": "grid.8954.0",
              "name": "University of Ljubljana",
              "state": null,
              "state_code": null
             }
            ],
            "current_organization_id": "grid.8954.0",
            "first_name": "Jože",
            "last_name": "Guna",
            "orcid": "['0000-0002-5161-7751']",
            "researcher_id": "ur.011520030235.40"
           }
          ]
         ],
         "id": "pub.1110332759",
         "journal": {
          "id": "jour.1044869",
          "title": "Multimedia Tools and Applications"
         },
         "pages": "1-17",
         "title": "Effect of VR technology matureness on VR sickness",
         "type": "article",
         "year": 2018
        },
        {
         "author_affiliations": [
          [
           {
            "affiliations": [
             {
              "city": "Kitakyushu",
              "city_id": 1859307,
              "country": "Japan",
              "country_code": "JP",
              "id": "grid.258806.1",
              "name": "Kyushu Institute of Technology",
              "state": null,
              "state_code": null
             }
            ],
            "current_organization_id": "",
            "first_name": "Akihiro",
            "last_name": "FUJIWARA",
            "orcid": "",
            "researcher_id": ""
           }
          ]
         ],
         "id": "pub.1110286167",
         "issue": "12",
         "journal": {
          "id": "jour.1043413",
          "title": "IEICE Transactions on Information and Systems"
         },
         "pages": "2863-2863",
         "title": "FOREWORD",
         "type": "article",
         "volume": "E101.D",
         "year": 2018
        },
        {
         "author_affiliations": [
          [
           {
            "affiliations": [
             {
              "city": "Osaka",
              "city_id": 1853909,
              "country": "Japan",
              "country_code": "JP",
              "id": "grid.261445.0",
              "name": "Osaka City University",
              "state": null,
              "state_code": null
             }
            ],
            "current_organization_id": "grid.261445.0",
            "first_name": "Shiori",
            "last_name": "Toba",
            "orcid": "",
            "researcher_id": "ur.0734731375.43"
           },
           {
            "affiliations": [
             {
              "city": "Osaka",
              "city_id": 1853909,
              "country": "Japan",
              "country_code": "JP",
              "id": "grid.261445.0",
              "name": "Osaka City University",
              "state": null,
              "state_code": null
             }
            ],
            "current_organization_id": "grid.261445.0",
            "first_name": "Mingyue",
            "last_name": "Jin",
            "orcid": "['0000-0002-5249-8918']",
            "researcher_id": "ur.0630102053.58"
           },
           {
            "affiliations": [
             {
              "city": "Osaka",
              "city_id": 1853909,
              "country": "Japan",
              "country_code": "JP",
              "id": "grid.261445.0",
              "name": "Osaka City University",
              "state": null,
              "state_code": null
             }
            ],
            "current_organization_id": "grid.261445.0",
            "first_name": "Masami",
            "last_name": "Yamada",
            "orcid": "",
            "researcher_id": "ur.01213042135.31"
           },
           {
            "affiliations": [
             {
              "city": "Osaka",
              "city_id": 1853909,
              "country": "Japan",
              "country_code": "JP",
              "id": "grid.261445.0",
              "name": "Osaka City University",
              "state": null,
              "state_code": null
             }
            ],
            "current_organization_id": "grid.261445.0",
            "first_name": "Kanako",
            "last_name": "Kumamoto",
            "orcid": "",
            "researcher_id": "ur.01114615010.89"
           },
           {
            "affiliations": [
             {
              "city": "Osaka",
              "city_id": 1853909,
              "country": "Japan",
              "country_code": "JP",
              "id": "grid.261445.0",
              "name": "Osaka City University",
              "state": null,
              "state_code": null
             }
            ],
            "current_organization_id": "grid.261445.0",
            "first_name": "Sakiko",
            "last_name": "Matsumoto",
            "orcid": "",
            "researcher_id": "ur.011720752232.03"
           },
           {
            "affiliations": [
             {
              "city": "Kitakyushu",
              "city_id": 1859307,
              "country": "Japan",
              "country_code": "JP",
              "id": "grid.258806.1",
              "name": "Kyushu Institute of Technology",
              "state": null,
              "state_code": null
             },
             {
              "name": "JST-SENTAN, 4-1-8, Honcho, Kawaguchi, 332-0012, Saitama, Japan"
             },
             {
              "city": "Tokyo",
              "city_id": 1850147,
              "country": "Japan",
              "country_code": "JP",
              "id": "grid.419082.6",
              "name": "Japan Science and Technology Agency",
              "state": null,
              "state_code": null
             }
            ],
            "current_organization_id": "grid.258806.1",
            "first_name": "Takuo",
            "last_name": "Yasunaga",
            "orcid": "['0000-0002-2494-9603']",
            "researcher_id": "ur.015717536101.53"
           },
           {
            "affiliations": [
             {
              "name": "Graduate School of Life Science, University of Hyogo, 3-2-1 Kouto, Kamigori-cho, Ako-gun, 678-1297, Hyogo, Japan"
             },
             {
              "name": "RSC-University of Hyogo Leading Program Center, RIKEN SPring-8 Center, 1-1-1 Kouto, Sayo-cho, Sayo-gun, 679-5148, Hyogo, Japan"
             }
            ],
            "current_organization_id": "",
            "first_name": "Yuko",
            "last_name": "Fukunaga",
            "orcid": "",
            "researcher_id": "ur.0704531221.43"
           },
           {
            "affiliations": [
             {
              "name": "Graduate School of Life Science, University of Hyogo, 3-2-1 Kouto, Kamigori-cho, Ako-gun, 678-1297, Hyogo, Japan"
             },
             {
              "name": "RSC-University of Hyogo Leading Program Center, RIKEN SPring-8 Center, 1-1-1 Kouto, Sayo-cho, Sayo-gun, 679-5148, Hyogo, Japan"
             }
            ],
            "current_organization_id": "",
            "first_name": "Atsuo",
            "last_name": "Miyazawa",
            "orcid": "",
            "researcher_id": "ur.01265767156.09"
           },
           {
            "affiliations": [
             {
              "city": "Ikoma",
              "city_id": 1861749,
              "country": "Japan",
              "country_code": "JP",
              "id": "grid.260493.a",
              "name": "Nara Institute of Science and Technology",
              "state": null,
              "state_code": null
             }
            ],
            "current_organization_id": "grid.260493.a",
            "first_name": "Sakiko",
            "last_name": "Fujita",
            "orcid": "",
            "researcher_id": "ur.014706654232.68"
           },
           {
            "affiliations": [
             {
              "city": "Kyoto",
              "city_id": 1857910,
              "country": "Japan",
              "country_code": "JP",
              "id": "grid.272458.e",
              "name": "Kyoto Prefectural University of Medicine",
              "state": null,
              "state_code": null
             }
            ],
            "current_organization_id": "grid.272458.e",
            "first_name": "Kyoko",
            "last_name": "Itoh",
            "orcid": "['0000-0001-8369-8800']",
            "researcher_id": "ur.07712357447.03"
           },
           {
            "affiliations": [
             {
              "city": "Kyoto",
              "city_id": 1857910,
              "country": "Japan",
              "country_code": "JP",
              "id": "grid.272458.e",
              "name": "Kyoto Prefectural University of Medicine",
              "state": null,
              "state_code": null
             }
            ],
            "current_organization_id": "grid.272458.e",
            "first_name": "Shinji",
            "last_name": "Fushiki",
            "orcid": "",
            "researcher_id": "ur.01315011121.02"
           },
           {
            "affiliations": [
             {
              "city": "Tokyo",
              "city_id": 1850147,
              "country": "Japan",
              "country_code": "JP",
              "id": "grid.28312.3a",
              "name": "National Institute of Information and Communications Technology",
              "state": null,
              "state_code": null
             }
            ],
            "current_organization_id": "grid.28312.3a",
            "first_name": "Hiroaki",
            "last_name": "Kojima",
            "orcid": "",
            "researcher_id": "ur.016006217550.70"
           },
           {
            "affiliations": [
             {
              "city": "Osaka",
              "city_id": 1853909,
              "country": "Japan",
              "country_code": "JP",
              "id": "grid.261445.0",
              "name": "Osaka City University",
              "state": null,
              "state_code": null
             }
            ],
            "current_organization_id": "grid.261445.0",
            "first_name": "Hideki",
            "last_name": "Wanibuchi",
            "orcid": "",
            "researcher_id": "ur.01171263102.65"
           },
           {
            "affiliations": [
             {
              "city": "Osaka",
              "city_id": 1853909,
              "country": "Japan",
              "country_code": "JP",
              "id": "grid.136593.b",
              "name": "Osaka University",
              "state": null,
              "state_code": null
             }
            ],
            "current_organization_id": "grid.136593.b",
            "first_name": "Yoshiyuki",
            "last_name": "Arai",
            "orcid": "",
            "researcher_id": "ur.012777077121.27"
           },
           {
            "affiliations": [
             {
              "city": "Osaka",
              "city_id": 1853909,
              "country": "Japan",
              "country_code": "JP",
              "id": "grid.136593.b",
              "name": "Osaka University",
              "state": null,
              "state_code": null
             }
            ],
            "current_organization_id": "grid.136593.b",
            "first_name": "Takeharu",
            "last_name": "Nagai",
            "orcid": "",
            "researcher_id": "ur.01046540753.65"
           },
           {
            "affiliations": [
             {
              "city": "Osaka",
              "city_id": 1853909,
              "country": "Japan",
              "country_code": "JP",
              "id": "grid.261445.0",
              "name": "Osaka City University",
              "state": null,
              "state_code": null
             }
            ],
            "current_organization_id": "grid.261445.0",
            "first_name": "Shinji",
            "last_name": "Hirotsune",
            "orcid": "",
            "researcher_id": "ur.01106323647.45"
           }
          ]
         ],
         "id": "pub.1104009073",
         "issue": "1",
         "journal": {
          "id": "jour.1045337",
          "title": "Scientific Reports"
         },
         "pages": "8019",
         "title": "Publisher Correction: Alpha-synuclein facilitates to form short unconventional microtubules that have a unique function in the axonal transport",
         "type": "article",
         "volume": "8",
         "year": 2018
        },
        {
         "author_affiliations": [
          [
           {
            "affiliations": [
             {
              "city": "Seri Kembangan",
              "country": "Malaysia",
              "country_code": "MY",
              "id": "grid.11142.37",
              "name": "Universiti Putra Malaysia",
              "state": null,
              "state_code": null
             },
             {
              "city": "Kitakyushu",
              "city_id": 1859307,
              "country": "Japan",
              "country_code": "JP",
              "id": "grid.258806.1",
              "name": "Kyushu Institute of Technology",
              "state": null,
              "state_code": null
             }
            ],
            "current_organization_id": "grid.258806.1",
            "first_name": "Chi Huey",
            "last_name": "Ng",
            "orcid": "",
            "researcher_id": "ur.010410655003.51"
           },
           {
            "affiliations": [
             {
              "city": "Kitakyushu",
              "city_id": 1859307,
              "country": "Japan",
              "country_code": "JP",
              "id": "grid.258806.1",
              "name": "Kyushu Institute of Technology",
              "state": null,
              "state_code": null
             }
            ],
            "current_organization_id": "grid.258806.1",
            "first_name": "Teresa S.",
            "last_name": "Ripolles",
            "orcid": "['0000-0002-0451-176X']",
            "researcher_id": "ur.01314463063.90"
           },
           {
            "affiliations": [
             {
              "city": "Kitakyushu",
              "city_id": 1859307,
              "country": "Japan",
              "country_code": "JP",
              "id": "grid.258806.1",
              "name": "Kyushu Institute of Technology",
              "state": null,
              "state_code": null
             }
            ],
            "current_organization_id": "grid.258806.1",
            "first_name": "Kengo",
            "last_name": "Hamada",
            "orcid": "",
            "researcher_id": "ur.012436654063.15"
           },
           {
            "affiliations": [
             {
              "city": "Seri Kembangan",
              "country": "Malaysia",
              "country_code": "MY",
              "id": "grid.11142.37",
              "name": "Universiti Putra Malaysia",
              "state": null,
              "state_code": null
             },
             {
              "city": "Kitakyushu",
              "city_id": 1859307,
              "country": "Japan",
              "country_code": "JP",
              "id": "grid.258806.1",
              "name": "Kyushu Institute of Technology",
              "state": null,
              "state_code": null
             }
            ],
            "current_organization_id": "grid.11142.37",
            "first_name": "Siow Hwa",
            "last_name": "Teo",
            "orcid": "",
            "researcher_id": "ur.013142742534.19"
           },
           {
            "affiliations": [
             {
              "city": "Seri Kembangan",
              "country": "Malaysia",
              "country_code": "MY",
              "id": "grid.11142.37",
              "name": "Universiti Putra Malaysia",
              "state": null,
              "state_code": null
             }
            ],
            "current_organization_id": "grid.11142.37",
            "first_name": "Hong Ngee",
            "last_name": "Lim",
            "orcid": "['0000-0003-2436-8953']",
            "researcher_id": "ur.013165130252.69"
           },
           {
            "affiliations": [
             {
              "city": "Castelló de la Plana",
              "city_id": 2519752,
              "country": "Spain",
              "country_code": "ES",
              "id": "grid.9612.c",
              "name": "Jaume I University",
              "state": null,
              "state_code": null
             },
             {
              "city": "Jeddah",
              "city_id": 105343,
              "country": "Saudi Arabia",
              "country_code": "SA",
              "id": "grid.412125.1",
              "name": "King Abdulaziz University",
              "state": null,
              "state_code": null
             }
            ],
            "current_organization_id": "grid.9612.c",
            "first_name": "Juan",
            "last_name": "Bisquert",
            "orcid": "['0000-0003-4987-4887']",
            "researcher_id": "ur.01204203762.34"
           },
           {
            "affiliations": [
             {
              "city": "Kitakyushu",
              "city_id": 1859307,
              "country": "Japan",
              "country_code": "JP",
              "id": "grid.258806.1",
              "name": "Kyushu Institute of Technology",
              "state": null,
              "state_code": null
             }
            ],
            "current_organization_id": "grid.258806.1",
            "first_name": "Shuzi",
            "last_name": "Hayase",
            "orcid": "",
            "researcher_id": "ur.01055753603.27"
           }
          ]
         ],
         "id": "pub.1100756013",
         "issue": "1",
         "journal": {
          "id": "jour.1045337",
          "title": "Scientific Reports"
         },
         "pages": "2482",
         "title": "Tunable Open Circuit Voltage by Engineering Inorganic Cesium Lead Bromide/Iodide Perovskite Solar Cells",
         "type": "article",
         "volume": "8",
         "year": 2018
        },
        {
         "author_affiliations": [
          [
           {
            "affiliations": [
             {
              "city": "Fukuoka",
              "city_id": 1863967,
              "country": "Japan",
              "country_code": "JP",
              "id": "grid.177174.3",
              "name": "Kyushu University",
              "state": null,
              "state_code": null
             }
            ],
            "current_organization_id": "grid.177174.3",
            "first_name": "Motomichi",
            "last_name": "Koyama",
            "orcid": "['0000-0002-8746-6190', '0000-0002-5006-9976']",
            "researcher_id": "ur.013653362133.09"
           },
           {
            "affiliations": [
             {
              "city": "Kitakyushu",
              "city_id": 1859307,
              "country": "Japan",
              "country_code": "JP",
              "id": "grid.258806.1",
              "name": "Kyushu Institute of Technology",
              "state": null,
              "state_code": null
             }
            ],
            "current_organization_id": "grid.258806.1",
            "first_name": "Kenji",
            "last_name": "Hirata",
            "orcid": "['0000-0001-7024-7429']",
            "researcher_id": "ur.012112373161.14"
           },
           {
            "affiliations": [
             {
              "city": "Fukuoka",
              "city_id": 1863967,
              "country": "Japan",
              "country_code": "JP",
              "id": "grid.177174.3",
              "name": "Kyushu University",
              "state": null,
              "state_code": null
             }
            ],
            "current_organization_id": "grid.177174.3",
            "first_name": "Yuji",
            "last_name": "Abe",
            "orcid": "",
            "researcher_id": "ur.013450535467.38"
           },
           {
            "affiliations": [
             {
              "city": "Fukuoka",
              "city_id": 1863967,
              "country": "Japan",
              "country_code": "JP",
              "id": "grid.177174.3",
              "name": "Kyushu University",
              "state": null,
              "state_code": null
             }
            ],
            "current_organization_id": "",
            "first_name": "Akihiro",
            "last_name": "Mitsuda",
            "orcid": "",
            "researcher_id": ""
           },
           {
            "affiliations": [
             {
              "city": "Kitakyushu",
              "city_id": 1859307,
              "country": "Japan",
              "country_code": "JP",
              "id": "grid.258806.1",
              "name": "Kyushu Institute of Technology",
              "state": null,
              "state_code": null
             }
            ],
            "current_organization_id": "grid.258806.1",
            "first_name": "Satoshi",
            "last_name": "Iikubo",
            "orcid": "['0000-0002-5186-4058']",
            "researcher_id": "ur.011724474721.84"
           },
           {
            "affiliations": [
             {
              "city": "Fukuoka",
              "city_id": 1863967,
              "country": "Japan",
              "country_code": "JP",
              "id": "grid.177174.3",
              "name": "Kyushu University",
              "state": null,
              "state_code": null
             }
            ],
            "current_organization_id": "grid.177174.3",
            "first_name": "Kaneaki",
            "last_name": "Tsuzaki",
            "orcid": "",
            "researcher_id": "ur.07615573617.15"
           }
          ]
         ],
         "id": "pub.1107849823",
         "issue": "1",
         "journal": {
          "id": "jour.1045337",
          "title": "Scientific Reports"
         },
         "pages": "16136",
         "title": "An unconventional hydrogen effect that suppresses thermal formation of the hcp phase in fcc steels",
         "type": "article",
         "volume": "8",
         "year": 2018
        },
        {
         "author_affiliations": [
          [
           {
            "affiliations": [
             {
              "city": "Kitakyushu",
              "city_id": 1859307,
              "country": "Japan",
              "country_code": "JP",
              "id": "grid.258806.1",
              "name": "Kyushu Institute of Technology",
              "state": null,
              "state_code": null
             }
            ],
            "current_organization_id": "grid.258806.1",
            "first_name": "Hirofumi",
            "last_name": "Tanaka",
            "orcid": "['0000-0002-4378-5747']",
            "researcher_id": "ur.01144262565.40"
           },
           {
            "affiliations": [
             {
              "city": "Osaka",
              "city_id": 1853909,
              "country": "Japan",
              "country_code": "JP",
              "id": "grid.136593.b",
              "name": "Osaka University",
              "state": null,
              "state_code": null
             }
            ],
            "current_organization_id": "grid.136593.b",
            "first_name": "Megumi",
            "last_name": "Akai-Kasaya",
            "orcid": "['0000-0003-2217-9382']",
            "researcher_id": "ur.01066137763.63"
           },
           {
            "affiliations": [
             {
              "city": "Kitakyushu",
              "city_id": 1859307,
              "country": "Japan",
              "country_code": "JP",
              "id": "grid.258806.1",
              "name": "Kyushu Institute of Technology",
              "state": null,
              "state_code": null
             }
            ],
            "current_organization_id": "grid.258806.1",
            "first_name": "Amin",
            "last_name": "TermehYousefi",
            "orcid": "",
            "researcher_id": "ur.01264035420.28"
           },
           {
            "affiliations": [
             {
              "city": "Osaka",
              "city_id": 1853909,
              "country": "Japan",
              "country_code": "JP",
              "id": "grid.136593.b",
              "name": "Osaka University",
              "state": null,
              "state_code": null
             },
             {
              "city": "Wuxi",
              "city_id": 1790923,
              "country": "China",
              "country_code": "CN",
              "id": "grid.258151.a",
              "name": "Jiangnan University",
              "state": null,
              "state_code": null
             }
            ],
            "current_organization_id": "grid.258151.a",
            "first_name": "Liu",
            "last_name": "Hong",
            "orcid": "['0000-0002-5226-2366']",
            "researcher_id": "ur.0627675137.40"
           },
           {
            "affiliations": [
             {
              "city": "Kitakyushu",
              "city_id": 1859307,
              "country": "Japan",
              "country_code": "JP",
              "id": "grid.258806.1",
              "name": "Kyushu Institute of Technology",
              "state": null,
              "state_code": null
             }
            ],
            "current_organization_id": "grid.258806.1",
            "first_name": "Lingxiang",
            "last_name": "Fu",
            "orcid": "",
            "researcher_id": "ur.012550126143.23"
           },
           {
            "affiliations": [
             {
              "city": "Kitakyushu",
              "city_id": 1859307,
              "country": "Japan",
              "country_code": "JP",
              "id": "grid.258806.1",
              "name": "Kyushu Institute of Technology",
              "state": null,
              "state_code": null
             }
            ],
            "current_organization_id": "grid.258806.1",
            "first_name": "Hakaru",
            "last_name": "Tamukoh",
            "orcid": "",
            "researcher_id": "ur.016343071211.19"
           },
           {
            "affiliations": [
             {
              "city": "Osaka",
              "city_id": 1853909,
              "country": "Japan",
              "country_code": "JP",
              "id": "grid.136593.b",
              "name": "Osaka University",
              "state": null,
              "state_code": null
             },
             {
              "city": "Nishinomiya",
              "city_id": 1855207,
              "country": "Japan",
              "country_code": "JP",
              "id": "grid.258777.8",
              "name": "Kwansei Gakuin University",
              "state": null,
              "state_code": null
             }
            ],
            "current_organization_id": "grid.258799.8",
            "first_name": "Daisuke",
            "last_name": "Tanaka",
            "orcid": "['0000-0002-7469-0265']",
            "researcher_id": "ur.01055162571.62"
           },
           {
            "affiliations": [
             {
              "city": "Sapporo",
              "city_id": 2128295,
              "country": "Japan",
              "country_code": "JP",
              "id": "grid.39158.36",
              "name": "Hokkaido University",
              "state": null,
              "state_code": null
             }
            ],
            "current_organization_id": "grid.39158.36",
            "first_name": "Tetsuya",
            "last_name": "Asai",
            "orcid": "",
            "researcher_id": "ur.016224424055.59"
           },
           {
            "affiliations": [
             {
              "city": "Osaka",
              "city_id": 1853909,
              "country": "Japan",
              "country_code": "JP",
              "id": "grid.136593.b",
              "name": "Osaka University",
              "state": null,
              "state_code": null
             }
            ],
            "current_organization_id": "grid.136593.b",
            "first_name": "Takuji",
            "last_name": "Ogawa",
            "orcid": "['0000-0002-6237-2286']",
            "researcher_id": "ur.011701120041.92"
           }
          ]
         ],
         "id": "pub.1105391023",
         "issue": "1",
         "journal": {
          "id": "jour.1043282",
          "title": "Nature Communications"
         },
         "pages": "2693",
         "title": "A molecular neuromorphic network device consisting of single-walled carbon nanotubes complexed with polyoxometalate",
         "type": "article",
         "volume": "9",
         "year": 2018
        },
        {
         "author_affiliations": [
          [
           {
            "affiliations": [
             {
              "city": "Kitakyushu",
              "city_id": 1859307,
              "country": "Japan",
              "country_code": "JP",
              "id": "grid.258806.1",
              "name": "Kyushu Institute of Technology",
              "state": null,
              "state_code": null
             }
            ],
            "current_organization_id": "",
            "first_name": "Sho",
            "last_name": "Haneda",
            "orcid": "",
            "researcher_id": ""
           },
           {
            "affiliations": [
             {
              "city": "Kitakyushu",
              "city_id": 1859307,
              "country": "Japan",
              "country_code": "JP",
              "id": "grid.258806.1",
              "name": "Kyushu Institute of Technology",
              "state": null,
              "state_code": null
             }
            ],
            "current_organization_id": "grid.258806.1",
            "first_name": "Yuki",
            "last_name": "Yasukuni",
            "orcid": "",
            "researcher_id": "ur.016004302114.13"
           },
           {
            "affiliations": [
             {
              "city": "Kitakyushu",
              "city_id": 1859307,
              "country": "Japan",
              "country_code": "JP",
              "id": "grid.258806.1",
              "name": "Kyushu Institute of Technology",
              "state": null,
              "state_code": null
             }
            ],
            "current_organization_id": "",
            "first_name": "Chiharu",
            "last_name": "Oka",
            "orcid": "",
            "researcher_id": ""
           },
           {
            "affiliations": [
             {
              "city": "Sapporo",
              "city_id": 2128295,
              "country": "Japan",
              "country_code": "JP",
              "id": "grid.39158.36",
              "name": "Hokkaido University",
              "state": null,
              "state_code": null
             }
            ],
            "current_organization_id": "grid.39158.36",
            "first_name": "Makoto",
            "last_name": "Wakeshima",
            "orcid": "",
            "researcher_id": "ur.013023451205.65"
           },
           {
            "affiliations": [
             {
              "city": "Sapporo",
              "city_id": 2128295,
              "country": "Japan",
              "country_code": "JP",
              "id": "grid.39158.36",
              "name": "Hokkaido University",
              "state": null,
              "state_code": null
             }
            ],
            "current_organization_id": "grid.39158.36",
            "first_name": "Yukio",
            "last_name": "Hinatsu",
            "orcid": "",
            "researcher_id": "ur.01061541301.40"
           },
           {
            "affiliations": [
             {
              "city": "Kitakyushu",
              "city_id": 1859307,
              "country": "Japan",
              "country_code": "JP",
              "id": "grid.258806.1",
              "name": "Kyushu Institute of Technology",
              "state": null,
              "state_code": null
             }
            ],
            "current_organization_id": "grid.258806.1",
            "first_name": "Kazuyuki",
            "last_name": "Matsuhira",
            "orcid": "",
            "researcher_id": "ur.010076320231.66"
           }
          ]
         ],
         "id": "pub.1110582442",
         "journal": {
          "id": "jour.1038953",
          "title": "Journal of Magnetism and Magnetic Materials"
         },
         "title": "Carrier doping effect of magnetic and transport properties on the geometrically frustrated iridate Ca 5 Ir 3 O 12",
         "type": "article",
         "year": 2018
        },
        {
         "author_affiliations": [
          [
           {
            "affiliations": [
             {
              "city": "Beijing",
              "city_id": 1816670,
              "country": "China",
              "country_code": "CN",
              "id": "grid.64939.31",
              "name": "Beihang University",
              "state": null,
              "state_code": null
             }
            ],
            "current_organization_id": "",
            "first_name": "S",
            "last_name": "Terashima",
            "orcid": "",
            "researcher_id": ""
           },
           {
            "affiliations": [
             {
              "city": "Beijing",
              "city_id": 1816670,
              "country": "China",
              "country_code": "CN",
              "id": "grid.64939.31",
              "name": "Beihang University",
              "state": null,
              "state_code": null
             }
            ],
            "current_organization_id": "",
            "first_name": "L",
            "last_name": "Yu",
            "orcid": "",
            "researcher_id": ""
           },
           {
            "affiliations": [
             {
              "city": "Osaka",
              "city_id": 1853909,
              "country": "Japan",
              "country_code": "JP",
              "id": "grid.136593.b",
              "name": "Osaka University",
              "state": null,
              "state_code": null
             }
            ],
            "current_organization_id": "",
            "first_name": "H J",
            "last_name": "Ong",
            "orcid": "",
            "researcher_id": ""
           },
           {
            "affiliations": [
             {
              "city": "Beijing",
              "city_id": 1816670,
              "country": "China",
              "country_code": "CN",
              "id": "grid.64939.31",
              "name": "Beihang University",
              "state": null,
              "state_code": null
             },
             {
              "city": "Osaka",
              "city_id": 1853909,
              "country": "Japan",
              "country_code": "JP",
              "id": "grid.136593.b",
              "name": "Osaka University",
              "state": null,
              "state_code": null
             }
            ],
            "current_organization_id": "grid.64939.31",
            "first_name": "I",
            "last_name": "Tanihata",
            "orcid": "",
            "researcher_id": "ur.016261576211.25"
           },
           {
            "affiliations": [
             {
              "city": "Osaka",
              "city_id": 1853909,
              "country": "Japan",
              "country_code": "JP",
              "id": "grid.136593.b",
              "name": "Osaka University",
              "state": null,
              "state_code": null
             }
            ],
            "current_organization_id": "",
            "first_name": "S",
            "last_name": "Adachi",
            "orcid": "",
            "researcher_id": ""
           },
           {
            "affiliations": [
             {
              "city": "Osaka",
              "city_id": 1853909,
              "country": "Japan",
              "country_code": "JP",
              "id": "grid.136593.b",
              "name": "Osaka University",
              "state": null,
              "state_code": null
             }
            ],
            "current_organization_id": "",
            "first_name": "N",
            "last_name": "Aoi",
            "orcid": "",
            "researcher_id": ""
           },
           {
            "affiliations": [
             {
              "city": "Osaka",
              "city_id": 1853909,
              "country": "Japan",
              "country_code": "JP",
              "id": "grid.136593.b",
              "name": "Osaka University",
              "state": null,
              "state_code": null
             }
            ],
            "current_organization_id": "",
            "first_name": "P Y",
            "last_name": "Chan",
            "orcid": "",
            "researcher_id": ""
           },
           {
            "affiliations": [
             {
              "city": "Kyoto",
              "city_id": 1857910,
              "country": "Japan",
              "country_code": "JP",
              "id": "grid.258799.8",
              "name": "Kyoto University",
              "state": null,
              "state_code": null
             }
            ],
            "current_organization_id": "",
            "first_name": "H",
            "last_name": "Fujioka",
            "orcid": "",
            "researcher_id": ""
           },
           {
            "affiliations": [
             {
              "city": "Osaka",
              "city_id": 1853909,
              "country": "Japan",
              "country_code": "JP",
              "id": "grid.136593.b",
              "name": "Osaka University",
              "state": null,
              "state_code": null
             }
            ],
            "current_organization_id": "",
            "first_name": "M",
            "last_name": "Fukuda",
            "orcid": "",
            "researcher_id": ""
           },
           {
            "affiliations": [
             {
              "city": "Darmstadt",
              "city_id": 2938913,
              "country": "Germany",
              "country_code": "DE",
              "id": "grid.159791.2",
              "name": "GSI Helmholtz Centre for Heavy Ion Research",
              "state": null,
              "state_code": null
             },
             {
              "city": "Giessen",
              "city_id": 2920512,
              "country": "Germany",
              "country_code": "DE",
              "id": "grid.8664.c",
              "name": "University of Giessen",
              "state": null,
              "state_code": null
             }
            ],
            "current_organization_id": "grid.159791.2",
            "first_name": "H",
            "last_name": "Geissel",
            "orcid": "",
            "researcher_id": "ur.013066652257.61"
           },
           {
            "affiliations": [
             {
              "city": "Osaka",
              "city_id": 1853909,
              "country": "Japan",
              "country_code": "JP",
              "id": "grid.136593.b",
              "name": "Osaka University",
              "state": null,
              "state_code": null
             }
            ],
            "current_organization_id": "",
            "first_name": "G",
            "last_name": "Gey",
            "orcid": "",
            "researcher_id": ""
           },
           {
            "affiliations": [
             {
              "city": "Krakow",
              "city_id": 3094802,
              "country": "Poland",
              "country_code": "PL",
              "id": "grid.5522.0",
              "name": "Jagiellonian University",
              "state": null,
              "state_code": null
             }
            ],
            "current_organization_id": "grid.5522.0",
            "first_name": "J",
            "last_name": "Golak",
            "orcid": "",
            "researcher_id": "ur.07630212115.58"
           },
           {
            "affiliations": [
             {
              "city": "Darmstadt",
              "city_id": 2938913,
              "country": "Germany",
              "country_code": "DE",
              "id": "grid.159791.2",
              "name": "GSI Helmholtz Centre for Heavy Ion Research",
              "state": null,
              "state_code": null
             },
             {
              "city": "Giessen",
              "city_id": 2920512,
              "country": "Germany",
              "country_code": "DE",
              "id": "grid.8664.c",
              "name": "University of Giessen",
              "state": null,
              "state_code": null
             }
            ],
            "current_organization_id": "grid.159791.2",
            "first_name": "E",
            "last_name": "Haettner",
            "orcid": "",
            "researcher_id": "ur.01120710563.53"
           },
           {
            "affiliations": [
             {
              "city": "Osaka",
              "city_id": 1853909,
              "country": "Japan",
              "country_code": "JP",
              "id": "grid.136593.b",
              "name": "Osaka University",
              "state": null,
              "state_code": null
             }
            ],
            "current_organization_id": "",
            "first_name": "C",
            "last_name": "Iwamoto",
            "orcid": "",
            "researcher_id": ""
           },
           {
            "affiliations": [
             {
              "city": "Kyoto",
              "city_id": 1857910,
              "country": "Japan",
              "country_code": "JP",
              "id": "grid.258799.8",
              "name": "Kyoto University",
              "state": null,
              "state_code": null
             }
            ],
            "current_organization_id": "grid.258799.8",
            "first_name": "T",
            "last_name": "Kawabata",
            "orcid": "",
            "researcher_id": "ur.010110561121.82"
           },
           {
            "affiliations": [
             {
              "city": "Kitakyushu",
              "city_id": 1859307,
              "country": "Japan",
              "country_code": "JP",
              "id": "grid.258806.1",
              "name": "Kyushu Institute of Technology",
              "state": null,
              "state_code": null
             }
            ],
            "current_organization_id": "grid.258806.1",
            "first_name": "H",
            "last_name": "Kamada",
            "orcid": "",
            "researcher_id": "ur.0620051541.76"
           },
           {
            "affiliations": [
             {
              "city": "Beijing",
              "city_id": 1816670,
              "country": "China",
              "country_code": "CN",
              "id": "grid.64939.31",
              "name": "Beihang University",
              "state": null,
              "state_code": null
             }
            ],
            "current_organization_id": "",
            "first_name": "X Y",
            "last_name": "Le",
            "orcid": "",
            "researcher_id": ""
           },
           {
            "affiliations": [
             {
              "city": "Osaka",
              "city_id": 1853909,
              "country": "Japan",
              "country_code": "JP",
              "id": "grid.136593.b",
              "name": "Osaka University",
              "state": null,
              "state_code": null
             }
            ],
            "current_organization_id": "",
            "first_name": "H",
            "last_name": "Sakaguchi",
            "orcid": "",
            "researcher_id": ""
           },
           {
            "affiliations": [
             {
              "city": "Kyoto",
              "city_id": 1857910,
              "country": "Japan",
              "country_code": "JP",
              "id": "grid.258799.8",
              "name": "Kyoto University",
              "state": null,
              "state_code": null
             }
            ],
            "current_organization_id": "",
            "first_name": "A",
            "last_name": "Sakaue",
            "orcid": "",
            "researcher_id": ""
           },
           {
            "affiliations": [
             {
              "city": "Darmstadt",
              "city_id": 2938913,
              "country": "Germany",
              "country_code": "DE",
              "id": "grid.159791.2",
              "name": "GSI Helmholtz Centre for Heavy Ion Research",
              "state": null,
              "state_code": null
             },
             {
              "city": "Giessen",
              "city_id": 2920512,
              "country": "Germany",
              "country_code": "DE",
              "id": "grid.8664.c",
              "name": "University of Giessen",
              "state": null,
              "state_code": null
             }
            ],
            "current_organization_id": "grid.159791.2",
            "first_name": "C",
            "last_name": "Scheidenberger",
            "orcid": "",
            "researcher_id": "ur.01014472414.01"
           },
           {
            "affiliations": [
             {
              "city": "Krakow",
              "city_id": 3094802,
              "country": "Poland",
              "country_code": "PL",
              "id": "grid.5522.0",
              "name": "Jagiellonian University",
              "state": null,
              "state_code": null
             }
            ],
            "current_organization_id": "",
            "first_name": "R",
            "last_name": "Skibiński",
            "orcid": "",
            "researcher_id": ""
           },
           {
            "affiliations": [
             {
              "city": "Beijing",
              "city_id": 1816670,
              "country": "China",
              "country_code": "CN",
              "id": "grid.64939.31",
              "name": "Beihang University",
              "state": null,
              "state_code": null
             }
            ],
            "current_organization_id": "",
            "first_name": "B H",
            "last_name": "Sun",
            "orcid": "",
            "researcher_id": ""
           },
           {
            "affiliations": [
             {
              "city": "Osaka",
              "city_id": 1853909,
              "country": "Japan",
              "country_code": "JP",
              "id": "grid.136593.b",
              "name": "Osaka University",
              "state": null,
              "state_code": null
             }
            ],
            "current_organization_id": "",
            "first_name": "A",
            "last_name": "Tamii",
            "orcid": "",
            "researcher_id": ""
           },
           {
            "affiliations": [
             {
              "city": "Osaka",
              "city_id": 1853909,
              "country": "Japan",
              "country_code": "JP",
              "id": "grid.136593.b",
              "name": "Osaka University",
              "state": null,
              "state_code": null
             }
            ],
            "current_organization_id": "",
            "first_name": "T L",
            "last_name": "Tang",
            "orcid": "",
            "researcher_id": ""
           },
           {
            "affiliations": [
             {
              "city": "Osaka",
              "city_id": 1853909,
              "country": "Japan",
              "country_code": "JP",
              "id": "grid.136593.b",
              "name": "Osaka University",
              "state": null,
              "state_code": null
             },
             {
              "city": "Hanoi",
              "city_id": 1581130,
              "country": "Vietnam",
              "country_code": "VN",
              "id": "grid.267849.6",
              "name": "Vietnam Academy of Science and Technology",
              "state": null,
              "state_code": null
             }
            ],
            "current_organization_id": "",
            "first_name": "D T",
            "last_name": "Tran",
            "orcid": "",
            "researcher_id": ""
           },
           {
            "affiliations": [
             {
              "city": "Krakow",
              "city_id": 3094802,
              "country": "Poland",
              "country_code": "PL",
              "id": "grid.5522.0",
              "name": "Jagiellonian University",
              "state": null,
              "state_code": null
             }
            ],
            "current_organization_id": "grid.5522.0",
            "first_name": "K",
            "last_name": "Topolnicki",
            "orcid": "",
            "researcher_id": "ur.011622337461.16"
           },
           {
            "affiliations": [
             {
              "city": "Beijing",
              "city_id": 1816670,
              "country": "China",
              "country_code": "CN",
              "id": "grid.64939.31",
              "name": "Beihang University",
              "state": null,
              "state_code": null
             }
            ],
            "current_organization_id": "",
            "first_name": "T F",
            "last_name": "Wang",
            "orcid": "",
            "researcher_id": ""
           },
           {
            "affiliations": [
             {
              "city": "Tokyo",
              "city_id": 1850147,
              "country": "Japan",
              "country_code": "JP",
              "id": "grid.26999.3d",
              "name": "University of Tokyo",
              "state": null,
              "state_code": null
             }
            ],
            "current_organization_id": "",
            "first_name": "Y N",
            "last_name": "Watanabe",
            "orcid": "",
            "researcher_id": ""
           },
           {
            "affiliations": [
             {
              "city": "Darmstadt",
              "city_id": 2938913,
              "country": "Germany",
              "country_code": "DE",
              "id": "grid.159791.2",
              "name": "GSI Helmholtz Centre for Heavy Ion Research",
              "state": null,
              "state_code": null
             }
            ],
            "current_organization_id": "",
            "first_name": "H",
            "last_name": "Weick",
            "orcid": "",
            "researcher_id": ""
           },
           {
            "affiliations": [
             {
              "city": "Krakow",
              "city_id": 3094802,
              "country": "Poland",
              "country_code": "PL",
              "id": "grid.5522.0",
              "name": "Jagiellonian University",
              "state": null,
              "state_code": null
             }
            ],
            "current_organization_id": "grid.5522.0",
            "first_name": "H",
            "last_name": "Witała",
            "orcid": "",
            "researcher_id": "ur.01150722523.05"
           },
           {
            "affiliations": [
             {
              "city": "Beijing",
              "city_id": 1816670,
              "country": "China",
              "country_code": "CN",
              "id": "grid.64939.31",
              "name": "Beihang University",
              "state": null,
              "state_code": null
             }
            ],
            "current_organization_id": "",
            "first_name": "G X",
            "last_name": "Zhang",
            "orcid": "",
            "researcher_id": ""
           },
           {
            "affiliations": [
             {
              "city": "Beijing",
              "city_id": 1816670,
              "country": "China",
              "country_code": "CN",
              "id": "grid.64939.31",
              "name": "Beihang University",
              "state": null,
              "state_code": null
             }
            ],
            "current_organization_id": "",
            "first_name": "L H",
            "last_name": "Zhu",
            "orcid": "",
            "researcher_id": ""
           }
          ]
         ],
         "id": "pub.1110539532",
         "issue": "24",
         "journal": {
          "id": "jour.1018277",
          "title": "Physical Review Letters"
         },
         "pages": "242501",
         "title": "Dominance of Tensor Correlations in High-Momentum Nucleon Pairs Studied by (p,pd) Reaction",
         "type": "article",
         "volume": "121",
         "year": 2018
        },
        {
         "author_affiliations": [
          [
           {
            "affiliations": [
             {
              "city": "Osaka",
              "city_id": 1853909,
              "country": "Japan",
              "country_code": "JP",
              "id": "grid.136593.b",
              "name": "Osaka University",
              "state": null,
              "state_code": null
             }
            ],
            "current_organization_id": "grid.136593.b",
            "first_name": "Yumi",
            "last_name": "Inoue",
            "orcid": "",
            "researcher_id": "ur.07362164245.42"
           },
           {
            "affiliations": [
             {
              "city": "Osaka",
              "city_id": 1853909,
              "country": "Japan",
              "country_code": "JP",
              "id": "grid.136593.b",
              "name": "Osaka University",
              "state": null,
              "state_code": null
             },
             {
              "city": "Wako",
              "city_id": 1907300,
              "country": "Japan",
              "country_code": "JP",
              "id": "grid.7597.c",
              "name": "RIKEN",
              "state": null,
              "state_code": null
             },
             {
              "city": "Kitakyushu",
              "city_id": 1859307,
              "country": "Japan",
              "country_code": "JP",
              "id": "grid.258806.1",
              "name": "Kyushu Institute of Technology",
              "state": null,
              "state_code": null
             }
            ],
            "current_organization_id": "grid.258806.1",
            "first_name": "Yusuke V.",
            "last_name": "Morimoto",
            "orcid": "['0000-0003-1573-8967']",
            "researcher_id": "ur.0727414150.29"
           },
           {
            "affiliations": [
             {
              "city": "Osaka",
              "city_id": 1853909,
              "country": "Japan",
              "country_code": "JP",
              "id": "grid.136593.b",
              "name": "Osaka University",
              "state": null,
              "state_code": null
             },
             {
              "city": "Wako",
              "city_id": 1907300,
              "country": "Japan",
              "country_code": "JP",
              "id": "grid.7597.c",
              "name": "RIKEN",
              "state": null,
              "state_code": null
             }
            ],
            "current_organization_id": "grid.136593.b",
            "first_name": "Keiichi",
            "last_name": "Namba",
            "orcid": "",
            "researcher_id": "ur.01331553347.38"
           },
           {
            "affiliations": [
             {
              "city": "Osaka",
              "city_id": 1853909,
              "country": "Japan",
              "country_code": "JP",
              "id": "grid.136593.b",
              "name": "Osaka University",
              "state": null,
              "state_code": null
             }
            ],
            "current_organization_id": "grid.260975.f",
            "first_name": "Tohru",
            "last_name": "Minamino",
            "orcid": "['0000-0003-1627-6151']",
            "researcher_id": "ur.01027650453.21"
           }
          ]
         ],
         "id": "pub.1100592908",
         "issue": "1",
         "journal": {
          "id": "jour.1045337",
          "title": "Scientific Reports"
         },
         "pages": "1787",
         "title": "Novel insights into the mechanism of well-ordered assembly of bacterial flagellar proteins in Salmonella",
         "type": "article",
         "volume": "8",
         "year": 2018
        },
        {
         "author_affiliations": [
          [
           {
            "affiliations": [
             {
              "city": "Seri Kembangan",
              "country": "Malaysia",
              "country_code": "MY",
              "id": "grid.11142.37",
              "name": "Universiti Putra Malaysia",
              "state": null,
              "state_code": null
             },
             {
              "city": "Kitakyushu",
              "city_id": 1859307,
              "country": "Japan",
              "country_code": "JP",
              "id": "grid.258806.1",
              "name": "Kyushu Institute of Technology",
              "state": null,
              "state_code": null
             }
            ],
            "current_organization_id": "grid.258806.1",
            "first_name": "Diana",
            "last_name": "Mohd-Nor",
            "orcid": "",
            "researcher_id": "ur.014120644341.65"
           },
           {
            "affiliations": [
             {
              "city": "Seri Kembangan",
              "country": "Malaysia",
              "country_code": "MY",
              "id": "grid.11142.37",
              "name": "Universiti Putra Malaysia",
              "state": null,
              "state_code": null
             }
            ],
            "current_organization_id": "grid.11142.37",
            "first_name": "Norhayati",
            "last_name": "Ramli",
            "orcid": "['0000-0002-8015-8654']",
            "researcher_id": "ur.01324427726.08"
           },
           {
            "affiliations": [
             {
              "city": "Seri Kembangan",
              "country": "Malaysia",
              "country_code": "MY",
              "id": "grid.11142.37",
              "name": "Universiti Putra Malaysia",
              "state": null,
              "state_code": null
             }
            ],
            "current_organization_id": "grid.11142.37",
            "first_name": "Siti Suhailah",
            "last_name": "Sharuddin",
            "orcid": "",
            "researcher_id": "ur.010267246541.72"
           },
           {
            "affiliations": [
             {
              "city": "Seri Kembangan",
              "country": "Malaysia",
              "country_code": "MY",
              "id": "grid.11142.37",
              "name": "Universiti Putra Malaysia",
              "state": null,
              "state_code": null
             }
            ],
            "current_organization_id": "grid.11142.37",
            "first_name": "Mohd Ali",
            "last_name": "Hassan",
            "orcid": "",
            "researcher_id": "ur.01110226223.39"
           },
           {
            "affiliations": [
             {
              "city": "Kitakyushu",
              "city_id": 1859307,
              "country": "Japan",
              "country_code": "JP",
              "id": "grid.258806.1",
              "name": "Kyushu Institute of Technology",
              "state": null,
              "state_code": null
             }
            ],
            "current_organization_id": "grid.258806.1",
            "first_name": "Nurul Asyifah",
            "last_name": "Mustapha",
            "orcid": "",
            "researcher_id": "ur.07540001341.67"
           },
           {
            "affiliations": [
             {
              "city": "Kuala Selangor",
              "city_id": 1732891,
              "country": "Malaysia",
              "country_code": "MY",
              "id": "grid.452569.9",
              "name": "Malaysia Genome Institute",
              "state": null,
              "state_code": null
             }
            ],
            "current_organization_id": "grid.452569.9",
            "first_name": "Afzufira",
            "last_name": "Amran",
            "orcid": "",
            "researcher_id": "ur.011730322741.67"
           },
           {
            "affiliations": [
             {
              "city": "Fukuoka",
              "city_id": 1863967,
              "country": "Japan",
              "country_code": "JP",
              "id": "grid.177174.3",
              "name": "Kyushu University",
              "state": null,
              "state_code": null
             }
            ],
            "current_organization_id": "grid.177174.3",
            "first_name": "Kenji",
            "last_name": "Sakai",
            "orcid": "['0000-0002-2483-8823']",
            "researcher_id": "ur.010236607661.59"
           },
           {
            "affiliations": [
             {
              "city": "Kitakyushu",
              "city_id": 1859307,
              "country": "Japan",
              "country_code": "JP",
              "id": "grid.258806.1",
              "name": "Kyushu Institute of Technology",
              "state": null,
              "state_code": null
             }
            ],
            "current_organization_id": "grid.258806.1",
            "first_name": "Yoshihito",
            "last_name": "Shirai",
            "orcid": "",
            "researcher_id": "ur.012054304515.50"
           },
           {
            "affiliations": [
             {
              "city": "Kitakyushu",
              "city_id": 1859307,
              "country": "Japan",
              "country_code": "JP",
              "id": "grid.258806.1",
              "name": "Kyushu Institute of Technology",
              "state": null,
              "state_code": null
             }
            ],
            "current_organization_id": "grid.258806.1",
            "first_name": "Toshinari",
            "last_name": "Maeda",
            "orcid": "",
            "researcher_id": "ur.0710646763.59"
           }
          ]
         ],
         "id": "pub.1106014995",
         "journal": {
          "id": "jour.1032186",
          "title": "Ecological Indicators"
         },
         "pages": "468-473",
         "title": "Alcaligenaceae and Chromatiaceae as reliable bioindicators present in palm oil mill effluent final discharge treated by different biotreatment processes",
         "type": "article",
         "volume": "95",
         "year": 2018
        }
       ]
      },
      "text/plain": [
       "<dimcli.dimensions.Result object>"
      ]
     },
     "execution_count": 2,
     "metadata": {
      "application/json": {
       "expanded": false,
       "root": "root"
      }
     },
     "output_type": "execute_result"
    }
   ],
   "source": [
    "%%dsl_query\n",
    "search publications\n",
    "where year in [2013:2018] and research_orgs=\"grid.258806.1\"\n",
    "return publications"
   ]
  },
  {
   "cell_type": "code",
   "execution_count": 3,
   "metadata": {},
   "outputs": [],
   "source": [
    "data = _"
   ]
  },
  {
   "cell_type": "code",
   "execution_count": 4,
   "metadata": {},
   "outputs": [
    {
     "data": {
      "text/plain": [
       "[('publications', 20), ('_stats', 1)]"
      ]
     },
     "execution_count": 4,
     "metadata": {},
     "output_type": "execute_result"
    }
   ],
   "source": [
    "data.keys_and_count()"
   ]
  },
  {
   "cell_type": "code",
   "execution_count": 12,
   "metadata": {},
   "outputs": [
    {
     "name": "stdout",
     "output_type": "stream",
     "text": [
      "You said: search publications\n",
      "where year in [2016] and research_orgs=\"grid.258806.1\"\n",
      "return researchers limit 1000\n",
      "\n",
      "Tot Results:  621\n",
      "Researchers: 1000\n",
      "---\n",
      "[1] Shuzi Shuzi Hayase (id: https://app.dimensions.ai/discover/publication?and_facet_researcher=ur.01055753603.27 )\n",
      "[2] Masayuki Hikita (id: https://app.dimensions.ai/discover/publication?and_facet_researcher=ur.011212042763.67 )\n",
      "[3] Tamaki Ura (id: https://app.dimensions.ai/discover/publication?and_facet_researcher=ur.010512140067.57 )\n",
      "[4] M Kozako M Kozako (id: https://app.dimensions.ai/discover/publication?and_facet_researcher=ur.07644453127.11 )\n",
      "[5] Kazuo Ishii (id: https://app.dimensions.ai/discover/publication?and_facet_researcher=ur.010532502225.19 )\n",
      "---\n",
      "Tip: use 'show <number>' or show+Tab to see more options\n"
     ]
    },
    {
     "data": {
      "application/json": {
       "_stats": {
        "total_count": 621
       },
       "researchers": [
        {
         "count": 23,
         "first_name": "Shuzi Shuzi",
         "id": "ur.01055753603.27",
         "last_name": "Hayase",
         "research_orgs": [
          "grid.258806.1",
          "grid.410825.a",
          "grid.266298.1",
          "grid.419082.6"
         ]
        },
        {
         "count": 21,
         "first_name": "Masayuki",
         "id": "ur.011212042763.67",
         "last_name": "Hikita",
         "research_orgs": [
          "grid.258806.1",
          "grid.27476.30",
          "grid.462727.2"
         ]
        },
        {
         "count": 18,
         "first_name": "Tamaki",
         "id": "ur.010512140067.57",
         "last_name": "Ura",
         "research_orgs": [
          "grid.258806.1",
          "grid.26999.3d",
          "grid.471888.a",
          "grid.482819.e",
          "grid.5333.6"
         ]
        },
        {
         "count": 17,
         "first_name": "M Kozako M",
         "id": "ur.07644453127.11",
         "last_name": "Kozako",
         "research_orgs": [
          "grid.258806.1",
          "grid.471634.3",
          "grid.5290.e",
          "grid.4444.0",
          "grid.462727.2"
         ]
        },
        {
         "count": 16,
         "first_name": "Kazuo",
         "id": "ur.010532502225.19",
         "last_name": "Ishii",
         "research_orgs": [
          "grid.258806.1",
          "grid.26999.3d",
          "grid.412586.c",
          "grid.471761.2"
         ]
        },
        {
         "count": 16,
         "first_name": "Ting-Li",
         "id": "ur.01144540527.52",
         "last_name": "Ma",
         "research_orgs": [
          "grid.258806.1",
          "grid.30055.33",
          "grid.11135.37",
          "grid.443434.0"
         ]
        },
        {
         "count": 13,
         "first_name": "Seiichi",
         "id": "ur.011567324032.03",
         "last_name": "Serikawa",
         "research_orgs": [
          "grid.258806.1",
          "grid.268415.c"
         ]
        },
        {
         "count": 13,
         "first_name": "Huimin",
         "id": "ur.016357156077.09",
         "last_name": "Lu",
         "orcid_id": [
          "0000-0001-9794-3221"
         ],
         "research_orgs": [
          "grid.258806.1",
          "grid.54432.34",
          "grid.454850.8",
          "grid.24516.34",
          "grid.271052.3",
          "grid.268415.c",
          "grid.9227.e",
          "grid.16821.3c"
         ]
        },
        {
         "count": 12,
         "first_name": "Koichi",
         "id": "ur.010170714165.07",
         "last_name": "Yonemoto",
         "research_orgs": [
          "grid.258806.1"
         ]
        },
        {
         "count": 12,
         "first_name": "Kaname",
         "id": "ur.014430116143.81",
         "last_name": "Matsumoto",
         "research_orgs": [
          "grid.258806.1",
          "grid.459529.6",
          "grid.258799.8",
          "grid.410817.b",
          "grid.419082.6"
         ]
        },
        {
         "count": 12,
         "first_name": "Yuhei",
         "id": "ur.0662411533.69",
         "last_name": "Ogomi",
         "research_orgs": [
          "grid.258806.1",
          "grid.266298.1",
          "grid.419082.6"
         ]
        },
        {
         "count": 11,
         "first_name": "Shyam Sudhir",
         "id": "ur.011174241121.19",
         "last_name": "Pandey",
         "research_orgs": [
          "grid.258806.1",
          "grid.419701.a",
          "grid.419082.6"
         ]
        },
        {
         "count": 11,
         "first_name": "Hiroshi",
         "id": "ur.011713744411.27",
         "last_name": "Ochi",
         "research_orgs": [
          "grid.258806.1"
         ]
        },
        {
         "count": 11,
         "first_name": "Ichiro",
         "id": "ur.013017671242.22",
         "last_name": "Omura",
         "research_orgs": [
          "grid.410825.a",
          "grid.136593.b",
          "grid.5801.c",
          "grid.258806.1",
          "grid.462727.2"
         ]
        },
        {
         "count": 10,
         "first_name": "Sozo",
         "id": "ur.011107424325.85",
         "last_name": "Inoue",
         "research_orgs": [
          "grid.258806.1",
          "grid.177174.3"
         ]
        },
        {
         "count": 10,
         "first_name": "Yuhei",
         "id": "ur.012317400335.05",
         "last_name": "Nagao",
         "research_orgs": [
          "grid.258806.1"
         ]
        },
        {
         "count": 10,
         "first_name": "Yujie",
         "id": "ur.012730255305.21",
         "last_name": "Li",
         "research_orgs": [
          "grid.258806.1",
          "grid.54432.34",
          "grid.268415.c",
          "grid.9227.e",
          "grid.16821.3c",
          "grid.411497.e"
         ]
        },
        {
         "count": 10,
         "first_name": "Xiao-Qing",
         "id": "ur.016543613275.09",
         "last_name": "Wen",
         "research_orgs": [
          "grid.258806.1",
          "grid.251924.9",
          "grid.12527.33",
          "grid.419082.6"
         ]
        },
        {
         "count": 9,
         "first_name": "Toshiki",
         "id": "ur.01044007740.24",
         "last_name": "Miyazaki",
         "orcid_id": [
          "0000-0001-5642-0096"
         ],
         "research_orgs": [
          "grid.258806.1",
          "grid.260493.a",
          "grid.258799.8"
         ]
        },
        {
         "count": 9,
         "first_name": "Nobuyuki",
         "id": "ur.010474674625.53",
         "last_name": "Tsuboi",
         "research_orgs": [
          "grid.258806.1",
          "grid.450279.d",
          "grid.26999.3d",
          "grid.411253.0",
          "grid.62167.34"
         ]
        },
        {
         "count": 9,
         "first_name": "Yuya",
         "id": "ur.013726656302.59",
         "last_name": "Nishida",
         "research_orgs": [
          "grid.258806.1",
          "grid.26999.3d"
         ]
        },
        {
         "count": 9,
         "first_name": "Qing",
         "id": "ur.0617543344.56",
         "last_name": "Shen",
         "orcid_id": [
          "0000-0001-8359-3275"
         ],
         "research_orgs": [
          "grid.258806.1",
          "grid.26999.3d",
          "grid.266298.1",
          "grid.9612.c",
          "grid.419082.6"
         ]
        },
        {
         "count": 9,
         "first_name": "Taro",
         "id": "ur.0665656544.77",
         "last_name": "Toyoda",
         "research_orgs": [
          "grid.258806.1",
          "grid.266298.1",
          "grid.9612.c",
          "grid.419082.6"
         ]
        },
        {
         "count": 8,
         "first_name": "Yasunori",
         "id": "ur.011456332771.53",
         "last_name": "Mitani",
         "research_orgs": [
          "grid.258806.1",
          "grid.136593.b"
         ]
        },
        {
         "count": 8,
         "first_name": "Takashi",
         "id": "ur.012717727401.50",
         "last_name": "Sonoda",
         "research_orgs": [
          "grid.258806.1",
          "grid.471761.2",
          "grid.444302.5"
         ]
        },
        {
         "count": 8,
         "first_name": "Akihiko",
         "id": "ur.01370131513.43",
         "last_name": "Tsuge",
         "research_orgs": [
          "grid.258806.1",
          "grid.177174.3",
          "grid.42505.36"
         ]
        },
        {
         "count": 8,
         "first_name": "Hiroshi",
         "id": "ur.014211043261.68",
         "last_name": "Ito",
         "research_orgs": [
          "grid.258806.1",
          "grid.26091.3c"
         ]
        },
        {
         "count": 8,
         "first_name": "Masayuki",
         "id": "ur.016577737035.14",
         "last_name": "Kurosaki",
         "research_orgs": [
          "grid.258806.1"
         ]
        },
        {
         "count": 7,
         "first_name": "Masaaki",
         "id": "ur.011702626115.11",
         "last_name": "Tamagawa",
         "orcid_id": [
          "0000-0002-5938-346X"
         ],
         "research_orgs": [
          "grid.258806.1",
          "grid.258799.8"
         ]
        },
        {
         "count": 7,
         "first_name": "Yoshihito",
         "id": "ur.012054304515.50",
         "last_name": "Shirai",
         "research_orgs": [
          "grid.258806.1",
          "grid.260975.f",
          "grid.412586.c",
          "grid.462975.b",
          "grid.258799.8",
          "grid.412334.3"
         ]
        },
        {
         "count": 7,
         "first_name": "Koji",
         "id": "ur.013007337011.42",
         "last_name": "Miyazaki",
         "orcid_id": [
          "0000-0001-6002-343X"
         ],
         "research_orgs": [
          "grid.258806.1",
          "grid.32197.3e",
          "grid.419082.6"
         ]
        },
        {
         "count": 7,
         "first_name": "Mengu",
         "id": "ur.013152112405.28",
         "last_name": "Cho",
         "research_orgs": [
          "grid.258806.1",
          "grid.26999.3d",
          "grid.31432.37",
          "grid.33224.34",
          "grid.59025.3b",
          "grid.116068.8"
         ]
        },
        {
         "count": 7,
         "first_name": "Takashi",
         "id": "ur.013433660401.90",
         "last_name": "Morie",
         "research_orgs": [
          "grid.258806.1",
          "grid.136593.b",
          "grid.480367.e",
          "grid.257022.0",
          "grid.410834.a",
          "grid.258799.8"
         ]
        },
        {
         "count": 7,
         "first_name": "Tetsuji",
         "id": "ur.013506011335.42",
         "last_name": "Moriguchi",
         "orcid_id": [
          "0000-0002-2362-0590"
         ],
         "research_orgs": [
          "grid.258806.1",
          "grid.177174.3"
         ]
        },
        {
         "count": 7,
         "first_name": "Manabu",
         "id": "ur.013511663141.85",
         "last_name": "Ishimaru",
         "research_orgs": [
          "grid.258806.1",
          "grid.136593.b",
          "grid.177174.3",
          "grid.148313.c",
          "grid.35403.31"
         ]
        },
        {
         "count": 7,
         "first_name": "Hakaru",
         "id": "ur.016343071211.19",
         "last_name": "Tamukoh",
         "research_orgs": [
          "grid.258806.1",
          "grid.136594.c"
         ]
        },
        {
         "count": 7,
         "first_name": "Hiroyuki",
         "id": "ur.0620051541.76",
         "last_name": "Kamada",
         "research_orgs": [
          "grid.258806.1",
          "grid.26999.3d",
          "grid.8385.6",
          "grid.143643.7",
          "grid.257114.4",
          "grid.5570.7",
          "grid.6546.1",
          "grid.11696.39",
          "grid.5522.0",
          "grid.5991.4",
          "grid.69566.3a"
         ]
        },
        {
         "count": 7,
         "first_name": "Masakazu",
         "id": "ur.0655655036.28",
         "last_name": "Kawashita",
         "orcid_id": [
          "0000-0002-4329-9001"
         ],
         "research_orgs": [
          "grid.258799.8",
          "grid.69566.3a"
         ]
        },
        {
         "count": 7,
         "first_name": "Venkata Prasad",
         "id": "ur.0706777513.10",
         "last_name": "Jalli",
         "research_orgs": [
          "grid.258806.1"
         ]
        },
        {
         "count": 6,
         "first_name": "Shinobu",
         "id": "ur.010131766071.49",
         "last_name": "Sato",
         "research_orgs": [
          "grid.258806.1",
          "grid.177174.3"
         ]
        },
        {
         "count": 6,
         "first_name": "Shigeori",
         "id": "ur.01046117352.13",
         "last_name": "Takenaka",
         "research_orgs": [
          "grid.258806.1",
          "grid.177174.3"
         ]
        },
        {
         "count": 6,
         "first_name": "Mohd Ali",
         "id": "ur.01110226223.39",
         "last_name": "Hassan",
         "research_orgs": [
          "grid.11142.37"
         ]
        },
        {
         "count": 6,
         "first_name": "Tomoya",
         "id": "ur.011110035767.88",
         "last_name": "Horide",
         "research_orgs": [
          "grid.258806.1",
          "grid.258799.8",
          "grid.419082.6"
         ]
        },
        {
         "count": 6,
         "first_name": "Yoshito",
         "id": "ur.01116323260.31",
         "last_name": "Andou",
         "research_orgs": [
          "grid.258806.1",
          "grid.258622.9"
         ]
        },
        {
         "count": 6,
         "first_name": "Masato",
         "id": "ur.012177004461.55",
         "last_name": "Tsuru",
         "research_orgs": [
          "grid.258806.1",
          "grid.28312.3a"
         ]
        },
        {
         "count": 6,
         "first_name": "Haruo",
         "id": "ur.012235654007.98",
         "last_name": "Nishida",
         "orcid_id": [
          "0000-0001-6645-6463"
         ],
         "research_orgs": [
          "grid.258806.1",
          "grid.480436.d",
          "grid.258622.9"
         ]
        },
        {
         "count": 6,
         "first_name": "Ataru",
         "id": "ur.012737265351.15",
         "last_name": "Ichinose",
         "orcid_id": [
          "0000-0002-7237-1252"
         ],
         "research_orgs": [
          "grid.258806.1",
          "grid.26999.3d",
          "grid.263536.7",
          "grid.419082.6",
          "grid.14003.36",
          "grid.410817.b",
          "grid.265074.2",
          "grid.5290.e",
          "grid.177174.3",
          "grid.417751.1"
         ]
        },
        {
         "count": 6,
         "first_name": "Akira",
         "id": "ur.013265323332.30",
         "last_name": "Asada",
         "research_orgs": [
          "grid.26999.3d",
          "grid.5290.e"
         ]
        },
        {
         "count": 6,
         "first_name": "Kazuhiro",
         "id": "ur.01363435554.47",
         "last_name": "Takemoto",
         "orcid_id": [
          "0000-0002-6355-1366"
         ],
         "research_orgs": [
          "grid.258806.1",
          "grid.26999.3d",
          "grid.258799.8",
          "grid.419082.6"
         ]
        },
        {
         "count": 6,
         "first_name": "Teruhisa",
         "id": "ur.014403617266.16",
         "last_name": "Ohno",
         "research_orgs": [
          "grid.258806.1",
          "grid.136593.b",
          "grid.177174.3",
          "grid.419082.6"
         ]
        },
        {
         "count": 6,
         "first_name": "Shin'Ichi",
         "id": "ur.014772614131.11",
         "last_name": "Sagara",
         "research_orgs": [
          "grid.258806.1"
         ]
        },
        {
         "count": 6,
         "first_name": "Shinsuke",
         "id": "ur.015113266205.12",
         "last_name": "Yasukawa",
         "research_orgs": [
          "grid.258806.1",
          "grid.26999.3d",
          "grid.136593.b"
         ]
        },
        {
         "count": 6,
         "first_name": "Kazuto",
         "id": "ur.015253760145.65",
         "last_name": "Takashima",
         "orcid_id": [
          "0000-0002-3304-4443"
         ],
         "research_orgs": [
          "grid.7597.c",
          "grid.258799.8",
          "grid.258806.1"
         ]
        },
        {
         "count": 6,
         "first_name": "Fumiaki",
         "id": "ur.016313102006.73",
         "last_name": "Takemura",
         "research_orgs": [
          "grid.258806.1",
          "grid.471922.b",
          "grid.262576.2",
          "grid.482504.f"
         ]
        },
        {
         "count": 6,
         "first_name": "Masaki",
         "id": "ur.07706367411.17",
         "last_name": "Mito",
         "research_orgs": [
          "grid.258806.1",
          "grid.4991.5",
          "grid.419082.6",
          "grid.136593.b",
          "grid.177174.3",
          "grid.257022.0"
         ]
        },
        {
         "count": 5,
         "first_name": "Andreas",
         "id": "ur.01111754321.53",
         "last_name": "Nogga",
         "orcid_id": [
          "0000-0003-2156-748X"
         ],
         "research_orgs": [
          "grid.8385.6",
          "grid.10388.32",
          "grid.5570.7",
          "grid.11762.33",
          "grid.148313.c",
          "grid.20627.31",
          "grid.34477.33",
          "grid.134563.6"
         ]
        },
        {
         "count": 5,
         "first_name": "Chikamune",
         "id": "ur.01115775542.04",
         "last_name": "Wada",
         "research_orgs": [
          "grid.258806.1",
          "grid.39158.36"
         ]
        },
        {
         "count": 5,
         "first_name": "Hiroshi",
         "id": "ur.01132200670.81",
         "last_name": "Ohtake",
         "research_orgs": [
          "grid.258806.1",
          "grid.266298.1",
          "grid.26009.3d"
         ]
        },
        {
         "count": 5,
         "first_name": "Henryk",
         "id": "ur.01150722523.05",
         "last_name": "Witała",
         "research_orgs": [
          "grid.264889.9",
          "grid.266539.d",
          "grid.440684.a",
          "grid.8385.6",
          "grid.257114.4",
          "grid.5570.7",
          "grid.10388.32",
          "grid.263880.7",
          "grid.6045.7",
          "grid.5110.5",
          "grid.411377.7",
          "grid.256774.5",
          "grid.26009.3d",
          "grid.258518.3",
          "grid.5522.0",
          "grid.116068.8",
          "grid.69566.3a"
         ]
        },
        {
         "count": 5,
         "first_name": "Mitsuru",
         "id": "ur.011522423261.27",
         "last_name": "Kitamura",
         "research_orgs": [
          "grid.258806.1",
          "grid.26999.3d",
          "grid.32197.3e",
          "grid.21006.35"
         ]
        },
        {
         "count": 5,
         "first_name": "Kacper",
         "id": "ur.011622337461.16",
         "last_name": "Topolnicki",
         "research_orgs": [
          "grid.5522.0",
          "grid.264758.a"
         ]
        },
        {
         "count": 5,
         "first_name": "Yaser Soilman",
         "id": "ur.011636171157.17",
         "last_name": "Qudaih",
         "research_orgs": [
          "grid.258806.1",
          "grid.79011.3e"
         ]
        },
        {
         "count": 5,
         "first_name": "Roman",
         "id": "ur.012616114115.43",
         "last_name": "Skibiński",
         "research_orgs": [
          "grid.5522.0"
         ]
        },
        {
         "count": 5,
         "first_name": "Yoichi",
         "id": "ur.01266467252.06",
         "last_name": "Horibe",
         "research_orgs": [
          "grid.258806.1",
          "grid.261455.1",
          "grid.469490.6",
          "grid.136593.b",
          "grid.430387.b",
          "grid.5290.e",
          "grid.76978.37"
         ]
        },
        {
         "count": 5,
         "first_name": "Teresa S",
         "id": "ur.01314463063.90",
         "last_name": "Ripolles",
         "orcid_id": [
          "0000-0002-0451-176X"
         ],
         "research_orgs": [
          "grid.258806.1",
          "grid.9612.c"
         ]
        },
        {
         "count": 5,
         "first_name": "Shuichi",
         "id": "ur.015446571571.11",
         "last_name": "Kurogi",
         "research_orgs": [
          "grid.258806.1",
          "grid.32197.3e"
         ]
        },
        {
         "count": 5,
         "first_name": "Masaki",
         "id": "ur.015703114311.91",
         "last_name": "Fuchiwaki",
         "research_orgs": [
          "grid.258806.1",
          "grid.218430.c"
         ]
        },
        {
         "count": 5,
         "first_name": "Sunao",
         "id": "ur.015730445066.94",
         "last_name": "Kamimura",
         "research_orgs": [
          "grid.258806.1",
          "grid.177174.3",
          "grid.208504.b",
          "grid.419082.6"
         ]
        },
        {
         "count": 5,
         "first_name": "Takashi",
         "id": "ur.016004511017.33",
         "last_name": "Yasuda",
         "research_orgs": [
          "grid.258806.1",
          "grid.9851.5",
          "grid.411497.e"
         ]
        },
        {
         "count": 5,
         "first_name": "Kenichi",
         "id": "ur.016165642365.95",
         "last_name": "Kourai",
         "research_orgs": [
          "grid.258806.1",
          "grid.26999.3d",
          "grid.32197.3e",
          "grid.419819.c"
         ]
        },
        {
         "count": 5,
         "first_name": "Tomoyoshi",
         "id": "ur.016200412745.11",
         "last_name": "Horie",
         "orcid_id": [
          "0000-0002-1704-8137"
         ],
         "research_orgs": [
          "grid.258806.1",
          "grid.26999.3d",
          "grid.20256.33",
          "grid.471169.c"
         ]
        },
        {
         "count": 5,
         "first_name": "Kenji",
         "id": "ur.0625276603.41",
         "last_name": "Yoshino",
         "research_orgs": [
          "grid.410849.0",
          "grid.261356.5",
          "grid.419082.6"
         ]
        },
        {
         "count": 5,
         "first_name": "Toshinari",
         "id": "ur.0710646763.59",
         "last_name": "Maeda",
         "research_orgs": [
          "grid.258806.1",
          "grid.418752.d",
          "grid.264756.4"
         ]
        },
        {
         "count": 5,
         "first_name": "Duc Khai",
         "id": "ur.07446652305.48",
         "last_name": "Lam",
         "research_orgs": [
          "grid.258806.1"
         ]
        },
        {
         "count": 5,
         "first_name": "Jacek",
         "id": "ur.07630212115.58",
         "last_name": "Golak",
         "research_orgs": [
          "grid.264889.9",
          "grid.266539.d",
          "grid.257114.4",
          "grid.5570.7",
          "grid.263880.7",
          "grid.411377.7",
          "grid.256774.5",
          "grid.69566.3a",
          "grid.5522.0",
          "grid.116068.8",
          "grid.258518.3"
         ]
        },
        {
         "count": 4,
         "first_name": "Hiroyuki",
         "id": "ur.010133563551.08",
         "last_name": "Deguchi",
         "research_orgs": [
          "grid.258806.1",
          "grid.419082.6",
          "grid.136593.b",
          "grid.418051.9",
          "grid.5290.e",
          "grid.177174.3",
          "grid.32197.3e"
         ]
        },
        {
         "count": 4,
         "first_name": "Leonardo A",
         "id": "ur.010203570040.49",
         "last_name": "Lanante",
         "research_orgs": [
          "grid.258806.1",
          "grid.11134.36"
         ]
        },
        {
         "count": 4,
         "first_name": "Seiji",
         "id": "ur.010265142521.62",
         "last_name": "Kajihara",
         "research_orgs": [
          "grid.258806.1",
          "grid.260493.a",
          "grid.419082.6",
          "grid.136593.b",
          "grid.257022.0",
          "grid.169077.e"
         ]
        },
        {
         "count": 4,
         "first_name": "Ting Ting",
         "id": "ur.010375413051.46",
         "last_name": "Xu",
         "orcid_id": [
          "0000-0003-0896-3701"
         ],
         "research_orgs": [
          "grid.258806.1",
          "grid.263791.8",
          "grid.440588.5"
         ]
        },
        {
         "count": 4,
         "first_name": "Kiyoshi",
         "id": "ur.01047375070.86",
         "last_name": "Ezawa",
         "orcid_id": [
          "0000-0003-4906-8578"
         ],
         "research_orgs": [
          "grid.258806.1",
          "grid.275033.0",
          "grid.136593.b",
          "grid.288127.6",
          "grid.258799.8",
          "grid.266436.3"
         ]
        },
        {
         "count": 4,
         "first_name": "Katsunori",
         "id": "ur.01056743165.12",
         "last_name": "Mizuno",
         "research_orgs": [
          "grid.26999.3d",
          "grid.255178.c"
         ]
        },
        {
         "count": 4,
         "first_name": "Noboru",
         "id": "ur.010647607673.28",
         "last_name": "Sebe",
         "research_orgs": [
          "grid.258806.1",
          "grid.26999.3d"
         ]
        },
        {
         "count": 4,
         "first_name": "Takumi",
         "id": "ur.010751454753.32",
         "last_name": "Inoshita",
         "research_orgs": [
          "grid.5290.e"
         ]
        },
        {
         "count": 4,
         "first_name": "Evgeny",
         "id": "ur.01100734414.45",
         "last_name": "Epelbaum",
         "orcid_id": [
          "0000-0002-7613-0210"
         ],
         "research_orgs": [
          "grid.133342.4",
          "grid.8385.6",
          "grid.10388.32",
          "grid.450315.6",
          "grid.5570.7"
         ]
        },
        {
         "count": 4,
         "first_name": "Blair",
         "id": "ur.011156214225.45",
         "last_name": "Thornton",
         "research_orgs": [
          "grid.26999.3d",
          "grid.5491.9",
          "grid.5333.6"
         ]
        },
        {
         "count": 4,
         "first_name": "Kuniaki",
         "id": "ur.011207745276.80",
         "last_name": "Kawabata",
         "orcid_id": [
          "0000-0003-3330-9242"
         ],
         "research_orgs": [
          "grid.26999.3d",
          "grid.257114.4",
          "grid.20256.33",
          "grid.412773.4",
          "grid.258331.e",
          "grid.266298.1",
          "grid.258777.8",
          "grid.43169.39",
          "grid.7597.c"
         ]
        },
        {
         "count": 4,
         "first_name": "Hermann",
         "id": "ur.01147047614.22",
         "last_name": "Krebs",
         "research_orgs": [
          "grid.133342.4",
          "grid.8385.6",
          "grid.10388.32",
          "grid.5570.7"
         ]
        },
        {
         "count": 4,
         "first_name": "Kohei",
         "id": "ur.011553111001.30",
         "last_name": "Miyase",
         "research_orgs": [
          "grid.258806.1",
          "grid.260493.a",
          "grid.5963.9",
          "grid.419082.6"
         ]
        },
        {
         "count": 4,
         "first_name": "Nobuo",
         "id": "ur.011646110331.53",
         "last_name": "Sakai",
         "research_orgs": [
          "grid.258806.1",
          "grid.177174.3"
         ]
        },
        {
         "count": 4,
         "first_name": "Chun-Feng",
         "id": "ur.011651141207.73",
         "last_name": "Lan",
         "research_orgs": [
          "grid.258806.1",
          "grid.263488.3"
         ]
        },
        {
         "count": 4,
         "first_name": "Hidayah",
         "id": "ur.01171212461.29",
         "last_name": "Ariffin",
         "orcid_id": [
          "0000-0002-9381-6767"
         ],
         "research_orgs": [
          "grid.11142.37",
          "grid.258806.1",
          "grid.11875.3a"
         ]
        },
        {
         "count": 4,
         "first_name": "Daisuke",
         "id": "ur.012152525303.38",
         "last_name": "Ishihara",
         "orcid_id": [
          "0000-0002-8961-2622"
         ],
         "research_orgs": [
          "grid.258806.1",
          "grid.26999.3d",
          "grid.27476.30",
          "grid.450279.d"
         ]
        },
        {
         "count": 4,
         "first_name": "Daiki",
         "id": "ur.012377325341.30",
         "last_name": "Muto",
         "research_orgs": [
          "grid.258806.1"
         ]
        },
        {
         "count": 4,
         "first_name": "Nao-Aki",
         "id": "ur.012413075361.99",
         "last_name": "Noda",
         "research_orgs": [
          "grid.258806.1",
          "grid.177174.3"
         ]
        },
        {
         "count": 4,
         "first_name": "A Koichi",
         "id": "ur.013102645425.68",
         "last_name": "Hayashi",
         "research_orgs": [
          "grid.26999.3d",
          "grid.252311.6",
          "grid.412681.8",
          "grid.27476.30"
         ]
        },
        {
         "count": 4,
         "first_name": "Shuichi",
         "id": "ur.013160633003.10",
         "last_name": "Nagamatsu",
         "orcid_id": [
          "0000-0002-9181-1831"
         ],
         "research_orgs": [
          "grid.258806.1",
          "grid.208504.b"
         ]
        },
        {
         "count": 4,
         "first_name": "Masaki",
         "id": "ur.013214050135.04",
         "last_name": "Oshita",
         "research_orgs": [
          "grid.258806.1",
          "grid.177174.3"
         ]
        },
        {
         "count": 4,
         "first_name": "Kazuki",
         "id": "ur.013472653743.81",
         "last_name": "Tsuruta",
         "orcid_id": [
          "0000-0003-1292-9696"
         ],
         "research_orgs": [
          "grid.258806.1",
          "grid.410592.b"
         ]
        },
        {
         "count": 4,
         "first_name": "Bin",
         "id": "ur.013677302533.09",
         "last_name": "Huang",
         "research_orgs": [
          "grid.258806.1",
          "grid.13402.34"
         ]
        },
        {
         "count": 4,
         "first_name": "Kazuya",
         "id": "ur.014010043147.52",
         "last_name": "Matsuo",
         "research_orgs": [
          "grid.258806.1"
         ]
        },
        {
         "count": 4,
         "first_name": "Xing",
         "id": "ur.014054034003.65",
         "last_name": "Xu",
         "research_orgs": [
          "grid.33199.31",
          "grid.54549.39",
          "grid.177174.3",
          "grid.443382.a"
         ]
        },
        {
         "count": 4,
         "first_name": "Shuai",
         "id": "ur.014244414445.29",
         "last_name": "Zhao",
         "research_orgs": [
          "grid.258806.1"
         ]
        },
        {
         "count": 4,
         "first_name": "Yuto",
         "id": "ur.014425600345.99",
         "last_name": "Tanaka",
         "research_orgs": [
          "grid.258806.1"
         ]
        },
        {
         "count": 4,
         "first_name": "Kazunori",
         "id": "ur.014463520520.69",
         "last_name": "Hasegawa",
         "research_orgs": [
          "grid.258806.1",
          "grid.32197.3e"
         ]
        },
        {
         "count": 4,
         "first_name": "Yasumasa",
         "id": "ur.014555224061.27",
         "last_name": "Koyama",
         "research_orgs": [
          "grid.76978.37",
          "grid.5290.e"
         ]
        },
        {
         "count": 4,
         "first_name": "Nobuya",
         "id": "ur.014572317225.75",
         "last_name": "Shinozaki",
         "research_orgs": [
          "grid.258806.1",
          "grid.177174.3"
         ]
        },
        {
         "count": 4,
         "first_name": "Shota",
         "id": "ur.014660523237.32",
         "last_name": "Nakashima",
         "research_orgs": [
          "grid.258806.1",
          "grid.471761.2",
          "grid.413010.7",
          "grid.472121.3",
          "grid.268397.1"
         ]
        },
        {
         "count": 4,
         "first_name": "Kenji",
         "id": "ur.014677422535.55",
         "last_name": "Nagahashi",
         "research_orgs": [
          "grid.26999.3d",
          "grid.471774.6"
         ]
        },
        {
         "count": 4,
         "first_name": "Hiroyuki",
         "id": "ur.014747246675.66",
         "last_name": "Kurata",
         "research_orgs": [
          "grid.258806.1",
          "grid.26999.3d",
          "grid.133342.4"
         ]
        },
        {
         "count": 4,
         "first_name": "Yasuhide",
         "id": "ur.015275723154.16",
         "last_name": "Inoue",
         "research_orgs": [
          "grid.5290.e",
          "grid.466950.8",
          "grid.257022.0"
         ]
        },
        {
         "count": 4,
         "first_name": "Mochimitsu",
         "id": "ur.015611316173.53",
         "last_name": "Komori",
         "orcid_id": [
          "0000-0001-8714-3829"
         ],
         "research_orgs": [
          "grid.258806.1"
         ]
        },
        {
         "count": 4,
         "first_name": "Hiroshi",
         "id": "ur.015626044455.37",
         "last_name": "Sakai",
         "research_orgs": [
          "grid.258806.1",
          "grid.440885.5"
         ]
        },
        {
         "count": 4,
         "first_name": "Fuyuki",
         "id": "ur.015677070115.39",
         "last_name": "Katase",
         "research_orgs": [
          "grid.26999.3d"
         ]
        },
        {
         "count": 4,
         "first_name": "Paolo",
         "id": "ur.015747527565.35",
         "last_name": "Mele",
         "orcid_id": [
          "0000-0003-2007-0906"
         ],
         "research_orgs": [
          "grid.258806.1",
          "grid.419082.6",
          "grid.157869.4",
          "grid.5606.5",
          "grid.257022.0",
          "grid.258799.8",
          "grid.419152.a",
          "grid.420014.3"
         ]
        },
        {
         "count": 4,
         "first_name": "Hiroaki",
         "id": "ur.015773714465.27",
         "last_name": "Wagatsuma",
         "research_orgs": [
          "grid.258806.1",
          "grid.208504.b",
          "grid.474690.8"
         ]
        },
        {
         "count": 4,
         "first_name": "Takahiro",
         "id": "ur.016057035611.17",
         "last_name": "Okabe",
         "research_orgs": [
          "grid.258806.1",
          "grid.26999.3d",
          "grid.250343.3"
         ]
        },
        {
         "count": 4,
         "first_name": "Edmund Soji",
         "id": "ur.016217354126.04",
         "last_name": "Otabe",
         "research_orgs": [
          "grid.258806.1",
          "grid.26999.3d",
          "grid.410817.b",
          "grid.419082.6"
         ]
        },
        {
         "count": 4,
         "first_name": "Li-Guo",
         "id": "ur.016315113573.36",
         "last_name": "Gao",
         "research_orgs": [
          "grid.30055.33"
         ]
        },
        {
         "count": 4,
         "first_name": "Shin-Ichi",
         "id": "ur.016340337306.83",
         "last_name": "Nishizawa",
         "research_orgs": [
          "grid.258806.1",
          "grid.177174.3",
          "grid.5290.e",
          "grid.208504.b",
          "grid.5640.7"
         ]
        },
        {
         "count": 4,
         "first_name": "Toshiaki",
         "id": "ur.016434577603.54",
         "last_name": "Kanemoto",
         "research_orgs": [
          "grid.258806.1",
          "grid.412339.e"
         ]
        },
        {
         "count": 4,
         "first_name": "Ulf G",
         "id": "ur.016447776725.25",
         "last_name": "Meißner",
         "research_orgs": [
          "grid.6190.e",
          "grid.8385.6",
          "grid.10388.32",
          "grid.7727.5",
          "grid.5570.7",
          "grid.433124.3",
          "grid.5734.5",
          "grid.9227.e",
          "grid.26193.3f",
          "grid.486497.0",
          "grid.1957.a",
          "grid.494742.8",
          "grid.6936.a",
          "grid.36425.36",
          "grid.5254.6",
          "grid.116068.8",
          "grid.5110.5"
         ]
        },
        {
         "count": 4,
         "first_name": "Yun",
         "id": "ur.016564562324.07",
         "last_name": "Li",
         "research_orgs": [
          "grid.268415.c"
         ]
        },
        {
         "count": 4,
         "first_name": "Yasuo",
         "id": "ur.016632313553.51",
         "last_name": "Sato",
         "research_orgs": [
          "grid.258806.1",
          "grid.26999.3d",
          "grid.419082.6"
         ]
        },
        {
         "count": 4,
         "first_name": "Hiroyasu",
         "id": "ur.0653230527.79",
         "last_name": "Kanetaka",
         "research_orgs": [
          "grid.20515.33",
          "grid.69566.3a"
         ]
        },
        {
         "count": 4,
         "first_name": "Tatsuo",
         "id": "ur.0657016421.80",
         "last_name": "Okauchi",
         "research_orgs": [
          "grid.258806.1",
          "grid.26999.3d",
          "grid.20515.33",
          "grid.418765.9",
          "grid.420377.5"
         ]
        },
        {
         "count": 4,
         "first_name": "Naoki",
         "id": "ur.0660657216.32",
         "last_name": "Nakashima",
         "research_orgs": [
          "grid.177174.3",
          "grid.411248.a",
          "grid.410914.9"
         ]
        },
        {
         "count": 4,
         "first_name": "Yasunobu",
         "id": "ur.0725002653.30",
         "last_name": "Nohara",
         "orcid_id": [
          "0000-0002-2805-6597"
         ],
         "research_orgs": [
          "grid.177174.3",
          "grid.411248.a"
         ]
        },
        {
         "count": 4,
         "first_name": "Suvratha",
         "id": "ur.0754050264.20",
         "last_name": "Krishnamurthy",
         "research_orgs": [
          "grid.258806.1"
         ]
        },
        {
         "count": 4,
         "first_name": "Wataru",
         "id": "ur.07625661403.45",
         "last_name": "Takashima",
         "research_orgs": [
          "grid.258806.1",
          "grid.163577.1"
         ]
        },
        {
         "count": 4,
         "first_name": "Toshiki",
         "id": "ur.07731265526.17",
         "last_name": "Tsubota",
         "research_orgs": [
          "grid.258806.1",
          "grid.177174.3",
          "grid.471712.6"
         ]
        },
        {
         "count": 3,
         "first_name": "R Dhilip",
         "id": "ur.010046357557.19",
         "last_name": "Kumar",
         "research_orgs": [
          "grid.411312.4"
         ]
        },
        {
         "count": 3,
         "first_name": "Yasunori",
         "id": "ur.010062345725.67",
         "last_name": "Takemura",
         "research_orgs": [
          "grid.258806.1",
          "grid.444554.0",
          "grid.444302.5"
         ]
        },
        {
         "count": 3,
         "first_name": "Hirotoshi",
         "id": "ur.010072542141.62",
         "last_name": "Tsukamoto",
         "research_orgs": [
          "grid.258806.1"
         ]
        },
        {
         "count": 3,
         "first_name": "Hiroshi",
         "id": "ur.010130777111.01",
         "last_name": "Numakura",
         "orcid_id": [
          "0000-0002-3382-8993"
         ],
         "research_orgs": [
          "grid.261455.1",
          "grid.258799.8",
          "grid.419082.6",
          "grid.69566.3a"
         ]
        },
        {
         "count": 3,
         "first_name": "Hideyuki",
         "id": "ur.010206100471.59",
         "last_name": "Yasuda",
         "orcid_id": [
          "0000-0003-2344-714X"
         ],
         "research_orgs": [
          "grid.26999.3d",
          "grid.31432.37",
          "grid.5570.7",
          "grid.136593.b",
          "grid.21941.3f",
          "grid.258799.8"
         ]
        },
        {
         "count": 3,
         "first_name": "Daisuke",
         "id": "ur.010207475623.17",
         "last_name": "Hirotani",
         "research_orgs": [
          "grid.258806.1",
          "grid.257022.0",
          "grid.410849.0",
          "grid.412155.6"
         ]
        },
        {
         "count": 3,
         "first_name": "Bijnan",
         "id": "ur.010317261625.93",
         "last_name": "Bandyopadhyay",
         "orcid_id": [
          "0000-0003-1255-0352"
         ],
         "research_orgs": [
          "grid.417967.a",
          "grid.444321.4",
          "grid.5570.7",
          "grid.44871.3e",
          "grid.59056.3f",
          "grid.440667.7",
          "grid.418304.a",
          "grid.467220.5",
          "grid.417971.d",
          "grid.7942.8"
         ]
        },
        {
         "count": 3,
         "first_name": "Masayuki",
         "id": "ur.010344646145.98",
         "last_name": "Okugawa",
         "orcid_id": [
          "0000-0002-6844-6856"
         ],
         "research_orgs": [
          "grid.261455.1"
         ]
        },
        {
         "count": 3,
         "first_name": "Manish",
         "id": "ur.010416773662.27",
         "last_name": "Pandey",
         "orcid_id": [
          "0000-0003-0963-8097"
         ],
         "research_orgs": [
          "grid.258806.1"
         ]
        },
        {
         "count": 3,
         "first_name": "Akihiko",
         "id": "ur.010520115441.48",
         "last_name": "Itose",
         "research_orgs": [
          "grid.258806.1"
         ]
        },
        {
         "count": 3,
         "first_name": "Noriaki",
         "id": "ur.010525745231.00",
         "last_name": "Suetake",
         "research_orgs": [
          "grid.258806.1",
          "grid.20515.33",
          "grid.268397.1"
         ]
        },
        {
         "count": 3,
         "first_name": "Jonghyun",
         "id": "ur.010527406001.37",
         "last_name": "Ahn",
         "research_orgs": [
          "grid.258806.1"
         ]
        },
        {
         "count": 3,
         "first_name": "Tomohiro",
         "id": "ur.01055553442.40",
         "last_name": "Kawahara",
         "orcid_id": [
          "0000-0003-0983-1452"
         ],
         "research_orgs": [
          "grid.258806.1",
          "grid.27476.30",
          "grid.257022.0",
          "grid.116068.8"
         ]
        },
        {
         "count": 3,
         "first_name": "Li",
         "id": "ur.010645342741.69",
         "last_name": "He",
         "orcid_id": [
          "0000-0002-6681-0933"
         ],
         "research_orgs": [
          "grid.33199.31",
          "grid.430388.4",
          "grid.24434.35"
         ]
        },
        {
         "count": 3,
         "first_name": "Ken'Ichi",
         "id": "ur.010775467167.54",
         "last_name": "Asami",
         "research_orgs": [
          "grid.258806.1"
         ]
        },
        {
         "count": 3,
         "first_name": "Mitsunori",
         "id": "ur.011015545446.79",
         "last_name": "Mizumachi",
         "research_orgs": [
          "grid.258806.1",
          "grid.418163.9"
         ]
        },
        {
         "count": 3,
         "first_name": "Yutaka",
         "id": "ur.011045165711.47",
         "last_name": "Yoshida",
         "research_orgs": [
          "grid.410817.b",
          "grid.268394.2",
          "grid.27476.30",
          "grid.419082.6"
         ]
        },
        {
         "count": 3,
         "first_name": "Naoya",
         "id": "ur.01106502373.54",
         "last_name": "Murakami",
         "research_orgs": [
          "grid.258806.1",
          "grid.39158.36",
          "grid.419082.6"
         ]
        },
        {
         "count": 3,
         "first_name": "Sheng Lin",
         "id": "ur.011073117221.16",
         "last_name": "Mu",
         "research_orgs": [
          "grid.482504.f",
          "grid.255464.4",
          "grid.468865.1",
          "grid.268397.1"
         ]
        },
        {
         "count": 3,
         "first_name": "Thongchart",
         "id": "ur.011135745545.14",
         "last_name": "Kerdphol",
         "orcid_id": [
          "0000-0002-4782-1207"
         ],
         "research_orgs": [
          "grid.258806.1",
          "grid.9723.f"
         ]
        },
        {
         "count": 3,
         "first_name": "Samira",
         "id": "ur.01114651615.70",
         "last_name": "Bagheri",
         "orcid_id": [
          "0000-0003-1130-2656"
         ],
         "research_orgs": [
          "grid.23856.3a",
          "grid.10347.31",
          "grid.429997.8",
          "grid.412057.5"
         ]
        },
        {
         "count": 3,
         "first_name": "Tsuyoshi",
         "id": "ur.011156363337.63",
         "last_name": "Hanamoto",
         "research_orgs": [
          "grid.258806.1"
         ]
        },
        {
         "count": 3,
         "first_name": "Masanori",
         "id": "ur.011211756027.38",
         "last_name": "Tsukuda",
         "research_orgs": [
          "grid.258806.1",
          "grid.471432.7",
          "grid.419152.a",
          "grid.410825.a"
         ]
        },
        {
         "count": 3,
         "first_name": "Hirofumi",
         "id": "ur.01144262565.40",
         "last_name": "Tanaka",
         "orcid_id": [
          "0000-0002-4378-5747"
         ],
         "research_orgs": [
          "grid.258806.1",
          "grid.275033.0",
          "grid.419082.6",
          "grid.136593.b",
          "grid.29857.31",
          "grid.467196.b"
         ]
        },
        {
         "count": 3,
         "first_name": "Minato",
         "id": "ur.01145375305.09",
         "last_name": "Wakisaka",
         "research_orgs": [
          "grid.258806.1"
         ]
        },
        {
         "count": 3,
         "first_name": "Kazumasa",
         "id": "ur.011464030011.85",
         "last_name": "Miyake",
         "research_orgs": [
          "grid.470014.6",
          "grid.136593.b",
          "grid.457339.f",
          "grid.27476.30",
          "grid.9621.c",
          "grid.12082.39",
          "grid.431860.8",
          "grid.69566.3a"
         ]
        },
        {
         "count": 3,
         "first_name": "Shrikant",
         "id": "ur.011522456611.01",
         "last_name": "Saini",
         "research_orgs": [
          "grid.420014.3",
          "grid.257022.0",
          "grid.411277.6",
          "grid.223827.e"
         ]
        },
        {
         "count": 3,
         "first_name": "Hideaki",
         "id": "ur.01153723547.49",
         "last_name": "Matsui",
         "research_orgs": [
          "grid.258806.1"
         ]
        },
        {
         "count": 3,
         "first_name": "Mitsuhiro",
         "id": "ur.011672362332.60",
         "last_name": "Kojima",
         "research_orgs": [
          "grid.26999.3d"
         ]
        },
        {
         "count": 3,
         "first_name": "Naonori",
         "id": "ur.01167256360.50",
         "last_name": "Ueda",
         "research_orgs": [
          "grid.419819.c",
          "grid.136593.b"
         ]
        },
        {
         "count": 3,
         "first_name": "Yoichi",
         "id": "ur.012100301131.20",
         "last_name": "Sato",
         "research_orgs": [
          "grid.26999.3d",
          "grid.147455.6"
         ]
        },
        {
         "count": 3,
         "first_name": "Chiharu",
         "id": "ur.012202545627.23",
         "last_name": "Hirayama",
         "research_orgs": [
          "grid.258806.1"
         ]
        },
        {
         "count": 3,
         "first_name": "Hyoung-Seop",
         "id": "ur.012240303741.11",
         "last_name": "Kim",
         "research_orgs": [
          "grid.258806.1",
          "grid.268415.c"
         ]
        },
        {
         "count": 3,
         "first_name": "Hiroshi",
         "id": "ur.012313500047.45",
         "last_name": "Ohtake",
         "research_orgs": [
          "grid.258806.1"
         ]
        },
        {
         "count": 3,
         "first_name": "Subbian",
         "id": "ur.012361742421.18",
         "last_name": "Karuppuchamy",
         "research_orgs": [
          "grid.256342.4",
          "grid.411312.4",
          "grid.258806.1",
          "grid.258622.9",
          "grid.11142.37"
         ]
        },
        {
         "count": 3,
         "first_name": "Masami Tanahashi",
         "id": "ur.01237461225.21",
         "last_name": "Hashimoto",
         "research_orgs": [
          "grid.410791.a",
          "grid.266298.1"
         ]
        },
        {
         "count": 3,
         "first_name": "Kazutaka",
         "id": "ur.012416622045.89",
         "last_name": "Shimada",
         "research_orgs": [
          "grid.258806.1"
         ]
        },
        {
         "count": 3,
         "first_name": "Satoshi",
         "id": "ur.012433746665.15",
         "last_name": "Awaji",
         "orcid_id": [
          "0000-0003-2043-1628"
         ],
         "research_orgs": [
          "grid.443870.c",
          "grid.419082.6",
          "grid.458461.a",
          "grid.5290.e",
          "grid.257022.0",
          "grid.7597.c",
          "grid.69566.3a"
         ]
        },
        {
         "count": 3,
         "first_name": "Youhi",
         "id": "ur.012500165045.17",
         "last_name": "Morii",
         "research_orgs": [
          "grid.275033.0",
          "grid.62167.34"
         ]
        },
        {
         "count": 3,
         "first_name": "Nico",
         "id": "ur.012502720625.16",
         "last_name": "Surantha",
         "orcid_id": [
          "0000-0002-7500-3199"
         ],
         "research_orgs": [
          "grid.258806.1",
          "grid.440753.1"
         ]
        },
        {
         "count": 3,
         "first_name": "Tomohide",
         "id": "ur.012537450303.56",
         "last_name": "Yabuki",
         "research_orgs": [
          "grid.258806.1",
          "grid.47840.3f",
          "grid.411764.1"
         ]
        },
        {
         "count": 3,
         "first_name": "Noriyuki",
         "id": "ur.012576061043.37",
         "last_name": "Kushiro",
         "research_orgs": [
          "grid.258806.1",
          "grid.26999.3d",
          "grid.20515.33",
          "grid.462605.3"
         ]
        },
        {
         "count": 3,
         "first_name": "Yuta",
         "id": "ur.012630164247.32",
         "last_name": "Yamato",
         "research_orgs": [
          "grid.258806.1",
          "grid.260493.a",
          "grid.419082.6"
         ]
        },
        {
         "count": 3,
         "first_name": "Seiya",
         "id": "ur.013023173241.20",
         "last_name": "Abe",
         "research_orgs": [
          "grid.258806.1",
          "grid.177174.3",
          "grid.471432.7"
         ]
        },
        {
         "count": 3,
         "first_name": "Kazuhiro",
         "id": "ur.013253376622.28",
         "last_name": "Tominaga",
         "research_orgs": [
          "grid.258806.1",
          "grid.411238.d",
          "grid.174567.6",
          "grid.4714.6"
         ]
        },
        {
         "count": 3,
         "first_name": "Tada-Aki",
         "id": "ur.01325736104.83",
         "last_name": "Kudo",
         "research_orgs": [
          "grid.20515.33",
          "grid.69566.3a"
         ]
        },
        {
         "count": 3,
         "first_name": "Masamichi",
         "id": "ur.013407400701.15",
         "last_name": "Naitoh",
         "research_orgs": [
          "grid.258806.1",
          "grid.136593.b"
         ]
        },
        {
         "count": 3,
         "first_name": "Ryusuke",
         "id": "ur.013515037561.46",
         "last_name": "Nakamura",
         "orcid_id": [
          "0000-0002-6238-704X"
         ],
         "research_orgs": [
          "grid.261455.1",
          "grid.136593.b",
          "grid.4817.a",
          "grid.69566.3a"
         ]
        },
        {
         "count": 3,
         "first_name": "Keiichi",
         "id": "ur.013547467411.15",
         "last_name": "Horio",
         "research_orgs": [
          "grid.258806.1"
         ]
        },
        {
         "count": 3,
         "first_name": "Kenji",
         "id": "ur.013554011561.50",
         "last_name": "Katayama",
         "orcid_id": [
          "0000-0003-3278-6485"
         ],
         "research_orgs": [
          "grid.419705.e",
          "grid.26999.3d",
          "grid.443595.a",
          "grid.116068.8",
          "grid.419082.6"
         ]
        },
        {
         "count": 3,
         "first_name": "Masashi",
         "id": "ur.013627237331.72",
         "last_name": "Nomoto",
         "research_orgs": [
          "grid.5290.e"
         ]
        },
        {
         "count": 3,
         "first_name": "Michinori",
         "id": "ur.013640204473.32",
         "last_name": "Nakata",
         "research_orgs": [
          "grid.443364.2",
          "grid.440885.5"
         ]
        },
        {
         "count": 3,
         "first_name": "Tomonori",
         "id": "ur.013656107025.53",
         "last_name": "Ikari",
         "research_orgs": [
          "grid.258806.1",
          "grid.6553.5",
          "grid.5164.6",
          "grid.472121.3"
         ]
        },
        {
         "count": 3,
         "first_name": "Kei-Ichi",
         "id": "ur.014001676251.26",
         "last_name": "Okuyama",
         "orcid_id": [
          "0000-0002-3275-7572"
         ],
         "research_orgs": [
          "grid.443569.9",
          "grid.136593.b",
          "grid.258806.1"
         ]
        },
        {
         "count": 3,
         "first_name": "Kota",
         "id": "ur.014453405141.59",
         "last_name": "Tanaka",
         "research_orgs": [
          "grid.258806.1"
         ]
        },
        {
         "count": 3,
         "first_name": "Yoshihisa",
         "id": "ur.014462273762.86",
         "last_name": "Nakatoh",
         "research_orgs": [
          "grid.258806.1"
         ]
        },
        {
         "count": 3,
         "first_name": "Masaaki",
         "id": "ur.014543122110.97",
         "last_name": "Takezawa",
         "research_orgs": [
          "grid.258806.1",
          "grid.69566.3a"
         ]
        },
        {
         "count": 3,
         "first_name": "Takayuki",
         "id": "ur.014576745545.59",
         "last_name": "Yanagida",
         "orcid_id": [
          "0000-0002-4298-5886"
         ],
         "research_orgs": [
          "grid.258806.1",
          "grid.26999.3d",
          "grid.260493.a",
          "grid.19006.3e",
          "grid.445003.6",
          "grid.9707.9",
          "grid.450279.d",
          "grid.69566.3a"
         ]
        },
        {
         "count": 3,
         "first_name": "Adrian",
         "id": "ur.014657146142.61",
         "last_name": "Bodenmann",
         "research_orgs": [
          "grid.26999.3d",
          "grid.5333.6"
         ]
        },
        {
         "count": 3,
         "first_name": "Keisuke",
         "id": "ur.014662563344.56",
         "last_name": "Yoshida",
         "research_orgs": [
          "grid.258806.1"
         ]
        },
        {
         "count": 3,
         "first_name": "Leonid M",
         "id": "ur.014700575323.13",
         "last_name": "Fridman",
         "orcid_id": [
          "0000-0003-0208-3615"
         ],
         "research_orgs": [
          "grid.4444.0",
          "grid.410413.3",
          "grid.457352.2",
          "grid.12136.37",
          "grid.28056.39",
          "grid.9486.3",
          "grid.9918.9",
          "grid.113032.2",
          "grid.418275.d"
         ]
        },
        {
         "count": 3,
         "first_name": "Thach Ngoc",
         "id": "ur.014707532363.98",
         "last_name": "Dinh",
         "orcid_id": [
          "0000-0001-8827-0993"
         ],
         "research_orgs": [
          "grid.258806.1",
          "grid.12810.3a",
          "grid.424471.0",
          "grid.5328.c",
          "grid.58140.38",
          "grid.36823.3c"
         ]
        },
        {
         "count": 3,
         "first_name": "Motoki",
         "id": "ur.015045455451.47",
         "last_name": "Miura",
         "orcid_id": [
          "0000-0002-7579-9449"
         ],
         "research_orgs": [
          "grid.258806.1",
          "grid.444515.5",
          "grid.20515.33"
         ]
        },
        {
         "count": 3,
         "first_name": "Eiji",
         "id": "ur.015114131505.05",
         "last_name": "Miyano",
         "research_orgs": [
          "grid.258806.1",
          "grid.411241.3",
          "grid.177174.3"
         ]
        },
        {
         "count": 3,
         "first_name": "Shota",
         "id": "ur.015144665027.04",
         "last_name": "Hama",
         "research_orgs": [
          "grid.258806.1"
         ]
        },
        {
         "count": 3,
         "first_name": "Shyam",
         "id": "ur.015404170641.42",
         "last_name": "Kamal",
         "research_orgs": [
          "grid.258806.1",
          "grid.411895.0",
          "grid.417971.d",
          "grid.411507.6"
         ]
        },
        {
         "count": 3,
         "first_name": "Keishi",
         "id": "ur.015422507425.29",
         "last_name": "Yamaguchi",
         "research_orgs": [
          "grid.258806.1"
         ]
        },
        {
         "count": 3,
         "first_name": "Kazuhiro",
         "id": "ur.015564453121.12",
         "last_name": "Tanaka",
         "research_orgs": [
          "grid.258806.1"
         ]
        },
        {
         "count": 3,
         "first_name": "Kiyoto",
         "id": "ur.015566475165.77",
         "last_name": "Murakami",
         "research_orgs": [
          "grid.258806.1"
         ]
        },
        {
         "count": 3,
         "first_name": "Junko",
         "id": "ur.015665730125.21",
         "last_name": "Ishii",
         "research_orgs": [
          "grid.258806.1"
         ]
        },
        {
         "count": 3,
         "first_name": "Koichi",
         "id": "ur.015735065123.97",
         "last_name": "Kikkawa",
         "research_orgs": [
          "grid.258806.1"
         ]
        },
        {
         "count": 3,
         "first_name": "Ajay Kumar",
         "id": "ur.016117327717.31",
         "last_name": "Baranwal",
         "orcid_id": [
          "0000-0003-4582-4532"
         ],
         "research_orgs": [
          "grid.258806.1",
          "grid.266453.0",
          "grid.413618.9",
          "grid.414638.c"
         ]
        },
        {
         "count": 3,
         "first_name": "Stefan",
         "id": "ur.016215117615.06",
         "last_name": "Holst",
         "research_orgs": [
          "grid.258806.1",
          "grid.5719.a"
         ]
        },
        {
         "count": 3,
         "first_name": "Takahiro",
         "id": "ur.016372377477.22",
         "last_name": "Himuro",
         "research_orgs": [
          "grid.258806.1"
         ]
        },
        {
         "count": 3,
         "first_name": "Keita",
         "id": "ur.016450426561.60",
         "last_name": "Hirayama",
         "research_orgs": [
          "grid.471922.b",
          "grid.412804.b"
         ]
        },
        {
         "count": 3,
         "first_name": "Shota",
         "id": "ur.016470642663.43",
         "last_name": "Chikushi",
         "research_orgs": [
          "grid.258806.1",
          "grid.444554.0"
         ]
        },
        {
         "count": 3,
         "first_name": "Kai",
         "id": "ur.016650303231.35",
         "last_name": "Hebeler",
         "research_orgs": [
          "grid.232474.4",
          "grid.159791.2",
          "grid.261331.4",
          "grid.6546.1"
         ]
        },
        {
         "count": 3,
         "first_name": "Hiroyuki",
         "id": "ur.0615727665.20",
         "last_name": "Miyamoto",
         "research_orgs": [
          "grid.258806.1",
          "grid.26999.3d",
          "grid.419082.6",
          "grid.136593.b",
          "grid.418163.9",
          "grid.7597.c",
          "grid.474690.8"
         ]
        },
        {
         "count": 3,
         "first_name": "Chenxi",
         "id": "ur.07455477077.27",
         "last_name": "Liu",
         "research_orgs": [
          "grid.258806.1"
         ]
        },
        {
         "count": 3,
         "first_name": "Yingbing",
         "id": "ur.0752024141.42",
         "last_name": "Shi",
         "orcid_id": [
          "0000-0002-2761-8324"
         ],
         "research_orgs": [
          "grid.24515.37",
          "grid.41156.37",
          "grid.410726.6",
          "grid.284723.8",
          "grid.64924.3d",
          "grid.458438.6",
          "grid.411857.e",
          "grid.418929.f",
          "grid.134907.8",
          "grid.216938.7",
          "grid.47894.36",
          "grid.59062.38",
          "grid.12527.33",
          "grid.458492.6",
          "grid.453213.2",
          "grid.214007.0",
          "grid.454727.7",
          "grid.5037.1",
          "grid.30055.33",
          "grid.263826.b",
          "grid.440646.4",
          "grid.250464.1",
          "grid.21925.3d",
          "grid.39382.33",
          "grid.440259.e",
          "grid.412110.7",
          "grid.9227.e",
          "grid.440673.2",
          "grid.223827.e"
         ]
        },
        {
         "count": 3,
         "first_name": "Akihiro",
         "id": "ur.07526624011.09",
         "last_name": "Fujiwara",
         "research_orgs": [
          "grid.258806.1",
          "grid.260493.a"
         ]
        },
        {
         "count": 3,
         "first_name": "Shinji",
         "id": "ur.07727660141.67",
         "last_name": "Watanabe",
         "research_orgs": [
          "grid.258806.1",
          "grid.26999.3d",
          "grid.136593.b",
          "grid.177174.3"
         ]
        },
        {
         "count": 2,
         "first_name": "Takeru",
         "id": "ur.010002742625.66",
         "last_name": "Nose",
         "research_orgs": [
          "grid.258806.1",
          "grid.177174.3"
         ]
        },
        {
         "count": 2,
         "first_name": "Huan",
         "id": "ur.010023433567.44",
         "last_name": "Li",
         "research_orgs": [
          "grid.258806.1"
         ]
        },
        {
         "count": 2,
         "first_name": "Kangsoo",
         "id": "ur.010034612045.03",
         "last_name": "Kim",
         "research_orgs": [
          "grid.419819.c",
          "grid.26999.3d",
          "grid.471888.a"
         ]
        },
        {
         "count": 2,
         "first_name": "Takeshi",
         "id": "ur.010072040157.55",
         "last_name": "Nishida",
         "research_orgs": [
          "grid.258806.1",
          "grid.9906.6"
         ]
        },
        {
         "count": 2,
         "first_name": "Masaru",
         "id": "ur.010074027265.36",
         "last_name": "Kiuchi",
         "research_orgs": [
          "grid.258806.1",
          "grid.26999.3d",
          "grid.177174.3",
          "grid.410817.b",
          "grid.419082.6"
         ]
        },
        {
         "count": 2,
         "first_name": "Yuji",
         "id": "ur.010075125004.38",
         "last_name": "Sanjo",
         "research_orgs": [
          "grid.258806.1"
         ]
        },
        {
         "count": 2,
         "first_name": "Hirofumi",
         "id": "ur.010107250711.42",
         "last_name": "Fukumaru",
         "research_orgs": [
          "grid.258806.1"
         ]
        },
        {
         "count": 2,
         "first_name": "Akira",
         "id": "ur.010122120035.90",
         "last_name": "Oyama",
         "research_orgs": [
          "grid.450279.d",
          "grid.26999.3d",
          "grid.419077.c",
          "grid.62167.34",
          "grid.69566.3a"
         ]
        },
        {
         "count": 2,
         "first_name": "Mako",
         "id": "ur.010123140124.69",
         "last_name": "Shirouzu"
        },
        {
         "count": 2,
         "first_name": "Norman Bin",
         "id": "ur.01015213247.03",
         "last_name": "Mariun",
         "research_orgs": [
          "grid.11142.37",
          "grid.6268.a",
          "grid.40803.3f"
         ]
        },
        {
         "count": 2,
         "first_name": "Tomoichirou",
         "id": "ur.01016124622.36",
         "last_name": "Kusumoto",
         "research_orgs": [
          "grid.258806.1"
         ]
        },
        {
         "count": 2,
         "first_name": "Kei",
         "id": "ur.010171250247.82",
         "last_name": "Ogasawara"
        },
        {
         "count": 2,
         "first_name": "Daigo",
         "id": "ur.010204504766.55",
         "last_name": "Komesu",
         "research_orgs": [
          "grid.258806.1"
         ]
        },
        {
         "count": 2,
         "first_name": "Maki",
         "id": "ur.010240465035.18",
         "last_name": "Hasegawa",
         "research_orgs": [
          "grid.69566.3a"
         ]
        },
        {
         "count": 2,
         "first_name": "Masatomo",
         "id": "ur.010247514400.16",
         "last_name": "Ichige",
         "research_orgs": [
          "grid.258806.1"
         ]
        },
        {
         "count": 2,
         "first_name": "Yuji",
         "id": "ur.010261153733.72",
         "last_name": "Morimoto",
         "research_orgs": [
          "grid.258806.1"
         ]
        },
        {
         "count": 2,
         "first_name": "Shui-Hua",
         "id": "ur.010274574067.86",
         "last_name": "Wang",
         "research_orgs": [
          "grid.258806.1",
          "grid.412097.9",
          "grid.41156.37",
          "grid.260474.3",
          "grid.263826.b",
          "grid.254250.4",
          "grid.484369.4",
          "grid.9918.9",
          "grid.6571.5",
          "grid.443514.3",
          "grid.256609.e"
         ]
        },
        {
         "count": 2,
         "first_name": "Kenji",
         "id": "ur.010275113265.28",
         "last_name": "Okamoto",
         "research_orgs": [
          "grid.471128.9"
         ]
        },
        {
         "count": 2,
         "first_name": "Koutaro",
         "id": "ur.010275304061.29",
         "last_name": "Miyazaki",
         "research_orgs": [
          "grid.26999.3d"
         ]
        },
        {
         "count": 2,
         "first_name": "Yoshio",
         "id": "ur.010320372342.47",
         "last_name": "Ebihara",
         "research_orgs": [
          "grid.4444.0",
          "grid.258799.8",
          "grid.462430.7"
         ]
        },
        {
         "count": 2,
         "first_name": "Midori",
         "id": "ur.01032175254.16",
         "last_name": "Iida",
         "research_orgs": [
          "grid.258806.1",
          "grid.255464.4"
         ]
        },
        {
         "count": 2,
         "first_name": "Keita",
         "id": "ur.010336434075.06",
         "last_name": "Kamiyama"
        },
        {
         "count": 2,
         "first_name": "Shuji",
         "id": "ur.01035236171.02",
         "last_name": "Aou",
         "research_orgs": [
          "grid.258806.1",
          "grid.260975.f",
          "grid.467811.d",
          "grid.267346.2",
          "grid.419082.6",
          "grid.174567.6",
          "grid.260433.0",
          "grid.19006.3e",
          "grid.177174.3",
          "grid.9679.1"
         ]
        },
        {
         "count": 2,
         "first_name": "Sven",
         "id": "ur.01037436251.53",
         "last_name": "Binder",
         "research_orgs": [
          "grid.135519.a",
          "grid.411461.7",
          "grid.6546.1"
         ]
        },
        {
         "count": 2,
         "first_name": "Kyunghoon",
         "id": "ur.010402154535.26",
         "last_name": "Jang",
         "research_orgs": [
          "grid.258806.1"
         ]
        },
        {
         "count": 2,
         "first_name": "Kousuke",
         "id": "ur.01042142003.28",
         "last_name": "Hanada",
         "orcid_id": [
          "0000-0001-8854-4261"
         ],
         "research_orgs": [
          "grid.258806.1",
          "grid.419082.6",
          "grid.27476.30",
          "grid.288127.6",
          "grid.136304.3",
          "grid.17088.36",
          "grid.7597.c",
          "grid.170205.1"
         ]
        },
        {
         "count": 2,
         "first_name": "Fawwaz Mohd",
         "id": "ur.010444613713.93",
         "last_name": "Nasir",
         "orcid_id": [
          "0000-0001-8798-2737"
         ],
         "research_orgs": [
          "grid.410877.d",
          "grid.444483.b"
         ]
        },
        {
         "count": 2,
         "first_name": "Y Ucirc Ki",
         "id": "ur.010451412641.82",
         "last_name": "Nishimura",
         "orcid_id": [
          "0000-0003-3665-8827"
         ],
         "research_orgs": [
          "grid.39158.36",
          "grid.258333.c",
          "grid.268397.1"
         ]
        },
        {
         "count": 2,
         "first_name": "Kazuhide",
         "id": "ur.010453757405.16",
         "last_name": "Domoto",
         "research_orgs": [
          "grid.174567.6"
         ]
        },
        {
         "count": 2,
         "first_name": "Ming",
         "id": "ur.01047320225.24",
         "last_name": "Zhang",
         "research_orgs": [
          "grid.268415.c"
         ]
        },
        {
         "count": 2,
         "first_name": "Masahiro",
         "id": "ur.010546744331.49",
         "last_name": "Moriya",
         "research_orgs": [
          "grid.258806.1"
         ]
        },
        {
         "count": 2,
         "first_name": "Atsushi",
         "id": "ur.010552340121.45",
         "last_name": "Shiota",
         "research_orgs": [
          "grid.258806.1"
         ]
        },
        {
         "count": 2,
         "first_name": "Nusrat",
         "id": "ur.01055512174.06",
         "last_name": "Jahan",
         "research_orgs": [
          "grid.258806.1",
          "grid.24433.32",
          "grid.440526.1",
          "grid.442989.a",
          "grid.32224.35",
          "grid.411818.5",
          "grid.414142.6",
          "grid.55602.34",
          "grid.412656.2",
          "grid.411555.1",
          "grid.411340.3",
          "grid.258041.a",
          "grid.36425.36",
          "grid.240684.c",
          "grid.413343.2",
          "grid.258676.8",
          "grid.410877.d",
          "grid.411959.1"
         ]
        },
        {
         "count": 2,
         "first_name": "Masafumi",
         "id": "ur.010560160727.14",
         "last_name": "Kuwada",
         "research_orgs": [
          "grid.258806.1"
         ]
        },
        {
         "count": 2,
         "first_name": "Shokichi",
         "id": "ur.010560363453.86",
         "last_name": "Ohuchi",
         "research_orgs": [
          "grid.419680.2",
          "grid.32197.3e",
          "grid.418798.b",
          "grid.136594.c",
          "grid.258806.1"
         ]
        },
        {
         "count": 2,
         "first_name": "Shamsul",
         "id": "ur.010563211213.42",
         "last_name": "Mohamad",
         "research_orgs": [
          "grid.410877.d",
          "grid.444483.b"
         ]
        },
        {
         "count": 2,
         "first_name": "Tsuyoshi",
         "id": "ur.01063257145.56",
         "last_name": "Kawai",
         "research_orgs": [
          "grid.4444.0",
          "grid.260493.a",
          "grid.136593.b",
          "grid.266298.1",
          "grid.177174.3",
          "grid.462730.4",
          "grid.262576.2",
          "grid.419209.7"
         ]
        },
        {
         "count": 2,
         "first_name": "Yasuo",
         "id": "ur.010634767053.33",
         "last_name": "Takahashi",
         "research_orgs": [
          "grid.419819.c",
          "grid.39158.36",
          "grid.69566.3a"
         ]
        },
        {
         "count": 2,
         "first_name": "Minoru",
         "id": "ur.010643621061.03",
         "last_name": "Iwata",
         "research_orgs": [
          "grid.258806.1"
         ]
        },
        {
         "count": 2,
         "first_name": "Youichi",
         "id": "ur.010647623656.74",
         "last_name": "Shimizu",
         "orcid_id": [
          "0000-0002-2597-4608"
         ],
         "research_orgs": [
          "grid.258806.1",
          "grid.177174.3"
         ]
        },
        {
         "count": 2,
         "first_name": "Hidetoshi",
         "id": "ur.010650262435.64",
         "last_name": "Nagai",
         "research_orgs": [
          "grid.258806.1"
         ]
        },
        {
         "count": 2,
         "first_name": "Tatsuya",
         "id": "ur.010652405324.43",
         "last_name": "Isoda",
         "research_orgs": [
          "grid.258806.1"
         ]
        },
        {
         "count": 2,
         "first_name": "Xiaogong",
         "id": "ur.010652643447.08",
         "last_name": "Bai",
         "research_orgs": [
          "grid.30055.33"
         ]
        },
        {
         "count": 2,
         "first_name": "Pieter",
         "id": "ur.010746455633.11",
         "last_name": "Maris",
         "research_orgs": [
          "grid.411461.7",
          "grid.34421.30"
         ]
        },
        {
         "count": 2,
         "first_name": "Susumu",
         "id": "ur.011000630267.34",
         "last_name": "Kawashima",
         "research_orgs": [
          "grid.258806.1"
         ]
        },
        {
         "count": 2,
         "first_name": "Toshihiro",
         "id": "ur.011004364341.71",
         "last_name": "Iwasa",
         "research_orgs": [
          "grid.258806.1"
         ]
        },
        {
         "count": 2,
         "first_name": "Yu",
         "id": "ur.01100627166.78",
         "last_name": "Matsuoka",
         "research_orgs": [
          "grid.258806.1"
         ]
        },
        {
         "count": 2,
         "first_name": "Masaaki",
         "id": "ur.011013734434.10",
         "last_name": "Honda",
         "research_orgs": [
          "grid.5290.e"
         ]
        },
        {
         "count": 2,
         "first_name": "Shota",
         "id": "ur.011022141147.00",
         "last_name": "Sakashita",
         "research_orgs": [
          "grid.258806.1"
         ]
        },
        {
         "count": 2,
         "first_name": "Shuichi",
         "id": "ur.011031121103.88",
         "last_name": "Ishida",
         "orcid_id": [
          "0000-0003-4221-1220"
         ],
         "research_orgs": [
          "grid.258806.1",
          "grid.208504.b",
          "grid.412586.c"
         ]
        },
        {
         "count": 2,
         "first_name": "Akihiro",
         "id": "ur.011105041153.36",
         "last_name": "Hayashi",
         "research_orgs": [
          "grid.258806.1"
         ]
        },
        {
         "count": 2,
         "first_name": "Onur",
         "id": "ur.011107466330.58",
         "last_name": "Altintas",
         "research_orgs": [
          "grid.5659.f",
          "grid.6935.9",
          "grid.462975.b",
          "grid.467593.a"
         ]
        },
        {
         "count": 2,
         "first_name": "Asif",
         "id": "ur.01111353131.10",
         "last_name": "Chalanga",
         "orcid_id": [
          "0000-0001-7037-038X"
         ],
         "research_orgs": [
          "grid.16068.39",
          "grid.83440.3b",
          "grid.417971.d",
          "grid.411684.e"
         ]
        },
        {
         "count": 2,
         "first_name": "Kyoshiro",
         "id": "ur.011127276052.95",
         "last_name": "Itakura",
         "research_orgs": [
          "grid.258806.1"
         ]
        },
        {
         "count": 2,
         "first_name": "Mohd Shahrizal Bin",
         "id": "ur.01113737134.96",
         "last_name": "Sunar",
         "orcid_id": [
          "0000-0002-0244-1622"
         ],
         "research_orgs": [
          "grid.410877.d"
         ]
        },
        {
         "count": 2,
         "first_name": "Sota",
         "id": "ur.01120266533.41",
         "last_name": "Nakano",
         "research_orgs": [
          "grid.258806.1",
          "grid.442870.d",
          "grid.177174.3"
         ]
        },
        {
         "count": 2,
         "first_name": "Suguru",
         "id": "ur.01122620373.34",
         "last_name": "Taniguchi",
         "research_orgs": [
          "grid.258806.1"
         ]
        },
        {
         "count": 2,
         "first_name": "Takeshi",
         "id": "ur.011270250211.84",
         "last_name": "Tachibana",
         "research_orgs": [
          "grid.258806.1"
         ]
        },
        {
         "count": 2,
         "first_name": "Koichi",
         "id": "ur.011304263045.45",
         "last_name": "Suyama",
         "research_orgs": [
          "grid.412785.d",
          "grid.26999.3d",
          "grid.254124.4"
         ]
        },
        {
         "count": 2,
         "first_name": "Motohiro",
         "id": "ur.011307363761.75",
         "last_name": "Nakano",
         "research_orgs": [
          "grid.260493.a"
         ]
        },
        {
         "count": 2,
         "first_name": "Richard J",
         "id": "ur.011320026755.62",
         "last_name": "Furnstahl",
         "orcid_id": [
          "0000-0002-3483-333X"
         ],
         "research_orgs": [
          "grid.411377.7",
          "grid.168010.e",
          "grid.261331.4",
          "grid.20627.31",
          "grid.164295.d"
         ]
        },
        {
         "count": 2,
         "first_name": "Hiroshi",
         "id": "ur.011325041121.67",
         "last_name": "Yamada",
         "orcid_id": [
          "0000-0001-8309-1283"
         ],
         "research_orgs": [
          "grid.258806.1",
          "grid.27476.30"
         ]
        },
        {
         "count": 2,
         "first_name": "Ryo",
         "id": "ur.011326300620.56",
         "last_name": "Ogasahara",
         "research_orgs": [
          "grid.258806.1"
         ]
        },
        {
         "count": 2,
         "first_name": "Takayasu",
         "id": "ur.01133607433.44",
         "last_name": "Sakurai",
         "research_orgs": [
          "grid.26999.3d",
          "grid.47840.3f",
          "grid.419082.6",
          "grid.410825.a",
          "grid.26091.3c",
          "grid.481551.c"
         ]
        },
        {
         "count": 2,
         "first_name": "Nobuhiro",
         "id": "ur.011346635623.51",
         "last_name": "Sakamoto",
         "research_orgs": [
          "grid.258806.1"
         ]
        },
        {
         "count": 2,
         "first_name": "Makito",
         "id": "ur.011355541327.07",
         "last_name": "Ishikura",
         "research_orgs": [
          "grid.258806.1"
         ]
        },
        {
         "count": 2,
         "first_name": "Toru",
         "id": "ur.011360200527.89",
         "last_name": "Mizunami",
         "research_orgs": [
          "grid.258806.1",
          "grid.177174.3"
         ]
        },
        {
         "count": 2,
         "first_name": "Ryota",
         "id": "ur.011373741541.29",
         "last_name": "Shinriki",
         "research_orgs": [
          "grid.258806.1"
         ]
        },
        {
         "count": 2,
         "first_name": "Tsukasa",
         "id": "ur.011451631301.53",
         "last_name": "Noma",
         "research_orgs": [
          "grid.258806.1",
          "grid.26999.3d"
         ]
        },
        {
         "count": 2,
         "first_name": "Kumiko",
         "id": "ur.01146217367.76",
         "last_name": "Tomoeda-Mori",
         "research_orgs": [
          "grid.415538.e"
         ]
        },
        {
         "count": 2,
         "first_name": "Guangyi",
         "id": "ur.011466540473.48",
         "last_name": "Ai",
         "research_orgs": [
          "grid.258806.1"
         ]
        },
        {
         "count": 2,
         "first_name": "Daisaku",
         "id": "ur.01156044661.16",
         "last_name": "Kaneko",
         "research_orgs": [
          "grid.258806.1",
          "grid.26999.3d",
          "grid.39158.36",
          "grid.444515.5",
          "grid.419082.6"
         ]
        },
        {
         "count": 2,
         "first_name": "N Orikazu",
         "id": "ur.011574020273.06",
         "last_name": "Ikoma",
         "research_orgs": [
          "grid.258806.1",
          "grid.257114.4",
          "grid.275033.0",
          "grid.418987.b",
          "grid.444271.0"
         ]
        },
        {
         "count": 2,
         "first_name": "Naotaka",
         "id": "ur.011615051345.82",
         "last_name": "Fujikawa",
         "research_orgs": [
          "grid.258806.1"
         ]
        },
        {
         "count": 2,
         "first_name": "Hiroshi",
         "id": "ur.011623535035.55",
         "last_name": "Koresawa",
         "research_orgs": [
          "grid.258806.1"
         ]
        },
        {
         "count": 2,
         "first_name": "Goichi",
         "id": "ur.011632141663.39",
         "last_name": "Hagiwara",
         "research_orgs": [
          "grid.258806.1",
          "grid.419589.8",
          "grid.449378.5"
         ]
        },
        {
         "count": 2,
         "first_name": "Taishi",
         "id": "ur.011634316427.36",
         "last_name": "Anami",
         "research_orgs": [
          "grid.258806.1"
         ]
        },
        {
         "count": 2,
         "first_name": "Naotaka",
         "id": "ur.011635774657.44",
         "last_name": "Fukami",
         "research_orgs": [
          "grid.258806.1"
         ]
        },
        {
         "count": 2,
         "first_name": "Masaya",
         "id": "ur.011643047113.68",
         "last_name": "Hagiwara",
         "orcid_id": [
          "0000-0002-9032-4628"
         ],
         "research_orgs": [
          "grid.266539.d",
          "grid.261455.1",
          "grid.27476.30",
          "grid.19006.3e"
         ]
        },
        {
         "count": 2,
         "first_name": "Rina",
         "id": "ur.011644062561.72",
         "last_name": "Nobata",
         "research_orgs": [
          "grid.261455.1"
         ]
        },
        {
         "count": 2,
         "first_name": "Masakazu",
         "id": "ur.011652150332.98",
         "last_name": "Nakamura",
         "orcid_id": [
          "0000-0002-4540-5816"
         ],
         "research_orgs": [
          "grid.136304.3",
          "grid.260493.a",
          "grid.467196.b"
         ]
        },
        {
         "count": 2,
         "first_name": "Keiichiro",
         "id": "ur.012017071033.31",
         "last_name": "Fujimoto",
         "research_orgs": [
          "grid.26999.3d",
          "grid.62167.34"
         ]
        },
        {
         "count": 2,
         "first_name": "Tamaki",
         "id": "ur.01202645642.41",
         "last_name": "Kato",
         "research_orgs": [
          "grid.258806.1",
          "grid.177174.3",
          "grid.419082.6"
         ]
        },
        {
         "count": 2,
         "first_name": "Yoshi-Kazu",
         "id": "ur.012041204017.13",
         "last_name": "Sano",
         "research_orgs": [
          "grid.258806.1"
         ]
        },
        {
         "count": 2,
         "first_name": "Noriyuki",
         "id": "ur.01205604762.13",
         "last_name": "Sakata",
         "research_orgs": [
          "grid.411497.e",
          "grid.274841.c",
          "grid.136593.b",
          "grid.271052.3",
          "grid.256642.1"
         ]
        },
        {
         "count": 2,
         "first_name": "Yuichi",
         "id": "ur.012057337010.13",
         "last_name": "Asahiro",
         "research_orgs": [
          "grid.411241.3",
          "grid.177174.3",
          "grid.258799.8"
         ]
        },
        {
         "count": 2,
         "first_name": "Kazuya",
         "id": "ur.01212536403.10",
         "last_name": "Haraguchi",
         "research_orgs": [
          "grid.411238.d"
         ]
        },
        {
         "count": 2,
         "first_name": "Jian",
         "id": "ur.012134062600.65",
         "last_name": "Sun",
         "orcid_id": [
          "0000-0002-7954-120X"
         ],
         "research_orgs": [
          "grid.410817.b",
          "grid.254217.7",
          "grid.26999.3d",
          "grid.266298.1"
         ]
        },
        {
         "count": 2,
         "first_name": "Takao",
         "id": "ur.012144173017.79",
         "last_name": "Akahoshi",
         "research_orgs": [
          "grid.258806.1"
         ]
        },
        {
         "count": 2,
         "first_name": "Nana",
         "id": "ur.012166111363.13",
         "last_name": "Sutisna",
         "research_orgs": [
          "grid.258806.1",
          "grid.434933.a",
          "grid.443210.0"
         ]
        },
        {
         "count": 2,
         "first_name": "Hayato",
         "id": "ur.012166675321.40",
         "last_name": "Waki",
         "research_orgs": [
          "grid.32197.3e",
          "grid.177174.3",
          "grid.266298.1"
         ]
        },
        {
         "count": 2,
         "first_name": "Kensuke",
         "id": "ur.012216551075.78",
         "last_name": "Matsuo",
         "research_orgs": [
          "grid.258806.1"
         ]
        },
        {
         "count": 2,
         "first_name": "Manabu",
         "id": "ur.01222724411.82",
         "last_name": "Habu",
         "research_orgs": [
          "grid.258806.1",
          "grid.411238.d"
         ]
        },
        {
         "count": 2,
         "first_name": "Ravikant",
         "id": "ur.012233137063.64",
         "last_name": "Pandey",
         "research_orgs": [
          "grid.258806.1"
         ]
        },
        {
         "count": 2,
         "first_name": "Kazuhiro",
         "id": "ur.01224411623.20",
         "last_name": "Maeda",
         "orcid_id": [
          "0000-0002-6038-1322"
         ],
         "research_orgs": [
          "grid.258806.1"
         ]
        },
        {
         "count": 2,
         "first_name": "Soichiro",
         "id": "ur.012304436757.22",
         "last_name": "Kainaga",
         "research_orgs": [
          "grid.26999.3d",
          "grid.462605.3"
         ]
        },
        {
         "count": 2,
         "first_name": "Dang Diem",
         "id": "ur.01235256763.60",
         "last_name": "Hong",
         "research_orgs": [
          "grid.419365.c",
          "grid.267849.6"
         ]
        },
        {
         "count": 2,
         "first_name": "Kazuya",
         "id": "ur.012355611262.41",
         "last_name": "Tsukamoto",
         "research_orgs": [
          "grid.258806.1"
         ]
        },
        {
         "count": 2,
         "first_name": "Koju",
         "id": "ur.012442471303.45",
         "last_name": "Hiraki",
         "research_orgs": [
          "grid.258806.1",
          "grid.450279.d"
         ]
        },
        {
         "count": 2,
         "first_name": "Infall",
         "id": "ur.012450356107.67",
         "last_name": "Syafalni",
         "research_orgs": [
          "grid.258806.1",
          "grid.434933.a",
          "grid.11875.3a"
         ]
        },
        {
         "count": 2,
         "first_name": "Akimasa",
         "id": "ur.012463563716.50",
         "last_name": "Morihata",
         "research_orgs": [
          "grid.26999.3d",
          "grid.69566.3a"
         ]
        },
        {
         "count": 2,
         "first_name": "Yoshinari",
         "id": "ur.012513422307.17",
         "last_name": "Ikeda",
         "research_orgs": [
          "grid.471128.9"
         ]
        },
        {
         "count": 2,
         "first_name": "Koji",
         "id": "ur.01252242677.88",
         "last_name": "Nishinaka",
         "research_orgs": [
          "grid.258806.1"
         ]
        },
        {
         "count": 2,
         "first_name": "Zhenjiang",
         "id": "ur.012527654611.41",
         "last_name": "Hu",
         "research_orgs": [
          "grid.26999.3d",
          "grid.11135.37",
          "grid.275033.0",
          "grid.419082.6",
          "grid.454183.f",
          "grid.250343.3"
         ]
        },
        {
         "count": 2,
         "first_name": "Tomokazu",
         "id": "ur.012534165707.75",
         "last_name": "Yoneda",
         "research_orgs": [
          "grid.136593.b",
          "grid.260493.a",
          "grid.419082.6"
         ]
        },
        {
         "count": 2,
         "first_name": "Yoshihiko",
         "id": "ur.012542273621.12",
         "last_name": "Takano",
         "orcid_id": [
          "0000-0002-1541-6928"
         ],
         "research_orgs": [
          "grid.26999.3d",
          "grid.39158.36",
          "grid.412773.4",
          "grid.143643.7",
          "grid.419082.6",
          "grid.410592.b",
          "grid.410817.b",
          "grid.267500.6",
          "grid.5290.e",
          "grid.21941.3f",
          "grid.265074.2",
          "grid.15276.37",
          "grid.268441.d",
          "grid.32197.3e",
          "grid.265050.4",
          "grid.20515.33",
          "grid.69566.3a"
         ]
        },
        {
         "count": 2,
         "first_name": "Masaaki Kodama",
         "id": "ur.01254661515.00",
         "last_name": "Kodama",
         "research_orgs": [
          "grid.411238.d"
         ]
        },
        {
         "count": 2,
         "first_name": "Fujiko",
         "id": "ur.012566343253.44",
         "last_name": "Aoki",
         "research_orgs": [
          "grid.258806.1"
         ]
        },
        {
         "count": 2,
         "first_name": "Yingming",
         "id": "ur.012600035141.75",
         "last_name": "Yi",
         "research_orgs": [
          "grid.258806.1"
         ]
        },
        {
         "count": 2,
         "first_name": "Yuji",
         "id": "ur.012604717027.38",
         "last_name": "Shiba",
         "research_orgs": [
          "grid.258806.1"
         ]
        },
        {
         "count": 2,
         "first_name": "Jong-Hoon",
         "id": "ur.012627462037.62",
         "last_name": "Huh",
         "research_orgs": [
          "grid.258806.1",
          "grid.177174.3"
         ]
        },
        {
         "count": 2,
         "first_name": "Yasuhiro",
         "id": "ur.01263452520.47",
         "last_name": "Fukuma",
         "research_orgs": [
          "grid.258806.1",
          "grid.474689.0",
          "grid.474688.1",
          "grid.268397.1",
          "grid.7597.c",
          "grid.452759.8"
         ]
        },
        {
         "count": 2,
         "first_name": "Kunio",
         "id": "ur.012635135313.86",
         "last_name": "Yamamoto",
         "research_orgs": [
          "grid.258806.1"
         ]
        },
        {
         "count": 2,
         "first_name": "Amin",
         "id": "ur.01264035420.28",
         "last_name": "Termehyousefi",
         "research_orgs": [
          "grid.258806.1",
          "grid.23856.3a",
          "grid.10347.31",
          "grid.429997.8",
          "grid.410877.d"
         ]
        },
        {
         "count": 2,
         "first_name": "Tomoko",
         "id": "ur.012702324761.03",
         "last_name": "Murayama",
         "research_orgs": [
          "grid.260493.a"
         ]
        },
        {
         "count": 2,
         "first_name": "Yuta",
         "id": "ur.012711166115.54",
         "last_name": "Saito",
         "research_orgs": [
          "grid.26999.3d"
         ]
        },
        {
         "count": 2,
         "first_name": "Hiroshi",
         "id": "ur.012711404243.01",
         "last_name": "Yamasaki",
         "research_orgs": [
          "grid.258806.1"
         ]
        },
        {
         "count": 2,
         "first_name": "Kouichi",
         "id": "ur.012720467566.13",
         "last_name": "Nakano",
         "research_orgs": [
          "grid.258806.1"
         ]
        },
        {
         "count": 2,
         "first_name": "Yuki",
         "id": "ur.012721241620.50",
         "last_name": "Ezoe",
         "research_orgs": [
          "grid.258806.1"
         ]
        },
        {
         "count": 2,
         "first_name": "Emad A",
         "id": "ur.012726370125.57",
         "last_name": "Mohamed",
         "orcid_id": [
          "0000-0001-8032-0554"
         ],
         "research_orgs": [
          "grid.258806.1",
          "grid.417764.7",
          "grid.412707.7"
         ]
        },
        {
         "count": 2,
         "first_name": "Keiji",
         "id": "ur.012776664371.91",
         "last_name": "Wada",
         "orcid_id": [
          "0000-0002-8590-8813"
         ],
         "research_orgs": [
          "grid.265074.2",
          "grid.32197.3e",
          "grid.440888.8",
          "grid.261356.5"
         ]
        },
        {
         "count": 2,
         "first_name": "Yuki",
         "id": "ur.01277754142.63",
         "last_name": "Shirosaki",
         "research_orgs": [
          "grid.258806.1",
          "grid.5808.5",
          "grid.261356.5"
         ]
        },
        {
         "count": 2,
         "first_name": "Alok Kumar",
         "id": "ur.013001171211.02",
         "last_name": "Jha",
         "research_orgs": [
          "grid.258806.1"
         ]
        },
        {
         "count": 2,
         "first_name": "Akihiko",
         "id": "ur.01300506353.55",
         "last_name": "Matsuyama",
         "research_orgs": [
          "grid.258806.1"
         ]
        },
        {
         "count": 2,
         "first_name": "Kiminori",
         "id": "ur.013005471425.20",
         "last_name": "Matsuzaki",
         "research_orgs": [
          "grid.440900.9",
          "grid.26999.3d"
         ]
        },
        {
         "count": 2,
         "first_name": "Panart",
         "id": "ur.013010641604.70",
         "last_name": "Khajornrungruang",
         "research_orgs": [
          "grid.258806.1",
          "grid.136593.b"
         ]
        },
        {
         "count": 2,
         "first_name": "Motohumi",
         "id": "ur.013016502302.00",
         "last_name": "Yoshida",
         "orcid_id": [
          "0000-0002-4376-5674"
         ],
         "research_orgs": [
          "grid.26999.3d",
          "grid.5386.8",
          "grid.474688.1",
          "grid.263023.6",
          "grid.260493.a",
          "grid.415016.7",
          "grid.419082.6",
          "grid.411951.9",
          "grid.480536.c",
          "grid.418110.d",
          "grid.486756.e",
          "grid.14003.36",
          "grid.265073.5",
          "grid.480288.e",
          "grid.136304.3",
          "grid.410804.9",
          "grid.264706.1",
          "grid.412755.0",
          "grid.7597.c",
          "grid.419748.7",
          "grid.420122.7"
         ]
        },
        {
         "count": 2,
         "first_name": "Akihiro",
         "id": "ur.01305625060.15",
         "last_name": "Matsui",
         "orcid_id": [
          "0000-0002-3979-3947"
         ],
         "research_orgs": [
          "grid.7597.c",
          "grid.69566.3a"
         ]
        },
        {
         "count": 2,
         "first_name": "Katsumi",
         "id": "ur.013062244675.83",
         "last_name": "Taniguchi",
         "research_orgs": [
          "grid.471128.9"
         ]
        },
        {
         "count": 2,
         "first_name": "Hiroyuki",
         "id": "ur.013074324155.76",
         "last_name": "Narahara",
         "research_orgs": [
          "grid.258806.1"
         ]
        },
        {
         "count": 2,
         "first_name": "Iori",
         "id": "ur.01310200301.63",
         "last_name": "Maeda",
         "research_orgs": [
          "grid.258806.1",
          "grid.177174.3",
          "grid.419082.6"
         ]
        },
        {
         "count": 2,
         "first_name": "Tamotsu",
         "id": "ur.013115361527.05",
         "last_name": "Ninomiya",
         "research_orgs": [
          "grid.411497.e",
          "grid.412586.c",
          "grid.177174.3",
          "grid.471432.7",
          "grid.174567.6"
         ]
        },
        {
         "count": 2,
         "first_name": "Shinji",
         "id": "ur.01314555612.18",
         "last_name": "Aramaki",
         "research_orgs": [
          "grid.258806.1"
         ]
        },
        {
         "count": 2,
         "first_name": "Kazuhiro",
         "id": "ur.013152454441.15",
         "last_name": "Toyoda",
         "research_orgs": [
          "grid.258806.1",
          "grid.136304.3",
          "grid.27476.30"
         ]
        },
        {
         "count": 2,
         "first_name": "Takashi",
         "id": "ur.013160276771.49",
         "last_name": "Minemoto",
         "research_orgs": [
          "grid.26999.3d",
          "grid.262576.2",
          "grid.419082.6"
         ]
        },
        {
         "count": 2,
         "first_name": "Kazuo",
         "id": "ur.013241054741.70",
         "last_name": "Tanaka",
         "research_orgs": [
          "grid.9707.9",
          "grid.257114.4",
          "grid.266298.1"
         ]
        },
        {
         "count": 2,
         "first_name": "Satoshi",
         "id": "ur.01327000051.09",
         "last_name": "Fujii",
         "research_orgs": [
          "grid.258806.1"
         ]
        },
        {
         "count": 2,
         "first_name": "Shogo",
         "id": "ur.013274560175.06",
         "last_name": "Inaba",
         "research_orgs": [
          "grid.471888.a",
          "grid.26999.3d"
         ]
        },
        {
         "count": 2,
         "first_name": "Keisuke",
         "id": "ur.013302274160.31",
         "last_name": "Suzuki",
         "research_orgs": [
          "grid.258806.1"
         ]
        },
        {
         "count": 2,
         "first_name": "Marat",
         "id": "ur.013315474013.52",
         "last_name": "Zhanikeev",
         "research_orgs": [
          "grid.258806.1",
          "grid.5290.e",
          "grid.143643.7",
          "grid.1008.9"
         ]
        },
        {
         "count": 2,
         "first_name": "Yu Dong",
         "id": "ur.01332614412.59",
         "last_name": "Zhang",
         "orcid_id": [
          "0000-0002-4870-1493"
         ],
         "research_orgs": [
          "grid.419897.a",
          "grid.263761.7",
          "grid.21729.3f",
          "grid.412097.9",
          "grid.41156.37",
          "grid.11135.37",
          "grid.260474.3",
          "grid.239585.0",
          "grid.452290.8",
          "grid.263826.b",
          "grid.412676.0",
          "grid.25627.34",
          "grid.484369.4",
          "grid.254250.4",
          "grid.9918.9",
          "grid.64924.3d",
          "grid.256609.e",
          "grid.449406.b",
          "grid.89957.3a",
          "grid.413734.6",
          "grid.13402.34"
         ]
        },
        {
         "count": 2,
         "first_name": "Naoya",
         "id": "ur.013334251163.70",
         "last_name": "Matsuoka",
         "research_orgs": [
          "grid.258806.1"
         ]
        },
        {
         "count": 2,
         "first_name": "Hugh",
         "id": "ur.013361336233.53",
         "last_name": "Potter",
         "research_orgs": [
          "grid.34421.30"
         ]
        },
        {
         "count": 2,
         "first_name": "Ryosuke",
         "id": "ur.013404671025.56",
         "last_name": "Matsubara",
         "research_orgs": [
          "grid.136304.3",
          "grid.260493.a"
         ]
        },
        {
         "count": 2,
         "first_name": "Hui-Min",
         "id": "ur.013445424453.72",
         "last_name": "Lu",
         "research_orgs": [
          "grid.258806.1",
          "grid.268415.c"
         ]
        },
        {
         "count": 2,
         "first_name": "Satarou",
         "id": "ur.013451747121.54",
         "last_name": "Yamaguchi",
         "research_orgs": [
          "grid.419418.1",
          "grid.254217.7",
          "grid.1029.a",
          "grid.26999.3d",
          "grid.412013.5"
         ]
        },
        {
         "count": 2,
         "first_name": "Masahiro",
         "id": "ur.013456165172.25",
         "last_name": "Yamaguchi",
         "research_orgs": [
          "grid.257114.4",
          "grid.136593.b"
         ]
        },
        {
         "count": 2,
         "first_name": "Masayuki",
         "id": "ur.013456204607.82",
         "last_name": "Watanabe",
         "research_orgs": [
          "grid.258806.1",
          "grid.136593.b"
         ]
        },
        {
         "count": 2,
         "first_name": "Yusuke",
         "id": "ur.013472126721.35",
         "last_name": "Kakumoto",
         "research_orgs": [
          "grid.258806.1"
         ]
        },
        {
         "count": 2,
         "first_name": "Eiji",
         "id": "ur.013530037101.53",
         "last_name": "Hayashi",
         "research_orgs": [
          "grid.258806.1"
         ]
        },
        {
         "count": 2,
         "first_name": "Toribio F Fernández",
         "id": "ur.013536213365.04",
         "last_name": "Otero",
         "orcid_id": [
          "0000-0002-8517-1428"
         ],
         "research_orgs": [
          "grid.11480.3c",
          "grid.5841.8",
          "grid.412226.1",
          "grid.4299.6",
          "grid.429036.a",
          "grid.218430.c"
         ]
        },
        {
         "count": 2,
         "first_name": "Daisuke",
         "id": "ur.013555234075.36",
         "last_name": "Sato",
         "research_orgs": [
          "grid.258806.1"
         ]
        },
        {
         "count": 2,
         "first_name": "Tomoaki",
         "id": "ur.013563407661.99",
         "last_name": "Shimpo",
         "research_orgs": [
          "grid.265074.2"
         ]
        },
        {
         "count": 2,
         "first_name": "Magd Abdel",
         "id": "ur.013610456502.99",
         "last_name": "Wahab",
         "orcid_id": [
          "0000-0002-3610-865X"
         ],
         "research_orgs": [
          "grid.444918.4",
          "grid.444812.f",
          "grid.5342.0",
          "grid.5596.f",
          "grid.5475.3"
         ]
        },
        {
         "count": 2,
         "first_name": "Takeharu",
         "id": "ur.013611277403.21",
         "last_name": "Koga",
         "research_orgs": [
          "grid.258806.1"
         ]
        },
        {
         "count": 2,
         "first_name": "Takeshi",
         "id": "ur.013623325733.06",
         "last_name": "Ikenaga",
         "research_orgs": [
          "grid.5290.e",
          "grid.16821.3c",
          "grid.419082.6"
         ]
        },
        {
         "count": 2,
         "first_name": "Hamed",
         "id": "ur.01362543077.73",
         "last_name": "Esmaeili Monir",
         "research_orgs": [
          "grid.258806.1"
         ]
        },
        {
         "count": 2,
         "id": "ur.013636741640.72",
         "last_name": "Agussalim",
         "research_orgs": [
          "grid.258806.1"
         ]
        },
        {
         "count": 2,
         "first_name": "Mana",
         "id": "ur.01367170040.32",
         "last_name": "Hayakawa",
         "research_orgs": [
          "grid.411238.d"
         ]
        },
        {
         "count": 2,
         "first_name": "Yusuke",
         "id": "ur.013706254136.44",
         "last_name": "Ichino",
         "research_orgs": [
          "grid.410817.b",
          "grid.5290.e",
          "grid.27476.30",
          "grid.419082.6"
         ]
        },
        {
         "count": 2,
         "first_name": "Shigeyoshi",
         "id": "ur.013766742443.73",
         "last_name": "Yoshida",
         "research_orgs": [
          "grid.258806.1",
          "grid.462605.3"
         ]
        },
        {
         "count": 2,
         "first_name": "D",
         "id": "ur.013767164143.14",
         "last_name": "Minossi",
         "research_orgs": [
          "grid.8385.6"
         ]
        },
        {
         "count": 2,
         "first_name": "Takahiro",
         "id": "ur.014035055643.26",
         "last_name": "Umemoto",
         "research_orgs": [
          "grid.462605.3"
         ]
        },
        {
         "count": 2,
         "first_name": "Kei",
         "id": "ur.014036341366.26",
         "last_name": "Ohnishi",
         "research_orgs": [
          "grid.258806.1"
         ]
        },
        {
         "count": 2,
         "first_name": "Takashi",
         "id": "ur.014036516773.45",
         "last_name": "Suzuki",
         "research_orgs": [
          "grid.258806.1",
          "grid.419306.9"
         ]
        },
        {
         "count": 2,
         "first_name": "Xin",
         "id": "ur.014063206527.20",
         "last_name": "Li",
         "research_orgs": [
          "grid.16821.3c"
         ]
        },
        {
         "count": 2,
         "first_name": "Yaser Soliman",
         "id": "ur.014103311637.08",
         "last_name": "Qudaih",
         "research_orgs": [
          "grid.258806.1",
          "grid.274841.c",
          "grid.444938.6",
          "grid.448899.0"
         ]
        },
        {
         "count": 2,
         "first_name": "Takahiro",
         "id": "ur.014151410571.49",
         "last_name": "Seta",
         "research_orgs": [
          "grid.471888.a"
         ]
        },
        {
         "count": 2,
         "first_name": "Stephan",
         "id": "ur.014155031307.33",
         "last_name": "Eggersglüß",
         "research_orgs": [
          "grid.461668.b",
          "grid.17272.31",
          "grid.7704.4"
         ]
        },
        {
         "count": 2,
         "first_name": "Norzawani",
         "id": "ur.014202463551.39",
         "last_name": "Jaffar",
         "research_orgs": [
          "grid.258806.1",
          "grid.449643.8"
         ]
        },
        {
         "count": 2,
         "first_name": "Takahisa",
         "id": "ur.014231701411.82",
         "last_name": "Ueno",
         "research_orgs": [
          "grid.258806.1",
          "grid.274841.c",
          "grid.419865.7",
          "grid.482504.f"
         ]
        },
        {
         "count": 2,
         "first_name": "Naoki",
         "id": "ur.014254411200.81",
         "last_name": "Mori",
         "research_orgs": [
          "grid.258806.1"
         ]
        },
        {
         "count": 2,
         "first_name": "Michiko",
         "id": "ur.014273675235.80",
         "last_name": "Inoue",
         "research_orgs": [
          "grid.266100.3",
          "grid.136593.b",
          "grid.260493.a",
          "grid.419082.6"
         ]
        },
        {
         "count": 2,
         "first_name": "Hideaki",
         "id": "ur.014315256507.50",
         "last_name": "Kawano",
         "research_orgs": [
          "grid.258806.1"
         ]
        },
        {
         "count": 2,
         "first_name": "Gian",
         "id": "ur.014315667653.86",
         "last_name": "Mayuga",
         "research_orgs": [
          "grid.260493.a"
         ]
        },
        {
         "count": 2,
         "first_name": "Hideya",
         "id": "ur.014400073611.00",
         "last_name": "Iwasaki",
         "orcid_id": [
          "0000-0002-3708-6624"
         ],
         "research_orgs": [
          "grid.26999.3d",
          "grid.266298.1",
          "grid.136594.c"
         ]
        },
        {
         "count": 2,
         "first_name": "Sumio",
         "id": "ur.014443204627.02",
         "last_name": "Kato",
         "research_orgs": [
          "grid.267625.2",
          "grid.471169.c"
         ]
        },
        {
         "count": 2,
         "first_name": "Yasuhiko",
         "id": "ur.014471776623.85",
         "last_name": "Sugiyama"
        },
        {
         "count": 2,
         "first_name": "Aoi",
         "id": "ur.014512005745.07",
         "last_name": "Honda",
         "orcid_id": [
          "0000-0002-4485-1523"
         ],
         "research_orgs": [
          "grid.258806.1",
          "grid.10988.38"
         ]
        },
        {
         "count": 2,
         "first_name": "Kateryna",
         "id": "ur.014623572367.39",
         "last_name": "Aheieva",
         "research_orgs": [
          "grid.258806.1"
         ]
        },
        {
         "count": 2,
         "first_name": "Kento",
         "id": "ur.014661312321.02",
         "last_name": "Emoto",
         "research_orgs": [
          "grid.258806.1",
          "grid.26999.3d"
         ]
        },
        {
         "count": 2,
         "first_name": "Siqian",
         "id": "ur.014667563545.00",
         "last_name": "Wang",
         "research_orgs": [
          "grid.258806.1",
          "grid.444515.5"
         ]
        },
        {
         "count": 2,
         "first_name": "Shinji",
         "id": "ur.014674436545.05",
         "last_name": "Ishibe",
         "research_orgs": [
          "grid.258806.1",
          "grid.177174.3",
          "grid.462605.3",
          "grid.462926.d"
         ]
        },
        {
         "count": 2,
         "first_name": "Tomiko",
         "id": "ur.014706315511.01",
         "last_name": "Yamaguchi",
         "research_orgs": [
          "grid.258806.1"
         ]
        },
        {
         "count": 2,
         "first_name": "Yasutaka",
         "id": "ur.015025456713.67",
         "last_name": "Honda",
         "research_orgs": [
          "grid.258806.1"
         ]
        },
        {
         "count": 2,
         "first_name": "Jun-Ichiro",
         "id": "ur.015037250545.25",
         "last_name": "Kishine",
         "research_orgs": [
          "grid.258806.1",
          "grid.26999.3d",
          "grid.31432.37",
          "grid.275033.0",
          "grid.419082.6",
          "grid.136593.b",
          "grid.412875.d",
          "grid.467196.b",
          "grid.257022.0",
          "grid.116068.8"
         ]
        },
        {
         "count": 2,
         "first_name": "Katsuya",
         "id": "ur.015042513561.53",
         "last_name": "Inoue",
         "research_orgs": [
          "grid.26999.3d",
          "grid.410786.c",
          "grid.261455.1",
          "grid.275033.0",
          "grid.136593.b",
          "grid.8195.5",
          "grid.462034.7",
          "grid.467196.b",
          "grid.257022.0",
          "grid.412761.7",
          "grid.69566.3a"
         ]
        },
        {
         "count": 2,
         "first_name": "Weiwei",
         "id": "ur.015076312412.51",
         "last_name": "Shi",
         "research_orgs": [
          "grid.258806.1"
         ]
        },
        {
         "count": 2,
         "first_name": "Shinya",
         "id": "ur.015102426401.07",
         "last_name": "Haramaki",
         "research_orgs": [
          "grid.471489.7"
         ]
        },
        {
         "count": 2,
         "first_name": "Toshiharu",
         "id": "ur.015115741735.38",
         "last_name": "Mukai",
         "research_orgs": [
          "grid.7597.c",
          "grid.259879.8"
         ]
        },
        {
         "count": 2,
         "first_name": "Jun",
         "id": "ur.015177016431.37",
         "last_name": "Akimitsu",
         "research_orgs": [
          "grid.26999.3d",
          "grid.143643.7",
          "grid.31432.37",
          "grid.20256.33",
          "grid.419082.6",
          "grid.136593.b",
          "grid.261356.5",
          "grid.267500.6",
          "grid.257022.0",
          "grid.467196.b",
          "grid.252311.6",
          "grid.20515.33",
          "grid.69566.3a"
         ]
        },
        {
         "count": 2,
         "first_name": "Hirokazu",
         "id": "ur.015213204141.87",
         "last_name": "Masui",
         "research_orgs": [
          "grid.258806.1"
         ]
        },
        {
         "count": 2,
         "first_name": "Hirohisa",
         "id": "ur.015230506045.34",
         "last_name": "Isogai",
         "research_orgs": [
          "grid.258806.1",
          "grid.411241.3"
         ]
        },
        {
         "count": 2,
         "first_name": "Kazushige",
         "id": "ur.015235120047.48",
         "last_name": "Ueda",
         "orcid_id": [
          "0000-0002-4527-799X"
         ],
         "research_orgs": [
          "grid.258806.1",
          "grid.32197.3e",
          "grid.419082.6"
         ]
        },
        {
         "count": 2,
         "first_name": "Makoto",
         "id": "ur.015326226575.37",
         "last_name": "Takenaka",
         "research_orgs": [
          "grid.258806.1"
         ]
        },
        {
         "count": 2,
         "first_name": "Yuta",
         "id": "ur.015405700116.58",
         "last_name": "Senju",
         "research_orgs": [
          "grid.258806.1"
         ]
        },
        {
         "count": 2,
         "first_name": "Jianru",
         "id": "ur.015421252505.34",
         "last_name": "Li",
         "research_orgs": [
          "grid.24516.34"
         ]
        },
        {
         "count": 2,
         "first_name": "S",
         "id": "ur.015440253731.40",
         "last_name": "Liebig",
         "research_orgs": [
          "grid.8385.6"
         ]
        },
        {
         "count": 2,
         "first_name": "Takao",
         "id": "ur.015476023627.22",
         "last_name": "Tsurimoto",
         "research_orgs": [
          "grid.462605.3"
         ]
        },
        {
         "count": 2,
         "first_name": "Suriyon",
         "id": "ur.015513061233.13",
         "last_name": "Tansuriyavong",
         "research_orgs": [
          "grid.471922.b",
          "grid.260427.5",
          "grid.482504.f"
         ]
        },
        {
         "count": 2,
         "first_name": "Tomonari",
         "id": "ur.015517552231.23",
         "last_name": "Suzuki",
         "orcid_id": [
          "0000-0002-2524-6045"
         ],
         "research_orgs": [
          "grid.258806.1",
          "grid.260975.f",
          "grid.32197.3e",
          "grid.5338.d",
          "grid.412125.1"
         ]
        },
        {
         "count": 2,
         "first_name": "Yusuke",
         "id": "ur.015542442300.36",
         "last_name": "Ura",
         "research_orgs": [
          "grid.258806.1"
         ]
        },
        {
         "count": 2,
         "first_name": "Harutoshi",
         "id": "ur.015601375037.84",
         "last_name": "Hagino",
         "research_orgs": [
          "grid.258806.1"
         ]
        },
        {
         "count": 2,
         "first_name": "Yuhei",
         "id": "ur.015604665051.78",
         "last_name": "Shimizu",
         "orcid_id": [
          "0000-0003-0502-0484"
         ],
         "research_orgs": [
          "grid.258806.1",
          "grid.208504.b"
         ]
        },
        {
         "count": 2,
         "first_name": "Yoshio",
         "id": "ur.015620764653.53",
         "last_name": "Mizugaki",
         "research_orgs": [
          "grid.258806.1",
          "grid.265125.7"
         ]
        },
        {
         "count": 2,
         "first_name": "Yuki",
         "id": "ur.015662450321.10",
         "last_name": "Koyamatsu",
         "research_orgs": [
          "grid.258806.1"
         ]
        },
        {
         "count": 2,
         "first_name": "Ahmad Amiruddin Mohd",
         "id": "ur.015676257674.91",
         "last_name": "Ali",
         "research_orgs": [
          "grid.258806.1",
          "grid.11142.37"
         ]
        },
        {
         "count": 2,
         "first_name": "Junichiro",
         "id": "ur.015710515153.42",
         "last_name": "Imatomi",
         "research_orgs": [
          "grid.258806.1"
         ]
        },
        {
         "count": 2,
         "first_name": "Kazuma",
         "id": "ur.015715617245.68",
         "last_name": "Nakamura",
         "research_orgs": [
          "grid.258806.1",
          "grid.26999.3d",
          "grid.419082.6"
         ]
        },
        {
         "count": 2,
         "first_name": "Takuo",
         "id": "ur.015717536101.53",
         "last_name": "Yasunaga",
         "orcid_id": [
          "0000-0002-2494-9603"
         ],
         "research_orgs": [
          "grid.258806.1",
          "grid.26999.3d",
          "grid.419082.6"
         ]
        },
        {
         "count": 2,
         "first_name": "Noriko",
         "id": "ur.015760325546.19",
         "last_name": "Chikumoto",
         "research_orgs": [
          "grid.26999.3d",
          "grid.254217.7",
          "grid.10877.39",
          "grid.419082.6",
          "grid.410817.b",
          "grid.462524.3",
          "grid.5290.e",
          "grid.422564.3"
         ]
        },
        {
         "count": 2,
         "first_name": "M Tsuchie M",
         "id": "ur.016021402637.80",
         "last_name": "Tsuchie",
         "research_orgs": [
          "grid.258806.1",
          "grid.462605.3"
         ]
        },
        {
         "count": 2,
         "first_name": "Satoshi",
         "id": "ur.016056536140.43",
         "last_name": "Kobayashi",
         "orcid_id": [
          "0000-0002-6193-6756"
         ],
         "research_orgs": [
          "grid.265074.2"
         ]
        },
        {
         "count": 2,
         "first_name": "Abdul",
         "id": "ur.016057367507.08",
         "last_name": "Rajab",
         "research_orgs": [
          "grid.258806.1",
          "grid.444045.5",
          "grid.434933.a"
         ]
        },
        {
         "count": 2,
         "first_name": "Akihiro",
         "id": "ur.016057661101.25",
         "last_name": "Okamoto",
         "research_orgs": [
          "grid.471888.a"
         ]
        },
        {
         "count": 2,
         "first_name": "Reijiro",
         "id": "ur.016062054741.89",
         "last_name": "Nogami",
         "research_orgs": [
          "grid.258806.1"
         ]
        },
        {
         "count": 2,
         "first_name": "Taro",
         "id": "ur.016101305101.37",
         "last_name": "Fujikawa",
         "research_orgs": [
          "grid.254124.4",
          "grid.412773.4"
         ]
        },
        {
         "count": 2,
         "first_name": "Tetsuzo",
         "id": "ur.016111211313.21",
         "last_name": "Sakamoto",
         "research_orgs": [
          "grid.258806.1",
          "grid.177174.3"
         ]
        },
        {
         "count": 2,
         "first_name": "Tatsuo",
         "id": "ur.016132215141.02",
         "last_name": "Tabaru",
         "research_orgs": [
          "grid.208504.b",
          "grid.69566.3a"
         ]
        },
        {
         "count": 2,
         "first_name": "Witoon",
         "id": "ur.016176011475.50",
         "last_name": "Yindeesuk",
         "research_orgs": [
          "grid.266298.1"
         ]
        },
        {
         "count": 2,
         "first_name": "Angelo",
         "id": "ur.016213114347.90",
         "last_name": "Calci",
         "research_orgs": [
          "grid.232474.4",
          "grid.6546.1"
         ]
        },
        {
         "count": 2,
         "first_name": "Amir Ali Forough",
         "id": "ur.016261136460.71",
         "last_name": "Nassiraei",
         "research_orgs": [
          "grid.258806.1",
          "grid.480606.c",
          "grid.412339.e"
         ]
        },
        {
         "count": 2,
         "first_name": "Kenkichi",
         "id": "ur.016262462175.93",
         "last_name": "Tamura",
         "research_orgs": [
          "grid.471888.a"
         ]
        },
        {
         "count": 2,
         "first_name": "Tsutomu",
         "id": "ur.016302765576.20",
         "last_name": "Sasao",
         "research_orgs": [
          "grid.258806.1",
          "grid.136593.b",
          "grid.443704.0",
          "grid.411764.1",
          "grid.1108.8"
         ]
        },
        {
         "count": 2,
         "first_name": "Kazunori",
         "id": "ur.016325045611.35",
         "last_name": "Nishino",
         "research_orgs": [
          "grid.258806.1",
          "grid.258622.9"
         ]
        },
        {
         "count": 2,
         "first_name": "Balbir",
         "id": "ur.016347202125.42",
         "last_name": "Singh",
         "research_orgs": [
          "grid.258806.1",
          "grid.467811.d"
         ]
        },
        {
         "count": 2,
         "first_name": "Ravi Nath",
         "id": "ur.016470055311.40",
         "last_name": "Tripathi",
         "research_orgs": [
          "grid.258806.1",
          "grid.440678.9"
         ]
        },
        {
         "count": 2,
         "first_name": "Toshifumi",
         "id": "ur.016475367401.84",
         "last_name": "Satake",
         "research_orgs": [
          "grid.471501.6"
         ]
        },
        {
         "count": 2,
         "first_name": "Kazunori",
         "id": "ur.016506227205.34",
         "last_name": "Nagano",
         "research_orgs": [
          "grid.26999.3d"
         ]
        },
        {
         "count": 2,
         "first_name": "Shun",
         "id": "ur.016540272047.15",
         "last_name": "Miura",
         "orcid_id": [
          "0000-0003-2841-286X"
         ],
         "research_orgs": [
          "grid.177174.3",
          "grid.27476.30"
         ]
        },
        {
         "count": 2,
         "first_name": "Wataru",
         "id": "ur.016550006560.60",
         "last_name": "Iwasaki",
         "orcid_id": [
          "0000-0001-8336-0172"
         ],
         "research_orgs": [
          "grid.177174.3",
          "grid.208504.b",
          "grid.419082.6"
         ]
        },
        {
         "count": 2,
         "first_name": "Ken",
         "id": "ur.016551311661.36",
         "last_name": "Goto",
         "research_orgs": [
          "grid.62167.34"
         ]
        },
        {
         "count": 2,
         "first_name": "Takeshi",
         "id": "ur.016573723011.24",
         "last_name": "Ikenaga",
         "orcid_id": [
          "0000-0001-9022-0813"
         ],
         "research_orgs": [
          "grid.258806.1",
          "grid.177174.3"
         ]
        },
        {
         "count": 2,
         "first_name": "Xiao",
         "id": "ur.016575420513.32",
         "last_name": "Huang",
         "research_orgs": [
          "grid.258806.1"
         ]
        },
        {
         "count": 2,
         "first_name": "Kazuhiro",
         "id": "ur.0637264712.11",
         "last_name": "Aoyama",
         "research_orgs": [
          "grid.136593.b",
          "grid.459494.1"
         ]
        },
        {
         "count": 2,
         "first_name": "Taichiro",
         "id": "ur.0666020651.16",
         "last_name": "Hirose",
         "research_orgs": [
          "grid.258806.1"
         ]
        },
        {
         "count": 2,
         "first_name": "Kai",
         "id": "ur.0673134527.70",
         "last_name": "Wang",
         "research_orgs": [
          "grid.30055.33"
         ]
        },
        {
         "count": 2,
         "first_name": "Tomohiro",
         "id": "ur.0675662150.95",
         "last_name": "Shibata",
         "orcid_id": [
          "0000-0002-8766-4250"
         ],
         "research_orgs": [
          "grid.258806.1",
          "grid.26999.3d",
          "grid.260493.a",
          "grid.28312.3a",
          "grid.419082.6",
          "grid.27476.30",
          "grid.418163.9"
         ]
        },
        {
         "count": 2,
         "first_name": "Yusuke",
         "id": "ur.0676126261.35",
         "last_name": "Kousaka",
         "research_orgs": [
          "grid.20256.33",
          "grid.31432.37",
          "grid.136593.b",
          "grid.261356.5",
          "grid.257022.0",
          "grid.252311.6"
         ]
        },
        {
         "count": 2,
         "first_name": "Junshi",
         "id": "ur.0700542027.77",
         "last_name": "Sakamoto",
         "research_orgs": [
          "grid.258806.1",
          "grid.265061.6"
         ]
        },
        {
         "count": 2,
         "first_name": "Jose Gabriel",
         "id": "ur.0712405131.49",
         "last_name": "Martinez",
         "orcid_id": [
          "0000-0002-6490-8603"
         ],
         "research_orgs": [
          "grid.5640.7",
          "grid.218430.c"
         ]
        },
        {
         "count": 2,
         "first_name": "Teruyuki",
         "id": "ur.0720355337.92",
         "last_name": "Nakato",
         "research_orgs": [
          "grid.258806.1",
          "grid.39158.36",
          "grid.136594.c",
          "grid.5290.e",
          "grid.419082.6"
         ]
        },
        {
         "count": 2,
         "first_name": "Motoaki",
         "id": "ur.0720477333.88",
         "last_name": "Seki",
         "orcid_id": [
          "0000-0001-8288-0467"
         ],
         "research_orgs": [
          "grid.5386.8",
          "grid.419082.6",
          "grid.255166.3",
          "grid.136304.3",
          "grid.250671.7",
          "grid.257022.0",
          "grid.258799.8",
          "grid.268441.d",
          "grid.177174.3",
          "grid.7597.c",
          "grid.452611.5",
          "grid.471657.6",
          "grid.20515.33"
         ]
        },
        {
         "count": 2,
         "first_name": "Yoshiyuki",
         "id": "ur.0722726524.11",
         "last_name": "Nonoguchi",
         "research_orgs": [
          "grid.260493.a",
          "grid.419082.6"
         ]
        },
        {
         "count": 2,
         "first_name": "Joo Kooi",
         "id": "ur.0724144151.56",
         "last_name": "Tan",
         "research_orgs": [
          "grid.258806.1"
         ]
        },
        {
         "count": 2,
         "first_name": "James P",
         "id": "ur.0732150054.07",
         "last_name": "Vary",
         "orcid_id": [
          "0000-0002-3500-4314"
         ],
         "research_orgs": [
          "grid.10392.39",
          "grid.168010.e",
          "grid.202665.5",
          "grid.261055.5",
          "grid.20861.3d",
          "grid.21940.3e",
          "grid.184769.5",
          "grid.148313.c",
          "grid.34477.33",
          "grid.7700.0",
          "grid.445003.6",
          "grid.7327.1",
          "grid.250008.f",
          "grid.34421.30",
          "grid.261331.4",
          "grid.134563.6",
          "grid.411461.7",
          "grid.258518.3"
         ]
        },
        {
         "count": 2,
         "first_name": "Ashutosh",
         "id": "ur.0735717577.23",
         "last_name": "Tiwari",
         "research_orgs": [
          "grid.40803.3f",
          "grid.417965.8",
          "grid.223827.e"
         ]
        },
        {
         "count": 2,
         "first_name": "Norikazu",
         "id": "ur.0736134324.34",
         "last_name": "Nishino",
         "research_orgs": [
          "grid.258806.1",
          "grid.419082.6",
          "grid.136304.3",
          "grid.177174.3",
          "grid.7597.c",
          "grid.411238.d"
         ]
        },
        {
         "count": 2,
         "first_name": "Hiroshi",
         "id": "ur.07431417465.82",
         "last_name": "Mitsudome",
         "research_orgs": [
          "grid.258806.1"
         ]
        },
        {
         "count": 2,
         "first_name": "Hirohide",
         "id": "ur.07445453257.90",
         "last_name": "Okuno"
        },
        {
         "count": 2,
         "first_name": "Satoshi Stephen",
         "id": "ur.0745570077.45",
         "last_name": "Nishizuka",
         "orcid_id": [
          "0000-0001-9178-790X"
         ],
         "research_orgs": [
          "grid.411790.a",
          "grid.26999.3d",
          "grid.94365.3d",
          "grid.22448.38",
          "grid.266093.8",
          "grid.420089.7",
          "grid.419407.f",
          "grid.266102.1",
          "grid.420086.8",
          "grid.48336.3a",
          "grid.417768.b"
         ]
        },
        {
         "count": 2,
         "first_name": "Quan",
         "id": "ur.07463127421.99",
         "last_name": "Wang",
         "research_orgs": [
          "grid.258806.1"
         ]
        },
        {
         "count": 2,
         "first_name": "Joachim",
         "id": "ur.07510043147.53",
         "last_name": "Langhammer",
         "research_orgs": [
          "grid.6546.1"
         ]
        },
        {
         "count": 2,
         "first_name": "Mitsuru",
         "id": "ur.07515016625.68",
         "last_name": "Hamada",
         "research_orgs": [
          "grid.258806.1"
         ]
        },
        {
         "count": 2,
         "first_name": "Bianca Adina",
         "id": "ur.07546734443.45",
         "last_name": "Szasz",
         "research_orgs": [
          "grid.258806.1"
         ]
        },
        {
         "count": 2,
         "first_name": "Takeshi",
         "id": "ur.07547774471.33",
         "last_name": "Saitoh",
         "orcid_id": [
          "0000-0001-8844-9707"
         ],
         "research_orgs": [
          "grid.258806.1",
          "grid.265107.7",
          "grid.412804.b"
         ]
        },
        {
         "count": 2,
         "first_name": "Kouta",
         "id": "ur.0755275710.81",
         "last_name": "Mayanagi",
         "research_orgs": [
          "grid.7597.c",
          "grid.419056.f",
          "grid.136593.b",
          "grid.177174.3",
          "grid.419082.6"
         ]
        },
        {
         "count": 2,
         "first_name": "Makoto",
         "id": "ur.07573770766.28",
         "last_name": "Takamiya",
         "research_orgs": [
          "grid.26999.3d",
          "grid.419082.6",
          "grid.420377.5"
         ]
        },
        {
         "count": 2,
         "first_name": "Yoichi",
         "id": "ur.07604520622.14",
         "last_name": "Ishizuka",
         "research_orgs": [
          "grid.258333.c",
          "grid.174567.6"
         ]
        },
        {
         "count": 2,
         "first_name": "Masahiko",
         "id": "ur.07612376037.62",
         "last_name": "Sasano",
         "research_orgs": [
          "grid.471888.a",
          "grid.28312.3a"
         ]
        },
        {
         "count": 2,
         "first_name": "Takuya",
         "id": "ur.07630466243.50",
         "last_name": "Nosaka",
         "research_orgs": [
          "grid.258806.1"
         ]
        },
        {
         "count": 2,
         "first_name": "Kenshi",
         "id": "ur.07646554453.67",
         "last_name": "Haraguchi",
         "research_orgs": [
          "grid.258806.1"
         ]
        },
        {
         "count": 2,
         "first_name": "Chuanpu",
         "id": "ur.0766057663.08",
         "last_name": "Hao",
         "research_orgs": [
          "grid.433146.7",
          "grid.30055.33"
         ]
        },
        {
         "count": 2,
         "first_name": "Tomoya",
         "id": "ur.07660576650.58",
         "last_name": "Niho",
         "research_orgs": [
          "grid.258806.1"
         ]
        },
        {
         "count": 2,
         "first_name": "Yuhki",
         "id": "ur.07672326427.08",
         "last_name": "Kitazono",
         "research_orgs": [
          "grid.258806.1",
          "grid.471761.2",
          "grid.482504.f"
         ]
        },
        {
         "count": 2,
         "first_name": "Robert",
         "id": "ur.0771323051.12",
         "last_name": "Roth",
         "research_orgs": [
          "grid.159791.2",
          "grid.6546.1"
         ]
        },
        {
         "count": 2,
         "first_name": "Junichi Kojima",
         "id": "ur.07734653211.42",
         "last_name": "Kojima",
         "research_orgs": [
          "grid.497100.b",
          "grid.450318.b",
          "grid.32197.3e"
         ]
        },
        {
         "count": 2,
         "first_name": "Kenji",
         "id": "ur.07742253461.36",
         "last_name": "Yoza"
        },
        {
         "count": 2,
         "first_name": "Jaime Alberto",
         "id": "ur.0777040543.59",
         "last_name": "Moreno",
         "orcid_id": [
          "0000-0002-2556-9784"
         ],
         "research_orgs": [
          "grid.9486.3",
          "grid.5719.a",
          "grid.49096.32",
          "grid.412249.8",
          "grid.35915.3b"
         ]
        },
        {
         "count": 1,
         "first_name": "Emiko",
         "id": "ur.01000075176.85",
         "last_name": "Mouri",
         "research_orgs": [
          "grid.258806.1",
          "grid.459878.f",
          "grid.258799.8"
         ]
        },
        {
         "count": 1,
         "first_name": "Takashi",
         "id": "ur.010014104542.85",
         "last_name": "Himeno",
         "research_orgs": [
          "grid.258806.1"
         ]
        },
        {
         "count": 1,
         "first_name": "Hikaru",
         "id": "ur.01001547142.93",
         "last_name": "Chijimatsu"
        },
        {
         "count": 1,
         "first_name": "Hisayoshi",
         "id": "ur.01001642533.20",
         "last_name": "Kobayashi",
         "research_orgs": [
          "grid.26999.3d",
          "grid.143643.7",
          "grid.260026.0",
          "grid.419025.b",
          "grid.258622.9",
          "grid.32197.3e",
          "grid.444367.6",
          "grid.258797.6",
          "grid.136304.3",
          "grid.258799.8",
          "grid.412755.0",
          "grid.440904.d",
          "grid.69566.3a"
         ]
        },
        {
         "count": 1,
         "first_name": "Masahiro",
         "id": "ur.01001656347.53",
         "last_name": "Kohno",
         "research_orgs": [
          "grid.440900.9",
          "grid.410892.6",
          "grid.459867.1",
          "grid.261356.5",
          "grid.32197.3e",
          "grid.412334.3",
          "grid.69566.3a"
         ]
        },
        {
         "count": 1,
         "first_name": "Kazuo",
         "id": "ur.010023052475.83",
         "last_name": "Itou",
         "research_orgs": [
          "grid.26999.3d"
         ]
        },
        {
         "count": 1,
         "first_name": "Taizo",
         "id": "ur.010024324065.04",
         "last_name": "Kobayashi",
         "research_orgs": [
          "grid.177174.3",
          "grid.264706.1",
          "grid.419082.6"
         ]
        },
        {
         "count": 1,
         "first_name": "Yuuya",
         "id": "ur.010026227475.52",
         "last_name": "Akinaga",
         "research_orgs": [
          "grid.258806.1"
         ]
        },
        {
         "count": 1,
         "first_name": "Kenji",
         "id": "ur.010026307551.76",
         "last_name": "Watanabe",
         "research_orgs": [
          "grid.143643.7",
          "grid.419082.6",
          "grid.136593.b",
          "grid.458461.a",
          "grid.5290.e",
          "grid.177174.3",
          "grid.21941.3f",
          "grid.32197.3e",
          "grid.69566.3a"
         ]
        },
        {
         "count": 1,
         "first_name": "Yutaka",
         "id": "ur.01002712025.95",
         "last_name": "Kida",
         "research_orgs": [
          "grid.410781.b"
         ]
        },
        {
         "count": 1,
         "first_name": "Eric",
         "id": "ur.010027277541.02",
         "last_name": "Schneider",
         "research_orgs": [
          "grid.5719.a"
         ]
        },
        {
         "count": 1,
         "first_name": "Koji",
         "id": "ur.010031265152.25",
         "last_name": "Takano"
        },
        {
         "count": 1,
         "first_name": "Nor Azowa Bt",
         "id": "ur.01003556551.94",
         "last_name": "Ibrahim",
         "orcid_id": [
          "0000-0001-5400-2819"
         ],
         "research_orgs": [
          "grid.11142.37",
          "grid.10347.31"
         ]
        },
        {
         "count": 1,
         "first_name": "Tadashi",
         "id": "ur.010050201726.77",
         "last_name": "Koshizuka",
         "research_orgs": [
          "grid.410825.a",
          "grid.412773.4",
          "grid.258806.1"
         ]
        },
        {
         "count": 1,
         "first_name": "Takeshi",
         "id": "ur.010051337677.57",
         "last_name": "Kitahara",
         "research_orgs": [
          "grid.450318.b",
          "grid.5373.2"
         ]
        },
        {
         "count": 1,
         "first_name": "Nobuyoshi",
         "id": "ur.01005761204.52",
         "last_name": "Miyamoto",
         "research_orgs": [
          "grid.462447.7",
          "grid.419082.6",
          "grid.418051.9",
          "grid.5290.e",
          "grid.177174.3",
          "grid.500402.3"
         ]
        },
        {
         "count": 1,
         "first_name": "Nikola Kirilov",
         "id": "ur.010060432633.19",
         "last_name": "Kasabov",
         "orcid_id": [
          "0000-0003-4433-7521"
         ],
         "research_orgs": [
          "grid.7400.3",
          "grid.11696.39",
          "grid.5801.c",
          "grid.29980.3a",
          "grid.252547.3"
         ]
        },
        {
         "count": 1,
         "first_name": "Koichi",
         "id": "ur.010061602511.62",
         "last_name": "Marumo",
         "research_orgs": [
          "grid.20515.33"
         ]
        },
        {
         "count": 1,
         "first_name": "Fumihiko",
         "id": "ur.010062240572.85",
         "last_name": "Asano",
         "research_orgs": [
          "grid.7597.c",
          "grid.32197.3e",
          "grid.444515.5"
         ]
        },
        {
         "count": 1,
         "first_name": "Takayuki",
         "id": "ur.010063175041.32",
         "last_name": "Teramoto",
         "research_orgs": [
          "grid.177174.3",
          "grid.16753.36",
          "grid.418987.b",
          "grid.419082.6"
         ]
        },
        {
         "count": 1,
         "first_name": "Samia",
         "id": "ur.010063202313.50",
         "last_name": "Charfi-Kaddour",
         "research_orgs": [
          "grid.12574.35",
          "grid.265234.4",
          "grid.5842.b",
          "grid.462447.7"
         ]
        },
        {
         "count": 1,
         "first_name": "Marco Savino",
         "id": "ur.010063470655.98",
         "last_name": "Piscitelli",
         "orcid_id": [
          "0000-0002-0013-5656"
         ],
         "research_orgs": [
          "grid.4800.c"
         ]
        },
        {
         "count": 1,
         "first_name": "Ken-Ichi T",
         "id": "ur.010064503434.17",
         "last_name": "Suzuki",
         "orcid_id": [
          "0000-0002-4502-831X"
         ],
         "research_orgs": [
          "grid.255464.4",
          "grid.257022.0",
          "grid.419396.0"
         ]
        },
        {
         "count": 1,
         "first_name": "Takeaki",
         "id": "ur.01006512065.78",
         "last_name": "Taniguchi",
         "research_orgs": [
          "grid.32197.3e",
          "grid.486807.5"
         ]
        },
        {
         "count": 1,
         "first_name": "Hisako",
         "id": "ur.01006665727.15",
         "last_name": "Hirayama",
         "research_orgs": [
          "grid.412314.1",
          "grid.410588.0"
         ]
        },
        {
         "count": 1,
         "first_name": "Hiroto",
         "id": "ur.01007122017.64",
         "last_name": "Izumi",
         "research_orgs": [
          "grid.271052.3",
          "grid.177174.3",
          "grid.412334.3",
          "grid.8761.8"
         ]
        },
        {
         "count": 1,
         "first_name": "Kazuyuki",
         "id": "ur.010076320231.66",
         "last_name": "Matsuhira",
         "research_orgs": [
          "grid.258806.1",
          "grid.39158.36",
          "grid.31432.37",
          "grid.136593.b"
         ]
        },
        {
         "count": 1,
         "first_name": "Jan",
         "id": "ur.010105661556.05",
         "last_name": "Sliwa",
         "research_orgs": [
          "grid.424060.4"
         ]
        },
        {
         "count": 1,
         "first_name": "Jonathan Shi Khai",
         "id": "ur.010111675303.00",
         "last_name": "Ooi",
         "research_orgs": [
          "grid.11142.37"
         ]
        },
        {
         "count": 1,
         "first_name": "Ryo",
         "id": "ur.010112274555.96",
         "last_name": "Hamai",
         "research_orgs": [
          "grid.258806.1",
          "grid.459880.8"
         ]
        },
        {
         "count": 1,
         "first_name": "Hiroshi",
         "id": "ur.010113375362.61",
         "last_name": "Ochi",
         "research_orgs": [
          "grid.444302.5"
         ]
        },
        {
         "count": 1,
         "first_name": "Yuzuru",
         "id": "ur.010114263032.42",
         "last_name": "Itoh"
        },
        {
         "count": 1,
         "first_name": "Kiyoto",
         "id": "ur.010117575725.64",
         "last_name": "Takahata",
         "research_orgs": [
          "grid.419819.c",
          "grid.258799.8"
         ]
        },
        {
         "count": 1,
         "first_name": "Hiroshi",
         "id": "ur.010120012153.89",
         "last_name": "Maeda",
         "research_orgs": [
          "grid.258806.1"
         ]
        },
        {
         "count": 1,
         "first_name": "Akiyoshi",
         "id": "ur.010127735125.07",
         "last_name": "Baba",
         "research_orgs": [
          "grid.258806.1",
          "grid.480606.c",
          "grid.471949.6"
         ]
        },
        {
         "count": 1,
         "first_name": "Zhi-Fei",
         "id": "ur.010130055505.18",
         "last_name": "Liu",
         "research_orgs": [
          "grid.24516.34",
          "grid.162107.3",
          "grid.411288.6"
         ]
        },
        {
         "count": 1,
         "first_name": "Hiroyuki",
         "id": "ur.010136637716.75",
         "last_name": "Kuramae",
         "orcid_id": [
          "0000-0001-5571-8288"
         ],
         "research_orgs": [
          "grid.258806.1",
          "grid.274841.c",
          "grid.255178.c",
          "grid.419937.1"
         ]
        },
        {
         "count": 1,
         "first_name": "Keisuke",
         "id": "ur.010147440131.87",
         "last_name": "Asai",
         "research_orgs": [
          "grid.26999.3d",
          "grid.27476.30",
          "grid.69566.3a",
          "grid.419082.6"
         ]
        },
        {
         "count": 1,
         "first_name": "Tetsuichiro",
         "id": "ur.01015350214.32",
         "last_name": "Ohno",
         "research_orgs": [
          "grid.419819.c"
         ]
        },
        {
         "count": 1,
         "first_name": "Takehiro",
         "id": "ur.010153545271.39",
         "last_name": "Ito",
         "research_orgs": [
          "grid.419082.6",
          "grid.69566.3a"
         ]
        },
        {
         "count": 1,
         "first_name": "Byungki",
         "id": "ur.010160400571.39",
         "last_name": "Cha",
         "research_orgs": [
          "grid.443470.0"
         ]
        },
        {
         "count": 1,
         "first_name": "Koichi",
         "id": "ur.010162203061.86",
         "last_name": "Norimatsu",
         "research_orgs": [
          "grid.258806.1"
         ]
        },
        {
         "count": 1,
         "first_name": "Yuki",
         "id": "ur.010162442540.66",
         "last_name": "Fuchi",
         "research_orgs": [
          "grid.258806.1"
         ]
        },
        {
         "count": 1,
         "first_name": "Satoko",
         "id": "ur.010164167315.41",
         "last_name": "Shinkai",
         "research_orgs": [
          "grid.258806.1"
         ]
        },
        {
         "count": 1,
         "first_name": "Imran Zainal",
         "id": "ur.01016605753.09",
         "last_name": "Abidin",
         "research_orgs": [
          "grid.484611.e",
          "grid.10347.31",
          "grid.413018.f"
         ]
        },
        {
         "count": 1,
         "first_name": "Yoichiro",
         "id": "ur.010166544231.30",
         "last_name": "Neo",
         "research_orgs": [
          "grid.263536.7",
          "grid.69566.3a"
         ]
        },
        {
         "count": 1,
         "first_name": "Yoshinori",
         "id": "ur.01020060137.01",
         "last_name": "Tokura",
         "orcid_id": [
          "0000-0002-2732-4983"
         ],
         "research_orgs": [
          "grid.419819.c",
          "grid.26999.3d",
          "grid.39158.36",
          "grid.474689.0",
          "grid.208504.b",
          "grid.474688.1",
          "grid.20256.33",
          "grid.419082.6",
          "grid.31432.37",
          "grid.481551.c",
          "grid.136593.b",
          "grid.481554.9",
          "grid.258799.8",
          "grid.69566.3a",
          "grid.7597.c",
          "grid.411461.7",
          "grid.4830.f"
         ]
        },
        {
         "count": 1,
         "first_name": "Ken",
         "id": "ur.01020103571.41",
         "last_name": "Takai",
         "research_orgs": [
          "grid.15606.34",
          "grid.451303.0",
          "grid.258799.8",
          "grid.410588.0",
          "grid.450279.d",
          "grid.32197.3e"
         ]
        },
        {
         "count": 1,
         "first_name": "Mutsumi",
         "id": "ur.01020114030.77",
         "last_name": "Okamura",
         "research_orgs": [
          "grid.410807.a"
         ]
        },
        {
         "count": 1,
         "first_name": "Toshiya",
         "id": "ur.010202332215.97",
         "last_name": "Takami",
         "orcid_id": [
          "0000-0002-2764-2324"
         ],
         "research_orgs": [
          "grid.177174.3",
          "grid.467196.b",
          "grid.258799.8",
          "grid.412334.3",
          "grid.419082.6"
         ]
        },
        {
         "count": 1,
         "first_name": "Hiroyuki",
         "id": "ur.010212206615.18",
         "last_name": "Takeya",
         "research_orgs": [
          "grid.7597.c",
          "grid.26999.3d",
          "grid.21941.3f",
          "grid.69566.3a",
          "grid.419082.6"
         ]
        },
        {
         "count": 1,
         "first_name": "Yoshinobu",
         "id": "ur.010216064555.78",
         "last_name": "Murakami",
         "research_orgs": [
          "grid.450292.8",
          "grid.412804.b",
          "grid.419082.6"
         ]
        },
        {
         "count": 1,
         "first_name": "Xina",
         "id": "ur.010216354034.10",
         "last_name": "Cheng",
         "research_orgs": [
          "grid.5290.e"
         ]
        },
        {
         "count": 1,
         "first_name": "Takaaki",
         "id": "ur.010221030264.27",
         "last_name": "Koga",
         "research_orgs": [
          "grid.258806.1"
         ]
        },
        {
         "count": 1,
         "first_name": "Xin",
         "id": "ur.010227025455.19",
         "last_name": "Zeng",
         "research_orgs": [
          "grid.258806.1"
         ]
        },
        {
         "count": 1,
         "first_name": "Chu",
         "id": "ur.010227671107.36",
         "last_name": "Zhang",
         "research_orgs": [
          "grid.258806.1"
         ]
        },
        {
         "count": 1,
         "first_name": "Takeru",
         "id": "ur.010232573325.95",
         "last_name": "Kuroiwa",
         "research_orgs": [
          "grid.258806.1",
          "grid.462605.3"
         ]
        },
        {
         "count": 1,
         "first_name": "Kenji",
         "id": "ur.010236607661.59",
         "last_name": "Sakai",
         "orcid_id": [
          "0000-0002-2483-8823"
         ],
         "research_orgs": [
          "grid.258806.1",
          "grid.260975.f",
          "grid.412586.c",
          "grid.462975.b",
          "grid.177174.3",
          "grid.412334.3"
         ]
        },
        {
         "count": 1,
         "first_name": "Antonio",
         "id": "ur.010241716477.62",
         "last_name": "Carnielli",
         "research_orgs": [
          "grid.15822.3c"
         ]
        },
        {
         "count": 1,
         "first_name": "Rajeev",
         "id": "ur.010245724253.65",
         "last_name": "Chauhan"
        },
        {
         "count": 1,
         "first_name": "Yoshihiko",
         "id": "ur.010250473151.74",
         "last_name": "Togawa",
         "research_orgs": [
          "grid.26999.3d",
          "grid.261455.1",
          "grid.419082.6",
          "grid.8756.c",
          "grid.257022.0",
          "grid.7597.c"
         ]
        },
        {
         "count": 1,
         "first_name": "Keigo",
         "id": "ur.010257217323.44",
         "last_name": "Nakamura",
         "research_orgs": [
          "grid.258806.1"
         ]
        },
        {
         "count": 1,
         "first_name": "Takuya",
         "id": "ur.010257524475.37",
         "last_name": "Saraya",
         "research_orgs": [
          "grid.26999.3d",
          "grid.136304.3",
          "grid.32197.3e"
         ]
        },
        {
         "count": 1,
         "first_name": "Maryam Gholami",
         "id": "ur.01026526453.78",
         "last_name": "Doborjeh",
         "research_orgs": [
          "grid.252547.3"
         ]
        },
        {
         "count": 1,
         "first_name": "Wei Kit",
         "id": "ur.010274426403.48",
         "last_name": "Chee",
         "research_orgs": [
          "grid.11142.37"
         ]
        },
        {
         "count": 1,
         "first_name": "Yasushi",
         "id": "ur.010302266711.37",
         "last_name": "Kami",
         "research_orgs": [
          "grid.258806.1",
          "grid.459868.e",
          "grid.482504.f"
         ]
        },
        {
         "count": 1,
         "first_name": "Kazumasa",
         "id": "ur.010303570461.09",
         "last_name": "Nishio",
         "research_orgs": [
          "grid.258806.1",
          "grid.444302.5"
         ]
        },
        {
         "count": 1,
         "first_name": "Satoshi",
         "id": "ur.010305013750.53",
         "last_name": "Hiai",
         "research_orgs": [
          "grid.258806.1"
         ]
        },
        {
         "count": 1,
         "first_name": "Mohd Ridzuan",
         "id": "ur.01031146705.62",
         "last_name": "Othman",
         "orcid_id": [
          "0000-0003-3022-5860"
         ],
         "research_orgs": [
          "grid.11142.37"
         ]
        },
        {
         "count": 1,
         "first_name": "Qun",
         "id": "ur.01031235413.69",
         "last_name": "Li",
         "research_orgs": [
          "grid.30055.33"
         ]
        },
        {
         "count": 1,
         "first_name": "Huawei",
         "id": "ur.01032044123.37",
         "last_name": "Zhou",
         "research_orgs": [
          "grid.411351.3",
          "grid.30055.33"
         ]
        },
        {
         "count": 1,
         "first_name": "Hirohisa",
         "id": "ur.010321237147.37",
         "last_name": "Takano",
         "research_orgs": [
          "grid.254217.7"
         ]
        },
        {
         "count": 1,
         "first_name": "Hiroshi",
         "id": "ur.010332356011.46",
         "last_name": "Hara",
         "research_orgs": [
          "grid.21941.3f",
          "grid.20515.33",
          "grid.419082.6"
         ]
        },
        {
         "count": 1,
         "first_name": "Yousuke",
         "id": "ur.010335212507.29",
         "last_name": "Sasaki",
         "research_orgs": [
          "grid.258806.1"
         ]
        },
        {
         "count": 1,
         "first_name": "Kele",
         "id": "ur.010347576547.92",
         "last_name": "Shen",
         "research_orgs": [
          "grid.67293.39",
          "grid.12527.33"
         ]
        },
        {
         "count": 1,
         "first_name": "Xuelong",
         "id": "ur.010350603543.66",
         "last_name": "Hu",
         "research_orgs": [
          "grid.263761.7",
          "grid.268415.c",
          "grid.41156.37"
         ]
        },
        {
         "count": 1,
         "first_name": "Shin'Ichi",
         "id": "ur.010352073731.10",
         "last_name": "Tsumori",
         "research_orgs": [
          "grid.443623.4",
          "grid.258622.9"
         ]
        },
        {
         "count": 1,
         "first_name": "Suwarno",
         "id": "ur.010354216167.42",
         "last_name": "Suwarno",
         "research_orgs": [
          "grid.440753.1",
          "grid.444517.7",
          "grid.27476.30",
          "grid.444191.d",
          "grid.444380.f",
          "grid.430704.4",
          "grid.5947.f",
          "grid.473352.4",
          "grid.434933.a",
          "grid.444192.e"
         ]
        },
        {
         "count": 1,
         "first_name": "Ryo",
         "id": "ur.010356532066.59",
         "last_name": "Hayasaka"
        },
        {
         "count": 1,
         "first_name": "Polin",
         "id": "ur.010357604543.43",
         "last_name": "Liu",
         "research_orgs": [
          "grid.258806.1"
         ]
        },
        {
         "count": 1,
         "first_name": "Jiahao",
         "id": "ur.01036061715.18",
         "last_name": "Guo",
         "research_orgs": [
          "grid.443368.e",
          "grid.30055.33"
         ]
        },
        {
         "count": 1,
         "first_name": "Hideaki",
         "id": "ur.010373720327.77",
         "last_name": "Tokunaga",
         "research_orgs": [
          "grid.258806.1"
         ]
        },
        {
         "count": 1,
         "first_name": "Mohamed Yahia",
         "id": "ur.010377605132.96",
         "last_name": "Edries",
         "orcid_id": [
          "0000-0001-5928-0279"
         ],
         "research_orgs": [
          "grid.258806.1"
         ]
        },
        {
         "count": 1,
         "first_name": "Mohamad Ridzwan",
         "id": "ur.01040117702.96",
         "last_name": "Ishak",
         "orcid_id": [
          "0000-0001-6923-2481"
         ],
         "research_orgs": [
          "grid.11142.37"
         ]
        },
        {
         "count": 1,
         "first_name": "Renshi",
         "id": "ur.01041510142.07",
         "last_name": "Sawada",
         "research_orgs": [
          "grid.419819.c",
          "grid.26999.3d",
          "grid.177174.3",
          "grid.419082.6"
         ]
        },
        {
         "count": 1,
         "first_name": "Zhe",
         "id": "ur.010424461515.41",
         "last_name": "Lei",
         "research_orgs": [
          "grid.258806.1"
         ]
        },
        {
         "count": 1,
         "first_name": "Tomohiro",
         "id": "ur.010425144655.24",
         "last_name": "Ikeda",
         "research_orgs": [
          "grid.258806.1"
         ]
        },
        {
         "count": 1,
         "first_name": "Tsutomu",
         "id": "ur.01042674266.32",
         "last_name": "Shimura",
         "research_orgs": [
          "grid.31432.37",
          "grid.417768.b",
          "grid.257022.0",
          "grid.258799.8",
          "grid.7597.c",
          "grid.420086.8",
          "grid.415776.6",
          "grid.69566.3a"
         ]
        },
        {
         "count": 1,
         "first_name": "Toshihiro",
         "id": "ur.010432567143.45",
         "last_name": "Takahashi",
         "research_orgs": [
          "grid.27476.30",
          "grid.417751.1"
         ]
        },
        {
         "count": 1,
         "first_name": "Tsubasa",
         "id": "ur.010443652552.14",
         "last_name": "Nakamura",
         "research_orgs": [
          "grid.260427.5",
          "grid.482504.f"
         ]
        },
        {
         "count": 1,
         "first_name": "Shohei",
         "id": "ur.010455373704.50",
         "last_name": "Nakata",
         "research_orgs": [
          "grid.258806.1"
         ]
        },
        {
         "count": 1,
         "first_name": "Takashi",
         "id": "ur.010465276742.51",
         "last_name": "Kawamura",
         "research_orgs": [
          "grid.263518.b"
         ]
        },
        {
         "count": 1,
         "first_name": "Yuqing",
         "id": "ur.010467226041.37",
         "last_name": "Li",
         "research_orgs": [
          "grid.268415.c"
         ]
        },
        {
         "count": 1,
         "first_name": "Mutsuki",
         "id": "ur.010467732366.07",
         "last_name": "Hino",
         "research_orgs": [
          "grid.258806.1"
         ]
        },
        {
         "count": 1,
         "first_name": "Sebastian G",
         "id": "ur.01047110776.38",
         "last_name": "Volz",
         "orcid_id": [
          "0000-0003-2069-9480"
         ],
         "research_orgs": [
          "grid.494567.d",
          "grid.26999.3d",
          "grid.4444.0",
          "grid.24516.34",
          "grid.434217.7",
          "grid.460789.4",
          "grid.450332.3",
          "grid.462542.3",
          "grid.14001.34"
         ]
        },
        {
         "count": 1,
         "first_name": "Ryosuke",
         "id": "ur.010476511521.14",
         "last_name": "Kubota",
         "research_orgs": [
          "grid.258806.1",
          "grid.472121.3",
          "grid.268397.1"
         ]
        },
        {
         "count": 1,
         "first_name": "Naoki",
         "id": "ur.01047662342.91",
         "last_name": "Chijiwa"
        },
        {
         "count": 1,
         "first_name": "Yoshinori",
         "id": "ur.010502740263.46",
         "last_name": "Sawae",
         "research_orgs": [
          "grid.258806.1",
          "grid.10347.31",
          "grid.177174.3",
          "grid.410786.c"
         ]
        },
        {
         "count": 1,
         "first_name": "Bunsho",
         "id": "ur.01050730256.75",
         "last_name": "Ohtani",
         "research_orgs": [
          "grid.26999.3d",
          "grid.39158.36",
          "grid.136593.b",
          "grid.258799.8"
         ]
        },
        {
         "count": 1,
         "first_name": "Akihiro",
         "id": "ur.010507333145.55",
         "last_name": "Satake",
         "research_orgs": [
          "grid.258806.1"
         ]
        },
        {
         "count": 1,
         "first_name": "Pierre",
         "id": "ur.010514103044.01",
         "last_name": "Sens",
         "orcid_id": [
          "0000-0002-5156-7715"
         ],
         "research_orgs": [
          "grid.4444.0",
          "grid.462844.8",
          "grid.5328.c",
          "grid.89485.38",
          "grid.462751.3"
         ]
        },
        {
         "count": 1,
         "first_name": "Takashi",
         "id": "ur.010524212203.50",
         "last_name": "Takimoto",
         "research_orgs": [
          "grid.471761.2",
          "grid.482504.f"
         ]
        },
        {
         "count": 1,
         "first_name": "Cheng-Yu",
         "id": "ur.010525443727.21",
         "last_name": "Han",
         "research_orgs": [
          "grid.19188.39",
          "grid.37589.30"
         ]
        },
        {
         "count": 1,
         "first_name": "Eiichi",
         "id": "ur.010525561555.21",
         "last_name": "Haginomori",
         "research_orgs": [
          "grid.258806.1",
          "grid.26999.3d",
          "grid.410825.a",
          "grid.480438.3",
          "grid.32197.3e",
          "grid.443595.a"
         ]
        },
        {
         "count": 1,
         "first_name": "Akihiko",
         "id": "ur.01053351451.04",
         "last_name": "Kondo",
         "research_orgs": [
          "grid.258806.1",
          "grid.31432.37",
          "grid.419025.b",
          "grid.419082.6",
          "grid.136593.b",
          "grid.222754.4",
          "grid.136594.c",
          "grid.258799.8",
          "grid.7597.c"
         ]
        },
        {
         "count": 1,
         "first_name": "Hisatoshi",
         "id": "ur.010534461651.48",
         "last_name": "Ikeda",
         "research_orgs": [
          "grid.410825.a",
          "grid.26999.3d",
          "grid.412773.4"
         ]
        },
        {
         "count": 1,
         "first_name": "Takaaki",
         "id": "ur.010535213313.61",
         "last_name": "Kato",
         "research_orgs": [
          "grid.258806.1",
          "grid.419082.6"
         ]
        },
        {
         "count": 1,
         "first_name": "Atsushi",
         "id": "ur.01054075167.05",
         "last_name": "Tsukazaki",
         "research_orgs": [
          "grid.26999.3d",
          "grid.32197.3e",
          "grid.419082.6",
          "grid.69566.3a"
         ]
        },
        {
         "count": 1,
         "first_name": "Zhong Lu",
         "id": "ur.010542430025.96",
         "last_name": "Cao",
         "orcid_id": [
          "0000-0002-4146-1044"
         ],
         "research_orgs": [
          "grid.258806.1"
         ]
        },
        {
         "count": 1,
         "first_name": "Shinsho",
         "id": "ur.010550656521.16",
         "last_name": "Oryu",
         "research_orgs": [
          "grid.26999.3d",
          "grid.143643.7",
          "grid.10392.39"
         ]
        },
        {
         "count": 1,
         "first_name": "Satoshi",
         "id": "ur.01055356417.42",
         "last_name": "Yamashita",
         "orcid_id": [
          "0000-0001-9315-3492"
         ],
         "research_orgs": [
          "grid.26999.3d",
          "grid.63906.3a",
          "grid.21729.3f",
          "grid.411152.2",
          "grid.272242.3",
          "grid.274841.c",
          "grid.177174.3",
          "grid.415538.e",
          "grid.265073.5"
         ]
        },
        {
         "count": 1,
         "first_name": "Masamichi",
         "id": "ur.01055515052.13",
         "last_name": "Doiguchi",
         "research_orgs": [
          "grid.177174.3",
          "grid.174567.6"
         ]
        },
        {
         "count": 1,
         "first_name": "Vladimir S",
         "id": "ur.010555711123.21",
         "last_name": "Vyatkin",
         "research_orgs": [
          "grid.258806.1",
          "grid.254217.7",
          "grid.26999.3d",
          "grid.419082.6"
         ]
        },
        {
         "count": 1,
         "first_name": "Ryo",
         "id": "ur.01056046753.20",
         "last_name": "Tsuboi",
         "research_orgs": [
          "grid.258806.1"
         ]
        },
        {
         "count": 1,
         "first_name": "Arata",
         "id": "ur.01056145555.21",
         "last_name": "Shiraishi",
         "research_orgs": [
          "grid.258806.1"
         ]
        },
        {
         "count": 1,
         "first_name": "Masashi",
         "id": "ur.01056173451.81",
         "last_name": "Kawasaki",
         "research_orgs": [
          "grid.26999.3d",
          "grid.474689.0",
          "grid.208504.b",
          "grid.474688.1",
          "grid.419082.6",
          "grid.419534.e",
          "grid.21941.3f",
          "grid.7597.c",
          "grid.32197.3e",
          "grid.69566.3a"
         ]
        },
        {
         "count": 1,
         "first_name": "Laurent",
         "id": "ur.010570624411.54",
         "last_name": "Tranchant",
         "research_orgs": [
          "grid.258806.1",
          "grid.462542.3",
          "grid.14001.34"
         ]
        },
        {
         "count": 1,
         "first_name": "Zhanhu",
         "id": "ur.01057665720.09",
         "last_name": "Guo",
         "orcid_id": [
          "0000-0003-0134-0210"
         ],
         "research_orgs": [
          "grid.10776.37",
          "grid.258921.5",
          "grid.19006.3e",
          "grid.54549.39",
          "grid.412508.a",
          "grid.207374.5",
          "grid.267305.5",
          "grid.64337.35",
          "grid.411461.7"
         ]
        },
        {
         "count": 1,
         "first_name": "Shuhei",
         "id": "ur.01060005357.52",
         "last_name": "Takahashi",
         "research_orgs": [
          "grid.258806.1"
         ]
        },
        {
         "count": 1,
         "first_name": "Yuuki",
         "id": "ur.010603646043.50",
         "last_name": "Tagawa",
         "research_orgs": [
          "grid.258806.1"
         ]
        },
        {
         "count": 1,
         "first_name": "Chiaki",
         "id": "ur.01060433763.48",
         "last_name": "Ogino",
         "research_orgs": [
          "grid.9707.9",
          "grid.31432.37",
          "grid.27476.30"
         ]
        },
        {
         "count": 1,
         "first_name": "Yohichiroh",
         "id": "ur.01060463322.07",
         "last_name": "Numasawa",
         "research_orgs": [
          "grid.411764.1"
         ]
        },
        {
         "count": 1,
         "first_name": "Takashi",
         "id": "ur.010613257211.82",
         "last_name": "Yasuda",
         "research_orgs": [
          "grid.258806.1"
         ]
        },
        {
         "count": 1,
         "first_name": "Qianyu",
         "id": "ur.010632601247.45",
         "last_name": "Xu",
         "research_orgs": [
          "grid.27476.30"
         ]
        },
        {
         "count": 1,
         "first_name": "Misao",
         "id": "ur.010634676452.95",
         "last_name": "Kubota",
         "research_orgs": [
          "grid.26999.3d",
          "grid.472641.2",
          "grid.410794.f"
         ]
        },
        {
         "count": 1,
         "first_name": "Daisuke",
         "id": "ur.01064050131.88",
         "last_name": "Shimao",
         "research_orgs": [
          "grid.411486.e",
          "grid.444700.3",
          "grid.275033.0"
         ]
        },
        {
         "count": 1,
         "first_name": "Tomonari",
         "id": "ur.01064552560.47",
         "last_name": "Akamatsu",
         "research_orgs": [
          "grid.265125.7",
          "grid.419082.6",
          "grid.410851.9"
         ]
        },
        {
         "count": 1,
         "first_name": "Yusuke",
         "id": "ur.01064755455.70",
         "last_name": "Sato",
         "research_orgs": [
          "grid.258806.1"
         ]
        },
        {
         "count": 1,
         "first_name": "Yasushi",
         "id": "ur.01065261205.27",
         "last_name": "Takemoto",
         "research_orgs": [
          "grid.26091.3c",
          "grid.7597.c",
          "grid.474688.1"
         ]
        },
        {
         "count": 1,
         "first_name": "Kunio",
         "id": "ur.01065745002.87",
         "last_name": "Yubuta",
         "orcid_id": [
          "0000-0002-3401-6874"
         ],
         "research_orgs": [
          "grid.263518.b",
          "grid.26999.3d",
          "grid.10420.37",
          "grid.419082.6",
          "grid.69566.3a"
         ]
        },
        {
         "count": 1,
         "first_name": "Keiichi",
         "id": "ur.01065751245.28",
         "last_name": "Ohtsuka",
         "research_orgs": [
          "grid.258806.1",
          "grid.177174.3"
         ]
        },
        {
         "count": 1,
         "first_name": "Yusuke",
         "id": "ur.010666404271.34",
         "last_name": "Kikuchi",
         "orcid_id": [
          "0000-0002-9330-231X"
         ],
         "research_orgs": [
          "grid.266453.0",
          "grid.18919.38",
          "grid.27476.30"
         ]
        },
        {
         "count": 1,
         "first_name": "Premkumar B",
         "id": "ur.01067225276.74",
         "last_name": "Saganti",
         "research_orgs": [
          "grid.419085.1",
          "grid.262103.4",
          "grid.419474.b"
         ]
        },
        {
         "count": 1,
         "first_name": "Toshihiko",
         "id": "ur.010672747423.30",
         "last_name": "Umekage",
         "research_orgs": [
          "grid.258806.1"
         ]
        },
        {
         "count": 1,
         "first_name": "Kensaku",
         "id": "ur.01067276221.53",
         "last_name": "Mori",
         "orcid_id": [
          "0000-0002-0100-4797"
         ],
         "research_orgs": [
          "grid.168010.e",
          "grid.411486.e",
          "grid.250343.3",
          "grid.411620.0",
          "grid.27476.30",
          "grid.263171.0"
         ]
        },
        {
         "count": 1,
         "first_name": "Kiyotaka",
         "id": "ur.010673531175.23",
         "last_name": "Fuji",
         "research_orgs": [
          "grid.258806.1"
         ]
        },
        {
         "count": 1,
         "first_name": "Yasuhiro",
         "id": "ur.010700762201.55",
         "last_name": "Shinozaki",
         "research_orgs": [
          "grid.258806.1"
         ]
        },
        {
         "count": 1,
         "first_name": "Ashiqur",
         "id": "ur.010713025345.46",
         "last_name": "Rahman",
         "research_orgs": [
          "grid.412113.4"
         ]
        },
        {
         "count": 1,
         "first_name": "Yoshiaki",
         "id": "ur.01071441255.76",
         "last_name": "Harimoto",
         "research_orgs": [
          "grid.27476.30"
         ]
        },
        {
         "count": 1,
         "first_name": "Ryo",
         "id": "ur.010714654347.25",
         "last_name": "Taba",
         "research_orgs": [
          "grid.471922.b",
          "grid.69566.3a"
         ]
        },
        {
         "count": 1,
         "first_name": "Shohei",
         "id": "ur.010720332613.89",
         "last_name": "Harada",
         "research_orgs": [
          "grid.258806.1"
         ]
        },
        {
         "count": 1,
         "first_name": "Kazuhisa",
         "id": "ur.010723555024.33",
         "last_name": "Sato",
         "orcid_id": [
          "0000-0001-9078-2541"
         ],
         "research_orgs": [
          "grid.136593.b",
          "grid.35403.31",
          "grid.69566.3a"
         ]
        },
        {
         "count": 1,
         "first_name": "Kosei",
         "id": "ur.010735025331.95",
         "last_name": "Fujiwara",
         "research_orgs": [
          "grid.258806.1"
         ]
        },
        {
         "count": 1,
         "first_name": "Yoshihiro",
         "id": "ur.010735053016.64",
         "last_name": "Furuno",
         "research_orgs": [
          "grid.258806.1"
         ]
        },
        {
         "count": 1,
         "first_name": "Takeo",
         "id": "ur.01073703156.54",
         "last_name": "Ebina",
         "orcid_id": [
          "0000-0003-1133-7912"
         ],
         "research_orgs": [
          "grid.208504.b",
          "grid.69566.3a",
          "grid.419082.6"
         ]
        },
        {
         "count": 1,
         "first_name": "Sho",
         "id": "ur.010737662515.65",
         "last_name": "Iwagami",
         "research_orgs": [
          "grid.258806.1"
         ]
        },
        {
         "count": 1,
         "first_name": "Naoki",
         "id": "ur.010752347543.56",
         "last_name": "Nakazawa",
         "research_orgs": [
          "grid.266298.1"
         ]
        },
        {
         "count": 1,
         "first_name": "Takeshi",
         "id": "ur.01075611442.41",
         "last_name": "Aihara",
         "research_orgs": [
          "grid.412905.b",
          "grid.474690.8"
         ]
        },
        {
         "count": 1,
         "first_name": "Kenji",
         "id": "ur.010761150025.00",
         "last_name": "Matsui",
         "research_orgs": [
          "grid.419937.1"
         ]
        },
        {
         "count": 1,
         "first_name": "Shusaku",
         "id": "ur.010767005450.83",
         "last_name": "Tsumoto",
         "research_orgs": [
          "grid.443613.7",
          "grid.255178.c",
          "grid.12847.38",
          "grid.411621.1",
          "grid.412398.5",
          "grid.265073.5",
          "grid.412567.3"
         ]
        },
        {
         "count": 1,
         "first_name": "Hans-Joachim",
         "id": "ur.010776733103.90",
         "last_name": "Wunderlich",
         "orcid_id": [
          "0000-0003-4536-8290"
         ],
         "research_orgs": [
          "grid.5963.9",
          "grid.5659.f",
          "grid.5836.8",
          "grid.5719.a",
          "grid.425335.6",
          "grid.7892.4"
         ]
        },
        {
         "count": 1,
         "first_name": "Bhargab Bikram",
         "id": "ur.011000612253.48",
         "last_name": "Bhattacharya",
         "research_orgs": [
          "grid.429017.9",
          "grid.24434.35",
          "grid.440667.7",
          "grid.59056.3f",
          "grid.266869.5",
          "grid.39953.35",
          "grid.412537.6"
         ]
        },
        {
         "count": 1,
         "first_name": "Ryokichi",
         "id": "ur.011000702062.78",
         "last_name": "Onishi",
         "research_orgs": [
          "grid.26999.3d",
          "grid.462975.b",
          "grid.467593.a"
         ]
        },
        {
         "count": 1,
         "first_name": "Bishnu Prasad",
         "id": "ur.01100702566.51",
         "last_name": "Bastakoti",
         "research_orgs": [
          "grid.1013.3",
          "grid.38142.3c",
          "grid.21941.3f",
          "grid.412339.e"
         ]
        },
        {
         "count": 1,
         "first_name": "Mohamed",
         "id": "ur.011007556725.49",
         "last_name": "Tallouli",
         "research_orgs": [
          "grid.254217.7",
          "grid.1029.a"
         ]
        },
        {
         "count": 1,
         "first_name": "Dejun",
         "id": "ur.011010242527.18",
         "last_name": "Wang",
         "research_orgs": [
          "grid.30055.33",
          "grid.64924.3d"
         ]
        },
        {
         "count": 1,
         "first_name": "Masashi",
         "id": "ur.01101070023.41",
         "last_name": "Konyo",
         "orcid_id": [
          "0000-0002-6826-9722"
         ],
         "research_orgs": [
          "grid.26091.3c",
          "grid.31432.37",
          "grid.258799.8",
          "grid.69566.3a"
         ]
        },
        {
         "count": 1,
         "first_name": "Takashi",
         "id": "ur.01101120562.04",
         "last_name": "Yamamoto",
         "orcid_id": [
          "0000-0002-6516-2903"
         ],
         "research_orgs": [
          "grid.274841.c",
          "grid.257022.0"
         ]
        },
        {
         "count": 1,
         "first_name": "Shoichiro",
         "id": "ur.011013120207.47",
         "last_name": "Ikeda",
         "research_orgs": [
          "grid.410877.d"
         ]
        },
        {
         "count": 1,
         "first_name": "Luciana Bezerra",
         "id": "ur.011017261303.30",
         "last_name": "Arantes",
         "orcid_id": [
          "0000-0002-0938-2004"
         ],
         "research_orgs": [
          "grid.4444.0",
          "grid.462844.8",
          "grid.5328.c",
          "grid.462751.3",
          "grid.411247.5"
         ]
        },
        {
         "count": 1,
         "first_name": "Daisuke",
         "id": "ur.011022532271.66",
         "last_name": "Hashimoto",
         "research_orgs": [
          "grid.258806.1"
         ]
        },
        {
         "count": 1,
         "first_name": "Naoto",
         "id": "ur.011022626152.03",
         "last_name": "Miyokawa",
         "research_orgs": [
          "grid.47716.33"
         ]
        },
        {
         "count": 1,
         "first_name": "Hiroaki",
         "id": "ur.011024325503.67",
         "last_name": "Kumakura",
         "research_orgs": [
          "grid.26999.3d",
          "grid.202665.5",
          "grid.419082.6",
          "grid.21941.3f",
          "grid.411792.8",
          "grid.32197.3e",
          "grid.20515.33"
         ]
        },
        {
         "count": 1,
         "first_name": "Jeremie",
         "id": "ur.011025345401.24",
         "last_name": "Drevillon",
         "orcid_id": [
          "0000-0002-3144-4347"
         ],
         "research_orgs": [
          "grid.4444.0",
          "grid.11166.31",
          "grid.4817.a",
          "grid.253294.b",
          "grid.462224.4"
         ]
        },
        {
         "count": 1,
         "first_name": "Shoichi",
         "id": "ur.011026376135.38",
         "last_name": "Matsuda",
         "research_orgs": [
          "grid.471922.b",
          "grid.267625.2"
         ]
        },
        {
         "count": 1,
         "first_name": "Yasuhiro",
         "id": "ur.011027771463.75",
         "last_name": "Akahoshi",
         "research_orgs": [
          "grid.258806.1"
         ]
        },
        {
         "count": 1,
         "first_name": "Sansei",
         "id": "ur.011030651340.35",
         "last_name": "Hori",
         "research_orgs": [
          "grid.258806.1"
         ]
        },
        {
         "count": 1,
         "first_name": "Gen",
         "id": "ur.011033147757.05",
         "last_name": "Tamamushi",
         "research_orgs": [
          "grid.459973.5",
          "grid.69566.3a"
         ]
        },
        {
         "count": 1,
         "first_name": "Masanari",
         "id": "ur.01103721623.35",
         "last_name": "Kanemitsu",
         "research_orgs": [
          "grid.271052.3",
          "grid.258806.1"
         ]
        },
        {
         "count": 1,
         "first_name": "Ryunosuke",
         "id": "ur.011041720372.04",
         "last_name": "Tadoh",
         "research_orgs": [
          "grid.258806.1"
         ]
        },
        {
         "count": 1,
         "first_name": "Miyako",
         "id": "ur.01104356474.43",
         "last_name": "Kusano",
         "orcid_id": [
          "0000-0002-0052-6155"
         ],
         "research_orgs": [
          "grid.411240.2",
          "grid.411285.b",
          "grid.419082.6",
          "grid.261331.4",
          "grid.471657.6",
          "grid.261356.5",
          "grid.136304.3",
          "grid.268441.d",
          "grid.7597.c",
          "grid.265107.7",
          "grid.467081.c",
          "grid.20515.33"
         ]
        },
        {
         "count": 1,
         "first_name": "Hidenori",
         "id": "ur.011046051271.69",
         "last_name": "Mimura",
         "research_orgs": [
          "grid.20256.33",
          "grid.418163.9",
          "grid.462646.4",
          "grid.263536.7",
          "grid.69566.3a"
         ]
        },
        {
         "count": 1,
         "first_name": "Daisuke",
         "id": "ur.011047421711.06",
         "last_name": "Terada",
         "research_orgs": [
          "grid.136593.b",
          "grid.177174.3",
          "grid.258799.8",
          "grid.254124.4"
         ]
        },
        {
         "count": 1,
         "first_name": "Yuki",
         "id": "ur.01105176073.18",
         "last_name": "Abiko",
         "research_orgs": [
          "grid.411456.3",
          "grid.27476.30",
          "grid.411253.0",
          "grid.69566.3a"
         ]
        },
        {
         "count": 1,
         "first_name": "Xian-Xi",
         "id": "ur.01105650400.71",
         "last_name": "Zhang",
         "research_orgs": [
          "grid.411351.3",
          "grid.27255.37",
          "grid.5333.6"
         ]
        },
        {
         "count": 1,
         "first_name": "Tomoya",
         "id": "ur.01105751074.12",
         "last_name": "Hirano",
         "orcid_id": [
          "0000-0003-1196-7199"
         ],
         "research_orgs": [
          "grid.26999.3d",
          "grid.265073.5"
         ]
        },
        {
         "count": 1,
         "first_name": "Makoto",
         "id": "ur.011060074165.17",
         "last_name": "Ohta",
         "orcid_id": [
          "0000-0001-8571-6400"
         ],
         "research_orgs": [
          "grid.150338.c",
          "grid.258799.8",
          "grid.412082.d",
          "grid.69566.3a"
         ]
        },
        {
         "count": 1,
         "first_name": "Chihiro",
         "id": "ur.01106476456.55",
         "last_name": "Tabata",
         "research_orgs": [
          "grid.410794.f",
          "grid.39158.36"
         ]
        },
        {
         "count": 1,
         "first_name": "R",
         "id": "ur.011067254651.52",
         "last_name": "Kido",
         "research_orgs": [
          "grid.258806.1"
         ]
        },
        {
         "count": 1,
         "first_name": "Juferi",
         "id": "ur.011077776021.13",
         "last_name": "Idris",
         "research_orgs": [
          "grid.258806.1",
          "grid.412259.9"
         ]
        },
        {
         "count": 1,
         "first_name": "Shi",
         "id": "ur.011102655735.67",
         "last_name": "Bao",
         "research_orgs": [
          "grid.411648.e",
          "grid.260433.0"
         ]
        },
        {
         "count": 1,
         "first_name": "Hikaru",
         "id": "ur.011106141303.23",
         "last_name": "Maruyama",
         "research_orgs": [
          "grid.258806.1"
         ]
        },
        {
         "count": 1,
         "first_name": "Suryadevara V",
         "id": "ur.01110635304.55",
         "last_name": "Babu",
         "orcid_id": [
          "0000-0002-5171-261X"
         ],
         "research_orgs": [
          "grid.254280.9"
         ]
        },
        {
         "count": 1,
         "first_name": "Yoshikazu",
         "id": "ur.01111013734.00",
         "last_name": "Harada",
         "research_orgs": [
          "grid.271052.3"
         ]
        },
        {
         "count": 1,
         "first_name": "Kei S",
         "id": "ur.01111035214.11",
         "last_name": "Takahashi",
         "research_orgs": [
          "grid.26999.3d",
          "grid.474689.0",
          "grid.474688.1",
          "grid.8591.5",
          "grid.419082.6"
         ]
        },
        {
         "count": 1,
         "first_name": "Juan",
         "id": "ur.01111572172.22",
         "last_name": "Wang",
         "research_orgs": [
          "grid.69775.3a"
         ]
        },
        {
         "count": 1,
         "first_name": "Schara",
         "id": "ur.01112634551.48",
         "last_name": "Safarian",
         "research_orgs": [
          "grid.419494.5"
         ]
        },
        {
         "count": 1,
         "first_name": "Bo",
         "id": "ur.011133476360.83",
         "last_name": "Li",
         "research_orgs": [
          "grid.30055.33"
         ]
        },
        {
         "count": 1,
         "first_name": "Ken-Ichi",
         "id": "ur.01113727566.32",
         "last_name": "Morishige",
         "research_orgs": [
          "grid.258806.1",
          "grid.418163.9",
          "grid.412803.c"
         ]
        },
        {
         "count": 1,
         "first_name": "Taiichi",
         "id": "ur.011141615451.79",
         "last_name": "Otsuji",
         "research_orgs": [
          "grid.258806.1",
          "grid.419819.c",
          "grid.419082.6",
          "grid.265880.1",
          "grid.5600.3",
          "grid.69566.3a"
         ]
        },
        {
         "count": 1,
         "first_name": "Satoshi",
         "id": "ur.011166320405.91",
         "last_name": "Hata",
         "research_orgs": [
          "grid.177174.3"
         ]
        },
        {
         "count": 1,
         "first_name": "Huaqing",
         "id": "ur.011172647365.39",
         "last_name": "Wang",
         "orcid_id": [
          "0000-0001-5333-0829"
         ],
         "research_orgs": [
          "grid.48166.3d",
          "grid.260026.0"
         ]
        },
        {
         "count": 1,
         "first_name": "Toshikazu",
         "id": "ur.01120002665.77",
         "last_name": "Samura",
         "research_orgs": [
          "grid.258806.1",
          "grid.267500.6",
          "grid.26091.3c",
          "grid.412905.b",
          "grid.268397.1"
         ]
        },
        {
         "count": 1,
         "first_name": "Masayoshi",
         "id": "ur.011205203651.36",
         "last_name": "Nagata",
         "research_orgs": [
          "grid.266453.0",
          "grid.136593.b"
         ]
        },
        {
         "count": 1,
         "first_name": "Takanobu",
         "id": "ur.01122462177.79",
         "last_name": "Shiraishi",
         "research_orgs": [
          "grid.177174.3",
          "grid.174567.6"
         ]
        },
        {
         "count": 1,
         "first_name": "Motoji",
         "id": "ur.011230371375.06",
         "last_name": "Yamamoto",
         "research_orgs": [
          "grid.177174.3"
         ]
        },
        {
         "count": 1,
         "first_name": "Hiroshi",
         "id": "ur.011233451517.28",
         "last_name": "Eto",
         "research_orgs": [
          "grid.258806.1",
          "grid.177174.3"
         ]
        },
        {
         "count": 1,
         "first_name": "Kiyoshi",
         "id": "ur.011233637061.24",
         "last_name": "Yoshinaka",
         "orcid_id": [
          "0000-0002-5345-7974"
         ],
         "research_orgs": [
          "grid.26999.3d",
          "grid.208504.b",
          "grid.258799.8"
         ]
        },
        {
         "count": 1,
         "first_name": "Hajime",
         "id": "ur.01123440665.54",
         "last_name": "Hori",
         "research_orgs": [
          "grid.271052.3",
          "grid.140139.e"
         ]
        },
        {
         "count": 1,
         "first_name": "Shota",
         "id": "ur.011240713742.12",
         "last_name": "Hidaka",
         "research_orgs": [
          "grid.258806.1"
         ]
        },
        {
         "count": 1,
         "first_name": "Anubis Graciela De Moraes",
         "id": "ur.011241677241.61",
         "last_name": "Rossetto",
         "research_orgs": [
          "grid.8532.c"
         ]
        },
        {
         "count": 1,
         "first_name": "Shinya",
         "id": "ur.01124357113.20",
         "last_name": "Ikeno",
         "research_orgs": [
          "grid.258806.1",
          "grid.9707.9",
          "grid.419082.6"
         ]
        },
        {
         "count": 1,
         "first_name": "Hatsuo",
         "id": "ur.01124441650.28",
         "last_name": "Hayashi",
         "research_orgs": [
          "grid.258806.1",
          "grid.177174.3"
         ]
        },
        {
         "count": 1,
         "first_name": "Michael Andreas",
         "id": "ur.011246220332.54",
         "last_name": "Kochte",
         "research_orgs": [
          "grid.258806.1",
          "grid.5719.a",
          "grid.64523.36",
          "grid.5963.9"
         ]
        },
        {
         "count": 1,
         "first_name": "Yasunori",
         "id": "ur.01124637202.34",
         "last_name": "Akagi",
         "research_orgs": [
          "grid.265107.7"
         ]
        },
        {
         "count": 1,
         "first_name": "Toetsu",
         "id": "ur.011253753717.02",
         "last_name": "Shishido",
         "research_orgs": [
          "grid.26999.3d",
          "grid.412804.b",
          "grid.5802.f",
          "grid.411113.7",
          "grid.263518.b",
          "grid.69566.3a"
         ]
        },
        {
         "count": 1,
         "first_name": "Mohammad Tariqul",
         "id": "ur.011265610607.44",
         "last_name": "Islam",
         "orcid_id": [
          "0000-0002-4929-3209"
         ],
         "research_orgs": [
          "grid.258806.1",
          "grid.412113.4",
          "grid.500644.3",
          "grid.413089.7",
          "grid.4777.3",
          "grid.8198.8"
         ]
        },
        {
         "count": 1,
         "first_name": "Antony",
         "id": "ur.01126760341.06",
         "last_name": "Lam",
         "research_orgs": [
          "grid.263023.6",
          "grid.250343.3"
         ]
        },
        {
         "count": 1,
         "first_name": "Hartmut",
         "id": "ur.01130570240.67",
         "last_name": "Michel",
         "research_orgs": [
          "grid.418615.f",
          "grid.419494.5",
          "grid.8379.5",
          "grid.7839.5"
         ]
        },
        {
         "count": 1,
         "first_name": "Hideaki",
         "id": "ur.011306537043.62",
         "last_name": "Kawano",
         "research_orgs": [
          "grid.258806.1"
         ]
        },
        {
         "count": 1,
         "first_name": "Masaya",
         "id": "ur.011312174004.93",
         "last_name": "Nishio",
         "research_orgs": [
          "grid.258806.1"
         ]
        },
        {
         "count": 1,
         "first_name": "Takahiro",
         "id": "ur.011312474073.50",
         "last_name": "Oniki",
         "research_orgs": [
          "grid.258806.1"
         ]
        },
        {
         "count": 1,
         "first_name": "Takatomi",
         "id": "ur.01131607230.00",
         "last_name": "Kubo",
         "research_orgs": [
          "grid.136593.b",
          "grid.260493.a"
         ]
        },
        {
         "count": 1,
         "first_name": "Issei",
         "id": "ur.011323230765.41",
         "last_name": "Uchitomi",
         "research_orgs": [
          "grid.258806.1"
         ]
        },
        {
         "count": 1,
         "first_name": "Susumu",
         "id": "ur.01132373473.26",
         "last_name": "Goto",
         "orcid_id": [
          "0000-0003-2989-8486"
         ],
         "research_orgs": [
          "grid.260975.f",
          "grid.58140.38",
          "grid.418987.b",
          "grid.258799.8",
          "grid.27476.30"
         ]
        },
        {
         "count": 1,
         "first_name": "Sakmongkon",
         "id": "ur.011337642215.67",
         "last_name": "Chumkamon",
         "research_orgs": [
          "grid.443738.f",
          "grid.258806.1",
          "grid.411851.8"
         ]
        },
        {
         "count": 1,
         "first_name": "Makoto",
         "id": "ur.011340010425.83",
         "last_name": "Hibino",
         "research_orgs": [
          "grid.258806.1"
         ]
        },
        {
         "count": 1,
         "first_name": "Ryo",
         "id": "ur.011345611166.17",
         "last_name": "Araki",
         "research_orgs": [
          "grid.258806.1"
         ]
        },
        {
         "count": 1,
         "first_name": "Chikara",
         "id": "ur.01134641767.02",
         "last_name": "Ohtsuki",
         "orcid_id": [
          "0000-0002-6474-1540"
         ],
         "research_orgs": [
          "grid.258806.1",
          "grid.260493.a",
          "grid.419025.b",
          "grid.27476.30",
          "grid.261356.5",
          "grid.19006.3e",
          "grid.258799.8"
         ]
        },
        {
         "count": 1,
         "first_name": "K",
         "id": "ur.011347700275.36",
         "last_name": "Sato"
        },
        {
         "count": 1,
         "first_name": "Kohei",
         "id": "ur.011351313277.50",
         "last_name": "Matsuda",
         "research_orgs": [
          "grid.258806.1"
         ]
        },
        {
         "count": 1,
         "first_name": "Serge",
         "id": "ur.01135254307.27",
         "last_name": "Desgreniers",
         "orcid_id": [
          "0000-0001-7353-6867"
         ],
         "research_orgs": [
          "grid.28046.38",
          "grid.5386.8",
          "grid.430518.b",
          "grid.86715.3d"
         ]
        },
        {
         "count": 1,
         "first_name": "Yasuhiro",
         "id": "ur.011353200325.42",
         "last_name": "Miyawaki",
         "research_orgs": [
          "grid.258806.1"
         ]
        },
        {
         "count": 1,
         "first_name": "Hiromi Kayama",
         "id": "ur.01135406466.44",
         "last_name": "Watanabe",
         "orcid_id": [
          "0000-0001-5031-9018"
         ],
         "research_orgs": [
          "grid.26999.3d",
          "grid.410588.0"
         ]
        },
        {
         "count": 1,
         "first_name": "Yousuke",
         "id": "ur.011357756474.45",
         "last_name": "Miyake",
         "orcid_id": [
          "0000-0002-6742-5105"
         ],
         "research_orgs": [
          "grid.258806.1",
          "grid.419082.6"
         ]
        },
        {
         "count": 1,
         "first_name": "Hiromichi",
         "id": "ur.011360330200.50",
         "last_name": "Ohashi",
         "research_orgs": [
          "grid.258806.1",
          "grid.257114.4",
          "grid.208504.b",
          "grid.412681.8",
          "grid.410825.a",
          "grid.265074.2",
          "grid.32197.3e",
          "grid.69566.3a"
         ]
        },
        {
         "count": 1,
         "first_name": "Atsushi",
         "id": "ur.01136161667.76",
         "last_name": "Tsurumaki-Fukuchi",
         "orcid_id": [
          "0000-0003-2529-8897"
         ],
         "research_orgs": [
          "grid.39158.36",
          "grid.208504.b"
         ]
        },
        {
         "count": 1,
         "first_name": "Yuichi",
         "id": "ur.011365111135.72",
         "last_name": "Iino",
         "research_orgs": [
          "grid.26999.3d",
          "grid.418987.b",
          "grid.419082.6"
         ]
        },
        {
         "count": 1,
         "first_name": "Sayed M",
         "id": "ur.011401542325.47",
         "last_name": "Said",
         "orcid_id": [
          "0000-0002-3874-3171"
         ],
         "research_orgs": [
          "grid.417764.7",
          "grid.6759.d"
         ]
        },
        {
         "count": 1,
         "first_name": "Shigemitsu",
         "id": "ur.011403151446.93",
         "last_name": "Okabe",
         "research_orgs": [
          "grid.480438.3",
          "grid.26999.3d",
          "grid.255178.c"
         ]
        },
        {
         "count": 1,
         "first_name": "Rin-Ichiro",
         "id": "ur.011405151625.49",
         "last_name": "Taniguchi",
         "research_orgs": [
          "grid.411241.3",
          "grid.177174.3",
          "grid.444715.7"
         ]
        },
        {
         "count": 1,
         "first_name": "Takahiro",
         "id": "ur.01140522670.13",
         "last_name": "Yamaguchi",
         "research_orgs": [
          "grid.271052.3"
         ]
        },
        {
         "count": 1,
         "first_name": "Yoshichika",
         "id": "ur.011405307261.05",
         "last_name": "Otani",
         "research_orgs": [
          "grid.4444.0",
          "grid.26999.3d",
          "grid.474689.0",
          "grid.31432.37",
          "grid.474688.1",
          "grid.419082.6",
          "grid.26091.3c",
          "grid.7597.c",
          "grid.5685.e",
          "grid.69775.3a",
          "grid.7645.0",
          "grid.8217.c",
          "grid.452759.8",
          "grid.69566.3a"
         ]
        },
        {
         "count": 1,
         "first_name": "Nicola Ivan",
         "id": "ur.011407315665.16",
         "last_name": "Giannoccaro",
         "orcid_id": [
          "0000-0002-9392-8339"
         ],
         "research_orgs": [
          "grid.258806.1",
          "grid.9906.6",
          "grid.4466.0"
         ]
        },
        {
         "count": 1,
         "first_name": "Chao",
         "id": "ur.01140754015.39",
         "last_name": "Jiang",
         "research_orgs": [
          "grid.410726.6",
          "grid.9227.e",
          "grid.69775.3a",
          "grid.419265.d"
         ]
        },
        {
         "count": 1,
         "first_name": "Yuki",
         "id": "ur.011407616671.81",
         "last_name": "Higashi",
         "research_orgs": [
          "grid.258806.1"
         ]
        },
        {
         "count": 1,
         "first_name": "Kazuo",
         "id": "ur.011410364137.53",
         "last_name": "Tsutsui",
         "research_orgs": [
          "grid.480025.b",
          "grid.26999.3d",
          "grid.5290.e",
          "grid.32197.3e",
          "grid.419082.6"
         ]
        },
        {
         "count": 1,
         "first_name": "Yuhki",
         "id": "ur.01141151331.36",
         "last_name": "Yanase",
         "research_orgs": [
          "grid.83440.3b",
          "grid.257022.0"
         ]
        },
        {
         "count": 1,
         "first_name": "Munetoshi",
         "id": "ur.011416013475.55",
         "last_name": "Fukui",
         "research_orgs": [
          "grid.26999.3d"
         ]
        },
        {
         "count": 1,
         "first_name": "Geetha",
         "id": "ur.01142302430.11",
         "last_name": "Balakrishnan",
         "orcid_id": [
          "0000-0002-5890-1149"
         ],
         "research_orgs": [
          "grid.4886.2",
          "grid.22401.35",
          "grid.83440.3b",
          "grid.7372.1",
          "grid.5337.2",
          "grid.12082.39",
          "grid.14467.30",
          "grid.5491.9"
         ]
        },
        {
         "count": 1,
         "first_name": "Hiroki",
         "id": "ur.011423432461.11",
         "last_name": "Ooba",
         "research_orgs": [
          "grid.258806.1"
         ]
        },
        {
         "count": 1,
         "first_name": "Khurram",
         "id": "ur.01142414103.12",
         "last_name": "Bashir",
         "orcid_id": [
          "0000-0001-7123-8380"
         ],
         "research_orgs": [
          "grid.26999.3d",
          "grid.265892.2",
          "grid.419082.6",
          "grid.16753.36",
          "grid.40263.33",
          "grid.7597.c",
          "grid.11173.35"
         ]
        },
        {
         "count": 1,
         "first_name": "Mamdouh",
         "id": "ur.011425134437.80",
         "last_name": "Abdel-Akher",
         "orcid_id": [
          "0000-0003-2128-8181"
         ],
         "research_orgs": [
          "grid.417764.7",
          "grid.10347.31",
          "grid.252487.e",
          "grid.412707.7",
          "grid.412602.3"
         ]
        },
        {
         "count": 1,
         "first_name": "Chitra",
         "id": "ur.01143304532.51",
         "last_name": "Rajendran",
         "research_orgs": [
          "grid.5991.4",
          "grid.7727.5",
          "grid.419494.5"
         ]
        },
        {
         "count": 1,
         "first_name": "Yuki",
         "id": "ur.01143430276.24",
         "last_name": "Moriya",
         "orcid_id": [
          "0000-0001-8195-5893"
         ],
         "research_orgs": [
          "grid.260975.f",
          "grid.418987.b",
          "grid.258799.8"
         ]
        },
        {
         "count": 1,
         "first_name": "Yuya",
         "id": "ur.01144151602.33",
         "last_name": "Nishimura",
         "research_orgs": [
          "grid.31432.37"
         ]
        },
        {
         "count": 1,
         "first_name": "Jie",
         "id": "ur.011445575017.06",
         "last_name": "Jiang",
         "research_orgs": [
          "grid.11046.32"
         ]
        },
        {
         "count": 1,
         "first_name": "Ryo",
         "id": "ur.011450364306.02",
         "last_name": "Inoue",
         "research_orgs": [
          "grid.258806.1"
         ]
        },
        {
         "count": 1,
         "first_name": "Syun",
         "id": "ur.011452106735.48",
         "last_name": "Morishige",
         "research_orgs": [
          "grid.258806.1"
         ]
        },
        {
         "count": 1,
         "first_name": "Takayuki",
         "id": "ur.011455302627.32",
         "last_name": "Shimoda",
         "research_orgs": [
          "grid.62167.34"
         ]
        },
        {
         "count": 1,
         "first_name": "Seung-Jun",
         "id": "ur.01145724207.97",
         "last_name": "Seo",
         "research_orgs": [
          "grid.253755.3",
          "grid.49100.3c",
          "grid.258803.4"
         ]
        },
        {
         "count": 1,
         "first_name": "Takashi",
         "id": "ur.011465715727.62",
         "last_name": "Honda",
         "research_orgs": [
          "grid.258806.1",
          "grid.174567.6"
         ]
        },
        {
         "count": 1,
         "first_name": "Satoshi",
         "id": "ur.011476342601.54",
         "last_name": "Morita",
         "research_orgs": [
          "grid.258806.1"
         ]
        },
        {
         "count": 1,
         "first_name": "Fang-Yuan",
         "id": "ur.011501040753.85",
         "last_name": "Liu",
         "research_orgs": [
          "grid.260474.3"
         ]
        },
        {
         "count": 1,
         "first_name": "Zhi Tao",
         "id": "ur.01150250535.35",
         "last_name": "Xiao",
         "research_orgs": [
          "grid.33763.32",
          "grid.410561.7"
         ]
        },
        {
         "count": 1,
         "first_name": "Siti Anom",
         "id": "ur.01150427164.47",
         "last_name": "Ahmad",
         "orcid_id": [
          "0000-0003-1759-0118"
         ],
         "research_orgs": [
          "grid.11142.37",
          "grid.5491.9"
         ]
        },
        {
         "count": 1,
         "first_name": "Takeshi",
         "id": "ur.011507566255.90",
         "last_name": "Ishihara",
         "research_orgs": [
          "grid.177174.3",
          "grid.275033.0",
          "grid.418987.b",
          "grid.288127.6",
          "grid.419082.6"
         ]
        },
        {
         "count": 1,
         "first_name": "Jong-Ki",
         "id": "ur.01151565307.40",
         "last_name": "Kim",
         "research_orgs": [
          "grid.253755.3",
          "grid.412077.7"
         ]
        },
        {
         "count": 1,
         "first_name": "Yoshihiro",
         "id": "ur.011516554271.59",
         "last_name": "Okuno",
         "research_orgs": [
          "grid.258806.1",
          "grid.32197.3e",
          "grid.412339.e"
         ]
        },
        {
         "count": 1,
         "first_name": "Akihiro",
         "id": "ur.011522002313.66",
         "last_name": "Watanabe",
         "research_orgs": [
          "grid.267625.2"
         ]
        },
        {
         "count": 1,
         "first_name": "Fengjing",
         "id": "ur.011525736155.41",
         "last_name": "Liu",
         "research_orgs": [
          "grid.410726.6",
          "grid.410585.d",
          "grid.9227.e",
          "grid.419265.d"
         ]
        },
        {
         "count": 1,
         "first_name": "Isaac",
         "id": "ur.01153045205.14",
         "last_name": "Chairez",
         "orcid_id": [
          "0000-0002-7157-2052"
         ],
         "research_orgs": [
          "grid.418275.d"
         ]
        },
        {
         "count": 1,
         "first_name": "Manami",
         "id": "ur.01153223763.54",
         "last_name": "Kanamori",
         "research_orgs": [
          "grid.26999.3d"
         ]
        },
        {
         "count": 1,
         "first_name": "Nobuhiko",
         "id": "ur.011537616251.01",
         "last_name": "Nishio",
         "research_orgs": [
          "grid.262576.2"
         ]
        },
        {
         "count": 1,
         "first_name": "Munehiro",
         "id": "ur.011541270201.13",
         "last_name": "Matsuura",
         "research_orgs": [
          "grid.258806.1",
          "grid.412875.d",
          "grid.411764.1"
         ]
        },
        {
         "count": 1,
         "first_name": "Sharifah Soplah Syed",
         "id": "ur.011545475007.04",
         "last_name": "Abdullah",
         "orcid_id": [
          "0000-0002-4826-8351"
         ],
         "research_orgs": [
          "grid.258806.1",
          "grid.440439.e"
         ]
        },
        {
         "count": 1,
         "first_name": "Ken'Ichi",
         "id": "ur.011553034215.79",
         "last_name": "Kakizaki",
         "research_orgs": [
          "grid.258806.1"
         ]
        },
        {
         "count": 1,
         "first_name": "Takashi",
         "id": "ur.011564010473.70",
         "last_name": "Kurihara",
         "research_orgs": [
          "grid.417751.1"
         ]
        },
        {
         "count": 1,
         "first_name": "Yuta",
         "id": "ur.011566453257.48",
         "last_name": "Hanazawa",
         "research_orgs": [
          "grid.258806.1",
          "grid.32197.3e"
         ]
        },
        {
         "count": 1,
         "first_name": "Jun'Ichi",
         "id": "ur.01157723334.35",
         "last_name": "Sakai",
         "research_orgs": [
          "grid.5290.e"
         ]
        },
        {
         "count": 1,
         "first_name": "Akihiro",
         "id": "ur.011603116140.03",
         "last_name": "Imakiire",
         "research_orgs": [
          "grid.258806.1",
          "grid.258333.c"
         ]
        },
        {
         "count": 1,
         "first_name": "Hiroki",
         "id": "ur.011603203251.71",
         "last_name": "Murakami",
         "research_orgs": [
          "grid.454183.f",
          "grid.26999.3d"
         ]
        },
        {
         "count": 1,
         "first_name": "Lê Thị",
         "id": "ur.01161223503.83",
         "last_name": "Thom",
         "research_orgs": [
          "grid.267849.6"
         ]
        },
        {
         "count": 1,
         "first_name": "Abdeljalil",
         "id": "ur.01161720614.27",
         "last_name": "Assoud",
         "research_orgs": [
          "grid.6190.e",
          "grid.46078.3d"
         ]
        },
        {
         "count": 1,
         "first_name": "Weiguo",
         "id": "ur.011622632107.94",
         "last_name": "Liu",
         "research_orgs": [
          "grid.258806.1"
         ]
        },
        {
         "count": 1,
         "first_name": "Naoyuki",
         "id": "ur.01162300745.14",
         "last_name": "Sato",
         "research_orgs": [
          "grid.440872.d",
          "grid.474690.8",
          "grid.419082.6"
         ]
        },
        {
         "count": 1,
         "first_name": "Yusuke",
         "id": "ur.011625534325.81",
         "last_name": "Aoyama",
         "research_orgs": [
          "grid.258806.1"
         ]
        },
        {
         "count": 1,
         "first_name": "Masumi",
         "id": "ur.011632250206.75",
         "last_name": "Egawa",
         "research_orgs": [
          "grid.47716.33",
          "grid.471197.d"
         ]
        },
        {
         "count": 1,
         "first_name": "Ryo",
         "id": "ur.011632477265.83",
         "last_name": "Yoshida",
         "research_orgs": [
          "grid.26999.3d",
          "grid.143643.7",
          "grid.275033.0",
          "grid.410818.4",
          "grid.419082.6",
          "grid.418987.b",
          "grid.5290.e",
          "grid.21941.3f",
          "grid.20515.33"
         ]
        },
        {
         "count": 1,
         "first_name": "Xin",
         "id": "ur.011635406503.92",
         "last_name": "Chen",
         "research_orgs": [
          "grid.258806.1",
          "grid.5342.0"
         ]
        },
        {
         "count": 1,
         "first_name": "M",
         "id": "ur.011642556435.61",
         "last_name": "Lutfi",
         "research_orgs": [
          "grid.11142.37"
         ]
        },
        {
         "count": 1,
         "first_name": "Kentaro",
         "id": "ur.01164516750.44",
         "last_name": "Inoue",
         "orcid_id": [
          "0000-0002-7447-5856"
         ],
         "research_orgs": [
          "grid.258806.1",
          "grid.7597.c",
          "grid.410849.0"
         ]
        },
        {
         "count": 1,
         "first_name": "Takuya",
         "id": "ur.011647265315.83",
         "last_name": "Izuishi",
         "research_orgs": [
          "grid.266298.1"
         ]
        },
        {
         "count": 1,
         "first_name": "Mohammad Lutfi B",
         "id": "ur.011647654671.27",
         "last_name": "Othman",
         "orcid_id": [
          "0000-0003-0382-8666"
         ],
         "research_orgs": [
          "grid.11142.37",
          "grid.444869.3"
         ]
        },
        {
         "count": 1,
         "first_name": "Eiji",
         "id": "ur.011652465475.24",
         "last_name": "Higurashi",
         "orcid_id": [
          "0000-0002-7154-4203"
         ],
         "research_orgs": [
          "grid.419819.c",
          "grid.26999.3d",
          "grid.177174.3",
          "grid.208504.b",
          "grid.69566.3a"
         ]
        },
        {
         "count": 1,
         "first_name": "Shuyi",
         "id": "ur.011653015221.72",
         "last_name": "Huang",
         "research_orgs": [
          "grid.5290.e"
         ]
        },
        {
         "count": 1,
         "first_name": "Nobuhiro",
         "id": "ur.011653207051.07",
         "last_name": "Tsuji",
         "orcid_id": [
          "0000-0002-2132-1327"
         ],
         "research_orgs": [
          "grid.136593.b",
          "grid.258331.e",
          "grid.258799.8"
         ]
        },
        {
         "count": 1,
         "first_name": "Hiroshi",
         "id": "ur.011653572151.71",
         "last_name": "Iwai",
         "research_orgs": [
          "grid.26999.3d",
          "grid.168010.e",
          "grid.410825.a",
          "grid.420026.2",
          "grid.5290.e",
          "grid.462157.3",
          "grid.258799.8",
          "grid.260539.b",
          "grid.32197.3e",
          "grid.20515.33",
          "grid.13402.34"
         ]
        },
        {
         "count": 1,
         "first_name": "Tetsuya",
         "id": "ur.01165540243.23",
         "last_name": "Yuasa",
         "research_orgs": [
          "grid.26999.3d",
          "grid.268394.2"
         ]
        },
        {
         "count": 1,
         "first_name": "Panart",
         "id": "ur.011657654726.80",
         "last_name": "Khajornrungruan",
         "research_orgs": [
          "grid.258806.1"
         ]
        },
        {
         "count": 1,
         "first_name": "Masatoshi",
         "id": "ur.011661702211.79",
         "last_name": "Yamaguchi",
         "research_orgs": [
          "grid.258806.1"
         ]
        },
        {
         "count": 1,
         "first_name": "Takayuki",
         "id": "ur.011663472563.17",
         "last_name": "Sakurai",
         "research_orgs": [
          "grid.410825.a",
          "grid.498663.6"
         ]
        },
        {
         "count": 1,
         "first_name": "Eitaku",
         "id": "ur.011664343406.48",
         "last_name": "Nobuyama",
         "research_orgs": [
          "grid.258806.1",
          "grid.26999.3d",
          "grid.258799.8",
          "grid.459868.e"
         ]
        },
        {
         "count": 1,
         "first_name": "Rodolfo",
         "id": "ur.01167173414.14",
         "last_name": "García-Contreras",
         "research_orgs": [
          "grid.418752.d",
          "grid.9486.3",
          "grid.12380.38",
          "grid.264756.4",
          "grid.419172.8"
         ]
        },
        {
         "count": 1,
         "first_name": "Quentin",
         "id": "ur.011676747373.25",
         "last_name": "Plessis",
         "research_orgs": [
          "grid.450318.b"
         ]
        },
        {
         "count": 1,
         "first_name": "Ming",
         "id": "ur.01167755005.74",
         "last_name": "Yang",
         "research_orgs": [
          "grid.263826.b",
          "grid.452511.6",
          "grid.484369.4",
          "grid.452652.2",
          "grid.452290.8",
          "grid.449406.b",
          "grid.89957.3a"
         ]
        },
        {
         "count": 1,
         "first_name": "Nobuo",
         "id": "ur.011700772651.70",
         "last_name": "Kuwabara",
         "research_orgs": [
          "grid.258806.1",
          "grid.419819.c"
         ]
        },
        {
         "count": 1,
         "first_name": "Kazuma",
         "id": "ur.011703624401.47",
         "last_name": "Ogata",
         "research_orgs": [
          "grid.258806.1"
         ]
        },
        {
         "count": 1,
         "first_name": "Masayoshi",
         "id": "ur.011704003567.45",
         "last_name": "Nakamoto",
         "research_orgs": [
          "grid.258806.1"
         ]
        },
        {
         "count": 1,
         "first_name": "Steven C",
         "id": "ur.01171235324.35",
         "last_name": "Shannon",
         "orcid_id": [
          "0000-0001-8317-6949"
         ],
         "research_orgs": [
          "grid.214458.e",
          "grid.40803.3f"
         ]
        },
        {
         "count": 1,
         "first_name": "Satoshi",
         "id": "ur.011724474721.84",
         "last_name": "Iikubo",
         "orcid_id": [
          "0000-0002-5186-4058"
         ],
         "research_orgs": [
          "grid.258806.1",
          "grid.20256.33",
          "grid.27476.30",
          "grid.69566.3a"
         ]
        },
        {
         "count": 1,
         "first_name": "Yoshitaka",
         "id": "ur.011727172551.34",
         "last_name": "Nakajima",
         "research_orgs": [
          "grid.177174.3"
         ]
        },
        {
         "count": 1,
         "first_name": "Takamichi",
         "id": "ur.011730617340.95",
         "last_name": "Toda",
         "research_orgs": [
          "grid.258806.1"
         ]
        },
        {
         "count": 1,
         "first_name": "Lynn",
         "id": "ur.01173200330.84",
         "last_name": "Young",
         "research_orgs": [
          "grid.410422.1",
          "grid.484471.a",
          "grid.279885.9",
          "grid.419635.c",
          "grid.21107.35"
         ]
        },
        {
         "count": 1,
         "first_name": "Arindam Gajendra",
         "id": "ur.011742657512.04",
         "last_name": "Mahapatra",
         "research_orgs": [
          "grid.258806.1"
         ]
        },
        {
         "count": 1,
         "first_name": "Atsushi",
         "id": "ur.01174653036.46",
         "last_name": "Wakamiya",
         "orcid_id": [
          "0000-0003-1430-0947"
         ],
         "research_orgs": [
          "grid.5949.1",
          "grid.208226.c",
          "grid.27476.30",
          "grid.258799.8",
          "grid.419082.6"
         ]
        },
        {
         "count": 1,
         "first_name": "Alfonso",
         "id": "ur.011752566121.19",
         "last_name": "Capozzoli",
         "orcid_id": [
          "0000-0002-0083-4983"
         ],
         "research_orgs": [
          "grid.4691.a",
          "grid.4800.c"
         ]
        },
        {
         "count": 1,
         "first_name": "Izumi",
         "id": "ur.01175332252.67",
         "last_name": "Yoshioka",
         "research_orgs": [
          "grid.410849.0",
          "grid.411238.d"
         ]
        },
        {
         "count": 1,
         "first_name": "Kenichi",
         "id": "ur.011754577675.24",
         "last_name": "Watanabe",
         "research_orgs": [
          "grid.27476.30"
         ]
        },
        {
         "count": 1,
         "first_name": "Yuki",
         "id": "ur.011772665715.31",
         "last_name": "Imanishi",
         "research_orgs": [
          "grid.258806.1",
          "grid.258799.8"
         ]
        },
        {
         "count": 1,
         "first_name": "Tetsuo",
         "id": "ur.01200333056.11",
         "last_name": "Furukawa",
         "orcid_id": [
          "0000-0002-4469-7749"
         ],
         "research_orgs": [
          "grid.258806.1",
          "grid.7445.2"
         ]
        },
        {
         "count": 1,
         "first_name": "Xijiang",
         "id": "ur.012012166424.90",
         "last_name": "Lin",
         "research_orgs": [
          "grid.410337.2",
          "grid.43555.32",
          "grid.214572.7",
          "grid.19188.39",
          "grid.169077.e",
          "grid.421266.5"
         ]
        },
        {
         "count": 1,
         "first_name": "Hiroki",
         "id": "ur.012026707705.44",
         "last_name": "Adachi",
         "research_orgs": [
          "grid.266453.0",
          "grid.258799.8"
         ]
        },
        {
         "count": 1,
         "first_name": "Sheida",
         "id": "ur.012034146005.67",
         "last_name": "Shahnazar",
         "research_orgs": [
          "grid.10347.31",
          "grid.412573.6"
         ]
        },
        {
         "count": 1,
         "first_name": "Shougo",
         "id": "ur.012041355125.26",
         "last_name": "Kinugawa",
         "research_orgs": [
          "grid.258806.1",
          "grid.444515.5"
         ]
        },
        {
         "count": 1,
         "first_name": "Liang",
         "id": "ur.01204470143.43",
         "last_name": "Zhao",
         "research_orgs": [
          "grid.30055.33"
         ]
        },
        {
         "count": 1,
         "first_name": "Akira",
         "id": "ur.01204751301.20",
         "last_name": "Miura",
         "orcid_id": [
          "0000-0003-0388-9696"
         ],
         "research_orgs": [
          "grid.5386.8",
          "grid.39158.36",
          "grid.1957.a",
          "grid.257022.0",
          "grid.267500.6"
         ]
        },
        {
         "count": 1,
         "first_name": "Riccardo",
         "id": "ur.012050257607.16",
         "last_name": "Carlini",
         "orcid_id": [
          "0000-0001-5610-8967"
         ],
         "research_orgs": [
          "grid.182470.8",
          "grid.5606.5"
         ]
        },
        {
         "count": 1,
         "first_name": "Wei-Sheng",
         "id": "ur.012052271527.40",
         "last_name": "Ding",
         "research_orgs": [
          "grid.38348.34",
          "grid.19188.39"
         ]
        },
        {
         "count": 1,
         "first_name": "Satoshi",
         "id": "ur.01206300746.33",
         "last_name": "Kurashima",
         "research_orgs": [
          "grid.20256.33",
          "grid.482503.8"
         ]
        },
        {
         "count": 1,
         "first_name": "Wen-Juan",
         "id": "ur.012070777663.46",
         "last_name": "Jia",
         "research_orgs": [
          "grid.260474.3"
         ]
        },
        {
         "count": 1,
         "first_name": "Fumihito",
         "id": "ur.01207371051.01",
         "last_name": "Arai",
         "orcid_id": [
          "0000-0002-2508-1615"
         ],
         "research_orgs": [
          "grid.258269.2",
          "grid.257114.4",
          "grid.31432.37",
          "grid.143643.7",
          "grid.31501.36",
          "grid.419082.6",
          "grid.136593.b",
          "grid.27476.30",
          "grid.64939.31",
          "grid.256115.4",
          "grid.69566.3a"
         ]
        },
        {
         "count": 1,
         "first_name": "Susumu",
         "id": "ur.012074205271.33",
         "last_name": "Matsumae",
         "orcid_id": [
          "0000-0002-6024-343X"
         ],
         "research_orgs": [
          "grid.265107.7",
          "grid.412339.e",
          "grid.136593.b",
          "grid.443074.0"
         ]
        },
        {
         "count": 1,
         "first_name": "Yoshiyuki",
         "id": "ur.01207566671.94",
         "last_name": "Takatsuji",
         "research_orgs": [
          "grid.258806.1",
          "grid.419082.6"
         ]
        },
        {
         "count": 1,
         "first_name": "Junhu",
         "id": "ur.012077444234.77",
         "last_name": "Wang",
         "research_orgs": [
          "grid.20256.33",
          "grid.9227.e",
          "grid.411620.0",
          "grid.423905.9",
          "grid.265050.4",
          "grid.410752.5"
         ]
        },
        {
         "count": 1,
         "first_name": "Toshinori",
         "id": "ur.01210334214.07",
         "last_name": "Okinaga",
         "research_orgs": [
          "grid.411238.d",
          "grid.266902.9",
          "grid.412378.b"
         ]
        },
        {
         "count": 1,
         "first_name": "Akinori",
         "id": "ur.012104117443.24",
         "last_name": "Seo",
         "research_orgs": [
          "grid.258806.1"
         ]
        },
        {
         "count": 1,
         "first_name": "Makoto",
         "id": "ur.01210445176.44",
         "last_name": "Kobayashi",
         "research_orgs": [
          "grid.7597.c"
         ]
        },
        {
         "count": 1,
         "first_name": "Yuko",
         "id": "ur.01210445320.35",
         "last_name": "Shikamura",
         "research_orgs": [
          "grid.480342.9"
         ]
        },
        {
         "count": 1,
         "first_name": "Koji",
         "id": "ur.012105315271.28",
         "last_name": "Mori",
         "research_orgs": [
          "grid.258799.8",
          "grid.268397.1"
         ]
        },
        {
         "count": 1,
         "first_name": "Elsa",
         "id": "ur.01210706260.77",
         "last_name": "Lhotel",
         "research_orgs": [
          "grid.4444.0",
          "grid.450308.a",
          "grid.9621.c",
          "grid.450307.5"
         ]
        },
        {
         "count": 1,
         "first_name": "Masaya",
         "id": "ur.012115512015.47",
         "last_name": "Fujioka",
         "orcid_id": [
          "0000-0002-5829-6591"
         ],
         "research_orgs": [
          "grid.26091.3c",
          "grid.39158.36",
          "grid.21941.3f"
         ]
        },
        {
         "count": 1,
         "first_name": "Ryohei",
         "id": "ur.012117154714.10",
         "last_name": "Takase",
         "research_orgs": [
          "grid.258806.1"
         ]
        },
        {
         "count": 1,
         "first_name": "Hisanobu",
         "id": "ur.012120057521.07",
         "last_name": "Terai",
         "research_orgs": [
          "grid.471761.2",
          "grid.482504.f"
         ]
        },
        {
         "count": 1,
         "first_name": "Takahiro",
         "id": "ur.012123041340.12",
         "last_name": "Oomura"
        },
        {
         "count": 1,
         "first_name": "William John",
         "id": "ur.01212771510.37",
         "last_name": "Weber",
         "orcid_id": [
          "0000-0002-9017-7365"
         ],
         "research_orgs": [
          "grid.451303.0",
          "grid.436923.9",
          "grid.35403.31",
          "grid.266869.5",
          "grid.135519.a",
          "grid.424133.3",
          "grid.267305.5",
          "grid.148313.c",
          "grid.411461.7"
         ]
        },
        {
         "count": 1,
         "first_name": "Atomu",
         "id": "ur.012131210173.00",
         "last_name": "Tanaka",
         "research_orgs": [
          "grid.258806.1"
         ]
        },
        {
         "count": 1,
         "first_name": "Mahdi",
         "id": "ur.012134357017.14",
         "last_name": "Aiash",
         "orcid_id": [
          "0000-0002-3984-6244"
         ],
         "research_orgs": [
          "grid.15822.3c"
         ]
        },
        {
         "count": 1,
         "first_name": "Yoshifumi",
         "id": "ur.01213520644.00",
         "last_name": "Nakayama",
         "research_orgs": [
          "grid.271052.3",
          "grid.26999.3d",
          "grid.177174.3",
          "grid.412334.3"
         ]
        },
        {
         "count": 1,
         "first_name": "Mallikarjun",
         "id": "ur.012135443127.23",
         "last_name": "Yelameli",
         "research_orgs": [
          "grid.258806.1"
         ]
        },
        {
         "count": 1,
         "first_name": "Bin",
         "id": "ur.01213625075.77",
         "last_name": "Liu",
         "research_orgs": [
          "grid.452290.8",
          "grid.263826.b"
         ]
        },
        {
         "count": 1,
         "first_name": "Naoki",
         "id": "ur.01214037407.27",
         "last_name": "Sunaguchi",
         "research_orgs": [
          "grid.410794.f",
          "grid.268394.2",
          "grid.27476.30",
          "grid.256642.1"
         ]
        },
        {
         "count": 1,
         "first_name": "Tsuyoshi",
         "id": "ur.012141705331.30",
         "last_name": "Ohta",
         "research_orgs": [
          "grid.258806.1"
         ]
        },
        {
         "count": 1,
         "first_name": "Zulkarnain",
         "id": "ur.01215116435.12",
         "last_name": "Zainal",
         "orcid_id": [
          "0000-0003-2105-4967"
         ],
         "research_orgs": [
          "grid.11142.37"
         ]
        },
        {
         "count": 1,
         "first_name": "Masayuki",
         "id": "ur.012173541731.84",
         "last_name": "Nagao",
         "research_orgs": [
          "grid.412804.b",
          "grid.27476.30"
         ]
        },
        {
         "count": 1,
         "first_name": "Eiichi",
         "id": "ur.012174267167.39",
         "last_name": "Inohira",
         "research_orgs": [
          "grid.258806.1",
          "grid.69566.3a"
         ]
        },
        {
         "count": 1,
         "first_name": "Shota",
         "id": "ur.012202657427.10",
         "last_name": "Kuwahara",
         "research_orgs": [
          "grid.265050.4",
          "grid.136593.b",
          "grid.443595.a",
          "grid.27476.30"
         ]
        },
        {
         "count": 1,
         "first_name": "Manabu",
         "id": "ur.012207264063.51",
         "last_name": "Tanaka",
         "research_orgs": [
          "grid.177174.3",
          "grid.32197.3e"
         ]
        },
        {
         "count": 1,
         "first_name": "Junki",
         "id": "ur.012207356055.55",
         "last_name": "Mitsushio",
         "research_orgs": [
          "grid.69566.3a"
         ]
        },
        {
         "count": 1,
         "first_name": "Takumi",
         "id": "ur.012210537221.05",
         "last_name": "Sato",
         "research_orgs": [
          "grid.26999.3d"
         ]
        },
        {
         "count": 1,
         "first_name": "Naoki",
         "id": "ur.012213244571.85",
         "last_name": "Matsukida",
         "research_orgs": [
          "grid.258806.1"
         ]
        },
        {
         "count": 1,
         "first_name": "Ella Grishikashvili",
         "id": "ur.012214157275.57",
         "last_name": "Pereira",
         "research_orgs": [
          "grid.255434.1"
         ]
        },
        {
         "count": 1,
         "first_name": "Hikmah",
         "id": "ur.012215224013.26",
         "last_name": "Prasetia",
         "research_orgs": [
          "grid.434933.a"
         ]
        },
        {
         "count": 1,
         "first_name": "Yosuke",
         "id": "ur.012221606552.62",
         "last_name": "Hashimoto"
        },
        {
         "count": 1,
         "first_name": "Kenjiro",
         "id": "ur.012225714221.87",
         "last_name": "Tadakuma",
         "research_orgs": [
          "grid.136593.b",
          "grid.266298.1",
          "grid.268394.2",
          "grid.32197.3e",
          "grid.116068.8",
          "grid.69566.3a"
         ]
        },
        {
         "count": 1,
         "first_name": "Kentaro",
         "id": "ur.01222612041.16",
         "last_name": "Nakaminami",
         "research_orgs": [
          "grid.265074.2",
          "grid.268394.2",
          "grid.268154.c",
          "grid.411792.8",
          "grid.419106.b",
          "grid.7597.c"
         ]
        },
        {
         "count": 1,
         "first_name": "Seiji",
         "id": "ur.012227564041.57",
         "last_name": "Tateyama",
         "research_orgs": [
          "grid.444515.5",
          "grid.419082.6"
         ]
        },
        {
         "count": 1,
         "first_name": "Masahiro",
         "id": "ur.012227660135.14",
         "last_name": "Nishida",
         "research_orgs": [
          "grid.47716.33",
          "grid.32197.3e",
          "grid.419082.6"
         ]
        },
        {
         "count": 1,
         "first_name": "Hannelore",
         "id": "ur.01223403105.07",
         "last_name": "Müller",
         "research_orgs": [
          "grid.419494.5"
         ]
        },
        {
         "count": 1,
         "first_name": "Kenichiro",
         "id": "ur.012241766445.60",
         "last_name": "Mutoh"
        },
        {
         "count": 1,
         "first_name": "Yanwen",
         "id": "ur.012243037426.02",
         "last_name": "Zhang",
         "research_orgs": [
          "grid.451303.0",
          "grid.11135.37",
          "grid.474520.0",
          "grid.135519.a",
          "grid.69775.3a",
          "grid.9613.d",
          "grid.412982.4",
          "grid.214458.e",
          "grid.148313.c",
          "grid.411461.7"
         ]
        },
        {
         "count": 1,
         "first_name": "Takeo",
         "id": "ur.01225016747.99",
         "last_name": "Yoshimura",
         "research_orgs": [
          "grid.258806.1",
          "grid.32197.3e",
          "grid.143643.7"
         ]
        },
        {
         "count": 1,
         "first_name": "Yi",
         "id": "ur.01225046711.32",
         "last_name": "Du",
         "research_orgs": [
          "grid.30055.33"
         ]
        },
        {
         "count": 1,
         "first_name": "Daiki",
         "id": "ur.01225076241.52",
         "last_name": "Tatsubo",
         "research_orgs": [
          "grid.177174.3"
         ]
        },
        {
         "count": 1,
         "first_name": "Ming",
         "id": "ur.012255536321.68",
         "last_name": "Gao",
         "research_orgs": [
          "grid.177174.3",
          "grid.69775.3a"
         ]
        },
        {
         "count": 1,
         "first_name": "Michihiro",
         "id": "ur.01225715734.20",
         "last_name": "Hide",
         "orcid_id": [
          "0000-0002-1569-6034"
         ],
         "research_orgs": [
          "grid.26999.3d",
          "grid.416874.8",
          "grid.13097.3c",
          "grid.418158.1",
          "grid.415804.c",
          "grid.257022.0",
          "grid.425213.3",
          "grid.265061.6"
         ]
        },
        {
         "count": 1,
         "first_name": "Hung Nguyen",
         "id": "ur.012260710447.44",
         "last_name": "Xuan",
         "research_orgs": [
          "grid.444828.6",
          "grid.440802.a"
         ]
        },
        {
         "count": 1,
         "first_name": "Nobuhiko",
         "id": "ur.012262134637.49",
         "last_name": "Yasuda",
         "research_orgs": [
          "grid.258806.1"
         ]
        },
        {
         "count": 1,
         "first_name": "Toshikazu T",
         "id": "ur.012262317517.22",
         "last_name": "Hashimoto",
         "research_orgs": [
          "grid.419819.c",
          "grid.39158.36"
         ]
        },
        {
         "count": 1,
         "first_name": "Hiroshi",
         "id": "ur.01226641336.59",
         "last_name": "Asahara",
         "research_orgs": [
          "grid.416629.e",
          "grid.214007.0",
          "grid.63906.3a",
          "grid.419082.6",
          "grid.480536.c",
          "grid.38142.3c",
          "grid.62167.34",
          "grid.261356.5",
          "grid.250671.7",
          "grid.412764.2",
          "grid.265073.5"
         ]
        },
        {
         "count": 1,
         "first_name": "Shin-Ichi",
         "id": "ur.012267722507.19",
         "last_name": "Tsuda",
         "research_orgs": [
          "grid.263518.b",
          "grid.26999.3d",
          "grid.177174.3",
          "grid.62167.34",
          "grid.69566.3a"
         ]
        },
        {
         "count": 1,
         "first_name": "Koichi",
         "id": "ur.01227207373.42",
         "last_name": "Kuwano",
         "research_orgs": [
          "grid.410781.b"
         ]
        },
        {
         "count": 1,
         "first_name": "Hitomi",
         "id": "ur.012273350322.34",
         "last_name": "Edakubo",
         "research_orgs": [
          "grid.136594.c"
         ]
        },
        {
         "count": 1,
         "first_name": "Waldir A",
         "id": "ur.012274163441.63",
         "last_name": "Moreira",
         "orcid_id": [
          "0000-0002-4310-2379"
         ],
         "research_orgs": [
          "grid.411195.9",
          "grid.422955.d",
          "grid.271300.7",
          "grid.12711.34",
          "grid.164242.7",
          "grid.20384.3d"
         ]
        },
        {
         "count": 1,
         "first_name": "Ruben R",
         "id": "ur.012275315245.74",
         "last_name": "Lieten",
         "research_orgs": [
          "grid.15762.37",
          "grid.8767.e",
          "grid.5596.f",
          "grid.184769.5"
         ]
        },
        {
         "count": 1,
         "first_name": "Mitsuo",
         "id": "ur.01230705277.42",
         "last_name": "Kawato",
         "orcid_id": [
          "0000-0001-8185-1197"
         ],
         "research_orgs": [
          "grid.61971.38",
          "grid.39158.36",
          "grid.260493.a",
          "grid.42505.36",
          "grid.28312.3a",
          "grid.419082.6",
          "grid.83440.3b",
          "grid.136593.b",
          "grid.471628.e",
          "grid.412803.c",
          "grid.418163.9",
          "grid.11201.33",
          "grid.40263.33"
         ]
        },
        {
         "count": 1,
         "first_name": "Natthaphon",
         "id": "ur.012307341543.37",
         "last_name": "Bun-Athuek",
         "research_orgs": [
          "grid.258806.1",
          "grid.443738.f"
         ]
        },
        {
         "count": 1,
         "first_name": "Thomas K",
         "id": "ur.01231202460.12",
         "last_name": "Wood",
         "orcid_id": [
          "0000-0002-6258-529X"
         ],
         "research_orgs": [
          "grid.418752.d",
          "grid.266097.c",
          "grid.264756.4",
          "grid.261709.b",
          "grid.47894.36",
          "grid.29857.31",
          "grid.266093.8",
          "grid.63054.34",
          "grid.40803.3f"
         ]
        },
        {
         "count": 1,
         "first_name": "Tianjun",
         "id": "ur.012323316555.83",
         "last_name": "Liu",
         "research_orgs": [
          "grid.410726.6",
          "grid.9227.e",
          "grid.419265.d"
         ]
        },
        {
         "count": 1,
         "first_name": "Yann",
         "id": "ur.012326305633.59",
         "last_name": "Bocchi",
         "research_orgs": [
          "grid.483301.d",
          "grid.5681.a"
         ]
        },
        {
         "count": 1,
         "first_name": "Daniel",
         "id": "ur.012327705543.81",
         "last_name": "Tille",
         "research_orgs": [
          "grid.410337.2",
          "grid.7704.4"
         ]
        },
        {
         "count": 1,
         "first_name": "Jianmin",
         "id": "ur.012333106613.23",
         "last_name": "Yang",
         "research_orgs": [
          "grid.16821.3c"
         ]
        },
        {
         "count": 1,
         "first_name": "Anna Izabel João Tostes",
         "id": "ur.012335663773.01",
         "last_name": "Ribeiro",
         "research_orgs": [
          "grid.8430.f"
         ]
        },
        {
         "count": 1,
         "first_name": "Daisuke",
         "id": "ur.012344517155.13",
         "last_name": "Hasegawa",
         "research_orgs": [
          "grid.410851.9"
         ]
        },
        {
         "count": 1,
         "first_name": "Noor Ida Amalina Ahamad",
         "id": "ur.012344774217.80",
         "last_name": "Nordin",
         "research_orgs": [
          "grid.11142.37",
          "grid.440438.f"
         ]
        },
        {
         "count": 1,
         "first_name": "Srisupang",
         "id": "ur.012350566342.58",
         "last_name": "Thewsuwan",
         "research_orgs": [
          "grid.258806.1",
          "grid.412739.a"
         ]
        },
        {
         "count": 1,
         "first_name": "Yusei",
         "id": "ur.012352034170.29",
         "last_name": "Ishii",
         "research_orgs": [
          "grid.258806.1"
         ]
        },
        {
         "count": 1,
         "first_name": "Toshihiro",
         "id": "ur.012353334671.16",
         "last_name": "Maki",
         "research_orgs": [
          "grid.26999.3d"
         ]
        },
        {
         "count": 1,
         "first_name": "Umar",
         "id": "ur.01236661433.82",
         "last_name": "Qasim",
         "research_orgs": [
          "grid.260896.3",
          "grid.418920.6",
          "grid.17089.37"
         ]
        },
        {
         "count": 1,
         "first_name": "Noriko",
         "id": "ur.01237046773.11",
         "last_name": "Watanabe",
         "research_orgs": [
          "grid.258806.1"
         ]
        },
        {
         "count": 1,
         "first_name": "Yota",
         "id": "ur.012371031721.26",
         "last_name": "Shirahama",
         "research_orgs": [
          "grid.258806.1"
         ]
        },
        {
         "count": 1,
         "first_name": "Noriko",
         "id": "ur.01237543047.37",
         "last_name": "Handa",
         "research_orgs": [
          "grid.7597.c",
          "grid.26999.3d"
         ]
        },
        {
         "count": 1,
         "first_name": "Yu",
         "id": "ur.01240042603.45",
         "last_name": "Toyoshima",
         "orcid_id": [
          "0000-0001-5239-2235"
         ],
         "research_orgs": [
          "grid.26999.3d",
          "grid.418987.b"
         ]
        },
        {
         "count": 1,
         "first_name": "Congcong",
         "id": "ur.012401456430.92",
         "last_name": "Jin",
         "research_orgs": [
          "grid.43169.39"
         ]
        },
        {
         "count": 1,
         "first_name": "Daniel",
         "id": "ur.01240147644.95",
         "last_name": "Roggen",
         "research_orgs": [
          "grid.1006.7",
          "grid.5801.c",
          "grid.5333.6",
          "grid.12082.39"
         ]
        },
        {
         "count": 1,
         "first_name": "Taishi",
         "id": "ur.012402761461.64",
         "last_name": "Ohtani",
         "research_orgs": [
          "grid.411497.e",
          "grid.411238.d",
          "grid.258806.1"
         ]
        },
        {
         "count": 1,
         "first_name": "M D",
         "id": "ur.01240406545.97",
         "last_name": "Akhtaruzzaman",
         "research_orgs": [
          "grid.10347.31",
          "grid.32197.3e",
          "grid.412113.4",
          "grid.275033.0",
          "grid.69566.3a"
         ]
        },
        {
         "count": 1,
         "first_name": "Yin",
         "id": "ur.012406012755.25",
         "last_name": "Zhang",
         "orcid_id": [
          "0000-0002-8103-8937"
         ],
         "research_orgs": [
          "grid.33199.31",
          "grid.41156.37",
          "grid.443621.6"
         ]
        },
        {
         "count": 1,
         "first_name": "Yasutake",
         "id": "ur.012413405374.65",
         "last_name": "Koishi",
         "research_orgs": [
          "grid.258806.1"
         ]
        },
        {
         "count": 1,
         "first_name": "Yukiko",
         "id": "ur.01242460555.49",
         "last_name": "Yoshiura",
         "research_orgs": [
          "grid.271052.3"
         ]
        },
        {
         "count": 1,
         "first_name": "Norifumi",
         "id": "ur.012425000375.05",
         "last_name": "Egami",
         "research_orgs": [
          "grid.258806.1",
          "grid.418163.9",
          "grid.472641.2",
          "grid.258622.9"
         ]
        },
        {
         "count": 1,
         "first_name": "Jose",
         "id": "ur.01242731434.17",
         "last_name": "Ordonez-Miranda",
         "research_orgs": [
          "grid.494567.d",
          "grid.4444.0",
          "grid.266190.a",
          "grid.434217.7",
          "grid.462224.4",
          "grid.11166.31",
          "grid.462542.3",
          "grid.14001.34",
          "grid.418275.d"
         ]
        },
        {
         "count": 1,
         "first_name": "Yasuhiko",
         "id": "ur.012443667120.34",
         "last_name": "Taniguchi",
         "research_orgs": [
          "grid.26999.3d",
          "grid.412773.4"
         ]
        },
        {
         "count": 1,
         "first_name": "Norkhairunnisa",
         "id": "ur.012444502701.83",
         "last_name": "Mazlan",
         "orcid_id": [
          "0000-0003-0144-8360"
         ],
         "research_orgs": [
          "grid.11142.37"
         ]
        },
        {
         "count": 1,
         "first_name": "Bin",
         "id": "ur.012446162057.13",
         "last_name": "Xu",
         "research_orgs": [
          "grid.258806.1",
          "grid.268415.c"
         ]
        },
        {
         "count": 1,
         "first_name": "Chie",
         "id": "ur.012447122165.90",
         "last_name": "Honsho",
         "orcid_id": [
          "0000-0003-2531-8886"
         ],
         "research_orgs": [
          "grid.26999.3d",
          "grid.69566.3a"
         ]
        },
        {
         "count": 1,
         "first_name": "Tomoki",
         "id": "ur.012447540723.51",
         "last_name": "Uchimura",
         "research_orgs": [
          "grid.258806.1"
         ]
        },
        {
         "count": 1,
         "first_name": "Xizhou",
         "id": "ur.012450375621.10",
         "last_name": "Zhuang",
         "research_orgs": [
          "grid.5290.e"
         ]
        },
        {
         "count": 1,
         "first_name": "Wataru",
         "id": "ur.012455235326.95",
         "last_name": "Murakawa",
         "research_orgs": [
          "grid.258806.1"
         ]
        },
        {
         "count": 1,
         "first_name": "Genyo",
         "id": "ur.012472722673.15",
         "last_name": "Ueta",
         "research_orgs": [
          "grid.480438.3",
          "grid.255178.c"
         ]
        },
        {
         "count": 1,
         "first_name": "Hiroyuki",
         "id": "ur.01247354473.64",
         "last_name": "Izumi",
         "research_orgs": [
          "grid.271052.3"
         ]
        },
        {
         "count": 1,
         "first_name": "Hiroshi",
         "id": "ur.012476523622.97",
         "last_name": "Kawano",
         "research_orgs": [
          "grid.258806.1"
         ]
        },
        {
         "count": 1,
         "first_name": "Masafumi",
         "id": "ur.012504115145.09",
         "last_name": "Mori",
         "research_orgs": [
          "grid.258806.1"
         ]
        },
        {
         "count": 1,
         "first_name": "Kiyohisa",
         "id": "ur.012514220745.56",
         "last_name": "Natsume",
         "research_orgs": [
          "grid.258806.1",
          "grid.26999.3d",
          "grid.22072.35"
         ]
        },
        {
         "count": 1,
         "first_name": "Takashi",
         "id": "ur.012515466035.12",
         "last_name": "Aso",
         "research_orgs": [
          "grid.258806.1",
          "grid.443470.0"
         ]
        },
        {
         "count": 1,
         "first_name": "Katsuhiko",
         "id": "ur.012524027423.95",
         "last_name": "Wakasugi"
        },
        {
         "count": 1,
         "first_name": "Mitsuki",
         "id": "ur.012534452041.48",
         "last_name": "Shigeta",
         "research_orgs": [
          "grid.257022.0"
         ]
        },
        {
         "count": 1,
         "first_name": "Ryoma",
         "id": "ur.012536122507.29",
         "last_name": "Yamamoto",
         "research_orgs": [
          "grid.258806.1"
         ]
        },
        {
         "count": 1,
         "first_name": "Reon",
         "id": "ur.012541703046.70",
         "last_name": "Katsumura",
         "research_orgs": [
          "grid.39158.36"
         ]
        },
        {
         "count": 1,
         "first_name": "Raiendar",
         "id": "ur.012543446767.66",
         "last_name": "Bah",
         "research_orgs": [
          "grid.417967.a"
         ]
        },
        {
         "count": 1,
         "first_name": "Lingxiang",
         "id": "ur.012550126143.23",
         "last_name": "Fu",
         "research_orgs": [
          "grid.258806.1"
         ]
        },
        {
         "count": 1,
         "first_name": "Nahrizul Adib",
         "id": "ur.01255566154.46",
         "last_name": "Kadri",
         "orcid_id": [
          "0000-0001-9694-4337"
         ],
         "research_orgs": [
          "grid.10347.31",
          "grid.5475.3"
         ]
        },
        {
         "count": 1,
         "first_name": "Hayato",
         "id": "ur.012564241727.46",
         "last_name": "Tanabe",
         "research_orgs": [
          "grid.258806.1"
         ]
        },
        {
         "count": 1,
         "first_name": "Aaron",
         "id": "ur.01257042115.11",
         "last_name": "Mailman",
         "research_orgs": [
          "grid.46078.3d",
          "grid.9681.6"
         ]
        },
        {
         "count": 1,
         "first_name": "Daniel",
         "id": "ur.012576401763.54",
         "last_name": "Negru",
         "research_orgs": [
          "grid.12832.3a",
          "grid.4551.5",
          "grid.412041.2"
         ]
        },
        {
         "count": 1,
         "first_name": "Tokihiro",
         "id": "ur.012577337030.35",
         "last_name": "Umemura",
         "research_orgs": [
          "grid.410825.a",
          "grid.260026.0"
         ]
        },
        {
         "count": 1,
         "first_name": "Shingo",
         "id": "ur.012607746341.55",
         "last_name": "Aramaki",
         "orcid_id": [
          "0000-0003-4878-7095"
         ],
         "research_orgs": [
          "grid.444302.5",
          "grid.268397.1"
         ]
        },
        {
         "count": 1,
         "first_name": "Yoshitaka",
         "id": "ur.01261100526.06",
         "last_name": "Ohtubo",
         "research_orgs": [
          "grid.258806.1",
          "grid.255381.8"
         ]
        },
        {
         "count": 1,
         "first_name": "Takuro",
         "id": "ur.012615003115.35",
         "last_name": "Horiuchi",
         "research_orgs": [
          "grid.258806.1"
         ]
        },
        {
         "count": 1,
         "first_name": "Takuo",
         "id": "ur.012615466255.75",
         "last_name": "Umetani"
        },
        {
         "count": 1,
         "first_name": "Miyuki",
         "id": "ur.01262106403.31",
         "last_name": "Suzuki",
         "orcid_id": [
          "0000-0002-7284-7505"
         ],
         "research_orgs": [
          "grid.257022.0"
         ]
        },
        {
         "count": 1,
         "first_name": "Ko",
         "id": "ur.012624021122.89",
         "last_name": "Ichinose",
         "research_orgs": [
          "grid.258806.1"
         ]
        },
        {
         "count": 1,
         "first_name": "Hirotsugu",
         "id": "ur.012625012575.40",
         "last_name": "Okuno",
         "research_orgs": [
          "grid.136593.b"
         ]
        },
        {
         "count": 1,
         "first_name": "Ying",
         "id": "ur.012631041631.00",
         "last_name": "Jiang",
         "research_orgs": [
          "grid.30055.33",
          "grid.267335.6",
          "grid.462078.f"
         ]
        },
        {
         "count": 1,
         "first_name": "Dong",
         "id": "ur.012631173725.30",
         "last_name": "Xiang",
         "research_orgs": [
          "grid.190737.b",
          "grid.410319.e",
          "grid.35403.31",
          "grid.12527.33"
         ]
        },
        {
         "count": 1,
         "first_name": "Atsushi",
         "id": "ur.01263414503.06",
         "last_name": "Kimura",
         "research_orgs": [
          "grid.20256.33",
          "grid.482503.8",
          "grid.256642.1"
         ]
        },
        {
         "count": 1,
         "first_name": "Akihiro",
         "id": "ur.012640053622.45",
         "last_name": "Suzuki",
         "orcid_id": [
          "0000-0002-4164-5193"
         ],
         "research_orgs": [
          "grid.258806.1"
         ]
        },
        {
         "count": 1,
         "first_name": "Akihiko",
         "id": "ur.012642771251.06",
         "last_name": "Kashiwagi",
         "research_orgs": [
          "grid.257022.0",
          "grid.471989.a"
         ]
        },
        {
         "count": 1,
         "first_name": "Karl",
         "id": "ur.01265370654.55",
         "last_name": "Joulain",
         "orcid_id": [
          "0000-0001-6968-8390"
         ],
         "research_orgs": [
          "grid.4444.0",
          "grid.434217.7",
          "grid.253294.b",
          "grid.462224.4",
          "grid.11166.31",
          "grid.14001.34"
         ]
        },
        {
         "count": 1,
         "first_name": "Sayuri",
         "id": "ur.01265676446.89",
         "last_name": "Kuge",
         "research_orgs": [
          "grid.177174.3",
          "grid.418987.b"
         ]
        },
        {
         "count": 1,
         "first_name": "Zhongyu",
         "id": "ur.012660254562.32",
         "last_name": "Li",
         "research_orgs": [
          "grid.266859.6",
          "grid.43169.39"
         ]
        },
        {
         "count": 1,
         "first_name": "Akitoshi",
         "id": "ur.012663116532.51",
         "last_name": "Mutsuro",
         "research_orgs": [
          "grid.258806.1"
         ]
        },
        {
         "count": 1,
         "first_name": "Takashi",
         "id": "ur.012671355111.38",
         "last_name": "Ito",
         "orcid_id": [
          "0000-0001-6097-2803"
         ],
         "research_orgs": [
          "grid.26999.3d",
          "grid.263023.6",
          "grid.266100.3",
          "grid.47840.3f",
          "grid.419082.6",
          "grid.480536.c",
          "grid.184769.5",
          "grid.174567.6",
          "grid.268446.a",
          "grid.177174.3",
          "grid.42327.30",
          "grid.266102.1",
          "grid.9707.9",
          "grid.418889.4"
         ]
        },
        {
         "count": 1,
         "first_name": "Noriyuki",
         "id": "ur.012677467501.98",
         "last_name": "Uchida",
         "orcid_id": [
          "0000-0001-6356-2041"
         ],
         "research_orgs": [
          "grid.26999.3d",
          "grid.208504.b",
          "grid.443595.a",
          "grid.20515.33"
         ]
        },
        {
         "count": 1,
         "first_name": "J",
         "id": "ur.012700222557.46",
         "last_name": "Furuya",
         "research_orgs": [
          "grid.258806.1"
         ]
        },
        {
         "count": 1,
         "first_name": "Takayuki",
         "id": "ur.012702534435.49",
         "last_name": "Kojima",
         "research_orgs": [
          "grid.450279.d",
          "grid.177174.3",
          "grid.62167.34"
         ]
        },
        {
         "count": 1,
         "first_name": "Binghe",
         "id": "ur.012705135004.49",
         "last_name": "Li",
         "research_orgs": [
          "grid.258806.1"
         ]
        },
        {
         "count": 1,
         "first_name": "Kohei",
         "id": "ur.01270621320.85",
         "last_name": "Kume",
         "research_orgs": [
          "grid.411790.a",
          "grid.26999.3d"
         ]
        },
        {
         "count": 1,
         "first_name": "Kyohei",
         "id": "ur.012715157006.81",
         "last_name": "Ogawa",
         "research_orgs": [
          "grid.258806.1"
         ]
        },
        {
         "count": 1,
         "first_name": "Yasuyuki",
         "id": "ur.012725030141.19",
         "last_name": "Morita",
         "research_orgs": [
          "grid.412804.b",
          "grid.177174.3",
          "grid.27476.30",
          "grid.258806.1"
         ]
        },
        {
         "count": 1,
         "first_name": "Mohammad",
         "id": "ur.01272603041.68",
         "last_name": "Tariq",
         "research_orgs": [
          "grid.7597.c",
          "grid.263023.6"
         ]
        },
        {
         "count": 1,
         "first_name": "Wenyu",
         "id": "ur.012733715167.35",
         "last_name": "Zhang",
         "research_orgs": [
          "grid.69775.3a",
          "grid.418278.0"
         ]
        },
        {
         "count": 1,
         "first_name": "Wiennat",
         "id": "ur.012742001607.08",
         "last_name": "Mongkulmann",
         "research_orgs": [
          "grid.26999.3d"
         ]
        },
        {
         "count": 1,
         "first_name": "Tsuyoshi",
         "id": "ur.012742401201.47",
         "last_name": "Haraguchi",
         "research_orgs": [
          "grid.261445.0",
          "grid.26999.3d"
         ]
        },
        {
         "count": 1,
         "first_name": "Shufeng",
         "id": "ur.01274574426.61",
         "last_name": "Wang",
         "orcid_id": [
          "0000-0003-3536-8000"
         ],
         "research_orgs": [
          "grid.258806.1",
          "grid.163032.5",
          "grid.9435.b",
          "grid.11135.37"
         ]
        },
        {
         "count": 1,
         "first_name": "Tatsuro",
         "id": "ur.012746316125.98",
         "last_name": "Maeda",
         "orcid_id": [
          "0000-0001-9092-6226"
         ],
         "research_orgs": [
          "grid.143643.7",
          "grid.32197.3e",
          "grid.208504.b",
          "grid.426007.7"
         ]
        },
        {
         "count": 1,
         "first_name": "Takayuki",
         "id": "ur.01274703650.56",
         "last_name": "Tsukegi",
         "research_orgs": [
          "grid.258806.1",
          "grid.258622.9",
          "grid.412804.b",
          "grid.444537.5"
         ]
        },
        {
         "count": 1,
         "first_name": "Satoshi",
         "id": "ur.012752101203.59",
         "last_name": "Horie",
         "research_orgs": [
          "grid.31432.37",
          "grid.258799.8"
         ]
        },
        {
         "count": 1,
         "first_name": "Ming Yu",
         "id": "ur.012757175253.77",
         "last_name": "Jo",
         "research_orgs": [
          "grid.39158.36"
         ]
        },
        {
         "count": 1,
         "first_name": "Takao",
         "id": "ur.01276775426.37",
         "last_name": "Yamori",
         "research_orgs": [
          "grid.26999.3d",
          "grid.474688.1",
          "grid.410807.a",
          "grid.240145.6",
          "grid.486756.e",
          "grid.410785.f",
          "grid.412664.3",
          "grid.136593.b",
          "grid.490702.8",
          "grid.136304.3",
          "grid.418765.9",
          "grid.412755.0",
          "grid.412013.5",
          "grid.69566.3a"
         ]
        },
        {
         "count": 1,
         "first_name": "Nguyen Viet",
         "id": "ur.012771202133.20",
         "last_name": "Ha",
         "research_orgs": [
          "grid.258806.1"
         ]
        },
        {
         "count": 1,
         "first_name": "Kenta",
         "id": "ur.01277626005.85",
         "last_name": "Morita",
         "research_orgs": [
          "grid.31432.37"
         ]
        },
        {
         "count": 1,
         "first_name": "Takashi",
         "id": "ur.012776633667.28",
         "last_name": "Bando",
         "research_orgs": [
          "grid.260493.a",
          "grid.481616.c",
          "grid.419025.b",
          "grid.471197.d"
         ]
        },
        {
         "count": 1,
         "first_name": "Takahiro",
         "id": "ur.013001313503.51",
         "last_name": "Kondo",
         "research_orgs": [
          "grid.258806.1"
         ]
        },
        {
         "count": 1,
         "first_name": "Mohammad Hossein",
         "id": "ur.013001506641.80",
         "last_name": "Anisi",
         "orcid_id": [
          "0000-0001-8414-2708"
         ],
         "research_orgs": [
          "grid.8356.8",
          "grid.10347.31",
          "grid.8273.e",
          "grid.410877.d"
         ]
        },
        {
         "count": 1,
         "first_name": "Ziying",
         "id": "ur.01300705103.45",
         "last_name": "Liu",
         "research_orgs": [
          "grid.267313.2"
         ]
        },
        {
         "count": 1,
         "first_name": "S",
         "id": "ur.013010754475.02",
         "last_name": "Suzuki",
         "research_orgs": [
          "grid.26999.3d"
         ]
        },
        {
         "count": 1,
         "first_name": "Hiroyuki",
         "id": "ur.01301233002.85",
         "last_name": "Kagechika",
         "orcid_id": [
          "0000-0002-6747-1013"
         ],
         "research_orgs": [
          "grid.411697.c",
          "grid.26999.3d",
          "grid.258269.2",
          "grid.442887.5",
          "grid.268441.d",
          "grid.452709.d",
          "grid.265073.5",
          "grid.412579.c",
          "grid.69566.3a"
         ]
        },
        {
         "count": 1,
         "first_name": "Surbhi",
         "id": "ur.013020061241.24",
         "last_name": "Gupta",
         "research_orgs": [
          "grid.258806.1",
          "grid.260126.1",
          "grid.267033.3",
          "grid.8195.5",
          "grid.59025.3b"
         ]
        },
        {
         "count": 1,
         "first_name": "Koichi",
         "id": "ur.013020365701.98",
         "last_name": "Takamiya",
         "research_orgs": [
          "grid.440908.1",
          "grid.136593.b",
          "grid.20256.33",
          "grid.258799.8"
         ]
        },
        {
         "count": 1,
         "first_name": "Masakazu",
         "id": "ur.013022432235.18",
         "last_name": "Nanba",
         "research_orgs": [
          "grid.472641.2"
         ]
        },
        {
         "count": 1,
         "first_name": "Seiji",
         "id": "ur.013022736543.66",
         "last_name": "Umatani",
         "research_orgs": [
          "grid.258799.8"
         ]
        },
        {
         "count": 1,
         "first_name": "Masaki",
         "id": "ur.013025030157.92",
         "last_name": "Morita",
         "research_orgs": [
          "grid.258806.1"
         ]
        },
        {
         "count": 1,
         "first_name": "Toru",
         "id": "ur.01302621346.55",
         "last_name": "Ishidao",
         "research_orgs": [
          "grid.271052.3",
          "grid.177174.3"
         ]
        },
        {
         "count": 1,
         "first_name": "Yasushi",
         "id": "ur.013033127431.70",
         "last_name": "Takase",
         "research_orgs": [
          "grid.258806.1"
         ]
        },
        {
         "count": 1,
         "first_name": "Hironori",
         "id": "ur.013037637371.18",
         "last_name": "Asada",
         "research_orgs": [
          "grid.268397.1"
         ]
        },
        {
         "count": 1,
         "first_name": "N M",
         "id": "ur.013040627160.80",
         "last_name": "Huang",
         "research_orgs": [
          "grid.10347.31"
         ]
        },
        {
         "count": 1,
         "first_name": "Swagat",
         "id": "ur.013050174175.11",
         "last_name": "Kumar",
         "research_orgs": [
          "grid.417965.8",
          "grid.452790.d"
         ]
        },
        {
         "count": 1,
         "first_name": "Kazue",
         "id": "ur.01305511561.39",
         "last_name": "Yoneda",
         "research_orgs": [
          "grid.271052.3",
          "grid.272264.7"
         ]
        },
        {
         "count": 1,
         "first_name": "Yusuke",
         "id": "ur.013057763724.35",
         "last_name": "Fujimura",
         "research_orgs": [
          "grid.258806.1"
         ]
        },
        {
         "count": 1,
         "first_name": "Ge",
         "id": "ur.013062223655.97",
         "last_name": "Jin",
         "research_orgs": [
          "grid.258806.1"
         ]
        },
        {
         "count": 1,
         "first_name": "Yuki",
         "id": "ur.013063415575.87",
         "last_name": "Honda",
         "research_orgs": [
          "grid.265074.2",
          "grid.472641.2",
          "grid.263536.7"
         ]
        },
        {
         "count": 1,
         "first_name": "Itaru",
         "id": "ur.013072075117.06",
         "last_name": "Matsumoto",
         "research_orgs": [
          "grid.472168.e"
         ]
        },
        {
         "count": 1,
         "first_name": "Pauline",
         "id": "ur.013076612475.43",
         "last_name": "Faure",
         "research_orgs": [
          "grid.258806.1"
         ]
        },
        {
         "count": 1,
         "first_name": "Akira",
         "id": "ur.013106631125.09",
         "last_name": "Masuda",
         "research_orgs": [
          "grid.7597.c",
          "grid.54432.34",
          "grid.258806.1",
          "grid.474690.8",
          "grid.255178.c"
         ]
        },
        {
         "count": 1,
         "first_name": "Kakuji J",
         "id": "ur.01311067756.27",
         "last_name": "Tojo",
         "research_orgs": [
          "grid.258806.1",
          "grid.261455.1",
          "grid.430387.b",
          "grid.417993.1",
          "grid.36567.31"
         ]
        },
        {
         "count": 1,
         "first_name": "Kenji",
         "id": "ur.013117434073.69",
         "last_name": "Sakamoto",
         "research_orgs": [
          "grid.258806.1"
         ]
        },
        {
         "count": 1,
         "first_name": "Jobu",
         "id": "ur.013120602051.01",
         "last_name": "Matsuno",
         "orcid_id": [
          "0000-0002-3018-8548"
         ],
         "research_orgs": [
          "grid.26999.3d",
          "grid.208504.b",
          "grid.474689.0",
          "grid.474688.1",
          "grid.31432.37",
          "grid.419082.6",
          "grid.7597.c"
         ]
        },
        {
         "count": 1,
         "first_name": "Vivek Sheel",
         "id": "ur.013126041541.64",
         "last_name": "Sagar"
        },
        {
         "count": 1,
         "first_name": "Naohisa",
         "id": "ur.01313324753.14",
         "last_name": "Hirao",
         "research_orgs": [
          "grid.416629.e",
          "grid.419082.6",
          "grid.410592.b",
          "grid.472717.0",
          "grid.9707.9",
          "grid.69566.3a"
         ]
        },
        {
         "count": 1,
         "first_name": "Ryuzo",
         "id": "ur.013134303505.28",
         "last_name": "Takahashi"
        },
        {
         "count": 1,
         "first_name": "Kazuhiro",
         "id": "ur.01314121324.04",
         "last_name": "Iwamatsu",
         "research_orgs": [
          "grid.26999.3d",
          "grid.20256.33",
          "grid.131063.6"
         ]
        },
        {
         "count": 1,
         "first_name": "Kazushi",
         "id": "ur.01314151030.28",
         "last_name": "Ikeda",
         "orcid_id": [
          "0000-0003-3330-6121"
         ],
         "research_orgs": [
          "grid.26999.3d",
          "grid.260493.a",
          "grid.419082.6",
          "grid.258803.4",
          "grid.418163.9",
          "grid.258799.8",
          "grid.9707.9"
         ]
        },
        {
         "count": 1,
         "first_name": "Yoshifumi",
         "id": "ur.013152332471.50",
         "last_name": "Ikoma",
         "research_orgs": [
          "grid.177174.3"
         ]
        },
        {
         "count": 1,
         "first_name": "Gaku",
         "id": "ur.013156616165.70",
         "last_name": "Sasaki",
         "research_orgs": [
          "grid.258806.1"
         ]
        },
        {
         "count": 1,
         "first_name": "John L",
         "id": "ur.013172063565.01",
         "last_name": "Polansky",
         "orcid_id": [
          "0000-0002-8820-8716"
         ],
         "research_orgs": [
          "grid.258806.1"
         ]
        },
        {
         "count": 1,
         "first_name": "Sawal Hamid Md",
         "id": "ur.013201107651.15",
         "last_name": "Ali",
         "research_orgs": [
          "grid.440438.f",
          "grid.412113.4"
         ]
        },
        {
         "count": 1,
         "first_name": "Atsushi",
         "id": "ur.013203010422.42",
         "last_name": "Ogura",
         "research_orgs": [
          "grid.5290.e",
          "grid.20515.33",
          "grid.411764.1",
          "grid.419082.6",
          "grid.420377.5"
         ]
        },
        {
         "count": 1,
         "first_name": "Hiroshi",
         "id": "ur.013204223025.51",
         "last_name": "Amitsuka",
         "research_orgs": [
          "grid.26999.3d",
          "grid.39158.36",
          "grid.20256.33",
          "grid.266453.0",
          "grid.136593.b",
          "grid.7177.6"
         ]
        },
        {
         "count": 1,
         "first_name": "Xiangyuan",
         "id": "ur.01320716543.54",
         "last_name": "Wang",
         "research_orgs": [
          "grid.30055.33"
         ]
        },
        {
         "count": 1,
         "first_name": "Mamoun",
         "id": "ur.013207400417.50",
         "last_name": "Alazab",
         "orcid_id": [
          "0000-0002-1928-3704"
         ],
         "research_orgs": [
          "grid.1043.6",
          "grid.1004.5",
          "grid.1001.0",
          "grid.1040.5"
         ]
        },
        {
         "count": 1,
         "first_name": "Masato",
         "id": "ur.013211336715.65",
         "last_name": "Suetake",
         "research_orgs": [
          "grid.258806.1"
         ]
        },
        {
         "count": 1,
         "first_name": "Wataru",
         "id": "ur.01321224651.12",
         "last_name": "Arai",
         "research_orgs": [
          "grid.136304.3",
          "grid.410804.9",
          "grid.410588.0"
         ]
        },
        {
         "count": 1,
         "first_name": "Tatsuya",
         "id": "ur.013227244741.37",
         "last_name": "Akutsu",
         "research_orgs": [
          "grid.26999.3d",
          "grid.260493.a",
          "grid.258799.8",
          "grid.256642.1"
         ]
        },
        {
         "count": 1,
         "first_name": "Makoto",
         "id": "ur.01323772346.79",
         "last_name": "Igarashi",
         "research_orgs": [
          "grid.69566.3a",
          "grid.419082.6"
         ]
        },
        {
         "count": 1,
         "first_name": "Chiho",
         "id": "ur.01325313526.15",
         "last_name": "Koi",
         "research_orgs": [
          "grid.271052.3"
         ]
        },
        {
         "count": 1,
         "first_name": "Jihua",
         "id": "ur.013260315132.15",
         "last_name": "Zhu",
         "research_orgs": [
          "grid.43169.39"
         ]
        },
        {
         "count": 1,
         "first_name": "Kazunori",
         "id": "ur.013263200633.22",
         "last_name": "Miyakawa",
         "research_orgs": [
          "grid.472641.2"
         ]
        },
        {
         "count": 1,
         "first_name": "Hirofumi",
         "id": "ur.013265612621.82",
         "last_name": "Tanigawa",
         "research_orgs": [
          "grid.258806.1"
         ]
        },
        {
         "count": 1,
         "first_name": "Antonio",
         "id": "ur.013271673317.11",
         "last_name": "Acosta-Iborra",
         "orcid_id": [
          "0000-0002-4715-7545"
         ],
         "research_orgs": [
          "grid.7840.b"
         ]
        },
        {
         "count": 1,
         "first_name": "Haichao",
         "id": "ur.013271777171.38",
         "last_name": "Liang",
         "research_orgs": [
          "grid.258806.1"
         ]
        },
        {
         "count": 1,
         "first_name": "Riichi",
         "id": "ur.013320540274.33",
         "last_name": "Oguchi",
         "research_orgs": [
          "grid.26999.3d",
          "grid.1001.0",
          "grid.69566.3a"
         ]
        },
        {
         "count": 1,
         "first_name": "Lian-Yu",
         "id": "ur.013322722525.40",
         "last_name": "Wei",
         "research_orgs": [
          "grid.412030.4"
         ]
        },
        {
         "count": 1,
         "first_name": "Murugan",
         "id": "ur.013324042045.65",
         "last_name": "Vigneshwaran",
         "research_orgs": [
          "grid.258806.1"
         ]
        },
        {
         "count": 1,
         "first_name": "Masanori",
         "id": "ur.013325521153.09",
         "last_name": "Nishio",
         "research_orgs": [
          "grid.443569.9",
          "grid.417799.5"
         ]
        },
        {
         "count": 1,
         "first_name": "Jie",
         "id": "ur.01332553672.66",
         "last_name": "Yin",
         "orcid_id": [
          "0000-0003-1852-1042"
         ],
         "research_orgs": [
          "grid.413259.8",
          "grid.24696.3f",
          "grid.454856.e",
          "grid.9227.e",
          "grid.418856.6",
          "grid.423905.9",
          "grid.418524.e",
          "grid.458449.0",
          "grid.410726.6",
          "grid.252018.c",
          "grid.411351.3",
          "grid.410902.e",
          "grid.20561.30"
         ]
        },
        {
         "count": 1,
         "first_name": "Chie",
         "id": "ur.013327765311.03",
         "last_name": "Hashimoto",
         "research_orgs": [
          "grid.258806.1"
         ]
        },
        {
         "count": 1,
         "first_name": "Guo-Hua",
         "id": "ur.013331357463.69",
         "last_name": "Wu",
         "orcid_id": [
          "0000-0002-8873-8004"
         ],
         "research_orgs": [
          "grid.260969.2",
          "grid.467844.d",
          "grid.412498.2"
         ]
        },
        {
         "count": 1,
         "first_name": "Takeshi",
         "id": "ur.013333061643.13",
         "last_name": "Okunishi",
         "research_orgs": [
          "grid.39158.36",
          "grid.419082.6",
          "grid.410851.9"
         ]
        }
       ]
      },
      "text/plain": [
       "<dimcli.dimensions.Result object>"
      ]
     },
     "execution_count": 12,
     "metadata": {
      "application/json": {
       "expanded": false,
       "root": "root"
      }
     },
     "output_type": "execute_result"
    }
   ],
   "source": [
    "%%dsl_query \n",
    "search publications\n",
    "where year in [2016] and research_orgs=\"grid.258806.1\"\n",
    "return researchers limit 1000"
   ]
  },
  {
   "cell_type": "code",
   "execution_count": 6,
   "metadata": {},
   "outputs": [
    {
     "data": {
      "text/plain": [
       "[('researchers', 20), ('_stats', 1)]"
      ]
     },
     "execution_count": 6,
     "metadata": {},
     "output_type": "execute_result"
    }
   ],
   "source": [
    "_.keys_and_count()"
   ]
  },
  {
   "cell_type": "code",
   "execution_count": 7,
   "metadata": {},
   "outputs": [
    {
     "name": "stdout",
     "output_type": "stream",
     "text": [
      "You said: search publications\n",
      "where year in [2013:2018] and research_orgs=\"grid.258806.1\"\n",
      "return FOR\n",
      "\n",
      "Tot Results:  3994\n",
      "For: 20\n",
      "---\n",
      "[1] {'id': '2746', 'count': 522, 'name': '0801 Artificial Intelligence and Image Processing'}\n",
      "[2] {'id': '2921', 'count': 513, 'name': '0912 Materials Engineering'}\n",
      "[3] {'id': '2471', 'count': 392, 'name': '0306 Physical Chemistry (incl. Structural)'}\n",
      "[4] {'id': '2867', 'count': 179, 'name': '0906 Electrical and Electronic Engineering'}\n",
      "[5] {'id': '3001', 'count': 148, 'name': '1005 Communications Technologies'}\n",
      "---\n",
      "Tip: use 'show <number>' or show+Tab to see more options\n"
     ]
    },
    {
     "data": {
      "application/json": {
       "FOR": [
        {
         "count": 522,
         "id": "2746",
         "name": "0801 Artificial Intelligence and Image Processing"
        },
        {
         "count": 513,
         "id": "2921",
         "name": "0912 Materials Engineering"
        },
        {
         "count": 392,
         "id": "2471",
         "name": "0306 Physical Chemistry (incl. Structural)"
        },
        {
         "count": 179,
         "id": "2867",
         "name": "0906 Electrical and Electronic Engineering"
        },
        {
         "count": 148,
         "id": "3001",
         "name": "1005 Communications Technologies"
        },
        {
         "count": 139,
         "id": "2421",
         "name": "0299 Other Physical Sciences"
        },
        {
         "count": 99,
         "id": "2581",
         "name": "0601 Biochemistry and Cell Biology"
        },
        {
         "count": 83,
         "id": "2790",
         "name": "0806 Information Systems"
        },
        {
         "count": 79,
         "id": "2344",
         "name": "0102 Applied Mathematics"
        },
        {
         "count": 74,
         "id": "2953",
         "name": "0915 Interdisciplinary Engineering"
        },
        {
         "count": 67,
         "id": "2620",
         "name": "0604 Genetics"
        },
        {
         "count": 67,
         "id": "3468",
         "name": "1701 Psychology"
        },
        {
         "count": 65,
         "id": "3053",
         "name": "1103 Clinical Sciences"
        },
        {
         "count": 56,
         "id": "2447",
         "name": "0303 Macromolecular and Materials Chemistry"
        },
        {
         "count": 53,
         "id": "2389",
         "name": "0202 Atomic, Molecular, Nuclear, Particle and Plasma Physics"
        },
        {
         "count": 50,
         "id": "3120",
         "name": "1109 Neurosciences"
        },
        {
         "count": 48,
         "id": "2358",
         "name": "0104 Statistics"
        },
        {
         "count": 48,
         "id": "2766",
         "name": "0803 Computer Software"
        },
        {
         "count": 43,
         "id": "2438",
         "name": "0302 Inorganic Chemistry"
        },
        {
         "count": 42,
         "id": "2837",
         "name": "0903 Biomedical Engineering"
        }
       ],
       "_stats": {
        "total_count": 3994
       }
      },
      "text/plain": [
       "<dimcli.dimensions.Result object>"
      ]
     },
     "execution_count": 7,
     "metadata": {
      "application/json": {
       "expanded": false,
       "root": "root"
      }
     },
     "output_type": "execute_result"
    }
   ],
   "source": [
    "%%dsl_query \n",
    "search publications\n",
    "where year in [2013:2018] and research_orgs=\"grid.258806.1\"\n",
    "return FOR"
   ]
  },
  {
   "cell_type": "code",
   "execution_count": 8,
   "metadata": {},
   "outputs": [
    {
     "name": "stdout",
     "output_type": "stream",
     "text": [
      "You said: search publications\n",
      "where year in [2013:2018] and research_orgs=\"grid.258806.1\"\n",
      "return researchers limit 1000\n",
      "\n",
      "Tot Results:  3990\n",
      "Researchers: 1000\n",
      "---\n",
      "[1] Shuzi Shuzi Hayase (id: https://app.dimensions.ai/discover/publication?and_facet_researcher=ur.01055753603.27 )\n",
      "[2] Masayuki Hikita (id: https://app.dimensions.ai/discover/publication?and_facet_researcher=ur.011212042763.67 )\n",
      "[3] Ting-Li Ma (id: https://app.dimensions.ai/discover/publication?and_facet_researcher=ur.01144540527.52 )\n",
      "[4] M Kozako M Kozako (id: https://app.dimensions.ai/discover/publication?and_facet_researcher=ur.07644453127.11 )\n",
      "[5] Huimin Lu (id: https://app.dimensions.ai/discover/publication?and_facet_researcher=ur.016357156077.09 )\n",
      "---\n",
      "Tip: use 'show <number>' or show+Tab to see more options\n"
     ]
    },
    {
     "data": {
      "application/json": {
       "_stats": {
        "total_count": 3990
       },
       "researchers": [
        {
         "count": 138,
         "first_name": "Shuzi Shuzi",
         "id": "ur.01055753603.27",
         "last_name": "Hayase",
         "research_orgs": [
          "grid.258806.1",
          "grid.410825.a",
          "grid.266298.1",
          "grid.419082.6"
         ]
        },
        {
         "count": 105,
         "first_name": "Masayuki",
         "id": "ur.011212042763.67",
         "last_name": "Hikita",
         "research_orgs": [
          "grid.258806.1",
          "grid.27476.30",
          "grid.462727.2"
         ]
        },
        {
         "count": 102,
         "first_name": "Ting-Li",
         "id": "ur.01144540527.52",
         "last_name": "Ma",
         "research_orgs": [
          "grid.258806.1",
          "grid.30055.33",
          "grid.11135.37",
          "grid.443434.0"
         ]
        },
        {
         "count": 100,
         "first_name": "M Kozako M",
         "id": "ur.07644453127.11",
         "last_name": "Kozako",
         "research_orgs": [
          "grid.258806.1",
          "grid.471634.3",
          "grid.5290.e",
          "grid.4444.0",
          "grid.462727.2"
         ]
        },
        {
         "count": 91,
         "first_name": "Huimin",
         "id": "ur.016357156077.09",
         "last_name": "Lu",
         "orcid_id": [
          "0000-0001-9794-3221"
         ],
         "research_orgs": [
          "grid.258806.1",
          "grid.54432.34",
          "grid.454850.8",
          "grid.24516.34",
          "grid.271052.3",
          "grid.268415.c",
          "grid.9227.e",
          "grid.16821.3c"
         ]
        },
        {
         "count": 72,
         "first_name": "Takayuki",
         "id": "ur.014576745545.59",
         "last_name": "Yanagida",
         "orcid_id": [
          "0000-0002-4298-5886"
         ],
         "research_orgs": [
          "grid.258806.1",
          "grid.26999.3d",
          "grid.260493.a",
          "grid.19006.3e",
          "grid.445003.6",
          "grid.9707.9",
          "grid.450279.d",
          "grid.69566.3a"
         ]
        },
        {
         "count": 71,
         "first_name": "Kazuo",
         "id": "ur.010532502225.19",
         "last_name": "Ishii",
         "research_orgs": [
          "grid.258806.1",
          "grid.26999.3d",
          "grid.412586.c",
          "grid.471761.2"
         ]
        },
        {
         "count": 65,
         "first_name": "Shyam Sudhir",
         "id": "ur.011174241121.19",
         "last_name": "Pandey",
         "research_orgs": [
          "grid.258806.1",
          "grid.419701.a",
          "grid.419082.6"
         ]
        },
        {
         "count": 65,
         "first_name": "Hyoung-Seop",
         "id": "ur.012240303741.11",
         "last_name": "Kim",
         "research_orgs": [
          "grid.258806.1",
          "grid.268415.c"
         ]
        },
        {
         "count": 61,
         "first_name": "Yuhei",
         "id": "ur.0662411533.69",
         "last_name": "Ogomi",
         "research_orgs": [
          "grid.258806.1",
          "grid.266298.1",
          "grid.419082.6"
         ]
        },
        {
         "count": 60,
         "first_name": "Seiichi",
         "id": "ur.011567324032.03",
         "last_name": "Serikawa",
         "research_orgs": [
          "grid.258806.1",
          "grid.268415.c"
         ]
        },
        {
         "count": 59,
         "first_name": "Teruhisa",
         "id": "ur.014403617266.16",
         "last_name": "Ohno",
         "research_orgs": [
          "grid.258806.1",
          "grid.136593.b",
          "grid.177174.3",
          "grid.419082.6"
         ]
        },
        {
         "count": 56,
         "first_name": "Koichi",
         "id": "ur.010170714165.07",
         "last_name": "Yonemoto",
         "research_orgs": [
          "grid.258806.1"
         ]
        },
        {
         "count": 56,
         "first_name": "Nao-Aki",
         "id": "ur.012413075361.99",
         "last_name": "Noda",
         "research_orgs": [
          "grid.258806.1",
          "grid.177174.3"
         ]
        },
        {
         "count": 55,
         "first_name": "Hiroshi",
         "id": "ur.011713744411.27",
         "last_name": "Ochi",
         "research_orgs": [
          "grid.258806.1"
         ]
        },
        {
         "count": 55,
         "first_name": "Kaname",
         "id": "ur.014430116143.81",
         "last_name": "Matsumoto",
         "research_orgs": [
          "grid.258806.1",
          "grid.459529.6",
          "grid.258799.8",
          "grid.410817.b",
          "grid.419082.6"
         ]
        },
        {
         "count": 55,
         "first_name": "Yutaka",
         "id": "ur.015071076031.95",
         "last_name": "Fujimoto",
         "research_orgs": [
          "grid.258806.1",
          "grid.54432.34",
          "grid.260493.a",
          "grid.27476.30",
          "grid.69566.3a"
         ]
        },
        {
         "count": 54,
         "first_name": "Mengu",
         "id": "ur.013152112405.28",
         "last_name": "Cho",
         "research_orgs": [
          "grid.258806.1",
          "grid.26999.3d",
          "grid.31432.37",
          "grid.33224.34",
          "grid.59025.3b",
          "grid.116068.8"
         ]
        },
        {
         "count": 53,
         "first_name": "Nobuyuki",
         "id": "ur.010474674625.53",
         "last_name": "Tsuboi",
         "research_orgs": [
          "grid.258806.1",
          "grid.450279.d",
          "grid.26999.3d",
          "grid.411253.0",
          "grid.62167.34"
         ]
        },
        {
         "count": 53,
         "first_name": "Tamaki",
         "id": "ur.010512140067.57",
         "last_name": "Ura",
         "research_orgs": [
          "grid.258806.1",
          "grid.26999.3d",
          "grid.471888.a",
          "grid.482819.e",
          "grid.5333.6"
         ]
        },
        {
         "count": 52,
         "first_name": "Qing",
         "id": "ur.0617543344.56",
         "last_name": "Shen",
         "orcid_id": [
          "0000-0001-8359-3275"
         ],
         "research_orgs": [
          "grid.258806.1",
          "grid.26999.3d",
          "grid.266298.1",
          "grid.9612.c",
          "grid.419082.6"
         ]
        },
        {
         "count": 51,
         "first_name": "Taro",
         "id": "ur.0665656544.77",
         "last_name": "Toyoda",
         "research_orgs": [
          "grid.258806.1",
          "grid.266298.1",
          "grid.9612.c",
          "grid.419082.6"
         ]
        },
        {
         "count": 50,
         "first_name": "Toshiki",
         "id": "ur.01044007740.24",
         "last_name": "Miyazaki",
         "orcid_id": [
          "0000-0001-5642-0096"
         ],
         "research_orgs": [
          "grid.258806.1",
          "grid.260493.a",
          "grid.258799.8"
         ]
        },
        {
         "count": 50,
         "first_name": "Koji",
         "id": "ur.013007337011.42",
         "last_name": "Miyazaki",
         "orcid_id": [
          "0000-0001-6002-343X"
         ],
         "research_orgs": [
          "grid.258806.1",
          "grid.32197.3e",
          "grid.419082.6"
         ]
        },
        {
         "count": 49,
         "first_name": "Sozo",
         "id": "ur.011107424325.85",
         "last_name": "Inoue",
         "research_orgs": [
          "grid.258806.1",
          "grid.177174.3"
         ]
        },
        {
         "count": 47,
         "first_name": "Shin'Ichi",
         "id": "ur.014772614131.11",
         "last_name": "Sagara",
         "research_orgs": [
          "grid.258806.1"
         ]
        },
        {
         "count": 47,
         "first_name": "Joo Kooi",
         "id": "ur.0724144151.56",
         "last_name": "Tan",
         "research_orgs": [
          "grid.258806.1"
         ]
        },
        {
         "count": 46,
         "first_name": "Yasunori",
         "id": "ur.011456332771.53",
         "last_name": "Mitani",
         "research_orgs": [
          "grid.258806.1",
          "grid.136593.b"
         ]
        },
        {
         "count": 44,
         "first_name": "Ichiro",
         "id": "ur.013017671242.22",
         "last_name": "Omura",
         "research_orgs": [
          "grid.410825.a",
          "grid.136593.b",
          "grid.5801.c",
          "grid.258806.1",
          "grid.462727.2"
         ]
        },
        {
         "count": 43,
         "first_name": "Nobuo",
         "id": "ur.011646110331.53",
         "last_name": "Sakai",
         "research_orgs": [
          "grid.258806.1",
          "grid.177174.3"
         ]
        },
        {
         "count": 43,
         "first_name": "Yoshihito",
         "id": "ur.012054304515.50",
         "last_name": "Shirai",
         "research_orgs": [
          "grid.258806.1",
          "grid.260975.f",
          "grid.412586.c",
          "grid.462975.b",
          "grid.258799.8",
          "grid.412334.3"
         ]
        },
        {
         "count": 42,
         "first_name": "Masaaki",
         "id": "ur.011702626115.11",
         "last_name": "Tamagawa",
         "orcid_id": [
          "0000-0002-5938-346X"
         ],
         "research_orgs": [
          "grid.258806.1",
          "grid.258799.8"
         ]
        },
        {
         "count": 42,
         "first_name": "Mochimitsu",
         "id": "ur.015611316173.53",
         "last_name": "Komori",
         "orcid_id": [
          "0000-0001-8714-3829"
         ],
         "research_orgs": [
          "grid.258806.1"
         ]
        },
        {
         "count": 41,
         "first_name": "Mohd Ali",
         "id": "ur.01110226223.39",
         "last_name": "Hassan",
         "research_orgs": [
          "grid.11142.37"
         ]
        },
        {
         "count": 41,
         "first_name": "Masaki",
         "id": "ur.07706367411.17",
         "last_name": "Mito",
         "research_orgs": [
          "grid.258806.1",
          "grid.4991.5",
          "grid.419082.6",
          "grid.136593.b",
          "grid.177174.3",
          "grid.257022.0"
         ]
        },
        {
         "count": 40,
         "first_name": "Hiroyuki",
         "id": "ur.0620051541.76",
         "last_name": "Kamada",
         "research_orgs": [
          "grid.258806.1",
          "grid.26999.3d",
          "grid.8385.6",
          "grid.143643.7",
          "grid.257114.4",
          "grid.5570.7",
          "grid.6546.1",
          "grid.11696.39",
          "grid.5522.0",
          "grid.5991.4",
          "grid.69566.3a"
         ]
        },
        {
         "count": 39,
         "first_name": "Yoshi-Kazu",
         "id": "ur.012041204017.13",
         "last_name": "Sano",
         "research_orgs": [
          "grid.258806.1"
         ]
        },
        {
         "count": 38,
         "first_name": "Toshinari",
         "id": "ur.0710646763.59",
         "last_name": "Maeda",
         "research_orgs": [
          "grid.258806.1",
          "grid.418752.d",
          "grid.264756.4"
         ]
        },
        {
         "count": 37,
         "first_name": "Yujie",
         "id": "ur.012730255305.21",
         "last_name": "Li",
         "research_orgs": [
          "grid.258806.1",
          "grid.54432.34",
          "grid.268415.c",
          "grid.9227.e",
          "grid.16821.3c",
          "grid.411497.e"
         ]
        },
        {
         "count": 37,
         "first_name": "Hiroshi",
         "id": "ur.014211043261.68",
         "last_name": "Ito",
         "research_orgs": [
          "grid.258806.1",
          "grid.26091.3c"
         ]
        },
        {
         "count": 35,
         "first_name": "Tomohiro",
         "id": "ur.01055553442.40",
         "last_name": "Kawahara",
         "orcid_id": [
          "0000-0003-0983-1452"
         ],
         "research_orgs": [
          "grid.258806.1",
          "grid.27476.30",
          "grid.257022.0",
          "grid.116068.8"
         ]
        },
        {
         "count": 35,
         "first_name": "Takashi",
         "id": "ur.012717727401.50",
         "last_name": "Sonoda",
         "research_orgs": [
          "grid.258806.1",
          "grid.471761.2",
          "grid.444302.5"
         ]
        },
        {
         "count": 34,
         "first_name": "Kazuto",
         "id": "ur.015253760145.65",
         "last_name": "Takashima",
         "orcid_id": [
          "0000-0002-3304-4443"
         ],
         "research_orgs": [
          "grid.7597.c",
          "grid.258799.8",
          "grid.258806.1"
         ]
        },
        {
         "count": 33,
         "first_name": "Chikamune",
         "id": "ur.01115775542.04",
         "last_name": "Wada",
         "research_orgs": [
          "grid.258806.1",
          "grid.39158.36"
         ]
        },
        {
         "count": 33,
         "first_name": "Masato",
         "id": "ur.012177004461.55",
         "last_name": "Tsuru",
         "research_orgs": [
          "grid.258806.1",
          "grid.28312.3a"
         ]
        },
        {
         "count": 33,
         "first_name": "Satoshi",
         "id": "ur.012433746665.15",
         "last_name": "Awaji",
         "orcid_id": [
          "0000-0003-2043-1628"
         ],
         "research_orgs": [
          "grid.443870.c",
          "grid.419082.6",
          "grid.458461.a",
          "grid.5290.e",
          "grid.257022.0",
          "grid.7597.c",
          "grid.69566.3a"
         ]
        },
        {
         "count": 33,
         "first_name": "Fumiaki",
         "id": "ur.016313102006.73",
         "last_name": "Takemura",
         "research_orgs": [
          "grid.258806.1",
          "grid.471922.b",
          "grid.262576.2",
          "grid.482504.f"
         ]
        },
        {
         "count": 33,
         "first_name": "Kenji",
         "id": "ur.0625276603.41",
         "last_name": "Yoshino",
         "research_orgs": [
          "grid.410849.0",
          "grid.261356.5",
          "grid.419082.6"
         ]
        },
        {
         "count": 32,
         "first_name": "Yutaka",
         "id": "ur.011045165711.47",
         "last_name": "Yoshida",
         "research_orgs": [
          "grid.410817.b",
          "grid.268394.2",
          "grid.27476.30",
          "grid.419082.6"
         ]
        },
        {
         "count": 32,
         "first_name": "Yuki",
         "id": "ur.01277754142.63",
         "last_name": "Shirosaki",
         "research_orgs": [
          "grid.258806.1",
          "grid.5808.5",
          "grid.261356.5"
         ]
        },
        {
         "count": 32,
         "first_name": "Akihiko",
         "id": "ur.01370131513.43",
         "last_name": "Tsuge",
         "research_orgs": [
          "grid.258806.1",
          "grid.177174.3",
          "grid.42505.36"
         ]
        },
        {
         "count": 31,
         "first_name": "Yuhei",
         "id": "ur.012317400335.05",
         "last_name": "Nagao",
         "research_orgs": [
          "grid.258806.1"
         ]
        },
        {
         "count": 30,
         "first_name": "Takaaki",
         "id": "ur.010103402243.98",
         "last_name": "Matsumoto",
         "research_orgs": [
          "grid.258806.1"
         ]
        },
        {
         "count": 30,
         "first_name": "Shigeori",
         "id": "ur.01046117352.13",
         "last_name": "Takenaka",
         "research_orgs": [
          "grid.258806.1",
          "grid.177174.3"
         ]
        },
        {
         "count": 30,
         "first_name": "Tsuyoshi",
         "id": "ur.011156363337.63",
         "last_name": "Hanamoto",
         "research_orgs": [
          "grid.258806.1"
         ]
        },
        {
         "count": 30,
         "first_name": "Ataru",
         "id": "ur.012737265351.15",
         "last_name": "Ichinose",
         "orcid_id": [
          "0000-0002-7237-1252"
         ],
         "research_orgs": [
          "grid.258806.1",
          "grid.26999.3d",
          "grid.263536.7",
          "grid.419082.6",
          "grid.14003.36",
          "grid.410817.b",
          "grid.265074.2",
          "grid.5290.e",
          "grid.177174.3",
          "grid.417751.1"
         ]
        },
        {
         "count": 30,
         "first_name": "Tomoyoshi",
         "id": "ur.016200412745.11",
         "last_name": "Horie",
         "orcid_id": [
          "0000-0002-1704-8137"
         ],
         "research_orgs": [
          "grid.258806.1",
          "grid.26999.3d",
          "grid.20256.33",
          "grid.471169.c"
         ]
        },
        {
         "count": 30,
         "first_name": "Masayuki",
         "id": "ur.016577737035.14",
         "last_name": "Kurosaki",
         "research_orgs": [
          "grid.258806.1"
         ]
        },
        {
         "count": 30,
         "first_name": "Jacek",
         "id": "ur.07630212115.58",
         "last_name": "Golak",
         "research_orgs": [
          "grid.264889.9",
          "grid.266539.d",
          "grid.257114.4",
          "grid.5570.7",
          "grid.263880.7",
          "grid.411377.7",
          "grid.256774.5",
          "grid.69566.3a",
          "grid.5522.0",
          "grid.116068.8",
          "grid.258518.3"
         ]
        },
        {
         "count": 29,
         "first_name": "Tetsuji",
         "id": "ur.013506011335.42",
         "last_name": "Moriguchi",
         "orcid_id": [
          "0000-0002-2362-0590"
         ],
         "research_orgs": [
          "grid.258806.1",
          "grid.177174.3"
         ]
        },
        {
         "count": 28,
         "first_name": "Noboru",
         "id": "ur.010647607673.28",
         "last_name": "Sebe",
         "research_orgs": [
          "grid.258806.1",
          "grid.26999.3d"
         ]
        },
        {
         "count": 28,
         "first_name": "Henryk",
         "id": "ur.01150722523.05",
         "last_name": "Witała",
         "research_orgs": [
          "grid.264889.9",
          "grid.266539.d",
          "grid.440684.a",
          "grid.8385.6",
          "grid.257114.4",
          "grid.5570.7",
          "grid.10388.32",
          "grid.263880.7",
          "grid.6045.7",
          "grid.5110.5",
          "grid.411377.7",
          "grid.256774.5",
          "grid.26009.3d",
          "grid.258518.3",
          "grid.5522.0",
          "grid.116068.8",
          "grid.69566.3a"
         ]
        },
        {
         "count": 28,
         "first_name": "Mario",
         "id": "ur.014015200115.60",
         "last_name": "Köppen",
         "research_orgs": [
          "grid.258806.1",
          "grid.4561.6",
          "grid.469819.b"
         ]
        },
        {
         "count": 28,
         "first_name": "Seiji",
         "id": "ur.014335550040.65",
         "last_name": "Ishikawa",
         "research_orgs": [
          "grid.258806.1"
         ]
        },
        {
         "count": 28,
         "first_name": "Kentaro",
         "id": "ur.014431643755.27",
         "last_name": "Fukuda",
         "research_orgs": [
          "grid.480436.d",
          "grid.69566.3a"
         ]
        },
        {
         "count": 28,
         "first_name": "Yingbing",
         "id": "ur.0752024141.42",
         "last_name": "Shi",
         "orcid_id": [
          "0000-0002-2761-8324"
         ],
         "research_orgs": [
          "grid.24515.37",
          "grid.41156.37",
          "grid.410726.6",
          "grid.284723.8",
          "grid.64924.3d",
          "grid.458438.6",
          "grid.411857.e",
          "grid.418929.f",
          "grid.134907.8",
          "grid.216938.7",
          "grid.47894.36",
          "grid.59062.38",
          "grid.12527.33",
          "grid.458492.6",
          "grid.453213.2",
          "grid.214007.0",
          "grid.454727.7",
          "grid.5037.1",
          "grid.30055.33",
          "grid.263826.b",
          "grid.440646.4",
          "grid.250464.1",
          "grid.21925.3d",
          "grid.39382.33",
          "grid.440259.e",
          "grid.412110.7",
          "grid.9227.e",
          "grid.440673.2",
          "grid.223827.e"
         ]
        },
        {
         "count": 27,
         "first_name": "Ken'Ichi",
         "id": "ur.010775467167.54",
         "last_name": "Asami",
         "research_orgs": [
          "grid.258806.1"
         ]
        },
        {
         "count": 27,
         "first_name": "Kazuya",
         "id": "ur.012355611262.41",
         "last_name": "Tsukamoto",
         "research_orgs": [
          "grid.258806.1"
         ]
        },
        {
         "count": 27,
         "first_name": "Kazuhiro",
         "id": "ur.01363435554.47",
         "last_name": "Takemoto",
         "orcid_id": [
          "0000-0002-6355-1366"
         ],
         "research_orgs": [
          "grid.258806.1",
          "grid.26999.3d",
          "grid.258799.8",
          "grid.419082.6"
         ]
        },
        {
         "count": 26,
         "first_name": "Shinobu",
         "id": "ur.010131766071.49",
         "last_name": "Sato",
         "research_orgs": [
          "grid.258806.1",
          "grid.177174.3"
         ]
        },
        {
         "count": 26,
         "first_name": "Takashi",
         "id": "ur.013433660401.90",
         "last_name": "Morie",
         "research_orgs": [
          "grid.258806.1",
          "grid.136593.b",
          "grid.480367.e",
          "grid.257022.0",
          "grid.410834.a",
          "grid.258799.8"
         ]
        },
        {
         "count": 26,
         "first_name": "Yuya",
         "id": "ur.013726656302.59",
         "last_name": "Nishida",
         "research_orgs": [
          "grid.258806.1",
          "grid.26999.3d"
         ]
        },
        {
         "count": 26,
         "first_name": "Hakaru",
         "id": "ur.016343071211.19",
         "last_name": "Tamukoh",
         "research_orgs": [
          "grid.258806.1",
          "grid.136594.c"
         ]
        },
        {
         "count": 26,
         "first_name": "Toshiaki",
         "id": "ur.016434577603.54",
         "last_name": "Kanemoto",
         "research_orgs": [
          "grid.258806.1",
          "grid.412339.e"
         ]
        },
        {
         "count": 26,
         "first_name": "Toshiki",
         "id": "ur.07731265526.17",
         "last_name": "Tsubota",
         "research_orgs": [
          "grid.258806.1",
          "grid.177174.3",
          "grid.471712.6"
         ]
        },
        {
         "count": 25,
         "first_name": "Takeshi",
         "id": "ur.010072040157.55",
         "last_name": "Nishida",
         "research_orgs": [
          "grid.258806.1",
          "grid.9906.6"
         ]
        },
        {
         "count": 25,
         "first_name": "Yoshito",
         "id": "ur.01116323260.31",
         "last_name": "Andou",
         "research_orgs": [
          "grid.258806.1",
          "grid.258622.9"
         ]
        },
        {
         "count": 25,
         "first_name": "Masanori",
         "id": "ur.011211756027.38",
         "last_name": "Tsukuda",
         "research_orgs": [
          "grid.258806.1",
          "grid.471432.7",
          "grid.419152.a",
          "grid.410825.a"
         ]
        },
        {
         "count": 25,
         "first_name": "Manabu",
         "id": "ur.013511663141.85",
         "last_name": "Ishimaru",
         "research_orgs": [
          "grid.258806.1",
          "grid.136593.b",
          "grid.177174.3",
          "grid.148313.c",
          "grid.35403.31"
         ]
        },
        {
         "count": 25,
         "first_name": "Hiroshi",
         "id": "ur.015626044455.37",
         "last_name": "Sakai",
         "research_orgs": [
          "grid.258806.1",
          "grid.440885.5"
         ]
        },
        {
         "count": 25,
         "first_name": "Hiroaki",
         "id": "ur.015773714465.27",
         "last_name": "Wagatsuma",
         "research_orgs": [
          "grid.258806.1",
          "grid.208504.b",
          "grid.474690.8"
         ]
        },
        {
         "count": 25,
         "first_name": "Li-Guo",
         "id": "ur.016315113573.36",
         "last_name": "Gao",
         "research_orgs": [
          "grid.30055.33"
         ]
        },
        {
         "count": 25,
         "first_name": "Masakazu",
         "id": "ur.0655655036.28",
         "last_name": "Kawashita",
         "orcid_id": [
          "0000-0002-4329-9001"
         ],
         "research_orgs": [
          "grid.258799.8",
          "grid.69566.3a"
         ]
        },
        {
         "count": 24,
         "first_name": "Hiroyuki",
         "id": "ur.010133563551.08",
         "last_name": "Deguchi",
         "research_orgs": [
          "grid.258806.1",
          "grid.419082.6",
          "grid.136593.b",
          "grid.418051.9",
          "grid.5290.e",
          "grid.177174.3",
          "grid.32197.3e"
         ]
        },
        {
         "count": 24,
         "first_name": "Masaki",
         "id": "ur.015703114311.91",
         "last_name": "Fuchiwaki",
         "research_orgs": [
          "grid.258806.1",
          "grid.218430.c"
         ]
        },
        {
         "count": 24,
         "first_name": "Gaurav",
         "id": "ur.07620457442.79",
         "last_name": "Kapil",
         "research_orgs": [
          "grid.258806.1",
          "grid.26999.3d"
         ]
        },
        {
         "count": 23,
         "first_name": "Kuniaki",
         "id": "ur.011207745276.80",
         "last_name": "Kawabata",
         "orcid_id": [
          "0000-0003-3330-9242"
         ],
         "research_orgs": [
          "grid.26999.3d",
          "grid.257114.4",
          "grid.20256.33",
          "grid.412773.4",
          "grid.258331.e",
          "grid.266298.1",
          "grid.258777.8",
          "grid.43169.39",
          "grid.7597.c"
         ]
        },
        {
         "count": 23,
         "first_name": "Roman",
         "id": "ur.012616114115.43",
         "last_name": "Skibiński",
         "research_orgs": [
          "grid.5522.0"
         ]
        },
        {
         "count": 23,
         "first_name": "Kazuhiro",
         "id": "ur.015564453121.12",
         "last_name": "Tanaka",
         "research_orgs": [
          "grid.258806.1"
         ]
        },
        {
         "count": 23,
         "first_name": "Xiao-Qing",
         "id": "ur.016543613275.09",
         "last_name": "Wen",
         "research_orgs": [
          "grid.258806.1",
          "grid.251924.9",
          "grid.12527.33",
          "grid.419082.6"
         ]
        },
        {
         "count": 22,
         "first_name": "Naoya",
         "id": "ur.01106502373.54",
         "last_name": "Murakami",
         "research_orgs": [
          "grid.258806.1",
          "grid.39158.36",
          "grid.419082.6"
         ]
        },
        {
         "count": 22,
         "first_name": "Andreas",
         "id": "ur.01111754321.53",
         "last_name": "Nogga",
         "orcid_id": [
          "0000-0003-2156-748X"
         ],
         "research_orgs": [
          "grid.8385.6",
          "grid.10388.32",
          "grid.5570.7",
          "grid.11762.33",
          "grid.148313.c",
          "grid.20627.31",
          "grid.34477.33",
          "grid.134563.6"
         ]
        },
        {
         "count": 22,
         "first_name": "Mitsuru",
         "id": "ur.011522423261.27",
         "last_name": "Kitamura",
         "research_orgs": [
          "grid.258806.1",
          "grid.26999.3d",
          "grid.32197.3e",
          "grid.21006.35"
         ]
        },
        {
         "count": 22,
         "first_name": "Yasushi",
         "id": "ur.013033127431.70",
         "last_name": "Takase",
         "research_orgs": [
          "grid.258806.1"
         ]
        },
        {
         "count": 22,
         "first_name": "Yusuke",
         "id": "ur.013706254136.44",
         "last_name": "Ichino",
         "research_orgs": [
          "grid.410817.b",
          "grid.5290.e",
          "grid.27476.30",
          "grid.419082.6"
         ]
        },
        {
         "count": 22,
         "first_name": "Kei",
         "id": "ur.014036341366.26",
         "last_name": "Ohnishi",
         "research_orgs": [
          "grid.258806.1"
         ]
        },
        {
         "count": 22,
         "first_name": "Takaharu",
         "id": "ur.014770667335.79",
         "last_name": "Tsuruta",
         "research_orgs": [
          "grid.258806.1"
         ]
        },
        {
         "count": 22,
         "first_name": "Edmund Soji",
         "id": "ur.016217354126.04",
         "last_name": "Otabe",
         "research_orgs": [
          "grid.258806.1",
          "grid.26999.3d",
          "grid.410817.b",
          "grid.419082.6"
         ]
        },
        {
         "count": 22,
         "first_name": "Tatsuo",
         "id": "ur.0657016421.80",
         "last_name": "Okauchi",
         "research_orgs": [
          "grid.258806.1",
          "grid.26999.3d",
          "grid.20515.33",
          "grid.418765.9",
          "grid.420377.5"
         ]
        },
        {
         "count": 21,
         "first_name": "Leonardo A",
         "id": "ur.010203570040.49",
         "last_name": "Lanante",
         "research_orgs": [
          "grid.258806.1",
          "grid.11134.36"
         ]
        },
        {
         "count": 21,
         "first_name": "Tomoya",
         "id": "ur.011110035767.88",
         "last_name": "Horide",
         "research_orgs": [
          "grid.258806.1",
          "grid.258799.8",
          "grid.419082.6"
         ]
        },
        {
         "count": 21,
         "first_name": "Kacper",
         "id": "ur.011622337461.16",
         "last_name": "Topolnicki",
         "research_orgs": [
          "grid.5522.0",
          "grid.264758.a"
         ]
        },
        {
         "count": 21,
         "first_name": "Daisuke",
         "id": "ur.012152525303.38",
         "last_name": "Ishihara",
         "orcid_id": [
          "0000-0002-8961-2622"
         ],
         "research_orgs": [
          "grid.258806.1",
          "grid.26999.3d",
          "grid.27476.30",
          "grid.450279.d"
         ]
        },
        {
         "count": 21,
         "first_name": "Haruo",
         "id": "ur.012235654007.98",
         "last_name": "Nishida",
         "orcid_id": [
          "0000-0001-6645-6463"
         ],
         "research_orgs": [
          "grid.258806.1",
          "grid.480436.d",
          "grid.258622.9"
         ]
        },
        {
         "count": 21,
         "first_name": "Seiya",
         "id": "ur.013023173241.20",
         "last_name": "Abe",
         "research_orgs": [
          "grid.258806.1",
          "grid.177174.3",
          "grid.471432.7"
         ]
        },
        {
         "count": 21,
         "first_name": "A Koichi",
         "id": "ur.013102645425.68",
         "last_name": "Hayashi",
         "research_orgs": [
          "grid.26999.3d",
          "grid.252311.6",
          "grid.412681.8",
          "grid.27476.30"
         ]
        },
        {
         "count": 21,
         "first_name": "Tomonari",
         "id": "ur.015517552231.23",
         "last_name": "Suzuki",
         "orcid_id": [
          "0000-0002-2524-6045"
         ],
         "research_orgs": [
          "grid.258806.1",
          "grid.260975.f",
          "grid.32197.3e",
          "grid.5338.d",
          "grid.412125.1"
         ]
        },
        {
         "count": 21,
         "first_name": "Tomohiro",
         "id": "ur.0675662150.95",
         "last_name": "Shibata",
         "orcid_id": [
          "0000-0002-8766-4250"
         ],
         "research_orgs": [
          "grid.258806.1",
          "grid.26999.3d",
          "grid.260493.a",
          "grid.28312.3a",
          "grid.419082.6",
          "grid.27476.30",
          "grid.418163.9"
         ]
        },
        {
         "count": 20,
         "first_name": "Satoshi",
         "id": "ur.011724474721.84",
         "last_name": "Iikubo",
         "orcid_id": [
          "0000-0002-5186-4058"
         ],
         "research_orgs": [
          "grid.258806.1",
          "grid.20256.33",
          "grid.27476.30",
          "grid.69566.3a"
         ]
        },
        {
         "count": 20,
         "first_name": "Kazuhiro",
         "id": "ur.013152454441.15",
         "last_name": "Toyoda",
         "research_orgs": [
          "grid.258806.1",
          "grid.136304.3",
          "grid.27476.30"
         ]
        },
        {
         "count": 20,
         "first_name": "Eiji",
         "id": "ur.013530037101.53",
         "last_name": "Hayashi",
         "research_orgs": [
          "grid.258806.1"
         ]
        },
        {
         "count": 20,
         "first_name": "Kenichi",
         "id": "ur.016165642365.95",
         "last_name": "Kourai",
         "research_orgs": [
          "grid.258806.1",
          "grid.26999.3d",
          "grid.32197.3e",
          "grid.419819.c"
         ]
        },
        {
         "count": 20,
         "first_name": "Takeshi",
         "id": "ur.016573723011.24",
         "last_name": "Ikenaga",
         "orcid_id": [
          "0000-0001-9022-0813"
         ],
         "research_orgs": [
          "grid.258806.1",
          "grid.177174.3"
         ]
        },
        {
         "count": 20,
         "first_name": "Hiroshi",
         "id": "ur.0760712756.93",
         "last_name": "Sakamoto",
         "research_orgs": [
          "grid.258806.1",
          "grid.410781.b",
          "grid.136593.b",
          "grid.177174.3",
          "grid.419082.6"
         ]
        },
        {
         "count": 19,
         "first_name": "Hirofumi",
         "id": "ur.01144262565.40",
         "last_name": "Tanaka",
         "orcid_id": [
          "0000-0002-4378-5747"
         ],
         "research_orgs": [
          "grid.258806.1",
          "grid.275033.0",
          "grid.419082.6",
          "grid.136593.b",
          "grid.29857.31",
          "grid.467196.b"
         ]
        },
        {
         "count": 19,
         "first_name": "Koju",
         "id": "ur.012442471303.45",
         "last_name": "Hiraki",
         "research_orgs": [
          "grid.258806.1",
          "grid.450279.d"
         ]
        },
        {
         "count": 19,
         "first_name": "Keiichi",
         "id": "ur.013547467411.15",
         "last_name": "Horio",
         "research_orgs": [
          "grid.258806.1"
         ]
        },
        {
         "count": 19,
         "first_name": "Sunao",
         "id": "ur.015730445066.94",
         "last_name": "Kamimura",
         "research_orgs": [
          "grid.258806.1",
          "grid.177174.3",
          "grid.208504.b",
          "grid.419082.6"
         ]
        },
        {
         "count": 19,
         "first_name": "Paolo",
         "id": "ur.015747527565.35",
         "last_name": "Mele",
         "orcid_id": [
          "0000-0003-2007-0906"
         ],
         "research_orgs": [
          "grid.258806.1",
          "grid.419082.6",
          "grid.157869.4",
          "grid.5606.5",
          "grid.257022.0",
          "grid.258799.8",
          "grid.419152.a",
          "grid.420014.3"
         ]
        },
        {
         "count": 19,
         "first_name": "Yaohong",
         "id": "ur.016301224703.21",
         "last_name": "Zhang",
         "orcid_id": [
          "0000-0001-7789-4784"
         ],
         "research_orgs": [
          "grid.418036.8",
          "grid.266298.1",
          "grid.467844.d",
          "grid.9227.e"
         ]
        },
        {
         "count": 19,
         "first_name": "Teruyuki",
         "id": "ur.0720355337.92",
         "last_name": "Nakato",
         "research_orgs": [
          "grid.258806.1",
          "grid.39158.36",
          "grid.136594.c",
          "grid.5290.e",
          "grid.419082.6"
         ]
        },
        {
         "count": 18,
         "first_name": "Ming",
         "id": "ur.01047320225.24",
         "last_name": "Zhang",
         "research_orgs": [
          "grid.268415.c"
         ]
        },
        {
         "count": 18,
         "first_name": "Hidayah",
         "id": "ur.01171212461.29",
         "last_name": "Ariffin",
         "orcid_id": [
          "0000-0002-9381-6767"
         ],
         "research_orgs": [
          "grid.11142.37",
          "grid.258806.1",
          "grid.11875.3a"
         ]
        },
        {
         "count": 18,
         "first_name": "Thomas K",
         "id": "ur.01231202460.12",
         "last_name": "Wood",
         "orcid_id": [
          "0000-0002-6258-529X"
         ],
         "research_orgs": [
          "grid.418752.d",
          "grid.266097.c",
          "grid.264756.4",
          "grid.261709.b",
          "grid.47894.36",
          "grid.29857.31",
          "grid.266093.8",
          "grid.63054.34",
          "grid.40803.3f"
         ]
        },
        {
         "count": 18,
         "first_name": "Noriyuki",
         "id": "ur.012576061043.37",
         "last_name": "Kushiro",
         "research_orgs": [
          "grid.258806.1",
          "grid.26999.3d",
          "grid.20515.33",
          "grid.462605.3"
         ]
        },
        {
         "count": 18,
         "first_name": "Takashi",
         "id": "ur.013160276771.49",
         "last_name": "Minemoto",
         "research_orgs": [
          "grid.26999.3d",
          "grid.262576.2",
          "grid.419082.6"
         ]
        },
        {
         "count": 18,
         "first_name": "Keisuke",
         "id": "ur.013302274160.31",
         "last_name": "Suzuki",
         "research_orgs": [
          "grid.258806.1"
         ]
        },
        {
         "count": 18,
         "first_name": "Qitao",
         "id": "ur.013610067637.26",
         "last_name": "Zhang",
         "research_orgs": [
          "grid.258806.1",
          "grid.268415.c",
          "grid.263488.3"
         ]
        },
        {
         "count": 18,
         "first_name": "Noriaki",
         "id": "ur.014716243671.87",
         "last_name": "Kawaguchi",
         "research_orgs": [
          "grid.480436.d",
          "grid.260493.a",
          "grid.69566.3a"
         ]
        },
        {
         "count": 18,
         "first_name": "Shinsuke",
         "id": "ur.015113266205.12",
         "last_name": "Yasukawa",
         "research_orgs": [
          "grid.258806.1",
          "grid.26999.3d",
          "grid.136593.b"
         ]
        },
        {
         "count": 18,
         "first_name": "Takashi",
         "id": "ur.016004511017.33",
         "last_name": "Yasuda",
         "research_orgs": [
          "grid.258806.1",
          "grid.9851.5",
          "grid.411497.e"
         ]
        },
        {
         "count": 18,
         "first_name": "Norikazu",
         "id": "ur.0736134324.34",
         "last_name": "Nishino",
         "research_orgs": [
          "grid.258806.1",
          "grid.419082.6",
          "grid.136304.3",
          "grid.177174.3",
          "grid.7597.c",
          "grid.411238.d"
         ]
        },
        {
         "count": 18,
         "first_name": "Tomoya",
         "id": "ur.07660576650.58",
         "last_name": "Niho",
         "research_orgs": [
          "grid.258806.1"
         ]
        },
        {
         "count": 17,
         "first_name": "Seiji",
         "id": "ur.010265142521.62",
         "last_name": "Kajihara",
         "research_orgs": [
          "grid.258806.1",
          "grid.260493.a",
          "grid.419082.6",
          "grid.136593.b",
          "grid.257022.0",
          "grid.169077.e"
         ]
        },
        {
         "count": 17,
         "first_name": "Mohammad Tariqul",
         "id": "ur.011265610607.44",
         "last_name": "Islam",
         "orcid_id": [
          "0000-0002-4929-3209"
         ],
         "research_orgs": [
          "grid.258806.1",
          "grid.412113.4",
          "grid.500644.3",
          "grid.413089.7",
          "grid.4777.3",
          "grid.8198.8"
         ]
        },
        {
         "count": 17,
         "first_name": "Hiroshi",
         "id": "ur.01132200670.81",
         "last_name": "Ohtake",
         "research_orgs": [
          "grid.258806.1",
          "grid.266298.1",
          "grid.26009.3d"
         ]
        },
        {
         "count": 17,
         "first_name": "Fumihito",
         "id": "ur.01207371051.01",
         "last_name": "Arai",
         "orcid_id": [
          "0000-0002-2508-1615"
         ],
         "research_orgs": [
          "grid.258269.2",
          "grid.257114.4",
          "grid.31432.37",
          "grid.143643.7",
          "grid.31501.36",
          "grid.419082.6",
          "grid.136593.b",
          "grid.27476.30",
          "grid.64939.31",
          "grid.256115.4",
          "grid.69566.3a"
         ]
        },
        {
         "count": 17,
         "first_name": "Akira",
         "id": "ur.01224320534.48",
         "last_name": "Yoshikawa",
         "research_orgs": [
          "grid.26999.3d",
          "grid.20256.33",
          "grid.11899.38",
          "grid.424881.3",
          "grid.49606.3d",
          "grid.69566.3a"
         ]
        },
        {
         "count": 17,
         "first_name": "Michinori",
         "id": "ur.013640204473.32",
         "last_name": "Nakata",
         "research_orgs": [
          "grid.443364.2",
          "grid.440885.5"
         ]
        },
        {
         "count": 17,
         "first_name": "Hiroyuki",
         "id": "ur.014747246675.66",
         "last_name": "Kurata",
         "research_orgs": [
          "grid.258806.1",
          "grid.26999.3d",
          "grid.133342.4"
         ]
        },
        {
         "count": 17,
         "first_name": "Eiji",
         "id": "ur.015114131505.05",
         "last_name": "Miyano",
         "research_orgs": [
          "grid.258806.1",
          "grid.411241.3",
          "grid.177174.3"
         ]
        },
        {
         "count": 17,
         "first_name": "Shuichi",
         "id": "ur.015446571571.11",
         "last_name": "Kurogi",
         "research_orgs": [
          "grid.258806.1",
          "grid.32197.3e"
         ]
        },
        {
         "count": 17,
         "first_name": "Harutoshi",
         "id": "ur.015601375037.84",
         "last_name": "Hagino",
         "research_orgs": [
          "grid.258806.1"
         ]
        },
        {
         "count": 17,
         "first_name": "Takuo",
         "id": "ur.015717536101.53",
         "last_name": "Yasunaga",
         "orcid_id": [
          "0000-0002-2494-9603"
         ],
         "research_orgs": [
          "grid.258806.1",
          "grid.26999.3d",
          "grid.419082.6"
         ]
        },
        {
         "count": 16,
         "first_name": "Hiroshi",
         "id": "ur.011325041121.67",
         "last_name": "Yamada",
         "orcid_id": [
          "0000-0001-8309-1283"
         ],
         "research_orgs": [
          "grid.258806.1",
          "grid.27476.30"
         ]
        },
        {
         "count": 16,
         "first_name": "Tamaki",
         "id": "ur.01202645642.41",
         "last_name": "Kato",
         "research_orgs": [
          "grid.258806.1",
          "grid.177174.3",
          "grid.419082.6"
         ]
        },
        {
         "count": 16,
         "first_name": "Kazutaka",
         "id": "ur.012416622045.89",
         "last_name": "Shimada",
         "research_orgs": [
          "grid.258806.1"
         ]
        },
        {
         "count": 16,
         "first_name": "Christian",
         "id": "ur.01265363356.41",
         "last_name": "Schönbach",
         "orcid_id": [
          "0000-0002-0693-7617"
         ],
         "research_orgs": [
          "grid.258806.1",
          "grid.26999.3d",
          "grid.26790.3a",
          "grid.418705.f",
          "grid.136593.b",
          "grid.428191.7",
          "grid.274841.c",
          "grid.59025.3b",
          "grid.7597.c",
          "grid.6612.3",
          "grid.419580.1"
         ]
        },
        {
         "count": 16,
         "first_name": "Shuichi",
         "id": "ur.013160633003.10",
         "last_name": "Nagamatsu",
         "orcid_id": [
          "0000-0002-9181-1831"
         ],
         "research_orgs": [
          "grid.258806.1",
          "grid.208504.b"
         ]
        },
        {
         "count": 16,
         "first_name": "Marat",
         "id": "ur.013315474013.52",
         "last_name": "Zhanikeev",
         "research_orgs": [
          "grid.258806.1",
          "grid.5290.e",
          "grid.143643.7",
          "grid.1008.9"
         ]
        },
        {
         "count": 16,
         "first_name": "Venkata Prasad",
         "id": "ur.0706777513.10",
         "last_name": "Jalli",
         "research_orgs": [
          "grid.258806.1"
         ]
        },
        {
         "count": 16,
         "first_name": "Suvratha",
         "id": "ur.0754050264.20",
         "last_name": "Krishnamurthy",
         "research_orgs": [
          "grid.258806.1"
         ]
        },
        {
         "count": 15,
         "first_name": "Masaru",
         "id": "ur.010074027265.36",
         "last_name": "Kiuchi",
         "research_orgs": [
          "grid.258806.1",
          "grid.26999.3d",
          "grid.177174.3",
          "grid.410817.b",
          "grid.419082.6"
         ]
        },
        {
         "count": 15,
         "first_name": "Takahiro",
         "id": "ur.010201401200.87",
         "last_name": "Fujikawa",
         "research_orgs": [
          "grid.258806.1"
         ]
        },
        {
         "count": 15,
         "first_name": "Koichi",
         "id": "ur.011304263045.45",
         "last_name": "Suyama",
         "research_orgs": [
          "grid.412785.d",
          "grid.26999.3d",
          "grid.254124.4"
         ]
        },
        {
         "count": 15,
         "first_name": "Masahiro",
         "id": "ur.012014200007.04",
         "last_name": "Oya",
         "research_orgs": [
          "grid.258806.1",
          "grid.410319.e",
          "grid.257022.0"
         ]
        },
        {
         "count": 15,
         "first_name": "Tomohide",
         "id": "ur.012537450303.56",
         "last_name": "Yabuki",
         "research_orgs": [
          "grid.258806.1",
          "grid.47840.3f",
          "grid.411764.1"
         ]
        },
        {
         "count": 15,
         "first_name": "Masaki",
         "id": "ur.013214050135.04",
         "last_name": "Oshita",
         "research_orgs": [
          "grid.258806.1",
          "grid.177174.3"
         ]
        },
        {
         "count": 15,
         "first_name": "Kouichi",
         "id": "ur.013435033263.67",
         "last_name": "Hirata",
         "research_orgs": [
          "grid.258806.1",
          "grid.39158.36"
         ]
        },
        {
         "count": 15,
         "first_name": "Saburo",
         "id": "ur.014157651405.05",
         "last_name": "Tanaka",
         "research_orgs": [
          "grid.258806.1",
          "grid.260969.2"
         ]
        },
        {
         "count": 15,
         "first_name": "Kazuyuki",
         "id": "ur.015515176003.02",
         "last_name": "Shimizu",
         "research_orgs": [
          "grid.258806.1",
          "grid.26091.3c"
         ]
        },
        {
         "count": 15,
         "first_name": "Chao",
         "id": "ur.07527464641.18",
         "last_name": "Ding",
         "research_orgs": [
          "grid.452941.f",
          "grid.266298.1"
         ]
        },
        {
         "count": 15,
         "first_name": "Wataru",
         "id": "ur.07625661403.45",
         "last_name": "Takashima",
         "research_orgs": [
          "grid.258806.1",
          "grid.163577.1"
         ]
        },
        {
         "count": 15,
         "first_name": "Shinji",
         "id": "ur.07727660141.67",
         "last_name": "Watanabe",
         "research_orgs": [
          "grid.258806.1",
          "grid.26999.3d",
          "grid.136593.b",
          "grid.177174.3"
         ]
        },
        {
         "count": 14,
         "first_name": "Manish",
         "id": "ur.010416773662.27",
         "last_name": "Pandey",
         "orcid_id": [
          "0000-0003-0963-8097"
         ],
         "research_orgs": [
          "grid.258806.1"
         ]
        },
        {
         "count": 14,
         "first_name": "Kousuke",
         "id": "ur.01042142003.28",
         "last_name": "Hanada",
         "orcid_id": [
          "0000-0001-8854-4261"
         ],
         "research_orgs": [
          "grid.258806.1",
          "grid.419082.6",
          "grid.27476.30",
          "grid.288127.6",
          "grid.136304.3",
          "grid.17088.36",
          "grid.7597.c",
          "grid.170205.1"
         ]
        },
        {
         "count": 14,
         "first_name": "Evgeny",
         "id": "ur.01100734414.45",
         "last_name": "Epelbaum",
         "orcid_id": [
          "0000-0002-7613-0210"
         ],
         "research_orgs": [
          "grid.133342.4",
          "grid.8385.6",
          "grid.10388.32",
          "grid.450315.6",
          "grid.5570.7"
         ]
        },
        {
         "count": 14,
         "first_name": "Yasuhiro",
         "id": "ur.011027771463.75",
         "last_name": "Akahoshi",
         "research_orgs": [
          "grid.258806.1"
         ]
        },
        {
         "count": 14,
         "first_name": "Kenichi",
         "id": "ur.011754577675.24",
         "last_name": "Watanabe",
         "research_orgs": [
          "grid.27476.30"
         ]
        },
        {
         "count": 14,
         "first_name": "Masayuki",
         "id": "ur.012211067706.46",
         "last_name": "Takashiri",
         "orcid_id": [
          "0000-0001-7041-6595"
         ],
         "research_orgs": [
          "grid.258806.1",
          "grid.471189.2",
          "grid.265061.6",
          "grid.116068.8"
         ]
        },
        {
         "count": 14,
         "first_name": "Yoshihiko",
         "id": "ur.012542273621.12",
         "last_name": "Takano",
         "orcid_id": [
          "0000-0002-1541-6928"
         ],
         "research_orgs": [
          "grid.26999.3d",
          "grid.39158.36",
          "grid.412773.4",
          "grid.143643.7",
          "grid.419082.6",
          "grid.410592.b",
          "grid.410817.b",
          "grid.267500.6",
          "grid.5290.e",
          "grid.21941.3f",
          "grid.265074.2",
          "grid.15276.37",
          "grid.268441.d",
          "grid.32197.3e",
          "grid.265050.4",
          "grid.20515.33",
          "grid.69566.3a"
         ]
        },
        {
         "count": 14,
         "first_name": "Teresa S",
         "id": "ur.01314463063.90",
         "last_name": "Ripolles",
         "orcid_id": [
          "0000-0002-0451-176X"
         ],
         "research_orgs": [
          "grid.258806.1",
          "grid.9612.c"
         ]
        },
        {
         "count": 14,
         "first_name": "Gaku",
         "id": "ur.013156616165.70",
         "last_name": "Sasaki",
         "research_orgs": [
          "grid.258806.1"
         ]
        },
        {
         "count": 14,
         "first_name": "Masayuki",
         "id": "ur.013456204607.82",
         "last_name": "Watanabe",
         "research_orgs": [
          "grid.258806.1",
          "grid.136593.b"
         ]
        },
        {
         "count": 14,
         "first_name": "Kazuki",
         "id": "ur.013472653743.81",
         "last_name": "Tsuruta",
         "orcid_id": [
          "0000-0003-1292-9696"
         ],
         "research_orgs": [
          "grid.258806.1",
          "grid.410592.b"
         ]
        },
        {
         "count": 14,
         "first_name": "Kazunori",
         "id": "ur.014463520520.69",
         "last_name": "Hasegawa",
         "research_orgs": [
          "grid.258806.1",
          "grid.32197.3e"
         ]
        },
        {
         "count": 14,
         "first_name": "Tomiko",
         "id": "ur.014706315511.01",
         "last_name": "Yamaguchi",
         "research_orgs": [
          "grid.258806.1"
         ]
        },
        {
         "count": 14,
         "first_name": "Kazushige",
         "id": "ur.015235120047.48",
         "last_name": "Ueda",
         "orcid_id": [
          "0000-0002-4527-799X"
         ],
         "research_orgs": [
          "grid.258806.1",
          "grid.32197.3e",
          "grid.419082.6"
         ]
        },
        {
         "count": 14,
         "first_name": "Teruo",
         "id": "ur.015261250732.69",
         "last_name": "Matsushita",
         "research_orgs": [
          "grid.258806.1",
          "grid.26999.3d",
          "grid.419082.6",
          "grid.14095.39",
          "grid.410817.b",
          "grid.177174.3",
          "grid.32197.3e",
          "grid.412334.3"
         ]
        },
        {
         "count": 14,
         "first_name": "Takahiro",
         "id": "ur.016057035611.17",
         "last_name": "Okabe",
         "research_orgs": [
          "grid.258806.1",
          "grid.26999.3d",
          "grid.250343.3"
         ]
        },
        {
         "count": 14,
         "first_name": "Naoki",
         "id": "ur.0660657216.32",
         "last_name": "Nakashima",
         "research_orgs": [
          "grid.177174.3",
          "grid.411248.a",
          "grid.410914.9"
         ]
        },
        {
         "count": 14,
         "first_name": "Takeshi",
         "id": "ur.07547774471.33",
         "last_name": "Saitoh",
         "orcid_id": [
          "0000-0001-8844-9707"
         ],
         "research_orgs": [
          "grid.258806.1",
          "grid.265107.7",
          "grid.412804.b"
         ]
        },
        {
         "count": 13,
         "first_name": "Emiko",
         "id": "ur.01000075176.85",
         "last_name": "Mouri",
         "research_orgs": [
          "grid.258806.1",
          "grid.459878.f",
          "grid.258799.8"
         ]
        },
        {
         "count": 13,
         "first_name": "Kazumasa",
         "id": "ur.010303570461.09",
         "last_name": "Nishio",
         "research_orgs": [
          "grid.258806.1",
          "grid.444302.5"
         ]
        },
        {
         "count": 13,
         "first_name": "Thongchart",
         "id": "ur.011135745545.14",
         "last_name": "Kerdphol",
         "orcid_id": [
          "0000-0002-4782-1207"
         ],
         "research_orgs": [
          "grid.258806.1",
          "grid.9723.f"
         ]
        },
        {
         "count": 13,
         "first_name": "Blair",
         "id": "ur.011156214225.45",
         "last_name": "Thornton",
         "research_orgs": [
          "grid.26999.3d",
          "grid.5491.9",
          "grid.5333.6"
         ]
        },
        {
         "count": 13,
         "first_name": "Kazumasa",
         "id": "ur.011464030011.85",
         "last_name": "Miyake",
         "research_orgs": [
          "grid.470014.6",
          "grid.136593.b",
          "grid.457339.f",
          "grid.27476.30",
          "grid.9621.c",
          "grid.12082.39",
          "grid.431860.8",
          "grid.69566.3a"
         ]
        },
        {
         "count": 13,
         "first_name": "Yuji",
         "id": "ur.011622025011.30",
         "last_name": "Oie",
         "research_orgs": [
          "grid.258806.1",
          "grid.472232.2",
          "grid.33489.35",
          "grid.260493.a",
          "grid.28312.3a",
          "grid.177174.3",
          "grid.258799.8"
         ]
        },
        {
         "count": 13,
         "first_name": "Panart",
         "id": "ur.013010641604.70",
         "last_name": "Khajornrungruang",
         "research_orgs": [
          "grid.258806.1",
          "grid.136593.b"
         ]
        },
        {
         "count": 13,
         "first_name": "Akira",
         "id": "ur.013265323332.30",
         "last_name": "Asada",
         "research_orgs": [
          "grid.26999.3d",
          "grid.5290.e"
         ]
        },
        {
         "count": 13,
         "first_name": "Masaaki",
         "id": "ur.014543122110.97",
         "last_name": "Takezawa",
         "research_orgs": [
          "grid.258806.1",
          "grid.69566.3a"
         ]
        },
        {
         "count": 13,
         "first_name": "Nobuya",
         "id": "ur.014572317225.75",
         "last_name": "Shinozaki",
         "research_orgs": [
          "grid.258806.1",
          "grid.177174.3"
         ]
        },
        {
         "count": 13,
         "first_name": "Seiichi",
         "id": "ur.015351053062.29",
         "last_name": "Murakami",
         "research_orgs": [
          "grid.258806.1",
          "grid.271052.3"
         ]
        },
        {
         "count": 13,
         "first_name": "Koichi",
         "id": "ur.015735065123.97",
         "last_name": "Kikkawa",
         "research_orgs": [
          "grid.258806.1"
         ]
        },
        {
         "count": 13,
         "first_name": "Ravi Nath",
         "id": "ur.016470055311.40",
         "last_name": "Tripathi",
         "research_orgs": [
          "grid.258806.1",
          "grid.440678.9"
         ]
        },
        {
         "count": 12,
         "first_name": "Takayuki",
         "id": "ur.010221010645.24",
         "last_name": "Tajiri",
         "research_orgs": [
          "grid.258806.1",
          "grid.411497.e"
         ]
        },
        {
         "count": 12,
         "first_name": "Suwarno",
         "id": "ur.010354216167.42",
         "last_name": "Suwarno",
         "research_orgs": [
          "grid.440753.1",
          "grid.444517.7",
          "grid.27476.30",
          "grid.444191.d",
          "grid.444380.f",
          "grid.430704.4",
          "grid.5947.f",
          "grid.473352.4",
          "grid.434933.a",
          "grid.444192.e"
         ]
        },
        {
         "count": 12,
         "first_name": "Jonghyun",
         "id": "ur.010527406001.37",
         "last_name": "Ahn",
         "research_orgs": [
          "grid.258806.1"
         ]
        },
        {
         "count": 12,
         "first_name": "Akihiro",
         "id": "ur.011105041153.36",
         "last_name": "Hayashi",
         "research_orgs": [
          "grid.258806.1"
         ]
        },
        {
         "count": 12,
         "first_name": "Shrikant",
         "id": "ur.011522456611.01",
         "last_name": "Saini",
         "research_orgs": [
          "grid.420014.3",
          "grid.257022.0",
          "grid.411277.6",
          "grid.223827.e"
         ]
        },
        {
         "count": 12,
         "first_name": "Kohei",
         "id": "ur.011553111001.30",
         "last_name": "Miyase",
         "research_orgs": [
          "grid.258806.1",
          "grid.260493.a",
          "grid.5963.9",
          "grid.419082.6"
         ]
        },
        {
         "count": 12,
         "first_name": "Feng",
         "id": "ur.011766475103.41",
         "last_name": "Liu",
         "research_orgs": [
          "grid.266298.1"
         ]
        },
        {
         "count": 12,
         "first_name": "Koji",
         "id": "ur.012105315271.28",
         "last_name": "Mori",
         "research_orgs": [
          "grid.258799.8",
          "grid.268397.1"
         ]
        },
        {
         "count": 12,
         "first_name": "Kiyohisa",
         "id": "ur.012514220745.56",
         "last_name": "Natsume",
         "research_orgs": [
          "grid.258806.1",
          "grid.26999.3d",
          "grid.22072.35"
         ]
        },
        {
         "count": 12,
         "first_name": "Yoichi",
         "id": "ur.01266467252.06",
         "last_name": "Horibe",
         "research_orgs": [
          "grid.258806.1",
          "grid.261455.1",
          "grid.469490.6",
          "grid.136593.b",
          "grid.430387.b",
          "grid.5290.e",
          "grid.76978.37"
         ]
        },
        {
         "count": 12,
         "first_name": "Tatsujiro",
         "id": "ur.012702307674.35",
         "last_name": "Miyazaki",
         "research_orgs": [
          "grid.177174.3",
          "grid.267625.2"
         ]
        },
        {
         "count": 12,
         "first_name": "Akihiko",
         "id": "ur.01300506353.55",
         "last_name": "Matsuyama",
         "research_orgs": [
          "grid.258806.1"
         ]
        },
        {
         "count": 12,
         "first_name": "Motohumi",
         "id": "ur.013016502302.00",
         "last_name": "Yoshida",
         "orcid_id": [
          "0000-0002-4376-5674"
         ],
         "research_orgs": [
          "grid.26999.3d",
          "grid.5386.8",
          "grid.474688.1",
          "grid.263023.6",
          "grid.260493.a",
          "grid.415016.7",
          "grid.419082.6",
          "grid.411951.9",
          "grid.480536.c",
          "grid.418110.d",
          "grid.486756.e",
          "grid.14003.36",
          "grid.265073.5",
          "grid.480288.e",
          "grid.136304.3",
          "grid.410804.9",
          "grid.264706.1",
          "grid.412755.0",
          "grid.7597.c",
          "grid.419748.7",
          "grid.420122.7"
         ]
        },
        {
         "count": 12,
         "first_name": "Aoi",
         "id": "ur.014512005745.07",
         "last_name": "Honda",
         "orcid_id": [
          "0000-0002-4485-1523"
         ],
         "research_orgs": [
          "grid.258806.1",
          "grid.10988.38"
         ]
        },
        {
         "count": 12,
         "first_name": "Katsuya",
         "id": "ur.014717671563.31",
         "last_name": "Nagayama",
         "research_orgs": [
          "grid.258806.1"
         ]
        },
        {
         "count": 12,
         "first_name": "Tetsuya",
         "id": "ur.014747503075.91",
         "last_name": "Haruyama",
         "research_orgs": [
          "grid.258806.1",
          "grid.32197.3e",
          "grid.419082.6"
         ]
        },
        {
         "count": 12,
         "first_name": "Motoki",
         "id": "ur.015045455451.47",
         "last_name": "Miura",
         "orcid_id": [
          "0000-0002-7579-9449"
         ],
         "research_orgs": [
          "grid.258806.1",
          "grid.444515.5",
          "grid.20515.33"
         ]
        },
        {
         "count": 12,
         "first_name": "Toshiharu",
         "id": "ur.015115741735.38",
         "last_name": "Mukai",
         "research_orgs": [
          "grid.7597.c",
          "grid.259879.8"
         ]
        },
        {
         "count": 12,
         "first_name": "Makoto",
         "id": "ur.015326226575.37",
         "last_name": "Takenaka",
         "research_orgs": [
          "grid.258806.1"
         ]
        },
        {
         "count": 12,
         "first_name": "Yoshio",
         "id": "ur.015620764653.53",
         "last_name": "Mizugaki",
         "research_orgs": [
          "grid.258806.1",
          "grid.265125.7"
         ]
        },
        {
         "count": 12,
         "first_name": "Hideo",
         "id": "ur.016070002373.11",
         "last_name": "Hirose",
         "research_orgs": [
          "grid.258806.1",
          "grid.177174.3",
          "grid.417545.6"
         ]
        },
        {
         "count": 12,
         "first_name": "Shun",
         "id": "ur.016540272047.15",
         "last_name": "Miura",
         "orcid_id": [
          "0000-0003-2841-286X"
         ],
         "research_orgs": [
          "grid.177174.3",
          "grid.27476.30"
         ]
        },
        {
         "count": 12,
         "first_name": "Yasunobu",
         "id": "ur.0725002653.30",
         "last_name": "Nohara",
         "orcid_id": [
          "0000-0002-2805-6597"
         ],
         "research_orgs": [
          "grid.177174.3",
          "grid.411248.a"
         ]
        },
        {
         "count": 11,
         "first_name": "Huawei",
         "id": "ur.01032044123.37",
         "last_name": "Zhou",
         "research_orgs": [
          "grid.411351.3",
          "grid.30055.33"
         ]
        },
        {
         "count": 11,
         "first_name": "Vladimir S",
         "id": "ur.010555711123.21",
         "last_name": "Vyatkin",
         "research_orgs": [
          "grid.258806.1",
          "grid.254217.7",
          "grid.26999.3d",
          "grid.419082.6"
         ]
        },
        {
         "count": 11,
         "first_name": "Youichi",
         "id": "ur.010647623656.74",
         "last_name": "Shimizu",
         "orcid_id": [
          "0000-0002-2597-4608"
         ],
         "research_orgs": [
          "grid.258806.1",
          "grid.177174.3"
         ]
        },
        {
         "count": 11,
         "first_name": "Minato",
         "id": "ur.01145375305.09",
         "last_name": "Wakisaka",
         "research_orgs": [
          "grid.258806.1"
         ]
        },
        {
         "count": 11,
         "first_name": "Yuta",
         "id": "ur.011566453257.48",
         "last_name": "Hanazawa",
         "research_orgs": [
          "grid.258806.1",
          "grid.32197.3e"
         ]
        },
        {
         "count": 11,
         "first_name": "Muhammad Akmal Kamarudin",
         "id": "ur.011773542351.82",
         "last_name": "Kamarudin",
         "orcid_id": [
          "0000-0002-2256-5948"
         ],
         "research_orgs": [
          "grid.258806.1",
          "grid.10347.31",
          "grid.5335.0"
         ]
        },
        {
         "count": 11,
         "first_name": "Hong",
         "id": "ur.01214405723.68",
         "last_name": "Zhang",
         "orcid_id": [
          "0000-0002-5321-0680"
         ],
         "research_orgs": [
          "grid.194645.b",
          "grid.30055.33",
          "grid.453213.2"
         ]
        },
        {
         "count": 11,
         "first_name": "Bin",
         "id": "ur.012446162057.13",
         "last_name": "Xu",
         "research_orgs": [
          "grid.258806.1",
          "grid.268415.c"
         ]
        },
        {
         "count": 11,
         "first_name": "Jong-Hoon",
         "id": "ur.012627462037.62",
         "last_name": "Huh",
         "research_orgs": [
          "grid.258806.1",
          "grid.177174.3"
         ]
        },
        {
         "count": 11,
         "first_name": "Yasuhiro",
         "id": "ur.01263452520.47",
         "last_name": "Fukuma",
         "research_orgs": [
          "grid.258806.1",
          "grid.474689.0",
          "grid.474688.1",
          "grid.268397.1",
          "grid.7597.c",
          "grid.452759.8"
         ]
        },
        {
         "count": 11,
         "first_name": "Mao",
         "id": "ur.013327331346.02",
         "last_name": "Wu",
         "research_orgs": [
          "grid.258806.1"
         ]
        },
        {
         "count": 11,
         "first_name": "Kenji",
         "id": "ur.013554011561.50",
         "last_name": "Katayama",
         "orcid_id": [
          "0000-0003-3278-6485"
         ],
         "research_orgs": [
          "grid.419705.e",
          "grid.26999.3d",
          "grid.443595.a",
          "grid.116068.8",
          "grid.419082.6"
         ]
        },
        {
         "count": 11,
         "first_name": "Hidenori",
         "id": "ur.014256063615.97",
         "last_name": "Era",
         "research_orgs": [
          "grid.258806.1",
          "grid.177174.3"
         ]
        },
        {
         "count": 11,
         "first_name": "Masashi",
         "id": "ur.014310336431.75",
         "last_name": "Tanaka",
         "orcid_id": [
          "0000-0002-4323-5999"
         ],
         "research_orgs": [
          "grid.258806.1",
          "grid.21941.3f",
          "grid.257022.0"
         ]
        },
        {
         "count": 11,
         "first_name": "Yuhei",
         "id": "ur.015604665051.78",
         "last_name": "Shimizu",
         "orcid_id": [
          "0000-0003-0502-0484"
         ],
         "research_orgs": [
          "grid.258806.1",
          "grid.208504.b"
         ]
        },
        {
         "count": 11,
         "first_name": "Teruo",
         "id": "ur.015634502675.89",
         "last_name": "Murakami",
         "research_orgs": [
          "grid.177174.3",
          "grid.264706.1"
         ]
        },
        {
         "count": 11,
         "first_name": "Yasuo",
         "id": "ur.016632313553.51",
         "last_name": "Sato",
         "research_orgs": [
          "grid.258806.1",
          "grid.26999.3d",
          "grid.419082.6"
         ]
        },
        {
         "count": 11,
         "first_name": "Daiki",
         "id": "ur.07644474375.26",
         "last_name": "Nobayashi",
         "research_orgs": [
          "grid.258806.1"
         ]
        },
        {
         "count": 10,
         "first_name": "Huan",
         "id": "ur.010023433567.44",
         "last_name": "Li",
         "research_orgs": [
          "grid.258806.1"
         ]
        },
        {
         "count": 10,
         "first_name": "Kazuyuki",
         "id": "ur.010076320231.66",
         "last_name": "Matsuhira",
         "research_orgs": [
          "grid.258806.1",
          "grid.39158.36",
          "grid.31432.37",
          "grid.136593.b"
         ]
        },
        {
         "count": 10,
         "first_name": "Daisuke",
         "id": "ur.010207475623.17",
         "last_name": "Hirotani",
         "research_orgs": [
          "grid.258806.1",
          "grid.257022.0",
          "grid.410849.0",
          "grid.412155.6"
         ]
        },
        {
         "count": 10,
         "first_name": "Chi Huey",
         "id": "ur.010410655003.51",
         "last_name": "Ng",
         "research_orgs": [
          "grid.258806.1",
          "grid.11142.37"
         ]
        },
        {
         "count": 10,
         "first_name": "Yu",
         "id": "ur.01100627166.78",
         "last_name": "Matsuoka",
         "research_orgs": [
          "grid.258806.1"
         ]
        },
        {
         "count": 10,
         "first_name": "Satoshi",
         "id": "ur.01115412342.10",
         "last_name": "Hayakawa",
         "research_orgs": [
          "grid.258799.8",
          "grid.5596.f",
          "grid.261356.5"
         ]
        },
        {
         "count": 10,
         "first_name": "Yingyuan",
         "id": "ur.011465310313.22",
         "last_name": "Zhao",
         "research_orgs": [
          "grid.30055.33",
          "grid.454879.3"
         ]
        },
        {
         "count": 10,
         "first_name": "Jun'Ichi",
         "id": "ur.01157723334.35",
         "last_name": "Sakai",
         "research_orgs": [
          "grid.5290.e"
         ]
        },
        {
         "count": 10,
         "first_name": "Nobuo",
         "id": "ur.011700772651.70",
         "last_name": "Kuwabara",
         "research_orgs": [
          "grid.258806.1",
          "grid.419819.c"
         ]
        },
        {
         "count": 10,
         "first_name": "Noriyuki",
         "id": "ur.01205604762.13",
         "last_name": "Sakata",
         "research_orgs": [
          "grid.411497.e",
          "grid.274841.c",
          "grid.136593.b",
          "grid.271052.3",
          "grid.256642.1"
         ]
        },
        {
         "count": 10,
         "first_name": "Yuichi",
         "id": "ur.012057337010.13",
         "last_name": "Asahiro",
         "research_orgs": [
          "grid.411241.3",
          "grid.177174.3",
          "grid.258799.8"
         ]
        },
        {
         "count": 10,
         "first_name": "Masanori",
         "id": "ur.012104164115.20",
         "last_name": "Takabayashi",
         "research_orgs": [
          "grid.258806.1",
          "grid.411030.7",
          "grid.39158.36",
          "grid.35403.31"
         ]
        },
        {
         "count": 10,
         "first_name": "Takatoshi",
         "id": "ur.012316714654.84",
         "last_name": "Aoki",
         "research_orgs": [
          "grid.271052.3",
          "grid.268394.2",
          "grid.31432.37"
         ]
        },
        {
         "count": 10,
         "first_name": "Daiki",
         "id": "ur.012377325341.30",
         "last_name": "Muto",
         "research_orgs": [
          "grid.258806.1"
         ]
        },
        {
         "count": 10,
         "first_name": "Shunsuke",
         "id": "ur.01240112276.02",
         "last_name": "Aoki",
         "research_orgs": [
          "grid.258806.1",
          "grid.453049.f",
          "grid.419082.6",
          "grid.136593.b",
          "grid.419280.6",
          "grid.252427.4"
         ]
        },
        {
         "count": 10,
         "first_name": "Yanqiang",
         "id": "ur.012746435604.12",
         "last_name": "Li",
         "research_orgs": [
          "grid.30055.33"
         ]
        },
        {
         "count": 10,
         "first_name": "Akihiro",
         "id": "ur.013076512757.17",
         "last_name": "Tsuruta",
         "orcid_id": [
          "0000-0003-0674-3377"
         ],
         "research_orgs": [
          "grid.208504.b",
          "grid.27476.30"
         ]
        },
        {
         "count": 10,
         "first_name": "Iori",
         "id": "ur.01310200301.63",
         "last_name": "Maeda",
         "research_orgs": [
          "grid.258806.1",
          "grid.177174.3",
          "grid.419082.6"
         ]
        },
        {
         "count": 10,
         "first_name": "Satoshi",
         "id": "ur.01327000051.09",
         "last_name": "Fujii",
         "research_orgs": [
          "grid.258806.1"
         ]
        },
        {
         "count": 10,
         "first_name": "Yaser Soliman",
         "id": "ur.014103311637.08",
         "last_name": "Qudaih",
         "research_orgs": [
          "grid.258806.1",
          "grid.274841.c",
          "grid.444938.6",
          "grid.448899.0"
         ]
        },
        {
         "count": 10,
         "first_name": "Takahisa",
         "id": "ur.014231701411.82",
         "last_name": "Ueno",
         "research_orgs": [
          "grid.258806.1",
          "grid.274841.c",
          "grid.419865.7",
          "grid.482504.f"
         ]
        },
        {
         "count": 10,
         "first_name": "Shota",
         "id": "ur.014660523237.32",
         "last_name": "Nakashima",
         "research_orgs": [
          "grid.258806.1",
          "grid.471761.2",
          "grid.413010.7",
          "grid.472121.3",
          "grid.268397.1"
         ]
        },
        {
         "count": 10,
         "first_name": "Stefan",
         "id": "ur.016215117615.06",
         "last_name": "Holst",
         "research_orgs": [
          "grid.258806.1",
          "grid.5719.a"
         ]
        },
        {
         "count": 10,
         "first_name": "Shota",
         "id": "ur.016470642663.43",
         "last_name": "Chikushi",
         "research_orgs": [
          "grid.258806.1",
          "grid.444554.0"
         ]
        },
        {
         "count": 10,
         "first_name": "Kai",
         "id": "ur.0673134527.70",
         "last_name": "Wang",
         "research_orgs": [
          "grid.30055.33"
         ]
        },
        {
         "count": 9,
         "first_name": "Takeru",
         "id": "ur.010002742625.66",
         "last_name": "Nose",
         "research_orgs": [
          "grid.258806.1",
          "grid.177174.3"
         ]
        },
        {
         "count": 9,
         "first_name": "Qingshun",
         "id": "ur.01007363127.05",
         "last_name": "Dong",
         "orcid_id": [
          "0000-0001-9498-2399"
         ],
         "research_orgs": [
          "grid.30055.33",
          "grid.12527.33"
         ]
        },
        {
         "count": 9,
         "first_name": "Takanori",
         "id": "ur.010124167565.19",
         "last_name": "Kitamura",
         "research_orgs": [
          "grid.258806.1"
         ]
        },
        {
         "count": 9,
         "first_name": "Hiroyuki",
         "id": "ur.010212206615.18",
         "last_name": "Takeya",
         "research_orgs": [
          "grid.7597.c",
          "grid.26999.3d",
          "grid.21941.3f",
          "grid.69566.3a",
          "grid.419082.6"
         ]
        },
        {
         "count": 9,
         "first_name": "Yoshimasa",
         "id": "ur.010410746561.63",
         "last_name": "Takabatake",
         "research_orgs": [
          "grid.258806.1"
         ]
        },
        {
         "count": 9,
         "first_name": "Kiyoshi",
         "id": "ur.01047375070.86",
         "last_name": "Ezawa",
         "orcid_id": [
          "0000-0003-4906-8578"
         ],
         "research_orgs": [
          "grid.258806.1",
          "grid.275033.0",
          "grid.136593.b",
          "grid.288127.6",
          "grid.258799.8",
          "grid.266436.3"
         ]
        },
        {
         "count": 9,
         "first_name": "Naoki",
         "id": "ur.010752347543.56",
         "last_name": "Nakazawa",
         "research_orgs": [
          "grid.266298.1"
         ]
        },
        {
         "count": 9,
         "first_name": "Shuichi",
         "id": "ur.011031121103.88",
         "last_name": "Ishida",
         "orcid_id": [
          "0000-0003-4221-1220"
         ],
         "research_orgs": [
          "grid.258806.1",
          "grid.208504.b",
          "grid.412586.c"
         ]
        },
        {
         "count": 9,
         "first_name": "Takeshi",
         "id": "ur.011270250211.84",
         "last_name": "Tachibana",
         "research_orgs": [
          "grid.258806.1"
         ]
        },
        {
         "count": 9,
         "first_name": "Chikara",
         "id": "ur.01134641767.02",
         "last_name": "Ohtsuki",
         "orcid_id": [
          "0000-0002-6474-1540"
         ],
         "research_orgs": [
          "grid.258806.1",
          "grid.260493.a",
          "grid.419025.b",
          "grid.27476.30",
          "grid.261356.5",
          "grid.19006.3e",
          "grid.258799.8"
         ]
        },
        {
         "count": 9,
         "first_name": "Yoshichika",
         "id": "ur.011405307261.05",
         "last_name": "Otani",
         "research_orgs": [
          "grid.4444.0",
          "grid.26999.3d",
          "grid.474689.0",
          "grid.31432.37",
          "grid.474688.1",
          "grid.419082.6",
          "grid.26091.3c",
          "grid.7597.c",
          "grid.5685.e",
          "grid.69775.3a",
          "grid.7645.0",
          "grid.8217.c",
          "grid.452759.8",
          "grid.69566.3a"
         ]
        },
        {
         "count": 9,
         "first_name": "Hermann",
         "id": "ur.01147047614.22",
         "last_name": "Krebs",
         "research_orgs": [
          "grid.133342.4",
          "grid.8385.6",
          "grid.10388.32",
          "grid.5570.7"
         ]
        },
        {
         "count": 9,
         "first_name": "N Orikazu",
         "id": "ur.011574020273.06",
         "last_name": "Ikoma",
         "research_orgs": [
          "grid.258806.1",
          "grid.257114.4",
          "grid.275033.0",
          "grid.418987.b",
          "grid.444271.0"
         ]
        },
        {
         "count": 9,
         "first_name": "Akihiro",
         "id": "ur.011603116140.03",
         "last_name": "Imakiire",
         "research_orgs": [
          "grid.258806.1",
          "grid.258333.c"
         ]
        },
        {
         "count": 9,
         "first_name": "Naotaka",
         "id": "ur.011615051345.82",
         "last_name": "Fujikawa",
         "research_orgs": [
          "grid.258806.1"
         ]
        },
        {
         "count": 9,
         "first_name": "Satoshi",
         "id": "ur.011626664065.54",
         "last_name": "Matsumoto",
         "research_orgs": [
          "grid.258806.1"
         ]
        },
        {
         "count": 9,
         "first_name": "Yaser Soilman",
         "id": "ur.011636171157.17",
         "last_name": "Qudaih",
         "research_orgs": [
          "grid.258806.1",
          "grid.79011.3e"
         ]
        },
        {
         "count": 9,
         "first_name": "Hiroshi",
         "id": "ur.011737345651.06",
         "last_name": "Ohtani",
         "research_orgs": [
          "grid.258806.1",
          "grid.419082.6",
          "grid.69566.3a"
         ]
        },
        {
         "count": 9,
         "first_name": "Yoshiyuki",
         "id": "ur.01207566671.94",
         "last_name": "Takatsuji",
         "research_orgs": [
          "grid.258806.1",
          "grid.419082.6"
         ]
        },
        {
         "count": 9,
         "first_name": "Yoichi",
         "id": "ur.012100301131.20",
         "last_name": "Sato",
         "research_orgs": [
          "grid.26999.3d",
          "grid.147455.6"
         ]
        },
        {
         "count": 9,
         "first_name": "Subbian",
         "id": "ur.012361742421.18",
         "last_name": "Karuppuchamy",
         "research_orgs": [
          "grid.256342.4",
          "grid.411312.4",
          "grid.258806.1",
          "grid.258622.9",
          "grid.11142.37"
         ]
        },
        {
         "count": 9,
         "first_name": "Rei",
         "id": "ur.012500411227.59",
         "last_name": "Takaki",
         "research_orgs": [
          "grid.258806.1"
         ]
        },
        {
         "count": 9,
         "first_name": "Alok Kumar",
         "id": "ur.013001171211.02",
         "last_name": "Jha",
         "research_orgs": [
          "grid.258806.1"
         ]
        },
        {
         "count": 9,
         "first_name": "Tamotsu",
         "id": "ur.013115361527.05",
         "last_name": "Ninomiya",
         "research_orgs": [
          "grid.411497.e",
          "grid.412586.c",
          "grid.177174.3",
          "grid.471432.7",
          "grid.174567.6"
         ]
        },
        {
         "count": 9,
         "first_name": "Kazushi",
         "id": "ur.01314151030.28",
         "last_name": "Ikeda",
         "orcid_id": [
          "0000-0003-3330-6121"
         ],
         "research_orgs": [
          "grid.26999.3d",
          "grid.260493.a",
          "grid.419082.6",
          "grid.258803.4",
          "grid.418163.9",
          "grid.258799.8",
          "grid.9707.9"
         ]
        },
        {
         "count": 9,
         "first_name": "Kazuhiro",
         "id": "ur.013253376622.28",
         "last_name": "Tominaga",
         "research_orgs": [
          "grid.258806.1",
          "grid.411238.d",
          "grid.174567.6",
          "grid.4714.6"
         ]
        },
        {
         "count": 9,
         "first_name": "Masamichi",
         "id": "ur.013407400701.15",
         "last_name": "Naitoh",
         "research_orgs": [
          "grid.258806.1",
          "grid.136593.b"
         ]
        },
        {
         "count": 9,
         "first_name": "I",
         "id": "ur.013444503011.96",
         "last_name": "Tomohiro",
         "research_orgs": [
          "grid.258806.1",
          "grid.5675.1",
          "grid.177174.3",
          "grid.54432.34"
         ]
        },
        {
         "count": 9,
         "first_name": "Bin",
         "id": "ur.013677302533.09",
         "last_name": "Huang",
         "research_orgs": [
          "grid.258806.1",
          "grid.13402.34"
         ]
        },
        {
         "count": 9,
         "first_name": "Kazuya",
         "id": "ur.014010043147.52",
         "last_name": "Matsuo",
         "research_orgs": [
          "grid.258806.1"
         ]
        },
        {
         "count": 9,
         "first_name": "Nobuhito",
         "id": "ur.014201431344.97",
         "last_name": "Kamei"
        },
        {
         "count": 9,
         "first_name": "Touhidul",
         "id": "ur.014375622500.25",
         "last_name": "Alam",
         "orcid_id": [
          "0000-0001-8856-1213"
         ],
         "research_orgs": [
          "grid.412113.4",
          "grid.442959.7",
          "grid.500644.3",
          "grid.413089.7",
          "grid.29857.31",
          "grid.411512.2",
          "grid.8198.8"
         ]
        },
        {
         "count": 9,
         "first_name": "Yuzo",
         "id": "ur.014626567001.92",
         "last_name": "Taenaka",
         "research_orgs": [
          "grid.26999.3d",
          "grid.260493.a"
         ]
        },
        {
         "count": 9,
         "first_name": "Adrian",
         "id": "ur.014657146142.61",
         "last_name": "Bodenmann",
         "research_orgs": [
          "grid.26999.3d",
          "grid.5333.6"
         ]
        },
        {
         "count": 9,
         "first_name": "Shinji",
         "id": "ur.014674436545.05",
         "last_name": "Ishibe",
         "research_orgs": [
          "grid.258806.1",
          "grid.177174.3",
          "grid.462605.3",
          "grid.462926.d"
         ]
        },
        {
         "count": 9,
         "first_name": "Kenji",
         "id": "ur.014677422535.55",
         "last_name": "Nagahashi",
         "research_orgs": [
          "grid.26999.3d",
          "grid.471774.6"
         ]
        },
        {
         "count": 9,
         "first_name": "Katsuya",
         "id": "ur.015042513561.53",
         "last_name": "Inoue",
         "research_orgs": [
          "grid.26999.3d",
          "grid.410786.c",
          "grid.261455.1",
          "grid.275033.0",
          "grid.136593.b",
          "grid.8195.5",
          "grid.462034.7",
          "grid.467196.b",
          "grid.257022.0",
          "grid.412761.7",
          "grid.69566.3a"
         ]
        },
        {
         "count": 9,
         "first_name": "Makoto",
         "id": "ur.015111520042.10",
         "last_name": "Asahara",
         "orcid_id": [
          "0000-0002-0505-6439"
         ],
         "research_orgs": [
          "grid.256342.4",
          "grid.252311.6"
         ]
        },
        {
         "count": 9,
         "first_name": "Jun",
         "id": "ur.015177016431.37",
         "last_name": "Akimitsu",
         "research_orgs": [
          "grid.26999.3d",
          "grid.143643.7",
          "grid.31432.37",
          "grid.20256.33",
          "grid.419082.6",
          "grid.136593.b",
          "grid.261356.5",
          "grid.267500.6",
          "grid.257022.0",
          "grid.467196.b",
          "grid.252311.6",
          "grid.20515.33",
          "grid.69566.3a"
         ]
        },
        {
         "count": 9,
         "first_name": "Hirokazu",
         "id": "ur.015213204141.87",
         "last_name": "Masui",
         "research_orgs": [
          "grid.258806.1"
         ]
        },
        {
         "count": 9,
         "first_name": "Hirohisa",
         "id": "ur.015230506045.34",
         "last_name": "Isogai",
         "research_orgs": [
          "grid.258806.1",
          "grid.411241.3"
         ]
        },
        {
         "count": 9,
         "first_name": "Ahmad Amiruddin Mohd",
         "id": "ur.015676257674.91",
         "last_name": "Ali",
         "research_orgs": [
          "grid.258806.1",
          "grid.11142.37"
         ]
        },
        {
         "count": 9,
         "first_name": "M Tsuchie M",
         "id": "ur.016021402637.80",
         "last_name": "Tsuchie",
         "research_orgs": [
          "grid.258806.1",
          "grid.462605.3"
         ]
        },
        {
         "count": 9,
         "first_name": "Yuui",
         "id": "ur.016124174055.47",
         "last_name": "Yokota",
         "research_orgs": [
          "grid.268394.2",
          "grid.424881.3",
          "grid.69566.3a"
         ]
        },
        {
         "count": 9,
         "first_name": "Umar",
         "id": "ur.016152620625.98",
         "last_name": "Khayam",
         "research_orgs": [
          "grid.258806.1",
          "grid.434933.a"
         ]
        },
        {
         "count": 9,
         "first_name": "Tsutomu",
         "id": "ur.016302765576.20",
         "last_name": "Sasao",
         "research_orgs": [
          "grid.258806.1",
          "grid.136593.b",
          "grid.443704.0",
          "grid.411764.1",
          "grid.1108.8"
         ]
        },
        {
         "count": 9,
         "first_name": "Hiroyuki",
         "id": "ur.0615727665.20",
         "last_name": "Miyamoto",
         "research_orgs": [
          "grid.258806.1",
          "grid.26999.3d",
          "grid.419082.6",
          "grid.136593.b",
          "grid.418163.9",
          "grid.7597.c",
          "grid.474690.8"
         ]
        },
        {
         "count": 9,
         "first_name": "Hiroyasu",
         "id": "ur.0653230527.79",
         "last_name": "Kanetaka",
         "research_orgs": [
          "grid.20515.33",
          "grid.69566.3a"
         ]
        },
        {
         "count": 9,
         "first_name": "Sai Sai",
         "id": "ur.07526373257.25",
         "last_name": "Yuan",
         "research_orgs": [
          "grid.258806.1",
          "grid.268415.c"
         ]
        },
        {
         "count": 9,
         "first_name": "Akihiro",
         "id": "ur.07526624011.09",
         "last_name": "Fujiwara",
         "research_orgs": [
          "grid.258806.1",
          "grid.260493.a"
         ]
        },
        {
         "count": 8,
         "first_name": "Hirofumi",
         "id": "ur.010107250711.42",
         "last_name": "Fukumaru",
         "research_orgs": [
          "grid.258806.1"
         ]
        },
        {
         "count": 8,
         "first_name": "Gaber",
         "id": "ur.010214262704.60",
         "last_name": "Magdy",
         "orcid_id": [
          "0000-0001-6894-695X"
         ],
         "research_orgs": [
          "grid.258806.1",
          "grid.417764.7"
         ]
        },
        {
         "count": 8,
         "first_name": "Chu",
         "id": "ur.010227671107.36",
         "last_name": "Zhang",
         "research_orgs": [
          "grid.258806.1"
         ]
        },
        {
         "count": 8,
         "first_name": "Fu",
         "id": "ur.010311155152.66",
         "last_name": "Yang",
         "orcid_id": [
          "0000-0001-7673-8026"
         ],
         "research_orgs": [
          "grid.258806.1"
         ]
        },
        {
         "count": 8,
         "first_name": "Mohd Ridzuan",
         "id": "ur.01031146705.62",
         "last_name": "Othman",
         "orcid_id": [
          "0000-0003-3022-5860"
         ],
         "research_orgs": [
          "grid.11142.37"
         ]
        },
        {
         "count": 8,
         "first_name": "Midori",
         "id": "ur.01032175254.16",
         "last_name": "Iida",
         "research_orgs": [
          "grid.258806.1",
          "grid.255464.4"
         ]
        },
        {
         "count": 8,
         "first_name": "Jiahao",
         "id": "ur.01036061715.18",
         "last_name": "Guo",
         "research_orgs": [
          "grid.443368.e",
          "grid.30055.33"
         ]
        },
        {
         "count": 8,
         "first_name": "Y Ucirc Ki",
         "id": "ur.010451412641.82",
         "last_name": "Nishimura",
         "orcid_id": [
          "0000-0003-3665-8827"
         ],
         "research_orgs": [
          "grid.39158.36",
          "grid.258333.c",
          "grid.268397.1"
         ]
        },
        {
         "count": 8,
         "first_name": "Yoshinori",
         "id": "ur.010502740263.46",
         "last_name": "Sawae",
         "research_orgs": [
          "grid.258806.1",
          "grid.10347.31",
          "grid.177174.3",
          "grid.410786.c"
         ]
        },
        {
         "count": 8,
         "first_name": "Zhong Lu",
         "id": "ur.010542430025.96",
         "last_name": "Cao",
         "orcid_id": [
          "0000-0002-4146-1044"
         ],
         "research_orgs": [
          "grid.258806.1"
         ]
        },
        {
         "count": 8,
         "first_name": "Ashraful M",
         "id": "ur.01063430634.88",
         "last_name": "Hoque",
         "research_orgs": [
          "grid.258806.1",
          "grid.11142.37",
          "grid.240145.6",
          "grid.4367.6",
          "grid.443073.7",
          "grid.466945.c",
          "grid.412656.2",
          "grid.19006.3e",
          "grid.270240.3",
          "grid.466515.5",
          "grid.420086.8",
          "grid.48336.3a",
          "grid.21107.35"
         ]
        },
        {
         "count": 8,
         "first_name": "Xiaogong",
         "id": "ur.010652643447.08",
         "last_name": "Bai",
         "research_orgs": [
          "grid.30055.33"
         ]
        },
        {
         "count": 8,
         "first_name": "Sheng Lin",
         "id": "ur.011073117221.16",
         "last_name": "Mu",
         "research_orgs": [
          "grid.482504.f",
          "grid.255464.4",
          "grid.468865.1",
          "grid.268397.1"
         ]
        },
        {
         "count": 8,
         "first_name": "Kyoshiro",
         "id": "ur.011127276052.95",
         "last_name": "Itakura",
         "research_orgs": [
          "grid.258806.1"
         ]
        },
        {
         "count": 8,
         "first_name": "Makoto",
         "id": "ur.011340010425.83",
         "last_name": "Hibino",
         "research_orgs": [
          "grid.258806.1"
         ]
        },
        {
         "count": 8,
         "first_name": "Masaya",
         "id": "ur.011643047113.68",
         "last_name": "Hagiwara",
         "orcid_id": [
          "0000-0002-9032-4628"
         ],
         "research_orgs": [
          "grid.266539.d",
          "grid.261455.1",
          "grid.27476.30",
          "grid.19006.3e"
         ]
        },
        {
         "count": 8,
         "first_name": "Toshimasa",
         "id": "ur.011653210512.61",
         "last_name": "Yamazaki",
         "research_orgs": [
          "grid.258806.1",
          "grid.419918.c",
          "grid.420377.5"
         ]
        },
        {
         "count": 8,
         "first_name": "Rodolfo",
         "id": "ur.01167173414.14",
         "last_name": "García-Contreras",
         "research_orgs": [
          "grid.418752.d",
          "grid.9486.3",
          "grid.12380.38",
          "grid.264756.4",
          "grid.419172.8"
         ]
        },
        {
         "count": 8,
         "first_name": "Takashi",
         "id": "ur.01171163003.22",
         "last_name": "Nakakuki",
         "research_orgs": [
          "grid.258806.1",
          "grid.7597.c",
          "grid.474688.1",
          "grid.412681.8",
          "grid.411110.4"
         ]
        },
        {
         "count": 8,
         "first_name": "Zulkarnain",
         "id": "ur.01215116435.12",
         "last_name": "Zainal",
         "orcid_id": [
          "0000-0003-2105-4967"
         ],
         "research_orgs": [
          "grid.11142.37"
         ]
        },
        {
         "count": 8,
         "first_name": "Tsuyoshi",
         "id": "ur.012153260242.87",
         "last_name": "Okita",
         "research_orgs": [
          "grid.258806.1"
         ]
        },
        {
         "count": 8,
         "first_name": "Tomoya",
         "id": "ur.01252523320.43",
         "last_name": "Tamei",
         "research_orgs": [
          "grid.260493.a"
         ]
        },
        {
         "count": 8,
         "first_name": "Tokihiro",
         "id": "ur.012577337030.35",
         "last_name": "Umemura",
         "research_orgs": [
          "grid.410825.a",
          "grid.260026.0"
         ]
        },
        {
         "count": 8,
         "first_name": "Takayuki",
         "id": "ur.012702534435.49",
         "last_name": "Kojima",
         "research_orgs": [
          "grid.450279.d",
          "grid.177174.3",
          "grid.62167.34"
         ]
        },
        {
         "count": 8,
         "first_name": "Binghe",
         "id": "ur.012705135004.49",
         "last_name": "Li",
         "research_orgs": [
          "grid.258806.1"
         ]
        },
        {
         "count": 8,
         "first_name": "Hiroshi",
         "id": "ur.012711404243.01",
         "last_name": "Yamasaki",
         "research_orgs": [
          "grid.258806.1"
         ]
        },
        {
         "count": 8,
         "first_name": "Hong-Ngee",
         "id": "ur.013165130252.69",
         "last_name": "Lim",
         "orcid_id": [
          "0000-0003-2436-8953"
         ],
         "research_orgs": [
          "grid.11142.37"
         ]
        },
        {
         "count": 8,
         "first_name": "Tetsuya",
         "id": "ur.013226535757.76",
         "last_name": "Akiyama",
         "research_orgs": [
          "grid.258806.1"
         ]
        },
        {
         "count": 8,
         "first_name": "Hirofumi",
         "id": "ur.013265612621.82",
         "last_name": "Tanigawa",
         "research_orgs": [
          "grid.258806.1"
         ]
        },
        {
         "count": 8,
         "first_name": "Yu Dong",
         "id": "ur.01332614412.59",
         "last_name": "Zhang",
         "orcid_id": [
          "0000-0002-4870-1493"
         ],
         "research_orgs": [
          "grid.419897.a",
          "grid.263761.7",
          "grid.21729.3f",
          "grid.412097.9",
          "grid.41156.37",
          "grid.11135.37",
          "grid.260474.3",
          "grid.239585.0",
          "grid.452290.8",
          "grid.263826.b",
          "grid.412676.0",
          "grid.25627.34",
          "grid.484369.4",
          "grid.254250.4",
          "grid.9918.9",
          "grid.64924.3d",
          "grid.256609.e",
          "grid.449406.b",
          "grid.89957.3a",
          "grid.413734.6",
          "grid.13402.34"
         ]
        },
        {
         "count": 8,
         "first_name": "Hiroshi",
         "id": "ur.013471510435.28",
         "last_name": "Terashima",
         "research_orgs": [
          "grid.26999.3d",
          "grid.39158.36",
          "grid.62167.34",
          "grid.268323.e"
         ]
        },
        {
         "count": 8,
         "first_name": "Tetsuji",
         "id": "ur.013517610535.59",
         "last_name": "Kuboyama",
         "orcid_id": [
          "0000-0003-1590-0231"
         ],
         "research_orgs": [
          "grid.26999.3d",
          "grid.443704.0",
          "grid.7922.e",
          "grid.256169.f"
         ]
        },
        {
         "count": 8,
         "first_name": "Belal",
         "id": "ur.013533046011.79",
         "last_name": "Ahmad",
         "research_orgs": [
          "grid.258806.1"
         ]
        },
        {
         "count": 8,
         "first_name": "Dedi",
         "id": "ur.013627226221.37",
         "last_name": "Suryadi",
         "research_orgs": [
          "grid.258806.1"
         ]
        },
        {
         "count": 8,
         "first_name": "Gaber",
         "id": "ur.013644416422.01",
         "last_name": "Shabib",
         "research_orgs": [
          "grid.417764.7",
          "grid.411303.4"
         ]
        },
        {
         "count": 8,
         "first_name": "Shigeyoshi",
         "id": "ur.013766742443.73",
         "last_name": "Yoshida",
         "research_orgs": [
          "grid.258806.1",
          "grid.462605.3"
         ]
        },
        {
         "count": 8,
         "first_name": "M Hikita M",
         "id": "ur.013770543451.18",
         "last_name": "Hikita",
         "research_orgs": [
          "grid.258806.1"
         ]
        },
        {
         "count": 8,
         "first_name": "Shahidul",
         "id": "ur.014007023321.86",
         "last_name": "Islam",
         "research_orgs": [
          "grid.258806.1",
          "grid.412656.2"
         ]
        },
        {
         "count": 8,
         "first_name": "Xing",
         "id": "ur.014054034003.65",
         "last_name": "Xu",
         "research_orgs": [
          "grid.33199.31",
          "grid.54549.39",
          "grid.177174.3",
          "grid.443382.a"
         ]
        },
        {
         "count": 8,
         "first_name": "Adel A",
         "id": "ur.014072276611.68",
         "last_name": "Elbaset",
         "research_orgs": [
          "grid.411806.a"
         ]
        },
        {
         "count": 8,
         "first_name": "Shoji",
         "id": "ur.014101145611.46",
         "last_name": "Kido",
         "research_orgs": [
          "grid.416305.5",
          "grid.416963.f",
          "grid.136593.b",
          "grid.268397.1"
         ]
        },
        {
         "count": 8,
         "first_name": "Takashi",
         "id": "ur.014157213635.70",
         "last_name": "Tokumasu",
         "research_orgs": [
          "grid.26999.3d",
          "grid.69566.3a"
         ]
        },
        {
         "count": 8,
         "first_name": "Kunihiro",
         "id": "ur.014236331251.88",
         "last_name": "Osabe"
        },
        {
         "count": 8,
         "first_name": "Yoshihisa",
         "id": "ur.014462273762.86",
         "last_name": "Nakatoh",
         "research_orgs": [
          "grid.258806.1"
         ]
        },
        {
         "count": 8,
         "first_name": "Keisuke",
         "id": "ur.014662563344.56",
         "last_name": "Yoshida",
         "research_orgs": [
          "grid.258806.1"
         ]
        },
        {
         "count": 8,
         "first_name": "Shunsuke",
         "id": "ur.014764357071.91",
         "last_name": "Kurosawa",
         "research_orgs": [
          "grid.26999.3d",
          "grid.27476.30",
          "grid.268394.2",
          "grid.424881.3",
          "grid.258799.8",
          "grid.69566.3a"
         ]
        },
        {
         "count": 8,
         "first_name": "Masakazu",
         "id": "ur.014765117445.85",
         "last_name": "Higashiyama"
        },
        {
         "count": 8,
         "first_name": "Jun-Ichiro",
         "id": "ur.015037250545.25",
         "last_name": "Kishine",
         "research_orgs": [
          "grid.258806.1",
          "grid.26999.3d",
          "grid.31432.37",
          "grid.275033.0",
          "grid.419082.6",
          "grid.136593.b",
          "grid.412875.d",
          "grid.467196.b",
          "grid.257022.0",
          "grid.116068.8"
         ]
        },
        {
         "count": 8,
         "first_name": "Zhengyuan",
         "id": "ur.015224526133.15",
         "last_name": "Jin",
         "orcid_id": [
          "0000-0003-2300-1447"
         ],
         "research_orgs": [
          "grid.258806.1",
          "grid.263488.3"
         ]
        },
        {
         "count": 8,
         "first_name": "Kiyoto",
         "id": "ur.015566475165.77",
         "last_name": "Murakami",
         "research_orgs": [
          "grid.258806.1"
         ]
        },
        {
         "count": 8,
         "first_name": "Shiyuan",
         "id": "ur.015572027011.30",
         "last_name": "Yang",
         "research_orgs": [
          "grid.258806.1"
         ]
        },
        {
         "count": 8,
         "first_name": "Shunsuke",
         "id": "ur.016010604311.52",
         "last_name": "Araki",
         "research_orgs": [
          "grid.258806.1"
         ]
        },
        {
         "count": 8,
         "first_name": "Tatsuya",
         "id": "ur.016013710434.37",
         "last_name": "Hirose",
         "research_orgs": [
          "grid.410825.a"
         ]
        },
        {
         "count": 8,
         "first_name": "Tetsuzo",
         "id": "ur.016111211313.21",
         "last_name": "Sakamoto",
         "research_orgs": [
          "grid.258806.1",
          "grid.177174.3"
         ]
        },
        {
         "count": 8,
         "first_name": "Ryoji",
         "id": "ur.016307426665.31",
         "last_name": "Okamoto",
         "research_orgs": [
          "grid.258806.1",
          "grid.177174.3",
          "grid.34477.33"
         ]
        },
        {
         "count": 8,
         "first_name": "Toshifumi",
         "id": "ur.016475367401.84",
         "last_name": "Satake",
         "research_orgs": [
          "grid.471501.6"
         ]
        },
        {
         "count": 8,
         "first_name": "Hiroaki",
         "id": "ur.016605710107.92",
         "last_name": "Yamada",
         "orcid_id": [
          "0000-0001-5803-8632"
         ],
         "research_orgs": [
          "grid.258806.1",
          "grid.419082.6",
          "grid.411621.1",
          "grid.472121.3",
          "grid.268397.1"
         ]
        },
        {
         "count": 8,
         "first_name": "Gyoko",
         "id": "ur.0674616676.52",
         "last_name": "Nagayama",
         "research_orgs": [
          "grid.258806.1",
          "grid.24515.37",
          "grid.472129.b",
          "grid.17091.3e"
         ]
        },
        {
         "count": 7,
         "first_name": "Nay-Ming",
         "id": "ur.010111411175.82",
         "last_name": "Huang",
         "orcid_id": [
          "0000-0002-0839-6578"
         ],
         "research_orgs": [
          "grid.10347.31",
          "grid.412113.4"
         ]
        },
        {
         "count": 7,
         "first_name": "Ryo",
         "id": "ur.010112274555.96",
         "last_name": "Hamai",
         "research_orgs": [
          "grid.258806.1",
          "grid.459880.8"
         ]
        },
        {
         "count": 7,
         "first_name": "Kenji",
         "id": "ur.010236607661.59",
         "last_name": "Sakai",
         "orcid_id": [
          "0000-0002-2483-8823"
         ],
         "research_orgs": [
          "grid.258806.1",
          "grid.260975.f",
          "grid.412586.c",
          "grid.462975.b",
          "grid.177174.3",
          "grid.412334.3"
         ]
        },
        {
         "count": 7,
         "first_name": "Yuji",
         "id": "ur.010261153733.72",
         "last_name": "Morimoto",
         "research_orgs": [
          "grid.258806.1"
         ]
        },
        {
         "count": 7,
         "first_name": "Kyunghoon",
         "id": "ur.010402154535.26",
         "last_name": "Jang",
         "research_orgs": [
          "grid.258806.1"
         ]
        },
        {
         "count": 7,
         "first_name": "Katsunori",
         "id": "ur.01056743165.12",
         "last_name": "Mizuno",
         "research_orgs": [
          "grid.26999.3d",
          "grid.255178.c"
         ]
        },
        {
         "count": 7,
         "first_name": "Li",
         "id": "ur.010645342741.69",
         "last_name": "He",
         "orcid_id": [
          "0000-0002-6681-0933"
         ],
         "research_orgs": [
          "grid.33199.31",
          "grid.430388.4",
          "grid.24434.35"
         ]
        },
        {
         "count": 7,
         "first_name": "Nurul M",
         "id": "ur.011021121321.87",
         "last_name": "Islam",
         "research_orgs": [
          "grid.258806.1",
          "grid.9851.5",
          "grid.35541.36",
          "grid.412656.2",
          "grid.8993.b",
          "grid.8198.8"
         ]
        },
        {
         "count": 7,
         "first_name": "Kazuhiro",
         "id": "ur.011050527731.89",
         "last_name": "Nakashima",
         "research_orgs": [
          "grid.177174.3"
         ]
        },
        {
         "count": 7,
         "first_name": "Samira",
         "id": "ur.01114651615.70",
         "last_name": "Bagheri",
         "orcid_id": [
          "0000-0003-1130-2656"
         ],
         "research_orgs": [
          "grid.23856.3a",
          "grid.10347.31",
          "grid.429997.8",
          "grid.412057.5"
         ]
        },
        {
         "count": 7,
         "first_name": "Suguru",
         "id": "ur.01122620373.34",
         "last_name": "Taniguchi",
         "research_orgs": [
          "grid.258806.1"
         ]
        },
        {
         "count": 7,
         "first_name": "Shinya",
         "id": "ur.01124357113.20",
         "last_name": "Ikeno",
         "research_orgs": [
          "grid.258806.1",
          "grid.9707.9",
          "grid.419082.6"
         ]
        },
        {
         "count": 7,
         "first_name": "Radzi",
         "id": "ur.011271334605.10",
         "last_name": "Bin Ambar",
         "orcid_id": [
          "0000-0003-0922-7685"
         ],
         "research_orgs": [
          "grid.258806.1"
         ]
        },
        {
         "count": 7,
         "first_name": "Toru",
         "id": "ur.01127600701.69",
         "last_name": "Arai",
         "research_orgs": [
          "grid.258806.1",
          "grid.274841.c",
          "grid.177174.3"
         ]
        },
        {
         "count": 7,
         "first_name": "Takashi",
         "id": "ur.011465715727.62",
         "last_name": "Honda",
         "research_orgs": [
          "grid.258806.1",
          "grid.174567.6"
         ]
        },
        {
         "count": 7,
         "first_name": "Yusuke",
         "id": "ur.011550342143.09",
         "last_name": "Nakano",
         "research_orgs": [
          "grid.258806.1"
         ]
        },
        {
         "count": 7,
         "first_name": "Ken'Ichi",
         "id": "ur.011553034215.79",
         "last_name": "Kakizaki",
         "research_orgs": [
          "grid.258806.1"
         ]
        },
        {
         "count": 7,
         "first_name": "Daisaku",
         "id": "ur.01156044661.16",
         "last_name": "Kaneko",
         "research_orgs": [
          "grid.258806.1",
          "grid.26999.3d",
          "grid.39158.36",
          "grid.444515.5",
          "grid.419082.6"
         ]
        },
        {
         "count": 7,
         "first_name": "Yasuyuki",
         "id": "ur.01161606773.39",
         "last_name": "Umeda",
         "orcid_id": [
          "0000-0002-7039-2949"
         ],
         "research_orgs": [
          "grid.260026.0",
          "grid.412075.5",
          "grid.268397.1"
         ]
        },
        {
         "count": 7,
         "first_name": "Goichi",
         "id": "ur.011632141663.39",
         "last_name": "Hagiwara",
         "research_orgs": [
          "grid.258806.1",
          "grid.419589.8",
          "grid.449378.5"
         ]
        },
        {
         "count": 7,
         "first_name": "Naonori",
         "id": "ur.01167256360.50",
         "last_name": "Ueda",
         "research_orgs": [
          "grid.419819.c",
          "grid.136593.b"
         ]
        },
        {
         "count": 7,
         "first_name": "Takanori",
         "id": "ur.01170634311.36",
         "last_name": "Sano",
         "research_orgs": [
          "grid.4912.e",
          "grid.417313.3",
          "grid.260026.0",
          "grid.268397.1"
         ]
        },
        {
         "count": 7,
         "first_name": "Hidenori",
         "id": "ur.01202202141.50",
         "last_name": "Suzuki",
         "orcid_id": [
          "0000-0002-8555-5448"
         ],
         "research_orgs": [
          "grid.26999.3d",
          "grid.260026.0",
          "grid.271052.3",
          "grid.452206.7",
          "grid.43582.38",
          "grid.412075.5",
          "grid.411390.e"
         ]
        },
        {
         "count": 7,
         "first_name": "Naoki",
         "id": "ur.01202363551.37",
         "last_name": "Toma",
         "orcid_id": [
          "0000-0001-8174-3428"
         ],
         "research_orgs": [
          "grid.240873.a",
          "grid.260026.0",
          "grid.268397.1"
         ]
        },
        {
         "count": 7,
         "first_name": "Hayato",
         "id": "ur.012166675321.40",
         "last_name": "Waki",
         "research_orgs": [
          "grid.32197.3e",
          "grid.177174.3",
          "grid.266298.1"
         ]
        },
        {
         "count": 7,
         "first_name": "Chiharu",
         "id": "ur.012202545627.23",
         "last_name": "Hirayama",
         "research_orgs": [
          "grid.258806.1"
         ]
        },
        {
         "count": 7,
         "first_name": "Manabu",
         "id": "ur.01222724411.82",
         "last_name": "Habu",
         "research_orgs": [
          "grid.258806.1",
          "grid.411238.d"
         ]
        },
        {
         "count": 7,
         "first_name": "Shin-Ichi",
         "id": "ur.012267722507.19",
         "last_name": "Tsuda",
         "research_orgs": [
          "grid.263518.b",
          "grid.26999.3d",
          "grid.177174.3",
          "grid.62167.34",
          "grid.69566.3a"
         ]
        },
        {
         "count": 7,
         "first_name": "Soichiro",
         "id": "ur.012304436757.22",
         "last_name": "Kainaga",
         "research_orgs": [
          "grid.26999.3d",
          "grid.462605.3"
         ]
        },
        {
         "count": 7,
         "first_name": "Toshihiro",
         "id": "ur.012353334671.16",
         "last_name": "Maki",
         "research_orgs": [
          "grid.26999.3d"
         ]
        },
        {
         "count": 7,
         "first_name": "Yingming",
         "id": "ur.012600035141.75",
         "last_name": "Yi",
         "research_orgs": [
          "grid.258806.1"
         ]
        },
        {
         "count": 7,
         "first_name": "Amin",
         "id": "ur.01264035420.28",
         "last_name": "Termehyousefi",
         "research_orgs": [
          "grid.258806.1",
          "grid.23856.3a",
          "grid.10347.31",
          "grid.429997.8",
          "grid.410877.d"
         ]
        },
        {
         "count": 7,
         "first_name": "Kohei",
         "id": "ur.012677747050.44",
         "last_name": "Ozawa",
         "research_orgs": [
          "grid.258806.1",
          "grid.450279.d",
          "grid.26999.3d",
          "grid.62167.34"
         ]
        },
        {
         "count": 7,
         "first_name": "Yasuyuki",
         "id": "ur.012725030141.19",
         "last_name": "Morita",
         "research_orgs": [
          "grid.412804.b",
          "grid.177174.3",
          "grid.27476.30",
          "grid.258806.1"
         ]
        },
        {
         "count": 7,
         "first_name": "Pauline",
         "id": "ur.013076612475.43",
         "last_name": "Faure",
         "research_orgs": [
          "grid.258806.1"
         ]
        },
        {
         "count": 7,
         "first_name": "Tetsushi",
         "id": "ur.013301173651.87",
         "last_name": "Yada",
         "research_orgs": [
          "grid.258806.1",
          "grid.26999.3d",
          "grid.7597.c",
          "grid.258799.8",
          "grid.419082.6"
         ]
        },
        {
         "count": 7,
         "first_name": "Yusuke",
         "id": "ur.01344732662.18",
         "last_name": "Yamauchi",
         "orcid_id": [
          "0000-0001-7854-927X"
         ],
         "research_orgs": [
          "grid.418979.a",
          "grid.1003.2",
          "grid.419082.6",
          "grid.480438.3",
          "grid.289247.2",
          "grid.1007.6",
          "grid.10979.36",
          "grid.33763.32",
          "grid.418036.8",
          "grid.35403.31",
          "grid.5290.e",
          "grid.21941.3f",
          "grid.412610.0",
          "grid.56302.32",
          "grid.417929.0",
          "grid.440786.9",
          "grid.250008.f"
         ]
        },
        {
         "count": 7,
         "first_name": "Shuji",
         "id": "ur.01346626060.31",
         "last_name": "Hayase",
         "research_orgs": [
          "grid.258806.1",
          "grid.419082.6",
          "grid.410825.a"
         ]
        },
        {
         "count": 7,
         "first_name": "Hideki",
         "id": "ur.01353634766.16",
         "last_name": "Yagi",
         "research_orgs": [
          "grid.26999.3d",
          "grid.266298.1",
          "grid.450255.3"
         ]
        },
        {
         "count": 7,
         "first_name": "Tomonori",
         "id": "ur.013656107025.53",
         "last_name": "Ikari",
         "research_orgs": [
          "grid.258806.1",
          "grid.6553.5",
          "grid.5164.6",
          "grid.472121.3"
         ]
        },
        {
         "count": 7,
         "first_name": "Satoru",
         "id": "ur.013676640677.68",
         "last_name": "Takahashi",
         "research_orgs": [
          "grid.258331.e"
         ]
        },
        {
         "count": 7,
         "first_name": "Takahiro",
         "id": "ur.014035055643.26",
         "last_name": "Umemoto",
         "research_orgs": [
          "grid.462605.3"
         ]
        },
        {
         "count": 7,
         "first_name": "Takashi",
         "id": "ur.014036516773.45",
         "last_name": "Suzuki",
         "research_orgs": [
          "grid.258806.1",
          "grid.419306.9"
         ]
        },
        {
         "count": 7,
         "first_name": "Haruhiko",
         "id": "ur.014145466753.07",
         "last_name": "Kohno",
         "research_orgs": [
          "grid.258806.1",
          "grid.8096.7",
          "grid.177174.3",
          "grid.116068.8",
          "grid.419082.6"
         ]
        },
        {
         "count": 7,
         "first_name": "Norimitsu",
         "id": "ur.014166227622.80",
         "last_name": "Sakagami",
         "research_orgs": [
          "grid.262576.2",
          "grid.265061.6"
         ]
        },
        {
         "count": 7,
         "first_name": "Yong",
         "id": "ur.014277307301.84",
         "last_name": "Sun",
         "research_orgs": [
          "grid.258806.1"
         ]
        },
        {
         "count": 7,
         "first_name": "Zefeng",
         "id": "ur.014333647433.35",
         "last_name": "Wang",
         "research_orgs": [
          "grid.258806.1"
         ]
        },
        {
         "count": 7,
         "first_name": "Maryala",
         "id": "ur.014355237357.05",
         "last_name": "Saikiran",
         "research_orgs": [
          "grid.258806.1"
         ]
        },
        {
         "count": 7,
         "first_name": "Guangxu",
         "id": "ur.014444670557.65",
         "last_name": "Li",
         "research_orgs": [
          "grid.258806.1",
          "grid.410561.7"
         ]
        },
        {
         "count": 7,
         "first_name": "Kento",
         "id": "ur.014661312321.02",
         "last_name": "Emoto",
         "research_orgs": [
          "grid.258806.1",
          "grid.26999.3d"
         ]
        },
        {
         "count": 7,
         "first_name": "Fei",
         "id": "ur.014661327503.09",
         "last_name": "Ren",
         "research_orgs": [
          "grid.258806.1"
         ]
        },
        {
         "count": 7,
         "first_name": "Kunihisa",
         "id": "ur.014750764243.70",
         "last_name": "Kato",
         "research_orgs": [
          "grid.258806.1",
          "grid.471049.f"
         ]
        },
        {
         "count": 7,
         "first_name": "Satoko",
         "id": "ur.014760452272.34",
         "last_name": "Takase",
         "research_orgs": [
          "grid.258806.1"
         ]
        },
        {
         "count": 7,
         "first_name": "Takao",
         "id": "ur.015036544005.11",
         "last_name": "Koura",
         "research_orgs": [
          "grid.258806.1"
         ]
        },
        {
         "count": 7,
         "first_name": "Shinya",
         "id": "ur.015102426401.07",
         "last_name": "Haramaki",
         "research_orgs": [
          "grid.471489.7"
         ]
        },
        {
         "count": 7,
         "first_name": "Lifeng",
         "id": "ur.015120576705.04",
         "last_name": "Zhang",
         "research_orgs": [
          "grid.258806.1"
         ]
        },
        {
         "count": 7,
         "first_name": "Daisuke",
         "id": "ur.015241155257.40",
         "last_name": "Yakeya",
         "research_orgs": [
          "grid.258806.1"
         ]
        },
        {
         "count": 7,
         "first_name": "Takao",
         "id": "ur.015476023627.22",
         "last_name": "Tsurimoto",
         "research_orgs": [
          "grid.462605.3"
         ]
        },
        {
         "count": 7,
         "first_name": "Hideyuki",
         "id": "ur.016006075015.81",
         "last_name": "Komatsu",
         "research_orgs": [
          "grid.258806.1",
          "grid.177174.3"
         ]
        },
        {
         "count": 7,
         "first_name": "Takahiro",
         "id": "ur.016051634716.60",
         "last_name": "Yamanoi",
         "research_orgs": [
          "grid.39158.36",
          "grid.440874.b"
         ]
        },
        {
         "count": 7,
         "first_name": "Takeshi",
         "id": "ur.016221027541.34",
         "last_name": "Yamakawa",
         "research_orgs": [
          "grid.258806.1",
          "grid.266453.0",
          "grid.20515.33",
          "grid.471497.8",
          "grid.268397.1"
         ]
        },
        {
         "count": 7,
         "first_name": "Kazunori",
         "id": "ur.016325045611.35",
         "last_name": "Nishino",
         "research_orgs": [
          "grid.258806.1",
          "grid.258622.9"
         ]
        },
        {
         "count": 7,
         "first_name": "Kohji",
         "id": "ur.016341007031.73",
         "last_name": "Yoshinaga",
         "research_orgs": [
          "grid.258806.1",
          "grid.274841.c",
          "grid.174567.6"
         ]
        },
        {
         "count": 7,
         "first_name": "Keita",
         "id": "ur.016450426561.60",
         "last_name": "Hirayama",
         "research_orgs": [
          "grid.471922.b",
          "grid.412804.b"
         ]
        },
        {
         "count": 7,
         "first_name": "Akihiro",
         "id": "ur.0641210313.08",
         "last_name": "Ito",
         "orcid_id": [
          "0000-0002-8698-0032"
         ],
         "research_orgs": [
          "grid.39158.36",
          "grid.474688.1",
          "grid.263023.6",
          "grid.419082.6",
          "grid.410785.f",
          "grid.189509.c",
          "grid.480536.c",
          "grid.258799.8",
          "grid.26009.3d",
          "grid.412755.0",
          "grid.7597.c"
         ]
        },
        {
         "count": 7,
         "first_name": "Mohd Zulkhairi Mohd",
         "id": "ur.0727721445.97",
         "last_name": "Yusoff",
         "orcid_id": [
          "0000-0002-6787-9350"
         ],
         "research_orgs": [
          "grid.11142.37",
          "grid.29857.31",
          "grid.208504.b",
          "grid.258806.1",
          "grid.458454.c"
         ]
        },
        {
         "count": 7,
         "first_name": "Kazumi",
         "id": "ur.07356606111.26",
         "last_name": "Kumazoe",
         "research_orgs": [
          "grid.258806.1",
          "grid.28312.3a",
          "grid.420377.5"
         ]
        },
        {
         "count": 6,
         "first_name": "Kangsoo",
         "id": "ur.010034612045.03",
         "last_name": "Kim",
         "research_orgs": [
          "grid.419819.c",
          "grid.26999.3d",
          "grid.471888.a"
         ]
        },
        {
         "count": 6,
         "first_name": "Fumihiko",
         "id": "ur.010062240572.85",
         "last_name": "Asano",
         "research_orgs": [
          "grid.7597.c",
          "grid.32197.3e",
          "grid.444515.5"
         ]
        },
        {
         "count": 6,
         "first_name": "Ruixiang",
         "id": "ur.010107235655.77",
         "last_name": "Wang",
         "research_orgs": [
          "grid.411629.9",
          "grid.43169.39"
         ]
        },
        {
         "count": 6,
         "first_name": "Hiroshi",
         "id": "ur.010113375362.61",
         "last_name": "Ochi",
         "research_orgs": [
          "grid.444302.5"
         ]
        },
        {
         "count": 6,
         "first_name": "Hiroyuki",
         "id": "ur.010136637716.75",
         "last_name": "Kuramae",
         "orcid_id": [
          "0000-0001-5571-8288"
         ],
         "research_orgs": [
          "grid.258806.1",
          "grid.274841.c",
          "grid.255178.c",
          "grid.419937.1"
         ]
        },
        {
         "count": 6,
         "first_name": "Kei",
         "id": "ur.010171250247.82",
         "last_name": "Ogasawara"
        },
        {
         "count": 6,
         "first_name": "Daigo",
         "id": "ur.010204504766.55",
         "last_name": "Komesu",
         "research_orgs": [
          "grid.258806.1"
         ]
        },
        {
         "count": 6,
         "first_name": "Shuzhang",
         "id": "ur.010303243133.09",
         "last_name": "Yang",
         "research_orgs": [
          "grid.30055.33"
         ]
        },
        {
         "count": 6,
         "first_name": "Hiroshi",
         "id": "ur.010310331231.46",
         "last_name": "Yamamoto",
         "research_orgs": [
          "grid.258806.1",
          "grid.260427.5"
         ]
        },
        {
         "count": 6,
         "first_name": "Keita",
         "id": "ur.010336434075.06",
         "last_name": "Kamiyama"
        },
        {
         "count": 6,
         "first_name": "Kenta",
         "id": "ur.010402202163.19",
         "last_name": "Kirimoto",
         "research_orgs": [
          "grid.258806.1",
          "grid.471761.2"
         ]
        },
        {
         "count": 6,
         "first_name": "Kimitaka",
         "id": "ur.01044706375.28",
         "last_name": "Nakazawa",
         "research_orgs": [
          "grid.416629.e",
          "grid.26999.3d",
          "grid.412373.0",
          "grid.29857.31",
          "grid.9707.9",
          "grid.419714.e",
          "grid.419707.c"
         ]
        },
        {
         "count": 6,
         "first_name": "Masafumi",
         "id": "ur.010560160727.14",
         "last_name": "Kuwada",
         "research_orgs": [
          "grid.258806.1"
         ]
        },
        {
         "count": 6,
         "first_name": "Panfeng",
         "id": "ur.010563224034.46",
         "last_name": "Shu",
         "orcid_id": [
          "0000-0001-5683-7369"
         ],
         "research_orgs": [
          "grid.258806.1",
          "grid.440785.a"
         ]
        },
        {
         "count": 6,
         "first_name": "Hongngee",
         "id": "ur.010703155721.11",
         "last_name": "Lim",
         "orcid_id": [
          "0000-0003-2436-8953"
         ],
         "research_orgs": [
          "grid.11142.37",
          "grid.440435.2"
         ]
        },
        {
         "count": 6,
         "first_name": "Hans-Joachim",
         "id": "ur.010776733103.90",
         "last_name": "Wunderlich",
         "orcid_id": [
          "0000-0003-4536-8290"
         ],
         "research_orgs": [
          "grid.5963.9",
          "grid.5659.f",
          "grid.5836.8",
          "grid.5719.a",
          "grid.425335.6",
          "grid.7892.4"
         ]
        },
        {
         "count": 6,
         "first_name": "Mitsunori",
         "id": "ur.011015545446.79",
         "last_name": "Mizumachi",
         "research_orgs": [
          "grid.258806.1",
          "grid.418163.9"
         ]
        },
        {
         "count": 6,
         "first_name": "Naoto",
         "id": "ur.011201344021.29",
         "last_name": "Yamaguchi",
         "research_orgs": [
          "grid.258806.1"
         ]
        },
        {
         "count": 6,
         "first_name": "Zhixia",
         "id": "ur.01121500537.62",
         "last_name": "Li",
         "orcid_id": [
          "0000-0001-8834-4649"
         ],
         "research_orgs": [
          "grid.256609.e",
          "grid.69566.3a"
         ]
        },
        {
         "count": 6,
         "first_name": "Takagimi",
         "id": "ur.01127523465.65",
         "last_name": "Yanagitani",
         "research_orgs": [
          "grid.26999.3d",
          "grid.450255.3",
          "grid.266298.1"
         ]
        },
        {
         "count": 6,
         "first_name": "Ashir",
         "id": "ur.01134044441.30",
         "last_name": "Ahmed",
         "orcid_id": [
          "0000-0002-8125-471X"
         ],
         "research_orgs": [
          "grid.419819.c",
          "grid.177174.3",
          "grid.462975.b"
         ]
        },
        {
         "count": 6,
         "first_name": "Toru",
         "id": "ur.011360200527.89",
         "last_name": "Mizunami",
         "research_orgs": [
          "grid.258806.1",
          "grid.177174.3"
         ]
        },
        {
         "count": 6,
         "first_name": "Walter",
         "id": "ur.01140357661.17",
         "last_name": "Glöckle",
         "research_orgs": [
          "grid.264889.9",
          "grid.411227.3",
          "grid.8385.6",
          "grid.257114.4",
          "grid.10388.32",
          "grid.5570.7",
          "grid.444568.f",
          "grid.266539.d",
          "grid.263880.7",
          "grid.6045.7",
          "grid.5110.5",
          "grid.411377.7",
          "grid.256774.5",
          "grid.11696.39",
          "grid.258518.3",
          "grid.5522.0",
          "grid.457334.2",
          "grid.116068.8",
          "grid.69566.3a"
         ]
        },
        {
         "count": 6,
         "first_name": "Nicola Ivan",
         "id": "ur.011407315665.16",
         "last_name": "Giannoccaro",
         "orcid_id": [
          "0000-0002-9392-8339"
         ],
         "research_orgs": [
          "grid.258806.1",
          "grid.9906.6",
          "grid.4466.0"
         ]
        },
        {
         "count": 6,
         "first_name": "Akira",
         "id": "ur.011440230541.66",
         "last_name": "Yamawaki",
         "research_orgs": [
          "grid.258806.1"
         ]
        },
        {
         "count": 6,
         "first_name": "Nayming",
         "id": "ur.011461562252.48",
         "last_name": "Huang",
         "research_orgs": [
          "grid.440435.2",
          "grid.10347.31",
          "grid.412113.4"
         ]
        },
        {
         "count": 6,
         "first_name": "Guangyi",
         "id": "ur.011466540473.48",
         "last_name": "Ai",
         "research_orgs": [
          "grid.258806.1"
         ]
        },
        {
         "count": 6,
         "first_name": "Sunao",
         "id": "ur.011526173544.83",
         "last_name": "Murakami",
         "research_orgs": [
          "grid.258806.1"
         ]
        },
        {
         "count": 6,
         "first_name": "Yoshisuke",
         "id": "ur.011537344617.51",
         "last_name": "Futami",
         "research_orgs": [
          "grid.274841.c",
          "grid.258777.8",
          "grid.136594.c",
          "grid.471718.c",
          "grid.69566.3a"
         ]
        },
        {
         "count": 6,
         "first_name": "Hiroki",
         "id": "ur.01156670436.97",
         "last_name": "Obata",
         "research_orgs": [
          "grid.258806.1",
          "grid.26999.3d",
          "grid.419152.a",
          "grid.419714.e"
         ]
        },
        {
         "count": 6,
         "first_name": "Yoshikazu",
         "id": "ur.011570205631.99",
         "last_name": "Terai",
         "research_orgs": [
          "grid.258806.1",
          "grid.261455.1",
          "grid.136593.b",
          "grid.258333.c"
         ]
        },
        {
         "count": 6,
         "first_name": "Chun-Feng",
         "id": "ur.011651141207.73",
         "last_name": "Lan",
         "research_orgs": [
          "grid.258806.1",
          "grid.263488.3"
         ]
        },
        {
         "count": 6,
         "first_name": "Eitaku",
         "id": "ur.011664343406.48",
         "last_name": "Nobuyama",
         "research_orgs": [
          "grid.258806.1",
          "grid.26999.3d",
          "grid.258799.8",
          "grid.459868.e"
         ]
        },
        {
         "count": 6,
         "first_name": "Takuji",
         "id": "ur.011701120041.92",
         "last_name": "Ogawa",
         "orcid_id": [
          "0000-0002-6237-2286"
         ],
         "research_orgs": [
          "grid.255464.4",
          "grid.275033.0",
          "grid.419082.6",
          "grid.136593.b",
          "grid.266298.1",
          "grid.177174.3",
          "grid.467196.b",
          "grid.258799.8"
         ]
        },
        {
         "count": 6,
         "first_name": "Putao",
         "id": "ur.011704116152.94",
         "last_name": "Zhang",
         "research_orgs": [
          "grid.258806.1"
         ]
        },
        {
         "count": 6,
         "first_name": "Tetsuo",
         "id": "ur.01200333056.11",
         "last_name": "Furukawa",
         "orcid_id": [
          "0000-0002-4469-7749"
         ],
         "research_orgs": [
          "grid.258806.1",
          "grid.7445.2"
         ]
        },
        {
         "count": 6,
         "first_name": "Zhenhua",
         "id": "ur.012076416030.50",
         "last_name": "Xu",
         "research_orgs": [
          "grid.258806.1"
         ]
        },
        {
         "count": 6,
         "first_name": "Nana",
         "id": "ur.012166111363.13",
         "last_name": "Sutisna",
         "research_orgs": [
          "grid.258806.1",
          "grid.434933.a",
          "grid.443210.0"
         ]
        },
        {
         "count": 6,
         "first_name": "Toru",
         "id": "ur.01217671122.26",
         "last_name": "Yukimasa",
         "research_orgs": [
          "grid.271052.3"
         ]
        },
        {
         "count": 6,
         "first_name": "Arnoldas",
         "id": "ur.01223737553.37",
         "last_name": "Deltuva",
         "orcid_id": [
          "0000-0002-0732-7749"
         ],
         "research_orgs": [
          "grid.6441.7",
          "grid.187073.a",
          "grid.9983.b",
          "grid.9122.8"
         ]
        },
        {
         "count": 6,
         "first_name": "Kazuhiro",
         "id": "ur.01224411623.20",
         "last_name": "Maeda",
         "orcid_id": [
          "0000-0002-6038-1322"
         ],
         "research_orgs": [
          "grid.258806.1"
         ]
        },
        {
         "count": 6,
         "first_name": "Yi",
         "id": "ur.01225046711.32",
         "last_name": "Du",
         "research_orgs": [
          "grid.30055.33"
         ]
        },
        {
         "count": 6,
         "first_name": "Yin",
         "id": "ur.012406012755.25",
         "last_name": "Zhang",
         "orcid_id": [
          "0000-0002-8103-8937"
         ],
         "research_orgs": [
          "grid.33199.31",
          "grid.41156.37",
          "grid.443621.6"
         ]
        },
        {
         "count": 6,
         "first_name": "Tomoki",
         "id": "ur.012447540723.51",
         "last_name": "Uchimura",
         "research_orgs": [
          "grid.258806.1"
         ]
        },
        {
         "count": 6,
         "first_name": "Youhi",
         "id": "ur.012500165045.17",
         "last_name": "Morii",
         "research_orgs": [
          "grid.275033.0",
          "grid.62167.34"
         ]
        },
        {
         "count": 6,
         "first_name": "Katsuyuki",
         "id": "ur.012500652631.52",
         "last_name": "Yamazaki",
         "research_orgs": [
          "grid.26999.3d",
          "grid.450318.b",
          "grid.260427.5"
         ]
        },
        {
         "count": 6,
         "first_name": "Nico",
         "id": "ur.012502720625.16",
         "last_name": "Surantha",
         "orcid_id": [
          "0000-0002-7500-3199"
         ],
         "research_orgs": [
          "grid.258806.1",
          "grid.440753.1"
         ]
        },
        {
         "count": 6,
         "first_name": "Masafumi",
         "id": "ur.012504115145.09",
         "last_name": "Mori",
         "research_orgs": [
          "grid.258806.1"
         ]
        },
        {
         "count": 6,
         "first_name": "Mohd Rafein",
         "id": "ur.01253073407.62",
         "last_name": "Zakaria",
         "orcid_id": [
          "0000-0002-2698-615X"
         ],
         "research_orgs": [
          "grid.11142.37",
          "grid.208504.b"
         ]
        },
        {
         "count": 6,
         "first_name": "Satoshi",
         "id": "ur.012752101203.59",
         "last_name": "Horie",
         "research_orgs": [
          "grid.31432.37",
          "grid.258799.8"
         ]
        },
        {
         "count": 6,
         "first_name": "Azhari Samsu",
         "id": "ur.013020662311.45",
         "last_name": "Baharuddin",
         "research_orgs": [
          "grid.11142.37",
          "grid.428821.5"
         ]
        },
        {
         "count": 6,
         "first_name": "Akiko",
         "id": "ur.013061716553.74",
         "last_name": "Fujimoto",
         "research_orgs": [
          "grid.258806.1",
          "grid.177174.3"
         ]
        },
        {
         "count": 6,
         "first_name": "Katsumi",
         "id": "ur.013062244675.83",
         "last_name": "Taniguchi",
         "research_orgs": [
          "grid.471128.9"
         ]
        },
        {
         "count": 6,
         "first_name": "Suhaidi Bin",
         "id": "ur.01310441140.23",
         "last_name": "Shafie",
         "research_orgs": [
          "grid.11142.37",
          "grid.263536.7",
          "grid.267625.2"
         ]
        },
        {
         "count": 6,
         "first_name": "Norhayati",
         "id": "ur.01324427726.08",
         "last_name": "Ramli",
         "orcid_id": [
          "0000-0002-8015-8654"
         ],
         "research_orgs": [
          "grid.11142.37"
         ]
        },
        {
         "count": 6,
         "first_name": "Satoshi",
         "id": "ur.013306555335.08",
         "last_name": "Hiroshima",
         "research_orgs": [
          "grid.410825.a"
         ]
        },
        {
         "count": 6,
         "first_name": "Hiroki",
         "id": "ur.013311450071.18",
         "last_name": "Nagashima",
         "research_orgs": [
          "grid.252311.6",
          "grid.267625.2",
          "grid.69566.3a"
         ]
        },
        {
         "count": 6,
         "first_name": "Junichi",
         "id": "ur.01341623443.43",
         "last_name": "Taira",
         "research_orgs": [
          "grid.258806.1",
          "grid.410781.b",
          "grid.412339.e"
         ]
        },
        {
         "count": 6,
         "first_name": "Md",
         "id": "ur.013532631645.71",
         "last_name": "Samsuzzaman",
         "research_orgs": [
          "grid.443081.a",
          "grid.412113.4"
         ]
        },
        {
         "count": 6,
         "id": "ur.013636741640.72",
         "last_name": "Agussalim",
         "research_orgs": [
          "grid.258806.1"
         ]
        },
        {
         "count": 6,
         "first_name": "Mana",
         "id": "ur.01367170040.32",
         "last_name": "Hayakawa",
         "research_orgs": [
          "grid.411238.d"
         ]
        },
        {
         "count": 6,
         "first_name": "Kazuma",
         "id": "ur.013743060020.22",
         "last_name": "Noha",
         "research_orgs": [
          "grid.471922.b"
         ]
        },
        {
         "count": 6,
         "first_name": "Akira",
         "id": "ur.013757726565.37",
         "last_name": "Uritani",
         "research_orgs": [
          "grid.214458.e",
          "grid.208504.b",
          "grid.27476.30"
         ]
        },
        {
         "count": 6,
         "first_name": "Shigenori",
         "id": "ur.013771334041.56",
         "last_name": "Matsushima",
         "research_orgs": [
          "grid.258806.1",
          "grid.255464.4",
          "grid.471761.2",
          "grid.410849.0",
          "grid.274841.c",
          "grid.177174.3",
          "grid.482504.f"
         ]
        },
        {
         "count": 6,
         "first_name": "Hiroyuki",
         "id": "ur.014135326771.20",
         "last_name": "Matsuura",
         "research_orgs": [
          "grid.271052.3",
          "grid.26999.3d",
          "grid.419257.c",
          "grid.444282.c"
         ]
        },
        {
         "count": 6,
         "first_name": "Hisashi",
         "id": "ur.014151501123.96",
         "last_name": "Toyoshima",
         "research_orgs": [
          "grid.440874.b"
         ]
        },
        {
         "count": 6,
         "first_name": "Kazuhiro",
         "id": "ur.014160234353.24",
         "last_name": "Oda",
         "research_orgs": [
          "grid.258806.1",
          "grid.472129.b",
          "grid.412334.3"
         ]
        },
        {
         "count": 6,
         "first_name": "Thi Hong",
         "id": "ur.014232511501.39",
         "last_name": "Tran",
         "research_orgs": [
          "grid.258806.1",
          "grid.260493.a"
         ]
        },
        {
         "count": 6,
         "first_name": "Shuai",
         "id": "ur.014244414445.29",
         "last_name": "Zhao",
         "research_orgs": [
          "grid.258806.1"
         ]
        },
        {
         "count": 6,
         "first_name": "Shinichi",
         "id": "ur.014361400225.50",
         "last_name": "Okuyama",
         "research_orgs": [
          "grid.420377.5"
         ]
        },
        {
         "count": 6,
         "first_name": "Yutaka",
         "id": "ur.014430120163.93",
         "last_name": "Fukuda",
         "research_orgs": [
          "grid.258806.1"
         ]
        },
        {
         "count": 6,
         "first_name": "Kenji",
         "id": "ur.014517614731.40",
         "last_name": "Ishida",
         "research_orgs": [
          "grid.31432.37",
          "grid.266097.c",
          "grid.419082.6",
          "grid.136593.b",
          "grid.257022.0",
          "grid.258799.8",
          "grid.278276.e",
          "grid.69566.3a"
         ]
        },
        {
         "count": 6,
         "first_name": "Toshifumi",
         "id": "ur.015010007703.88",
         "last_name": "Ogawa",
         "research_orgs": [
          "grid.418050.8"
         ]
        },
        {
         "count": 6,
         "first_name": "Dang Khoa",
         "id": "ur.015057701075.32",
         "last_name": "Nguyen",
         "research_orgs": [
          "grid.258806.1",
          "grid.5117.2"
         ]
        },
        {
         "count": 6,
         "first_name": "Kaori",
         "id": "ur.015450424063.69",
         "last_name": "Yoshida",
         "research_orgs": [
          "grid.258806.1"
         ]
        },
        {
         "count": 6,
         "first_name": "Masahiro",
         "id": "ur.015467463714.06",
         "last_name": "Nakano",
         "research_orgs": [
          "grid.271052.3",
          "grid.177174.3",
          "grid.471670.3",
          "grid.412339.e"
         ]
        },
        {
         "count": 6,
         "first_name": "Yoshihide",
         "id": "ur.015560330123.68",
         "last_name": "Mawatari",
         "research_orgs": [
          "grid.258806.1",
          "grid.263536.7"
         ]
        },
        {
         "count": 6,
         "first_name": "Fujimitsu",
         "id": "ur.015671107455.74",
         "last_name": "Masuyama",
         "research_orgs": [
          "grid.258806.1",
          "grid.471153.5"
         ]
        },
        {
         "count": 6,
         "first_name": "Kazuma",
         "id": "ur.015715617245.68",
         "last_name": "Nakamura",
         "research_orgs": [
          "grid.258806.1",
          "grid.26999.3d",
          "grid.419082.6"
         ]
        },
        {
         "count": 6,
         "first_name": "Xian",
         "id": "ur.015745474271.69",
         "last_name": "Zeng",
         "research_orgs": [
          "grid.258806.1",
          "grid.162110.5"
         ]
        },
        {
         "count": 6,
         "first_name": "Minoru",
         "id": "ur.015761723101.49",
         "last_name": "Iwata",
         "research_orgs": [
          "grid.258806.1",
          "grid.265061.6"
         ]
        },
        {
         "count": 6,
         "first_name": "Abdul",
         "id": "ur.016057367507.08",
         "last_name": "Rajab",
         "research_orgs": [
          "grid.258806.1",
          "grid.444045.5",
          "grid.434933.a"
         ]
        },
        {
         "count": 6,
         "first_name": "Tomohiro",
         "id": "ur.016243235503.20",
         "last_name": "Kubo",
         "research_orgs": [
          "grid.258806.1"
         ]
        },
        {
         "count": 6,
         "first_name": "Balbir",
         "id": "ur.016347202125.42",
         "last_name": "Singh",
         "research_orgs": [
          "grid.258806.1",
          "grid.467811.d"
         ]
        },
        {
         "count": 6,
         "first_name": "Seido",
         "id": "ur.016377721441.71",
         "last_name": "Yarimitsu",
         "research_orgs": [
          "grid.265074.2",
          "grid.177174.3"
         ]
        },
        {
         "count": 6,
         "first_name": "Ulf G",
         "id": "ur.016447776725.25",
         "last_name": "Meißner",
         "research_orgs": [
          "grid.6190.e",
          "grid.8385.6",
          "grid.10388.32",
          "grid.7727.5",
          "grid.5570.7",
          "grid.433124.3",
          "grid.5734.5",
          "grid.9227.e",
          "grid.26193.3f",
          "grid.486497.0",
          "grid.1957.a",
          "grid.494742.8",
          "grid.6936.a",
          "grid.36425.36",
          "grid.5254.6",
          "grid.116068.8",
          "grid.5110.5"
         ]
        },
        {
         "count": 6,
         "first_name": "Xiao",
         "id": "ur.016575420513.32",
         "last_name": "Huang",
         "research_orgs": [
          "grid.258806.1"
         ]
        },
        {
         "count": 6,
         "first_name": "Ming Yue",
         "id": "ur.0630102053.58",
         "last_name": "Jin",
         "orcid_id": [
          "0000-0002-5249-8918"
         ],
         "research_orgs": [
          "grid.261445.0",
          "grid.410781.b",
          "grid.258806.1",
          "grid.419082.6"
         ]
        },
        {
         "count": 6,
         "first_name": "Akiyoshi",
         "id": "ur.0641712667.42",
         "last_name": "Osaka",
         "research_orgs": [
          "grid.453074.1",
          "grid.5596.f",
          "grid.19006.3e",
          "grid.261356.5",
          "grid.258799.8",
          "grid.265073.5"
         ]
        },
        {
         "count": 6,
         "first_name": "Yusuke",
         "id": "ur.0676126261.35",
         "last_name": "Kousaka",
         "research_orgs": [
          "grid.20256.33",
          "grid.31432.37",
          "grid.136593.b",
          "grid.261356.5",
          "grid.257022.0",
          "grid.252311.6"
         ]
        },
        {
         "count": 6,
         "first_name": "Wenjing",
         "id": "ur.0677762376.17",
         "last_name": "Huang",
         "research_orgs": [
          "grid.258806.1",
          "grid.26999.3d",
          "grid.69566.3a"
         ]
        },
        {
         "count": 6,
         "first_name": "Junshi",
         "id": "ur.0700542027.77",
         "last_name": "Sakamoto",
         "research_orgs": [
          "grid.258806.1",
          "grid.265061.6"
         ]
        },
        {
         "count": 6,
         "first_name": "Hirokazu",
         "id": "ur.0735306714.35",
         "last_name": "Masai",
         "research_orgs": [
          "grid.208504.b",
          "grid.258799.8",
          "grid.69566.3a"
         ]
        },
        {
         "count": 6,
         "first_name": "Hiroki",
         "id": "ur.07521273041.88",
         "last_name": "Goda",
         "research_orgs": [
          "grid.258806.1"
         ]
        },
        {
         "count": 6,
         "first_name": "Tarun Chand",
         "id": "ur.0755112713.16",
         "last_name": "Vagvala",
         "research_orgs": [
          "grid.258806.1",
          "grid.143643.7"
         ]
        },
        {
         "count": 6,
         "first_name": "Osamu",
         "id": "ur.07621311155.23",
         "last_name": "Nakabeppu",
         "research_orgs": [
          "grid.26999.3d",
          "grid.32197.3e",
          "grid.411764.1"
         ]
        },
        {
         "count": 6,
         "first_name": "Zhanglin",
         "id": "ur.07706074430.00",
         "last_name": "Guo",
         "research_orgs": [
          "grid.258806.1"
         ]
        },
        {
         "count": 6,
         "first_name": "Kenji",
         "id": "ur.07742253461.36",
         "last_name": "Yoza"
        },
        {
         "count": 5,
         "first_name": "Adam",
         "id": "ur.01000504476.99",
         "last_name": "Kozela",
         "orcid_id": [
          "0000-0002-3286-4933"
         ],
         "research_orgs": [
          "grid.267457.5",
          "grid.10388.32",
          "grid.413454.3",
          "grid.425078.c",
          "grid.418860.3",
          "grid.5522.0",
          "grid.5801.c"
         ]
        },
        {
         "count": 5,
         "first_name": "Eric",
         "id": "ur.010027277541.02",
         "last_name": "Schneider",
         "research_orgs": [
          "grid.5719.a"
         ]
        },
        {
         "count": 5,
         "first_name": "Nobuyoshi",
         "id": "ur.01005761204.52",
         "last_name": "Miyamoto",
         "research_orgs": [
          "grid.462447.7",
          "grid.419082.6",
          "grid.418051.9",
          "grid.5290.e",
          "grid.177174.3",
          "grid.500402.3"
         ]
        },
        {
         "count": 5,
         "first_name": "Yasunori",
         "id": "ur.010062345725.67",
         "last_name": "Takemura",
         "research_orgs": [
          "grid.258806.1",
          "grid.444554.0",
          "grid.444302.5"
         ]
        },
        {
         "count": 5,
         "first_name": "Hirotoshi",
         "id": "ur.010072542141.62",
         "last_name": "Tsukamoto",
         "research_orgs": [
          "grid.258806.1"
         ]
        },
        {
         "count": 5,
         "first_name": "Yuki",
         "id": "ur.010102217273.52",
         "last_name": "Obukuro",
         "research_orgs": [
          "grid.410849.0",
          "grid.471761.2",
          "grid.258806.1",
          "grid.482504.f"
         ]
        },
        {
         "count": 5,
         "first_name": "R",
         "id": "ur.010107213207.23",
         "last_name": "Sworst",
         "research_orgs": [
          "grid.5522.0"
         ]
        },
        {
         "count": 5,
         "first_name": "Hiroshi",
         "id": "ur.010130777111.01",
         "last_name": "Numakura",
         "orcid_id": [
          "0000-0002-3382-8993"
         ],
         "research_orgs": [
          "grid.261455.1",
          "grid.258799.8",
          "grid.419082.6",
          "grid.69566.3a"
         ]
        },
        {
         "count": 5,
         "first_name": "Wei",
         "id": "ur.010152056607.48",
         "last_name": "Guo",
         "orcid_id": [
          "0000-0003-3735-6513"
         ],
         "research_orgs": [
          "grid.33489.35",
          "grid.5170.3",
          "grid.9227.e",
          "grid.30055.33",
          "grid.43555.32",
          "grid.458438.6"
         ]
        },
        {
         "count": 5,
         "first_name": "Tomoichirou",
         "id": "ur.01016124622.36",
         "last_name": "Kusumoto",
         "research_orgs": [
          "grid.258806.1"
         ]
        },
        {
         "count": 5,
         "first_name": "Yuki",
         "id": "ur.010162442540.66",
         "last_name": "Fuchi",
         "research_orgs": [
          "grid.258806.1"
         ]
        },
        {
         "count": 5,
         "first_name": "Atsushi",
         "id": "ur.01021001670.54",
         "last_name": "Okamoto",
         "research_orgs": [
          "grid.39158.36"
         ]
        },
        {
         "count": 5,
         "first_name": "Mohammad",
         "id": "ur.010235401473.68",
         "last_name": "Eslami-Kalantari",
         "research_orgs": [
          "grid.413021.5",
          "grid.4830.f"
         ]
        },
        {
         "count": 5,
         "first_name": "Masatomo",
         "id": "ur.010247514400.16",
         "last_name": "Ichige",
         "research_orgs": [
          "grid.258806.1"
         ]
        },
        {
         "count": 5,
         "first_name": "Yoshihiko",
         "id": "ur.010250473151.74",
         "last_name": "Togawa",
         "research_orgs": [
          "grid.26999.3d",
          "grid.261455.1",
          "grid.419082.6",
          "grid.8756.c",
          "grid.257022.0",
          "grid.7597.c"
         ]
        },
        {
         "count": 5,
         "first_name": "Kenji",
         "id": "ur.010275113265.28",
         "last_name": "Okamoto",
         "research_orgs": [
          "grid.471128.9"
         ]
        },
        {
         "count": 5,
         "first_name": "Yasushi",
         "id": "ur.010302266711.37",
         "last_name": "Kami",
         "research_orgs": [
          "grid.258806.1",
          "grid.459868.e",
          "grid.482504.f"
         ]
        },
        {
         "count": 5,
         "first_name": "Hiroshi",
         "id": "ur.010332356011.46",
         "last_name": "Hara",
         "research_orgs": [
          "grid.21941.3f",
          "grid.20515.33",
          "grid.419082.6"
         ]
        },
        {
         "count": 5,
         "first_name": "Shuji",
         "id": "ur.01035236171.02",
         "last_name": "Aou",
         "research_orgs": [
          "grid.258806.1",
          "grid.260975.f",
          "grid.467811.d",
          "grid.267346.2",
          "grid.419082.6",
          "grid.174567.6",
          "grid.260433.0",
          "grid.19006.3e",
          "grid.177174.3",
          "grid.9679.1"
         ]
        },
        {
         "count": 5,
         "first_name": "Ting Ting",
         "id": "ur.010375413051.46",
         "last_name": "Xu",
         "orcid_id": [
          "0000-0003-0896-3701"
         ],
         "research_orgs": [
          "grid.258806.1",
          "grid.263791.8",
          "grid.440588.5"
         ]
        },
        {
         "count": 5,
         "first_name": "Yusuke",
         "id": "ur.010404254445.41",
         "last_name": "Nakamura",
         "research_orgs": [
          "grid.260026.0"
         ]
        },
        {
         "count": 5,
         "first_name": "Nasser",
         "id": "ur.01046077342.75",
         "last_name": "Kalantar-Nayestanaki",
         "research_orgs": [
          "grid.264889.9",
          "grid.264484.8",
          "grid.187073.a",
          "grid.167436.1",
          "grid.457334.2",
          "grid.131063.6",
          "grid.164295.d",
          "grid.184769.5",
          "grid.430387.b",
          "grid.250008.f",
          "grid.33647.35",
          "grid.169077.e",
          "grid.5522.0",
          "grid.420012.5",
          "grid.34421.30",
          "grid.253561.6",
          "grid.27860.3b",
          "grid.12380.38",
          "grid.116068.8",
          "grid.4830.f"
         ]
        },
        {
         "count": 5,
         "first_name": "Ryosuke",
         "id": "ur.010476511521.14",
         "last_name": "Kubota",
         "research_orgs": [
          "grid.258806.1",
          "grid.472121.3",
          "grid.268397.1"
         ]
        },
        {
         "count": 5,
         "first_name": "Toshiki",
         "id": "ur.010504515447.18",
         "last_name": "Saitoh",
         "research_orgs": [
          "grid.258806.1",
          "grid.31432.37",
          "grid.444515.5",
          "grid.419082.6"
         ]
        },
        {
         "count": 5,
         "first_name": "Noriaki",
         "id": "ur.010525745231.00",
         "last_name": "Suetake",
         "research_orgs": [
          "grid.258806.1",
          "grid.20515.33",
          "grid.268397.1"
         ]
        },
        {
         "count": 5,
         "first_name": "Antonio C",
         "id": "ur.010553172443.37",
         "last_name": "Fonseca",
         "orcid_id": [
          "0000-0002-5289-1162"
         ],
         "research_orgs": [
          "grid.411227.3",
          "grid.10388.32",
          "grid.131063.6",
          "grid.202665.5",
          "grid.164295.d",
          "grid.9983.b",
          "grid.253615.6",
          "grid.148313.c",
          "grid.5475.3"
         ]
        },
        {
         "count": 5,
         "first_name": "Laurent",
         "id": "ur.010570624411.54",
         "last_name": "Tranchant",
         "research_orgs": [
          "grid.258806.1",
          "grid.462542.3",
          "grid.14001.34"
         ]
        },
        {
         "count": 5,
         "first_name": "Yukio",
         "id": "ur.01061541301.40",
         "last_name": "Hinatsu",
         "research_orgs": [
          "grid.267687.a",
          "grid.39158.36",
          "grid.20256.33",
          "grid.412804.b"
         ]
        },
        {
         "count": 5,
         "first_name": "Yutaka",
         "id": "ur.010621635425.45",
         "last_name": "Nakamura",
         "research_orgs": [
          "grid.258806.1",
          "grid.260493.a"
         ]
        },
        {
         "count": 5,
         "first_name": "Tatsuya",
         "id": "ur.010652405324.43",
         "last_name": "Isoda",
         "research_orgs": [
          "grid.258806.1"
         ]
        },
        {
         "count": 5,
         "first_name": "Thibault",
         "id": "ur.010672443305.14",
         "last_name": "Barbie",
         "orcid_id": [
          "0000-0001-7506-4453"
         ],
         "research_orgs": [
          "grid.258806.1"
         ]
        },
        {
         "count": 5,
         "first_name": "Toshihiko",
         "id": "ur.010672747423.30",
         "last_name": "Umekage",
         "research_orgs": [
          "grid.258806.1"
         ]
        },
        {
         "count": 5,
         "first_name": "Eiki",
         "id": "ur.010737640775.28",
         "last_name": "Yamaguchi",
         "research_orgs": [
          "grid.258806.1"
         ]
        },
        {
         "count": 5,
         "first_name": "Naomi",
         "id": "ur.01100020146.26",
         "last_name": "Kawamura",
         "research_orgs": [
          "grid.20256.33",
          "grid.31432.37",
          "grid.410592.b",
          "grid.261356.5",
          "grid.472717.0",
          "grid.5290.e",
          "grid.7597.c",
          "grid.252311.6"
         ]
        },
        {
         "count": 5,
         "first_name": "Susumu",
         "id": "ur.011000630267.34",
         "last_name": "Kawashima",
         "research_orgs": [
          "grid.258806.1"
         ]
        },
        {
         "count": 5,
         "first_name": "Bishnu Prasad",
         "id": "ur.01100702566.51",
         "last_name": "Bastakoti",
         "research_orgs": [
          "grid.1013.3",
          "grid.38142.3c",
          "grid.21941.3f",
          "grid.412339.e"
         ]
        },
        {
         "count": 5,
         "first_name": "Makoto",
         "id": "ur.011060074165.17",
         "last_name": "Ohta",
         "orcid_id": [
          "0000-0001-8571-6400"
         ],
         "research_orgs": [
          "grid.150338.c",
          "grid.258799.8",
          "grid.412082.d",
          "grid.69566.3a"
         ]
        },
        {
         "count": 5,
         "first_name": "Takumi",
         "id": "ur.011067632371.00",
         "last_name": "Matsuda",
         "research_orgs": [
          "grid.26999.3d"
         ]
        },
        {
         "count": 5,
         "first_name": "Hikaru",
         "id": "ur.011106141303.23",
         "last_name": "Maruyama",
         "research_orgs": [
          "grid.258806.1"
         ]
        },
        {
         "count": 5,
         "first_name": "Onur",
         "id": "ur.011107466330.58",
         "last_name": "Altintas",
         "research_orgs": [
          "grid.5659.f",
          "grid.6935.9",
          "grid.462975.b",
          "grid.467593.a"
         ]
        },
        {
         "count": 5,
         "first_name": "Masanori",
         "id": "ur.011134613753.31",
         "last_name": "Enoki",
         "research_orgs": [
          "grid.258806.1",
          "grid.69566.3a"
         ]
        },
        {
         "count": 5,
         "first_name": "Nazlina Haiza Mohd",
         "id": "ur.01114571470.10",
         "last_name": "Yasin",
         "research_orgs": [
          "grid.258806.1",
          "grid.412113.4",
          "grid.11142.37"
         ]
        },
        {
         "count": 5,
         "first_name": "Satoshi",
         "id": "ur.011166320405.91",
         "last_name": "Hata",
         "research_orgs": [
          "grid.177174.3"
         ]
        },
        {
         "count": 5,
         "first_name": "Sota",
         "id": "ur.01120266533.41",
         "last_name": "Nakano",
         "research_orgs": [
          "grid.258806.1",
          "grid.442870.d",
          "grid.177174.3"
         ]
        },
        {
         "count": 5,
         "first_name": "Harald",
         "id": "ur.011222056445.46",
         "last_name": "Kleine",
         "research_orgs": [
          "grid.1005.4",
          "grid.97008.36",
          "grid.1957.a",
          "grid.14709.3b",
          "grid.69566.3a"
         ]
        },
        {
         "count": 5,
         "first_name": "Takanobu",
         "id": "ur.01122462177.79",
         "last_name": "Shiraishi",
         "research_orgs": [
          "grid.177174.3",
          "grid.174567.6"
         ]
        },
        {
         "count": 5,
         "first_name": "Hiroshi",
         "id": "ur.011233451517.28",
         "last_name": "Eto",
         "research_orgs": [
          "grid.258806.1",
          "grid.177174.3"
         ]
        },
        {
         "count": 5,
         "first_name": "Kiyoshi",
         "id": "ur.011233637061.24",
         "last_name": "Yoshinaka",
         "orcid_id": [
          "0000-0002-5345-7974"
         ],
         "research_orgs": [
          "grid.26999.3d",
          "grid.208504.b",
          "grid.258799.8"
         ]
        },
        {
         "count": 5,
         "first_name": "Hatsuo",
         "id": "ur.01124441650.28",
         "last_name": "Hayashi",
         "research_orgs": [
          "grid.258806.1",
          "grid.177174.3"
         ]
        },
        {
         "count": 5,
         "first_name": "Yuichiro",
         "id": "ur.011245221573.47",
         "last_name": "Taira",
         "research_orgs": [
          "grid.412662.5",
          "grid.412052.0"
         ]
        },
        {
         "count": 5,
         "first_name": "Michael Andreas",
         "id": "ur.011246220332.54",
         "last_name": "Kochte",
         "research_orgs": [
          "grid.258806.1",
          "grid.5719.a",
          "grid.64523.36",
          "grid.5963.9"
         ]
        },
        {
         "count": 5,
         "first_name": "Dan",
         "id": "ur.01125200736.51",
         "last_name": "Graur",
         "research_orgs": [
          "grid.267308.8",
          "grid.10392.39",
          "grid.1018.8",
          "grid.12136.37",
          "grid.266436.3",
          "grid.21107.35"
         ]
        },
        {
         "count": 5,
         "first_name": "Hidehiro",
         "id": "ur.011304002171.08",
         "last_name": "Ikeda",
         "research_orgs": [
          "grid.444302.5",
          "grid.472168.e",
          "grid.258806.1"
         ]
        },
        {
         "count": 5,
         "first_name": "Masaichiro",
         "id": "ur.01132735361.12",
         "last_name": "Mizumaki",
         "research_orgs": [
          "grid.260975.f",
          "grid.255464.4",
          "grid.20256.33",
          "grid.31432.37",
          "grid.26999.3d",
          "grid.419082.6",
          "grid.136593.b",
          "grid.410592.b",
          "grid.472717.0",
          "grid.257022.0",
          "grid.258799.8"
         ]
        },
        {
         "count": 5,
         "first_name": "Sakmongkon",
         "id": "ur.011337642215.67",
         "last_name": "Chumkamon",
         "research_orgs": [
          "grid.443738.f",
          "grid.258806.1",
          "grid.411851.8"
         ]
        },
        {
         "count": 5,
         "first_name": "Makito",
         "id": "ur.011355541327.07",
         "last_name": "Ishikura",
         "research_orgs": [
          "grid.258806.1"
         ]
        },
        {
         "count": 5,
         "first_name": "Yousuke",
         "id": "ur.011357756474.45",
         "last_name": "Miyake",
         "orcid_id": [
          "0000-0002-6742-5105"
         ],
         "research_orgs": [
          "grid.258806.1",
          "grid.419082.6"
         ]
        },
        {
         "count": 5,
         "first_name": "Mohammednoor Khalil",
         "id": "ur.01137010426.42",
         "last_name": "Altarawneh",
         "research_orgs": [
          "grid.1025.6",
          "grid.266842.c",
          "grid.443352.7"
         ]
        },
        {
         "count": 5,
         "first_name": "Ryuhei",
         "id": "ur.011467765731.43",
         "last_name": "Uehara",
         "orcid_id": [
          "0000-0003-0895-3765"
         ],
         "research_orgs": [
          "grid.440902.b",
          "grid.443010.2",
          "grid.444515.5"
         ]
        },
        {
         "count": 5,
         "first_name": "Munehiro",
         "id": "ur.011541270201.13",
         "last_name": "Matsuura",
         "research_orgs": [
          "grid.258806.1",
          "grid.412875.d",
          "grid.411764.1"
         ]
        },
        {
         "count": 5,
         "first_name": "Rina",
         "id": "ur.011644062561.72",
         "last_name": "Nobata",
         "research_orgs": [
          "grid.261455.1"
         ]
        },
        {
         "count": 5,
         "first_name": "K",
         "id": "ur.011647500507.00",
         "last_name": "Asami",
         "research_orgs": [
          "grid.258806.1"
         ]
        },
        {
         "count": 5,
         "first_name": "Giddy",
         "id": "ur.01165003574.37",
         "last_name": "Landan",
         "orcid_id": [
          "0000-0002-2502-8750"
         ],
         "research_orgs": [
          "grid.21107.35",
          "grid.9764.c",
          "grid.266436.3",
          "grid.411327.2"
         ]
        },
        {
         "count": 5,
         "first_name": "Gabriel",
         "id": "ur.01167657331.06",
         "last_name": "Popescu",
         "research_orgs": [
          "grid.5100.4",
          "grid.411030.7",
          "grid.170430.1",
          "grid.35403.31",
          "grid.116068.8"
         ]
        },
        {
         "count": 5,
         "first_name": "André Alexander",
         "id": "ur.01174236630.34",
         "last_name": "Kajdacsy-Balla",
         "research_orgs": [
          "grid.30760.32",
          "grid.25879.31",
          "grid.39382.33",
          "grid.266902.9",
          "grid.185648.6",
          "grid.239578.2",
          "grid.137628.9",
          "grid.239838.b",
          "grid.189967.8",
          "grid.35403.31",
          "grid.20736.30",
          "grid.412973.a"
         ]
        },
        {
         "count": 5,
         "first_name": "Idaku Ishii",
         "id": "ur.01174531414.31",
         "last_name": "Ishii",
         "research_orgs": [
          "grid.26999.3d",
          "grid.257022.0",
          "grid.136594.c",
          "grid.471140.7"
         ]
        },
        {
         "count": 5,
         "first_name": "Wen-Qin",
         "id": "ur.012043275077.78",
         "last_name": "Wang",
         "research_orgs": [
          "grid.258806.1",
          "grid.260463.5"
         ]
        },
        {
         "count": 5,
         "first_name": "Toru",
         "id": "ur.012055641571.86",
         "last_name": "Miyaji",
         "research_orgs": [
          "grid.258806.1"
         ]
        },
        {
         "count": 5,
         "first_name": "Taichi",
         "id": "ur.012117631711.31",
         "last_name": "Kuroki",
         "research_orgs": [
          "grid.258806.1"
         ]
        },
        {
         "count": 5,
         "first_name": "Kazuya",
         "id": "ur.01212536403.10",
         "last_name": "Haraguchi",
         "research_orgs": [
          "grid.411238.d"
         ]
        },
        {
         "count": 5,
         "first_name": "Kazuki",
         "id": "ur.012143326033.59",
         "last_name": "Iida",
         "research_orgs": [
          "grid.258806.1"
         ]
        },
        {
         "count": 5,
         "first_name": "Takao",
         "id": "ur.012144173017.79",
         "last_name": "Akahoshi",
         "research_orgs": [
          "grid.258806.1"
         ]
        },
        {
         "count": 5,
         "first_name": "Barbara",
         "id": "ur.01221050034.07",
         "last_name": "Kłos",
         "research_orgs": [
          "grid.11866.38"
         ]
        },
        {
         "count": 5,
         "first_name": "Kenjiro",
         "id": "ur.012225714221.87",
         "last_name": "Tadakuma",
         "research_orgs": [
          "grid.136593.b",
          "grid.266298.1",
          "grid.268394.2",
          "grid.32197.3e",
          "grid.116068.8",
          "grid.69566.3a"
         ]
        },
        {
         "count": 5,
         "first_name": "Masahiro",
         "id": "ur.012227660135.14",
         "last_name": "Nishida",
         "research_orgs": [
          "grid.47716.33",
          "grid.32197.3e",
          "grid.419082.6"
         ]
        },
        {
         "count": 5,
         "first_name": "Atsushi",
         "id": "ur.012236261423.20",
         "last_name": "Yamazaki",
         "research_orgs": [
          "grid.26999.3d",
          "grid.260969.2",
          "grid.20256.33",
          "grid.27476.30",
          "grid.258799.8"
         ]
        },
        {
         "count": 5,
         "first_name": "Masami Tanahashi",
         "id": "ur.01237461225.21",
         "last_name": "Hashimoto",
         "research_orgs": [
          "grid.410791.a",
          "grid.266298.1"
         ]
        },
        {
         "count": 5,
         "first_name": "Daniel",
         "id": "ur.01240147644.95",
         "last_name": "Roggen",
         "research_orgs": [
          "grid.1006.7",
          "grid.5801.c",
          "grid.5333.6",
          "grid.12082.39"
         ]
        },
        {
         "count": 5,
         "first_name": "Kengo",
         "id": "ur.012436654063.15",
         "last_name": "Hamada",
         "research_orgs": [
          "grid.258806.1"
         ]
        },
        {
         "count": 5,
         "first_name": "Infall",
         "id": "ur.012450356107.67",
         "last_name": "Syafalni",
         "research_orgs": [
          "grid.258806.1",
          "grid.434933.a",
          "grid.11875.3a"
         ]
        },
        {
         "count": 5,
         "first_name": "Eiko",
         "id": "ur.01250273041.57",
         "last_name": "Kai",
         "research_orgs": [
          "grid.177174.3"
         ]
        },
        {
         "count": 5,
         "first_name": "Yoshinari",
         "id": "ur.012513422307.17",
         "last_name": "Ikeda",
         "research_orgs": [
          "grid.471128.9"
         ]
        },
        {
         "count": 5,
         "first_name": "Akihiro",
         "id": "ur.012521043173.28",
         "last_name": "Satoh",
         "orcid_id": [
          "0000-0003-3178-1041"
         ],
         "research_orgs": [
          "grid.258806.1"
         ]
        },
        {
         "count": 5,
         "first_name": "Zhenjiang",
         "id": "ur.012527654611.41",
         "last_name": "Hu",
         "research_orgs": [
          "grid.26999.3d",
          "grid.11135.37",
          "grid.275033.0",
          "grid.419082.6",
          "grid.454183.f",
          "grid.250343.3"
         ]
        },
        {
         "count": 5,
         "first_name": "Masaaki Kodama",
         "id": "ur.01254661515.00",
         "last_name": "Kodama",
         "research_orgs": [
          "grid.411238.d"
         ]
        },
        {
         "count": 5,
         "first_name": "Masato",
         "id": "ur.012555375257.39",
         "last_name": "Yamamura",
         "research_orgs": [
          "grid.258806.1",
          "grid.258799.8"
         ]
        },
        {
         "count": 5,
         "first_name": "Yuta",
         "id": "ur.012630164247.32",
         "last_name": "Yamato",
         "research_orgs": [
          "grid.258806.1",
          "grid.260493.a",
          "grid.419082.6"
         ]
        },
        {
         "count": 5,
         "first_name": "Shufeng",
         "id": "ur.01274574426.61",
         "last_name": "Wang",
         "orcid_id": [
          "0000-0003-3536-8000"
         ],
         "research_orgs": [
          "grid.258806.1",
          "grid.163032.5",
          "grid.9435.b",
          "grid.11135.37"
         ]
        },
        {
         "count": 5,
         "first_name": "Nguyen Viet",
         "id": "ur.012771202133.20",
         "last_name": "Ha",
         "research_orgs": [
          "grid.258806.1"
         ]
        },
        {
         "count": 5,
         "first_name": "Kiminori",
         "id": "ur.013005471425.20",
         "last_name": "Matsuzaki",
         "research_orgs": [
          "grid.440900.9",
          "grid.26999.3d"
         ]
        },
        {
         "count": 5,
         "first_name": "Makoto",
         "id": "ur.013023451205.65",
         "last_name": "Wakeshima",
         "research_orgs": [
          "grid.267687.a",
          "grid.39158.36"
         ]
        },
        {
         "count": 5,
         "first_name": "Shinji",
         "id": "ur.01303714652.10",
         "last_name": "Sueda",
         "orcid_id": [
          "0000-0002-0669-2701"
         ],
         "research_orgs": [
          "grid.258806.1",
          "grid.419082.6"
         ]
        },
        {
         "count": 5,
         "first_name": "Hideki",
         "id": "ur.013071442640.12",
         "last_name": "Honda",
         "research_orgs": [
          "grid.258806.1"
         ]
        },
        {
         "count": 5,
         "first_name": "Hiroyuki",
         "id": "ur.013074324155.76",
         "last_name": "Narahara",
         "research_orgs": [
          "grid.258806.1"
         ]
        },
        {
         "count": 5,
         "first_name": "Rong",
         "id": "ur.013141557265.47",
         "last_name": "Li",
         "research_orgs": [
          "grid.258806.1"
         ]
        },
        {
         "count": 5,
         "first_name": "Tada-Aki",
         "id": "ur.01325736104.83",
         "last_name": "Kudo",
         "research_orgs": [
          "grid.20515.33",
          "grid.69566.3a"
         ]
        },
        {
         "count": 5,
         "first_name": "Shogo",
         "id": "ur.013274560175.06",
         "last_name": "Inaba",
         "research_orgs": [
          "grid.471888.a",
          "grid.26999.3d"
         ]
        },
        {
         "count": 5,
         "first_name": "Takashi",
         "id": "ur.013305727325.75",
         "last_name": "Sakamaki",
         "research_orgs": [
          "grid.26999.3d",
          "grid.143643.7"
         ]
        },
        {
         "count": 5,
         "first_name": "Pierdomenico",
         "id": "ur.013422773015.48",
         "last_name": "Pepe",
         "orcid_id": [
          "0000-0001-8522-1643"
         ],
         "research_orgs": [
          "grid.5326.2",
          "grid.7010.6",
          "grid.158820.6"
         ]
        },
        {
         "count": 5,
         "first_name": "Takashi",
         "id": "ur.013435464711.95",
         "last_name": "Okamoto",
         "orcid_id": [
          "0000-0001-6351-236X"
         ],
         "research_orgs": [
          "grid.258806.1",
          "grid.39158.36",
          "grid.260563.4"
         ]
        },
        {
         "count": 5,
         "first_name": "Satarou",
         "id": "ur.013451747121.54",
         "last_name": "Yamaguchi",
         "research_orgs": [
          "grid.419418.1",
          "grid.254217.7",
          "grid.1029.a",
          "grid.26999.3d",
          "grid.412013.5"
         ]
        },
        {
         "count": 5,
         "first_name": "Masahiro",
         "id": "ur.013456165172.25",
         "last_name": "Yamaguchi",
         "research_orgs": [
          "grid.257114.4",
          "grid.136593.b"
         ]
        },
        {
         "count": 5,
         "first_name": "Kazimierz",
         "id": "ur.01346136142.89",
         "last_name": "Bodek",
         "research_orgs": [
          "grid.5522.0",
          "grid.425078.c",
          "grid.5801.c",
          "grid.5570.7"
         ]
        },
        {
         "count": 5,
         "first_name": "Ryusuke",
         "id": "ur.013515037561.46",
         "last_name": "Nakamura",
         "orcid_id": [
          "0000-0002-6238-704X"
         ],
         "research_orgs": [
          "grid.261455.1",
          "grid.136593.b",
          "grid.4817.a",
          "grid.69566.3a"
         ]
        },
        {
         "count": 5,
         "first_name": "Hiroki",
         "id": "ur.013515150433.24",
         "last_name": "Nakahara",
         "research_orgs": [
          "grid.258806.1",
          "grid.255464.4",
          "grid.32197.3e",
          "grid.258333.c"
         ]
        },
        {
         "count": 5,
         "first_name": "Yoshiaki",
         "id": "ur.013515307705.34",
         "last_name": "Okazaki",
         "research_orgs": [
          "grid.258806.1",
          "grid.177174.3",
          "grid.471497.8"
         ]
        },
        {
         "count": 5,
         "first_name": "Akira",
         "id": "ur.013515471125.45",
         "last_name": "Izumi",
         "research_orgs": [
          "grid.258806.1",
          "grid.480443.f",
          "grid.444515.5"
         ]
        },
        {
         "count": 5,
         "first_name": "Hongxia",
         "id": "ur.01352233011.99",
         "last_name": "Wang",
         "orcid_id": [
          "0000-0003-0146-5259"
         ],
         "research_orgs": [
          "grid.7340.0",
          "grid.1024.7",
          "grid.458438.6"
         ]
        },
        {
         "count": 5,
         "first_name": "Ian",
         "id": "ur.01355424625.53",
         "last_name": "Harrison",
         "research_orgs": [
          "grid.440435.2",
          "grid.4563.4"
         ]
        },
        {
         "count": 5,
         "first_name": "Daisuke",
         "id": "ur.013555234075.36",
         "last_name": "Sato",
         "research_orgs": [
          "grid.258806.1"
         ]
        },
        {
         "count": 5,
         "first_name": "Magd Abdel",
         "id": "ur.013610456502.99",
         "last_name": "Wahab",
         "orcid_id": [
          "0000-0002-3610-865X"
         ],
         "research_orgs": [
          "grid.444918.4",
          "grid.444812.f",
          "grid.5342.0",
          "grid.5596.f",
          "grid.5475.3"
         ]
        },
        {
         "count": 5,
         "first_name": "Jacek",
         "id": "ur.01365342542.53",
         "last_name": "Zejma",
         "research_orgs": [
          "grid.5522.0",
          "grid.11866.38",
          "grid.5801.c"
         ]
        },
        {
         "count": 5,
         "first_name": "Mika",
         "id": "ur.013775416712.88",
         "last_name": "Otsuki",
         "research_orgs": [
          "grid.39158.36"
         ]
        },
        {
         "count": 5,
         "first_name": "Jin",
         "id": "ur.014003543041.72",
         "last_name": "Wang",
         "research_orgs": [
          "grid.258806.1"
         ]
        },
        {
         "count": 5,
         "first_name": "Yuka",
         "id": "ur.014056553567.31",
         "last_name": "Miyamoto",
         "research_orgs": [
          "grid.444537.5"
         ]
        },
        {
         "count": 5,
         "first_name": "Nishanth",
         "id": "ur.014076411236.38",
         "last_name": "Koganti",
         "research_orgs": [
          "grid.258806.1",
          "grid.26999.3d",
          "grid.260493.a"
         ]
        },
        {
         "count": 5,
         "first_name": "Hassaan",
         "id": "ur.014212516675.09",
         "last_name": "Majeed",
         "research_orgs": [
          "grid.411030.7",
          "grid.440540.1",
          "grid.35403.31",
          "grid.412117.0"
         ]
        },
        {
         "count": 5,
         "first_name": "Shuichi",
         "id": "ur.014244613644.63",
         "last_name": "Enokida",
         "research_orgs": [
          "grid.258806.1"
         ]
        },
        {
         "count": 5,
         "first_name": "Kennichi",
         "id": "ur.014255174601.46",
         "last_name": "Asami",
         "research_orgs": [
          "grid.258806.1"
         ]
        },
        {
         "count": 5,
         "first_name": "Laura Elisa",
         "id": "ur.014275646531.77",
         "last_name": "Marcucci",
         "research_orgs": [
          "grid.5395.a",
          "grid.466750.6",
          "grid.470216.6",
          "grid.261368.8"
         ]
        },
        {
         "count": 5,
         "first_name": "Zhiguo",
         "id": "ur.014311262733.76",
         "last_name": "Zhang",
         "research_orgs": [
          "grid.258806.1"
         ]
        },
        {
         "count": 5,
         "first_name": "Hideaki",
         "id": "ur.014315256507.50",
         "last_name": "Kawano",
         "research_orgs": [
          "grid.258806.1"
         ]
        },
        {
         "count": 5,
         "first_name": "Jiang",
         "id": "ur.014404410045.10",
         "last_name": "Wu",
         "orcid_id": [
          "0000-0002-2941-3656"
         ],
         "research_orgs": [
          "grid.43169.39"
         ]
        },
        {
         "count": 5,
         "first_name": "Kentarou",
         "id": "ur.014457204643.84",
         "last_name": "Hirose",
         "research_orgs": [
          "grid.258806.1"
         ]
        },
        {
         "count": 5,
         "first_name": "Wan Zuha Wan",
         "id": "ur.014463402266.65",
         "last_name": "Hasan",
         "orcid_id": [
          "0000-0003-4691-066X"
         ],
         "research_orgs": [
          "grid.11142.37"
         ]
        },
        {
         "count": 5,
         "first_name": "A",
         "id": "ur.014673450253.12",
         "last_name": "Ramazani-Moghaddam-Arani",
         "research_orgs": [
          "grid.412057.5",
          "grid.4830.f"
         ]
        },
        {
         "count": 5,
         "first_name": "Thach Ngoc",
         "id": "ur.014707532363.98",
         "last_name": "Dinh",
         "orcid_id": [
          "0000-0001-8827-0993"
         ],
         "research_orgs": [
          "grid.258806.1",
          "grid.12810.3a",
          "grid.424471.0",
          "grid.5328.c",
          "grid.58140.38",
          "grid.36823.3c"
         ]
        },
        {
         "count": 5,
         "first_name": "Natsuki",
         "id": "ur.014724500731.40",
         "last_name": "Uechi",
         "research_orgs": [
          "grid.471922.b"
         ]
        },
        {
         "count": 5,
         "first_name": "Iwao",
         "id": "ur.015005324515.40",
         "last_name": "Sasaki",
         "research_orgs": [
          "grid.258806.1"
         ]
        },
        {
         "count": 5,
         "first_name": "Weiwei",
         "id": "ur.015076312412.51",
         "last_name": "Shi",
         "research_orgs": [
          "grid.258806.1"
         ]
        },
        {
         "count": 5,
         "first_name": "Shota",
         "id": "ur.015144665027.04",
         "last_name": "Hama",
         "research_orgs": [
          "grid.258806.1"
         ]
        },
        {
         "count": 5,
         "first_name": "Motoi",
         "id": "ur.015272617175.70",
         "last_name": "Nakao",
         "research_orgs": [
          "grid.258806.1",
          "grid.261455.1",
          "grid.136593.b",
          "grid.473131.3",
          "grid.471761.2"
         ]
        },
        {
         "count": 5,
         "first_name": "Jin Hyuk",
         "id": "ur.015275514367.23",
         "last_name": "Kim",
         "orcid_id": [
          "0000-0001-7251-7154"
         ],
         "research_orgs": [
          "grid.258806.1",
          "grid.454135.2",
          "grid.202119.9",
          "grid.412786.e"
         ]
        },
        {
         "count": 5,
         "first_name": "Wataru",
         "id": "ur.015325214567.31",
         "last_name": "Hori",
         "research_orgs": [
          "grid.258806.1",
          "grid.471761.2"
         ]
        },
        {
         "count": 5,
         "first_name": "Jianru",
         "id": "ur.015421252505.34",
         "last_name": "Li",
         "research_orgs": [
          "grid.24516.34"
         ]
        },
        {
         "count": 5,
         "first_name": "Yusuke",
         "id": "ur.015542442300.36",
         "last_name": "Ura",
         "research_orgs": [
          "grid.258806.1"
         ]
        },
        {
         "count": 5,
         "first_name": "Koichi",
         "id": "ur.015560354541.70",
         "last_name": "Hayashi",
         "research_orgs": [
          "grid.47716.33",
          "grid.462966.9",
          "grid.482504.f"
         ]
        },
        {
         "count": 5,
         "first_name": "Makoto",
         "id": "ur.015670337741.00",
         "last_name": "Yamanaka",
         "research_orgs": [
          "grid.458430.e",
          "grid.471670.3",
          "grid.419257.c"
         ]
        },
        {
         "count": 5,
         "first_name": "Yasufumi",
         "id": "ur.016035567243.54",
         "last_name": "Touma",
         "research_orgs": [
          "grid.258806.1"
         ]
        },
        {
         "count": 5,
         "first_name": "Hayato",
         "id": "ur.016101736267.21",
         "last_name": "Hagiwara",
         "research_orgs": [
          "grid.258806.1"
         ]
        },
        {
         "count": 5,
         "first_name": "Tran Thi Thao",
         "id": "ur.016105417540.28",
         "last_name": "Nguyen",
         "research_orgs": [
          "grid.258806.1"
         ]
        },
        {
         "count": 5,
         "first_name": "Tatsuo",
         "id": "ur.016132215141.02",
         "last_name": "Tabaru",
         "research_orgs": [
          "grid.208504.b",
          "grid.69566.3a"
         ]
        },
        {
         "count": 5,
         "first_name": "Yutaka",
         "id": "ur.016245415444.19",
         "last_name": "Suzuki",
         "research_orgs": [
          "grid.26999.3d",
          "grid.39158.36",
          "grid.208504.b",
          "grid.480536.c",
          "grid.136593.b",
          "grid.461801.a",
          "grid.418306.8",
          "grid.411621.1",
          "grid.419026.8",
          "grid.268154.c",
          "grid.416093.9",
          "grid.258799.8",
          "grid.412381.d",
          "grid.7597.c",
          "grid.69566.3a"
         ]
        },
        {
         "count": 5,
         "first_name": "Tetsuya",
         "id": "ur.016251662474.25",
         "last_name": "Ojiro",
         "research_orgs": [
          "grid.258806.1",
          "grid.411241.3"
         ]
        },
        {
         "count": 5,
         "first_name": "Kazuo",
         "id": "ur.016311745245.03",
         "last_name": "Iida",
         "research_orgs": [
          "grid.260026.0"
         ]
        },
        {
         "count": 5,
         "first_name": "Jun",
         "id": "ur.016326015735.72",
         "last_name": "Kobayashi",
         "research_orgs": [
          "grid.258806.1"
         ]
        },
        {
         "count": 5,
         "first_name": "Yasushi",
         "id": "ur.016452760531.76",
         "last_name": "Hirano",
         "research_orgs": [
          "grid.27476.30",
          "grid.268397.1"
         ]
        },
        {
         "count": 5,
         "first_name": "Takeshi",
         "id": "ur.016624151471.95",
         "last_name": "Nakatani",
         "research_orgs": [
          "grid.26999.3d",
          "grid.410588.0"
         ]
        },
        {
         "count": 5,
         "first_name": "Takayuki",
         "id": "ur.0617205342.55",
         "last_name": "Nagasaki",
         "research_orgs": [
          "grid.442870.d",
          "grid.444753.5"
         ]
        },
        {
         "count": 5,
         "first_name": "Yuji",
         "id": "ur.0622030426.13",
         "last_name": "Koseki",
         "orcid_id": [
          "0000-0003-2755-3679"
         ],
         "research_orgs": [
          "grid.258806.1"
         ]
        },
        {
         "count": 5,
         "first_name": "Jin",
         "id": "ur.0671101011.41",
         "last_name": "Chang",
         "orcid_id": [
          "0000-0001-7449-4080"
         ],
         "research_orgs": [
          "grid.1024.7",
          "grid.412022.7",
          "grid.419082.6",
          "grid.266298.1"
         ]
        },
        {
         "count": 5,
         "first_name": "Duc Khai",
         "id": "ur.07446652305.48",
         "last_name": "Lam",
         "research_orgs": [
          "grid.258806.1"
         ]
        },
        {
         "count": 5,
         "first_name": "Mario",
         "id": "ur.07622650061.71",
         "last_name": "Koeppen",
         "research_orgs": [
          "grid.258806.1"
         ]
        },
        {
         "count": 5,
         "first_name": "Takuya",
         "id": "ur.07630466243.50",
         "last_name": "Nosaka",
         "research_orgs": [
          "grid.258806.1"
         ]
        },
        {
         "count": 5,
         "first_name": "Ken'Ichi",
         "id": "ur.0775361534.49",
         "last_name": "Yokoyama",
         "research_orgs": [
          "grid.258806.1",
          "grid.5290.e",
          "grid.267335.6"
         ]
        },
        {
         "count": 4,
         "first_name": "Sadahiro",
         "id": "ur.01000432661.06",
         "last_name": "Nomura",
         "research_orgs": [
          "grid.415872.d",
          "grid.471314.4",
          "grid.413010.7",
          "grid.268397.1"
         ]
        },
        {
         "count": 4,
         "first_name": "Yoshihiko",
         "id": "ur.01002431212.65",
         "last_name": "Tagawa",
         "research_orgs": [
          "grid.258806.1",
          "grid.444197.b",
          "grid.410781.b"
         ]
        },
        {
         "count": 4,
         "first_name": "Nor Azowa Bt",
         "id": "ur.01003556551.94",
         "last_name": "Ibrahim",
         "orcid_id": [
          "0000-0001-5400-2819"
         ],
         "research_orgs": [
          "grid.11142.37",
          "grid.10347.31"
         ]
        },
        {
         "count": 4,
         "first_name": "Fu-Min",
         "id": "ur.010040576637.10",
         "last_name": "Shen",
         "research_orgs": [
          "grid.54549.39",
          "grid.1010.0",
          "grid.410579.e",
          "grid.41156.37"
         ]
        },
        {
         "count": 4,
         "first_name": "R Dhilip",
         "id": "ur.010046357557.19",
         "last_name": "Kumar",
         "research_orgs": [
          "grid.411312.4"
         ]
        },
        {
         "count": 4,
         "first_name": "Takayuki",
         "id": "ur.010063743627.17",
         "last_name": "Matsuo",
         "research_orgs": [
          "grid.258806.1",
          "grid.471761.2",
          "grid.482504.f"
         ]
        },
        {
         "count": 4,
         "first_name": "Mei",
         "id": "ur.010104275355.97",
         "last_name": "Wang",
         "orcid_id": [
          "0000-0003-3287-0046"
         ],
         "research_orgs": [
          "grid.440720.5"
         ]
        },
        {
         "count": 4,
         "first_name": "Hiroshi",
         "id": "ur.010120012153.89",
         "last_name": "Maeda",
         "research_orgs": [
          "grid.258806.1"
         ]
        },
        {
         "count": 4,
         "first_name": "Akiyoshi",
         "id": "ur.010127735125.07",
         "last_name": "Baba",
         "research_orgs": [
          "grid.258806.1",
          "grid.480606.c",
          "grid.471949.6"
         ]
        },
        {
         "count": 4,
         "first_name": "Toshitaka",
         "id": "ur.010133043541.60",
         "last_name": "Yamakawa",
         "research_orgs": [
          "grid.258806.1",
          "grid.263536.7",
          "grid.471497.8",
          "grid.274841.c",
          "grid.258799.8",
          "grid.268397.1",
          "grid.265073.5"
         ]
        },
        {
         "count": 4,
         "first_name": "Takashi",
         "id": "ur.010133420511.37",
         "last_name": "Saito",
         "research_orgs": [
          "grid.268397.1"
         ]
        },
        {
         "count": 4,
         "first_name": "Keisuke",
         "id": "ur.010147440131.87",
         "last_name": "Asai",
         "research_orgs": [
          "grid.26999.3d",
          "grid.27476.30",
          "grid.69566.3a",
          "grid.419082.6"
         ]
        },
        {
         "count": 4,
         "first_name": "Takehiro",
         "id": "ur.010153545271.39",
         "last_name": "Ito",
         "research_orgs": [
          "grid.419082.6",
          "grid.69566.3a"
         ]
        },
        {
         "count": 4,
         "first_name": "Koichi",
         "id": "ur.010162203061.86",
         "last_name": "Norimatsu",
         "research_orgs": [
          "grid.258806.1"
         ]
        },
        {
         "count": 4,
         "first_name": "Kenji",
         "id": "ur.010165047277.94",
         "last_name": "Araki",
         "research_orgs": [
          "grid.257114.4",
          "grid.410792.9"
         ]
        },
        {
         "count": 4,
         "first_name": "Kenji",
         "id": "ur.010170740274.28",
         "last_name": "Suzuki",
         "research_orgs": [
          "grid.258806.1",
          "grid.34477.33"
         ]
        },
        {
         "count": 4,
         "first_name": "Masanori",
         "id": "ur.01017470553.17",
         "last_name": "Okamoto",
         "orcid_id": [
          "0000-0002-1743-0408"
         ],
         "research_orgs": [
          "grid.267687.a",
          "grid.266097.c",
          "grid.419082.6",
          "grid.261356.5",
          "grid.265074.2",
          "grid.7597.c",
          "grid.265107.7",
          "grid.411764.1",
          "grid.28665.3f"
         ]
        },
        {
         "count": 4,
         "first_name": "Terutaka",
         "id": "ur.010201256205.00",
         "last_name": "Goto",
         "research_orgs": [
          "grid.26999.3d",
          "grid.260975.f",
          "grid.412681.8",
          "grid.419082.6",
          "grid.20515.33",
          "grid.69566.3a"
         ]
        },
        {
         "count": 4,
         "first_name": "Koji",
         "id": "ur.010202521066.19",
         "last_name": "Tashiro",
         "research_orgs": [
          "grid.258806.1"
         ]
        },
        {
         "count": 4,
         "first_name": "Hideyuki",
         "id": "ur.010206100471.59",
         "last_name": "Yasuda",
         "orcid_id": [
          "0000-0003-2344-714X"
         ],
         "research_orgs": [
          "grid.26999.3d",
          "grid.31432.37",
          "grid.5570.7",
          "grid.136593.b",
          "grid.21941.3f",
          "grid.258799.8"
         ]
        },
        {
         "count": 4,
         "first_name": "Tahera",
         "id": "ur.010220705760.37",
         "last_name": "Hossain",
         "research_orgs": [
          "grid.258806.1"
         ]
        },
        {
         "count": 4,
         "first_name": "Rie",
         "id": "ur.01022333523.45",
         "last_name": "Tachibana",
         "research_orgs": [
          "grid.482504.f",
          "grid.32224.35",
          "grid.268397.1",
          "grid.471949.6"
         ]
        },
        {
         "count": 4,
         "first_name": "Siti Suhailah",
         "id": "ur.010267246541.72",
         "last_name": "Sharuddin",
         "research_orgs": [
          "grid.11142.37",
          "grid.10347.31"
         ]
        },
        {
         "count": 4,
         "first_name": "Wei Kit",
         "id": "ur.010274426403.48",
         "last_name": "Chee",
         "research_orgs": [
          "grid.11142.37"
         ]
        },
        {
         "count": 4,
         "first_name": "Shui-Hua",
         "id": "ur.010274574067.86",
         "last_name": "Wang",
         "research_orgs": [
          "grid.258806.1",
          "grid.412097.9",
          "grid.41156.37",
          "grid.260474.3",
          "grid.263826.b",
          "grid.254250.4",
          "grid.484369.4",
          "grid.9918.9",
          "grid.6571.5",
          "grid.443514.3",
          "grid.256609.e"
         ]
        },
        {
         "count": 4,
         "first_name": "Tohru",
         "id": "ur.01027650453.21",
         "last_name": "Minamino",
         "orcid_id": [
          "0000-0003-1627-6151"
         ],
         "research_orgs": [
          "grid.260975.f",
          "grid.412181.f",
          "grid.26999.3d",
          "grid.4991.5",
          "grid.419082.6",
          "grid.136593.b",
          "grid.38142.3c",
          "grid.136304.3",
          "grid.257022.0",
          "grid.410570.7",
          "grid.268397.1",
          "grid.47100.32"
         ]
        },
        {
         "count": 4,
         "first_name": "Seiya",
         "id": "ur.010301306264.58",
         "last_name": "Masuda",
         "research_orgs": [
          "grid.258806.1"
         ]
        },
        {
         "count": 4,
         "first_name": "Minami",
         "id": "ur.01030135054.80",
         "last_name": "Shimizu",
         "research_orgs": [
          "grid.7597.c",
          "grid.258806.1"
         ]
        },
        {
         "count": 4,
         "first_name": "Makoto",
         "id": "ur.010312651201.56",
         "last_name": "Yamanaka",
         "research_orgs": [
          "grid.258806.1"
         ]
        },
        {
         "count": 4,
         "first_name": "Yoshio",
         "id": "ur.010320372342.47",
         "last_name": "Ebihara",
         "research_orgs": [
          "grid.4444.0",
          "grid.258799.8",
          "grid.462430.7"
         ]
        },
        {
         "count": 4,
         "first_name": "Masayuki",
         "id": "ur.010344646145.98",
         "last_name": "Okugawa",
         "orcid_id": [
          "0000-0002-6844-6856"
         ],
         "research_orgs": [
          "grid.261455.1"
         ]
        },
        {
         "count": 4,
         "first_name": "Shin'Ichi",
         "id": "ur.010352073731.10",
         "last_name": "Tsumori",
         "research_orgs": [
          "grid.443623.4",
          "grid.258622.9"
         ]
        },
        {
         "count": 4,
         "first_name": "Sven",
         "id": "ur.01037436251.53",
         "last_name": "Binder",
         "research_orgs": [
          "grid.135519.a",
          "grid.411461.7",
          "grid.6546.1"
         ]
        },
        {
         "count": 4,
         "first_name": "Renshi",
         "id": "ur.01041510142.07",
         "last_name": "Sawada",
         "research_orgs": [
          "grid.419819.c",
          "grid.26999.3d",
          "grid.177174.3",
          "grid.419082.6"
         ]
        },
        {
         "count": 4,
         "first_name": "Tomohiro",
         "id": "ur.010425144655.24",
         "last_name": "Ikeda",
         "research_orgs": [
          "grid.258806.1"
         ]
        },
        {
         "count": 4,
         "first_name": "Jan",
         "id": "ur.010451036415.90",
         "last_name": "Pejchal",
         "research_orgs": [
          "grid.410472.4",
          "grid.424881.3",
          "grid.10939.32",
          "grid.6652.7",
          "grid.69566.3a"
         ]
        },
        {
         "count": 4,
         "first_name": "Michiyasu",
         "id": "ur.010457465464.11",
         "last_name": "Suzuki",
         "research_orgs": [
          "grid.258806.1",
          "grid.411790.a",
          "grid.471314.4",
          "grid.413010.7",
          "grid.268397.1",
          "grid.69566.3a"
         ]
        },
        {
         "count": 4,
         "first_name": "Takashi",
         "id": "ur.010465276742.51",
         "last_name": "Kawamura",
         "research_orgs": [
          "grid.263518.b"
         ]
        },
        {
         "count": 4,
         "first_name": "Seishi",
         "id": "ur.010517116526.32",
         "last_name": "Takagi",
         "research_orgs": [
          "grid.258806.1",
          "grid.136593.b"
         ]
        },
        {
         "count": 4,
         "first_name": "Akihiko",
         "id": "ur.010520115441.48",
         "last_name": "Itose",
         "research_orgs": [
          "grid.258806.1"
         ]
        },
        {
         "count": 4,
         "first_name": "Siowhwa",
         "id": "ur.010525770330.49",
         "last_name": "Teo",
         "research_orgs": [
          "grid.258806.1"
         ]
        },
        {
         "count": 4,
         "first_name": "Daisuke H",
         "id": "ur.01055162571.62",
         "last_name": "Tanaka",
         "orcid_id": [
          "0000-0002-7469-0265"
         ],
         "research_orgs": [
          "grid.416909.3",
          "grid.419082.6",
          "grid.416698.4",
          "grid.136593.b",
          "grid.258777.8",
          "grid.26091.3c",
          "grid.1957.a",
          "grid.258799.8",
          "grid.416859.7",
          "grid.265107.7",
          "grid.265073.5",
          "grid.20515.33"
         ]
        },
        {
         "count": 4,
         "first_name": "Shokichi",
         "id": "ur.010560363453.86",
         "last_name": "Ohuchi",
         "research_orgs": [
          "grid.419680.2",
          "grid.32197.3e",
          "grid.418798.b",
          "grid.136594.c",
          "grid.258806.1"
         ]
        },
        {
         "count": 4,
         "first_name": "Shuhei",
         "id": "ur.01060005357.52",
         "last_name": "Takahashi",
         "research_orgs": [
          "grid.258806.1"
         ]
        },
        {
         "count": 4,
         "first_name": "Suraini",
         "id": "ur.01063456533.05",
         "last_name": "Abd-Aziz",
         "research_orgs": [
          "grid.11142.37"
         ]
        },
        {
         "count": 4,
         "first_name": "Kiyotaka",
         "id": "ur.010673531175.23",
         "last_name": "Fuji",
         "research_orgs": [
          "grid.258806.1"
         ]
        },
        {
         "count": 4,
         "first_name": "Ryo",
         "id": "ur.010714654347.25",
         "last_name": "Taba",
         "research_orgs": [
          "grid.471922.b",
          "grid.69566.3a"
         ]
        },
        {
         "count": 4,
         "first_name": "Kazuhisa",
         "id": "ur.010723555024.33",
         "last_name": "Sato",
         "orcid_id": [
          "0000-0001-9078-2541"
         ],
         "research_orgs": [
          "grid.136593.b",
          "grid.35403.31",
          "grid.69566.3a"
         ]
        },
        {
         "count": 4,
         "first_name": "Kosei",
         "id": "ur.010735025331.95",
         "last_name": "Fujiwara",
         "research_orgs": [
          "grid.258806.1"
         ]
        },
        {
         "count": 4,
         "first_name": "Pieter",
         "id": "ur.010746455633.11",
         "last_name": "Maris",
         "research_orgs": [
          "grid.411461.7",
          "grid.34421.30"
         ]
        },
        {
         "count": 4,
         "first_name": "Takumi",
         "id": "ur.010751454753.32",
         "last_name": "Inoshita",
         "research_orgs": [
          "grid.5290.e"
         ]
        },
        {
         "count": 4,
         "first_name": "David",
         "id": "ur.01075461564.94",
         "last_name": "Chik",
         "research_orgs": [
          "grid.258806.1",
          "grid.11201.33"
         ]
        },
        {
         "count": 4,
         "first_name": "Keiichiro",
         "id": "ur.01077144260.43",
         "last_name": "Kume",
         "orcid_id": [
          "0000-0002-0444-4739"
         ],
         "research_orgs": [
          "grid.271052.3"
         ]
        },
        {
         "count": 4,
         "first_name": "Ning",
         "id": "ur.01101170132.56",
         "last_name": "Wang",
         "orcid_id": [
          "0000-0002-4902-5589"
         ],
         "research_orgs": [
          "grid.24515.37",
          "grid.41156.37",
          "grid.24696.3f",
          "grid.1007.6",
          "grid.6546.1",
          "grid.410726.6",
          "grid.458438.6",
          "grid.64939.31",
          "grid.1029.a",
          "grid.411292.d",
          "grid.67293.39",
          "grid.7450.6",
          "grid.8547.e",
          "grid.467854.c",
          "grid.13402.34",
          "grid.418929.f",
          "grid.11135.37",
          "grid.419897.a",
          "grid.464255.4",
          "grid.69775.3a",
          "grid.12527.33",
          "grid.28703.3e",
          "grid.458500.c",
          "grid.35030.35",
          "grid.488206.0",
          "grid.255168.d",
          "grid.30055.33",
          "grid.6572.6",
          "grid.256883.2",
          "grid.418028.7",
          "grid.194645.b",
          "grid.59053.3a",
          "grid.213917.f",
          "grid.256884.5",
          "grid.9227.e",
          "grid.458487.2",
          "grid.482544.b",
          "grid.452582.c"
         ]
        },
        {
         "count": 4,
         "first_name": "Kazuhiro",
         "id": "ur.011020077701.80",
         "last_name": "Tsuruta",
         "research_orgs": [
          "grid.258806.1",
          "grid.411241.3",
          "grid.412339.e"
         ]
        },
        {
         "count": 4,
         "first_name": "Masami",
         "id": "ur.011023755045.83",
         "last_name": "Kubota",
         "research_orgs": [
          "grid.471608.c"
         ]
        },
        {
         "count": 4,
         "first_name": "Shinji",
         "id": "ur.01106323647.45",
         "last_name": "Hirotsune",
         "research_orgs": [
          "grid.263023.6",
          "grid.266100.3",
          "grid.280128.1",
          "grid.419082.6",
          "grid.261445.0",
          "grid.410796.d",
          "grid.7597.c",
          "grid.20515.33"
         ]
        },
        {
         "count": 4,
         "first_name": "Xuchun",
         "id": "ur.01107147405.43",
         "last_name": "Wang",
         "research_orgs": [
          "grid.443368.e",
          "grid.252245.6"
         ]
        },
        {
         "count": 4,
         "first_name": "Yu",
         "id": "ur.011075163543.75",
         "last_name": "Chen",
         "research_orgs": [
          "grid.258806.1",
          "grid.5290.e",
          "grid.43169.39"
         ]
        },
        {
         "count": 4,
         "first_name": "Juferi",
         "id": "ur.011077776021.13",
         "last_name": "Idris",
         "research_orgs": [
          "grid.258806.1",
          "grid.412259.9"
         ]
        },
        {
         "count": 4,
         "first_name": "Tadayoshi",
         "id": "ur.011103012610.40",
         "last_name": "Aoyama",
         "research_orgs": [
          "grid.257022.0",
          "grid.27476.30"
         ]
        },
        {
         "count": 4,
         "first_name": "Sumito",
         "id": "ur.011117474657.74",
         "last_name": "Ishizu",
         "research_orgs": [
          "grid.480436.d",
          "grid.5290.e",
          "grid.69566.3a"
         ]
        },
        {
         "count": 4,
         "first_name": "Masao",
         "id": "ur.01113440117.03",
         "last_name": "Arai",
         "orcid_id": [
          "0000-0003-0088-5649"
         ],
         "research_orgs": [
          "grid.258806.1",
          "grid.26999.3d",
          "grid.274841.c",
          "grid.21941.3f",
          "grid.410849.0"
         ]
        },
        {
         "count": 4,
         "first_name": "Gabriela",
         "id": "ur.011212231227.57",
         "last_name": "Martinska",
         "research_orgs": [
          "grid.424884.6",
          "grid.435184.f",
          "grid.445984.0",
          "grid.11175.33",
          "grid.33762.33"
         ]
        },
        {
         "count": 4,
         "first_name": "Yuichi",
         "id": "ur.01123377066.20",
         "last_name": "Nemoto",
         "research_orgs": [
          "grid.260975.f",
          "grid.40602.30",
          "grid.419082.6",
          "grid.69566.3a"
         ]
        },
        {
         "count": 4,
         "first_name": "Shota",
         "id": "ur.011240713742.12",
         "last_name": "Hidaka",
         "research_orgs": [
          "grid.258806.1"
         ]
        },
        {
         "count": 4,
         "first_name": "Antony",
         "id": "ur.01126760341.06",
         "last_name": "Lam",
         "research_orgs": [
          "grid.263023.6",
          "grid.250343.3"
         ]
        },
        {
         "count": 4,
         "first_name": "Yukihiro",
         "id": "ur.01127031103.10",
         "last_name": "Tashiro",
         "research_orgs": [
          "grid.177174.3",
          "grid.444121.6"
         ]
        },
        {
         "count": 4,
         "first_name": "Shigemitsu",
         "id": "ur.011403151446.93",
         "last_name": "Okabe",
         "research_orgs": [
          "grid.480438.3",
          "grid.26999.3d",
          "grid.255178.c"
         ]
        },
        {
         "count": 4,
         "first_name": "Kazuyoshi",
         "id": "ur.011460433522.57",
         "last_name": "Yamada",
         "research_orgs": [
          "grid.419819.c",
          "grid.26999.3d",
          "grid.263023.6",
          "grid.31432.37",
          "grid.202665.5",
          "grid.116068.8",
          "grid.410794.f",
          "grid.258799.8",
          "grid.76978.37",
          "grid.148313.c",
          "grid.462605.3",
          "grid.69566.3a"
         ]
        },
        {
         "count": 4,
         "first_name": "Mitsuhiro",
         "id": "ur.01150171452.58",
         "last_name": "Akatsu",
         "research_orgs": [
          "grid.4488.0",
          "grid.260975.f",
          "grid.40602.30",
          "grid.208504.b"
         ]
        },
        {
         "count": 4,
         "first_name": "Siti Anom",
         "id": "ur.01150427164.47",
         "last_name": "Ahmad",
         "orcid_id": [
          "0000-0003-1759-0118"
         ],
         "research_orgs": [
          "grid.11142.37",
          "grid.5491.9"
         ]
        },
        {
         "count": 4,
         "first_name": "Mariko",
         "id": "ur.011505071151.96",
         "last_name": "Teramoto",
         "research_orgs": [
          "grid.474430.0",
          "grid.450279.d",
          "grid.62167.34",
          "grid.27476.30",
          "grid.258799.8"
         ]
        },
        {
         "count": 4,
         "first_name": "Tatsuji",
         "id": "ur.01150747257.81",
         "last_name": "Tokiwa",
         "research_orgs": [
          "grid.258806.1",
          "grid.443704.0"
         ]
        },
        {
         "count": 4,
         "first_name": "Hideaki",
         "id": "ur.01153723547.49",
         "last_name": "Matsui",
         "research_orgs": [
          "grid.258806.1"
         ]
        },
        {
         "count": 4,
         "first_name": "Nobuhiko",
         "id": "ur.011537616251.01",
         "last_name": "Nishio",
         "research_orgs": [
          "grid.262576.2"
         ]
        },
        {
         "count": 4,
         "first_name": "Hiroshi",
         "id": "ur.011623535035.55",
         "last_name": "Koresawa",
         "research_orgs": [
          "grid.258806.1"
         ]
        },
        {
         "count": 4,
         "first_name": "Xin",
         "id": "ur.011635406503.92",
         "last_name": "Chen",
         "research_orgs": [
          "grid.258806.1",
          "grid.5342.0"
         ]
        },
        {
         "count": 4,
         "first_name": "Takuya",
         "id": "ur.011647265315.83",
         "last_name": "Izuishi",
         "research_orgs": [
          "grid.266298.1"
         ]
        },
        {
         "count": 4,
         "first_name": "Takayuki",
         "id": "ur.011663472563.17",
         "last_name": "Sakurai",
         "research_orgs": [
          "grid.410825.a",
          "grid.498663.6"
         ]
        },
        {
         "count": 4,
         "first_name": "Mitsuhiro",
         "id": "ur.011672362332.60",
         "last_name": "Kojima",
         "research_orgs": [
          "grid.26999.3d"
         ]
        },
        {
         "count": 4,
         "first_name": "Arindam Gajendra",
         "id": "ur.011742657512.04",
         "last_name": "Mahapatra",
         "research_orgs": [
          "grid.258806.1"
         ]
        },
        {
         "count": 4,
         "first_name": "Takeshi",
         "id": "ur.011757140021.33",
         "last_name": "Fukuma",
         "orcid_id": [
          "0000-0001-8971-6002"
         ],
         "research_orgs": [
          "grid.9707.9",
          "grid.258799.8",
          "grid.8217.c",
          "grid.419082.6"
         ]
        },
        {
         "count": 4,
         "first_name": "D",
         "id": "ur.012004137353.62",
         "last_name": "Kirillov",
         "research_orgs": [
          "grid.33762.33"
         ]
        },
        {
         "count": 4,
         "first_name": "Susumu",
         "id": "ur.012074205271.33",
         "last_name": "Matsumae",
         "orcid_id": [
          "0000-0002-6024-343X"
         ],
         "research_orgs": [
          "grid.265107.7",
          "grid.412339.e",
          "grid.136593.b",
          "grid.443074.0"
         ]
        },
        {
         "count": 4,
         "first_name": "Masataka",
         "id": "ur.01210556340.17",
         "last_name": "Imura",
         "research_orgs": [
          "grid.259879.8",
          "grid.5290.e",
          "grid.21941.3f"
         ]
        },
        {
         "count": 4,
         "first_name": "Kenji",
         "id": "ur.012112373161.14",
         "last_name": "Hirata",
         "orcid_id": [
          "0000-0001-7024-7429"
         ],
         "research_orgs": [
          "grid.258806.1",
          "grid.69566.3a"
         ]
        },
        {
         "count": 4,
         "first_name": "Jian",
         "id": "ur.012134062600.65",
         "last_name": "Sun",
         "orcid_id": [
          "0000-0002-7954-120X"
         ],
         "research_orgs": [
          "grid.410817.b",
          "grid.254217.7",
          "grid.26999.3d",
          "grid.266298.1"
         ]
        },
        {
         "count": 4,
         "first_name": "Masahiro",
         "id": "ur.012167761063.25",
         "last_name": "Shibata",
         "research_orgs": [
          "grid.258806.1",
          "grid.136593.b"
         ]
        },
        {
         "count": 4,
         "first_name": "Takumi",
         "id": "ur.012210537221.05",
         "last_name": "Sato",
         "research_orgs": [
          "grid.26999.3d"
         ]
        },
        {
         "count": 4,
         "first_name": "Seiji",
         "id": "ur.012227564041.57",
         "last_name": "Tateyama",
         "research_orgs": [
          "grid.444515.5",
          "grid.419082.6"
         ]
        },
        {
         "count": 4,
         "first_name": "Ryo",
         "id": "ur.012265404305.30",
         "last_name": "Kabutan",
         "research_orgs": [
          "grid.258806.1"
         ]
        },
        {
         "count": 4,
         "first_name": "Hiroyuki",
         "id": "ur.012276534771.27",
         "last_name": "Kage",
         "research_orgs": [
          "grid.258806.1"
         ]
        },
        {
         "count": 4,
         "first_name": "Natthaphon",
         "id": "ur.012307341543.37",
         "last_name": "Bun-Athuek",
         "research_orgs": [
          "grid.258806.1",
          "grid.443738.f"
         ]
        },
        {
         "count": 4,
         "first_name": "Chang-Ping",
         "id": "ur.01231244752.12",
         "last_name": "Yu",
         "research_orgs": [
          "grid.9227.e",
          "grid.19188.39",
          "grid.264756.4",
          "grid.458454.c",
          "grid.134936.a"
         ]
        },
        {
         "count": 4,
         "first_name": "Hirofumi",
         "id": "ur.012337572410.16",
         "last_name": "Hoshida",
         "research_orgs": [
          "grid.258806.1"
         ]
        },
        {
         "count": 4,
         "first_name": "Ke-Jun",
         "id": "ur.012363545126.14",
         "last_name": "Hu",
         "research_orgs": [
          "grid.258806.1"
         ]
        },
        {
         "count": 4,
         "first_name": "Yunqi",
         "id": "ur.01237366374.70",
         "last_name": "Li",
         "research_orgs": [
          "grid.5290.e",
          "grid.21941.3f",
          "grid.64939.31"
         ]
        },
        {
         "count": 4,
         "first_name": "Yuji",
         "id": "ur.012413503425.57",
         "last_name": "Yokota",
         "research_orgs": [
          "grid.258806.1"
         ]
        },
        {
         "count": 4,
         "first_name": "Quan",
         "id": "ur.012424571422.70",
         "last_name": "Zhou",
         "research_orgs": [
          "grid.410645.2",
          "grid.419897.a",
          "grid.41156.37",
          "grid.449133.8",
          "grid.411851.8",
          "grid.33199.31",
          "grid.453246.2",
          "grid.4701.2",
          "grid.440654.7",
          "grid.260478.f",
          "grid.1019.9",
          "grid.410579.e"
         ]
        },
        {
         "count": 4,
         "first_name": "M",
         "id": "ur.012452353155.39",
         "last_name": "Kravcikova",
         "research_orgs": [
          "grid.6903.c",
          "grid.27139.3e"
         ]
        },
        {
         "count": 4,
         "first_name": "Zhong-Ping",
         "id": "ur.012471605456.43",
         "last_name": "Jiang",
         "research_orgs": [
          "grid.49470.3e",
          "grid.258806.1",
          "grid.11135.37",
          "grid.137628.9",
          "grid.412252.2",
          "grid.1001.0",
          "grid.19373.3f",
          "grid.1013.3",
          "grid.58140.38"
         ]
        },
        {
         "count": 4,
         "first_name": "Jimson Gelbolingo",
         "id": "ur.01250764004.01",
         "last_name": "Ngeo",
         "research_orgs": [
          "grid.258806.1",
          "grid.260493.a"
         ]
        },
        {
         "count": 4,
         "first_name": "Koji",
         "id": "ur.01252242677.88",
         "last_name": "Nishinaka",
         "research_orgs": [
          "grid.258806.1"
         ]
        },
        {
         "count": 4,
         "first_name": "Satoshi",
         "id": "ur.012530172525.05",
         "last_name": "Uehara",
         "research_orgs": [
          "grid.258806.1",
          "grid.412586.c",
          "grid.261356.5"
         ]
        },
        {
         "count": 4,
         "first_name": "Hayato",
         "id": "ur.012564241727.46",
         "last_name": "Tanabe",
         "research_orgs": [
          "grid.258806.1"
         ]
        },
        {
         "count": 4,
         "first_name": "Kazumasa",
         "id": "ur.01257370346.30",
         "last_name": "Narumi",
         "research_orgs": [
          "grid.500402.3",
          "grid.20256.33",
          "grid.258799.8",
          "grid.482503.8"
         ]
        },
        {
         "count": 4,
         "first_name": "Yuji",
         "id": "ur.012604717027.38",
         "last_name": "Shiba",
         "research_orgs": [
          "grid.258806.1"
         ]
        },
        {
         "count": 4,
         "first_name": "Yoshitaka",
         "id": "ur.01261100526.06",
         "last_name": "Ohtubo",
         "research_orgs": [
          "grid.258806.1",
          "grid.255381.8"
         ]
        },
        {
         "count": 4,
         "first_name": "Masamichi",
         "id": "ur.012647631121.11",
         "last_name": "Sakaino",
         "research_orgs": [
          "grid.258806.1",
          "grid.466950.8"
         ]
        },
        {
         "count": 4,
         "first_name": "Yoshihiro",
         "id": "ur.01265330352.37",
         "last_name": "Yamanishi",
         "research_orgs": [
          "grid.258806.1",
          "grid.260975.f",
          "grid.58140.38",
          "grid.419082.6",
          "grid.177174.3",
          "grid.258799.8",
          "grid.418596.7"
         ]
        },
        {
         "count": 4,
         "first_name": "Regina",
         "id": "ur.012654130720.79",
         "last_name": "Siudak",
         "research_orgs": [
          "grid.5522.0",
          "grid.10388.32",
          "grid.8385.6",
          "grid.413454.3",
          "grid.418860.3"
         ]
        },
        {
         "count": 4,
         "first_name": "Daiki",
         "id": "ur.012712362126.82",
         "last_name": "Mutoh",
         "research_orgs": [
          "grid.258806.1"
         ]
        },
        {
         "count": 4,
         "first_name": "Hiroyuki",
         "id": "ur.01275560251.64",
         "last_name": "Funaya",
         "research_orgs": [
          "grid.258806.1",
          "grid.260493.a",
          "grid.258799.8"
         ]
        },
        {
         "count": 4,
         "first_name": "Takuya",
         "id": "ur.012763005710.54",
         "last_name": "Kumamoto",
         "research_orgs": [
          "grid.258806.1"
         ]
        },
        {
         "count": 4,
         "first_name": "Keiji",
         "id": "ur.012776664371.91",
         "last_name": "Wada",
         "orcid_id": [
          "0000-0002-8590-8813"
         ],
         "research_orgs": [
          "grid.265074.2",
          "grid.32197.3e",
          "grid.440888.8",
          "grid.261356.5"
         ]
        },
        {
         "count": 4,
         "first_name": "Surbhi",
         "id": "ur.013020061241.24",
         "last_name": "Gupta",
         "research_orgs": [
          "grid.258806.1",
          "grid.260126.1",
          "grid.267033.3",
          "grid.8195.5",
          "grid.59025.3b"
         ]
        },
        {
         "count": 4,
         "first_name": "Tatsuo",
         "id": "ur.013042134407.92",
         "last_name": "Shimizu",
         "research_orgs": [
          "grid.258806.1"
         ]
        },
        {
         "count": 4,
         "first_name": "Kazue",
         "id": "ur.01305511561.39",
         "last_name": "Yoneda",
         "research_orgs": [
          "grid.271052.3",
          "grid.272264.7"
         ]
        },
        {
         "count": 4,
         "first_name": "Hiroshi",
         "id": "ur.013061365261.75",
         "last_name": "Yamada-Kaneta",
         "research_orgs": [
          "grid.258806.1",
          "grid.260975.f",
          "grid.418251.b",
          "grid.26999.3d"
         ]
        },
        {
         "count": 4,
         "first_name": "Shotaro",
         "id": "ur.013102012132.32",
         "last_name": "Baba",
         "research_orgs": [
          "grid.260975.f"
         ]
        },
        {
         "count": 4,
         "first_name": "Seiji",
         "id": "ur.01312220417.77",
         "last_name": "Sakai",
         "research_orgs": [
          "grid.20256.33",
          "grid.482503.8",
          "grid.21941.3f",
          "grid.5719.a",
          "grid.500402.3",
          "grid.20515.33"
         ]
        },
        {
         "count": 4,
         "first_name": "Vivek Sheel",
         "id": "ur.013126041541.64",
         "last_name": "Sagar"
        },
        {
         "count": 4,
         "first_name": "Juichiro",
         "id": "ur.013150062060.16",
         "last_name": "Akiyama",
         "research_orgs": [
          "grid.258806.1"
         ]
        },
        {
         "count": 4,
         "first_name": "Iku",
         "id": "ur.013175603371.04",
         "last_name": "Shinohara",
         "orcid_id": [
          "0000-0003-2700-0353"
         ],
         "research_orgs": [
          "grid.450279.d",
          "grid.26999.3d",
          "grid.62167.34",
          "grid.419082.6"
         ]
        },
        {
         "count": 4,
         "first_name": "Koji",
         "id": "ur.013176354367.04",
         "last_name": "Araki",
         "research_orgs": [
          "grid.258806.1",
          "grid.177174.3",
          "grid.174567.6"
         ]
        },
        {
         "count": 4,
         "first_name": "Kazuo",
         "id": "ur.013241054741.70",
         "last_name": "Tanaka",
         "research_orgs": [
          "grid.9707.9",
          "grid.257114.4",
          "grid.266298.1"
         ]
        },
        {
         "count": 4,
         "first_name": "Xin",
         "id": "ur.013247242741.90",
         "last_name": "Lan",
         "research_orgs": [
          "grid.258806.1",
          "grid.27255.37"
         ]
        },
        {
         "count": 4,
         "first_name": "Erling",
         "id": "ur.013271145133.73",
         "last_name": "Zhao",
         "research_orgs": [
          "grid.30055.33"
         ]
        },
        {
         "count": 4,
         "first_name": "Haichao",
         "id": "ur.013271777171.38",
         "last_name": "Liang",
         "research_orgs": [
          "grid.258806.1"
         ]
        },
        {
         "count": 4,
         "first_name": "Nobuo",
         "id": "ur.013342477501.41",
         "last_name": "Kawaguchi",
         "orcid_id": [
          "0000-0002-0444-2290"
         ],
         "research_orgs": [
          "grid.27476.30"
         ]
        },
        {
         "count": 4,
         "first_name": "Alawi",
         "id": "ur.013356465255.45",
         "last_name": "Sulaiman",
         "research_orgs": [
          "grid.11142.37",
          "grid.412259.9"
         ]
        },
        {
         "count": 4,
         "first_name": "Akinari",
         "id": "ur.013364727151.98",
         "last_name": "Onishi",
         "research_orgs": [
          "grid.258806.1",
          "grid.136304.3",
          "grid.474690.8"
         ]
        },
        {
         "count": 4,
         "first_name": "Stanisław",
         "id": "ur.013426334336.35",
         "last_name": "Kliczewski",
         "research_orgs": [
          "grid.413454.3",
          "grid.418860.3"
         ]
        },
        {
         "count": 4,
         "first_name": "Masato M",
         "id": "ur.01345724433.46",
         "last_name": "Maitani",
         "orcid_id": [
          "0000-0002-5730-0149"
         ],
         "research_orgs": [
          "grid.26999.3d",
          "grid.29857.31",
          "grid.32197.3e"
         ]
        },
        {
         "count": 4,
         "first_name": "Aleksandra K",
         "id": "ur.01346701414.80",
         "last_name": "Biegun",
         "research_orgs": [
          "grid.5292.c",
          "grid.11866.38",
          "grid.4830.f"
         ]
        },
        {
         "count": 4,
         "first_name": "Christopher M",
         "id": "ur.01347172002.68",
         "last_name": "Kellett",
         "orcid_id": [
          "0000-0002-8309-6807"
         ],
         "research_orgs": [
          "grid.133342.4",
          "grid.266842.c",
          "grid.95004.38",
          "grid.7384.8",
          "grid.58140.38",
          "grid.1008.9",
          "grid.1006.7"
         ]
        },
        {
         "count": 4,
         "first_name": "Ryota",
         "id": "ur.013604124612.37",
         "last_name": "Nakanishi",
         "research_orgs": [
          "grid.258806.1"
         ]
        },
        {
         "count": 4,
         "first_name": "Bivas",
         "id": "ur.01361025010.53",
         "last_name": "Rana",
         "orcid_id": [
          "0000-0002-1076-4165"
         ],
         "research_orgs": [
          "grid.7597.c",
          "grid.474689.0",
          "grid.452759.8"
         ]
        },
        {
         "count": 4,
         "first_name": "Ryodo",
         "id": "ur.013660345305.60",
         "last_name": "Tanaka",
         "research_orgs": [
          "grid.258806.1",
          "grid.9906.6"
         ]
        },
        {
         "count": 4,
         "first_name": "Shinichiro",
         "id": "ur.01367374406.83",
         "last_name": "Fuse",
         "orcid_id": [
          "0000-0002-6836-4180"
         ],
         "research_orgs": [
          "grid.38142.3c",
          "grid.32197.3e"
         ]
        },
        {
         "count": 4,
         "id": "ur.013723735671.09",
         "last_name": "Khairudin",
         "research_orgs": [
          "grid.258806.1"
         ]
        },
        {
         "count": 4,
         "first_name": "T Lebey T",
         "id": "ur.013733227703.96",
         "last_name": "Lebey",
         "research_orgs": [
          "grid.15781.3a",
          "grid.4444.0",
          "grid.11417.32",
          "grid.5292.c",
          "grid.462727.2"
         ]
        },
        {
         "count": 4,
         "first_name": "Warapon",
         "id": "ur.013740447364.72",
         "last_name": "Chinsatit",
         "research_orgs": [
          "grid.258806.1"
         ]
        },
        {
         "count": 4,
         "first_name": "Yoshihito",
         "id": "ur.013767231651.68",
         "last_name": "Kawamura",
         "research_orgs": [
          "grid.261455.1",
          "grid.1003.2",
          "grid.136593.b",
          "grid.471628.e",
          "grid.274841.c",
          "grid.69566.3a"
         ]
        },
        {
         "count": 4,
         "first_name": "Shuta",
         "id": "ur.014000527062.92",
         "last_name": "Watanabe",
         "research_orgs": [
          "grid.258806.1"
         ]
        },
        {
         "count": 4,
         "first_name": "Kei-Ichi",
         "id": "ur.014001676251.26",
         "last_name": "Okuyama",
         "orcid_id": [
          "0000-0002-3275-7572"
         ],
         "research_orgs": [
          "grid.443569.9",
          "grid.136593.b",
          "grid.258806.1"
         ]
        },
        {
         "count": 4,
         "first_name": "Kaihong",
         "id": "ur.014076474101.27",
         "last_name": "Yu",
         "research_orgs": [
          "grid.69566.3a"
         ]
        },
        {
         "count": 4,
         "first_name": "Hirotaka",
         "id": "ur.014116577666.12",
         "last_name": "Ono",
         "research_orgs": [
          "grid.6451.6",
          "grid.411241.3",
          "grid.27476.30",
          "grid.177174.3",
          "grid.258799.8",
          "grid.471450.3"
         ]
        },
        {
         "count": 4,
         "first_name": "Shuta",
         "id": "ur.014126437060.00",
         "last_name": "Kobashigawa",
         "research_orgs": [
          "grid.471922.b"
         ]
        },
        {
         "count": 4,
         "first_name": "Fumio",
         "id": "ur.014162307741.52",
         "last_name": "Shimizu",
         "research_orgs": [
          "grid.258806.1"
         ]
        },
        {
         "count": 4,
         "first_name": "Yusuke",
         "id": "ur.014172300030.53",
         "last_name": "Nakamura",
         "research_orgs": [
          "grid.410825.a"
         ]
        },
        {
         "count": 4,
         "first_name": "Hiroshi",
         "id": "ur.014220575033.48",
         "last_name": "Fukuda",
         "research_orgs": [
          "grid.258806.1"
         ]
        },
        {
         "count": 4,
         "first_name": "Asako",
         "id": "ur.014307673231.77",
         "last_name": "Inoue",
         "research_orgs": [
          "grid.258806.1"
         ]
        },
        {
         "count": 4,
         "first_name": "Yuriko",
         "id": "ur.014316671167.86",
         "last_name": "Yoshino",
         "research_orgs": [
          "grid.258806.1"
         ]
        },
        {
         "count": 4,
         "first_name": "Anusha",
         "id": "ur.014364030171.67",
         "last_name": "Pradhan",
         "research_orgs": [
          "grid.258806.1"
         ]
        },
        {
         "count": 4,
         "first_name": "Takuya",
         "id": "ur.014377035677.37",
         "last_name": "Fujinaga",
         "research_orgs": [
          "grid.258806.1"
         ]
        },
        {
         "count": 4,
         "first_name": "Haris",
         "id": "ur.014400200760.34",
         "last_name": "Kremo",
         "orcid_id": [
          "0000-0002-4199-1053"
         ],
         "research_orgs": [
          "grid.430387.b",
          "grid.8217.c",
          "grid.462975.b"
         ]
        },
        {
         "count": 4,
         "first_name": "Yuto",
         "id": "ur.014425600345.99",
         "last_name": "Tanaka",
         "research_orgs": [
          "grid.258806.1"
         ]
        },
        {
         "count": 4,
         "first_name": "Noriko",
         "id": "ur.014440113243.07",
         "last_name": "Tsutsumi",
         "research_orgs": [
          "grid.177174.3",
          "grid.412334.3"
         ]
        },
        {
         "count": 4,
         "first_name": "Fumiya",
         "id": "ur.014505313237.47",
         "last_name": "Kodama",
         "research_orgs": [
          "grid.47716.33"
         ]
        },
        {
         "count": 4,
         "first_name": "Zarel",
         "id": "ur.014534537075.96",
         "last_name": "Valdez-Nava",
         "research_orgs": [
          "grid.15781.3a",
          "grid.4444.0",
          "grid.464172.2",
          "grid.11417.32",
          "grid.462727.2",
          "grid.411455.0"
         ]
        },
        {
         "count": 4,
         "first_name": "Yasumasa",
         "id": "ur.014555224061.27",
         "last_name": "Koyama",
         "research_orgs": [
          "grid.76978.37",
          "grid.5290.e"
         ]
        },
        {
         "count": 4,
         "first_name": "Kateryna",
         "id": "ur.014623572367.39",
         "last_name": "Aheieva",
         "research_orgs": [
          "grid.258806.1"
         ]
        },
        {
         "count": 4,
         "first_name": "Kazunari",
         "id": "ur.014653030225.17",
         "last_name": "Karasawa",
         "research_orgs": [
          "grid.410825.a",
          "grid.498663.6"
         ]
        },
        {
         "count": 4,
         "first_name": "Likun",
         "id": "ur.014664106133.82",
         "last_name": "Wang",
         "research_orgs": [
          "grid.30055.33"
         ]
        },
        {
         "count": 4,
         "first_name": "Siqian",
         "id": "ur.014667563545.00",
         "last_name": "Wang",
         "research_orgs": [
          "grid.258806.1",
          "grid.444515.5"
         ]
        },
        {
         "count": 4,
         "first_name": "Takashi",
         "id": "ur.014673764674.16",
         "last_name": "Takahashi",
         "orcid_id": [
          "0000-0003-0615-7001"
         ],
         "research_orgs": [
          "grid.27476.30",
          "grid.443246.3",
          "grid.256642.1",
          "grid.19006.3e",
          "grid.420249.9",
          "grid.265436.0",
          "grid.136304.3",
          "grid.257022.0",
          "grid.410800.d",
          "grid.32197.3e",
          "grid.48336.3a"
         ]
        },
        {
         "count": 4,
         "first_name": "Jintong",
         "id": "ur.014706175523.51",
         "last_name": "Sun",
         "research_orgs": [
          "grid.258806.1",
          "grid.498663.6"
         ]
        },
        {
         "count": 4,
         "first_name": "Saman",
         "id": "ur.014725442441.21",
         "last_name": "Toosi",
         "research_orgs": [
          "grid.11142.37"
         ]
        },
        {
         "count": 4,
         "first_name": "Hirotaka",
         "id": "ur.015027262011.46",
         "last_name": "Nakaya",
         "research_orgs": [
          "grid.258806.1"
         ]
        },
        {
         "count": 4,
         "first_name": "Akira",
         "id": "ur.015051367143.52",
         "last_name": "Nagata",
         "research_orgs": [
          "grid.258806.1",
          "grid.28312.3a"
         ]
        },
        {
         "count": 4,
         "first_name": "Sixiao",
         "id": "ur.015071314335.11",
         "last_name": "Liu",
         "research_orgs": [
          "grid.258806.1",
          "grid.268415.c"
         ]
        },
        {
         "count": 4,
         "first_name": "Alaa Eldeen",
         "id": "ur.015072657217.59",
         "last_name": "Elmeshneb",
         "research_orgs": [
          "grid.5522.0"
         ]
        },
        {
         "count": 4,
         "first_name": "Takaaki",
         "id": "ur.015111134456.05",
         "last_name": "Goto",
         "research_orgs": [
          "grid.258806.1"
         ]
        },
        {
         "count": 4,
         "first_name": "Toshiyasu",
         "id": "ur.015136031646.48",
         "last_name": "Higuma",
         "research_orgs": [
          "grid.462605.3"
         ]
        },
        {
         "count": 4,
         "first_name": "Yuki",
         "id": "ur.015144177743.58",
         "last_name": "Kutsuna",
         "research_orgs": [
          "grid.258806.1"
         ]
        },
        {
         "count": 4,
         "first_name": "Takeshi",
         "id": "ur.015147612571.42",
         "last_name": "Takaki",
         "research_orgs": [
          "grid.143643.7",
          "grid.32197.3e",
          "grid.257022.0"
         ]
        },
        {
         "count": 4,
         "first_name": "Yasuhide",
         "id": "ur.015275723154.16",
         "last_name": "Inoue",
         "research_orgs": [
          "grid.5290.e",
          "grid.466950.8",
          "grid.257022.0"
         ]
        },
        {
         "count": 4,
         "first_name": "Tetsuo",
         "id": "ur.015311467311.37",
         "last_name": "Yoshimitsu",
         "research_orgs": [
          "grid.410825.a",
          "grid.498663.6"
         ]
        },
        {
         "count": 4,
         "first_name": "Takumi",
         "id": "ur.015332100665.74",
         "last_name": "Uchikoba",
         "research_orgs": [
          "grid.258806.1"
         ]
        },
        {
         "count": 4,
         "first_name": "Yoko",
         "id": "ur.015405223465.13",
         "last_name": "Nakamura",
         "research_orgs": [
          "grid.471128.9"
         ]
        },
        {
         "count": 4,
         "first_name": "Hirotsugu",
         "id": "ur.015413064601.02",
         "last_name": "Kakugawa",
         "research_orgs": [
          "grid.136593.b",
          "grid.257022.0"
         ]
        },
        {
         "count": 4,
         "first_name": "Abualkasim",
         "id": "ur.015420067201.35",
         "last_name": "Bakeer",
         "research_orgs": [
          "grid.417764.7"
         ]
        },
        {
         "count": 4,
         "first_name": "Keishi",
         "id": "ur.015422507425.29",
         "last_name": "Yamaguchi",
         "research_orgs": [
          "grid.258806.1"
         ]
        },
        {
         "count": 4,
         "first_name": "Junji",
         "id": "ur.015462641617.98",
         "last_name": "Maeshima",
         "research_orgs": [
          "grid.258806.1",
          "grid.410792.9"
         ]
        },
        {
         "count": 4,
         "first_name": "Suriyon",
         "id": "ur.015513061233.13",
         "last_name": "Tansuriyavong",
         "research_orgs": [
          "grid.471922.b",
          "grid.260427.5",
          "grid.482504.f"
         ]
        },
        {
         "count": 4,
         "first_name": "Haruka",
         "id": "ur.015537550301.80",
         "last_name": "Sagara",
         "research_orgs": [
          "grid.258806.1"
         ]
        },
        {
         "count": 4,
         "first_name": "Yuta",
         "id": "ur.015550514515.11",
         "last_name": "Usui",
         "research_orgs": [
          "grid.258806.1"
         ]
        },
        {
         "count": 4,
         "first_name": "Kei",
         "id": "ur.015601036735.22",
         "last_name": "Kamada",
         "research_orgs": [
          "grid.5290.e",
          "grid.424881.3",
          "grid.268394.2",
          "grid.424669.b",
          "grid.69566.3a"
         ]
        },
        {
         "count": 4,
         "first_name": "Yury V",
         "id": "ur.015607766201.50",
         "last_name": "Ivanov",
         "research_orgs": [
          "grid.410817.b",
          "grid.254217.7"
         ]
        },
        {
         "count": 4,
         "first_name": "Hideaki",
         "id": "ur.015657113732.95",
         "last_name": "Tanaka",
         "research_orgs": [
          "grid.462975.b"
         ]
        },
        {
         "count": 4,
         "first_name": "Fuyuki",
         "id": "ur.015677070115.39",
         "last_name": "Katase",
         "research_orgs": [
          "grid.26999.3d"
         ]
        },
        {
         "count": 4,
         "first_name": "Kanya",
         "id": "ur.016111137273.10",
         "last_name": "Tanaka",
         "research_orgs": [
          "grid.255464.4",
          "grid.258333.c",
          "grid.411764.1",
          "grid.413010.7",
          "grid.268397.1"
         ]
        },
        {
         "count": 4,
         "first_name": "Ajay Kumar",
         "id": "ur.016117327717.31",
         "last_name": "Baranwal",
         "orcid_id": [
          "0000-0003-4582-4532"
         ],
         "research_orgs": [
          "grid.258806.1",
          "grid.266453.0",
          "grid.413618.9",
          "grid.414638.c"
         ]
        },
        {
         "count": 4,
         "first_name": "Alagarsamy",
         "id": "ur.016135231172.12",
         "last_name": "Pandikumar",
         "orcid_id": [
          "0000-0002-8804-5195"
         ],
         "research_orgs": [
          "grid.10214.36",
          "grid.412742.6",
          "grid.10347.31",
          "grid.417628.e"
         ]
        },
        {
         "count": 4,
         "first_name": "Tharindu",
         "id": "ur.016141077043.57",
         "last_name": "Weerakoon",
         "research_orgs": [
          "grid.258806.1"
         ]
        },
        {
         "count": 4,
         "first_name": "Kensuke",
         "id": "ur.016152506232.07",
         "last_name": "Konishi",
         "orcid_id": [
          "0000-0001-9117-5858"
         ],
         "research_orgs": [
          "grid.255464.4",
          "grid.177174.3"
         ]
        },
        {
         "count": 4,
         "first_name": "Zhaosheng",
         "id": "ur.016323530642.42",
         "last_name": "Hu",
         "research_orgs": [
          "grid.258806.1"
         ]
        },
        {
         "count": 4,
         "first_name": "Yuji",
         "id": "ur.016336561407.95",
         "last_name": "Tsuchiya",
         "orcid_id": [
          "0000-0003-0480-851X"
         ],
         "research_orgs": [
          "grid.410817.b",
          "grid.26999.3d",
          "grid.208504.b",
          "grid.27476.30",
          "grid.69566.3a"
         ]
        },
        {
         "count": 4,
         "first_name": "Hidenori",
         "id": "ur.016426652651.14",
         "last_name": "Muramatsu",
         "research_orgs": [
          "grid.420377.5"
         ]
        },
        {
         "count": 4,
         "first_name": "Yun",
         "id": "ur.016564562324.07",
         "last_name": "Li",
         "research_orgs": [
          "grid.268415.c"
         ]
        },
        {
         "count": 4,
         "first_name": "Yin",
         "id": "ur.016617467133.48",
         "last_name": "Yang",
         "research_orgs": [
          "grid.258806.1"
         ]
        },
        {
         "count": 4,
         "first_name": "Tetsuo",
         "id": "ur.016640246161.21",
         "last_name": "Yamaguchi",
         "orcid_id": [
          "0000-0003-1943-7790"
         ],
         "research_orgs": [
          "grid.177174.3"
         ]
        },
        {
         "count": 4,
         "first_name": "Kai",
         "id": "ur.016650303231.35",
         "last_name": "Hebeler",
         "research_orgs": [
          "grid.232474.4",
          "grid.159791.2",
          "grid.261331.4",
          "grid.6546.1"
         ]
        },
        {
         "count": 4,
         "first_name": "Keisuke",
         "id": "ur.0624606666.02",
         "last_name": "Mitsumoto",
         "research_orgs": [
          "grid.419507.e",
          "grid.260975.f"
         ]
        },
        {
         "count": 4,
         "first_name": "Masanori",
         "id": "ur.0635554232.71",
         "last_name": "Koshimizu",
         "orcid_id": [
          "0000-0002-0905-2144"
         ],
         "research_orgs": [
          "grid.26999.3d",
          "grid.419082.6",
          "grid.69566.3a"
         ]
        },
        {
         "count": 4,
         "first_name": "Salehin",
         "id": "ur.0643106716.68",
         "last_name": "Kibria",
         "orcid_id": [
          "0000-0001-6523-5730"
         ],
         "research_orgs": [
          "grid.412113.4"
         ]
        },
        {
         "count": 4,
         "first_name": "Hiroaki I-",
         "id": "ur.0665465330.14",
         "last_name": "Ogawa",
         "research_orgs": [
          "grid.258806.1",
          "grid.19373.3f"
         ]
        },
        {
         "count": 4,
         "first_name": "Yasuo",
         "id": "ur.0711642737.85",
         "last_name": "Tabei",
         "research_orgs": [
          "grid.208504.b",
          "grid.26999.3d",
          "grid.177174.3",
          "grid.419082.6"
         ]
        },
        {
         "count": 4,
         "first_name": "Yusuke V",
         "id": "ur.0727414150.29",
         "last_name": "Morimoto",
         "orcid_id": [
          "0000-0003-1573-8967"
         ],
         "research_orgs": [
          "grid.258806.1",
          "grid.474694.c",
          "grid.419082.6",
          "grid.136593.b",
          "grid.177174.3",
          "grid.7597.c"
         ]
        },
        {
         "count": 4,
         "first_name": "Akira",
         "id": "ur.07346765731.49",
         "last_name": "Kakami",
         "orcid_id": [
          "0000-0003-3354-9203"
         ],
         "research_orgs": [
          "grid.410849.0",
          "grid.26999.3d",
          "grid.208504.b",
          "grid.258806.1"
         ]
        },
        {
         "count": 4,
         "first_name": "Chenxi",
         "id": "ur.07455477077.27",
         "last_name": "Liu",
         "research_orgs": [
          "grid.258806.1"
         ]
        },
        {
         "count": 4,
         "first_name": "Noriko",
         "id": "ur.07471013241.61",
         "last_name": "Miyoshi",
         "research_orgs": [
          "grid.258806.1"
         ]
        },
        {
         "count": 4,
         "first_name": "Atsushi",
         "id": "ur.0762624377.36",
         "last_name": "Kohno",
         "research_orgs": [
          "grid.411497.e",
          "grid.257022.0",
          "grid.258806.1"
         ]
        },
        {
         "count": 4,
         "first_name": "Junichi Kojima",
         "id": "ur.07734653211.42",
         "last_name": "Kojima",
         "research_orgs": [
          "grid.497100.b",
          "grid.450318.b",
          "grid.32197.3e"
         ]
        },
        {
         "count": 4,
         "first_name": "Teruhiko",
         "id": "ur.07740112475.99",
         "last_name": "Maeda",
         "research_orgs": [
          "grid.410825.a"
         ]
        },
        {
         "count": 3,
         "first_name": "Kazuki",
         "id": "ur.010010576265.14",
         "last_name": "Soejima",
         "research_orgs": [
          "grid.258806.1"
         ]
        },
        {
         "count": 3,
         "first_name": "Taizo",
         "id": "ur.010024324065.04",
         "last_name": "Kobayashi",
         "research_orgs": [
          "grid.177174.3",
          "grid.264706.1",
          "grid.419082.6"
         ]
        },
        {
         "count": 3,
         "first_name": "Dominik",
         "id": "ur.010026701727.69",
         "last_name": "Köppl",
         "orcid_id": [
          "0000-0002-8721-4444"
         ],
         "research_orgs": [
          "grid.5675.1",
          "grid.7307.3"
         ]
        },
        {
         "count": 3,
         "first_name": "Takaharu",
         "id": "ur.010055073155.32",
         "last_name": "Shimada",
         "research_orgs": [
          "grid.258806.1"
         ]
        },
        {
         "count": 3,
         "first_name": "Takeaki",
         "id": "ur.01006512065.78",
         "last_name": "Taniguchi",
         "research_orgs": [
          "grid.32197.3e",
          "grid.486807.5"
         ]
        },
        {
         "count": 3,
         "first_name": "David J",
         "id": "ur.010066226051.19",
         "last_name": "Pommerenke",
         "research_orgs": [
          "grid.453400.6",
          "grid.411035.2",
          "grid.6734.6",
          "grid.260128.f",
          "grid.431860.8",
          "grid.134936.a"
         ]
        },
        {
         "count": 3,
         "first_name": "Takayuki",
         "id": "ur.010076567740.23",
         "last_name": "Yamamoto",
         "research_orgs": [
          "grid.258806.1"
         ]
        },
        {
         "count": 3,
         "first_name": "Nannan",
         "id": "ur.010106231362.09",
         "last_name": "Wang",
         "research_orgs": [
          "grid.258806.1"
         ]
        },
        {
         "count": 3,
         "first_name": "Kanae",
         "id": "ur.010120310572.38",
         "last_name": "Hori",
         "research_orgs": [
          "grid.266298.1"
         ]
        },
        {
         "count": 3,
         "first_name": "Akira",
         "id": "ur.010122120035.90",
         "last_name": "Oyama",
         "research_orgs": [
          "grid.450279.d",
          "grid.26999.3d",
          "grid.419077.c",
          "grid.62167.34",
          "grid.69566.3a"
         ]
        },
        {
         "count": 3,
         "first_name": "Mako",
         "id": "ur.010123140124.69",
         "last_name": "Shirouzu"
        },
        {
         "count": 3,
         "first_name": "Naoto N",
         "id": "ur.01015432527.21",
         "last_name": "Shiba",
         "research_orgs": [
          "grid.410781.b",
          "grid.444197.b",
          "grid.470128.8",
          "grid.470127.7"
         ]
        },
        {
         "count": 3,
         "first_name": "Shunsuke",
         "id": "ur.010164552441.49",
         "last_name": "Iwai",
         "research_orgs": [
          "grid.258806.1"
         ]
        },
        {
         "count": 3,
         "first_name": "Yoshiaki",
         "id": "ur.010166554273.01",
         "last_name": "Matsukawa",
         "research_orgs": [
          "grid.258806.1"
         ]
        },
        {
         "count": 3,
         "first_name": "Edyta",
         "id": "ur.010174522625.55",
         "last_name": "Dzieminska",
         "research_orgs": [
          "grid.252311.6",
          "grid.412681.8",
          "grid.1035.7"
         ]
        },
        {
         "count": 3,
         "first_name": "Hongfang",
         "id": "ur.01020304042.57",
         "last_name": "Chi",
         "research_orgs": [
          "grid.258806.1"
         ]
        },
        {
         "count": 3,
         "first_name": "Takenori",
         "id": "ur.010205652123.21",
         "last_name": "Sakumura",
         "research_orgs": [
          "grid.258806.1",
          "grid.443595.a"
         ]
        },
        {
         "count": 3,
         "first_name": "Keisuke",
         "id": "ur.010210155140.53",
         "last_name": "Koyanagi",
         "research_orgs": [
          "grid.258806.1"
         ]
        },
        {
         "count": 3,
         "first_name": "Hina",
         "id": "ur.010216523717.38",
         "last_name": "Yoshikawa",
         "research_orgs": [
          "grid.258806.1"
         ]
        },
        {
         "count": 3,
         "first_name": "Takaaki",
         "id": "ur.010221030264.27",
         "last_name": "Koga",
         "research_orgs": [
          "grid.258806.1"
         ]
        },
        {
         "count": 3,
         "first_name": "Björn S",
         "id": "ur.010223702776.28",
         "last_name": "Rüffer",
         "research_orgs": [
          "grid.5659.f",
          "grid.7372.1",
          "grid.1008.9",
          "grid.266842.c",
          "grid.7704.4"
         ]
        },
        {
         "count": 3,
         "first_name": "Xin",
         "id": "ur.010227025455.19",
         "last_name": "Zeng",
         "research_orgs": [
          "grid.258806.1"
         ]
        },
        {
         "count": 3,
         "first_name": "Monirul",
         "id": "ur.010237657701.68",
         "last_name": "Islam",
         "research_orgs": [
          "grid.258806.1"
         ]
        },
        {
         "count": 3,
         "first_name": "Keigo",
         "id": "ur.010257217323.44",
         "last_name": "Nakamura",
         "research_orgs": [
          "grid.258806.1"
         ]
        },
        {
         "count": 3,
         "first_name": "Hideo",
         "id": "ur.01027531267.41",
         "last_name": "Hosono",
         "research_orgs": [
          "grid.5292.c",
          "grid.208504.b",
          "grid.260969.2",
          "grid.254549.b",
          "grid.419082.6",
          "grid.419357.d",
          "grid.136593.b",
          "grid.471628.e",
          "grid.27476.30",
          "grid.265074.2",
          "grid.47716.33",
          "grid.5290.e",
          "grid.467196.b",
          "grid.258799.8",
          "grid.32197.3e",
          "grid.152326.1",
          "grid.12380.38"
         ]
        },
        {
         "count": 3,
         "first_name": "Bijnan",
         "id": "ur.010317261625.93",
         "last_name": "Bandyopadhyay",
         "orcid_id": [
          "0000-0003-1255-0352"
         ],
         "research_orgs": [
          "grid.417967.a",
          "grid.444321.4",
          "grid.5570.7",
          "grid.44871.3e",
          "grid.59056.3f",
          "grid.440667.7",
          "grid.418304.a",
          "grid.467220.5",
          "grid.417971.d",
          "grid.7942.8"
         ]
        },
        {
         "count": 3,
         "first_name": "Masaya",
         "id": "ur.01032513610.59",
         "last_name": "Miyazaki",
         "orcid_id": [
          "0000-0003-4031-7224"
         ],
         "research_orgs": [
          "grid.258806.1",
          "grid.39158.36",
          "grid.208504.b",
          "grid.38142.3c",
          "grid.62560.37",
          "grid.177174.3",
          "grid.412339.e"
         ]
        },
        {
         "count": 3,
         "first_name": "Kurt E",
         "id": "ur.01033167702.25",
         "last_name": "Sickafus",
         "research_orgs": [
          "grid.5386.8",
          "grid.451303.0",
          "grid.47840.3f",
          "grid.148313.c",
          "grid.214458.e",
          "grid.5335.0",
          "grid.134563.6",
          "grid.411461.7",
          "grid.250008.f"
         ]
        },
        {
         "count": 3,
         "first_name": "Xuelong",
         "id": "ur.010350603543.66",
         "last_name": "Hu",
         "research_orgs": [
          "grid.263761.7",
          "grid.268415.c",
          "grid.41156.37"
         ]
        },
        {
         "count": 3,
         "first_name": "Ichiro",
         "id": "ur.010360261267.31",
         "last_name": "Miura",
         "research_orgs": [
          "grid.258269.2"
         ]
        },
        {
         "count": 3,
         "first_name": "Kübra",
         "id": "ur.010362311021.55",
         "last_name": "Eksiler",
         "research_orgs": [
          "grid.258806.1",
          "grid.448834.7"
         ]
        },
        {
         "count": 3,
         "first_name": "Ryo",
         "id": "ur.010372354222.22",
         "last_name": "Matsumoto",
         "research_orgs": [
          "grid.21941.3f",
          "grid.472168.e",
          "grid.20515.33"
         ]
        },
        {
         "count": 3,
         "first_name": "Jin",
         "id": "ur.010376176550.57",
         "last_name": "Nakamura",
         "research_orgs": [
          "grid.258806.1"
         ]
        },
        {
         "count": 3,
         "first_name": "Hiromasa",
         "id": "ur.010413220361.40",
         "last_name": "Takahashi",
         "research_orgs": [
          "grid.26091.3c",
          "grid.5335.0",
          "grid.69566.3a",
          "grid.417547.4"
         ]
        },
        {
         "count": 3,
         "first_name": "Shingo",
         "id": "ur.010414556065.26",
         "last_name": "Wakahara",
         "research_orgs": [
          "grid.69566.3a"
         ]
        },
        {
         "count": 3,
         "first_name": "Shyue-Kung",
         "id": "ur.010420770335.55",
         "last_name": "Lu",
         "research_orgs": [
          "grid.45907.3f",
          "grid.256105.5",
          "grid.19188.39",
          "grid.38348.34"
         ]
        },
        {
         "count": 3,
         "first_name": "Zhe",
         "id": "ur.010424461515.41",
         "last_name": "Lei",
         "research_orgs": [
          "grid.258806.1"
         ]
        },
        {
         "count": 3,
         "first_name": "Kazuhide",
         "id": "ur.010453757405.16",
         "last_name": "Domoto",
         "research_orgs": [
          "grid.174567.6"
         ]
        },
        {
         "count": 3,
         "first_name": "Shohei",
         "id": "ur.010455373704.50",
         "last_name": "Nakata",
         "research_orgs": [
          "grid.258806.1"
         ]
        },
        {
         "count": 3,
         "first_name": "Takurou N",
         "id": "ur.010455442313.10",
         "last_name": "Murakami",
         "orcid_id": [
          "0000-0002-2066-3982"
         ],
         "research_orgs": [
          "grid.412760.6",
          "grid.208504.b",
          "grid.5333.6"
         ]
        },
        {
         "count": 3,
         "first_name": "Somayeh",
         "id": "ur.010465053556.95",
         "last_name": "Sadeghi",
         "research_orgs": [
          "grid.10347.31"
         ]
        },
        {
         "count": 3,
         "first_name": "Sebastian G",
         "id": "ur.01047110776.38",
         "last_name": "Volz",
         "orcid_id": [
          "0000-0003-2069-9480"
         ],
         "research_orgs": [
          "grid.494567.d",
          "grid.26999.3d",
          "grid.4444.0",
          "grid.24516.34",
          "grid.434217.7",
          "grid.460789.4",
          "grid.450332.3",
          "grid.462542.3",
          "grid.14001.34"
         ]
        },
        {
         "count": 3,
         "first_name": "Kei-Ichi",
         "id": "ur.010474137706.17",
         "last_name": "Matsunaga"
        },
        {
         "count": 3,
         "first_name": "Eduardo J",
         "id": "ur.010476375500.09",
         "last_name": "Alves",
         "orcid_id": [
          "0000-0003-0633-8937"
         ],
         "research_orgs": [
          "grid.35403.31",
          "grid.417687.b",
          "grid.9983.b",
          "grid.462794.a",
          "grid.250008.f"
         ]
        },
        {
         "count": 3,
         "first_name": "Naoki",
         "id": "ur.01047662342.91",
         "last_name": "Chijiwa"
        },
        {
         "count": 3,
         "first_name": "Ryunosuke",
         "id": "ur.010501512446.24",
         "last_name": "Omori",
         "research_orgs": [
          "grid.258806.1"
         ]
        },
        {
         "count": 3,
         "first_name": "Taichi",
         "id": "ur.010506657122.66",
         "last_name": "Ide",
         "research_orgs": [
          "grid.258806.1"
         ]
        },
        {
         "count": 3,
         "first_name": "Takashi",
         "id": "ur.010524212203.50",
         "last_name": "Takimoto",
         "research_orgs": [
          "grid.471761.2",
          "grid.482504.f"
         ]
        },
        {
         "count": 3,
         "first_name": "Kazuaki",
         "id": "ur.010551626063.85",
         "last_name": "Tanaka",
         "research_orgs": [
          "grid.258806.1"
         ]
        },
        {
         "count": 3,
         "first_name": "Atsushi",
         "id": "ur.010552340121.45",
         "last_name": "Shiota",
         "research_orgs": [
          "grid.258806.1"
         ]
        },
        {
         "count": 3,
         "first_name": "Nusrat",
         "id": "ur.01055512174.06",
         "last_name": "Jahan",
         "research_orgs": [
          "grid.258806.1",
          "grid.24433.32",
          "grid.440526.1",
          "grid.442989.a",
          "grid.32224.35",
          "grid.411818.5",
          "grid.414142.6",
          "grid.55602.34",
          "grid.412656.2",
          "grid.411555.1",
          "grid.411340.3",
          "grid.258041.a",
          "grid.36425.36",
          "grid.240684.c",
          "grid.413343.2",
          "grid.258676.8",
          "grid.410877.d",
          "grid.411959.1"
         ]
        },
        {
         "count": 3,
         "first_name": "Yuichiro I",
         "id": "ur.01055727317.52",
         "last_name": "Higashimoto",
         "orcid_id": [
          "0000-0003-1382-8598"
         ],
         "research_orgs": [
          "grid.258333.c",
          "grid.136593.b",
          "grid.410781.b",
          "grid.94365.3d",
          "grid.420086.8",
          "grid.412339.e",
          "grid.48336.3a"
         ]
        },
        {
         "count": 3,
         "first_name": "Hideki",
         "id": "ur.010572244141.26",
         "last_name": "Wada"
        },
        {
         "count": 3,
         "first_name": "Kazuo",
         "id": "ur.010605450477.19",
         "last_name": "Shinozaki",
         "orcid_id": [
          "0000-0002-6317-9867"
         ],
         "research_orgs": [
          "grid.412776.1",
          "grid.26999.3d",
          "grid.5386.8",
          "grid.419082.6",
          "grid.256342.4",
          "grid.27476.30",
          "grid.288127.6",
          "grid.261356.5",
          "grid.419056.f",
          "grid.265074.2",
          "grid.14830.3e",
          "grid.452611.5",
          "grid.17088.36",
          "grid.258799.8",
          "grid.7597.c",
          "grid.20515.33"
         ]
        },
        {
         "count": 3,
         "first_name": "Takashi",
         "id": "ur.010613257211.82",
         "last_name": "Yasuda",
         "research_orgs": [
          "grid.258806.1"
         ]
        },
        {
         "count": 3,
         "first_name": "Shuhei",
         "id": "ur.010622056557.18",
         "last_name": "Nakamura",
         "research_orgs": [
          "grid.27476.30",
          "grid.260026.0"
         ]
        },
        {
         "count": 3,
         "first_name": "Yoshio",
         "id": "ur.01062461165.44",
         "last_name": "Takano",
         "research_orgs": [
          "grid.470127.7",
          "grid.264706.1",
          "grid.411731.1"
         ]
        },
        {
         "count": 3,
         "first_name": "Hironori",
         "id": "ur.010627347642.58",
         "last_name": "Imaki",
         "research_orgs": [
          "grid.258806.1"
         ]
        },
        {
         "count": 3,
         "first_name": "Yasuo",
         "id": "ur.010634767053.33",
         "last_name": "Takahashi",
         "research_orgs": [
          "grid.419819.c",
          "grid.39158.36",
          "grid.69566.3a"
         ]
        },
        {
         "count": 3,
         "first_name": "Minoru",
         "id": "ur.010643621061.03",
         "last_name": "Iwata",
         "research_orgs": [
          "grid.258806.1"
         ]
        },
        {
         "count": 3,
         "first_name": "Issei",
         "id": "ur.010652453555.19",
         "last_name": "Hamada",
         "research_orgs": [
          "grid.258806.1"
         ]
        },
        {
         "count": 3,
         "first_name": "Kensaku",
         "id": "ur.01067276221.53",
         "last_name": "Mori",
         "orcid_id": [
          "0000-0002-0100-4797"
         ],
         "research_orgs": [
          "grid.168010.e",
          "grid.411486.e",
          "grid.250343.3",
          "grid.411620.0",
          "grid.27476.30",
          "grid.263171.0"
         ]
        },
        {
         "count": 3,
         "first_name": "Hiroshi",
         "id": "ur.01071005747.43",
         "last_name": "Idzuchi",
         "research_orgs": [
          "grid.7597.c",
          "grid.26999.3d",
          "grid.474689.0"
         ]
        },
        {
         "count": 3,
         "first_name": "Noriaki",
         "id": "ur.010715545264.46",
         "last_name": "Miyake",
         "research_orgs": [
          "grid.258806.1"
         ]
        },
        {
         "count": 3,
         "first_name": "Yoshihiko",
         "id": "ur.010716247613.50",
         "last_name": "Saito",
         "research_orgs": [
          "grid.410825.a",
          "grid.260975.f"
         ]
        },
        {
         "count": 3,
         "first_name": "Kazuma",
         "id": "ur.010734236603.67",
         "last_name": "Komoda",
         "research_orgs": [
          "grid.258806.1"
         ]
        },
        {
         "count": 3,
         "first_name": "Kazuhiko",
         "id": "ur.010744615200.06",
         "last_name": "Kitamura",
         "research_orgs": [
          "grid.47716.33"
         ]
        },
        {
         "count": 3,
         "first_name": "Kazuyuki",
         "id": "ur.010751273677.66",
         "last_name": "Hokamoto",
         "research_orgs": [
          "grid.274841.c",
          "grid.471712.6",
          "grid.257022.0",
          "grid.46072.37"
         ]
        },
        {
         "count": 3,
         "first_name": "Nishit",
         "id": "ur.010754137307.44",
         "last_name": "Pathak",
         "research_orgs": [
          "grid.258806.1"
         ]
        },
        {
         "count": 3,
         "first_name": "Takeshi",
         "id": "ur.01075611442.41",
         "last_name": "Aihara",
         "research_orgs": [
          "grid.412905.b",
          "grid.474690.8"
         ]
        },
        {
         "count": 3,
         "first_name": "Yoshinori",
         "id": "ur.011007514712.36",
         "last_name": "Tanaka",
         "research_orgs": [
          "grid.440874.b"
         ]
        },
        {
         "count": 3,
         "first_name": "Shoichiro",
         "id": "ur.011013120207.47",
         "last_name": "Ikeda",
         "research_orgs": [
          "grid.410877.d"
         ]
        },
        {
         "count": 3,
         "first_name": "Shota",
         "id": "ur.011022141147.00",
         "last_name": "Sakashita",
         "research_orgs": [
          "grid.258806.1"
         ]
        },
        {
         "count": 3,
         "first_name": "Song-Yuan",
         "id": "ur.01102600605.17",
         "last_name": "Dai",
         "research_orgs": [
          "grid.261049.8",
          "grid.495520.f",
          "grid.9227.e",
          "grid.467860.b",
          "grid.467844.d",
          "grid.454811.d",
          "grid.412125.1"
         ]
        },
        {
         "count": 3,
         "first_name": "Yuichiro",
         "id": "ur.01105635166.79",
         "last_name": "Shiratake",
         "research_orgs": [
          "grid.258806.1"
         ]
        },
        {
         "count": 3,
         "first_name": "Hiroyuki",
         "id": "ur.011070014075.76",
         "last_name": "Tsuji",
         "research_orgs": [
          "grid.258806.1"
         ]
        },
        {
         "count": 3,
         "first_name": "Naoki",
         "id": "ur.011101660531.98",
         "last_name": "Murakoso",
         "research_orgs": [
          "grid.258806.1"
         ]
        },
        {
         "count": 3,
         "first_name": "Suryadevara V",
         "id": "ur.01110635304.55",
         "last_name": "Babu",
         "orcid_id": [
          "0000-0002-5171-261X"
         ],
         "research_orgs": [
          "grid.254280.9"
         ]
        },
        {
         "count": 3,
         "first_name": "Zhen",
         "id": "ur.011113737576.59",
         "last_name": "Wang",
         "research_orgs": [
          "grid.258806.1"
         ]
        },
        {
         "count": 3,
         "first_name": "Taiichi",
         "id": "ur.011141615451.79",
         "last_name": "Otsuji",
         "research_orgs": [
          "grid.258806.1",
          "grid.419819.c",
          "grid.419082.6",
          "grid.265880.1",
          "grid.5600.3",
          "grid.69566.3a"
         ]
        },
        {
         "count": 3,
         "first_name": "James R",
         "id": "ur.01117742715.20",
         "last_name": "Myra",
         "orcid_id": [
          "0000-0001-5939-8429"
         ],
         "research_orgs": [
          "grid.448322.b",
          "grid.482242.a"
         ]
        },
        {
         "count": 3,
         "first_name": "Toshikazu",
         "id": "ur.01120002665.77",
         "last_name": "Samura",
         "research_orgs": [
          "grid.258806.1",
          "grid.267500.6",
          "grid.26091.3c",
          "grid.412905.b",
          "grid.268397.1"
         ]
        },
        {
         "count": 3,
         "first_name": "Natsuhiro",
         "id": "ur.01120074517.33",
         "last_name": "Ichinose",
         "research_orgs": [
          "grid.26999.3d",
          "grid.258799.8"
         ]
        },
        {
         "count": 3,
         "first_name": "Yoshinori",
         "id": "ur.011223605471.17",
         "last_name": "Takei",
         "research_orgs": [
          "grid.177174.3",
          "grid.444537.5"
         ]
        },
        {
         "count": 3,
         "first_name": "Akihisa",
         "id": "ur.011240745132.80",
         "last_name": "Tomita",
         "orcid_id": [
          "0000-0002-5989-039X"
         ],
         "research_orgs": [
          "grid.26999.3d",
          "grid.39158.36",
          "grid.469490.6",
          "grid.419082.6",
          "grid.420377.5",
          "grid.431860.8",
          "grid.32197.3e"
         ]
        },
        {
         "count": 3,
         "first_name": "Tittaya",
         "id": "ur.011244534522.17",
         "last_name": "Mairittha",
         "research_orgs": [
          "grid.258806.1"
         ]
        },
        {
         "count": 3,
         "first_name": "Frederic",
         "id": "ur.011250064003.51",
         "last_name": "Mazenc",
         "research_orgs": [
          "grid.494567.d",
          "grid.4444.0",
          "grid.460789.4",
          "grid.457355.5",
          "grid.457079.8",
          "grid.5842.b",
          "grid.424471.0",
          "grid.5328.c",
          "grid.58140.38",
          "grid.29172.3f",
          "grid.7445.2",
          "grid.414548.8"
         ]
        },
        {
         "count": 3,
         "first_name": "Makoto",
         "id": "ur.011254401060.89",
         "last_name": "Ito",
         "research_orgs": [
          "grid.258806.1"
         ]
        },
        {
         "count": 3,
         "first_name": "Tetsuo",
         "id": "ur.01131173451.81",
         "last_name": "Kitai",
         "research_orgs": [
          "grid.258806.1",
          "grid.443594.b",
          "grid.69566.3a"
         ]
        },
        {
         "count": 3,
         "first_name": "Ryosuke",
         "id": "ur.011314571656.07",
         "last_name": "Motooka",
         "research_orgs": [
          "grid.258806.1"
         ]
        },
        {
         "count": 3,
         "first_name": "Richard J",
         "id": "ur.011320026755.62",
         "last_name": "Furnstahl",
         "orcid_id": [
          "0000-0002-3483-333X"
         ],
         "research_orgs": [
          "grid.411377.7",
          "grid.168010.e",
          "grid.261331.4",
          "grid.20627.31",
          "grid.164295.d"
         ]
        },
        {
         "count": 3,
         "first_name": "Yota",
         "id": "ur.011320361517.81",
         "last_name": "Otachi",
         "orcid_id": [
          "0000-0002-0087-853X"
         ],
         "research_orgs": [
          "grid.61971.38",
          "grid.274841.c",
          "grid.444515.5",
          "grid.256642.1",
          "grid.69566.3a"
         ]
        },
        {
         "count": 3,
         "first_name": "G",
         "id": "ur.011322671437.75",
         "last_name": "Khatri",
         "orcid_id": [
          "0000-0001-8901-3817"
         ],
         "research_orgs": [
          "grid.5522.0"
         ]
        },
        {
         "count": 3,
         "first_name": "Viviana",
         "id": "ur.01132503201.78",
         "last_name": "Sanchez-Torres",
         "orcid_id": [
          "0000-0002-0047-9459"
         ],
         "research_orgs": [
          "grid.258806.1",
          "grid.264756.4",
          "grid.411595.d"
         ]
        }
       ]
      },
      "text/plain": [
       "<dimcli.dimensions.Result object>"
      ]
     },
     "execution_count": 8,
     "metadata": {
      "application/json": {
       "expanded": false,
       "root": "root"
      }
     },
     "output_type": "execute_result"
    }
   ],
   "source": [
    "%%dsl_query \n",
    "search publications\n",
    "where year in [2013:2018] and research_orgs=\"grid.258806.1\"\n",
    "return researchers limit 1000"
   ]
  },
  {
   "cell_type": "code",
   "execution_count": null,
   "metadata": {},
   "outputs": [],
   "source": []
  }
 ],
 "metadata": {
  "kernelspec": {
   "display_name": "Python 3",
   "language": "python",
   "name": "python3"
  },
  "language_info": {
   "codemirror_mode": {
    "name": "ipython",
    "version": 3
   },
   "file_extension": ".py",
   "mimetype": "text/x-python",
   "name": "python",
   "nbconvert_exporter": "python",
   "pygments_lexer": "ipython3",
   "version": "3.7.2"
  }
 },
 "nbformat": 4,
 "nbformat_minor": 2
}
